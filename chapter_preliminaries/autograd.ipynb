{
 "cells": [
  {
   "cell_type": "code",
   "execution_count": null,
   "id": "f83c7f68",
   "metadata": {},
   "outputs": [],
   "source": [
    "%load_ext d2lbook.tab\n",
    "tab.interact_select(['mxnet', 'pytorch', 'tensorflow', 'jax'])"
   ]
  },
  {
   "cell_type": "markdown",
   "id": "2eaf081d",
   "metadata": {},
   "source": [
    "# Automatic Differentiation\n",
    ":label:`sec_autograd`\n",
    "\n",
    "Recall from :numref:`sec_calculus` \n",
    "that calculating derivatives is the crucial step\n",
    "in all the optimization algorithms\n",
    "that we will use to train deep networks.\n",
    "While the calculations are straightforward,\n",
    "working them out by hand can be tedious and error-prone, \n",
    "and these issues only grow\n",
    "as our models become more complex.\n",
    "\n",
    "Fortunately all modern deep learning frameworks\n",
    "take this work off our plates\n",
    "by offering *automatic differentiation*\n",
    "(often shortened to *autograd*). \n",
    "As we pass data through each successive function,\n",
    "the framework builds a *computational graph* \n",
    "that tracks how each value depends on others.\n",
    "To calculate derivatives, \n",
    "automatic differentiation \n",
    "works backwards through this graph\n",
    "applying the chain rule. \n",
    "The computational algorithm for applying the chain rule\n",
    "in this fashion is called *backpropagation*.\n",
    "\n",
    "While autograd libraries have become\n",
    "a hot concern over the past decade,\n",
    "they have a long history. \n",
    "In fact the earliest references to autograd\n",
    "date back over half of a century :cite:`Wengert.1964`.\n",
    "The core ideas behind modern backpropagation\n",
    "date to a PhD thesis from 1980 :cite:`Speelpenning.1980`\n",
    "and were further developed in the late 1980s :cite:`Griewank.1989`.\n",
    "While backpropagation has become the default method \n",
    "for computing gradients, it is not the only option. \n",
    "For instance, the Julia programming language employs \n",
    "forward propagation :cite:`Revels.Lubin.Papamarkou.2016`. \n",
    "Before exploring methods, \n",
    "let's first master the autograd package."
   ]
  },
  {
   "cell_type": "code",
   "execution_count": null,
   "id": "f3ed23ce",
   "metadata": {},
   "outputs": [],
   "source": [
    "%%tab mxnet\n",
    "from mxnet import autograd, np, npx\n",
    "npx.set_np()"
   ]
  },
  {
   "cell_type": "code",
   "execution_count": null,
   "id": "90e9bd45",
   "metadata": {},
   "outputs": [],
   "source": [
    "%%tab pytorch\n",
    "import torch"
   ]
  },
  {
   "cell_type": "code",
   "execution_count": null,
   "id": "c277ed72",
   "metadata": {},
   "outputs": [],
   "source": [
    "%%tab tensorflow\n",
    "import tensorflow as tf"
   ]
  },
  {
   "cell_type": "code",
   "execution_count": null,
   "id": "00ec1b3a",
   "metadata": {},
   "outputs": [],
   "source": [
    "%%tab jax\n",
    "from jax import numpy as jnp"
   ]
  },
  {
   "cell_type": "markdown",
   "id": "e02e75f5",
   "metadata": {},
   "source": [
    "## A Simple Function\n",
    "\n",
    "Let's assume that we are interested\n",
    "in (**differentiating the function\n",
    "$y = 2\\mathbf{x}^{\\top}\\mathbf{x}$\n",
    "with respect to the column vector $\\mathbf{x}$.**)\n",
    "To start, we assign `x` an initial value."
   ]
  },
  {
   "cell_type": "code",
   "execution_count": 1,
   "id": "76d511aa",
   "metadata": {
    "attributes": {
     "classes": [],
     "id": "",
     "n": "1"
    }
   },
   "outputs": [],
   "source": [
    "%%tab mxnet\n",
    "x = np.arange(4.0)\n",
    "x"
   ]
  },
  {
   "cell_type": "code",
   "execution_count": 7,
   "id": "80ea81b0",
   "metadata": {
    "attributes": {
     "classes": [],
     "id": "",
     "n": "7"
    }
   },
   "outputs": [],
   "source": [
    "%%tab pytorch\n",
    "x = torch.arange(4.0)\n",
    "x"
   ]
  },
  {
   "cell_type": "code",
   "execution_count": null,
   "id": "c63a0c8e",
   "metadata": {},
   "outputs": [],
   "source": [
    "%%tab tensorflow\n",
    "x = tf.range(4, dtype=tf.float32)\n",
    "x"
   ]
  },
  {
   "cell_type": "code",
   "execution_count": null,
   "id": "c3f15e91",
   "metadata": {},
   "outputs": [],
   "source": [
    "%%tab jax\n",
    "x = jnp.arange(4.0)\n",
    "x"
   ]
  },
  {
   "cell_type": "markdown",
   "id": "1e882272",
   "metadata": {},
   "source": [
    ":begin_tab:`mxnet, pytorch, tensorflow`\n",
    "[**Before we calculate the gradient\n",
    "of $y$ with respect to $\\mathbf{x}$,\n",
    "we need a place to store it.**]\n",
    "In general, we avoid allocating new memory\n",
    "every time we take a derivative \n",
    "because deep learning requires \n",
    "successively computing derivatives\n",
    "with respect to the same parameters\n",
    "a great many times,\n",
    "and we might risk running out of memory.\n",
    "Note that the gradient of a scalar-valued function\n",
    "with respect to a vector $\\mathbf{x}$\n",
    "is vector-valued with \n",
    "the same shape as $\\mathbf{x}$.\n",
    ":end_tab:"
   ]
  },
  {
   "cell_type": "code",
   "execution_count": 8,
   "id": "6b063c4d",
   "metadata": {
    "attributes": {
     "classes": [],
     "id": "",
     "n": "8"
    }
   },
   "outputs": [],
   "source": [
    "%%tab mxnet\n",
    "# We allocate memory for a tensor's gradient by invoking `attach_grad`\n",
    "x.attach_grad()\n",
    "# After we calculate a gradient taken with respect to `x`, we will be able to\n",
    "# access it via the `grad` attribute, whose values are initialized with 0s\n",
    "x.grad"
   ]
  },
  {
   "cell_type": "code",
   "execution_count": 9,
   "id": "3e326273",
   "metadata": {
    "attributes": {
     "classes": [],
     "id": "",
     "n": "9"
    }
   },
   "outputs": [],
   "source": [
    "%%tab pytorch\n",
    "# Can also create x = torch.arange(4.0, requires_grad=True)\n",
    "x.requires_grad_(True)\n",
    "x.grad  # The gradient is None by default"
   ]
  },
  {
   "cell_type": "code",
   "execution_count": null,
   "id": "7555b580",
   "metadata": {},
   "outputs": [],
   "source": [
    "%%tab tensorflow\n",
    "x = tf.Variable(x)"
   ]
  },
  {
   "cell_type": "markdown",
   "id": "f86c4a9e",
   "metadata": {},
   "source": [
    "(**We now calculate our function of `x` and assign the result to `y`.**)"
   ]
  },
  {
   "cell_type": "code",
   "execution_count": 10,
   "id": "6f3c7355",
   "metadata": {
    "attributes": {
     "classes": [],
     "id": "",
     "n": "10"
    }
   },
   "outputs": [],
   "source": [
    "%%tab mxnet\n",
    "# Our code is inside an `autograd.record` scope to build the computational\n",
    "# graph\n",
    "with autograd.record():\n",
    "    y = 2 * np.dot(x, x)\n",
    "y"
   ]
  },
  {
   "cell_type": "code",
   "execution_count": 11,
   "id": "7cdff39f",
   "metadata": {
    "attributes": {
     "classes": [],
     "id": "",
     "n": "11"
    }
   },
   "outputs": [],
   "source": [
    "%%tab pytorch\n",
    "y = 2 * torch.dot(x, x)\n",
    "y"
   ]
  },
  {
   "cell_type": "code",
   "execution_count": null,
   "id": "b9bdef1b",
   "metadata": {},
   "outputs": [],
   "source": [
    "%%tab tensorflow\n",
    "# Record all computations onto a tape\n",
    "with tf.GradientTape() as t:\n",
    "    y = 2 * tf.tensordot(x, x, axes=1)\n",
    "y"
   ]
  },
  {
   "cell_type": "code",
   "execution_count": null,
   "id": "cd1528b4",
   "metadata": {},
   "outputs": [],
   "source": [
    "%%tab jax\n",
    "y = lambda x: 2 * jnp.dot(x, x)\n",
    "y(x)"
   ]
  },
  {
   "cell_type": "markdown",
   "id": "017400a2",
   "metadata": {},
   "source": [
    ":begin_tab:`mxnet`\n",
    "[**We can now take the gradient of `y`\n",
    "with respect to `x`**] by calling \n",
    "its `backward` method.\n",
    "Next, we can access the gradient \n",
    "via `x`'s `grad` attribute.\n",
    ":end_tab:\n",
    "\n",
    ":begin_tab:`pytorch`\n",
    "[**We can now take the gradient of `y`\n",
    "with respect to `x`**] by calling \n",
    "its `backward` method.\n",
    "Next, we can access the gradient \n",
    "via `x`'s `grad` attribute.\n",
    ":end_tab:\n",
    "\n",
    ":begin_tab:`tensorflow`\n",
    "[**We can now calculate the gradient of `y`\n",
    "with respect to `x`**] by calling \n",
    "the `gradient` method.\n",
    ":end_tab:\n",
    "\n",
    ":begin_tab:`jax`\n",
    "[**We can now take the gradient of `y`\n",
    "with respect to `x`**] by passing through the\n",
    "`grad` transform.\n",
    ":end_tab:"
   ]
  },
  {
   "cell_type": "code",
   "execution_count": null,
   "id": "439c65de",
   "metadata": {},
   "outputs": [],
   "source": [
    "%%tab mxnet\n",
    "y.backward()\n",
    "x.grad"
   ]
  },
  {
   "cell_type": "code",
   "execution_count": 12,
   "id": "1e27649b",
   "metadata": {
    "attributes": {
     "classes": [],
     "id": "",
     "n": "12"
    }
   },
   "outputs": [],
   "source": [
    "%%tab pytorch\n",
    "y.backward()\n",
    "x.grad"
   ]
  },
  {
   "cell_type": "code",
   "execution_count": null,
   "id": "00a1a367",
   "metadata": {},
   "outputs": [],
   "source": [
    "%%tab tensorflow\n",
    "x_grad = t.gradient(y, x)\n",
    "x_grad"
   ]
  },
  {
   "cell_type": "code",
   "execution_count": null,
   "id": "fb2997af",
   "metadata": {},
   "outputs": [],
   "source": [
    "%%tab jax\n",
    "from jax import grad\n",
    "# The `grad` transform returns a Python function that\n",
    "# computes the gradient of the original function\n",
    "x_grad = grad(y)(x)\n",
    "x_grad"
   ]
  },
  {
   "cell_type": "markdown",
   "id": "bdc55407",
   "metadata": {},
   "source": [
    "(**We already know that the gradient of the function $y = 2\\mathbf{x}^{\\top}\\mathbf{x}$\n",
    "with respect to $\\mathbf{x}$ should be $4\\mathbf{x}$.**)\n",
    "We can now verify that the automatic gradient computation\n",
    "and the expected result are identical."
   ]
  },
  {
   "cell_type": "code",
   "execution_count": 13,
   "id": "5a97310e",
   "metadata": {
    "attributes": {
     "classes": [],
     "id": "",
     "n": "13"
    }
   },
   "outputs": [],
   "source": [
    "%%tab mxnet\n",
    "x.grad == 4 * x"
   ]
  },
  {
   "cell_type": "code",
   "execution_count": 14,
   "id": "d2341710",
   "metadata": {
    "attributes": {
     "classes": [],
     "id": "",
     "n": "14"
    }
   },
   "outputs": [],
   "source": [
    "%%tab pytorch\n",
    "x.grad == 4 * x"
   ]
  },
  {
   "cell_type": "code",
   "execution_count": null,
   "id": "2dc95c94",
   "metadata": {},
   "outputs": [],
   "source": [
    "%%tab tensorflow\n",
    "x_grad == 4 * x"
   ]
  },
  {
   "cell_type": "code",
   "execution_count": null,
   "id": "4757d3cd",
   "metadata": {},
   "outputs": [],
   "source": [
    "%%tab jax\n",
    "x_grad == 4 * x"
   ]
  },
  {
   "cell_type": "markdown",
   "id": "b9849008",
   "metadata": {},
   "source": [
    ":begin_tab:`mxnet`\n",
    "[**Now let's calculate \n",
    "another function of `x`\n",
    "and take its gradient.**] \n",
    "Note that MXNet resets the gradient buffer \n",
    "whenever we record a new gradient. \n",
    ":end_tab:\n",
    "\n",
    ":begin_tab:`pytorch`\n",
    "[**Now let's calculate \n",
    "another function of `x`\n",
    "and take its gradient.**]\n",
    "Note that PyTorch does not automatically \n",
    "reset the gradient buffer \n",
    "when we record a new gradient. \n",
    "Instead, the new gradient\n",
    "is added to the already-stored gradient.\n",
    "This behavior comes in handy\n",
    "when we want to optimize the sum \n",
    "of multiple objective functions.\n",
    "To reset the gradient buffer,\n",
    "we can call `x.grad.zero_()` as follows:\n",
    ":end_tab:\n",
    "\n",
    ":begin_tab:`tensorflow`\n",
    "[**Now let's calculate \n",
    "another function of `x`\n",
    "and take its gradient.**]\n",
    "Note that TensorFlow resets the gradient buffer \n",
    "whenever we record a new gradient. \n",
    ":end_tab:"
   ]
  },
  {
   "cell_type": "code",
   "execution_count": null,
   "id": "b8e7a1da",
   "metadata": {},
   "outputs": [],
   "source": [
    "%%tab mxnet\n",
    "with autograd.record():\n",
    "    y = x.sum()\n",
    "y.backward()\n",
    "x.grad  # Overwritten by the newly calculated gradient"
   ]
  },
  {
   "cell_type": "code",
   "execution_count": 20,
   "id": "04692cf3",
   "metadata": {
    "attributes": {
     "classes": [],
     "id": "",
     "n": "20"
    }
   },
   "outputs": [],
   "source": [
    "%%tab pytorch\n",
    "x.grad.zero_()  # Reset the gradient\n",
    "y = x.sum()\n",
    "y.backward()\n",
    "x.grad"
   ]
  },
  {
   "cell_type": "code",
   "execution_count": null,
   "id": "422595fe",
   "metadata": {},
   "outputs": [],
   "source": [
    "%%tab tensorflow\n",
    "with tf.GradientTape() as t:\n",
    "    y = tf.reduce_sum(x)\n",
    "t.gradient(y, x)  # Overwritten by the newly calculated gradient"
   ]
  },
  {
   "cell_type": "code",
   "execution_count": null,
   "id": "75052965",
   "metadata": {},
   "outputs": [],
   "source": [
    "%%tab jax\n",
    "y = lambda x: x.sum()\n",
    "grad(y)(x)"
   ]
  },
  {
   "cell_type": "markdown",
   "id": "610f5b72",
   "metadata": {},
   "source": [
    "## Backward for Non-Scalar Variables\n",
    "\n",
    "When `y` is a vector, \n",
    "the most natural representation \n",
    "of the derivative of  `y`\n",
    "with respect to a vector `x` \n",
    "is a matrix called the *Jacobian*\n",
    "that contains the partial derivatives\n",
    "of each component of `y` \n",
    "with respect to each component of `x`.\n",
    "Likewise, for higher-order `y` and `x`,\n",
    "the result of differentiation could be an even higher-order tensor.\n",
    "\n",
    "While Jacobians do show up in some\n",
    "advanced machine learning techniques,\n",
    "more commonly we want to sum up \n",
    "the gradients of each component of `y`\n",
    "with respect to the full vector `x`,\n",
    "yielding a vector of the same shape as `x`.\n",
    "For example, we often have a vector \n",
    "representing the value of our loss function\n",
    "calculated separately for each example among\n",
    "a *batch* of training examples.\n",
    "Here, we just want to (**sum up the gradients\n",
    "computed individually for each example**).\n",
    "\n",
    ":begin_tab:`mxnet`\n",
    "MXNet handles this problem by reducing all tensors to scalars \n",
    "by summing before computing a gradient. \n",
    "In other words, rather than returning the Jacobian \n",
    "$\\partial_{\\mathbf{x}} \\mathbf{y}$,\n",
    "it returns the gradient of the sum\n",
    "$\\partial_{\\mathbf{x}} \\sum_i y_i$. \n",
    ":end_tab:\n",
    "\n",
    ":begin_tab:`pytorch`\n",
    "Because deep learning frameworks vary \n",
    "in how they interpret gradients of\n",
    "non-scalar tensors,\n",
    "PyTorch takes some steps to avoid confusion.\n",
    "Invoking `backward` on a non-scalar elicits an error \n",
    "unless we tell PyTorch how to reduce the object to a scalar. \n",
    "More formally, we need to provide some vector $\\mathbf{v}$ \n",
    "such that `backward` will compute \n",
    "$\\mathbf{v}^\\top \\partial_{\\mathbf{x}} \\mathbf{y}$ \n",
    "rather than $\\partial_{\\mathbf{x}} \\mathbf{y}$. \n",
    "This next part may be confusing,\n",
    "but for reasons that will become clear later, \n",
    "this argument (representing $\\mathbf{v}$) is named `gradient`. \n",
    "For a more detailed description, see Yang Zhang's \n",
    "[Medium post](https://zhang-yang.medium.com/the-gradient-argument-in-pytorchs-backward-function-explained-by-examples-68f266950c29). \n",
    ":end_tab:\n",
    "\n",
    ":begin_tab:`tensorflow`\n",
    "By default, TensorFlow returns the gradient of the sum.\n",
    "In other words, rather than returning \n",
    "the Jacobian $\\partial_{\\mathbf{x}} \\mathbf{y}$,\n",
    "it returns the gradient of the sum\n",
    "$\\partial_{\\mathbf{x}} \\sum_i y_i$. \n",
    ":end_tab:"
   ]
  },
  {
   "cell_type": "code",
   "execution_count": null,
   "id": "20ab08ca",
   "metadata": {},
   "outputs": [],
   "source": [
    "%%tab mxnet\n",
    "with autograd.record():\n",
    "    y = x * x  \n",
    "y.backward()\n",
    "x.grad  # Equals the gradient of y = sum(x * x)"
   ]
  },
  {
   "cell_type": "code",
   "execution_count": null,
   "id": "a7a41f7d",
   "metadata": {},
   "outputs": [],
   "source": [
    "%%tab pytorch\n",
    "x.grad.zero_()\n",
    "y = x * x\n",
    "y.backward(gradient=torch.ones(len(y)))  # Faster: y.sum().backward()\n",
    "x.grad"
   ]
  },
  {
   "cell_type": "code",
   "execution_count": null,
   "id": "c5ee435b",
   "metadata": {},
   "outputs": [],
   "source": [
    "%%tab tensorflow\n",
    "with tf.GradientTape() as t:\n",
    "    y = x * x\n",
    "t.gradient(y, x)  # Same as y = tf.reduce_sum(x * x)"
   ]
  },
  {
   "cell_type": "code",
   "execution_count": null,
   "id": "860f98b7",
   "metadata": {},
   "outputs": [],
   "source": [
    "%%tab jax\n",
    "y = lambda x: x * x\n",
    "# grad is only defined for scalar output functions\n",
    "grad(lambda x: y(x).sum())(x)"
   ]
  },
  {
   "cell_type": "markdown",
   "id": "6eebc3b6",
   "metadata": {},
   "source": [
    "## Detaching Computation\n",
    "\n",
    "Sometimes, we wish to [**move some calculations\n",
    "outside of the recorded computational graph.**]\n",
    "For example, say that we use the input \n",
    "to create some auxiliary intermediate terms \n",
    "for which we do not want to compute a gradient. \n",
    "In this case, we need to *detach* \n",
    "the respective computational graph\n",
    "from the final result. \n",
    "The following toy example makes this clearer: \n",
    "suppose we have `z = x * y` and `y = x * x` \n",
    "but we want to focus on the *direct* influence of `x` on `z` \n",
    "rather than the influence conveyed via `y`. \n",
    "In this case, we can create a new variable `u`\n",
    "that takes the same value as `y` \n",
    "but whose *provenance* (how it was created)\n",
    "has been wiped out.\n",
    "Thus `u` has no ancestors in the graph\n",
    "and gradients do not flow through `u` to `x`.\n",
    "For example, taking the gradient of `z = x * u`\n",
    "will yield the result `u`,\n",
    "(not `3 * x * x` as you might have \n",
    "expected since `z = x * x * x`)."
   ]
  },
  {
   "cell_type": "code",
   "execution_count": null,
   "id": "d9e01663",
   "metadata": {},
   "outputs": [],
   "source": [
    "%%tab mxnet\n",
    "with autograd.record():\n",
    "    y = x * x\n",
    "    u = y.detach()\n",
    "    z = u * x\n",
    "z.backward()\n",
    "x.grad == u"
   ]
  },
  {
   "cell_type": "code",
   "execution_count": 21,
   "id": "f9ee2590",
   "metadata": {
    "attributes": {
     "classes": [],
     "id": "",
     "n": "21"
    }
   },
   "outputs": [],
   "source": [
    "%%tab pytorch\n",
    "x.grad.zero_()\n",
    "y = x * x\n",
    "u = y.detach()\n",
    "z = u * x\n",
    "\n",
    "z.sum().backward()\n",
    "x.grad == u"
   ]
  },
  {
   "cell_type": "code",
   "execution_count": null,
   "id": "cbc0c3b2",
   "metadata": {},
   "outputs": [],
   "source": [
    "%%tab tensorflow\n",
    "# Set persistent=True to preserve the compute graph. \n",
    "# This lets us run t.gradient more than once\n",
    "with tf.GradientTape(persistent=True) as t:\n",
    "    y = x * x\n",
    "    u = tf.stop_gradient(y)\n",
    "    z = u * x\n",
    "\n",
    "x_grad = t.gradient(z, x)\n",
    "x_grad == u"
   ]
  },
  {
   "cell_type": "code",
   "execution_count": null,
   "id": "d1ba07fe",
   "metadata": {},
   "outputs": [],
   "source": [
    "%%tab jax\n",
    "import jax\n",
    "\n",
    "y = lambda x: x * x\n",
    "# jax.lax primitives are Python wrappers around XLA operations\n",
    "u = jax.lax.stop_gradient(y(x))\n",
    "z = lambda x: u * x\n",
    "\n",
    "grad(lambda x: z(x).sum())(x) == y(x)"
   ]
  },
  {
   "cell_type": "markdown",
   "id": "848e0426",
   "metadata": {},
   "source": [
    "Note that while this procedure\n",
    "detaches `y`'s ancestors\n",
    "from the graph leading to `z`, \n",
    "the computational graph leading to `y` \n",
    "persists and thus we can calculate\n",
    "the gradient of `y` with respect to `x`."
   ]
  },
  {
   "cell_type": "code",
   "execution_count": null,
   "id": "9edfa2a7",
   "metadata": {},
   "outputs": [],
   "source": [
    "%%tab mxnet\n",
    "y.backward()\n",
    "x.grad == 2 * x"
   ]
  },
  {
   "cell_type": "code",
   "execution_count": null,
   "id": "81b5f392",
   "metadata": {},
   "outputs": [],
   "source": [
    "%%tab pytorch\n",
    "x.grad.zero_()\n",
    "y.sum().backward()\n",
    "x.grad == 2 * x"
   ]
  },
  {
   "cell_type": "code",
   "execution_count": null,
   "id": "ed5930c8",
   "metadata": {},
   "outputs": [],
   "source": [
    "%%tab tensorflow\n",
    "t.gradient(y, x) == 2 * x"
   ]
  },
  {
   "cell_type": "code",
   "execution_count": null,
   "id": "d0cc75e7",
   "metadata": {},
   "outputs": [],
   "source": [
    "%%tab jax\n",
    "grad(lambda x: y(x).sum())(x) == 2 * x"
   ]
  },
  {
   "cell_type": "markdown",
   "id": "188f3a33",
   "metadata": {},
   "source": [
    "## Gradients and Python Control Flow\n",
    "\n",
    "So far we reviewed cases where the path from input to output \n",
    "was well defined via a function such as `z = x * x * x`.\n",
    "Programming offers us a lot more freedom in how we compute results. \n",
    "For instance, we can make them depend on auxiliary variables \n",
    "or condition choices on intermediate results. \n",
    "One benefit of using automatic differentiation\n",
    "is that [**even if**] building the computational graph of \n",
    "(**a function required passing through a maze of Python control flow**)\n",
    "(e.g., conditionals, loops, and arbitrary function calls),\n",
    "(**we can still calculate the gradient of the resulting variable.**)\n",
    "To illustrate this, consider the following code snippet where \n",
    "the number of iterations of the `while` loop\n",
    "and the evaluation of the `if` statement\n",
    "both depend on the value of the input `a`."
   ]
  },
  {
   "cell_type": "code",
   "execution_count": null,
   "id": "b4f422b7",
   "metadata": {},
   "outputs": [],
   "source": [
    "%%tab mxnet\n",
    "def f(a):\n",
    "    b = a * 2\n",
    "    while np.linalg.norm(b) < 1000:\n",
    "        b = b * 2\n",
    "    if b.sum() > 0:\n",
    "        c = b\n",
    "    else:\n",
    "        c = 100 * b\n",
    "    return c"
   ]
  },
  {
   "cell_type": "code",
   "execution_count": null,
   "id": "68d181ae",
   "metadata": {},
   "outputs": [],
   "source": [
    "%%tab pytorch\n",
    "def f(a):\n",
    "    b = a * 2\n",
    "    while b.norm() < 1000:\n",
    "        b = b * 2\n",
    "    if b.sum() > 0:\n",
    "        c = b\n",
    "    else:\n",
    "        c = 100 * b\n",
    "    return c"
   ]
  },
  {
   "cell_type": "code",
   "execution_count": null,
   "id": "671a0c59",
   "metadata": {},
   "outputs": [],
   "source": [
    "%%tab tensorflow\n",
    "def f(a):\n",
    "    b = a * 2\n",
    "    while tf.norm(b) < 1000:\n",
    "        b = b * 2\n",
    "    if tf.reduce_sum(b) > 0:\n",
    "        c = b\n",
    "    else:\n",
    "        c = 100 * b\n",
    "    return c"
   ]
  },
  {
   "cell_type": "code",
   "execution_count": null,
   "id": "1455e9ca",
   "metadata": {},
   "outputs": [],
   "source": [
    "%%tab jax\n",
    "def f(a):\n",
    "    b = a * 2\n",
    "    while jnp.linalg.norm(b) < 1000:\n",
    "        b = b * 2\n",
    "    if b.sum() > 0:\n",
    "        c = b\n",
    "    else:\n",
    "        c = 100 * b\n",
    "    return c"
   ]
  },
  {
   "cell_type": "markdown",
   "id": "106fd1e3",
   "metadata": {},
   "source": [
    "Below, we call this function, passing in a random value, as input.\n",
    "Since the input is a random variable, \n",
    "we do not know what form \n",
    "the computational graph will take.\n",
    "However, whenever we execute `f(a)` \n",
    "on a specific input, we realize \n",
    "a specific computational graph\n",
    "and can subsequently run `backward`."
   ]
  },
  {
   "cell_type": "code",
   "execution_count": null,
   "id": "546c3b18",
   "metadata": {},
   "outputs": [],
   "source": [
    "%%tab mxnet\n",
    "a = np.random.normal()\n",
    "a.attach_grad()\n",
    "with autograd.record():\n",
    "    d = f(a)\n",
    "d.backward()"
   ]
  },
  {
   "cell_type": "code",
   "execution_count": null,
   "id": "06815b6c",
   "metadata": {},
   "outputs": [],
   "source": [
    "%%tab pytorch\n",
    "a = torch.randn(size=(), requires_grad=True)\n",
    "d = f(a)\n",
    "d.backward()"
   ]
  },
  {
   "cell_type": "code",
   "execution_count": null,
   "id": "62c0ade8",
   "metadata": {},
   "outputs": [],
   "source": [
    "%%tab tensorflow\n",
    "a = tf.Variable(tf.random.normal(shape=()))\n",
    "with tf.GradientTape() as t:\n",
    "    d = f(a)\n",
    "d_grad = t.gradient(d, a)\n",
    "d_grad"
   ]
  },
  {
   "cell_type": "code",
   "execution_count": null,
   "id": "37ab782c",
   "metadata": {},
   "outputs": [],
   "source": [
    "%%tab jax\n",
    "from jax import random\n",
    "a = random.normal(random.PRNGKey(1), ())\n",
    "d = f(a)\n",
    "d_grad = grad(f)(a)"
   ]
  },
  {
   "cell_type": "markdown",
   "id": "f3842277",
   "metadata": {},
   "source": [
    "Even though our function `f` is, for demonstration purposes, a bit contrived,\n",
    "its dependence on the input is quite simple: \n",
    "it is a *linear* function of `a` \n",
    "with piecewise defined scale. \n",
    "As such, `f(a) / a` is a vector of constant entries \n",
    "and, moreover, `f(a) / a` needs to match \n",
    "the gradient of `f(a)` with respect to `a`."
   ]
  },
  {
   "cell_type": "code",
   "execution_count": null,
   "id": "f6bd0bfb",
   "metadata": {},
   "outputs": [],
   "source": [
    "%%tab mxnet\n",
    "a.grad == d / a"
   ]
  },
  {
   "cell_type": "code",
   "execution_count": null,
   "id": "18272824",
   "metadata": {},
   "outputs": [],
   "source": [
    "%%tab pytorch\n",
    "a.grad == d / a"
   ]
  },
  {
   "cell_type": "code",
   "execution_count": null,
   "id": "f6f6319b",
   "metadata": {},
   "outputs": [],
   "source": [
    "%%tab tensorflow\n",
    "d_grad == d / a"
   ]
  },
  {
   "cell_type": "code",
   "execution_count": null,
   "id": "4c5bc33d",
   "metadata": {},
   "outputs": [],
   "source": [
    "%%tab jax\n",
    "d_grad == d / a"
   ]
  },
  {
   "cell_type": "markdown",
   "id": "24fbf726",
   "metadata": {},
   "source": [
    "Dynamic control flow is very common in deep learning. \n",
    "For instance, when processing text, the computational graph\n",
    "depends on the length of the input. \n",
    "In these cases, automatic differentiation \n",
    "becomes vital for statistical modeling \n",
    "since it is impossible to compute the gradient *a priori*. \n",
    "\n",
    "## Discussion\n",
    "\n",
    "You have now gotten a taste of the power of automatic differentiation. \n",
    "The development of libraries for calculating derivatives\n",
    "both automatically and efficiently \n",
    "has been a massive productivity booster\n",
    "for deep learning practitioners,\n",
    "liberating them so they can focus on less menial.\n",
    "Moreover, autograd lets us design massive models\n",
    "for which pen and paper gradient computations \n",
    "would be prohibitively time consuming.\n",
    "Interestingly, while we use autograd to *optimize* models\n",
    "(in a statistical sense)\n",
    "the *optimization* of autograd libraries themselves\n",
    "(in a computational sense)\n",
    "is a rich subject\n",
    "of vital interest to framework designers.\n",
    "Here, tools from compilers and graph manipulation \n",
    "are leveraged to compute results \n",
    "in the most expedient and memory-efficient manner. \n",
    "\n",
    "For now, try to remember these basics: (i) attach gradients to those variables with respect to which we desire derivatives; (ii) record the computation of the target value; (iii) execute the backpropagation function; and  (iv) access the resulting gradient.\n",
    "\n",
    "\n",
    "## Exercises\n",
    "\n",
    "1. Why is the second derivative much more expensive to compute than the first derivative?\n",
    "1. After running the function for backpropagation, immediately run it again and see what happens. Investigate.\n",
    "1. In the control flow example where we calculate the derivative of `d` with respect to `a`, what would happen if we changed the variable `a` to a random vector or a matrix? At this point, the result of the calculation `f(a)` is no longer a scalar. What happens to the result? How do we analyze this?\n",
    "1. Let $f(x) = \\sin(x)$. Plot the graph of $f$ and of its derivative $f'$. Do not exploit the fact that $f'(x) = \\cos(x)$ but rather use automatic differentiation to get the result. \n",
    "1. Let $f(x) = ((\\log x^2) \\cdot \\sin x) + x^{-1}$. Write out a dependency graph tracing results from $x$ to $f(x)$. \n",
    "1. Use the chain rule to compute the derivative $\\frac{df}{dx}$ of the aforementioned function, placing each term on the dependency graph that you constructed previously. \n",
    "1. Given the graph and the intermediate derivative results, you have a number of options when computing the gradient. Evaluate the result once starting from $x$ to $f$ and once from $f$ tracing back to $x$. The path from $x$ to $f$ is commonly known as *forward differentiation*, whereas the path from $f$ to $x$ is known as backward differentiation. \n",
    "1. When might you want to use forward, and when backward, differentiation? Hint: consider the amount of intermediate data needed, the ability to parallelize steps, and the size of matrices and vectors involved. \n",
    "\n",
    ":begin_tab:`mxnet`\n",
    "[Discussions](https://discuss.d2l.ai/t/34)\n",
    ":end_tab:\n",
    "\n",
    ":begin_tab:`pytorch`\n",
    "[Discussions](https://discuss.d2l.ai/t/35)\n",
    ":end_tab:\n",
    "\n",
    ":begin_tab:`tensorflow`\n",
    "[Discussions](https://discuss.d2l.ai/t/200)\n",
    ":end_tab:\n",
    "\n",
    ":begin_tab:`jax`\n",
    "[Discussions](https://discuss.d2l.ai/t/17970)\n",
    ":end_tab:"
   ]
  }
 ],
 "metadata": {},
 "nbformat": 4,
 "nbformat_minor": 5
}
