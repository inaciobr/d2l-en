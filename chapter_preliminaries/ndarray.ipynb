{
 "cells": [
  {
   "cell_type": "code",
   "execution_count": null,
   "id": "ab3d428d",
   "metadata": {},
   "outputs": [],
   "source": [
    "%load_ext d2lbook.tab\n",
    "tab.interact_select(['mxnet', 'pytorch', 'tensorflow', 'jax'])"
   ]
  },
  {
   "cell_type": "markdown",
   "id": "ec215cfe",
   "metadata": {},
   "source": [
    "# Data Manipulation\n",
    ":label:`sec_ndarray`\n",
    "\n",
    "In order to get anything done, \n",
    "we need some way to store and manipulate data.\n",
    "Generally, there are two important things \n",
    "we need to do with data: \n",
    "(i) acquire them; \n",
    "and (ii) process them once they are inside the computer. \n",
    "There is no point in acquiring data \n",
    "without some way to store it, \n",
    "so to start, let's get our hands dirty\n",
    "with $n$-dimensional arrays, \n",
    "which we also call *tensors*.\n",
    "If you already know the NumPy \n",
    "scientific computing package, \n",
    "this will be a breeze.\n",
    "For all modern deep learning frameworks,\n",
    "the *tensor class* (`ndarray` in MXNet, \n",
    "`Tensor` in PyTorch and TensorFlow) \n",
    "resembles NumPy's `ndarray`,\n",
    "with a few killer features added.\n",
    "First, the tensor class\n",
    "supports automatic differentiation.\n",
    "Second, it leverages GPUs\n",
    "to accelerate numerical computation,\n",
    "whereas NumPy only runs on CPUs.\n",
    "These properties make neural networks\n",
    "both easy to code and fast to run.\n",
    "\n",
    "\n",
    "\n",
    "## Getting Started\n",
    "\n",
    ":begin_tab:`mxnet`\n",
    "To start, we import the `np` (`numpy`) and\n",
    "`npx` (`numpy_extension`) modules from MXNet.\n",
    "Here, the `np` module includes \n",
    "functions supported by NumPy,\n",
    "while the `npx` module contains a set of extensions\n",
    "developed to empower deep learning \n",
    "within a NumPy-like environment.\n",
    "When using tensors, we almost always \n",
    "invoke the `set_np` function:\n",
    "this is for compatibility of tensor processing \n",
    "by other components of MXNet.\n",
    ":end_tab:\n",
    "\n",
    ":begin_tab:`pytorch`\n",
    "(**To start, we import the PyTorch library.\n",
    "Note that the package name is `torch`.**)\n",
    ":end_tab:\n",
    "\n",
    ":begin_tab:`tensorflow`\n",
    "To start, we import `tensorflow`. \n",
    "For brevity, practitioners \n",
    "often assign the alias `tf`.\n",
    ":end_tab:"
   ]
  },
  {
   "cell_type": "code",
   "execution_count": null,
   "id": "d42fce55",
   "metadata": {},
   "outputs": [],
   "source": [
    "%%tab mxnet\n",
    "from mxnet import np, npx\n",
    "npx.set_np()"
   ]
  },
  {
   "cell_type": "code",
   "execution_count": null,
   "id": "99bc2d36",
   "metadata": {},
   "outputs": [],
   "source": [
    "%%tab pytorch\n",
    "import torch"
   ]
  },
  {
   "cell_type": "code",
   "execution_count": null,
   "id": "7a8e45c1",
   "metadata": {},
   "outputs": [],
   "source": [
    "%%tab tensorflow\n",
    "import tensorflow as tf"
   ]
  },
  {
   "cell_type": "code",
   "execution_count": null,
   "id": "4e8abb47",
   "metadata": {},
   "outputs": [],
   "source": [
    "%%tab jax\n",
    "import jax\n",
    "from jax import numpy as jnp"
   ]
  },
  {
   "cell_type": "markdown",
   "id": "c31b294c",
   "metadata": {},
   "source": [
    "[**A tensor represents a (possibly multidimensional) array of numerical values.**]\n",
    "In the one-dimensional case, i.e., when only one axis is needed for the data,\n",
    "a tensor is called a *vector*.\n",
    "With two axes, a tensor is called a *matrix*.\n",
    "With $k > 2$ axes, we drop the specialized names\n",
    "and just refer to the object as a $k^\\textrm{th}$-*order tensor*.\n",
    "\n",
    ":begin_tab:`mxnet`\n",
    "MXNet provides a variety of functions \n",
    "for creating new tensors \n",
    "prepopulated with values. \n",
    "For example, by invoking `arange(n)`,\n",
    "we can create a vector of evenly spaced values,\n",
    "starting at 0 (included) \n",
    "and ending at `n` (not included).\n",
    "By default, the interval size is $1$.\n",
    "Unless otherwise specified, \n",
    "new tensors are stored in main memory \n",
    "and designated for CPU-based computation.\n",
    ":end_tab:\n",
    "\n",
    ":begin_tab:`pytorch`\n",
    "PyTorch provides a variety of functions \n",
    "for creating new tensors \n",
    "prepopulated with values. \n",
    "For example, by invoking `arange(n)`,\n",
    "we can create a vector of evenly spaced values,\n",
    "starting at 0 (included) \n",
    "and ending at `n` (not included).\n",
    "By default, the interval size is $1$.\n",
    "Unless otherwise specified, \n",
    "new tensors are stored in main memory \n",
    "and designated for CPU-based computation.\n",
    ":end_tab:\n",
    "\n",
    ":begin_tab:`tensorflow`\n",
    "TensorFlow provides a variety of functions \n",
    "for creating new tensors \n",
    "prepopulated with values. \n",
    "For example, by invoking `range(n)`,\n",
    "we can create a vector of evenly spaced values,\n",
    "starting at 0 (included) \n",
    "and ending at `n` (not included).\n",
    "By default, the interval size is $1$.\n",
    "Unless otherwise specified, \n",
    "new tensors are stored in main memory \n",
    "and designated for CPU-based computation.\n",
    ":end_tab:"
   ]
  },
  {
   "cell_type": "code",
   "execution_count": null,
   "id": "eaed20ff",
   "metadata": {},
   "outputs": [],
   "source": [
    "%%tab mxnet\n",
    "x = np.arange(12)\n",
    "x"
   ]
  },
  {
   "cell_type": "code",
   "execution_count": null,
   "id": "5b15c5dc",
   "metadata": {},
   "outputs": [],
   "source": [
    "%%tab pytorch\n",
    "x = torch.arange(12, dtype=torch.float32)\n",
    "x"
   ]
  },
  {
   "cell_type": "code",
   "execution_count": null,
   "id": "03c17ad5",
   "metadata": {},
   "outputs": [],
   "source": [
    "%%tab tensorflow\n",
    "x = tf.range(12, dtype=tf.float32)\n",
    "x"
   ]
  },
  {
   "cell_type": "code",
   "execution_count": null,
   "id": "c40f776a",
   "metadata": {},
   "outputs": [],
   "source": [
    "%%tab jax\n",
    "x = jnp.arange(12)\n",
    "x"
   ]
  },
  {
   "cell_type": "markdown",
   "id": "af9d93aa",
   "metadata": {},
   "source": [
    ":begin_tab:`mxnet`\n",
    "Each of these values is called\n",
    "an *element* of the tensor.\n",
    "The tensor `x` contains 12 elements.\n",
    "We can inspect the total number of elements \n",
    "in a tensor via its `size` attribute.\n",
    ":end_tab:\n",
    "\n",
    ":begin_tab:`pytorch`\n",
    "Each of these values is called\n",
    "an *element* of the tensor.\n",
    "The tensor `x` contains 12 elements.\n",
    "We can inspect the total number of elements \n",
    "in a tensor via its `numel` method.\n",
    ":end_tab:\n",
    "\n",
    ":begin_tab:`tensorflow`\n",
    "Each of these values is called\n",
    "an *element* of the tensor.\n",
    "The tensor `x` contains 12 elements.\n",
    "We can inspect the total number of elements \n",
    "in a tensor via the `size` function.\n",
    ":end_tab:"
   ]
  },
  {
   "cell_type": "code",
   "execution_count": null,
   "id": "ac319326",
   "metadata": {},
   "outputs": [],
   "source": [
    "%%tab mxnet, jax\n",
    "x.size"
   ]
  },
  {
   "cell_type": "code",
   "execution_count": null,
   "id": "38919dfc",
   "metadata": {},
   "outputs": [],
   "source": [
    "%%tab pytorch\n",
    "x.numel()"
   ]
  },
  {
   "cell_type": "code",
   "execution_count": null,
   "id": "7a9e4abc",
   "metadata": {},
   "outputs": [],
   "source": [
    "%%tab tensorflow\n",
    "tf.size(x)"
   ]
  },
  {
   "cell_type": "markdown",
   "id": "587355b5",
   "metadata": {},
   "source": [
    "(**We can access a tensor's *shape***) \n",
    "(the length along each axis)\n",
    "by inspecting its `shape` attribute.\n",
    "Because we are dealing with a vector here,\n",
    "the `shape` contains just a single element\n",
    "and is identical to the size."
   ]
  },
  {
   "cell_type": "code",
   "execution_count": null,
   "id": "fd663aa4",
   "metadata": {},
   "outputs": [],
   "source": [
    "%%tab all\n",
    "x.shape"
   ]
  },
  {
   "cell_type": "markdown",
   "id": "357efe9f",
   "metadata": {},
   "source": [
    "We can [**change the shape of a tensor\n",
    "without altering its size or values**],\n",
    "by invoking `reshape`.\n",
    "For example, we can transform \n",
    "our vector `x` whose shape is (12,) \n",
    "to a matrix `X`  with shape (3, 4).\n",
    "This new tensor retains all elements\n",
    "but reconfigures them into a matrix.\n",
    "Notice that the elements of our vector\n",
    "are laid out one row at a time and thus\n",
    "`x[3] == X[0, 3]`."
   ]
  },
  {
   "cell_type": "code",
   "execution_count": null,
   "id": "413e2e89",
   "metadata": {},
   "outputs": [],
   "source": [
    "%%tab mxnet, pytorch, jax\n",
    "X = x.reshape(3, 4)\n",
    "X"
   ]
  },
  {
   "cell_type": "code",
   "execution_count": null,
   "id": "2b87081c",
   "metadata": {},
   "outputs": [],
   "source": [
    "%%tab tensorflow\n",
    "X = tf.reshape(x, (3, 4))\n",
    "X"
   ]
  },
  {
   "cell_type": "markdown",
   "id": "2d029e69",
   "metadata": {},
   "source": [
    "Note that specifying every shape component\n",
    "to `reshape` is redundant.\n",
    "Because we already know our tensor's size,\n",
    "we can work out one component of the shape given the rest.\n",
    "For example, given a tensor of size $n$\n",
    "and target shape ($h$, $w$),\n",
    "we know that $w = n/h$.\n",
    "To automatically infer one component of the shape,\n",
    "we can place a `-1` for the shape component\n",
    "that should be inferred automatically.\n",
    "In our case, instead of calling `x.reshape(3, 4)`,\n",
    "we could have equivalently called `x.reshape(-1, 4)` or `x.reshape(3, -1)`.\n",
    "\n",
    "Practitioners often need to work with tensors\n",
    "initialized to contain all 0s or 1s.\n",
    "[**We can construct a tensor with all elements set to 0**] (~~or one~~)\n",
    "and a shape of (2, 3, 4) via the `zeros` function."
   ]
  },
  {
   "cell_type": "code",
   "execution_count": null,
   "id": "e6efef24",
   "metadata": {},
   "outputs": [],
   "source": [
    "%%tab mxnet\n",
    "np.zeros((2, 3, 4))"
   ]
  },
  {
   "cell_type": "code",
   "execution_count": null,
   "id": "2b749b7e",
   "metadata": {},
   "outputs": [],
   "source": [
    "%%tab pytorch\n",
    "torch.zeros((2, 3, 4))"
   ]
  },
  {
   "cell_type": "code",
   "execution_count": null,
   "id": "1b423fa5",
   "metadata": {},
   "outputs": [],
   "source": [
    "%%tab tensorflow\n",
    "tf.zeros((2, 3, 4))"
   ]
  },
  {
   "cell_type": "code",
   "execution_count": null,
   "id": "9d3719c8",
   "metadata": {},
   "outputs": [],
   "source": [
    "%%tab jax\n",
    "jnp.zeros((2, 3, 4))"
   ]
  },
  {
   "cell_type": "markdown",
   "id": "a6af8f8c",
   "metadata": {},
   "source": [
    "Similarly, we can create a tensor \n",
    "with all 1s by invoking `ones`."
   ]
  },
  {
   "cell_type": "code",
   "execution_count": null,
   "id": "0d84849d",
   "metadata": {},
   "outputs": [],
   "source": [
    "%%tab mxnet\n",
    "np.ones((2, 3, 4))"
   ]
  },
  {
   "cell_type": "code",
   "execution_count": null,
   "id": "6c9c2c84",
   "metadata": {},
   "outputs": [],
   "source": [
    "%%tab pytorch\n",
    "torch.ones((2, 3, 4))"
   ]
  },
  {
   "cell_type": "code",
   "execution_count": null,
   "id": "e8b02450",
   "metadata": {},
   "outputs": [],
   "source": [
    "%%tab tensorflow\n",
    "tf.ones((2, 3, 4))"
   ]
  },
  {
   "cell_type": "code",
   "execution_count": null,
   "id": "d0f65cd6",
   "metadata": {},
   "outputs": [],
   "source": [
    "%%tab jax\n",
    "jnp.ones((2, 3, 4))"
   ]
  },
  {
   "cell_type": "markdown",
   "id": "8d6ffb05",
   "metadata": {},
   "source": [
    "We often wish to \n",
    "[**sample each element randomly (and independently)**] \n",
    "from a given probability distribution.\n",
    "For example, the parameters of neural networks\n",
    "are often initialized randomly.\n",
    "The following snippet creates a tensor \n",
    "with elements drawn from \n",
    "a standard Gaussian (normal) distribution\n",
    "with mean 0 and standard deviation 1."
   ]
  },
  {
   "cell_type": "code",
   "execution_count": null,
   "id": "2fbf356e",
   "metadata": {},
   "outputs": [],
   "source": [
    "%%tab mxnet\n",
    "np.random.normal(0, 1, size=(3, 4))"
   ]
  },
  {
   "cell_type": "code",
   "execution_count": null,
   "id": "01d51196",
   "metadata": {},
   "outputs": [],
   "source": [
    "%%tab pytorch\n",
    "torch.randn(3, 4)"
   ]
  },
  {
   "cell_type": "code",
   "execution_count": null,
   "id": "ac53c1dc",
   "metadata": {},
   "outputs": [],
   "source": [
    "%%tab tensorflow\n",
    "tf.random.normal(shape=[3, 4])"
   ]
  },
  {
   "cell_type": "code",
   "execution_count": null,
   "id": "11cb288c",
   "metadata": {},
   "outputs": [],
   "source": [
    "%%tab jax\n",
    "# Any call of a random function in JAX requires a key to be\n",
    "# specified, feeding the same key to a random function will\n",
    "# always result in the same sample being generated\n",
    "jax.random.normal(jax.random.PRNGKey(0), (3, 4))"
   ]
  },
  {
   "cell_type": "markdown",
   "id": "4045e577",
   "metadata": {},
   "source": [
    "Finally, we can construct tensors by\n",
    "[**supplying the exact values for each element**] \n",
    "by supplying (possibly nested) Python list(s) \n",
    "containing numerical literals.\n",
    "Here, we construct a matrix with a list of lists,\n",
    "where the outermost list corresponds to axis 0,\n",
    "and the inner list corresponds to axis 1."
   ]
  },
  {
   "cell_type": "code",
   "execution_count": null,
   "id": "271ea658",
   "metadata": {},
   "outputs": [],
   "source": [
    "%%tab mxnet\n",
    "np.array([[2, 1, 4, 3], [1, 2, 3, 4], [4, 3, 2, 1]])"
   ]
  },
  {
   "cell_type": "code",
   "execution_count": null,
   "id": "25de1efe",
   "metadata": {},
   "outputs": [],
   "source": [
    "%%tab pytorch\n",
    "torch.tensor([[2, 1, 4, 3], [1, 2, 3, 4], [4, 3, 2, 1]])"
   ]
  },
  {
   "cell_type": "code",
   "execution_count": null,
   "id": "6cc9c62b",
   "metadata": {},
   "outputs": [],
   "source": [
    "%%tab tensorflow\n",
    "tf.constant([[2, 1, 4, 3], [1, 2, 3, 4], [4, 3, 2, 1]])"
   ]
  },
  {
   "cell_type": "code",
   "execution_count": null,
   "id": "8ee5e7ea",
   "metadata": {},
   "outputs": [],
   "source": [
    "%%tab jax\n",
    "jnp.array([[2, 1, 4, 3], [1, 2, 3, 4], [4, 3, 2, 1]])"
   ]
  },
  {
   "cell_type": "markdown",
   "id": "64723e5e",
   "metadata": {},
   "source": [
    "## Indexing and Slicing\n",
    "\n",
    "As with  Python lists,\n",
    "we can access tensor elements \n",
    "by indexing (starting with 0).\n",
    "To access an element based on its position\n",
    "relative to the end of the list,\n",
    "we can use negative indexing.\n",
    "Finally, we can access whole ranges of indices \n",
    "via slicing (e.g., `X[start:stop]`), \n",
    "where the returned value includes \n",
    "the first index (`start`) *but not the last* (`stop`).\n",
    "Finally, when only one index (or slice)\n",
    "is specified for a $k^\\textrm{th}$-order tensor,\n",
    "it is applied along axis 0.\n",
    "Thus, in the following code,\n",
    "[**`[-1]` selects the last row and `[1:3]`\n",
    "selects the second and third rows**]."
   ]
  },
  {
   "cell_type": "code",
   "execution_count": null,
   "id": "b6d755c1",
   "metadata": {},
   "outputs": [],
   "source": [
    "%%tab all\n",
    "X[-1], X[1:3]"
   ]
  },
  {
   "cell_type": "markdown",
   "id": "c0de03b1",
   "metadata": {},
   "source": [
    ":begin_tab:`mxnet, pytorch`\n",
    "Beyond reading them, (**we can also *write* elements of a matrix by specifying indices.**)\n",
    ":end_tab:\n",
    "\n",
    ":begin_tab:`tensorflow`\n",
    "`Tensors` in TensorFlow are immutable, and cannot be assigned to.\n",
    "`Variables` in TensorFlow are mutable containers of state that support\n",
    "assignments. Keep in mind that gradients in TensorFlow do not flow backwards\n",
    "through `Variable` assignments.\n",
    "\n",
    "Beyond assigning a value to the entire `Variable`, we can write elements of a\n",
    "`Variable` by specifying indices.\n",
    ":end_tab:"
   ]
  },
  {
   "cell_type": "code",
   "execution_count": null,
   "id": "458f55a1",
   "metadata": {},
   "outputs": [],
   "source": [
    "%%tab mxnet, pytorch\n",
    "X[1, 2] = 17\n",
    "X"
   ]
  },
  {
   "cell_type": "code",
   "execution_count": null,
   "id": "625553bc",
   "metadata": {},
   "outputs": [],
   "source": [
    "%%tab tensorflow\n",
    "X_var = tf.Variable(X)\n",
    "X_var[1, 2].assign(9)\n",
    "X_var"
   ]
  },
  {
   "cell_type": "code",
   "execution_count": null,
   "id": "adcdef49",
   "metadata": {},
   "outputs": [],
   "source": [
    "%%tab jax\n",
    "# JAX arrays are immutable. jax.numpy.ndarray.at index\n",
    "# update operators create a new array with the corresponding\n",
    "# modifications made\n",
    "X_new_1 = X.at[1, 2].set(17)\n",
    "X_new_1"
   ]
  },
  {
   "cell_type": "markdown",
   "id": "f7f6c21b",
   "metadata": {},
   "source": [
    "If we want [**to assign multiple elements the same value,\n",
    "we apply the indexing on the left-hand side \n",
    "of the assignment operation.**]\n",
    "For instance, `[:2, :]`  accesses \n",
    "the first and second rows,\n",
    "where `:` takes all the elements along axis 1 (column).\n",
    "While we discussed indexing for matrices,\n",
    "this also works for vectors\n",
    "and for tensors of more than two dimensions."
   ]
  },
  {
   "cell_type": "code",
   "execution_count": null,
   "id": "1217c14f",
   "metadata": {},
   "outputs": [],
   "source": [
    "%%tab mxnet, pytorch\n",
    "X[:2, :] = 12\n",
    "X"
   ]
  },
  {
   "cell_type": "code",
   "execution_count": null,
   "id": "0ad24380",
   "metadata": {},
   "outputs": [],
   "source": [
    "%%tab tensorflow\n",
    "X_var = tf.Variable(X)\n",
    "X_var[:2, :].assign(tf.ones(X_var[:2,:].shape, dtype=tf.float32) * 12)\n",
    "X_var"
   ]
  },
  {
   "cell_type": "code",
   "execution_count": null,
   "id": "79af6a12",
   "metadata": {},
   "outputs": [],
   "source": [
    "%%tab jax\n",
    "X_new_2 = X_new_1.at[:2, :].set(12)\n",
    "X_new_2"
   ]
  },
  {
   "cell_type": "markdown",
   "id": "d4f7fa76",
   "metadata": {},
   "source": [
    "## Operations\n",
    "\n",
    "Now that we know how to construct tensors\n",
    "and how to read from and write to their elements,\n",
    "we can begin to manipulate them\n",
    "with various mathematical operations.\n",
    "Among the most useful of these \n",
    "are the *elementwise* operations.\n",
    "These apply a standard scalar operation\n",
    "to each element of a tensor.\n",
    "For functions that take two tensors as inputs,\n",
    "elementwise operations apply some standard binary operator\n",
    "on each pair of corresponding elements.\n",
    "We can create an elementwise function \n",
    "from any function that maps \n",
    "from a scalar to a scalar.\n",
    "\n",
    "In mathematical notation, we denote such\n",
    "*unary* scalar operators (taking one input)\n",
    "by the signature \n",
    "$f: \\mathbb{R} \\rightarrow \\mathbb{R}$.\n",
    "This just means that the function maps\n",
    "from any real number onto some other real number.\n",
    "Most standard operators, including unary ones like $e^x$, can be applied elementwise."
   ]
  },
  {
   "cell_type": "code",
   "execution_count": null,
   "id": "69a08d4b",
   "metadata": {},
   "outputs": [],
   "source": [
    "%%tab mxnet\n",
    "np.exp(x)"
   ]
  },
  {
   "cell_type": "code",
   "execution_count": null,
   "id": "b87cc1f2",
   "metadata": {},
   "outputs": [],
   "source": [
    "%%tab pytorch\n",
    "torch.exp(x)"
   ]
  },
  {
   "cell_type": "code",
   "execution_count": null,
   "id": "dfab9113",
   "metadata": {},
   "outputs": [],
   "source": [
    "%%tab tensorflow\n",
    "tf.exp(x)"
   ]
  },
  {
   "cell_type": "code",
   "execution_count": null,
   "id": "f447b3c3",
   "metadata": {},
   "outputs": [],
   "source": [
    "%%tab jax\n",
    "jnp.exp(x)"
   ]
  },
  {
   "cell_type": "markdown",
   "id": "1ab50b6c",
   "metadata": {},
   "source": [
    "Likewise, we denote *binary* scalar operators,\n",
    "which map pairs of real numbers\n",
    "to a (single) real number\n",
    "via the signature \n",
    "$f: \\mathbb{R}, \\mathbb{R} \\rightarrow \\mathbb{R}$.\n",
    "Given any two vectors $\\mathbf{u}$ \n",
    "and $\\mathbf{v}$ *of the same shape*,\n",
    "and a binary operator $f$, we can produce a vector\n",
    "$\\mathbf{c} = F(\\mathbf{u},\\mathbf{v})$\n",
    "by setting $c_i \\gets f(u_i, v_i)$ for all $i$,\n",
    "where $c_i, u_i$, and $v_i$ are the $i^\\textrm{th}$ elements\n",
    "of vectors $\\mathbf{c}, \\mathbf{u}$, and $\\mathbf{v}$.\n",
    "Here, we produced the vector-valued\n",
    "$F: \\mathbb{R}^d, \\mathbb{R}^d \\rightarrow \\mathbb{R}^d$\n",
    "by *lifting* the scalar function\n",
    "to an elementwise vector operation.\n",
    "The common standard arithmetic operators\n",
    "for addition (`+`), subtraction (`-`), \n",
    "multiplication (`*`), division (`/`), \n",
    "and exponentiation (`**`)\n",
    "have all been *lifted* to elementwise operations\n",
    "for identically-shaped tensors of arbitrary shape."
   ]
  },
  {
   "cell_type": "code",
   "execution_count": null,
   "id": "c69a113a",
   "metadata": {},
   "outputs": [],
   "source": [
    "%%tab mxnet\n",
    "x = np.array([1, 2, 4, 8])\n",
    "y = np.array([2, 2, 2, 2])\n",
    "x + y, x - y, x * y, x / y, x ** y"
   ]
  },
  {
   "cell_type": "code",
   "execution_count": null,
   "id": "9967256c",
   "metadata": {},
   "outputs": [],
   "source": [
    "%%tab pytorch\n",
    "x = torch.tensor([1.0, 2, 4, 8])\n",
    "y = torch.tensor([2, 2, 2, 2])\n",
    "x + y, x - y, x * y, x / y, x ** y"
   ]
  },
  {
   "cell_type": "code",
   "execution_count": null,
   "id": "9ebfb44e",
   "metadata": {},
   "outputs": [],
   "source": [
    "%%tab tensorflow\n",
    "x = tf.constant([1.0, 2, 4, 8])\n",
    "y = tf.constant([2.0, 2, 2, 2])\n",
    "x + y, x - y, x * y, x / y, x ** y"
   ]
  },
  {
   "cell_type": "code",
   "execution_count": null,
   "id": "8c52f1b7",
   "metadata": {},
   "outputs": [],
   "source": [
    "%%tab jax\n",
    "x = jnp.array([1.0, 2, 4, 8])\n",
    "y = jnp.array([2, 2, 2, 2])\n",
    "x + y, x - y, x * y, x / y, x ** y"
   ]
  },
  {
   "cell_type": "markdown",
   "id": "33ab7d10",
   "metadata": {},
   "source": [
    "In addition to elementwise computations,\n",
    "we can also perform linear algebraic operations,\n",
    "such as dot products and matrix multiplications.\n",
    "We will elaborate on these\n",
    "in :numref:`sec_linear-algebra`.\n",
    "\n",
    "We can also [***concatenate* multiple tensors,**]\n",
    "stacking them end-to-end to form a larger one.\n",
    "We just need to provide a list of tensors\n",
    "and tell the system along which axis to concatenate.\n",
    "The example below shows what happens when we concatenate\n",
    "two matrices along rows (axis 0)\n",
    "instead of columns (axis 1).\n",
    "We can see that the first output's axis-0 length ($6$)\n",
    "is the sum of the two input tensors' axis-0 lengths ($3 + 3$);\n",
    "while the second output's axis-1 length ($8$)\n",
    "is the sum of the two input tensors' axis-1 lengths ($4 + 4$)."
   ]
  },
  {
   "cell_type": "code",
   "execution_count": null,
   "id": "0ceeb826",
   "metadata": {},
   "outputs": [],
   "source": [
    "%%tab mxnet\n",
    "X = np.arange(12).reshape(3, 4)\n",
    "Y = np.array([[2, 1, 4, 3], [1, 2, 3, 4], [4, 3, 2, 1]])\n",
    "np.concatenate([X, Y], axis=0), np.concatenate([X, Y], axis=1)"
   ]
  },
  {
   "cell_type": "code",
   "execution_count": null,
   "id": "7e352459",
   "metadata": {},
   "outputs": [],
   "source": [
    "%%tab pytorch\n",
    "X = torch.arange(12, dtype=torch.float32).reshape((3,4))\n",
    "Y = torch.tensor([[2.0, 1, 4, 3], [1, 2, 3, 4], [4, 3, 2, 1]])\n",
    "torch.cat((X, Y), dim=0), torch.cat((X, Y), dim=1)"
   ]
  },
  {
   "cell_type": "code",
   "execution_count": null,
   "id": "15dec8b6",
   "metadata": {},
   "outputs": [],
   "source": [
    "%%tab tensorflow\n",
    "X = tf.reshape(tf.range(12, dtype=tf.float32), (3, 4))\n",
    "Y = tf.constant([[2.0, 1, 4, 3], [1, 2, 3, 4], [4, 3, 2, 1]])\n",
    "tf.concat([X, Y], axis=0), tf.concat([X, Y], axis=1)"
   ]
  },
  {
   "cell_type": "code",
   "execution_count": null,
   "id": "b7ab82d4",
   "metadata": {},
   "outputs": [],
   "source": [
    "%%tab jax\n",
    "X = jnp.arange(12, dtype=jnp.float32).reshape((3, 4))\n",
    "Y = jnp.array([[2.0, 1, 4, 3], [1, 2, 3, 4], [4, 3, 2, 1]])\n",
    "jnp.concatenate((X, Y), axis=0), jnp.concatenate((X, Y), axis=1)"
   ]
  },
  {
   "cell_type": "markdown",
   "id": "420bbe32",
   "metadata": {},
   "source": [
    "Sometimes, we want to \n",
    "[**construct a binary tensor via *logical statements*.**]\n",
    "Take `X == Y` as an example.\n",
    "For each position `i, j`, if `X[i, j]` and `Y[i, j]` are equal, \n",
    "then the corresponding entry in the result takes value `1`,\n",
    "otherwise it takes value `0`."
   ]
  },
  {
   "cell_type": "code",
   "execution_count": null,
   "id": "69e6659c",
   "metadata": {},
   "outputs": [],
   "source": [
    "%%tab all\n",
    "X == Y"
   ]
  },
  {
   "cell_type": "markdown",
   "id": "9db0125f",
   "metadata": {},
   "source": [
    "[**Summing all the elements in the tensor**] yields a tensor with only one element."
   ]
  },
  {
   "cell_type": "code",
   "execution_count": null,
   "id": "2b117620",
   "metadata": {},
   "outputs": [],
   "source": [
    "%%tab mxnet, pytorch, jax\n",
    "X.sum()"
   ]
  },
  {
   "cell_type": "code",
   "execution_count": null,
   "id": "5bbf3318",
   "metadata": {},
   "outputs": [],
   "source": [
    "%%tab tensorflow\n",
    "tf.reduce_sum(X)"
   ]
  },
  {
   "cell_type": "markdown",
   "id": "09548593",
   "metadata": {},
   "source": [
    "## Broadcasting\n",
    ":label:`subsec_broadcasting`\n",
    "\n",
    "By now, you know how to perform \n",
    "elementwise binary operations\n",
    "on two tensors of the same shape. \n",
    "Under certain conditions,\n",
    "even when shapes differ, \n",
    "we can still [**perform elementwise binary operations\n",
    "by invoking the *broadcasting mechanism*.**]\n",
    "Broadcasting works according to \n",
    "the following two-step procedure:\n",
    "(i) expand one or both arrays\n",
    "by copying elements along axes with length 1\n",
    "so that after this transformation,\n",
    "the two tensors have the same shape;\n",
    "(ii) perform an elementwise operation\n",
    "on the resulting arrays."
   ]
  },
  {
   "cell_type": "code",
   "execution_count": null,
   "id": "7fc27590",
   "metadata": {},
   "outputs": [],
   "source": [
    "%%tab mxnet\n",
    "a = np.arange(3).reshape(3, 1)\n",
    "b = np.arange(2).reshape(1, 2)\n",
    "a, b"
   ]
  },
  {
   "cell_type": "code",
   "execution_count": null,
   "id": "8bfda195",
   "metadata": {},
   "outputs": [],
   "source": [
    "%%tab pytorch\n",
    "a = torch.arange(3).reshape((3, 1))\n",
    "b = torch.arange(2).reshape((1, 2))\n",
    "a, b"
   ]
  },
  {
   "cell_type": "code",
   "execution_count": null,
   "id": "2a1e6611",
   "metadata": {},
   "outputs": [],
   "source": [
    "%%tab tensorflow\n",
    "a = tf.reshape(tf.range(3), (3, 1))\n",
    "b = tf.reshape(tf.range(2), (1, 2))\n",
    "a, b"
   ]
  },
  {
   "cell_type": "code",
   "execution_count": null,
   "id": "3d1a0420",
   "metadata": {},
   "outputs": [],
   "source": [
    "%%tab jax\n",
    "a = jnp.arange(3).reshape((3, 1))\n",
    "b = jnp.arange(2).reshape((1, 2))\n",
    "a, b"
   ]
  },
  {
   "cell_type": "markdown",
   "id": "247b12d9",
   "metadata": {},
   "source": [
    "Since `a` and `b` are $3\\times1$ \n",
    "and $1\\times2$ matrices, respectively,\n",
    "their shapes do not match up.\n",
    "Broadcasting produces a larger $3\\times2$ matrix \n",
    "by replicating matrix `a` along the columns\n",
    "and matrix `b` along the rows\n",
    "before adding them elementwise."
   ]
  },
  {
   "cell_type": "code",
   "execution_count": null,
   "id": "50db0e4e",
   "metadata": {},
   "outputs": [],
   "source": [
    "%%tab all\n",
    "a + b"
   ]
  },
  {
   "cell_type": "markdown",
   "id": "2603c9d8",
   "metadata": {},
   "source": [
    "## Saving Memory\n",
    "\n",
    "[**Running operations can cause new memory to be\n",
    "allocated to host results.**]\n",
    "For example, if we write `Y = X + Y`,\n",
    "we dereference the tensor that `Y` used to point to\n",
    "and instead point `Y` at the newly allocated memory.\n",
    "We can demonstrate this issue with Python's `id()` function,\n",
    "which gives us the exact address \n",
    "of the referenced object in memory.\n",
    "Note that after we run `Y = Y + X`,\n",
    "`id(Y)` points to a different location.\n",
    "That is because Python first evaluates `Y + X`,\n",
    "allocating new memory for the result \n",
    "and then points `Y` to this new location in memory."
   ]
  },
  {
   "cell_type": "code",
   "execution_count": null,
   "id": "811f002f",
   "metadata": {},
   "outputs": [],
   "source": [
    "%%tab all\n",
    "before = id(Y)\n",
    "Y = Y + X\n",
    "id(Y) == before"
   ]
  },
  {
   "cell_type": "markdown",
   "id": "3ebbbed6",
   "metadata": {},
   "source": [
    "This might be undesirable for two reasons.\n",
    "First, we do not want to run around\n",
    "allocating memory unnecessarily all the time.\n",
    "In machine learning, we often have\n",
    "hundreds of megabytes of parameters\n",
    "and update all of them multiple times per second.\n",
    "Whenever possible, we want to perform these updates *in place*.\n",
    "Second, we might point at the \n",
    "same parameters from multiple variables.\n",
    "If we do not update in place, \n",
    "we must be careful to update all of these references,\n",
    "lest we spring a memory leak \n",
    "or inadvertently refer to stale parameters.\n",
    "\n",
    ":begin_tab:`mxnet, pytorch`\n",
    "Fortunately, (**performing in-place operations**) is easy.\n",
    "We can assign the result of an operation\n",
    "to a previously allocated array `Y`\n",
    "by using slice notation: `Y[:] = <expression>`.\n",
    "To illustrate this concept, \n",
    "we overwrite the values of tensor `Z`,\n",
    "after initializing it, using `zeros_like`,\n",
    "to have the same shape as `Y`.\n",
    ":end_tab:\n",
    "\n",
    ":begin_tab:`tensorflow`\n",
    "`Variables` are mutable containers of state in TensorFlow. They provide\n",
    "a way to store your model parameters.\n",
    "We can assign the result of an operation\n",
    "to a `Variable` with `assign`.\n",
    "To illustrate this concept, \n",
    "we overwrite the values of `Variable` `Z`\n",
    "after initializing it, using `zeros_like`,\n",
    "to have the same shape as `Y`.\n",
    ":end_tab:"
   ]
  },
  {
   "cell_type": "code",
   "execution_count": null,
   "id": "e53940f8",
   "metadata": {},
   "outputs": [],
   "source": [
    "%%tab mxnet\n",
    "Z = np.zeros_like(Y)\n",
    "print('id(Z):', id(Z))\n",
    "Z[:] = X + Y\n",
    "print('id(Z):', id(Z))"
   ]
  },
  {
   "cell_type": "code",
   "execution_count": null,
   "id": "d3ac5d39",
   "metadata": {},
   "outputs": [],
   "source": [
    "%%tab pytorch\n",
    "Z = torch.zeros_like(Y)\n",
    "print('id(Z):', id(Z))\n",
    "Z[:] = X + Y\n",
    "print('id(Z):', id(Z))"
   ]
  },
  {
   "cell_type": "code",
   "execution_count": null,
   "id": "c42afdee",
   "metadata": {},
   "outputs": [],
   "source": [
    "%%tab tensorflow\n",
    "Z = tf.Variable(tf.zeros_like(Y))\n",
    "print('id(Z):', id(Z))\n",
    "Z.assign(X + Y)\n",
    "print('id(Z):', id(Z))"
   ]
  },
  {
   "cell_type": "code",
   "execution_count": null,
   "id": "e0d6d179",
   "metadata": {},
   "outputs": [],
   "source": [
    "%%tab jax\n",
    "# JAX arrays do not allow in-place operations"
   ]
  },
  {
   "cell_type": "markdown",
   "id": "7f19cc4d",
   "metadata": {},
   "source": [
    ":begin_tab:`mxnet, pytorch`\n",
    "[**If the value of `X` is not reused in subsequent computations,\n",
    "we can also use `X[:] = X + Y` or `X += Y`\n",
    "to reduce the memory overhead of the operation.**]\n",
    ":end_tab:\n",
    "\n",
    ":begin_tab:`tensorflow`\n",
    "Even once you store state persistently in a `Variable`, \n",
    "you may want to reduce your memory usage further by avoiding excess\n",
    "allocations for tensors that are not your model parameters.\n",
    "Because TensorFlow `Tensors` are immutable \n",
    "and gradients do not flow through `Variable` assignments, \n",
    "TensorFlow does not provide an explicit way to run\n",
    "an individual operation in-place.\n",
    "\n",
    "However, TensorFlow provides the `tf.function` decorator \n",
    "to wrap computation inside of a TensorFlow graph \n",
    "that gets compiled and optimized before running.\n",
    "This allows TensorFlow to prune unused values, \n",
    "and to reuse prior allocations that are no longer needed. \n",
    "This minimizes the memory overhead of TensorFlow computations.\n",
    ":end_tab:"
   ]
  },
  {
   "cell_type": "code",
   "execution_count": null,
   "id": "95c1de53",
   "metadata": {},
   "outputs": [],
   "source": [
    "%%tab mxnet, pytorch\n",
    "before = id(X)\n",
    "X += Y\n",
    "id(X) == before"
   ]
  },
  {
   "cell_type": "code",
   "execution_count": null,
   "id": "1b9317b3",
   "metadata": {},
   "outputs": [],
   "source": [
    "%%tab tensorflow\n",
    "@tf.function\n",
    "def computation(X, Y):\n",
    "    Z = tf.zeros_like(Y)  # This unused value will be pruned out\n",
    "    A = X + Y  # Allocations will be reused when no longer needed\n",
    "    B = A + Y\n",
    "    C = B + Y\n",
    "    return C + Y\n",
    "\n",
    "computation(X, Y)"
   ]
  },
  {
   "cell_type": "markdown",
   "id": "3dd6dd77",
   "metadata": {},
   "source": [
    "## Conversion to Other Python Objects\n",
    "\n",
    ":begin_tab:`mxnet, tensorflow`\n",
    "[**Converting to a NumPy tensor (`ndarray`)**], or vice versa, is easy.\n",
    "The converted result does not share memory.\n",
    "This minor inconvenience is actually quite important:\n",
    "when you perform operations on the CPU or on GPUs,\n",
    "you do not want to halt computation, waiting to see\n",
    "whether the NumPy package of Python \n",
    "might want to be doing something else\n",
    "with the same chunk of memory.\n",
    ":end_tab:\n",
    "\n",
    ":begin_tab:`pytorch`\n",
    "[**Converting to a NumPy tensor (`ndarray`)**], or vice versa, is easy.\n",
    "The torch tensor and NumPy array \n",
    "will share their underlying memory, \n",
    "and changing one through an in-place operation \n",
    "will also change the other.\n",
    ":end_tab:"
   ]
  },
  {
   "cell_type": "code",
   "execution_count": null,
   "id": "bcf62e06",
   "metadata": {},
   "outputs": [],
   "source": [
    "%%tab mxnet\n",
    "A = X.asnumpy()\n",
    "B = np.array(A)\n",
    "type(A), type(B)"
   ]
  },
  {
   "cell_type": "code",
   "execution_count": null,
   "id": "ec21342a",
   "metadata": {},
   "outputs": [],
   "source": [
    "%%tab pytorch\n",
    "A = X.numpy()\n",
    "B = torch.from_numpy(A)\n",
    "type(A), type(B)"
   ]
  },
  {
   "cell_type": "code",
   "execution_count": null,
   "id": "cfbd81ab",
   "metadata": {},
   "outputs": [],
   "source": [
    "%%tab tensorflow\n",
    "A = X.numpy()\n",
    "B = tf.constant(A)\n",
    "type(A), type(B)"
   ]
  },
  {
   "cell_type": "code",
   "execution_count": null,
   "id": "a3679efb",
   "metadata": {},
   "outputs": [],
   "source": [
    "%%tab jax\n",
    "A = jax.device_get(X)\n",
    "B = jax.device_put(A)\n",
    "type(A), type(B)"
   ]
  },
  {
   "cell_type": "markdown",
   "id": "310afbfd",
   "metadata": {},
   "source": [
    "To (**convert a size-1 tensor to a Python scalar**),\n",
    "we can invoke the `item` function or Python's built-in functions."
   ]
  },
  {
   "cell_type": "code",
   "execution_count": null,
   "id": "bb7105ca",
   "metadata": {},
   "outputs": [],
   "source": [
    "%%tab mxnet\n",
    "a = np.array([3.5])\n",
    "a, a.item(), float(a), int(a)"
   ]
  },
  {
   "cell_type": "code",
   "execution_count": null,
   "id": "fc261216",
   "metadata": {},
   "outputs": [],
   "source": [
    "%%tab pytorch\n",
    "a = torch.tensor([3.5])\n",
    "a, a.item(), float(a), int(a)"
   ]
  },
  {
   "cell_type": "code",
   "execution_count": null,
   "id": "36f2b8a0",
   "metadata": {},
   "outputs": [],
   "source": [
    "%%tab tensorflow\n",
    "a = tf.constant([3.5]).numpy()\n",
    "a, a.item(), float(a), int(a)"
   ]
  },
  {
   "cell_type": "code",
   "execution_count": null,
   "id": "54abacfe",
   "metadata": {},
   "outputs": [],
   "source": [
    "%%tab jax\n",
    "a = jnp.array([3.5])\n",
    "a, a.item(), float(a), int(a)"
   ]
  },
  {
   "cell_type": "markdown",
   "id": "60595a5d",
   "metadata": {},
   "source": [
    "## Summary\n",
    "\n",
    "The tensor class is the main interface for storing and manipulating data in deep learning libraries.\n",
    "Tensors provide a variety of functionalities including construction routines; indexing and slicing; basic mathematics operations; broadcasting; memory-efficient assignment; and conversion to and from other Python objects.\n",
    "\n",
    "\n",
    "## Exercises\n",
    "\n",
    "1. Run the code in this section. Change the conditional statement `X == Y` to `X < Y` or `X > Y`, and then see what kind of tensor you can get.\n",
    "1. Replace the two tensors that operate by element in the broadcasting mechanism with other shapes, e.g., 3-dimensional tensors. Is the result the same as expected?\n",
    "\n",
    ":begin_tab:`mxnet`\n",
    "[Discussions](https://discuss.d2l.ai/t/26)\n",
    ":end_tab:\n",
    "\n",
    ":begin_tab:`pytorch`\n",
    "[Discussions](https://discuss.d2l.ai/t/27)\n",
    ":end_tab:\n",
    "\n",
    ":begin_tab:`tensorflow`\n",
    "[Discussions](https://discuss.d2l.ai/t/187)\n",
    ":end_tab:\n",
    "\n",
    ":begin_tab:`jax`\n",
    "[Discussions](https://discuss.d2l.ai/t/17966)\n",
    ":end_tab:"
   ]
  }
 ],
 "metadata": {},
 "nbformat": 4,
 "nbformat_minor": 5
}
