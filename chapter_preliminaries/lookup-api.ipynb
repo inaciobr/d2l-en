{
 "cells": [
  {
   "cell_type": "code",
   "execution_count": null,
   "id": "138f9c7d",
   "metadata": {},
   "outputs": [],
   "source": [
    "%load_ext d2lbook.tab\n",
    "tab.interact_select(['mxnet', 'pytorch', 'tensorflow', 'jax'])"
   ]
  },
  {
   "cell_type": "markdown",
   "id": "00795b83",
   "metadata": {},
   "source": [
    "# Documentation\n",
    ":begin_tab:`mxnet`\n",
    "While we cannot possibly introduce every single MXNet function and class \n",
    "(and the information might become outdated quickly), \n",
    "the [API documentation](https://mxnet.apache.org/versions/1.8.0/api) \n",
    "and additional [tutorials](https://mxnet.apache.org/versions/1.8.0/api/python/docs/tutorials/) and examples \n",
    "provide such documentation. \n",
    "This section provides some guidance for how to explore the MXNet API.\n",
    ":end_tab:\n",
    "\n",
    ":begin_tab:`pytorch`\n",
    "While we cannot possibly introduce every single PyTorch function and class \n",
    "(and the information might become outdated quickly), \n",
    "the [API documentation](https://pytorch.org/docs/stable/index.html) and additional [tutorials](https://pytorch.org/tutorials/beginner/basics/intro.html) and examples \n",
    "provide such documentation.\n",
    "This section provides some guidance for how to explore the PyTorch API.\n",
    ":end_tab:\n",
    "\n",
    ":begin_tab:`tensorflow`\n",
    "While we cannot possibly introduce every single TensorFlow function and class \n",
    "(and the information might become outdated quickly), \n",
    "the [API documentation](https://www.tensorflow.org/api_docs) and additional [tutorials](https://www.tensorflow.org/tutorials) and examples \n",
    "provide such documentation. \n",
    "This section provides some guidance for how to explore the TensorFlow API.\n",
    ":end_tab:"
   ]
  },
  {
   "cell_type": "code",
   "execution_count": null,
   "id": "d2fc048b",
   "metadata": {},
   "outputs": [],
   "source": [
    "%%tab mxnet\n",
    "from mxnet import np"
   ]
  },
  {
   "cell_type": "code",
   "execution_count": null,
   "id": "4d34428a",
   "metadata": {},
   "outputs": [],
   "source": [
    "%%tab pytorch\n",
    "import torch"
   ]
  },
  {
   "cell_type": "code",
   "execution_count": null,
   "id": "e4fceaa4",
   "metadata": {},
   "outputs": [],
   "source": [
    "%%tab tensorflow\n",
    "import tensorflow as tf"
   ]
  },
  {
   "cell_type": "code",
   "execution_count": null,
   "id": "a1558240",
   "metadata": {},
   "outputs": [],
   "source": [
    "%%tab jax\n",
    "import jax"
   ]
  },
  {
   "cell_type": "markdown",
   "id": "f9afb042",
   "metadata": {},
   "source": [
    "## Functions and Classes in a Module\n",
    "\n",
    "To know which functions and classes can be called in a module,\n",
    "we invoke the `dir` function. For instance, we can\n",
    "(**query all properties in the module for generating random numbers**):"
   ]
  },
  {
   "cell_type": "code",
   "execution_count": 1,
   "id": "2f141b80",
   "metadata": {
    "attributes": {
     "classes": [],
     "id": "",
     "n": "1"
    }
   },
   "outputs": [],
   "source": [
    "%%tab mxnet\n",
    "print(dir(np.random))"
   ]
  },
  {
   "cell_type": "code",
   "execution_count": 1,
   "id": "a43ac5bb",
   "metadata": {
    "attributes": {
     "classes": [],
     "id": "",
     "n": "1"
    }
   },
   "outputs": [],
   "source": [
    "%%tab pytorch\n",
    "print(dir(torch.distributions))"
   ]
  },
  {
   "cell_type": "code",
   "execution_count": 1,
   "id": "dc109765",
   "metadata": {
    "attributes": {
     "classes": [],
     "id": "",
     "n": "1"
    }
   },
   "outputs": [],
   "source": [
    "%%tab tensorflow\n",
    "print(dir(tf.random))"
   ]
  },
  {
   "cell_type": "code",
   "execution_count": null,
   "id": "0569d98f",
   "metadata": {},
   "outputs": [],
   "source": [
    "%%tab jax\n",
    "print(dir(jax.random))"
   ]
  },
  {
   "cell_type": "markdown",
   "id": "9fd80f67",
   "metadata": {},
   "source": [
    "Generally, we can ignore functions that start and end with `__` (special objects in Python) \n",
    "or functions that start with a single `_`(usually internal functions). \n",
    "Based on the remaining function or attribute names, \n",
    "we might hazard a guess that this module offers \n",
    "various methods for generating random numbers, \n",
    "including sampling from the uniform distribution (`uniform`), \n",
    "normal distribution (`normal`), and multinomial distribution (`multinomial`).\n",
    "\n",
    "## Specific Functions and Classes\n",
    "\n",
    "For specific instructions on how to use a given function or class,\n",
    "we can invoke the  `help` function. As an example, let's\n",
    "[**explore the usage instructions for tensors' `ones` function**]."
   ]
  },
  {
   "cell_type": "code",
   "execution_count": null,
   "id": "0e42aa5a",
   "metadata": {},
   "outputs": [],
   "source": [
    "%%tab mxnet\n",
    "help(np.ones)"
   ]
  },
  {
   "cell_type": "code",
   "execution_count": null,
   "id": "4221fd0e",
   "metadata": {},
   "outputs": [],
   "source": [
    "%%tab pytorch\n",
    "help(torch.ones)"
   ]
  },
  {
   "cell_type": "code",
   "execution_count": null,
   "id": "f24dc0c5",
   "metadata": {},
   "outputs": [],
   "source": [
    "%%tab tensorflow\n",
    "help(tf.ones)"
   ]
  },
  {
   "cell_type": "code",
   "execution_count": null,
   "id": "c8160044",
   "metadata": {},
   "outputs": [],
   "source": [
    "%%tab jax\n",
    "help(jax.numpy.ones)"
   ]
  },
  {
   "cell_type": "markdown",
   "id": "0b6056dd",
   "metadata": {},
   "source": [
    "From the documentation, we can see that the `ones` function \n",
    "creates a new tensor with the specified shape \n",
    "and sets all the elements to the value of 1. \n",
    "Whenever possible, you should (**run a quick test**) \n",
    "to confirm your interpretation:"
   ]
  },
  {
   "cell_type": "code",
   "execution_count": null,
   "id": "5619e3c7",
   "metadata": {},
   "outputs": [],
   "source": [
    "%%tab mxnet\n",
    "np.ones(4)"
   ]
  },
  {
   "cell_type": "code",
   "execution_count": null,
   "id": "55ff7f0a",
   "metadata": {},
   "outputs": [],
   "source": [
    "%%tab pytorch\n",
    "torch.ones(4)"
   ]
  },
  {
   "cell_type": "code",
   "execution_count": null,
   "id": "8c154ebc",
   "metadata": {},
   "outputs": [],
   "source": [
    "%%tab tensorflow\n",
    "tf.ones(4)"
   ]
  },
  {
   "cell_type": "code",
   "execution_count": null,
   "id": "663b3280",
   "metadata": {},
   "outputs": [],
   "source": [
    "%%tab jax\n",
    "jax.numpy.ones(4)"
   ]
  },
  {
   "cell_type": "markdown",
   "id": "c7d13ae6",
   "metadata": {},
   "source": [
    "In the Jupyter notebook, we can use `?` to display the document in another\n",
    "window. For example, `list?` will create content\n",
    "that is almost identical to `help(list)`,\n",
    "displaying it in a new browser window.\n",
    "In addition, if we use two question marks, such as `list??`,\n",
    "the Python code implementing the function will also be displayed.\n",
    "\n",
    "The official documentation provides plenty of descriptions and examples that are beyond this book. \n",
    "We emphasize important use cases \n",
    "that will get you started quickly with practical problems, \n",
    "rather than completeness of coverage. \n",
    "We also encourage you to study the source code of the libraries \n",
    "to see examples of high-quality implementations of production code. \n",
    "By doing this you will become a better engineer \n",
    "in addition to becoming a better scientist.\n",
    "\n",
    ":begin_tab:`mxnet`\n",
    "[Discussions](https://discuss.d2l.ai/t/38)\n",
    ":end_tab:\n",
    "\n",
    ":begin_tab:`pytorch`\n",
    "[Discussions](https://discuss.d2l.ai/t/39)\n",
    ":end_tab:\n",
    "\n",
    ":begin_tab:`tensorflow`\n",
    "[Discussions](https://discuss.d2l.ai/t/199)\n",
    ":end_tab:\n",
    "\n",
    ":begin_tab:`jax`\n",
    "[Discussions](https://discuss.d2l.ai/t/17972)\n",
    ":end_tab:"
   ]
  }
 ],
 "metadata": {},
 "nbformat": 4,
 "nbformat_minor": 5
}
