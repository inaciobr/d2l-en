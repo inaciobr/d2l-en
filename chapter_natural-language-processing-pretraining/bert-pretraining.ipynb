{
 "cells": [
  {
   "cell_type": "markdown",
   "id": "d23efe66",
   "metadata": {},
   "source": [
    "# Pretraining BERT\n",
    ":label:`sec_bert-pretraining`\n",
    "\n",
    "With the BERT model implemented in :numref:`sec_bert`\n",
    "and the pretraining examples generated from the WikiText-2 dataset in :numref:`sec_bert-dataset`, we will pretrain BERT on the WikiText-2 dataset in this section."
   ]
  },
  {
   "cell_type": "code",
   "execution_count": null,
   "id": "8700db60",
   "metadata": {},
   "outputs": [],
   "source": [
    "#@tab mxnet\n",
    "from d2l import mxnet as d2l\n",
    "from mxnet import autograd, gluon, init, np, npx\n",
    "\n",
    "npx.set_np()"
   ]
  },
  {
   "cell_type": "code",
   "execution_count": null,
   "id": "ed2ce1f4",
   "metadata": {},
   "outputs": [],
   "source": [
    "#@tab pytorch\n",
    "from d2l import torch as d2l\n",
    "import torch\n",
    "from torch import nn"
   ]
  },
  {
   "cell_type": "markdown",
   "id": "566cf936",
   "metadata": {},
   "source": [
    "To start, we load the WikiText-2 dataset as minibatches\n",
    "of pretraining examples for masked language modeling and next sentence prediction.\n",
    "The batch size is 512 and the maximum length of a BERT input sequence is 64.\n",
    "Note that in the original BERT model, the maximum length is 512."
   ]
  },
  {
   "cell_type": "code",
   "execution_count": null,
   "id": "b92df87b",
   "metadata": {},
   "outputs": [],
   "source": [
    "#@tab all\n",
    "batch_size, max_len = 512, 64\n",
    "train_iter, vocab = d2l.load_data_wiki(batch_size, max_len)"
   ]
  },
  {
   "cell_type": "markdown",
   "id": "e872f2fa",
   "metadata": {},
   "source": [
    "## Pretraining BERT\n",
    "\n",
    "The original BERT has two versions of different model sizes :cite:`Devlin.Chang.Lee.ea.2018`.\n",
    "The base model ($\\textrm{BERT}_{\\textrm{BASE}}$) uses 12 layers (Transformer encoder blocks)\n",
    "with 768 hidden units (hidden size) and 12 self-attention heads.\n",
    "The large model ($\\textrm{BERT}_{\\textrm{LARGE}}$) uses 24 layers\n",
    "with 1024 hidden units and 16 self-attention heads.\n",
    "Notably, the former has 110 million parameters while the latter has 340 million parameters.\n",
    "For demonstration with ease,\n",
    "we define [**a small BERT, using 2 layers, 128 hidden units, and 2 self-attention heads**]."
   ]
  },
  {
   "cell_type": "code",
   "execution_count": null,
   "id": "0c5f033f",
   "metadata": {},
   "outputs": [],
   "source": [
    "#@tab mxnet\n",
    "net = d2l.BERTModel(len(vocab), num_hiddens=128, ffn_num_hiddens=256,\n",
    "                    num_heads=2, num_blks=2, dropout=0.2)\n",
    "devices = d2l.try_all_gpus()\n",
    "net.initialize(init.Xavier(), ctx=devices)\n",
    "loss = gluon.loss.SoftmaxCELoss()"
   ]
  },
  {
   "cell_type": "code",
   "execution_count": null,
   "id": "a84d3d22",
   "metadata": {},
   "outputs": [],
   "source": [
    "#@tab pytorch\n",
    "net = d2l.BERTModel(len(vocab), num_hiddens=128, \n",
    "                    ffn_num_hiddens=256, num_heads=2, num_blks=2, dropout=0.2)\n",
    "devices = d2l.try_all_gpus()\n",
    "loss = nn.CrossEntropyLoss()"
   ]
  },
  {
   "cell_type": "markdown",
   "id": "d61cd59f",
   "metadata": {},
   "source": [
    "Before defining the training loop,\n",
    "we define a helper function `_get_batch_loss_bert`.\n",
    "Given the shard of training examples,\n",
    "this function [**computes the loss for both the masked language modeling and next sentence prediction tasks**].\n",
    "Note that the final loss of BERT pretraining\n",
    "is just the sum of both the masked language modeling loss\n",
    "and the next sentence prediction loss."
   ]
  },
  {
   "cell_type": "code",
   "execution_count": null,
   "id": "8df51e1c",
   "metadata": {},
   "outputs": [],
   "source": [
    "#@tab mxnet\n",
    "#@save\n",
    "def _get_batch_loss_bert(net, loss, vocab_size, tokens_X_shards,\n",
    "                         segments_X_shards, valid_lens_x_shards,\n",
    "                         pred_positions_X_shards, mlm_weights_X_shards,\n",
    "                         mlm_Y_shards, nsp_y_shards):\n",
    "    mlm_ls, nsp_ls, ls = [], [], []\n",
    "    for (tokens_X_shard, segments_X_shard, valid_lens_x_shard,\n",
    "         pred_positions_X_shard, mlm_weights_X_shard, mlm_Y_shard,\n",
    "         nsp_y_shard) in zip(\n",
    "        tokens_X_shards, segments_X_shards, valid_lens_x_shards,\n",
    "        pred_positions_X_shards, mlm_weights_X_shards, mlm_Y_shards,\n",
    "        nsp_y_shards):\n",
    "        # Forward pass\n",
    "        _, mlm_Y_hat, nsp_Y_hat = net(\n",
    "            tokens_X_shard, segments_X_shard, valid_lens_x_shard.reshape(-1),\n",
    "            pred_positions_X_shard)\n",
    "        # Compute masked language model loss\n",
    "        mlm_l = loss(\n",
    "            mlm_Y_hat.reshape((-1, vocab_size)), mlm_Y_shard.reshape(-1),\n",
    "            mlm_weights_X_shard.reshape((-1, 1)))\n",
    "        mlm_l = mlm_l.sum() / (mlm_weights_X_shard.sum() + 1e-8)\n",
    "        # Compute next sentence prediction loss\n",
    "        nsp_l = loss(nsp_Y_hat, nsp_y_shard)\n",
    "        nsp_l = nsp_l.mean()\n",
    "        mlm_ls.append(mlm_l)\n",
    "        nsp_ls.append(nsp_l)\n",
    "        ls.append(mlm_l + nsp_l)\n",
    "        npx.waitall()\n",
    "    return mlm_ls, nsp_ls, ls"
   ]
  },
  {
   "cell_type": "code",
   "execution_count": null,
   "id": "02ec2faa",
   "metadata": {},
   "outputs": [],
   "source": [
    "#@tab pytorch\n",
    "#@save\n",
    "def _get_batch_loss_bert(net, loss, vocab_size, tokens_X,\n",
    "                         segments_X, valid_lens_x,\n",
    "                         pred_positions_X, mlm_weights_X,\n",
    "                         mlm_Y, nsp_y):\n",
    "    # Forward pass\n",
    "    _, mlm_Y_hat, nsp_Y_hat = net(tokens_X, segments_X,\n",
    "                                  valid_lens_x.reshape(-1),\n",
    "                                  pred_positions_X)\n",
    "    # Compute masked language model loss\n",
    "    mlm_l = loss(mlm_Y_hat.reshape(-1, vocab_size), mlm_Y.reshape(-1)) *\\\n",
    "    mlm_weights_X.reshape(-1, 1)\n",
    "    mlm_l = mlm_l.sum() / (mlm_weights_X.sum() + 1e-8)\n",
    "    # Compute next sentence prediction loss\n",
    "    nsp_l = loss(nsp_Y_hat, nsp_y)\n",
    "    l = mlm_l + nsp_l\n",
    "    return mlm_l, nsp_l, l"
   ]
  },
  {
   "cell_type": "markdown",
   "id": "9d3a5333",
   "metadata": {},
   "source": [
    "Invoking the two aforementioned helper functions,\n",
    "the following `train_bert` function\n",
    "defines the procedure to [**pretrain BERT (`net`) on the WikiText-2 (`train_iter`) dataset**].\n",
    "Training BERT can take very long.\n",
    "Instead of specifying the number of epochs for training\n",
    "as in the `train_ch13` function (see :numref:`sec_image_augmentation`),\n",
    "the input `num_steps` of the following function\n",
    "specifies the number of iteration steps for training."
   ]
  },
  {
   "cell_type": "code",
   "execution_count": null,
   "id": "1bb8a229",
   "metadata": {},
   "outputs": [],
   "source": [
    "#@tab mxnet\n",
    "def train_bert(train_iter, net, loss, vocab_size, devices, num_steps):\n",
    "    trainer = gluon.Trainer(net.collect_params(), 'adam',\n",
    "                            {'learning_rate': 0.01})\n",
    "    step, timer = 0, d2l.Timer()\n",
    "    animator = d2l.Animator(xlabel='step', ylabel='loss',\n",
    "                            xlim=[1, num_steps], legend=['mlm', 'nsp'])\n",
    "    # Sum of masked language modeling losses, sum of next sentence prediction\n",
    "    # losses, no. of sentence pairs, count\n",
    "    metric = d2l.Accumulator(4)\n",
    "    num_steps_reached = False\n",
    "    while step < num_steps and not num_steps_reached:\n",
    "        for batch in train_iter:\n",
    "            (tokens_X_shards, segments_X_shards, valid_lens_x_shards,\n",
    "             pred_positions_X_shards, mlm_weights_X_shards,\n",
    "             mlm_Y_shards, nsp_y_shards) = [gluon.utils.split_and_load(\n",
    "                elem, devices, even_split=False) for elem in batch]\n",
    "            timer.start()\n",
    "            with autograd.record():\n",
    "                mlm_ls, nsp_ls, ls = _get_batch_loss_bert(\n",
    "                    net, loss, vocab_size, tokens_X_shards, segments_X_shards,\n",
    "                    valid_lens_x_shards, pred_positions_X_shards,\n",
    "                    mlm_weights_X_shards, mlm_Y_shards, nsp_y_shards)\n",
    "            for l in ls:\n",
    "                l.backward()\n",
    "            trainer.step(1)\n",
    "            mlm_l_mean = sum([float(l) for l in mlm_ls]) / len(mlm_ls)\n",
    "            nsp_l_mean = sum([float(l) for l in nsp_ls]) / len(nsp_ls)\n",
    "            metric.add(mlm_l_mean, nsp_l_mean, batch[0].shape[0], 1)\n",
    "            timer.stop()\n",
    "            animator.add(step + 1,\n",
    "                         (metric[0] / metric[3], metric[1] / metric[3]))\n",
    "            step += 1\n",
    "            if step == num_steps:\n",
    "                num_steps_reached = True\n",
    "                break\n",
    "\n",
    "    print(f'MLM loss {metric[0] / metric[3]:.3f}, '\n",
    "          f'NSP loss {metric[1] / metric[3]:.3f}')\n",
    "    print(f'{metric[2] / timer.sum():.1f} sentence pairs/sec on '\n",
    "          f'{str(devices)}')"
   ]
  },
  {
   "cell_type": "code",
   "execution_count": null,
   "id": "74e2ee82",
   "metadata": {},
   "outputs": [],
   "source": [
    "#@tab pytorch\n",
    "def train_bert(train_iter, net, loss, vocab_size, devices, num_steps):\n",
    "    net(*next(iter(train_iter))[:4])\n",
    "    net = nn.DataParallel(net, device_ids=devices).to(devices[0])\n",
    "    trainer = torch.optim.Adam(net.parameters(), lr=0.01)\n",
    "    step, timer = 0, d2l.Timer()\n",
    "    animator = d2l.Animator(xlabel='step', ylabel='loss',\n",
    "                            xlim=[1, num_steps], legend=['mlm', 'nsp'])\n",
    "    # Sum of masked language modeling losses, sum of next sentence prediction\n",
    "    # losses, no. of sentence pairs, count\n",
    "    metric = d2l.Accumulator(4)\n",
    "    num_steps_reached = False\n",
    "    while step < num_steps and not num_steps_reached:\n",
    "        for tokens_X, segments_X, valid_lens_x, pred_positions_X,\\\n",
    "            mlm_weights_X, mlm_Y, nsp_y in train_iter:\n",
    "            tokens_X = tokens_X.to(devices[0])\n",
    "            segments_X = segments_X.to(devices[0])\n",
    "            valid_lens_x = valid_lens_x.to(devices[0])\n",
    "            pred_positions_X = pred_positions_X.to(devices[0])\n",
    "            mlm_weights_X = mlm_weights_X.to(devices[0])\n",
    "            mlm_Y, nsp_y = mlm_Y.to(devices[0]), nsp_y.to(devices[0])\n",
    "            trainer.zero_grad()\n",
    "            timer.start()\n",
    "            mlm_l, nsp_l, l = _get_batch_loss_bert(\n",
    "                net, loss, vocab_size, tokens_X, segments_X, valid_lens_x,\n",
    "                pred_positions_X, mlm_weights_X, mlm_Y, nsp_y)\n",
    "            l.backward()\n",
    "            trainer.step()\n",
    "            metric.add(mlm_l, nsp_l, tokens_X.shape[0], 1)\n",
    "            timer.stop()\n",
    "            animator.add(step + 1,\n",
    "                         (metric[0] / metric[3], metric[1] / metric[3]))\n",
    "            step += 1\n",
    "            if step == num_steps:\n",
    "                num_steps_reached = True\n",
    "                break\n",
    "\n",
    "    print(f'MLM loss {metric[0] / metric[3]:.3f}, '\n",
    "          f'NSP loss {metric[1] / metric[3]:.3f}')\n",
    "    print(f'{metric[2] / timer.sum():.1f} sentence pairs/sec on '\n",
    "          f'{str(devices)}')"
   ]
  },
  {
   "cell_type": "markdown",
   "id": "6b888d44",
   "metadata": {},
   "source": [
    "We can plot both the masked language modeling loss and the next sentence prediction loss\n",
    "during BERT pretraining."
   ]
  },
  {
   "cell_type": "code",
   "execution_count": null,
   "id": "d53dc49b",
   "metadata": {},
   "outputs": [],
   "source": [
    "#@tab all\n",
    "train_bert(train_iter, net, loss, len(vocab), devices, 50)"
   ]
  },
  {
   "cell_type": "markdown",
   "id": "57380a65",
   "metadata": {},
   "source": [
    "## [**Representing Text with BERT**]\n",
    "\n",
    "After pretraining BERT,\n",
    "we can use it to represent single text, text pairs, or any token in them.\n",
    "The following function returns the BERT (`net`) representations for all tokens\n",
    "in `tokens_a` and `tokens_b`."
   ]
  },
  {
   "cell_type": "code",
   "execution_count": null,
   "id": "b83d2a3c",
   "metadata": {},
   "outputs": [],
   "source": [
    "#@tab mxnet\n",
    "def get_bert_encoding(net, tokens_a, tokens_b=None):\n",
    "    tokens, segments = d2l.get_tokens_and_segments(tokens_a, tokens_b)\n",
    "    token_ids = np.expand_dims(np.array(vocab[tokens], ctx=devices[0]),\n",
    "                               axis=0)\n",
    "    segments = np.expand_dims(np.array(segments, ctx=devices[0]), axis=0)\n",
    "    valid_len = np.expand_dims(np.array(len(tokens), ctx=devices[0]), axis=0)\n",
    "    encoded_X, _, _ = net(token_ids, segments, valid_len)\n",
    "    return encoded_X"
   ]
  },
  {
   "cell_type": "code",
   "execution_count": null,
   "id": "c7648bbf",
   "metadata": {},
   "outputs": [],
   "source": [
    "#@tab pytorch\n",
    "def get_bert_encoding(net, tokens_a, tokens_b=None):\n",
    "    tokens, segments = d2l.get_tokens_and_segments(tokens_a, tokens_b)\n",
    "    token_ids = torch.tensor(vocab[tokens], device=devices[0]).unsqueeze(0)\n",
    "    segments = torch.tensor(segments, device=devices[0]).unsqueeze(0)\n",
    "    valid_len = torch.tensor(len(tokens), device=devices[0]).unsqueeze(0)\n",
    "    encoded_X, _, _ = net(token_ids, segments, valid_len)\n",
    "    return encoded_X"
   ]
  },
  {
   "cell_type": "markdown",
   "id": "70975a75",
   "metadata": {},
   "source": [
    "[**Consider the sentence \"a crane is flying\".**]\n",
    "Recall the input representation of BERT as discussed in :numref:`subsec_bert_input_rep`.\n",
    "After inserting special tokens “&lt;cls&gt;” (used for classification)\n",
    "and “&lt;sep&gt;” (used for separation),\n",
    "the BERT input sequence has a length of six.\n",
    "Since zero is the index of the “&lt;cls&gt;” token,\n",
    "`encoded_text[:, 0, :]` is the BERT representation of the entire input sentence.\n",
    "To evaluate the polysemy token \"crane\",\n",
    "we also print out the first three elements of the BERT representation of the token."
   ]
  },
  {
   "cell_type": "code",
   "execution_count": null,
   "id": "23ccc2a9",
   "metadata": {},
   "outputs": [],
   "source": [
    "#@tab all\n",
    "tokens_a = ['a', 'crane', 'is', 'flying']\n",
    "encoded_text = get_bert_encoding(net, tokens_a)\n",
    "# Tokens: '<cls>', 'a', 'crane', 'is', 'flying', '<sep>'\n",
    "encoded_text_cls = encoded_text[:, 0, :]\n",
    "encoded_text_crane = encoded_text[:, 2, :]\n",
    "encoded_text.shape, encoded_text_cls.shape, encoded_text_crane[0][:3]"
   ]
  },
  {
   "cell_type": "markdown",
   "id": "41ec0264",
   "metadata": {},
   "source": [
    "[**Now consider a sentence pair\n",
    "\"a crane driver came\" and \"he just left\".**]\n",
    "Similarly, `encoded_pair[:, 0, :]` is the encoded result of the entire sentence pair from the pretrained BERT.\n",
    "Note that the first three elements of the polysemy token \"crane\" are different from those when the context is different.\n",
    "This supports that BERT representations are context-sensitive."
   ]
  },
  {
   "cell_type": "code",
   "execution_count": null,
   "id": "19243879",
   "metadata": {},
   "outputs": [],
   "source": [
    "#@tab all\n",
    "tokens_a, tokens_b = ['a', 'crane', 'driver', 'came'], ['he', 'just', 'left']\n",
    "encoded_pair = get_bert_encoding(net, tokens_a, tokens_b)\n",
    "# Tokens: '<cls>', 'a', 'crane', 'driver', 'came', '<sep>', 'he', 'just',\n",
    "# 'left', '<sep>'\n",
    "encoded_pair_cls = encoded_pair[:, 0, :]\n",
    "encoded_pair_crane = encoded_pair[:, 2, :]\n",
    "encoded_pair.shape, encoded_pair_cls.shape, encoded_pair_crane[0][:3]"
   ]
  },
  {
   "cell_type": "markdown",
   "id": "547079e1",
   "metadata": {},
   "source": [
    "In :numref:`chap_nlp_app`, we will fine-tune a pretrained BERT model\n",
    "for downstream natural language processing applications.\n",
    "\n",
    "## Summary\n",
    "\n",
    "* The original BERT has two versions, where the base model has 110 million parameters and the large model has 340 million parameters.\n",
    "* After pretraining BERT, we can use it to represent single text, text pairs, or any token in them.\n",
    "* In the experiment, the same token has different BERT representation when their contexts are different. This supports that BERT representations are context-sensitive.\n",
    "\n",
    "\n",
    "## Exercises\n",
    "\n",
    "1. In the experiment, we can see that the masked language modeling loss is significantly higher than the next sentence prediction loss. Why?\n",
    "2. Set the maximum length of a BERT input sequence to be 512 (same as the original BERT model). Use the configurations of the original BERT model such as $\\textrm{BERT}_{\\textrm{LARGE}}$. Do you encounter any error when running this section? Why?\n",
    "\n",
    ":begin_tab:`mxnet`\n",
    "[Discussions](https://discuss.d2l.ai/t/390)\n",
    ":end_tab:\n",
    "\n",
    ":begin_tab:`pytorch`\n",
    "[Discussions](https://discuss.d2l.ai/t/1497)\n",
    ":end_tab:"
   ]
  }
 ],
 "metadata": {},
 "nbformat": 4,
 "nbformat_minor": 5
}
