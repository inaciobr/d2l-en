{
 "cells": [
  {
   "cell_type": "markdown",
   "id": "58e78aa6",
   "metadata": {},
   "source": [
    "# Natural Language Inference: Using Attention\n",
    ":label:`sec_natural-language-inference-attention`\n",
    "\n",
    "We introduced the natural language inference task and the SNLI dataset in :numref:`sec_natural-language-inference-and-dataset`. In view of many models that are based on complex and deep architectures, :citet:`Parikh.Tackstrom.Das.ea.2016` proposed to address natural language inference with attention mechanisms and called it a \"decomposable attention model\".\n",
    "This results in a model without recurrent or convolutional layers, achieving the best result at the time on the SNLI dataset with much fewer parameters.\n",
    "In this section, we will describe and implement this attention-based method (with MLPs) for natural language inference, as depicted in :numref:`fig_nlp-map-nli-attention`.\n",
    "\n",
    "![This section feeds pretrained GloVe to an architecture based on attention and MLPs for natural language inference.](../img/nlp-map-nli-attention.svg)\n",
    ":label:`fig_nlp-map-nli-attention`\n",
    "\n",
    "\n",
    "## The Model\n",
    "\n",
    "Simpler than preserving the order of tokens in premises and hypotheses,\n",
    "we can just align tokens in one text sequence to every token in the other, and vice versa,\n",
    "then compare and aggregate such information to predict the logical relationships\n",
    "between premises and hypotheses.\n",
    "Similar to alignment of tokens between source and target sentences in machine translation,\n",
    "the alignment of tokens between premises and hypotheses\n",
    "can be neatly accomplished by attention mechanisms.\n",
    "\n",
    "![Natural language inference using attention mechanisms.](../img/nli-attention.svg)\n",
    ":label:`fig_nli_attention`\n",
    "\n",
    ":numref:`fig_nli_attention` depicts the natural language inference method using attention mechanisms.\n",
    "At a high level, it consists of three jointly trained steps: attending, comparing, and aggregating.\n",
    "We will illustrate them step by step in the following."
   ]
  },
  {
   "cell_type": "code",
   "execution_count": null,
   "id": "ed789dfc",
   "metadata": {},
   "outputs": [],
   "source": [
    "#@tab mxnet\n",
    "from d2l import mxnet as d2l\n",
    "from mxnet import gluon, init, np, npx\n",
    "from mxnet.gluon import nn\n",
    "\n",
    "npx.set_np()"
   ]
  },
  {
   "cell_type": "code",
   "execution_count": null,
   "id": "ebfda459",
   "metadata": {},
   "outputs": [],
   "source": [
    "#@tab pytorch\n",
    "from d2l import torch as d2l\n",
    "import torch\n",
    "from torch import nn\n",
    "from torch.nn import functional as F"
   ]
  },
  {
   "cell_type": "markdown",
   "id": "40316dca",
   "metadata": {},
   "source": [
    "### Attending\n",
    "\n",
    "The first step is to align tokens in one text sequence to each token in the other sequence.\n",
    "Suppose that the premise is \"i do need sleep\" and the hypothesis is \"i am tired\".\n",
    "Due to semantical similarity,\n",
    "we may wish to align \"i\" in the hypothesis with \"i\" in the premise,\n",
    "and align \"tired\" in the hypothesis with \"sleep\" in the premise.\n",
    "Likewise, we may wish to align \"i\" in the premise with \"i\" in the hypothesis,\n",
    "and align \"need\" and \"sleep\" in the premise with \"tired\" in the hypothesis.\n",
    "Note that such alignment is *soft* using weighted average,\n",
    "where ideally large weights are associated with the tokens to be aligned.\n",
    "For ease of demonstration, :numref:`fig_nli_attention` shows such alignment in a *hard* way.\n",
    "\n",
    "Now we describe the soft alignment using attention mechanisms in more detail.\n",
    "Denote by $\\mathbf{A} = (\\mathbf{a}_1, \\ldots, \\mathbf{a}_m)$\n",
    "and $\\mathbf{B} = (\\mathbf{b}_1, \\ldots, \\mathbf{b}_n)$ the premise and hypothesis,\n",
    "whose number of tokens are $m$ and $n$, respectively,\n",
    "where $\\mathbf{a}_i, \\mathbf{b}_j \\in \\mathbb{R}^{d}$ ($i = 1, \\ldots, m, j = 1, \\ldots, n$) is a $d$-dimensional word vector.\n",
    "For soft alignment, we compute the attention weights $e_{ij} \\in \\mathbb{R}$ as\n",
    "\n",
    "$$e_{ij} = f(\\mathbf{a}_i)^\\top f(\\mathbf{b}_j),$$\n",
    ":eqlabel:`eq_nli_e`\n",
    "\n",
    "where the function $f$ is an MLP defined in the following `mlp` function.\n",
    "The output dimension of $f$ is specified by the `num_hiddens` argument of `mlp`."
   ]
  },
  {
   "cell_type": "code",
   "execution_count": null,
   "id": "13c355ed",
   "metadata": {},
   "outputs": [],
   "source": [
    "#@tab mxnet\n",
    "def mlp(num_hiddens, flatten):\n",
    "    net = nn.Sequential()\n",
    "    net.add(nn.Dropout(0.2))\n",
    "    net.add(nn.Dense(num_hiddens, activation='relu', flatten=flatten))\n",
    "    net.add(nn.Dropout(0.2))\n",
    "    net.add(nn.Dense(num_hiddens, activation='relu', flatten=flatten))\n",
    "    return net"
   ]
  },
  {
   "cell_type": "code",
   "execution_count": null,
   "id": "7590a99a",
   "metadata": {},
   "outputs": [],
   "source": [
    "#@tab pytorch\n",
    "def mlp(num_inputs, num_hiddens, flatten):\n",
    "    net = []\n",
    "    net.append(nn.Dropout(0.2))\n",
    "    net.append(nn.Linear(num_inputs, num_hiddens))\n",
    "    net.append(nn.ReLU())\n",
    "    if flatten:\n",
    "        net.append(nn.Flatten(start_dim=1))\n",
    "    net.append(nn.Dropout(0.2))\n",
    "    net.append(nn.Linear(num_hiddens, num_hiddens))\n",
    "    net.append(nn.ReLU())\n",
    "    if flatten:\n",
    "        net.append(nn.Flatten(start_dim=1))\n",
    "    return nn.Sequential(*net)"
   ]
  },
  {
   "cell_type": "markdown",
   "id": "5fbe8aa1",
   "metadata": {},
   "source": [
    "It should be highlighted that, in :eqref:`eq_nli_e`\n",
    "$f$ takes inputs $\\mathbf{a}_i$ and $\\mathbf{b}_j$ separately rather than takes a pair of them together as input.\n",
    "This *decomposition* trick leads to only $m + n$ applications (linear complexity) of $f$ rather than $mn$ applications\n",
    "(quadratic complexity).\n",
    "\n",
    "\n",
    "Normalizing the attention weights in :eqref:`eq_nli_e`,\n",
    "we compute the weighted average of all the token vectors in the hypothesis\n",
    "to obtain representation of the hypothesis that is softly aligned with the token indexed by $i$ in the premise:\n",
    "\n",
    "$$\n",
    "\\boldsymbol{\\beta}_i = \\sum_{j=1}^{n}\\frac{\\exp(e_{ij})}{ \\sum_{k=1}^{n} \\exp(e_{ik})} \\mathbf{b}_j.\n",
    "$$\n",
    "\n",
    "Likewise, we compute soft alignment of premise tokens for each token indexed by $j$ in the hypothesis:\n",
    "\n",
    "$$\n",
    "\\boldsymbol{\\alpha}_j = \\sum_{i=1}^{m}\\frac{\\exp(e_{ij})}{ \\sum_{k=1}^{m} \\exp(e_{kj})} \\mathbf{a}_i.\n",
    "$$\n",
    "\n",
    "Below we define the `Attend` class to compute the soft alignment of hypotheses (`beta`) with input premises `A` and soft alignment of premises (`alpha`) with input hypotheses `B`."
   ]
  },
  {
   "cell_type": "code",
   "execution_count": null,
   "id": "8589b8ba",
   "metadata": {},
   "outputs": [],
   "source": [
    "#@tab mxnet\n",
    "class Attend(nn.Block):\n",
    "    def __init__(self, num_hiddens, **kwargs):\n",
    "        super(Attend, self).__init__(**kwargs)\n",
    "        self.f = mlp(num_hiddens=num_hiddens, flatten=False)\n",
    "\n",
    "    def forward(self, A, B):\n",
    "        # Shape of `A`/`B`: (b`atch_size`, no. of tokens in sequence A/B,\n",
    "        # `embed_size`)\n",
    "        # Shape of `f_A`/`f_B`: (`batch_size`, no. of tokens in sequence A/B,\n",
    "        # `num_hiddens`)\n",
    "        f_A = self.f(A)\n",
    "        f_B = self.f(B)\n",
    "        # Shape of `e`: (`batch_size`, no. of tokens in sequence A,\n",
    "        # no. of tokens in sequence B)\n",
    "        e = npx.batch_dot(f_A, f_B, transpose_b=True)\n",
    "        # Shape of `beta`: (`batch_size`, no. of tokens in sequence A,\n",
    "        # `embed_size`), where sequence B is softly aligned with each token\n",
    "        # (axis 1 of `beta`) in sequence A\n",
    "        beta = npx.batch_dot(npx.softmax(e), B)\n",
    "        # Shape of `alpha`: (`batch_size`, no. of tokens in sequence B,\n",
    "        # `embed_size`), where sequence A is softly aligned with each token\n",
    "        # (axis 1 of `alpha`) in sequence B\n",
    "        alpha = npx.batch_dot(npx.softmax(e.transpose(0, 2, 1)), A)\n",
    "        return beta, alpha"
   ]
  },
  {
   "cell_type": "code",
   "execution_count": null,
   "id": "329b1f70",
   "metadata": {},
   "outputs": [],
   "source": [
    "#@tab pytorch\n",
    "class Attend(nn.Module):\n",
    "    def __init__(self, num_inputs, num_hiddens, **kwargs):\n",
    "        super(Attend, self).__init__(**kwargs)\n",
    "        self.f = mlp(num_inputs, num_hiddens, flatten=False)\n",
    "\n",
    "    def forward(self, A, B):\n",
    "        # Shape of `A`/`B`: (`batch_size`, no. of tokens in sequence A/B,\n",
    "        # `embed_size`)\n",
    "        # Shape of `f_A`/`f_B`: (`batch_size`, no. of tokens in sequence A/B,\n",
    "        # `num_hiddens`)\n",
    "        f_A = self.f(A)\n",
    "        f_B = self.f(B)\n",
    "        # Shape of `e`: (`batch_size`, no. of tokens in sequence A,\n",
    "        # no. of tokens in sequence B)\n",
    "        e = torch.bmm(f_A, f_B.permute(0, 2, 1))\n",
    "        # Shape of `beta`: (`batch_size`, no. of tokens in sequence A,\n",
    "        # `embed_size`), where sequence B is softly aligned with each token\n",
    "        # (axis 1 of `beta`) in sequence A\n",
    "        beta = torch.bmm(F.softmax(e, dim=-1), B)\n",
    "        # Shape of `alpha`: (`batch_size`, no. of tokens in sequence B,\n",
    "        # `embed_size`), where sequence A is softly aligned with each token\n",
    "        # (axis 1 of `alpha`) in sequence B\n",
    "        alpha = torch.bmm(F.softmax(e.permute(0, 2, 1), dim=-1), A)\n",
    "        return beta, alpha"
   ]
  },
  {
   "cell_type": "markdown",
   "id": "4029d41d",
   "metadata": {},
   "source": [
    "### Comparing\n",
    "\n",
    "In the next step, we compare a token in one sequence with the other sequence that is softly aligned with that token.\n",
    "Note that in soft alignment, all the tokens from one sequence, though with probably different attention weights, will be compared with a token in the other sequence.\n",
    "For easy of demonstration, :numref:`fig_nli_attention` pairs tokens with aligned tokens in a *hard* way.\n",
    "For example, suppose that the attending step determines that \"need\" and \"sleep\" in the premise are both aligned with \"tired\" in the hypothesis, the pair \"tired--need sleep\" will be compared.\n",
    "\n",
    "In the comparing step, we feed the concatenation (operator $[\\cdot, \\cdot]$) of tokens from one sequence and aligned tokens from the other sequence into a function $g$ (an MLP):\n",
    "\n",
    "$$\\mathbf{v}_{A,i} = g([\\mathbf{a}_i, \\boldsymbol{\\beta}_i]), i = 1, \\ldots, m\\\\ \\mathbf{v}_{B,j} = g([\\mathbf{b}_j, \\boldsymbol{\\alpha}_j]), j = 1, \\ldots, n.$$\n",
    "\n",
    ":eqlabel:`eq_nli_v_ab`\n",
    "\n",
    "\n",
    "In :eqref:`eq_nli_v_ab`, $\\mathbf{v}_{A,i}$ is the comparison between token $i$ in the premise and all the hypothesis tokens that are softly aligned with token $i$;\n",
    "while $\\mathbf{v}_{B,j}$ is the comparison between token $j$ in the hypothesis and all the premise tokens that are softly aligned with token $j$.\n",
    "The following `Compare` class defines such as comparing step."
   ]
  },
  {
   "cell_type": "code",
   "execution_count": null,
   "id": "3e1a1814",
   "metadata": {},
   "outputs": [],
   "source": [
    "#@tab mxnet\n",
    "class Compare(nn.Block):\n",
    "    def __init__(self, num_hiddens, **kwargs):\n",
    "        super(Compare, self).__init__(**kwargs)\n",
    "        self.g = mlp(num_hiddens=num_hiddens, flatten=False)\n",
    "\n",
    "    def forward(self, A, B, beta, alpha):\n",
    "        V_A = self.g(np.concatenate([A, beta], axis=2))\n",
    "        V_B = self.g(np.concatenate([B, alpha], axis=2))\n",
    "        return V_A, V_B"
   ]
  },
  {
   "cell_type": "code",
   "execution_count": null,
   "id": "15c783a1",
   "metadata": {},
   "outputs": [],
   "source": [
    "#@tab pytorch\n",
    "class Compare(nn.Module):\n",
    "    def __init__(self, num_inputs, num_hiddens, **kwargs):\n",
    "        super(Compare, self).__init__(**kwargs)\n",
    "        self.g = mlp(num_inputs, num_hiddens, flatten=False)\n",
    "\n",
    "    def forward(self, A, B, beta, alpha):\n",
    "        V_A = self.g(torch.cat([A, beta], dim=2))\n",
    "        V_B = self.g(torch.cat([B, alpha], dim=2))\n",
    "        return V_A, V_B"
   ]
  },
  {
   "cell_type": "markdown",
   "id": "3a9798e4",
   "metadata": {},
   "source": [
    "### Aggregating\n",
    "\n",
    "With two sets of comparison vectors $\\mathbf{v}_{A,i}$ ($i = 1, \\ldots, m$) and $\\mathbf{v}_{B,j}$ ($j = 1, \\ldots, n$) on hand,\n",
    "in the last step we will aggregate such information to infer the logical relationship.\n",
    "We begin by summing up both sets:\n",
    "\n",
    "$$\n",
    "\\mathbf{v}_A = \\sum_{i=1}^{m} \\mathbf{v}_{A,i}, \\quad \\mathbf{v}_B = \\sum_{j=1}^{n}\\mathbf{v}_{B,j}.\n",
    "$$\n",
    "\n",
    "Next we feed the concatenation of both summarization results into function $h$ (an MLP) to obtain the classification result of the logical relationship:\n",
    "\n",
    "$$\n",
    "\\hat{\\mathbf{y}} = h([\\mathbf{v}_A, \\mathbf{v}_B]).\n",
    "$$\n",
    "\n",
    "The aggregation step is defined in the following `Aggregate` class."
   ]
  },
  {
   "cell_type": "code",
   "execution_count": null,
   "id": "9287cfd2",
   "metadata": {},
   "outputs": [],
   "source": [
    "#@tab mxnet\n",
    "class Aggregate(nn.Block):\n",
    "    def __init__(self, num_hiddens, num_outputs, **kwargs):\n",
    "        super(Aggregate, self).__init__(**kwargs)\n",
    "        self.h = mlp(num_hiddens=num_hiddens, flatten=True)\n",
    "        self.h.add(nn.Dense(num_outputs))\n",
    "\n",
    "    def forward(self, V_A, V_B):\n",
    "        # Sum up both sets of comparison vectors\n",
    "        V_A = V_A.sum(axis=1)\n",
    "        V_B = V_B.sum(axis=1)\n",
    "        # Feed the concatenation of both summarization results into an MLP\n",
    "        Y_hat = self.h(np.concatenate([V_A, V_B], axis=1))\n",
    "        return Y_hat"
   ]
  },
  {
   "cell_type": "code",
   "execution_count": null,
   "id": "3aef19b1",
   "metadata": {},
   "outputs": [],
   "source": [
    "#@tab pytorch\n",
    "class Aggregate(nn.Module):\n",
    "    def __init__(self, num_inputs, num_hiddens, num_outputs, **kwargs):\n",
    "        super(Aggregate, self).__init__(**kwargs)\n",
    "        self.h = mlp(num_inputs, num_hiddens, flatten=True)\n",
    "        self.linear = nn.Linear(num_hiddens, num_outputs)\n",
    "\n",
    "    def forward(self, V_A, V_B):\n",
    "        # Sum up both sets of comparison vectors\n",
    "        V_A = V_A.sum(dim=1)\n",
    "        V_B = V_B.sum(dim=1)\n",
    "        # Feed the concatenation of both summarization results into an MLP\n",
    "        Y_hat = self.linear(self.h(torch.cat([V_A, V_B], dim=1)))\n",
    "        return Y_hat"
   ]
  },
  {
   "cell_type": "markdown",
   "id": "9dc287c9",
   "metadata": {},
   "source": [
    "### Putting It All Together\n",
    "\n",
    "By putting the attending, comparing, and aggregating steps together,\n",
    "we define the decomposable attention model to jointly train these three steps."
   ]
  },
  {
   "cell_type": "code",
   "execution_count": null,
   "id": "1e3a5f63",
   "metadata": {},
   "outputs": [],
   "source": [
    "#@tab mxnet\n",
    "class DecomposableAttention(nn.Block):\n",
    "    def __init__(self, vocab, embed_size, num_hiddens, **kwargs):\n",
    "        super(DecomposableAttention, self).__init__(**kwargs)\n",
    "        self.embedding = nn.Embedding(len(vocab), embed_size)\n",
    "        self.attend = Attend(num_hiddens)\n",
    "        self.compare = Compare(num_hiddens)\n",
    "        # There are 3 possible outputs: entailment, contradiction, and neutral\n",
    "        self.aggregate = Aggregate(num_hiddens, 3)\n",
    "\n",
    "    def forward(self, X):\n",
    "        premises, hypotheses = X\n",
    "        A = self.embedding(premises)\n",
    "        B = self.embedding(hypotheses)\n",
    "        beta, alpha = self.attend(A, B)\n",
    "        V_A, V_B = self.compare(A, B, beta, alpha)\n",
    "        Y_hat = self.aggregate(V_A, V_B)\n",
    "        return Y_hat"
   ]
  },
  {
   "cell_type": "code",
   "execution_count": null,
   "id": "bb284fc0",
   "metadata": {},
   "outputs": [],
   "source": [
    "#@tab pytorch\n",
    "class DecomposableAttention(nn.Module):\n",
    "    def __init__(self, vocab, embed_size, num_hiddens, num_inputs_attend=100,\n",
    "                 num_inputs_compare=200, num_inputs_agg=400, **kwargs):\n",
    "        super(DecomposableAttention, self).__init__(**kwargs)\n",
    "        self.embedding = nn.Embedding(len(vocab), embed_size)\n",
    "        self.attend = Attend(num_inputs_attend, num_hiddens)\n",
    "        self.compare = Compare(num_inputs_compare, num_hiddens)\n",
    "        # There are 3 possible outputs: entailment, contradiction, and neutral\n",
    "        self.aggregate = Aggregate(num_inputs_agg, num_hiddens, num_outputs=3)\n",
    "\n",
    "    def forward(self, X):\n",
    "        premises, hypotheses = X\n",
    "        A = self.embedding(premises)\n",
    "        B = self.embedding(hypotheses)\n",
    "        beta, alpha = self.attend(A, B)\n",
    "        V_A, V_B = self.compare(A, B, beta, alpha)\n",
    "        Y_hat = self.aggregate(V_A, V_B)\n",
    "        return Y_hat"
   ]
  },
  {
   "cell_type": "markdown",
   "id": "58fff098",
   "metadata": {},
   "source": [
    "## Training and Evaluating the Model\n",
    "\n",
    "Now we will train and evaluate the defined decomposable attention model on the SNLI dataset.\n",
    "We begin by reading the dataset.\n",
    "\n",
    "\n",
    "### Reading the dataset\n",
    "\n",
    "We download and read the SNLI dataset using the function defined in :numref:`sec_natural-language-inference-and-dataset`. The batch size and sequence length are set to $256$ and $50$, respectively."
   ]
  },
  {
   "cell_type": "code",
   "execution_count": null,
   "id": "cdb29e4a",
   "metadata": {},
   "outputs": [],
   "source": [
    "#@tab all\n",
    "batch_size, num_steps = 256, 50\n",
    "train_iter, test_iter, vocab = d2l.load_data_snli(batch_size, num_steps)"
   ]
  },
  {
   "cell_type": "markdown",
   "id": "46cf1082",
   "metadata": {},
   "source": [
    "### Creating the Model\n",
    "\n",
    "We use the pretrained 100-dimensional GloVe embedding to represent the input tokens.\n",
    "Thus, we predefine the dimension of vectors $\\mathbf{a}_i$ and $\\mathbf{b}_j$ in :eqref:`eq_nli_e` as 100.\n",
    "The output dimension of functions $f$ in :eqref:`eq_nli_e` and $g$ in :eqref:`eq_nli_v_ab` is set to 200.\n",
    "Then we create a model instance, initialize its parameters,\n",
    "and load the GloVe embedding to initialize vectors of input tokens."
   ]
  },
  {
   "cell_type": "code",
   "execution_count": null,
   "id": "ff154114",
   "metadata": {},
   "outputs": [],
   "source": [
    "#@tab mxnet\n",
    "embed_size, num_hiddens, devices = 100, 200, d2l.try_all_gpus()\n",
    "net = DecomposableAttention(vocab, embed_size, num_hiddens)\n",
    "net.initialize(init.Xavier(), ctx=devices)\n",
    "glove_embedding = d2l.TokenEmbedding('glove.6b.100d')\n",
    "embeds = glove_embedding[vocab.idx_to_token]\n",
    "net.embedding.weight.set_data(embeds)"
   ]
  },
  {
   "cell_type": "code",
   "execution_count": null,
   "id": "c34677f5",
   "metadata": {},
   "outputs": [],
   "source": [
    "#@tab pytorch\n",
    "embed_size, num_hiddens, devices = 100, 200, d2l.try_all_gpus()\n",
    "net = DecomposableAttention(vocab, embed_size, num_hiddens)\n",
    "glove_embedding = d2l.TokenEmbedding('glove.6b.100d')\n",
    "embeds = glove_embedding[vocab.idx_to_token]\n",
    "net.embedding.weight.data.copy_(embeds);"
   ]
  },
  {
   "cell_type": "markdown",
   "id": "9502e79c",
   "metadata": {},
   "source": [
    "### Training and Evaluating the Model\n",
    "\n",
    "In contrast to the `split_batch` function in :numref:`sec_multi_gpu` that takes single inputs such as text sequences (or images),\n",
    "we define a `split_batch_multi_inputs` function to take multiple inputs such as premises and hypotheses in minibatches."
   ]
  },
  {
   "cell_type": "code",
   "execution_count": null,
   "id": "277a051a",
   "metadata": {},
   "outputs": [],
   "source": [
    "#@tab mxnet\n",
    "#@save\n",
    "def split_batch_multi_inputs(X, y, devices):\n",
    "    \"\"\"Split multi-input `X` and `y` into multiple devices.\"\"\"\n",
    "    X = list(zip(*[gluon.utils.split_and_load(\n",
    "        feature, devices, even_split=False) for feature in X]))\n",
    "    return (X, gluon.utils.split_and_load(y, devices, even_split=False))"
   ]
  },
  {
   "cell_type": "markdown",
   "id": "6a3fbd01",
   "metadata": {},
   "source": [
    "Now we can train and evaluate the model on the SNLI dataset."
   ]
  },
  {
   "cell_type": "code",
   "execution_count": null,
   "id": "e4e8df62",
   "metadata": {},
   "outputs": [],
   "source": [
    "#@tab mxnet\n",
    "lr, num_epochs = 0.001, 4\n",
    "trainer = gluon.Trainer(net.collect_params(), 'adam', {'learning_rate': lr})\n",
    "loss = gluon.loss.SoftmaxCrossEntropyLoss()\n",
    "d2l.train_ch13(net, train_iter, test_iter, loss, trainer, num_epochs, devices,\n",
    "               split_batch_multi_inputs)"
   ]
  },
  {
   "cell_type": "code",
   "execution_count": null,
   "id": "431f9175",
   "metadata": {},
   "outputs": [],
   "source": [
    "#@tab pytorch\n",
    "lr, num_epochs = 0.001, 4\n",
    "trainer = torch.optim.Adam(net.parameters(), lr=lr)\n",
    "loss = nn.CrossEntropyLoss(reduction=\"none\")\n",
    "d2l.train_ch13(net, train_iter, test_iter, loss, trainer, num_epochs, devices)"
   ]
  },
  {
   "cell_type": "markdown",
   "id": "ccdc900d",
   "metadata": {},
   "source": [
    "### Using the Model\n",
    "\n",
    "Finally, define the prediction function to output the logical relationship between a pair of premise and hypothesis."
   ]
  },
  {
   "cell_type": "code",
   "execution_count": null,
   "id": "c856941f",
   "metadata": {},
   "outputs": [],
   "source": [
    "#@tab mxnet\n",
    "#@save\n",
    "def predict_snli(net, vocab, premise, hypothesis):\n",
    "    \"\"\"Predict the logical relationship between the premise and hypothesis.\"\"\"\n",
    "    premise = np.array(vocab[premise], ctx=d2l.try_gpu())\n",
    "    hypothesis = np.array(vocab[hypothesis], ctx=d2l.try_gpu())\n",
    "    label = np.argmax(net([premise.reshape((1, -1)),\n",
    "                           hypothesis.reshape((1, -1))]), axis=1)\n",
    "    return 'entailment' if label == 0 else 'contradiction' if label == 1 \\\n",
    "            else 'neutral'"
   ]
  },
  {
   "cell_type": "code",
   "execution_count": null,
   "id": "82c2c196",
   "metadata": {},
   "outputs": [],
   "source": [
    "#@tab pytorch\n",
    "#@save\n",
    "def predict_snli(net, vocab, premise, hypothesis):\n",
    "    \"\"\"Predict the logical relationship between the premise and hypothesis.\"\"\"\n",
    "    net.eval()\n",
    "    premise = torch.tensor(vocab[premise], device=d2l.try_gpu())\n",
    "    hypothesis = torch.tensor(vocab[hypothesis], device=d2l.try_gpu())\n",
    "    label = torch.argmax(net([premise.reshape((1, -1)),\n",
    "                           hypothesis.reshape((1, -1))]), dim=1)\n",
    "    return 'entailment' if label == 0 else 'contradiction' if label == 1 \\\n",
    "            else 'neutral'"
   ]
  },
  {
   "cell_type": "markdown",
   "id": "e9de6df5",
   "metadata": {},
   "source": [
    "We can use the trained model to obtain the natural language inference result for a sample pair of sentences."
   ]
  },
  {
   "cell_type": "code",
   "execution_count": null,
   "id": "b93d8dca",
   "metadata": {},
   "outputs": [],
   "source": [
    "#@tab all\n",
    "predict_snli(net, vocab, ['he', 'is', 'good', '.'], ['he', 'is', 'bad', '.'])"
   ]
  },
  {
   "cell_type": "markdown",
   "id": "f1bcefc9",
   "metadata": {},
   "source": [
    "## Summary\n",
    "\n",
    "* The decomposable attention model consists of three steps for predicting the logical relationships between premises and hypotheses: attending, comparing, and aggregating.\n",
    "* With attention mechanisms, we can align tokens in one text sequence to every token in the other, and vice versa. Such alignment is soft using weighted average, where ideally large weights are associated with the tokens to be aligned.\n",
    "* The decomposition trick leads to a more desirable linear complexity than quadratic complexity when computing attention weights.\n",
    "* We can use pretrained word vectors as the input representation for downstream natural language processing task such as natural language inference.\n",
    "\n",
    "\n",
    "## Exercises\n",
    "\n",
    "1. Train the model with other combinations of hyperparameters. Can you get better accuracy on the test set?\n",
    "1. What are major drawbacks of the decomposable attention model for natural language inference?\n",
    "1. Suppose that we want to get the level of semantical similarity (e.g., a continuous value between 0 and 1) for any pair of sentences. How shall we collect and label the dataset? Can you design a model with attention mechanisms?\n",
    "\n",
    ":begin_tab:`mxnet`\n",
    "[Discussions](https://discuss.d2l.ai/t/395)\n",
    ":end_tab:\n",
    "\n",
    ":begin_tab:`pytorch`\n",
    "[Discussions](https://discuss.d2l.ai/t/1530)\n",
    ":end_tab:"
   ]
  }
 ],
 "metadata": {},
 "nbformat": 4,
 "nbformat_minor": 5
}
