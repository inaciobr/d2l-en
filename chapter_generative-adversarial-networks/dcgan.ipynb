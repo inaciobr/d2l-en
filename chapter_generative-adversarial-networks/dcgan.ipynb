{
 "cells": [
  {
   "cell_type": "markdown",
   "id": "b2464ff6",
   "metadata": {},
   "source": [
    "# Deep Convolutional Generative Adversarial Networks\n",
    ":label:`sec_dcgan`\n",
    "\n",
    "In :numref:`sec_basic_gan`, we introduced the basic ideas behind how GANs work. We showed that they can draw samples from some simple, easy-to-sample distribution, like a uniform or normal distribution, and transform them into samples that appear to match the distribution of some dataset. And while our example of matching a 2D Gaussian distribution got the point across, it is not especially exciting.\n",
    "\n",
    "In this section, we will demonstrate how you can use GANs to generate photorealistic images. We will be basing our models on the deep convolutional GANs (DCGAN) introduced in :citet:`Radford.Metz.Chintala.2015`. We will borrow the convolutional architecture that have proven so successful for discriminative computer vision problems and show how via GANs, they can be leveraged to generate photorealistic images."
   ]
  },
  {
   "cell_type": "code",
   "execution_count": null,
   "id": "f31f15cc",
   "metadata": {},
   "outputs": [],
   "source": [
    "#@tab mxnet\n",
    "from mxnet import gluon, init, np, npx\n",
    "from mxnet.gluon import nn\n",
    "from d2l import mxnet as d2l\n",
    "\n",
    "npx.set_np()"
   ]
  },
  {
   "cell_type": "code",
   "execution_count": null,
   "id": "221433ee",
   "metadata": {},
   "outputs": [],
   "source": [
    "#@tab pytorch\n",
    "from d2l import torch as d2l\n",
    "import torch\n",
    "import torchvision\n",
    "from torch import nn\n",
    "import warnings"
   ]
  },
  {
   "cell_type": "code",
   "execution_count": null,
   "id": "f73b4225",
   "metadata": {},
   "outputs": [],
   "source": [
    "#@tab tensorflow\n",
    "from d2l import tensorflow as d2l\n",
    "import tensorflow as tf"
   ]
  },
  {
   "cell_type": "markdown",
   "id": "66a97225",
   "metadata": {},
   "source": [
    "## The Pokemon Dataset\n",
    "\n",
    "The dataset we will use is a collection of Pokemon sprites obtained from [pokemondb](https://pokemondb.net/sprites). First download, extract and load this dataset."
   ]
  },
  {
   "cell_type": "code",
   "execution_count": null,
   "id": "f833f44a",
   "metadata": {},
   "outputs": [],
   "source": [
    "#@tab mxnet\n",
    "#@save\n",
    "d2l.DATA_HUB['pokemon'] = (d2l.DATA_URL + 'pokemon.zip',\n",
    "                           'c065c0e2593b8b161a2d7873e42418bf6a21106c')\n",
    "\n",
    "data_dir = d2l.download_extract('pokemon')\n",
    "pokemon = gluon.data.vision.datasets.ImageFolderDataset(data_dir)"
   ]
  },
  {
   "cell_type": "code",
   "execution_count": null,
   "id": "e2450854",
   "metadata": {},
   "outputs": [],
   "source": [
    "#@tab pytorch\n",
    "#@save\n",
    "d2l.DATA_HUB['pokemon'] = (d2l.DATA_URL + 'pokemon.zip',\n",
    "                           'c065c0e2593b8b161a2d7873e42418bf6a21106c')\n",
    "\n",
    "data_dir = d2l.download_extract('pokemon')\n",
    "pokemon = torchvision.datasets.ImageFolder(data_dir)"
   ]
  },
  {
   "cell_type": "code",
   "execution_count": null,
   "id": "8bee3753",
   "metadata": {},
   "outputs": [],
   "source": [
    "#@tab tensorflow\n",
    "#@save\n",
    "d2l.DATA_HUB['pokemon'] = (d2l.DATA_URL + 'pokemon.zip',\n",
    "                           'c065c0e2593b8b161a2d7873e42418bf6a21106c')\n",
    "\n",
    "data_dir = d2l.download_extract('pokemon')\n",
    "batch_size = 256\n",
    "pokemon = tf.keras.preprocessing.image_dataset_from_directory(\n",
    "    data_dir, batch_size=batch_size, image_size=(64, 64))"
   ]
  },
  {
   "cell_type": "markdown",
   "id": "9d8d194a",
   "metadata": {},
   "source": [
    "We resize each image into $64\\times 64$. The `ToTensor` transformation will project the pixel value into $[0, 1]$, while our generator will use the tanh function to obtain outputs in $[-1, 1]$. Therefore we normalize the data with $0.5$ mean and $0.5$ standard deviation to match the value range."
   ]
  },
  {
   "cell_type": "code",
   "execution_count": null,
   "id": "edf8b498",
   "metadata": {},
   "outputs": [],
   "source": [
    "#@tab mxnet\n",
    "batch_size = 256\n",
    "transformer = gluon.data.vision.transforms.Compose([\n",
    "    gluon.data.vision.transforms.Resize(64),\n",
    "    gluon.data.vision.transforms.ToTensor(),\n",
    "    gluon.data.vision.transforms.Normalize(0.5, 0.5)\n",
    "])\n",
    "data_iter = gluon.data.DataLoader(\n",
    "    pokemon.transform_first(transformer), batch_size=batch_size,\n",
    "    shuffle=True, num_workers=d2l.get_dataloader_workers())"
   ]
  },
  {
   "cell_type": "code",
   "execution_count": null,
   "id": "d3c45971",
   "metadata": {},
   "outputs": [],
   "source": [
    "#@tab pytorch\n",
    "batch_size = 256\n",
    "transformer = torchvision.transforms.Compose([\n",
    "    torchvision.transforms.Resize((64, 64)),\n",
    "    torchvision.transforms.ToTensor(),\n",
    "    torchvision.transforms.Normalize(0.5, 0.5)\n",
    "])\n",
    "pokemon.transform = transformer\n",
    "data_iter = torch.utils.data.DataLoader(\n",
    "    pokemon, batch_size=batch_size,\n",
    "    shuffle=True, num_workers=d2l.get_dataloader_workers())"
   ]
  },
  {
   "cell_type": "code",
   "execution_count": null,
   "id": "14bb011f",
   "metadata": {},
   "outputs": [],
   "source": [
    "#@tab tensorflow\n",
    "def transform_func(X):\n",
    "    X = X / 255.\n",
    "    X = (X - 0.5) / (0.5)\n",
    "    return X\n",
    "\n",
    "# For TF>=2.4 use `num_parallel_calls = tf.data.AUTOTUNE`\n",
    "data_iter = pokemon.map(lambda x, y: (transform_func(x), y),\n",
    "                        num_parallel_calls=tf.data.experimental.AUTOTUNE)\n",
    "data_iter = data_iter.cache().shuffle(buffer_size=1000).prefetch(\n",
    "    buffer_size=tf.data.experimental.AUTOTUNE)"
   ]
  },
  {
   "cell_type": "markdown",
   "id": "e1e9bfaf",
   "metadata": {},
   "source": [
    "Let's visualize the first 20 images."
   ]
  },
  {
   "cell_type": "code",
   "execution_count": null,
   "id": "9017adf9",
   "metadata": {},
   "outputs": [],
   "source": [
    "#@tab mxnet\n",
    "d2l.set_figsize((4, 4))\n",
    "for X, y in data_iter:\n",
    "    imgs = X[:20,:,:,:].transpose(0, 2, 3, 1)/2+0.5\n",
    "    d2l.show_images(imgs, num_rows=4, num_cols=5)\n",
    "    break"
   ]
  },
  {
   "cell_type": "code",
   "execution_count": null,
   "id": "a55bbef4",
   "metadata": {},
   "outputs": [],
   "source": [
    "#@tab pytorch\n",
    "warnings.filterwarnings('ignore')\n",
    "d2l.set_figsize((4, 4))\n",
    "for X, y in data_iter:\n",
    "    imgs = X[:20,:,:,:].permute(0, 2, 3, 1)/2+0.5\n",
    "    d2l.show_images(imgs, num_rows=4, num_cols=5)\n",
    "    break"
   ]
  },
  {
   "cell_type": "code",
   "execution_count": null,
   "id": "4e49d4ad",
   "metadata": {},
   "outputs": [],
   "source": [
    "#@tab tensorflow\n",
    "d2l.set_figsize(figsize=(4, 4))\n",
    "for X, y in data_iter.take(1):\n",
    "    imgs = X[:20, :, :, :] / 2 + 0.5\n",
    "    d2l.show_images(imgs, num_rows=4, num_cols=5)"
   ]
  },
  {
   "cell_type": "markdown",
   "id": "58fbfc66",
   "metadata": {},
   "source": [
    "## The Generator\n",
    "\n",
    "The generator needs to map the noise variable $\\mathbf z\\in\\mathbb R^d$, a length-$d$ vector, to a RGB image with width and height to be $64\\times 64$ . In :numref:`sec_fcn` we introduced the fully convolutional network that uses transposed convolution layer (refer to :numref:`sec_transposed_conv`) to enlarge input size. The basic block of the generator contains a transposed convolution layer followed by the batch normalization and ReLU activation."
   ]
  },
  {
   "cell_type": "code",
   "execution_count": null,
   "id": "9214d6cb",
   "metadata": {},
   "outputs": [],
   "source": [
    "#@tab mxnet\n",
    "class G_block(nn.Block):\n",
    "    def __init__(self, channels, kernel_size=4,\n",
    "                 strides=2, padding=1, **kwargs):\n",
    "        super(G_block, self).__init__(**kwargs)\n",
    "        self.conv2d_trans = nn.Conv2DTranspose(\n",
    "            channels, kernel_size, strides, padding, use_bias=False)\n",
    "        self.batch_norm = nn.BatchNorm()\n",
    "        self.activation = nn.Activation('relu')\n",
    "\n",
    "    def forward(self, X):\n",
    "        return self.activation(self.batch_norm(self.conv2d_trans(X)))"
   ]
  },
  {
   "cell_type": "code",
   "execution_count": null,
   "id": "4f1d3f74",
   "metadata": {},
   "outputs": [],
   "source": [
    "#@tab pytorch\n",
    "class G_block(nn.Module):\n",
    "    def __init__(self, out_channels, in_channels=3, kernel_size=4, strides=2,\n",
    "                 padding=1, **kwargs):\n",
    "        super(G_block, self).__init__(**kwargs)\n",
    "        self.conv2d_trans = nn.ConvTranspose2d(in_channels, out_channels,\n",
    "                                kernel_size, strides, padding, bias=False)\n",
    "        self.batch_norm = nn.BatchNorm2d(out_channels)\n",
    "        self.activation = nn.ReLU()\n",
    "\n",
    "    def forward(self, X):\n",
    "        return self.activation(self.batch_norm(self.conv2d_trans(X)))"
   ]
  },
  {
   "cell_type": "code",
   "execution_count": null,
   "id": "b1beeafc",
   "metadata": {},
   "outputs": [],
   "source": [
    "#@tab tensorflow\n",
    "class G_block(tf.keras.layers.Layer):\n",
    "    def __init__(self, out_channels, kernel_size=4, strides=2, padding=\"same\",\n",
    "                 **kwargs):\n",
    "        super().__init__(**kwargs)\n",
    "        self.conv2d_trans = tf.keras.layers.Conv2DTranspose(\n",
    "            out_channels, kernel_size, strides, padding, use_bias=False)\n",
    "        self.batch_norm = tf.keras.layers.BatchNormalization()\n",
    "        self.activation = tf.keras.layers.ReLU()\n",
    "\n",
    "    def call(self, X):\n",
    "        return self.activation(self.batch_norm(self.conv2d_trans(X)))"
   ]
  },
  {
   "cell_type": "markdown",
   "id": "b3e3a7c6",
   "metadata": {},
   "source": [
    "In default, the transposed convolution layer uses a $k_h = k_w = 4$ kernel, a $s_h = s_w = 2$ strides, and a $p_h = p_w = 1$ padding. With a input shape of $n_h^{'} \\times n_w^{'} = 16 \\times 16$, the generator block will double input's width and height.\n",
    "\n",
    "$$\n",
    "\\begin{aligned}\n",
    "n_h^{'} \\times n_w^{'} &= [(n_h k_h - (n_h-1)(k_h-s_h)- 2p_h] \\times [(n_w k_w - (n_w-1)(k_w-s_w)- 2p_w]\\\\\n",
    "  &= [(k_h + s_h (n_h-1)- 2p_h] \\times [(k_w + s_w (n_w-1)- 2p_w]\\\\\n",
    "  &= [(4 + 2 \\times (16-1)- 2 \\times 1] \\times [(4 + 2 \\times (16-1)- 2 \\times 1]\\\\\n",
    "  &= 32 \\times 32 .\\\\\n",
    "\\end{aligned}\n",
    "$$"
   ]
  },
  {
   "cell_type": "code",
   "execution_count": null,
   "id": "8728a6de",
   "metadata": {},
   "outputs": [],
   "source": [
    "#@tab mxnet\n",
    "x = np.zeros((2, 3, 16, 16))\n",
    "g_blk = G_block(20)\n",
    "g_blk.initialize()\n",
    "g_blk(x).shape"
   ]
  },
  {
   "cell_type": "code",
   "execution_count": null,
   "id": "cdcf2e99",
   "metadata": {},
   "outputs": [],
   "source": [
    "#@tab pytorch\n",
    "x = torch.zeros((2, 3, 16, 16))\n",
    "g_blk = G_block(20)\n",
    "g_blk(x).shape"
   ]
  },
  {
   "cell_type": "code",
   "execution_count": null,
   "id": "e065fc8b",
   "metadata": {},
   "outputs": [],
   "source": [
    "#@tab tensorflow\n",
    "x = tf.zeros((2, 16, 16, 3))  # Channel last convention\n",
    "g_blk = G_block(20)\n",
    "g_blk(x).shape"
   ]
  },
  {
   "cell_type": "markdown",
   "id": "56723f3b",
   "metadata": {},
   "source": [
    "If changing the transposed convolution layer to a $4\\times 4$ kernel, $1\\times 1$ strides and zero padding. With a input size of $1 \\times 1$, the output will have its width and height increased by 3 respectively."
   ]
  },
  {
   "cell_type": "code",
   "execution_count": null,
   "id": "6c0e5184",
   "metadata": {},
   "outputs": [],
   "source": [
    "#@tab mxnet\n",
    "x = np.zeros((2, 3, 1, 1))\n",
    "g_blk = G_block(20, strides=1, padding=0)\n",
    "g_blk.initialize()\n",
    "g_blk(x).shape"
   ]
  },
  {
   "cell_type": "code",
   "execution_count": null,
   "id": "af1e1ef1",
   "metadata": {},
   "outputs": [],
   "source": [
    "#@tab pytorch\n",
    "x = torch.zeros((2, 3, 1, 1))\n",
    "g_blk = G_block(20, strides=1, padding=0)\n",
    "g_blk(x).shape"
   ]
  },
  {
   "cell_type": "code",
   "execution_count": null,
   "id": "bf5a49c1",
   "metadata": {},
   "outputs": [],
   "source": [
    "#@tab tensorflow\n",
    "x = tf.zeros((2, 1, 1, 3))\n",
    "# `padding=\"valid\"` corresponds to no padding\n",
    "g_blk = G_block(20, strides=1, padding=\"valid\")\n",
    "g_blk(x).shape"
   ]
  },
  {
   "cell_type": "markdown",
   "id": "72a36bf4",
   "metadata": {},
   "source": [
    "The generator consists of four basic blocks that increase input's both width and height from 1 to 32. At the same time, it first projects the latent variable into $64\\times 8$ channels, and then halve the channels each time. At last, a transposed convolution layer is used to generate the output. It further doubles the width and height to match the desired $64\\times 64$ shape, and reduces the channel size to $3$. The tanh activation function is applied to project output values into the $(-1, 1)$ range."
   ]
  },
  {
   "cell_type": "code",
   "execution_count": null,
   "id": "9d3175b3",
   "metadata": {},
   "outputs": [],
   "source": [
    "#@tab mxnet\n",
    "n_G = 64\n",
    "net_G = nn.Sequential()\n",
    "net_G.add(G_block(n_G*8, strides=1, padding=0),  # Output: (64 * 8, 4, 4)\n",
    "          G_block(n_G*4),  # Output: (64 * 4, 8, 8)\n",
    "          G_block(n_G*2),  # Output: (64 * 2, 16, 16)\n",
    "          G_block(n_G),    # Output: (64, 32, 32)\n",
    "          nn.Conv2DTranspose(\n",
    "              3, kernel_size=4, strides=2, padding=1, use_bias=False,\n",
    "              activation='tanh'))  # Output: (3, 64, 64)"
   ]
  },
  {
   "cell_type": "code",
   "execution_count": null,
   "id": "94ac451b",
   "metadata": {},
   "outputs": [],
   "source": [
    "#@tab pytorch\n",
    "n_G = 64\n",
    "net_G = nn.Sequential(\n",
    "    G_block(in_channels=100, out_channels=n_G*8,\n",
    "            strides=1, padding=0),                  # Output: (64 * 8, 4, 4)\n",
    "    G_block(in_channels=n_G*8, out_channels=n_G*4), # Output: (64 * 4, 8, 8)\n",
    "    G_block(in_channels=n_G*4, out_channels=n_G*2), # Output: (64 * 2, 16, 16)\n",
    "    G_block(in_channels=n_G*2, out_channels=n_G),   # Output: (64, 32, 32)\n",
    "    nn.ConvTranspose2d(in_channels=n_G, out_channels=3,\n",
    "                       kernel_size=4, stride=2, padding=1, bias=False),\n",
    "    nn.Tanh())  # Output: (3, 64, 64)"
   ]
  },
  {
   "cell_type": "code",
   "execution_count": null,
   "id": "dc051f21",
   "metadata": {},
   "outputs": [],
   "source": [
    "#@tab tensorflow\n",
    "n_G = 64\n",
    "net_G = tf.keras.Sequential([\n",
    "    # Output: (4, 4, 64 * 8)\n",
    "    G_block(out_channels=n_G*8, strides=1, padding=\"valid\"),\n",
    "    G_block(out_channels=n_G*4), # Output: (8, 8, 64 * 4)\n",
    "    G_block(out_channels=n_G*2), # Output: (16, 16, 64 * 2)\n",
    "    G_block(out_channels=n_G), # Output: (32, 32, 64)\n",
    "    # Output: (64, 64, 3)\n",
    "    tf.keras.layers.Conv2DTranspose(\n",
    "        3, kernel_size=4, strides=2, padding=\"same\", use_bias=False,\n",
    "        activation=\"tanh\")\n",
    "])"
   ]
  },
  {
   "cell_type": "markdown",
   "id": "c0b465f8",
   "metadata": {},
   "source": [
    "Generate a 100 dimensional latent variable to verify the generator's output shape."
   ]
  },
  {
   "cell_type": "code",
   "execution_count": null,
   "id": "541e9e91",
   "metadata": {},
   "outputs": [],
   "source": [
    "#@tab mxnet\n",
    "x = np.zeros((1, 100, 1, 1))\n",
    "net_G.initialize()\n",
    "net_G(x).shape"
   ]
  },
  {
   "cell_type": "code",
   "execution_count": null,
   "id": "9cd734ae",
   "metadata": {},
   "outputs": [],
   "source": [
    "#@tab pytorch\n",
    "x = torch.zeros((1, 100, 1, 1))\n",
    "net_G(x).shape"
   ]
  },
  {
   "cell_type": "code",
   "execution_count": null,
   "id": "1a80a0e2",
   "metadata": {},
   "outputs": [],
   "source": [
    "#@tab tensorflow\n",
    "x = tf.zeros((1, 1, 1, 100))\n",
    "net_G(x).shape"
   ]
  },
  {
   "cell_type": "markdown",
   "id": "129936c2",
   "metadata": {},
   "source": [
    "## Discriminator\n",
    "\n",
    "The discriminator is a normal convolutional network network except that it uses a leaky ReLU as its activation function. Given $\\alpha \\in[0, 1]$, its definition is\n",
    "\n",
    "$$\\textrm{leaky ReLU}(x) = \\begin{cases}x & \\textrm{if}\\ x > 0\\\\ \\alpha x &\\textrm{otherwise}\\end{cases}.$$\n",
    "\n",
    "As it can be seen, it is normal ReLU if $\\alpha=0$, and an identity function if $\\alpha=1$. For $\\alpha \\in (0, 1)$, leaky ReLU is a nonlinear function that give a non-zero output for a negative input. It aims to fix the \"dying ReLU\" problem that a neuron might always output a negative value and therefore cannot make any progress since the gradient of ReLU is 0."
   ]
  },
  {
   "cell_type": "code",
   "execution_count": null,
   "id": "611a7d37",
   "metadata": {},
   "outputs": [],
   "source": [
    "#@tab mxnet,pytorch\n",
    "alphas = [0, .2, .4, .6, .8, 1]\n",
    "x = d2l.arange(-2, 1, 0.1)\n",
    "Y = [d2l.numpy(nn.LeakyReLU(alpha)(x)) for alpha in alphas]\n",
    "d2l.plot(d2l.numpy(x), Y, 'x', 'y', alphas)"
   ]
  },
  {
   "cell_type": "code",
   "execution_count": null,
   "id": "c075cf94",
   "metadata": {},
   "outputs": [],
   "source": [
    "#@tab tensorflow\n",
    "alphas = [0, .2, .4, .6, .8, 1]\n",
    "x = tf.range(-2, 1, 0.1)\n",
    "Y = [tf.keras.layers.LeakyReLU(alpha)(x).numpy() for alpha in alphas]\n",
    "d2l.plot(x.numpy(), Y, 'x', 'y', alphas)"
   ]
  },
  {
   "cell_type": "markdown",
   "id": "c9803a2e",
   "metadata": {},
   "source": [
    "The basic block of the discriminator is a convolution layer followed by a batch normalization layer and a leaky ReLU activation. The hyperparameters of the convolution layer are similar to the transpose convolution layer in the generator block."
   ]
  },
  {
   "cell_type": "code",
   "execution_count": null,
   "id": "6ae33fcb",
   "metadata": {},
   "outputs": [],
   "source": [
    "#@tab mxnet\n",
    "class D_block(nn.Block):\n",
    "    def __init__(self, channels, kernel_size=4, strides=2,\n",
    "                 padding=1, alpha=0.2, **kwargs):\n",
    "        super(D_block, self).__init__(**kwargs)\n",
    "        self.conv2d = nn.Conv2D(\n",
    "            channels, kernel_size, strides, padding, use_bias=False)\n",
    "        self.batch_norm = nn.BatchNorm()\n",
    "        self.activation = nn.LeakyReLU(alpha)\n",
    "\n",
    "    def forward(self, X):\n",
    "        return self.activation(self.batch_norm(self.conv2d(X)))"
   ]
  },
  {
   "cell_type": "code",
   "execution_count": null,
   "id": "567e2ffe",
   "metadata": {},
   "outputs": [],
   "source": [
    "#@tab pytorch\n",
    "class D_block(nn.Module):\n",
    "    def __init__(self, out_channels, in_channels=3, kernel_size=4, strides=2,\n",
    "                padding=1, alpha=0.2, **kwargs):\n",
    "        super(D_block, self).__init__(**kwargs)\n",
    "        self.conv2d = nn.Conv2d(in_channels, out_channels, kernel_size,\n",
    "                                strides, padding, bias=False)\n",
    "        self.batch_norm = nn.BatchNorm2d(out_channels)\n",
    "        self.activation = nn.LeakyReLU(alpha, inplace=True)\n",
    "\n",
    "    def forward(self, X):\n",
    "        return self.activation(self.batch_norm(self.conv2d(X)))"
   ]
  },
  {
   "cell_type": "code",
   "execution_count": null,
   "id": "3db9b0ec",
   "metadata": {},
   "outputs": [],
   "source": [
    "#@tab tensorflow\n",
    "class D_block(tf.keras.layers.Layer):\n",
    "    def __init__(self, out_channels, kernel_size=4, strides=2, padding=\"same\",\n",
    "                 alpha=0.2, **kwargs):\n",
    "        super().__init__(**kwargs)\n",
    "        self.conv2d = tf.keras.layers.Conv2D(out_channels, kernel_size,\n",
    "                                             strides, padding, use_bias=False)\n",
    "        self.batch_norm = tf.keras.layers.BatchNormalization()\n",
    "        self.activation = tf.keras.layers.LeakyReLU(alpha)\n",
    "\n",
    "    def call(self, X):\n",
    "        return self.activation(self.batch_norm(self.conv2d(X)))"
   ]
  },
  {
   "cell_type": "markdown",
   "id": "014828f4",
   "metadata": {},
   "source": [
    "A basic block with default settings will halve the width and height of the inputs, as we demonstrated in :numref:`sec_padding`. For example, given a input shape $n_h = n_w = 16$, with a kernel shape $k_h = k_w = 4$, a stride shape $s_h = s_w = 2$, and a padding shape $p_h = p_w = 1$, the output shape will be:\n",
    "\n",
    "$$\n",
    "\\begin{aligned}\n",
    "n_h^{'} \\times n_w^{'} &= \\lfloor(n_h-k_h+2p_h+s_h)/s_h\\rfloor \\times \\lfloor(n_w-k_w+2p_w+s_w)/s_w\\rfloor\\\\\n",
    "  &= \\lfloor(16-4+2\\times 1+2)/2\\rfloor \\times \\lfloor(16-4+2\\times 1+2)/2\\rfloor\\\\\n",
    "  &= 8 \\times 8 .\\\\\n",
    "\\end{aligned}\n",
    "$$"
   ]
  },
  {
   "cell_type": "code",
   "execution_count": null,
   "id": "dd2ff97a",
   "metadata": {},
   "outputs": [],
   "source": [
    "#@tab mxnet\n",
    "x = np.zeros((2, 3, 16, 16))\n",
    "d_blk = D_block(20)\n",
    "d_blk.initialize()\n",
    "d_blk(x).shape"
   ]
  },
  {
   "cell_type": "code",
   "execution_count": null,
   "id": "7aca67b1",
   "metadata": {},
   "outputs": [],
   "source": [
    "#@tab pytorch\n",
    "x = torch.zeros((2, 3, 16, 16))\n",
    "d_blk = D_block(20)\n",
    "d_blk(x).shape"
   ]
  },
  {
   "cell_type": "code",
   "execution_count": null,
   "id": "540b7121",
   "metadata": {},
   "outputs": [],
   "source": [
    "#@tab tensorflow\n",
    "x = tf.zeros((2, 16, 16, 3))\n",
    "d_blk = D_block(20)\n",
    "d_blk(x).shape"
   ]
  },
  {
   "cell_type": "markdown",
   "id": "09cd57d5",
   "metadata": {},
   "source": [
    "The discriminator is a mirror of the generator."
   ]
  },
  {
   "cell_type": "code",
   "execution_count": null,
   "id": "03e56584",
   "metadata": {},
   "outputs": [],
   "source": [
    "#@tab mxnet\n",
    "n_D = 64\n",
    "net_D = nn.Sequential()\n",
    "net_D.add(D_block(n_D),   # Output: (64, 32, 32)\n",
    "          D_block(n_D*2),  # Output: (64 * 2, 16, 16)\n",
    "          D_block(n_D*4),  # Output: (64 * 4, 8, 8)\n",
    "          D_block(n_D*8),  # Output: (64 * 8, 4, 4)\n",
    "          nn.Conv2D(1, kernel_size=4, use_bias=False))  # Output: (1, 1, 1)"
   ]
  },
  {
   "cell_type": "code",
   "execution_count": null,
   "id": "f24a724d",
   "metadata": {},
   "outputs": [],
   "source": [
    "#@tab pytorch\n",
    "n_D = 64\n",
    "net_D = nn.Sequential(\n",
    "    D_block(n_D),  # Output: (64, 32, 32)\n",
    "    D_block(in_channels=n_D, out_channels=n_D*2),  # Output: (64 * 2, 16, 16)\n",
    "    D_block(in_channels=n_D*2, out_channels=n_D*4),  # Output: (64 * 4, 8, 8)\n",
    "    D_block(in_channels=n_D*4, out_channels=n_D*8),  # Output: (64 * 8, 4, 4)\n",
    "    nn.Conv2d(in_channels=n_D*8, out_channels=1,\n",
    "              kernel_size=4, bias=False))  # Output: (1, 1, 1)"
   ]
  },
  {
   "cell_type": "code",
   "execution_count": null,
   "id": "630cbee4",
   "metadata": {},
   "outputs": [],
   "source": [
    "#@tab tensorflow\n",
    "n_D = 64\n",
    "net_D = tf.keras.Sequential([\n",
    "    D_block(n_D), # Output: (32, 32, 64)\n",
    "    D_block(out_channels=n_D*2), # Output: (16, 16, 64 * 2)\n",
    "    D_block(out_channels=n_D*4), # Output: (8, 8, 64 * 4)\n",
    "    D_block(out_channels=n_D*8), # Outupt: (4, 4, 64 * 64)\n",
    "    # Output: (1, 1, 1)\n",
    "    tf.keras.layers.Conv2D(1, kernel_size=4, use_bias=False)\n",
    "])"
   ]
  },
  {
   "cell_type": "markdown",
   "id": "facb3d09",
   "metadata": {},
   "source": [
    "It uses a convolution layer with output channel $1$ as the last layer to obtain a single prediction value."
   ]
  },
  {
   "cell_type": "code",
   "execution_count": null,
   "id": "265c52ec",
   "metadata": {},
   "outputs": [],
   "source": [
    "#@tab mxnet\n",
    "x = np.zeros((1, 3, 64, 64))\n",
    "net_D.initialize()\n",
    "net_D(x).shape"
   ]
  },
  {
   "cell_type": "code",
   "execution_count": null,
   "id": "ec965c31",
   "metadata": {},
   "outputs": [],
   "source": [
    "#@tab pytorch\n",
    "x = torch.zeros((1, 3, 64, 64))\n",
    "net_D(x).shape"
   ]
  },
  {
   "cell_type": "code",
   "execution_count": null,
   "id": "482c6acf",
   "metadata": {},
   "outputs": [],
   "source": [
    "#@tab tensorflow\n",
    "x = tf.zeros((1, 64, 64, 3))\n",
    "net_D(x).shape"
   ]
  },
  {
   "cell_type": "markdown",
   "id": "394ae1bb",
   "metadata": {},
   "source": [
    "## Training\n",
    "\n",
    "Compared to the basic GAN in :numref:`sec_basic_gan`, we use the same learning rate for both generator and discriminator since they are similar to each other. In addition, we change $\\beta_1$ in Adam (:numref:`sec_adam`) from $0.9$ to $0.5$. It decreases the smoothness of the momentum, the exponentially weighted moving average of past gradients, to take care of the rapid changing gradients because the generator and the discriminator fight with each other. Besides, the random generated noise `Z`, is a 4-D tensor and we are using GPU to accelerate the computation."
   ]
  },
  {
   "cell_type": "code",
   "execution_count": null,
   "id": "f8c83e72",
   "metadata": {},
   "outputs": [],
   "source": [
    "#@tab mxnet\n",
    "def train(net_D, net_G, data_iter, num_epochs, lr, latent_dim,\n",
    "          device=d2l.try_gpu()):\n",
    "    loss = gluon.loss.SigmoidBCELoss()\n",
    "    net_D.initialize(init=init.Normal(0.02), force_reinit=True, ctx=device)\n",
    "    net_G.initialize(init=init.Normal(0.02), force_reinit=True, ctx=device)\n",
    "    trainer_hp = {'learning_rate': lr, 'beta1': 0.5}\n",
    "    trainer_D = gluon.Trainer(net_D.collect_params(), 'adam', trainer_hp)\n",
    "    trainer_G = gluon.Trainer(net_G.collect_params(), 'adam', trainer_hp)\n",
    "    animator = d2l.Animator(xlabel='epoch', ylabel='loss',\n",
    "                            xlim=[1, num_epochs], nrows=2, figsize=(5, 5),\n",
    "                            legend=['discriminator', 'generator'])\n",
    "    animator.fig.subplots_adjust(hspace=0.3)\n",
    "    for epoch in range(1, num_epochs + 1):\n",
    "        # Train one epoch\n",
    "        timer = d2l.Timer()\n",
    "        metric = d2l.Accumulator(3)  # loss_D, loss_G, num_examples\n",
    "        for X, _ in data_iter:\n",
    "            batch_size = X.shape[0]\n",
    "            Z = np.random.normal(0, 1, size=(batch_size, latent_dim, 1, 1))\n",
    "            X, Z = X.as_in_ctx(device), Z.as_in_ctx(device),\n",
    "            metric.add(d2l.update_D(X, Z, net_D, net_G, loss, trainer_D),\n",
    "                       d2l.update_G(Z, net_D, net_G, loss, trainer_G),\n",
    "                       batch_size)\n",
    "        # Show generated examples\n",
    "        Z = np.random.normal(0, 1, size=(21, latent_dim, 1, 1), ctx=device)\n",
    "        # Normalize the synthetic data to N(0, 1)\n",
    "        fake_x = net_G(Z).transpose(0, 2, 3, 1) / 2 + 0.5\n",
    "        imgs = np.concatenate(\n",
    "            [np.concatenate([fake_x[i * 7 + j] for j in range(7)], axis=1)\n",
    "             for i in range(len(fake_x)//7)], axis=0)\n",
    "        animator.axes[1].cla()\n",
    "        animator.axes[1].imshow(imgs.asnumpy())\n",
    "        # Show the losses\n",
    "        loss_D, loss_G = metric[0] / metric[2], metric[1] / metric[2]\n",
    "        animator.add(epoch, (loss_D, loss_G))\n",
    "    print(f'loss_D {loss_D:.3f}, loss_G {loss_G:.3f}, '\n",
    "          f'{metric[2] / timer.stop():.1f} examples/sec on {str(device)}')"
   ]
  },
  {
   "cell_type": "code",
   "execution_count": null,
   "id": "8afcc21f",
   "metadata": {},
   "outputs": [],
   "source": [
    "#@tab pytorch\n",
    "def train(net_D, net_G, data_iter, num_epochs, lr, latent_dim,\n",
    "          device=d2l.try_gpu()):\n",
    "    loss = nn.BCEWithLogitsLoss(reduction='sum')\n",
    "    for w in net_D.parameters():\n",
    "        nn.init.normal_(w, 0, 0.02)\n",
    "    for w in net_G.parameters():\n",
    "        nn.init.normal_(w, 0, 0.02)\n",
    "    net_D, net_G = net_D.to(device), net_G.to(device)\n",
    "    trainer_hp = {'lr': lr, 'betas': [0.5,0.999]}\n",
    "    trainer_D = torch.optim.Adam(net_D.parameters(), **trainer_hp)\n",
    "    trainer_G = torch.optim.Adam(net_G.parameters(), **trainer_hp)\n",
    "    animator = d2l.Animator(xlabel='epoch', ylabel='loss',\n",
    "                            xlim=[1, num_epochs], nrows=2, figsize=(5, 5),\n",
    "                            legend=['discriminator', 'generator'])\n",
    "    animator.fig.subplots_adjust(hspace=0.3)\n",
    "    for epoch in range(1, num_epochs + 1):\n",
    "        # Train one epoch\n",
    "        timer = d2l.Timer()\n",
    "        metric = d2l.Accumulator(3)  # loss_D, loss_G, num_examples\n",
    "        for X, _ in data_iter:\n",
    "            batch_size = X.shape[0]\n",
    "            Z = torch.normal(0, 1, size=(batch_size, latent_dim, 1, 1))\n",
    "            X, Z = X.to(device), Z.to(device)\n",
    "            metric.add(d2l.update_D(X, Z, net_D, net_G, loss, trainer_D),\n",
    "                       d2l.update_G(Z, net_D, net_G, loss, trainer_G),\n",
    "                       batch_size)\n",
    "        # Show generated examples\n",
    "        Z = torch.normal(0, 1, size=(21, latent_dim, 1, 1), device=device)\n",
    "        # Normalize the synthetic data to N(0, 1)\n",
    "        fake_x = net_G(Z).permute(0, 2, 3, 1) / 2 + 0.5\n",
    "        imgs = torch.cat(\n",
    "            [torch.cat([\n",
    "                fake_x[i * 7 + j].cpu().detach() for j in range(7)], dim=1)\n",
    "             for i in range(len(fake_x)//7)], dim=0)\n",
    "        animator.axes[1].cla()\n",
    "        animator.axes[1].imshow(imgs)\n",
    "        # Show the losses\n",
    "        loss_D, loss_G = metric[0] / metric[2], metric[1] / metric[2]\n",
    "        animator.add(epoch, (loss_D, loss_G))\n",
    "    print(f'loss_D {loss_D:.3f}, loss_G {loss_G:.3f}, '\n",
    "          f'{metric[2] / timer.stop():.1f} examples/sec on {str(device)}')"
   ]
  },
  {
   "cell_type": "code",
   "execution_count": null,
   "id": "44675712",
   "metadata": {},
   "outputs": [],
   "source": [
    "#@tab tensorflow\n",
    "def train(net_D, net_G, data_iter, num_epochs, lr, latent_dim,\n",
    "          device=d2l.try_gpu()):\n",
    "    loss = tf.keras.losses.BinaryCrossentropy(\n",
    "        from_logits=True, reduction=tf.keras.losses.Reduction.SUM)\n",
    "\n",
    "    for w in net_D.trainable_variables:\n",
    "        w.assign(tf.random.normal(mean=0, stddev=0.02, shape=w.shape))\n",
    "    for w in net_G.trainable_variables:\n",
    "        w.assign(tf.random.normal(mean=0, stddev=0.02, shape=w.shape))\n",
    "\n",
    "    optimizer_hp = {\"lr\": lr, \"beta_1\": 0.5, \"beta_2\": 0.999}\n",
    "    optimizer_D = tf.keras.optimizers.Adam(**optimizer_hp)\n",
    "    optimizer_G = tf.keras.optimizers.Adam(**optimizer_hp)\n",
    "\n",
    "    animator = d2l.Animator(xlabel='epoch', ylabel='loss',\n",
    "                            xlim=[1, num_epochs], nrows=2, figsize=(5, 5),\n",
    "                            legend=['discriminator', 'generator'])\n",
    "    animator.fig.subplots_adjust(hspace=0.3)\n",
    "\n",
    "    for epoch in range(1, num_epochs + 1):\n",
    "        # Train one epoch\n",
    "        timer = d2l.Timer()\n",
    "        metric = d2l.Accumulator(3) # loss_D, loss_G, num_examples\n",
    "        for X, _ in data_iter:\n",
    "            batch_size = X.shape[0]\n",
    "            Z = tf.random.normal(mean=0, stddev=1,\n",
    "                                 shape=(batch_size, 1, 1, latent_dim))\n",
    "            metric.add(d2l.update_D(X, Z, net_D, net_G, loss, optimizer_D),\n",
    "                       d2l.update_G(Z, net_D, net_G, loss, optimizer_G),\n",
    "                       batch_size)\n",
    "\n",
    "        # Show generated examples\n",
    "        Z = tf.random.normal(mean=0, stddev=1, shape=(21, 1, 1, latent_dim))\n",
    "        # Normalize the synthetic data to N(0, 1)\n",
    "        fake_x = net_G(Z) / 2 + 0.5\n",
    "        imgs = tf.concat([tf.concat([fake_x[i * 7 + j] for j in range(7)],\n",
    "                                    axis=1)\n",
    "                          for i in range(len(fake_x) // 7)], axis=0)\n",
    "        animator.axes[1].cla()\n",
    "        animator.axes[1].imshow(imgs)\n",
    "        # Show the losses\n",
    "        loss_D, loss_G = metric[0] / metric[2], metric[1] / metric[2]\n",
    "        animator.add(epoch, (loss_D, loss_G))\n",
    "    print(f'loss_D {loss_D:.3f}, loss_G {loss_G:.3f}, '\n",
    "          f'{metric[2] / timer.stop():.1f} examples/sec on {str(device._device_name)}')"
   ]
  },
  {
   "cell_type": "markdown",
   "id": "011bffc2",
   "metadata": {},
   "source": [
    "We train the model with a small number of epochs just for demonstration.\n",
    "For better performance,\n",
    "the variable `num_epochs` can be set to a larger number."
   ]
  },
  {
   "cell_type": "code",
   "execution_count": null,
   "id": "4dd01d98",
   "metadata": {},
   "outputs": [],
   "source": [
    "#@tab mxnet, pytorch\n",
    "latent_dim, lr, num_epochs = 100, 0.005, 20\n",
    "train(net_D, net_G, data_iter, num_epochs, lr, latent_dim)"
   ]
  },
  {
   "cell_type": "code",
   "execution_count": null,
   "id": "ea27de57",
   "metadata": {},
   "outputs": [],
   "source": [
    "#@tab tensorflow\n",
    "latent_dim, lr, num_epochs = 100, 0.0005, 40\n",
    "train(net_D, net_G, data_iter, num_epochs, lr, latent_dim)"
   ]
  },
  {
   "cell_type": "markdown",
   "id": "4c07ec7b",
   "metadata": {},
   "source": [
    "## Summary\n",
    "\n",
    "* DCGAN architecture has four convolutional layers for the Discriminator and four \"fractionally-strided\" convolutional layers for the Generator.\n",
    "* The Discriminator is a 4-layer strided convolutions with batch normalization (except its input layer) and leaky ReLU activations.\n",
    "* Leaky ReLU is a nonlinear function that give a non-zero output for a negative input. It aims to fix the “dying ReLU” problem and helps the gradients flow easier through the architecture.\n",
    "\n",
    "\n",
    "## Exercises\n",
    "\n",
    "1. What will happen if we use standard ReLU activation rather than leaky ReLU?\n",
    "1. Apply DCGAN on Fashion-MNIST and see which category works well and which does not.\n",
    "\n",
    ":begin_tab:`mxnet`\n",
    "[Discussions](https://discuss.d2l.ai/t/409)\n",
    ":end_tab:\n",
    "\n",
    ":begin_tab:`pytorch`\n",
    "[Discussions](https://discuss.d2l.ai/t/1083)\n",
    ":end_tab:"
   ]
  }
 ],
 "metadata": {},
 "nbformat": 4,
 "nbformat_minor": 5
}
