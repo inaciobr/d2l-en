{
 "cells": [
  {
   "cell_type": "markdown",
   "id": "b8bd8584",
   "metadata": {},
   "source": [
    "# Image Augmentation\n",
    ":label:`sec_image_augmentation`\n",
    "\n",
    "In :numref:`sec_alexnet`, \n",
    "we mentioned that large datasets \n",
    "are a prerequisite\n",
    "for the success of\n",
    "deep neural networks\n",
    "in various applications.\n",
    "*Image augmentation* \n",
    "generates similar but distinct training examples\n",
    "after a series of random changes to the training images, thereby expanding the size of the training set.\n",
    "Alternatively,\n",
    "image augmentation can be motivated\n",
    "by the fact that \n",
    "random tweaks of training examples \n",
    "allow models to rely less on\n",
    "certain attributes, thereby improving their generalization ability.\n",
    "For example, we can crop an image in different ways to make the object of interest appear in different positions, thereby reducing the dependence of a model on the position of the object. \n",
    "We can also adjust factors such as brightness and color to reduce a model's sensitivity to color.\n",
    "It is probably true\n",
    "that image augmentation was indispensable\n",
    "for the success of AlexNet at that time.\n",
    "In this section we will discuss this widely used technique in computer vision."
   ]
  },
  {
   "cell_type": "code",
   "execution_count": null,
   "id": "52698015",
   "metadata": {},
   "outputs": [],
   "source": [
    "#@tab mxnet\n",
    "%matplotlib inline\n",
    "from d2l import mxnet as d2l\n",
    "from mxnet import autograd, gluon, image, init, np, npx\n",
    "from mxnet.gluon import nn\n",
    "\n",
    "npx.set_np()"
   ]
  },
  {
   "cell_type": "code",
   "execution_count": null,
   "id": "baf80bee",
   "metadata": {},
   "outputs": [],
   "source": [
    "#@tab pytorch\n",
    "%matplotlib inline\n",
    "from d2l import torch as d2l\n",
    "import torch\n",
    "import torchvision\n",
    "from torch import nn"
   ]
  },
  {
   "cell_type": "markdown",
   "id": "298a1a90",
   "metadata": {},
   "source": [
    "## Common Image Augmentation Methods\n",
    "\n",
    "In our investigation of common image augmentation methods, we will use the following $400\\times 500$ image an example."
   ]
  },
  {
   "cell_type": "code",
   "execution_count": null,
   "id": "7595127d",
   "metadata": {},
   "outputs": [],
   "source": [
    "#@tab mxnet\n",
    "d2l.set_figsize()\n",
    "img = image.imread('../img/cat1.jpg')\n",
    "d2l.plt.imshow(img.asnumpy());"
   ]
  },
  {
   "cell_type": "code",
   "execution_count": null,
   "id": "03c9bce2",
   "metadata": {},
   "outputs": [],
   "source": [
    "#@tab pytorch\n",
    "d2l.set_figsize()\n",
    "img = d2l.Image.open('../img/cat1.jpg')\n",
    "d2l.plt.imshow(img);"
   ]
  },
  {
   "cell_type": "markdown",
   "id": "5e7b8139",
   "metadata": {},
   "source": [
    "Most image augmentation methods have a certain degree of randomness. To make it easier for us to observe the effect of image augmentation, next we define an auxiliary function `apply`. This function runs the image augmentation method `aug` multiple times on the input image `img` and shows all the results."
   ]
  },
  {
   "cell_type": "code",
   "execution_count": null,
   "id": "30648be2",
   "metadata": {},
   "outputs": [],
   "source": [
    "#@tab all\n",
    "def apply(img, aug, num_rows=2, num_cols=4, scale=1.5):\n",
    "    Y = [aug(img) for _ in range(num_rows * num_cols)]\n",
    "    d2l.show_images(Y, num_rows, num_cols, scale=scale)"
   ]
  },
  {
   "cell_type": "markdown",
   "id": "d727d75f",
   "metadata": {},
   "source": [
    "### Flipping and Cropping\n",
    "\n",
    ":begin_tab:`mxnet`\n",
    "[**Flipping the image left and right**] usually does not change the category of the object. \n",
    "This is one of the earliest and most widely used methods of image augmentation.\n",
    "Next, we use the `transforms` module to create the `RandomFlipLeftRight` instance, which flips\n",
    "an image left and right with a 50% chance.\n",
    ":end_tab:\n",
    "\n",
    ":begin_tab:`pytorch`\n",
    "[**Flipping the image left and right**] usually does not change the category of the object. \n",
    "This is one of the earliest and most widely used methods of image augmentation.\n",
    "Next, we use the `transforms` module to create the `RandomHorizontalFlip` instance, which flips\n",
    "an image left and right with a 50% chance.\n",
    ":end_tab:"
   ]
  },
  {
   "cell_type": "code",
   "execution_count": null,
   "id": "77c22581",
   "metadata": {},
   "outputs": [],
   "source": [
    "#@tab mxnet\n",
    "apply(img, gluon.data.vision.transforms.RandomFlipLeftRight())"
   ]
  },
  {
   "cell_type": "code",
   "execution_count": null,
   "id": "be235cec",
   "metadata": {},
   "outputs": [],
   "source": [
    "#@tab pytorch\n",
    "apply(img, torchvision.transforms.RandomHorizontalFlip())"
   ]
  },
  {
   "cell_type": "markdown",
   "id": "87652f28",
   "metadata": {},
   "source": [
    ":begin_tab:`mxnet`\n",
    "[**Flipping up and down**] is not as common as flipping left and right. But at least for this example image, flipping up and down does not hinder recognition.\n",
    "Next, we create a `RandomFlipTopBottom` instance to flip\n",
    "an image up and down with a 50% chance.\n",
    ":end_tab:\n",
    "\n",
    ":begin_tab:`pytorch`\n",
    "[**Flipping up and down**] is not as common as flipping left and right. But at least for this example image, flipping up and down does not hinder recognition.\n",
    "Next, we create a `RandomVerticalFlip` instance to flip\n",
    "an image up and down with a 50% chance.\n",
    ":end_tab:"
   ]
  },
  {
   "cell_type": "code",
   "execution_count": null,
   "id": "cf25b532",
   "metadata": {},
   "outputs": [],
   "source": [
    "#@tab mxnet\n",
    "apply(img, gluon.data.vision.transforms.RandomFlipTopBottom())"
   ]
  },
  {
   "cell_type": "code",
   "execution_count": null,
   "id": "43527656",
   "metadata": {},
   "outputs": [],
   "source": [
    "#@tab pytorch\n",
    "apply(img, torchvision.transforms.RandomVerticalFlip())"
   ]
  },
  {
   "cell_type": "markdown",
   "id": "2734e87c",
   "metadata": {},
   "source": [
    "In the example image we used, the cat is in the middle of the image, but this may not be the case in general. \n",
    "In :numref:`sec_pooling`, we explained that the pooling layer can reduce the sensitivity of a convolutional layer to the target position.\n",
    "In addition, we can also randomly crop the image to make objects appear in different positions in the image at different scales, which can also reduce the sensitivity of a model to the target position.\n",
    "\n",
    "In the code below, we [**randomly crop**] an area with an area of $10\\% \\sim 100\\%$ of the original area each time, and the ratio of width to height of this area is randomly selected from $0.5 \\sim 2$. Then, the width and height of the region are both scaled to 200 pixels. \n",
    "Unless otherwise specified, the random number between $a$ and $b$ in this section refers to a continuous value obtained by random and uniform sampling from the interval $[a, b]$."
   ]
  },
  {
   "cell_type": "code",
   "execution_count": null,
   "id": "e52755ad",
   "metadata": {},
   "outputs": [],
   "source": [
    "#@tab mxnet\n",
    "shape_aug = gluon.data.vision.transforms.RandomResizedCrop(\n",
    "    (200, 200), scale=(0.1, 1), ratio=(0.5, 2))\n",
    "apply(img, shape_aug)"
   ]
  },
  {
   "cell_type": "code",
   "execution_count": null,
   "id": "9073a913",
   "metadata": {},
   "outputs": [],
   "source": [
    "#@tab pytorch\n",
    "shape_aug = torchvision.transforms.RandomResizedCrop(\n",
    "    (200, 200), scale=(0.1, 1), ratio=(0.5, 2))\n",
    "apply(img, shape_aug)"
   ]
  },
  {
   "cell_type": "markdown",
   "id": "271ffdae",
   "metadata": {},
   "source": [
    "### Changing Colors\n",
    "\n",
    "Another augmentation method is changing colors. We can change four aspects of the image color: brightness, contrast, saturation, and hue. In the example below, we [**randomly change the brightness**] of the image to a value between 50% ($1-0.5$) and 150% ($1+0.5$) of the original image."
   ]
  },
  {
   "cell_type": "code",
   "execution_count": null,
   "id": "44e32d8b",
   "metadata": {},
   "outputs": [],
   "source": [
    "#@tab mxnet\n",
    "apply(img, gluon.data.vision.transforms.RandomBrightness(0.5))"
   ]
  },
  {
   "cell_type": "code",
   "execution_count": null,
   "id": "a4154e89",
   "metadata": {},
   "outputs": [],
   "source": [
    "#@tab pytorch\n",
    "apply(img, torchvision.transforms.ColorJitter(\n",
    "    brightness=0.5, contrast=0, saturation=0, hue=0))"
   ]
  },
  {
   "cell_type": "markdown",
   "id": "4268aa93",
   "metadata": {},
   "source": [
    "Similarly, we can [**randomly change the hue**] of the image."
   ]
  },
  {
   "cell_type": "code",
   "execution_count": null,
   "id": "8a0f380c",
   "metadata": {},
   "outputs": [],
   "source": [
    "#@tab mxnet\n",
    "apply(img, gluon.data.vision.transforms.RandomHue(0.5))"
   ]
  },
  {
   "cell_type": "code",
   "execution_count": null,
   "id": "2f364c02",
   "metadata": {},
   "outputs": [],
   "source": [
    "#@tab pytorch\n",
    "apply(img, torchvision.transforms.ColorJitter(\n",
    "    brightness=0, contrast=0, saturation=0, hue=0.5))"
   ]
  },
  {
   "cell_type": "markdown",
   "id": "15c9e24a",
   "metadata": {},
   "source": [
    "We can also create a `RandomColorJitter` instance and set how to [**randomly change the `brightness`, `contrast`, `saturation`, and `hue` of the image at the same time**]."
   ]
  },
  {
   "cell_type": "code",
   "execution_count": null,
   "id": "4004a899",
   "metadata": {},
   "outputs": [],
   "source": [
    "#@tab mxnet\n",
    "color_aug = gluon.data.vision.transforms.RandomColorJitter(\n",
    "    brightness=0.5, contrast=0.5, saturation=0.5, hue=0.5)\n",
    "apply(img, color_aug)"
   ]
  },
  {
   "cell_type": "code",
   "execution_count": null,
   "id": "bade2ce3",
   "metadata": {},
   "outputs": [],
   "source": [
    "#@tab pytorch\n",
    "color_aug = torchvision.transforms.ColorJitter(\n",
    "    brightness=0.5, contrast=0.5, saturation=0.5, hue=0.5)\n",
    "apply(img, color_aug)"
   ]
  },
  {
   "cell_type": "markdown",
   "id": "3e5b0355",
   "metadata": {},
   "source": [
    "### Combining Multiple Image Augmentation Methods\n",
    "\n",
    "In practice, we will [**combine multiple image augmentation methods**]. \n",
    "For example,\n",
    "we can combine the different image augmentation methods defined above and apply them to each image via a `Compose` instance."
   ]
  },
  {
   "cell_type": "code",
   "execution_count": null,
   "id": "1f588071",
   "metadata": {},
   "outputs": [],
   "source": [
    "#@tab mxnet\n",
    "augs = gluon.data.vision.transforms.Compose([\n",
    "    gluon.data.vision.transforms.RandomFlipLeftRight(), color_aug, shape_aug])\n",
    "apply(img, augs)"
   ]
  },
  {
   "cell_type": "code",
   "execution_count": null,
   "id": "91c261b7",
   "metadata": {},
   "outputs": [],
   "source": [
    "#@tab pytorch\n",
    "augs = torchvision.transforms.Compose([\n",
    "    torchvision.transforms.RandomHorizontalFlip(), color_aug, shape_aug])\n",
    "apply(img, augs)"
   ]
  },
  {
   "cell_type": "markdown",
   "id": "37eeecde",
   "metadata": {},
   "source": [
    "## [**Training with Image Augmentation**]\n",
    "\n",
    "Let's train a model with image augmentation.\n",
    "Here we use the CIFAR-10 dataset instead of the Fashion-MNIST dataset that we used before. \n",
    "This is because the position and size of the objects in the Fashion-MNIST dataset have been normalized, while the color and size of the objects in the CIFAR-10 dataset have more significant differences. \n",
    "The first 32 training images in the CIFAR-10 dataset are shown below."
   ]
  },
  {
   "cell_type": "code",
   "execution_count": null,
   "id": "727494a5",
   "metadata": {},
   "outputs": [],
   "source": [
    "#@tab mxnet\n",
    "d2l.show_images(gluon.data.vision.CIFAR10(\n",
    "    train=True)[:32][0], 4, 8, scale=0.8);"
   ]
  },
  {
   "cell_type": "code",
   "execution_count": null,
   "id": "2e7895e2",
   "metadata": {},
   "outputs": [],
   "source": [
    "#@tab pytorch\n",
    "all_images = torchvision.datasets.CIFAR10(train=True, root=\"../data\",\n",
    "                                          download=True)\n",
    "d2l.show_images([all_images[i][0] for i in range(32)], 4, 8, scale=0.8);"
   ]
  },
  {
   "cell_type": "markdown",
   "id": "a77086bd",
   "metadata": {},
   "source": [
    "In order to obtain definitive results during prediction, we usually only apply image augmentation to training examples, and do not use image augmentation with random operations during prediction. \n",
    "[**Here we only use the simplest random left-right flipping method**]. In addition, we use a `ToTensor` instance to convert a minibatch of images into the format required by the deep learning framework, i.e., \n",
    "32-bit floating point numbers between 0 and 1 with the shape of (batch size, number of channels, height, width)."
   ]
  },
  {
   "cell_type": "code",
   "execution_count": null,
   "id": "f43dbe80",
   "metadata": {},
   "outputs": [],
   "source": [
    "#@tab mxnet\n",
    "train_augs = gluon.data.vision.transforms.Compose([\n",
    "    gluon.data.vision.transforms.RandomFlipLeftRight(),\n",
    "    gluon.data.vision.transforms.ToTensor()])\n",
    "\n",
    "test_augs = gluon.data.vision.transforms.Compose([\n",
    "    gluon.data.vision.transforms.ToTensor()])"
   ]
  },
  {
   "cell_type": "code",
   "execution_count": null,
   "id": "2cee57d7",
   "metadata": {},
   "outputs": [],
   "source": [
    "#@tab pytorch\n",
    "train_augs = torchvision.transforms.Compose([\n",
    "     torchvision.transforms.RandomHorizontalFlip(),\n",
    "     torchvision.transforms.ToTensor()])\n",
    "\n",
    "test_augs = torchvision.transforms.Compose([\n",
    "     torchvision.transforms.ToTensor()])"
   ]
  },
  {
   "cell_type": "markdown",
   "id": "dda5c7dc",
   "metadata": {},
   "source": [
    ":begin_tab:`mxnet`\n",
    "Next, we define an auxiliary function to facilitate reading the image and\n",
    "applying image augmentation. \n",
    "The `transform_first` function provided by Gluon's\n",
    "datasets applies image augmentation to the first element of each training\n",
    "example (image and label), i.e., the image. \n",
    "For\n",
    "a detailed introduction to `DataLoader`, please refer to :numref:`sec_fashion_mnist`.\n",
    ":end_tab:\n",
    "\n",
    ":begin_tab:`pytorch`\n",
    "Next, we [**define an auxiliary function to facilitate reading the image and\n",
    "applying image augmentation**]. \n",
    "The `transform` argument provided by PyTorch's\n",
    "dataset applies augmentation to transform the images.\n",
    "For\n",
    "a detailed introduction to `DataLoader`, please refer to :numref:`sec_fashion_mnist`.\n",
    ":end_tab:"
   ]
  },
  {
   "cell_type": "code",
   "execution_count": null,
   "id": "09aba3e9",
   "metadata": {},
   "outputs": [],
   "source": [
    "#@tab mxnet\n",
    "def load_cifar10(is_train, augs, batch_size):\n",
    "    return gluon.data.DataLoader(\n",
    "        gluon.data.vision.CIFAR10(train=is_train).transform_first(augs),\n",
    "        batch_size=batch_size, shuffle=is_train,\n",
    "        num_workers=d2l.get_dataloader_workers())"
   ]
  },
  {
   "cell_type": "code",
   "execution_count": null,
   "id": "f2f8eae6",
   "metadata": {},
   "outputs": [],
   "source": [
    "#@tab pytorch\n",
    "def load_cifar10(is_train, augs, batch_size):\n",
    "    dataset = torchvision.datasets.CIFAR10(root=\"../data\", train=is_train,\n",
    "                                           transform=augs, download=True)\n",
    "    dataloader = torch.utils.data.DataLoader(dataset, batch_size=batch_size,\n",
    "                    shuffle=is_train, num_workers=d2l.get_dataloader_workers())\n",
    "    return dataloader"
   ]
  },
  {
   "cell_type": "markdown",
   "id": "895fb376",
   "metadata": {},
   "source": [
    "### Multi-GPU Training\n",
    "\n",
    "We train the ResNet-18 model from\n",
    ":numref:`sec_resnet` on the\n",
    "CIFAR-10 dataset.\n",
    "Recall the introduction to\n",
    "multi-GPU training in :numref:`sec_multi_gpu_concise`.\n",
    "In the following,\n",
    "[**we define a function to train and evaluate the model using multiple GPUs**]."
   ]
  },
  {
   "cell_type": "code",
   "execution_count": null,
   "id": "1565c61c",
   "metadata": {},
   "outputs": [],
   "source": [
    "#@tab mxnet\n",
    "#@save\n",
    "def train_batch_ch13(net, features, labels, loss, trainer, devices,\n",
    "                     split_f=d2l.split_batch):\n",
    "    \"\"\"Train for a minibatch with multiple GPUs (defined in Chapter 13).\"\"\"\n",
    "    X_shards, y_shards = split_f(features, labels, devices)\n",
    "    with autograd.record():\n",
    "        pred_shards = [net(X_shard) for X_shard in X_shards]\n",
    "        ls = [loss(pred_shard, y_shard) for pred_shard, y_shard\n",
    "              in zip(pred_shards, y_shards)]\n",
    "    for l in ls:\n",
    "        l.backward()\n",
    "    # The `True` flag allows parameters with stale gradients, which is useful\n",
    "    # later (e.g., in fine-tuning BERT)\n",
    "    trainer.step(labels.shape[0], ignore_stale_grad=True)\n",
    "    train_loss_sum = sum([float(l.sum()) for l in ls])\n",
    "    train_acc_sum = sum(d2l.accuracy(pred_shard, y_shard)\n",
    "                        for pred_shard, y_shard in zip(pred_shards, y_shards))\n",
    "    return train_loss_sum, train_acc_sum"
   ]
  },
  {
   "cell_type": "code",
   "execution_count": null,
   "id": "ba9753a3",
   "metadata": {},
   "outputs": [],
   "source": [
    "#@tab pytorch\n",
    "#@save\n",
    "def train_batch_ch13(net, X, y, loss, trainer, devices):\n",
    "    \"\"\"Train for a minibatch with multiple GPUs (defined in Chapter 13).\"\"\"\n",
    "    if isinstance(X, list):\n",
    "        # Required for BERT fine-tuning (to be covered later)\n",
    "        X = [x.to(devices[0]) for x in X]\n",
    "    else:\n",
    "        X = X.to(devices[0])\n",
    "    y = y.to(devices[0])\n",
    "    net.train()\n",
    "    trainer.zero_grad()\n",
    "    pred = net(X)\n",
    "    l = loss(pred, y)\n",
    "    l.sum().backward()\n",
    "    trainer.step()\n",
    "    train_loss_sum = l.sum()\n",
    "    train_acc_sum = d2l.accuracy(pred, y)\n",
    "    return train_loss_sum, train_acc_sum"
   ]
  },
  {
   "cell_type": "code",
   "execution_count": null,
   "id": "07384194",
   "metadata": {},
   "outputs": [],
   "source": [
    "#@tab mxnet\n",
    "#@save\n",
    "def train_ch13(net, train_iter, test_iter, loss, trainer, num_epochs,\n",
    "               devices=d2l.try_all_gpus(), split_f=d2l.split_batch):\n",
    "    \"\"\"Train a model with multiple GPUs (defined in Chapter 13).\"\"\"\n",
    "    timer, num_batches = d2l.Timer(), len(train_iter)\n",
    "    animator = d2l.Animator(xlabel='epoch', xlim=[1, num_epochs], ylim=[0, 1],\n",
    "                            legend=['train loss', 'train acc', 'test acc'])\n",
    "    for epoch in range(num_epochs):\n",
    "        # Sum of training loss, sum of training accuracy, no. of examples,\n",
    "        # no. of predictions\n",
    "        metric = d2l.Accumulator(4)\n",
    "        for i, (features, labels) in enumerate(train_iter):\n",
    "            timer.start()\n",
    "            l, acc = train_batch_ch13(\n",
    "                net, features, labels, loss, trainer, devices, split_f)\n",
    "            metric.add(l, acc, labels.shape[0], labels.size)\n",
    "            timer.stop()\n",
    "            if (i + 1) % (num_batches // 5) == 0 or i == num_batches - 1:\n",
    "                animator.add(epoch + (i + 1) / num_batches,\n",
    "                             (metric[0] / metric[2], metric[1] / metric[3],\n",
    "                              None))\n",
    "        test_acc = d2l.evaluate_accuracy_gpus(net, test_iter, split_f)\n",
    "        animator.add(epoch + 1, (None, None, test_acc))\n",
    "    print(f'loss {metric[0] / metric[2]:.3f}, train acc '\n",
    "          f'{metric[1] / metric[3]:.3f}, test acc {test_acc:.3f}')\n",
    "    print(f'{metric[2] * num_epochs / timer.sum():.1f} examples/sec on '\n",
    "          f'{str(devices)}')"
   ]
  },
  {
   "cell_type": "code",
   "execution_count": null,
   "id": "dc90deee",
   "metadata": {},
   "outputs": [],
   "source": [
    "#@tab pytorch\n",
    "#@save\n",
    "def train_ch13(net, train_iter, test_iter, loss, trainer, num_epochs,\n",
    "               devices=d2l.try_all_gpus()):\n",
    "    \"\"\"Train a model with multiple GPUs (defined in Chapter 13).\"\"\"\n",
    "    timer, num_batches = d2l.Timer(), len(train_iter)\n",
    "    animator = d2l.Animator(xlabel='epoch', xlim=[1, num_epochs], ylim=[0, 1],\n",
    "                            legend=['train loss', 'train acc', 'test acc'])\n",
    "    net = nn.DataParallel(net, device_ids=devices).to(devices[0])\n",
    "    for epoch in range(num_epochs):\n",
    "        # Sum of training loss, sum of training accuracy, no. of examples,\n",
    "        # no. of predictions\n",
    "        metric = d2l.Accumulator(4)\n",
    "        for i, (features, labels) in enumerate(train_iter):\n",
    "            timer.start()\n",
    "            l, acc = train_batch_ch13(\n",
    "                net, features, labels, loss, trainer, devices)\n",
    "            metric.add(l, acc, labels.shape[0], labels.numel())\n",
    "            timer.stop()\n",
    "            if (i + 1) % (num_batches // 5) == 0 or i == num_batches - 1:\n",
    "                animator.add(epoch + (i + 1) / num_batches,\n",
    "                             (metric[0] / metric[2], metric[1] / metric[3],\n",
    "                              None))\n",
    "        test_acc = d2l.evaluate_accuracy_gpu(net, test_iter)\n",
    "        animator.add(epoch + 1, (None, None, test_acc))\n",
    "    print(f'loss {metric[0] / metric[2]:.3f}, train acc '\n",
    "          f'{metric[1] / metric[3]:.3f}, test acc {test_acc:.3f}')\n",
    "    print(f'{metric[2] * num_epochs / timer.sum():.1f} examples/sec on '\n",
    "          f'{str(devices)}')"
   ]
  },
  {
   "cell_type": "markdown",
   "id": "a8745877",
   "metadata": {},
   "source": [
    "Now we can [**define the `train_with_data_aug` function to train the model with image augmentation**].\n",
    "This function gets all available GPUs, \n",
    "uses Adam as the optimization algorithm,\n",
    "applies image augmentation to the training dataset,\n",
    "and finally calls the `train_ch13` function just defined to train and evaluate the model."
   ]
  },
  {
   "cell_type": "code",
   "execution_count": null,
   "id": "ea6e6fbc",
   "metadata": {},
   "outputs": [],
   "source": [
    "#@tab mxnet\n",
    "batch_size, devices, net = 256, d2l.try_all_gpus(), d2l.resnet18(10)\n",
    "net.initialize(init=init.Xavier(), ctx=devices)\n",
    "\n",
    "def train_with_data_aug(train_augs, test_augs, net, lr=0.001):\n",
    "    train_iter = load_cifar10(True, train_augs, batch_size)\n",
    "    test_iter = load_cifar10(False, test_augs, batch_size)\n",
    "    loss = gluon.loss.SoftmaxCrossEntropyLoss()\n",
    "    trainer = gluon.Trainer(net.collect_params(), 'adam',\n",
    "                            {'learning_rate': lr})\n",
    "    train_ch13(net, train_iter, test_iter, loss, trainer, 10, devices)"
   ]
  },
  {
   "cell_type": "code",
   "execution_count": null,
   "id": "4b1380d8",
   "metadata": {},
   "outputs": [],
   "source": [
    "#@tab pytorch\n",
    "batch_size, devices, net = 256, d2l.try_all_gpus(), d2l.resnet18(10, 3)\n",
    "net.apply(d2l.init_cnn)\n",
    "\n",
    "def train_with_data_aug(train_augs, test_augs, net, lr=0.001):\n",
    "    train_iter = load_cifar10(True, train_augs, batch_size)\n",
    "    test_iter = load_cifar10(False, test_augs, batch_size)\n",
    "    loss = nn.CrossEntropyLoss(reduction=\"none\")\n",
    "    trainer = torch.optim.Adam(net.parameters(), lr=lr)\n",
    "    net(next(iter(train_iter))[0])\n",
    "    train_ch13(net, train_iter, test_iter, loss, trainer, 10, devices)"
   ]
  },
  {
   "cell_type": "markdown",
   "id": "0c48dd89",
   "metadata": {},
   "source": [
    "Let's [**train the model**] using image augmentation based on random left-right flipping."
   ]
  },
  {
   "cell_type": "code",
   "execution_count": null,
   "id": "3bfcc0ab",
   "metadata": {},
   "outputs": [],
   "source": [
    "#@tab all\n",
    "train_with_data_aug(train_augs, test_augs, net)"
   ]
  },
  {
   "cell_type": "markdown",
   "id": "c254fb08",
   "metadata": {},
   "source": [
    "## Summary\n",
    "\n",
    "* Image augmentation generates random images based on existing training data to improve the generalization ability of models.\n",
    "* In order to obtain definitive results during prediction, we usually only apply image augmentation to training examples, and do not use image augmentation with random operations during prediction.\n",
    "* Deep learning frameworks provide many different image augmentation methods, which can be applied simultaneously.\n",
    "\n",
    "\n",
    "## Exercises\n",
    "\n",
    "1. Train the model without using image augmentation: `train_with_data_aug(test_augs, test_augs)`. Compare training and testing accuracy when using and not using image augmentation. Can this comparative experiment support the argument that image augmentation can mitigate overfitting? Why?\n",
    "1. Combine multiple different image augmentation methods in model training on the CIFAR-10 dataset. Does it improve test accuracy? \n",
    "1. Refer to the online documentation of the deep learning framework. What other image augmentation methods does it also provide?\n",
    "\n",
    ":begin_tab:`mxnet`\n",
    "[Discussions](https://discuss.d2l.ai/t/367)\n",
    ":end_tab:\n",
    "\n",
    ":begin_tab:`pytorch`\n",
    "[Discussions](https://discuss.d2l.ai/t/1404)\n",
    ":end_tab:"
   ]
  }
 ],
 "metadata": {},
 "nbformat": 4,
 "nbformat_minor": 5
}
