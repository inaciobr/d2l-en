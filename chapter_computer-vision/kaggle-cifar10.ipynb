{
 "cells": [
  {
   "cell_type": "markdown",
   "id": "15122bf1",
   "metadata": {},
   "source": [
    "# Image Classification (CIFAR-10) on Kaggle\n",
    ":label:`sec_kaggle_cifar10`\n",
    "\n",
    "So far, we have been using high-level APIs of deep learning frameworks to directly obtain image datasets in tensor format.\n",
    "However, custom image datasets\n",
    "often come in the form of image files.\n",
    "In this section, we will start from\n",
    "raw image files,\n",
    "and organize, read, then transform them\n",
    "into tensor format step by step.\n",
    "\n",
    "We experimented with the CIFAR-10 dataset in :numref:`sec_image_augmentation`,\n",
    "which is an important dataset in computer vision.\n",
    "In this section,\n",
    "we will apply the knowledge we learned\n",
    "in previous sections\n",
    "to practice the Kaggle competition of\n",
    "CIFAR-10 image classification.\n",
    "(**The web address of the competition is https://www.kaggle.com/c/cifar-10**)\n",
    "\n",
    ":numref:`fig_kaggle_cifar10` shows the information on the competition's webpage.\n",
    "In order to submit the results,\n",
    "you need to register a Kaggle account.\n",
    "\n",
    "![CIFAR-10 image classification competition webpage information. The competition dataset can be obtained by clicking the \"Data\" tab.](../img/kaggle-cifar10.png)\n",
    ":width:`600px`\n",
    ":label:`fig_kaggle_cifar10`"
   ]
  },
  {
   "cell_type": "code",
   "execution_count": null,
   "id": "0400a225",
   "metadata": {},
   "outputs": [],
   "source": [
    "#@tab mxnet\n",
    "import collections\n",
    "from d2l import mxnet as d2l\n",
    "import math\n",
    "from mxnet import gluon, init, npx\n",
    "from mxnet.gluon import nn\n",
    "import os\n",
    "import pandas as pd\n",
    "import shutil\n",
    "\n",
    "npx.set_np()"
   ]
  },
  {
   "cell_type": "code",
   "execution_count": null,
   "id": "f1d8f10e",
   "metadata": {},
   "outputs": [],
   "source": [
    "#@tab pytorch\n",
    "import collections\n",
    "from d2l import torch as d2l\n",
    "import math\n",
    "import torch\n",
    "import torchvision\n",
    "from torch import nn\n",
    "import os\n",
    "import pandas as pd\n",
    "import shutil"
   ]
  },
  {
   "cell_type": "markdown",
   "id": "944d6cdb",
   "metadata": {},
   "source": [
    "## Obtaining and Organizing the Dataset\n",
    "\n",
    "The competition dataset is divided into\n",
    "a training set and a test set,\n",
    "which contain 50000 and 300000 images, respectively.\n",
    "In the test set,\n",
    "10000 images will be used for evaluation,\n",
    "while the remaining 290000 images will not\n",
    "be evaluated:\n",
    "they are included just\n",
    "to make it hard\n",
    "to cheat with\n",
    "*manually* labeled results of the test set.\n",
    "The images in this dataset\n",
    "are all png color (RGB channels) image files,\n",
    "whose height and width are both 32 pixels.\n",
    "The images cover a total of 10 categories, namely airplanes, cars, birds, cats, deer, dogs, frogs, horses, boats, and trucks.\n",
    "The upper-left corner of :numref:`fig_kaggle_cifar10` shows some images of airplanes, cars, and birds in the dataset.\n",
    "\n",
    "\n",
    "### Downloading the Dataset\n",
    "\n",
    "After logging in to Kaggle, we can click the \"Data\" tab on the CIFAR-10 image classification competition webpage shown in :numref:`fig_kaggle_cifar10` and download the dataset by clicking the \"Download All\" button.\n",
    "After unzipping the downloaded file in `../data`, and unzipping `train.7z` and `test.7z` inside it, you will find the entire dataset in the following paths:\n",
    "\n",
    "* `../data/cifar-10/train/[1-50000].png`\n",
    "* `../data/cifar-10/test/[1-300000].png`\n",
    "* `../data/cifar-10/trainLabels.csv`\n",
    "* `../data/cifar-10/sampleSubmission.csv`\n",
    "\n",
    "where the `train` and `test` directories contain the training and testing images, respectively, `trainLabels.csv` provides labels for the training images, and `sample_submission.csv` is a sample submission file.\n",
    "\n",
    "To make it easier to get started, [**we provide a small-scale sample of the dataset that\n",
    "contains the first 1000 training images and 5 random testing images.**]\n",
    "To use the full dataset of the Kaggle competition, you need to set the following `demo` variable to `False`."
   ]
  },
  {
   "cell_type": "code",
   "execution_count": null,
   "id": "8dc4c505",
   "metadata": {},
   "outputs": [],
   "source": [
    "#@tab all\n",
    "#@save\n",
    "d2l.DATA_HUB['cifar10_tiny'] = (d2l.DATA_URL + 'kaggle_cifar10_tiny.zip',\n",
    "                                '2068874e4b9a9f0fb07ebe0ad2b29754449ccacd')\n",
    "\n",
    "# If you use the full dataset downloaded for the Kaggle competition, set\n",
    "# `demo` to False\n",
    "demo = True\n",
    "\n",
    "if demo:\n",
    "    data_dir = d2l.download_extract('cifar10_tiny')\n",
    "else:\n",
    "    data_dir = '../data/cifar-10/'"
   ]
  },
  {
   "cell_type": "markdown",
   "id": "e86d1a28",
   "metadata": {},
   "source": [
    "### [**Organizing the Dataset**]\n",
    "\n",
    "We need to organize datasets to facilitate model training and testing.\n",
    "Let's first read the labels from the csv file.\n",
    "The following function returns a dictionary that maps\n",
    "the non-extension part of the filename to its label."
   ]
  },
  {
   "cell_type": "code",
   "execution_count": null,
   "id": "74fbdf38",
   "metadata": {},
   "outputs": [],
   "source": [
    "#@tab all\n",
    "#@save\n",
    "def read_csv_labels(fname):\n",
    "    \"\"\"Read `fname` to return a filename to label dictionary.\"\"\"\n",
    "    with open(fname, 'r') as f:\n",
    "        # Skip the file header line (column name)\n",
    "        lines = f.readlines()[1:]\n",
    "    tokens = [l.rstrip().split(',') for l in lines]\n",
    "    return dict(((name, label) for name, label in tokens))\n",
    "\n",
    "labels = read_csv_labels(os.path.join(data_dir, 'trainLabels.csv'))\n",
    "print('# training examples:', len(labels))\n",
    "print('# classes:', len(set(labels.values())))"
   ]
  },
  {
   "cell_type": "markdown",
   "id": "b75ada65",
   "metadata": {},
   "source": [
    "Next, we define the `reorg_train_valid` function to [**split the validation set out of the original training set.**]\n",
    "The argument `valid_ratio` in this function is the ratio of the number of examples in the validation set to the number of examples in the original training set.\n",
    "More concretely,\n",
    "let $n$ be the number of images of the class with the least examples, and $r$ be the ratio.\n",
    "The validation set will split out\n",
    "$\\max(\\lfloor nr\\rfloor,1)$ images for each class.\n",
    "Let's use `valid_ratio=0.1` as an example. Since the original training set has 50000 images,\n",
    "there will be 45000 images used for training in the path `train_valid_test/train`,\n",
    "while the other 5000 images will be split out\n",
    "as validation set in the path `train_valid_test/valid`. After organizing the dataset, images of the same class will be placed under the same folder."
   ]
  },
  {
   "cell_type": "code",
   "execution_count": null,
   "id": "1b2f9ab4",
   "metadata": {},
   "outputs": [],
   "source": [
    "#@tab all\n",
    "#@save\n",
    "def copyfile(filename, target_dir):\n",
    "    \"\"\"Copy a file into a target directory.\"\"\"\n",
    "    os.makedirs(target_dir, exist_ok=True)\n",
    "    shutil.copy(filename, target_dir)\n",
    "\n",
    "#@save\n",
    "def reorg_train_valid(data_dir, labels, valid_ratio):\n",
    "    \"\"\"Split the validation set out of the original training set.\"\"\"\n",
    "    # The number of examples of the class that has the fewest examples in the\n",
    "    # training dataset\n",
    "    n = collections.Counter(labels.values()).most_common()[-1][1]\n",
    "    # The number of examples per class for the validation set\n",
    "    n_valid_per_label = max(1, math.floor(n * valid_ratio))\n",
    "    label_count = {}\n",
    "    for train_file in os.listdir(os.path.join(data_dir, 'train')):\n",
    "        label = labels[train_file.split('.')[0]]\n",
    "        fname = os.path.join(data_dir, 'train', train_file)\n",
    "        copyfile(fname, os.path.join(data_dir, 'train_valid_test',\n",
    "                                     'train_valid', label))\n",
    "        if label not in label_count or label_count[label] < n_valid_per_label:\n",
    "            copyfile(fname, os.path.join(data_dir, 'train_valid_test',\n",
    "                                         'valid', label))\n",
    "            label_count[label] = label_count.get(label, 0) + 1\n",
    "        else:\n",
    "            copyfile(fname, os.path.join(data_dir, 'train_valid_test',\n",
    "                                         'train', label))\n",
    "    return n_valid_per_label"
   ]
  },
  {
   "cell_type": "markdown",
   "id": "ce4970a4",
   "metadata": {},
   "source": [
    "The `reorg_test` function below [**organizes the testing set for data loading during prediction.**]"
   ]
  },
  {
   "cell_type": "code",
   "execution_count": null,
   "id": "4389e35e",
   "metadata": {},
   "outputs": [],
   "source": [
    "#@tab all\n",
    "#@save\n",
    "def reorg_test(data_dir):\n",
    "    \"\"\"Organize the testing set for data loading during prediction.\"\"\"\n",
    "    for test_file in os.listdir(os.path.join(data_dir, 'test')):\n",
    "        copyfile(os.path.join(data_dir, 'test', test_file),\n",
    "                 os.path.join(data_dir, 'train_valid_test', 'test',\n",
    "                              'unknown'))"
   ]
  },
  {
   "cell_type": "markdown",
   "id": "dcede2ae",
   "metadata": {},
   "source": [
    "Finally, we use a function to [**invoke**]\n",
    "the `read_csv_labels`, `reorg_train_valid`, and `reorg_test` (**functions defined above.**)"
   ]
  },
  {
   "cell_type": "code",
   "execution_count": null,
   "id": "7072d323",
   "metadata": {},
   "outputs": [],
   "source": [
    "#@tab all\n",
    "def reorg_cifar10_data(data_dir, valid_ratio):\n",
    "    labels = read_csv_labels(os.path.join(data_dir, 'trainLabels.csv'))\n",
    "    reorg_train_valid(data_dir, labels, valid_ratio)\n",
    "    reorg_test(data_dir)"
   ]
  },
  {
   "cell_type": "markdown",
   "id": "a2e3e447",
   "metadata": {},
   "source": [
    "Here we only set the batch size to 32 for the small-scale sample of the dataset.\n",
    "When training and testing\n",
    "the complete dataset of the Kaggle competition,\n",
    "`batch_size` should be set to a larger integer, such as 128.\n",
    "We split out 10% of the training examples as the validation set for tuning hyperparameters."
   ]
  },
  {
   "cell_type": "code",
   "execution_count": null,
   "id": "5eaa2e8b",
   "metadata": {},
   "outputs": [],
   "source": [
    "#@tab all\n",
    "batch_size = 32 if demo else 128\n",
    "valid_ratio = 0.1\n",
    "reorg_cifar10_data(data_dir, valid_ratio)"
   ]
  },
  {
   "cell_type": "markdown",
   "id": "cc2b884b",
   "metadata": {},
   "source": [
    "## [**Image Augmentation**]\n",
    "\n",
    "We use image augmentation to address overfitting.\n",
    "For example, images can be flipped horizontally at random during training.\n",
    "We can also perform standardization for the three RGB channels of color images. Below lists some of these operations that you can tweak."
   ]
  },
  {
   "cell_type": "code",
   "execution_count": null,
   "id": "250d3878",
   "metadata": {},
   "outputs": [],
   "source": [
    "#@tab mxnet\n",
    "transform_train = gluon.data.vision.transforms.Compose([\n",
    "    # Scale the image up to a square of 40 pixels in both height and width\n",
    "    gluon.data.vision.transforms.Resize(40),\n",
    "    # Randomly crop a square image of 40 pixels in both height and width to\n",
    "    # produce a small square of 0.64 to 1 times the area of the original\n",
    "    # image, and then scale it to a square of 32 pixels in both height and\n",
    "    # width\n",
    "    gluon.data.vision.transforms.RandomResizedCrop(32, scale=(0.64, 1.0),\n",
    "                                                   ratio=(1.0, 1.0)),\n",
    "    gluon.data.vision.transforms.RandomFlipLeftRight(),\n",
    "    gluon.data.vision.transforms.ToTensor(),\n",
    "    # Standardize each channel of the image\n",
    "    gluon.data.vision.transforms.Normalize([0.4914, 0.4822, 0.4465],\n",
    "                                           [0.2023, 0.1994, 0.2010])])"
   ]
  },
  {
   "cell_type": "code",
   "execution_count": null,
   "id": "716ca6ee",
   "metadata": {},
   "outputs": [],
   "source": [
    "#@tab pytorch\n",
    "transform_train = torchvision.transforms.Compose([\n",
    "    # Scale the image up to a square of 40 pixels in both height and width\n",
    "    torchvision.transforms.Resize(40),\n",
    "    # Randomly crop a square image of 40 pixels in both height and width to\n",
    "    # produce a small square of 0.64 to 1 times the area of the original\n",
    "    # image, and then scale it to a square of 32 pixels in both height and\n",
    "    # width\n",
    "    torchvision.transforms.RandomResizedCrop(32, scale=(0.64, 1.0),\n",
    "                                                   ratio=(1.0, 1.0)),\n",
    "    torchvision.transforms.RandomHorizontalFlip(),\n",
    "    torchvision.transforms.ToTensor(),\n",
    "    # Standardize each channel of the image\n",
    "    torchvision.transforms.Normalize([0.4914, 0.4822, 0.4465],\n",
    "                                     [0.2023, 0.1994, 0.2010])])"
   ]
  },
  {
   "cell_type": "markdown",
   "id": "79feaf5a",
   "metadata": {},
   "source": [
    "During testing,\n",
    "we only perform standardization on images\n",
    "so as to\n",
    "remove randomness in the evaluation results."
   ]
  },
  {
   "cell_type": "code",
   "execution_count": null,
   "id": "ac1dee58",
   "metadata": {},
   "outputs": [],
   "source": [
    "#@tab mxnet\n",
    "transform_test = gluon.data.vision.transforms.Compose([\n",
    "    gluon.data.vision.transforms.ToTensor(),\n",
    "    gluon.data.vision.transforms.Normalize([0.4914, 0.4822, 0.4465],\n",
    "                                           [0.2023, 0.1994, 0.2010])])"
   ]
  },
  {
   "cell_type": "code",
   "execution_count": null,
   "id": "0943b0f6",
   "metadata": {},
   "outputs": [],
   "source": [
    "#@tab pytorch\n",
    "transform_test = torchvision.transforms.Compose([\n",
    "    torchvision.transforms.ToTensor(),\n",
    "    torchvision.transforms.Normalize([0.4914, 0.4822, 0.4465],\n",
    "                                     [0.2023, 0.1994, 0.2010])])"
   ]
  },
  {
   "cell_type": "markdown",
   "id": "f854fc45",
   "metadata": {},
   "source": [
    "## Reading the Dataset\n",
    "\n",
    "Next, we [**read the organized dataset consisting of raw image files**]. Each example includes an image and a label."
   ]
  },
  {
   "cell_type": "code",
   "execution_count": null,
   "id": "248bda7e",
   "metadata": {},
   "outputs": [],
   "source": [
    "#@tab mxnet\n",
    "train_ds, valid_ds, train_valid_ds, test_ds = [\n",
    "    gluon.data.vision.ImageFolderDataset(\n",
    "        os.path.join(data_dir, 'train_valid_test', folder))\n",
    "    for folder in ['train', 'valid', 'train_valid', 'test']]"
   ]
  },
  {
   "cell_type": "code",
   "execution_count": null,
   "id": "c28c0db5",
   "metadata": {},
   "outputs": [],
   "source": [
    "#@tab pytorch\n",
    "train_ds, train_valid_ds = [torchvision.datasets.ImageFolder(\n",
    "    os.path.join(data_dir, 'train_valid_test', folder),\n",
    "    transform=transform_train) for folder in ['train', 'train_valid']]\n",
    "\n",
    "valid_ds, test_ds = [torchvision.datasets.ImageFolder(\n",
    "    os.path.join(data_dir, 'train_valid_test', folder),\n",
    "    transform=transform_test) for folder in ['valid', 'test']]"
   ]
  },
  {
   "cell_type": "markdown",
   "id": "359a275b",
   "metadata": {},
   "source": [
    "During training,\n",
    "we need to [**specify all the image augmentation operations defined above**].\n",
    "When the validation set\n",
    "is used for model evaluation during hyperparameter tuning,\n",
    "no randomness from image augmentation should be introduced.\n",
    "Before final prediction,\n",
    "we train the model on the combined training set and validation set to make full use of all the labeled data."
   ]
  },
  {
   "cell_type": "code",
   "execution_count": null,
   "id": "58b2ce80",
   "metadata": {},
   "outputs": [],
   "source": [
    "#@tab mxnet\n",
    "train_iter, train_valid_iter = [gluon.data.DataLoader(\n",
    "    dataset.transform_first(transform_train), batch_size, shuffle=True,\n",
    "    last_batch='discard') for dataset in (train_ds, train_valid_ds)]\n",
    "\n",
    "valid_iter = gluon.data.DataLoader(\n",
    "    valid_ds.transform_first(transform_test), batch_size, shuffle=False,\n",
    "    last_batch='discard')\n",
    "\n",
    "test_iter = gluon.data.DataLoader(\n",
    "    test_ds.transform_first(transform_test), batch_size, shuffle=False,\n",
    "    last_batch='keep')"
   ]
  },
  {
   "cell_type": "code",
   "execution_count": null,
   "id": "ed84bb19",
   "metadata": {},
   "outputs": [],
   "source": [
    "#@tab pytorch\n",
    "train_iter, train_valid_iter = [torch.utils.data.DataLoader(\n",
    "    dataset, batch_size, shuffle=True, drop_last=True)\n",
    "    for dataset in (train_ds, train_valid_ds)]\n",
    "\n",
    "valid_iter = torch.utils.data.DataLoader(valid_ds, batch_size, shuffle=False,\n",
    "                                         drop_last=True)\n",
    "\n",
    "test_iter = torch.utils.data.DataLoader(test_ds, batch_size, shuffle=False,\n",
    "                                        drop_last=False)"
   ]
  },
  {
   "cell_type": "markdown",
   "id": "b61a175d",
   "metadata": {},
   "source": [
    "## Defining the [**Model**]\n",
    "\n",
    ":begin_tab:`mxnet`\n",
    "Here, we build the residual blocks based on the `HybridBlock` class, which is\n",
    "slightly different from the implementation described in\n",
    ":numref:`sec_resnet`.\n",
    "This is for improving computational efficiency.\n",
    ":end_tab:"
   ]
  },
  {
   "cell_type": "code",
   "execution_count": null,
   "id": "f9ba7574",
   "metadata": {},
   "outputs": [],
   "source": [
    "#@tab mxnet\n",
    "class Residual(nn.HybridBlock):\n",
    "    def __init__(self, num_channels, use_1x1conv=False, strides=1, **kwargs):\n",
    "        super(Residual, self).__init__(**kwargs)\n",
    "        self.conv1 = nn.Conv2D(num_channels, kernel_size=3, padding=1,\n",
    "                               strides=strides)\n",
    "        self.conv2 = nn.Conv2D(num_channels, kernel_size=3, padding=1)\n",
    "        if use_1x1conv:\n",
    "            self.conv3 = nn.Conv2D(num_channels, kernel_size=1,\n",
    "                                   strides=strides)\n",
    "        else:\n",
    "            self.conv3 = None\n",
    "        self.bn1 = nn.BatchNorm()\n",
    "        self.bn2 = nn.BatchNorm()\n",
    "\n",
    "    def hybrid_forward(self, F, X):\n",
    "        Y = F.npx.relu(self.bn1(self.conv1(X)))\n",
    "        Y = self.bn2(self.conv2(Y))\n",
    "        if self.conv3:\n",
    "            X = self.conv3(X)\n",
    "        return F.npx.relu(Y + X)"
   ]
  },
  {
   "cell_type": "markdown",
   "id": "75f00225",
   "metadata": {},
   "source": [
    ":begin_tab:`mxnet`\n",
    "Next, we define the ResNet-18 model.\n",
    ":end_tab:"
   ]
  },
  {
   "cell_type": "code",
   "execution_count": null,
   "id": "d042f946",
   "metadata": {},
   "outputs": [],
   "source": [
    "#@tab mxnet\n",
    "def resnet18(num_classes):\n",
    "    net = nn.HybridSequential()\n",
    "    net.add(nn.Conv2D(64, kernel_size=3, strides=1, padding=1),\n",
    "            nn.BatchNorm(), nn.Activation('relu'))\n",
    "\n",
    "    def resnet_block(num_channels, num_residuals, first_block=False):\n",
    "        blk = nn.HybridSequential()\n",
    "        for i in range(num_residuals):\n",
    "            if i == 0 and not first_block:\n",
    "                blk.add(Residual(num_channels, use_1x1conv=True, strides=2))\n",
    "            else:\n",
    "                blk.add(Residual(num_channels))\n",
    "        return blk\n",
    "\n",
    "    net.add(resnet_block(64, 2, first_block=True),\n",
    "            resnet_block(128, 2),\n",
    "            resnet_block(256, 2),\n",
    "            resnet_block(512, 2))\n",
    "    net.add(nn.GlobalAvgPool2D(), nn.Dense(num_classes))\n",
    "    return net"
   ]
  },
  {
   "cell_type": "markdown",
   "id": "fb528fbe",
   "metadata": {},
   "source": [
    ":begin_tab:`mxnet`\n",
    "We use Xavier initialization described in :numref:`subsec_xavier` before training begins.\n",
    ":end_tab:\n",
    "\n",
    ":begin_tab:`pytorch`\n",
    "We define the ResNet-18 model described in\n",
    ":numref:`sec_resnet`.\n",
    ":end_tab:"
   ]
  },
  {
   "cell_type": "code",
   "execution_count": null,
   "id": "521c3c85",
   "metadata": {},
   "outputs": [],
   "source": [
    "#@tab mxnet\n",
    "def get_net(devices):\n",
    "    num_classes = 10\n",
    "    net = resnet18(num_classes)\n",
    "    net.initialize(ctx=devices, init=init.Xavier())\n",
    "    return net\n",
    "\n",
    "loss = gluon.loss.SoftmaxCrossEntropyLoss()"
   ]
  },
  {
   "cell_type": "code",
   "execution_count": null,
   "id": "5a51bc5b",
   "metadata": {},
   "outputs": [],
   "source": [
    "#@tab pytorch\n",
    "def get_net():\n",
    "    num_classes = 10\n",
    "    net = d2l.resnet18(num_classes, 3)\n",
    "    return net\n",
    "\n",
    "loss = nn.CrossEntropyLoss(reduction=\"none\")"
   ]
  },
  {
   "cell_type": "markdown",
   "id": "28081c92",
   "metadata": {},
   "source": [
    "## Defining the [**Training Function**]\n",
    "\n",
    "We will select models and tune hyperparameters according to the model's performance on the validation set.\n",
    "In the following, we define the model training function `train`."
   ]
  },
  {
   "cell_type": "code",
   "execution_count": null,
   "id": "b8c03316",
   "metadata": {},
   "outputs": [],
   "source": [
    "#@tab mxnet\n",
    "def train(net, train_iter, valid_iter, num_epochs, lr, wd, devices, lr_period,\n",
    "          lr_decay):\n",
    "    trainer = gluon.Trainer(net.collect_params(), 'sgd',\n",
    "                            {'learning_rate': lr, 'momentum': 0.9, 'wd': wd})\n",
    "    num_batches, timer = len(train_iter), d2l.Timer()\n",
    "    legend = ['train loss', 'train acc']\n",
    "    if valid_iter is not None:\n",
    "        legend.append('valid acc')\n",
    "    animator = d2l.Animator(xlabel='epoch', xlim=[1, num_epochs],\n",
    "                            legend=legend)\n",
    "    for epoch in range(num_epochs):\n",
    "        metric = d2l.Accumulator(3)\n",
    "        if epoch > 0 and epoch % lr_period == 0:\n",
    "            trainer.set_learning_rate(trainer.learning_rate * lr_decay)\n",
    "        for i, (features, labels) in enumerate(train_iter):\n",
    "            timer.start()\n",
    "            l, acc = d2l.train_batch_ch13(\n",
    "                net, features, labels.astype('float32'), loss, trainer,\n",
    "                devices, d2l.split_batch)\n",
    "            metric.add(l, acc, labels.shape[0])\n",
    "            timer.stop()\n",
    "            if (i + 1) % (num_batches // 5) == 0 or i == num_batches - 1:\n",
    "                animator.add(epoch + (i + 1) / num_batches,\n",
    "                             (metric[0] / metric[2], metric[1] / metric[2],\n",
    "                              None))\n",
    "        if valid_iter is not None:\n",
    "            valid_acc = d2l.evaluate_accuracy_gpus(net, valid_iter,\n",
    "                                                   d2l.split_batch)\n",
    "            animator.add(epoch + 1, (None, None, valid_acc))\n",
    "    measures = (f'train loss {metric[0] / metric[2]:.3f}, '\n",
    "                f'train acc {metric[1] / metric[2]:.3f}')\n",
    "    if valid_iter is not None:\n",
    "        measures += f', valid acc {valid_acc:.3f}'\n",
    "    print(measures + f'\\n{metric[2] * num_epochs / timer.sum():.1f}'\n",
    "          f' examples/sec on {str(devices)}')"
   ]
  },
  {
   "cell_type": "code",
   "execution_count": null,
   "id": "73ac80e1",
   "metadata": {},
   "outputs": [],
   "source": [
    "#@tab pytorch\n",
    "def train(net, train_iter, valid_iter, num_epochs, lr, wd, devices, lr_period,\n",
    "          lr_decay):\n",
    "    trainer = torch.optim.SGD(net.parameters(), lr=lr, momentum=0.9,\n",
    "                              weight_decay=wd)\n",
    "    scheduler = torch.optim.lr_scheduler.StepLR(trainer, lr_period, lr_decay)\n",
    "    num_batches, timer = len(train_iter), d2l.Timer()\n",
    "    legend = ['train loss', 'train acc']\n",
    "    if valid_iter is not None:\n",
    "        legend.append('valid acc')\n",
    "    animator = d2l.Animator(xlabel='epoch', xlim=[1, num_epochs],\n",
    "                            legend=legend)\n",
    "    net = nn.DataParallel(net, device_ids=devices).to(devices[0])\n",
    "    for epoch in range(num_epochs):\n",
    "        net.train()\n",
    "        metric = d2l.Accumulator(3)\n",
    "        for i, (features, labels) in enumerate(train_iter):\n",
    "            timer.start()\n",
    "            l, acc = d2l.train_batch_ch13(net, features, labels,\n",
    "                                          loss, trainer, devices)\n",
    "            metric.add(l, acc, labels.shape[0])\n",
    "            timer.stop()\n",
    "            if (i + 1) % (num_batches // 5) == 0 or i == num_batches - 1:\n",
    "                animator.add(epoch + (i + 1) / num_batches,\n",
    "                             (metric[0] / metric[2], metric[1] / metric[2],\n",
    "                              None))\n",
    "        if valid_iter is not None:\n",
    "            valid_acc = d2l.evaluate_accuracy_gpu(net, valid_iter)\n",
    "            animator.add(epoch + 1, (None, None, valid_acc))\n",
    "        scheduler.step()\n",
    "    measures = (f'train loss {metric[0] / metric[2]:.3f}, '\n",
    "                f'train acc {metric[1] / metric[2]:.3f}')\n",
    "    if valid_iter is not None:\n",
    "        measures += f', valid acc {valid_acc:.3f}'\n",
    "    print(measures + f'\\n{metric[2] * num_epochs / timer.sum():.1f}'\n",
    "          f' examples/sec on {str(devices)}')"
   ]
  },
  {
   "cell_type": "markdown",
   "id": "5d44bf86",
   "metadata": {},
   "source": [
    "## [**Training and Validating the Model**]\n",
    "\n",
    "Now, we can train and validate the model.\n",
    "All the following hyperparameters can be tuned.\n",
    "For example, we can increase the number of epochs.\n",
    "When `lr_period` and `lr_decay` are set to 4 and 0.9, respectively, the learning rate of the optimization algorithm will be multiplied by 0.9 after every 4 epochs. Just for ease of demonstration,\n",
    "we only train 20 epochs here."
   ]
  },
  {
   "cell_type": "code",
   "execution_count": null,
   "id": "6314d4c5",
   "metadata": {},
   "outputs": [],
   "source": [
    "#@tab mxnet\n",
    "devices, num_epochs, lr, wd = d2l.try_all_gpus(), 20, 0.02, 5e-4\n",
    "lr_period, lr_decay, net = 4, 0.9, get_net(devices)\n",
    "net.hybridize()\n",
    "train(net, train_iter, valid_iter, num_epochs, lr, wd, devices, lr_period,\n",
    "      lr_decay)"
   ]
  },
  {
   "cell_type": "code",
   "execution_count": null,
   "id": "367cc313",
   "metadata": {},
   "outputs": [],
   "source": [
    "#@tab pytorch\n",
    "devices, num_epochs, lr, wd = d2l.try_all_gpus(), 20, 2e-4, 5e-4\n",
    "lr_period, lr_decay, net = 4, 0.9, get_net()\n",
    "net(next(iter(train_iter))[0])\n",
    "train(net, train_iter, valid_iter, num_epochs, lr, wd, devices, lr_period,\n",
    "      lr_decay)"
   ]
  },
  {
   "cell_type": "markdown",
   "id": "d3c0f2a9",
   "metadata": {},
   "source": [
    "## [**Classifying the Testing Set**] and Submitting Results on Kaggle\n",
    "\n",
    "After obtaining a promising model with hyperparameters,\n",
    "we use all the labeled data (including the validation set) to retrain the model and classify the testing set."
   ]
  },
  {
   "cell_type": "code",
   "execution_count": null,
   "id": "92fb15ab",
   "metadata": {},
   "outputs": [],
   "source": [
    "#@tab mxnet\n",
    "net, preds = get_net(devices), []\n",
    "net.hybridize()\n",
    "train(net, train_valid_iter, None, num_epochs, lr, wd, devices, lr_period,\n",
    "      lr_decay)\n",
    "\n",
    "for X, _ in test_iter:\n",
    "    y_hat = net(X.as_in_ctx(devices[0]))\n",
    "    preds.extend(y_hat.argmax(axis=1).astype(int).asnumpy())\n",
    "sorted_ids = list(range(1, len(test_ds) + 1))\n",
    "sorted_ids.sort(key=lambda x: str(x))\n",
    "df = pd.DataFrame({'id': sorted_ids, 'label': preds})\n",
    "df['label'] = df['label'].apply(lambda x: train_valid_ds.synsets[x])\n",
    "df.to_csv('submission.csv', index=False)"
   ]
  },
  {
   "cell_type": "code",
   "execution_count": null,
   "id": "e5b271e6",
   "metadata": {},
   "outputs": [],
   "source": [
    "#@tab pytorch\n",
    "net, preds = get_net(), []\n",
    "net(next(iter(train_valid_iter))[0])\n",
    "train(net, train_valid_iter, None, num_epochs, lr, wd, devices, lr_period,\n",
    "      lr_decay)\n",
    "\n",
    "for X, _ in test_iter:\n",
    "    y_hat = net(X.to(devices[0]))\n",
    "    preds.extend(y_hat.argmax(dim=1).type(torch.int32).cpu().numpy())\n",
    "sorted_ids = list(range(1, len(test_ds) + 1))\n",
    "sorted_ids.sort(key=lambda x: str(x))\n",
    "df = pd.DataFrame({'id': sorted_ids, 'label': preds})\n",
    "df['label'] = df['label'].apply(lambda x: train_valid_ds.classes[x])\n",
    "df.to_csv('submission.csv', index=False)"
   ]
  },
  {
   "cell_type": "markdown",
   "id": "c45db199",
   "metadata": {},
   "source": [
    "The above code\n",
    "will generate a `submission.csv` file,\n",
    "whose format\n",
    "meets the requirement of the Kaggle competition.\n",
    "The method\n",
    "for submitting results to Kaggle\n",
    "is similar to that in :numref:`sec_kaggle_house`.\n",
    "\n",
    "## Summary\n",
    "\n",
    "* We can read datasets containing raw image files after organizing them into the required format.\n",
    "\n",
    ":begin_tab:`mxnet`\n",
    "* We can use convolutional neural networks, image augmentation, and hybrid programing in an image classification competition.\n",
    ":end_tab:\n",
    "\n",
    ":begin_tab:`pytorch`\n",
    "* We can use convolutional neural networks and image augmentation in an image classification competition.\n",
    ":end_tab:\n",
    "\n",
    "## Exercises\n",
    "\n",
    "1. Use the complete CIFAR-10 dataset for this Kaggle competition. Set hyperparameters as `batch_size = 128`, `num_epochs = 100`, `lr = 0.1`, `lr_period = 50`, and `lr_decay = 0.1`.  See what accuracy and ranking you can achieve in this competition. Can you further improve them?\n",
    "1. What accuracy can you get when not using image augmentation?\n",
    "\n",
    ":begin_tab:`mxnet`\n",
    "[Discussions](https://discuss.d2l.ai/t/379)\n",
    ":end_tab:\n",
    "\n",
    ":begin_tab:`pytorch`\n",
    "[Discussions](https://discuss.d2l.ai/t/1479)\n",
    ":end_tab:"
   ]
  }
 ],
 "metadata": {},
 "nbformat": 4,
 "nbformat_minor": 5
}
