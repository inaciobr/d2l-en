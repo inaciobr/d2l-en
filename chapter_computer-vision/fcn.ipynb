{
 "cells": [
  {
   "cell_type": "markdown",
   "id": "1779bf19",
   "metadata": {},
   "source": [
    "# Fully Convolutional Networks\n",
    ":label:`sec_fcn`\n",
    "\n",
    "As discussed in :numref:`sec_semantic_segmentation`,\n",
    "semantic segmentation\n",
    "classifies images in pixel level.\n",
    "A fully convolutional network (FCN)\n",
    "uses a convolutional neural network to\n",
    "transform image pixels to pixel classes :cite:`Long.Shelhamer.Darrell.2015`.\n",
    "Unlike the CNNs that we encountered earlier\n",
    "for image classification \n",
    "or object detection,\n",
    "a fully convolutional network\n",
    "transforms \n",
    "the height and width of intermediate feature maps\n",
    "back to those of the input image:\n",
    "this is achieved by\n",
    "the transposed convolutional layer\n",
    "introduced in :numref:`sec_transposed_conv`.\n",
    "As a result,\n",
    "the classification output\n",
    "and the input image \n",
    "have a one-to-one correspondence \n",
    "in pixel level:\n",
    "the channel dimension at any output pixel \n",
    "holds the classification results\n",
    "for the input pixel at the same spatial position."
   ]
  },
  {
   "cell_type": "code",
   "execution_count": null,
   "id": "4718265f",
   "metadata": {},
   "outputs": [],
   "source": [
    "#@tab mxnet\n",
    "%matplotlib inline\n",
    "from d2l import mxnet as d2l\n",
    "from mxnet import gluon, image, init, np, npx\n",
    "from mxnet.gluon import nn\n",
    "\n",
    "npx.set_np()"
   ]
  },
  {
   "cell_type": "code",
   "execution_count": null,
   "id": "26747db8",
   "metadata": {},
   "outputs": [],
   "source": [
    "#@tab pytorch\n",
    "%matplotlib inline\n",
    "from d2l import torch as d2l\n",
    "import torch\n",
    "import torchvision\n",
    "from torch import nn\n",
    "from torch.nn import functional as F"
   ]
  },
  {
   "cell_type": "markdown",
   "id": "2bb5c172",
   "metadata": {},
   "source": [
    "## The Model\n",
    "\n",
    "Here we describe the basic design of the fully convolutional network model. \n",
    "As shown in :numref:`fig_fcn`,\n",
    "this model first uses a CNN to extract image features,\n",
    "then transforms the number of channels into\n",
    "the number of classes\n",
    "via a $1\\times 1$ convolutional layer,\n",
    "and finally transforms the height and width of\n",
    "the feature maps\n",
    "to those\n",
    "of the input image via\n",
    "the transposed convolution introduced in :numref:`sec_transposed_conv`. \n",
    "As a result,\n",
    "the model output has the same height and width as the input image,\n",
    "where the output channel contains the predicted classes\n",
    "for the input pixel at the same spatial position.\n",
    "\n",
    "\n",
    "![Fully convolutional network.](../img/fcn.svg)\n",
    ":label:`fig_fcn`\n",
    "\n",
    "Below, we [**use a ResNet-18 model pretrained on the ImageNet dataset to extract image features**]\n",
    "and denote the model instance as `pretrained_net`.\n",
    "The last few layers of this model\n",
    "include a global average pooling layer\n",
    "and a fully connected layer:\n",
    "they are not needed\n",
    "in the fully convolutional network."
   ]
  },
  {
   "cell_type": "code",
   "execution_count": null,
   "id": "b5d5e36a",
   "metadata": {},
   "outputs": [],
   "source": [
    "#@tab mxnet\n",
    "pretrained_net = gluon.model_zoo.vision.resnet18_v2(pretrained=True)\n",
    "pretrained_net.features[-3:], pretrained_net.output"
   ]
  },
  {
   "cell_type": "code",
   "execution_count": null,
   "id": "cbc503a8",
   "metadata": {},
   "outputs": [],
   "source": [
    "#@tab pytorch\n",
    "pretrained_net = torchvision.models.resnet18(pretrained=True)\n",
    "list(pretrained_net.children())[-3:]"
   ]
  },
  {
   "cell_type": "markdown",
   "id": "7714fb2b",
   "metadata": {},
   "source": [
    "Next, we [**create the fully convolutional network instance `net`**].\n",
    "It copies all the pretrained layers in the ResNet-18\n",
    "except for the final global average pooling layer\n",
    "and the fully connected layer that are closest\n",
    "to the output."
   ]
  },
  {
   "cell_type": "code",
   "execution_count": null,
   "id": "7b9877de",
   "metadata": {},
   "outputs": [],
   "source": [
    "#@tab mxnet\n",
    "net = nn.HybridSequential()\n",
    "for layer in pretrained_net.features[:-2]:\n",
    "    net.add(layer)"
   ]
  },
  {
   "cell_type": "code",
   "execution_count": null,
   "id": "373e5dd9",
   "metadata": {},
   "outputs": [],
   "source": [
    "#@tab pytorch\n",
    "net = nn.Sequential(*list(pretrained_net.children())[:-2])"
   ]
  },
  {
   "cell_type": "markdown",
   "id": "e6c90730",
   "metadata": {},
   "source": [
    "Given an input with height and width of 320 and 480 respectively,\n",
    "the forward propagation of `net`\n",
    "reduces the input height and width to 1/32 of the original, namely 10 and 15."
   ]
  },
  {
   "cell_type": "code",
   "execution_count": null,
   "id": "f4b441db",
   "metadata": {},
   "outputs": [],
   "source": [
    "#@tab mxnet\n",
    "X = np.random.uniform(size=(1, 3, 320, 480))\n",
    "net(X).shape"
   ]
  },
  {
   "cell_type": "code",
   "execution_count": null,
   "id": "fb7b5f31",
   "metadata": {},
   "outputs": [],
   "source": [
    "#@tab pytorch\n",
    "X = torch.rand(size=(1, 3, 320, 480))\n",
    "net(X).shape"
   ]
  },
  {
   "cell_type": "markdown",
   "id": "7e964d64",
   "metadata": {},
   "source": [
    "Next, we [**use a $1\\times 1$ convolutional layer to transform the number of output channels into the number of classes (21) of the Pascal VOC2012 dataset.**]\n",
    "Finally, we need to (**increase the height and width of the feature maps by 32 times**) to change them back to the height and width of the input image. \n",
    "Recall how to calculate \n",
    "the output shape of a convolutional layer in :numref:`sec_padding`. \n",
    "Since $(320-64+16\\times2+32)/32=10$ and $(480-64+16\\times2+32)/32=15$, we construct a transposed convolutional layer with stride of $32$, \n",
    "setting\n",
    "the height and width of the kernel\n",
    "to $64$, the padding to $16$.\n",
    "In general,\n",
    "we can see that\n",
    "for stride $s$,\n",
    "padding $s/2$ (assuming $s/2$ is an integer),\n",
    "and the height and width of the kernel $2s$, \n",
    "the transposed convolution will increase\n",
    "the height and width of the input by $s$ times."
   ]
  },
  {
   "cell_type": "code",
   "execution_count": null,
   "id": "9511d0d1",
   "metadata": {},
   "outputs": [],
   "source": [
    "#@tab mxnet\n",
    "num_classes = 21\n",
    "net.add(nn.Conv2D(num_classes, kernel_size=1),\n",
    "        nn.Conv2DTranspose(\n",
    "            num_classes, kernel_size=64, padding=16, strides=32))"
   ]
  },
  {
   "cell_type": "code",
   "execution_count": null,
   "id": "a4ff2f1f",
   "metadata": {},
   "outputs": [],
   "source": [
    "#@tab pytorch\n",
    "num_classes = 21\n",
    "net.add_module('final_conv', nn.Conv2d(512, num_classes, kernel_size=1))\n",
    "net.add_module('transpose_conv', nn.ConvTranspose2d(num_classes, num_classes,\n",
    "                                    kernel_size=64, padding=16, stride=32))"
   ]
  },
  {
   "cell_type": "markdown",
   "id": "2d8af857",
   "metadata": {},
   "source": [
    "## [**Initializing Transposed Convolutional Layers**]\n",
    "\n",
    "\n",
    "We already know that\n",
    "transposed convolutional layers can increase\n",
    "the height and width of\n",
    "feature maps.\n",
    "In image processing, we may need to scale up\n",
    "an image, i.e., *upsampling*.\n",
    "*Bilinear interpolation*\n",
    "is one of the commonly used upsampling techniques.\n",
    "It is also often used for initializing transposed convolutional layers.\n",
    "\n",
    "To explain bilinear interpolation,\n",
    "say that \n",
    "given an input image\n",
    "we want to \n",
    "calculate each pixel \n",
    "of the upsampled output image.\n",
    "In order to calculate the pixel of the output image\n",
    "at coordinate $(x, y)$, \n",
    "first map $(x, y)$ to coordinate $(x', y')$ on the input image, for example, according to the ratio of the input size to the output size. \n",
    "Note that the mapped $x'$ and $y'$ are real numbers. \n",
    "Then, find the four pixels closest to coordinate\n",
    "$(x', y')$ on the input image. \n",
    "Finally, the pixel of the output image at coordinate $(x, y)$ is calculated based on these four closest pixels\n",
    "on the input image and their relative distance from $(x', y')$. \n",
    "\n",
    "Upsampling of bilinear interpolation\n",
    "can be implemented by the transposed convolutional layer \n",
    "with the kernel constructed by the following `bilinear_kernel` function. \n",
    "Due to space limitations, we only provide the implementation of the `bilinear_kernel` function below\n",
    "without discussions on its algorithm design."
   ]
  },
  {
   "cell_type": "code",
   "execution_count": null,
   "id": "bfbcabc7",
   "metadata": {},
   "outputs": [],
   "source": [
    "#@tab mxnet\n",
    "def bilinear_kernel(in_channels, out_channels, kernel_size):\n",
    "    factor = (kernel_size + 1) // 2\n",
    "    if kernel_size % 2 == 1:\n",
    "        center = factor - 1\n",
    "    else:\n",
    "        center = factor - 0.5\n",
    "    og = (np.arange(kernel_size).reshape(-1, 1),\n",
    "          np.arange(kernel_size).reshape(1, -1))\n",
    "    filt = (1 - np.abs(og[0] - center) / factor) * \\\n",
    "           (1 - np.abs(og[1] - center) / factor)\n",
    "    weight = np.zeros((in_channels, out_channels, kernel_size, kernel_size))\n",
    "    weight[range(in_channels), range(out_channels), :, :] = filt\n",
    "    return np.array(weight)"
   ]
  },
  {
   "cell_type": "code",
   "execution_count": null,
   "id": "f08c8dec",
   "metadata": {},
   "outputs": [],
   "source": [
    "#@tab pytorch\n",
    "def bilinear_kernel(in_channels, out_channels, kernel_size):\n",
    "    factor = (kernel_size + 1) // 2\n",
    "    if kernel_size % 2 == 1:\n",
    "        center = factor - 1\n",
    "    else:\n",
    "        center = factor - 0.5\n",
    "    og = (torch.arange(kernel_size).reshape(-1, 1),\n",
    "          torch.arange(kernel_size).reshape(1, -1))\n",
    "    filt = (1 - torch.abs(og[0] - center) / factor) * \\\n",
    "           (1 - torch.abs(og[1] - center) / factor)\n",
    "    weight = torch.zeros((in_channels, out_channels,\n",
    "                          kernel_size, kernel_size))\n",
    "    weight[range(in_channels), range(out_channels), :, :] = filt\n",
    "    return weight"
   ]
  },
  {
   "cell_type": "markdown",
   "id": "9ff22df9",
   "metadata": {},
   "source": [
    "Let's [**experiment with upsampling of bilinear interpolation**] \n",
    "that is implemented by a transposed convolutional layer. \n",
    "We construct a transposed convolutional layer that \n",
    "doubles the height and weight,\n",
    "and initialize its kernel with the `bilinear_kernel` function."
   ]
  },
  {
   "cell_type": "code",
   "execution_count": null,
   "id": "b703ad56",
   "metadata": {},
   "outputs": [],
   "source": [
    "#@tab mxnet\n",
    "conv_trans = nn.Conv2DTranspose(3, kernel_size=4, padding=1, strides=2)\n",
    "conv_trans.initialize(init.Constant(bilinear_kernel(3, 3, 4)))"
   ]
  },
  {
   "cell_type": "code",
   "execution_count": null,
   "id": "caa88a4a",
   "metadata": {},
   "outputs": [],
   "source": [
    "#@tab pytorch\n",
    "conv_trans = nn.ConvTranspose2d(3, 3, kernel_size=4, padding=1, stride=2,\n",
    "                                bias=False)\n",
    "conv_trans.weight.data.copy_(bilinear_kernel(3, 3, 4));"
   ]
  },
  {
   "cell_type": "markdown",
   "id": "96fa82ef",
   "metadata": {},
   "source": [
    "Read the image `X` and assign the upsampling output to `Y`. In order to print the image, we need to adjust the position of the channel dimension."
   ]
  },
  {
   "cell_type": "code",
   "execution_count": null,
   "id": "a91bb2e2",
   "metadata": {},
   "outputs": [],
   "source": [
    "#@tab mxnet\n",
    "img = image.imread('../img/catdog.jpg')\n",
    "X = np.expand_dims(img.astype('float32').transpose(2, 0, 1), axis=0) / 255\n",
    "Y = conv_trans(X)\n",
    "out_img = Y[0].transpose(1, 2, 0)"
   ]
  },
  {
   "cell_type": "code",
   "execution_count": null,
   "id": "5f532ac3",
   "metadata": {},
   "outputs": [],
   "source": [
    "#@tab pytorch\n",
    "img = torchvision.transforms.ToTensor()(d2l.Image.open('../img/catdog.jpg'))\n",
    "X = img.unsqueeze(0)\n",
    "Y = conv_trans(X)\n",
    "out_img = Y[0].permute(1, 2, 0).detach()"
   ]
  },
  {
   "cell_type": "markdown",
   "id": "53a65d10",
   "metadata": {},
   "source": [
    "As we can see, the transposed convolutional layer increases both the height and width of the image by a factor of two.\n",
    "Except for the different scales in coordinates,\n",
    "the image scaled up by bilinear interpolation and the original image printed in :numref:`sec_bbox` look the same."
   ]
  },
  {
   "cell_type": "code",
   "execution_count": null,
   "id": "7d7e0589",
   "metadata": {},
   "outputs": [],
   "source": [
    "#@tab mxnet\n",
    "d2l.set_figsize()\n",
    "print('input image shape:', img.shape)\n",
    "d2l.plt.imshow(img.asnumpy());\n",
    "print('output image shape:', out_img.shape)\n",
    "d2l.plt.imshow(out_img.asnumpy());"
   ]
  },
  {
   "cell_type": "code",
   "execution_count": null,
   "id": "d8165382",
   "metadata": {},
   "outputs": [],
   "source": [
    "#@tab pytorch\n",
    "d2l.set_figsize()\n",
    "print('input image shape:', img.permute(1, 2, 0).shape)\n",
    "d2l.plt.imshow(img.permute(1, 2, 0));\n",
    "print('output image shape:', out_img.shape)\n",
    "d2l.plt.imshow(out_img);"
   ]
  },
  {
   "cell_type": "markdown",
   "id": "3b8f88ef",
   "metadata": {},
   "source": [
    "In a fully convolutional network, we [**initialize the transposed convolutional layer with upsampling of bilinear interpolation. For the $1\\times 1$ convolutional layer, we use Xavier initialization.**]"
   ]
  },
  {
   "cell_type": "code",
   "execution_count": null,
   "id": "b1f87b44",
   "metadata": {},
   "outputs": [],
   "source": [
    "#@tab mxnet\n",
    "W = bilinear_kernel(num_classes, num_classes, 64)\n",
    "net[-1].initialize(init.Constant(W))\n",
    "net[-2].initialize(init=init.Xavier())"
   ]
  },
  {
   "cell_type": "code",
   "execution_count": null,
   "id": "c6355f3a",
   "metadata": {},
   "outputs": [],
   "source": [
    "#@tab pytorch\n",
    "W = bilinear_kernel(num_classes, num_classes, 64)\n",
    "net.transpose_conv.weight.data.copy_(W);"
   ]
  },
  {
   "cell_type": "markdown",
   "id": "d0635578",
   "metadata": {},
   "source": [
    "## [**Reading the Dataset**]\n",
    "\n",
    "We read\n",
    "the semantic segmentation dataset\n",
    "as introduced in :numref:`sec_semantic_segmentation`. \n",
    "The output image shape of random cropping is\n",
    "specified as $320\\times 480$: both the height and width are divisible by $32$."
   ]
  },
  {
   "cell_type": "code",
   "execution_count": null,
   "id": "7155b106",
   "metadata": {},
   "outputs": [],
   "source": [
    "#@tab all\n",
    "batch_size, crop_size = 32, (320, 480)\n",
    "train_iter, test_iter = d2l.load_data_voc(batch_size, crop_size)"
   ]
  },
  {
   "cell_type": "markdown",
   "id": "531a50d3",
   "metadata": {},
   "source": [
    "## [**Training**]\n",
    "\n",
    "\n",
    "Now we can train our constructed\n",
    "fully convolutional network. \n",
    "The loss function and accuracy calculation here\n",
    "are not essentially different from those in image classification of earlier chapters. \n",
    "Because we use the output channel of the\n",
    "transposed convolutional layer to\n",
    "predict the class for each pixel,\n",
    "the channel dimension is specified in the loss calculation.\n",
    "In addition, the accuracy is calculated\n",
    "based on correctness\n",
    "of the predicted class for all the pixels."
   ]
  },
  {
   "cell_type": "code",
   "execution_count": null,
   "id": "1aea4f15",
   "metadata": {},
   "outputs": [],
   "source": [
    "#@tab mxnet\n",
    "num_epochs, lr, wd, devices = 5, 0.1, 1e-3, d2l.try_all_gpus()\n",
    "loss = gluon.loss.SoftmaxCrossEntropyLoss(axis=1)\n",
    "net.collect_params().reset_ctx(devices)\n",
    "trainer = gluon.Trainer(net.collect_params(), 'sgd',\n",
    "                        {'learning_rate': lr, 'wd': wd})\n",
    "d2l.train_ch13(net, train_iter, test_iter, loss, trainer, num_epochs, devices)"
   ]
  },
  {
   "cell_type": "code",
   "execution_count": null,
   "id": "76ba68df",
   "metadata": {},
   "outputs": [],
   "source": [
    "#@tab pytorch\n",
    "def loss(inputs, targets):\n",
    "    return F.cross_entropy(inputs, targets, reduction='none').mean(1).mean(1)\n",
    "\n",
    "num_epochs, lr, wd, devices = 5, 0.001, 1e-3, d2l.try_all_gpus()\n",
    "trainer = torch.optim.SGD(net.parameters(), lr=lr, weight_decay=wd)\n",
    "d2l.train_ch13(net, train_iter, test_iter, loss, trainer, num_epochs, devices)"
   ]
  },
  {
   "cell_type": "markdown",
   "id": "bb163e90",
   "metadata": {},
   "source": [
    "## [**Prediction**]\n",
    "\n",
    "\n",
    "When predicting, we need to standardize the input image\n",
    "in each channel and transform the image into the four-dimensional input format required by the CNN."
   ]
  },
  {
   "cell_type": "code",
   "execution_count": null,
   "id": "c642c1f3",
   "metadata": {},
   "outputs": [],
   "source": [
    "#@tab mxnet\n",
    "def predict(img):\n",
    "    X = test_iter._dataset.normalize_image(img)\n",
    "    X = np.expand_dims(X.transpose(2, 0, 1), axis=0)\n",
    "    pred = net(X.as_in_ctx(devices[0])).argmax(axis=1)\n",
    "    return pred.reshape(pred.shape[1], pred.shape[2])"
   ]
  },
  {
   "cell_type": "code",
   "execution_count": null,
   "id": "1eec0a77",
   "metadata": {},
   "outputs": [],
   "source": [
    "#@tab pytorch\n",
    "def predict(img):\n",
    "    X = test_iter.dataset.normalize_image(img).unsqueeze(0)\n",
    "    pred = net(X.to(devices[0])).argmax(dim=1)\n",
    "    return pred.reshape(pred.shape[1], pred.shape[2])"
   ]
  },
  {
   "cell_type": "markdown",
   "id": "533ee99d",
   "metadata": {},
   "source": [
    "To [**visualize the predicted class**] of each pixel, we map the predicted class back to its label color in the dataset."
   ]
  },
  {
   "cell_type": "code",
   "execution_count": null,
   "id": "57c1dcfe",
   "metadata": {},
   "outputs": [],
   "source": [
    "#@tab mxnet\n",
    "def label2image(pred):\n",
    "    colormap = np.array(d2l.VOC_COLORMAP, ctx=devices[0], dtype='uint8')\n",
    "    X = pred.astype('int32')\n",
    "    return colormap[X, :]"
   ]
  },
  {
   "cell_type": "code",
   "execution_count": null,
   "id": "e960129c",
   "metadata": {},
   "outputs": [],
   "source": [
    "#@tab pytorch\n",
    "def label2image(pred):\n",
    "    colormap = torch.tensor(d2l.VOC_COLORMAP, device=devices[0])\n",
    "    X = pred.long()\n",
    "    return colormap[X, :]"
   ]
  },
  {
   "cell_type": "markdown",
   "id": "aa8e40a0",
   "metadata": {},
   "source": [
    "Images in the test dataset vary in size and shape.\n",
    "Since the model uses a transposed convolutional layer with stride of 32,\n",
    "when the height or width of an input image is indivisible by 32,\n",
    "the output height or width of the\n",
    "transposed convolutional layer will deviate from the shape of the input image.\n",
    "In order to address this issue,\n",
    "we can crop multiple rectangular areas with height and width that are integer multiples of 32 in the image,\n",
    "and perform forward propagation\n",
    "on the pixels in these areas separately.\n",
    "Note that\n",
    "the union of these rectangular areas needs to completely cover the input image.\n",
    "When a pixel is covered by multiple rectangular areas,\n",
    "the average of the transposed convolution outputs\n",
    "in separate areas for this same pixel\n",
    "can be input to\n",
    "the softmax operation\n",
    "to predict the class.\n",
    "\n",
    "\n",
    "For simplicity, we only read a few larger test images,\n",
    "and crop a $320\\times480$ area for prediction starting from the upper-left corner of an image.\n",
    "For these test images, we\n",
    "print their cropped areas,\n",
    "prediction results,\n",
    "and ground-truth row by row."
   ]
  },
  {
   "cell_type": "code",
   "execution_count": null,
   "id": "cf3022ee",
   "metadata": {},
   "outputs": [],
   "source": [
    "#@tab mxnet\n",
    "voc_dir = d2l.download_extract('voc2012', 'VOCdevkit/VOC2012')\n",
    "test_images, test_labels = d2l.read_voc_images(voc_dir, False)\n",
    "n, imgs = 4, []\n",
    "for i in range(n):\n",
    "    crop_rect = (0, 0, 480, 320)\n",
    "    X = image.fixed_crop(test_images[i], *crop_rect)\n",
    "    pred = label2image(predict(X))\n",
    "    imgs += [X, pred, image.fixed_crop(test_labels[i], *crop_rect)]\n",
    "d2l.show_images(imgs[::3] + imgs[1::3] + imgs[2::3], 3, n, scale=2);"
   ]
  },
  {
   "cell_type": "code",
   "execution_count": null,
   "id": "66a16cb6",
   "metadata": {},
   "outputs": [],
   "source": [
    "#@tab pytorch\n",
    "voc_dir = d2l.download_extract('voc2012', 'VOCdevkit/VOC2012')\n",
    "test_images, test_labels = d2l.read_voc_images(voc_dir, False)\n",
    "n, imgs = 4, []\n",
    "for i in range(n):\n",
    "    crop_rect = (0, 0, 320, 480)\n",
    "    X = torchvision.transforms.functional.crop(test_images[i], *crop_rect)\n",
    "    pred = label2image(predict(X))\n",
    "    imgs += [X.permute(1,2,0), pred.cpu(),\n",
    "             torchvision.transforms.functional.crop(\n",
    "                 test_labels[i], *crop_rect).permute(1,2,0)]\n",
    "d2l.show_images(imgs[::3] + imgs[1::3] + imgs[2::3], 3, n, scale=2);"
   ]
  },
  {
   "cell_type": "markdown",
   "id": "a5f02179",
   "metadata": {},
   "source": [
    "## Summary\n",
    "\n",
    "* The fully convolutional network first uses a CNN to extract image features, then transforms the number of channels into the number of classes via a $1\\times 1$ convolutional layer, and finally transforms the height and width of the feature maps to those of the input image via the transposed convolution.\n",
    "* In a fully convolutional network, we can use upsampling of bilinear interpolation to initialize the transposed convolutional layer.\n",
    "\n",
    "\n",
    "## Exercises\n",
    "\n",
    "1. If we use Xavier initialization for the transposed convolutional layer in the experiment, how does the result change?\n",
    "1. Can you further improve the accuracy of the model by tuning the hyperparameters?\n",
    "1. Predict the classes of all pixels in test images.\n",
    "1. The original fully convolutional network paper also uses outputs of some intermediate CNN layers :cite:`Long.Shelhamer.Darrell.2015`. Try to implement this idea.\n",
    "\n",
    ":begin_tab:`mxnet`\n",
    "[Discussions](https://discuss.d2l.ai/t/377)\n",
    ":end_tab:\n",
    "\n",
    ":begin_tab:`pytorch`\n",
    "[Discussions](https://discuss.d2l.ai/t/1582)\n",
    ":end_tab:"
   ]
  }
 ],
 "metadata": {},
 "nbformat": 4,
 "nbformat_minor": 5
}
