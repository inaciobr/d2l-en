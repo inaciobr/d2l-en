{
 "cells": [
  {
   "cell_type": "markdown",
   "id": "ef7a823a",
   "metadata": {},
   "source": [
    "# Object Detection and Bounding Boxes\n",
    ":label:`sec_bbox`\n",
    "\n",
    "\n",
    "In earlier sections (e.g., :numref:`sec_alexnet`--:numref:`sec_googlenet`),\n",
    "we introduced various models for image classification.\n",
    "In image classification tasks,\n",
    "we assume that there is only *one*\n",
    "major object\n",
    "in the image and we only focus on how to \n",
    "recognize its category.\n",
    "However, there are often *multiple* objects\n",
    "in the image of interest.\n",
    "We not only want to know their categories, but also their specific positions in the image.\n",
    "In computer vision, we refer to such tasks as *object detection* (or *object recognition*).\n",
    "\n",
    "Object detection has been\n",
    "widely applied in many fields.\n",
    "For example, self-driving needs to plan \n",
    "traveling routes\n",
    "by detecting the positions\n",
    "of vehicles, pedestrians, roads, and obstacles in the captured video images.\n",
    "Besides,\n",
    "robots may use this technique\n",
    "to detect and localize objects of interest\n",
    "throughout its navigation of an environment.\n",
    "Moreover,\n",
    "security systems\n",
    "may need to detect abnormal objects, such as intruders or bombs.\n",
    "\n",
    "In the next few sections, we will introduce \n",
    "several deep learning methods for object detection.\n",
    "We will begin with an introduction\n",
    "to *positions* (or *locations*) of objects."
   ]
  },
  {
   "cell_type": "code",
   "execution_count": null,
   "id": "b76a0554",
   "metadata": {},
   "outputs": [],
   "source": [
    "#@tab mxnet\n",
    "%matplotlib inline\n",
    "from d2l import mxnet as d2l\n",
    "from mxnet import image, npx, np\n",
    "\n",
    "npx.set_np()"
   ]
  },
  {
   "cell_type": "code",
   "execution_count": null,
   "id": "9c1cb130",
   "metadata": {},
   "outputs": [],
   "source": [
    "#@tab pytorch\n",
    "%matplotlib inline\n",
    "from d2l import torch as d2l\n",
    "import torch"
   ]
  },
  {
   "cell_type": "code",
   "execution_count": null,
   "id": "ec094ef6",
   "metadata": {},
   "outputs": [],
   "source": [
    "#@tab tensorflow\n",
    "%matplotlib inline\n",
    "from d2l import tensorflow as d2l\n",
    "import tensorflow as tf"
   ]
  },
  {
   "cell_type": "markdown",
   "id": "525b56fa",
   "metadata": {},
   "source": [
    "We will load the sample image to be used in this section. We can see that there is a dog on the left side of the image and a cat on the right.\n",
    "They are the two major objects in this image."
   ]
  },
  {
   "cell_type": "code",
   "execution_count": null,
   "id": "fb8d89f9",
   "metadata": {},
   "outputs": [],
   "source": [
    "#@tab mxnet\n",
    "d2l.set_figsize()\n",
    "img = image.imread('../img/catdog.jpg').asnumpy()\n",
    "d2l.plt.imshow(img);"
   ]
  },
  {
   "cell_type": "code",
   "execution_count": null,
   "id": "46f1fea3",
   "metadata": {},
   "outputs": [],
   "source": [
    "#@tab pytorch, tensorflow\n",
    "d2l.set_figsize()\n",
    "img = d2l.plt.imread('../img/catdog.jpg')\n",
    "d2l.plt.imshow(img);"
   ]
  },
  {
   "cell_type": "markdown",
   "id": "9b1f090b",
   "metadata": {},
   "source": [
    "## Bounding Boxes\n",
    "\n",
    "\n",
    "In object detection,\n",
    "we usually use a *bounding box* to describe the spatial location of an object.\n",
    "The bounding box is rectangular, which is determined by the $x$ and $y$ coordinates of the upper-left corner of the rectangle and the such coordinates of the lower-right corner. \n",
    "Another commonly used bounding box representation is the $(x, y)$-axis\n",
    "coordinates of the bounding box center, and the width and height of the box.\n",
    "\n",
    "[**Here we define functions to convert between**] these (**two\n",
    "representations**):\n",
    "`box_corner_to_center` converts from the two-corner\n",
    "representation to the center-width-height presentation,\n",
    "and `box_center_to_corner` vice versa.\n",
    "The input argument `boxes` should be a two-dimensional tensor of\n",
    "shape ($n$, 4), where $n$ is the number of bounding boxes."
   ]
  },
  {
   "cell_type": "code",
   "execution_count": null,
   "id": "13c6dd56",
   "metadata": {},
   "outputs": [],
   "source": [
    "#@tab all\n",
    "#@save\n",
    "def box_corner_to_center(boxes):\n",
    "    \"\"\"Convert from (upper-left, lower-right) to (center, width, height).\"\"\"\n",
    "    x1, y1, x2, y2 = boxes[:, 0], boxes[:, 1], boxes[:, 2], boxes[:, 3]\n",
    "    cx = (x1 + x2) / 2\n",
    "    cy = (y1 + y2) / 2\n",
    "    w = x2 - x1\n",
    "    h = y2 - y1\n",
    "    boxes = d2l.stack((cx, cy, w, h), axis=-1)\n",
    "    return boxes\n",
    "\n",
    "#@save\n",
    "def box_center_to_corner(boxes):\n",
    "    \"\"\"Convert from (center, width, height) to (upper-left, lower-right).\"\"\"\n",
    "    cx, cy, w, h = boxes[:, 0], boxes[:, 1], boxes[:, 2], boxes[:, 3]\n",
    "    x1 = cx - 0.5 * w\n",
    "    y1 = cy - 0.5 * h\n",
    "    x2 = cx + 0.5 * w\n",
    "    y2 = cy + 0.5 * h\n",
    "    boxes = d2l.stack((x1, y1, x2, y2), axis=-1)\n",
    "    return boxes"
   ]
  },
  {
   "cell_type": "markdown",
   "id": "9503f2e1",
   "metadata": {},
   "source": [
    "We will [**define the bounding boxes of the dog and the cat in the image**] based\n",
    "on the coordinate information.\n",
    "The origin of the coordinates in the image\n",
    "is the upper-left corner of the image, and to the right and down are the\n",
    "positive directions of the $x$ and $y$ axes, respectively."
   ]
  },
  {
   "cell_type": "code",
   "execution_count": null,
   "id": "80288fe0",
   "metadata": {},
   "outputs": [],
   "source": [
    "#@tab all\n",
    "# Here `bbox` is the abbreviation for bounding box\n",
    "dog_bbox, cat_bbox = [60.0, 45.0, 378.0, 516.0], [400.0, 112.0, 655.0, 493.0]"
   ]
  },
  {
   "cell_type": "markdown",
   "id": "bd816bb4",
   "metadata": {},
   "source": [
    "We can verify the correctness of the two\n",
    "bounding box conversion functions by converting twice."
   ]
  },
  {
   "cell_type": "code",
   "execution_count": null,
   "id": "38268029",
   "metadata": {},
   "outputs": [],
   "source": [
    "#@tab all\n",
    "boxes = d2l.tensor((dog_bbox, cat_bbox))\n",
    "box_center_to_corner(box_corner_to_center(boxes)) == boxes"
   ]
  },
  {
   "cell_type": "markdown",
   "id": "25e55744",
   "metadata": {},
   "source": [
    "Let's [**draw the bounding boxes in the image**] to check if they are accurate.\n",
    "Before drawing, we will define a helper function `bbox_to_rect`. It represents the bounding box in the bounding box format of the  `matplotlib` package."
   ]
  },
  {
   "cell_type": "code",
   "execution_count": null,
   "id": "0c05de6e",
   "metadata": {},
   "outputs": [],
   "source": [
    "#@tab all\n",
    "#@save\n",
    "def bbox_to_rect(bbox, color):\n",
    "    \"\"\"Convert bounding box to matplotlib format.\"\"\"\n",
    "    # Convert the bounding box (upper-left x, upper-left y, lower-right x,\n",
    "    # lower-right y) format to the matplotlib format: ((upper-left x,\n",
    "    # upper-left y), width, height)\n",
    "    return d2l.plt.Rectangle(\n",
    "        xy=(bbox[0], bbox[1]), width=bbox[2]-bbox[0], height=bbox[3]-bbox[1],\n",
    "        fill=False, edgecolor=color, linewidth=2)"
   ]
  },
  {
   "cell_type": "markdown",
   "id": "87c06a6c",
   "metadata": {},
   "source": [
    "After adding the bounding boxes on the image,\n",
    "we can see that the main outline of the two objects are basically inside the two boxes."
   ]
  },
  {
   "cell_type": "code",
   "execution_count": null,
   "id": "e44b1d23",
   "metadata": {},
   "outputs": [],
   "source": [
    "#@tab all\n",
    "fig = d2l.plt.imshow(img)\n",
    "fig.axes.add_patch(bbox_to_rect(dog_bbox, 'blue'))\n",
    "fig.axes.add_patch(bbox_to_rect(cat_bbox, 'red'));"
   ]
  },
  {
   "cell_type": "markdown",
   "id": "503e6620",
   "metadata": {},
   "source": [
    "## Summary\n",
    "\n",
    "* Object detection not only recognizes all the objects of interest in the image, but also their positions. The position is generally represented by a rectangular bounding box.\n",
    "* We can convert between two commonly used bounding box representations.\n",
    "\n",
    "## Exercises\n",
    "\n",
    "1. Find another image and try to label a bounding box that contains the object. Compare labeling bounding boxes and categories: which usually takes longer?\n",
    "1. Why is the innermost dimension of the input argument `boxes` of `box_corner_to_center` and `box_center_to_corner` always 4?\n",
    "\n",
    "\n",
    ":begin_tab:`mxnet`\n",
    "[Discussions](https://discuss.d2l.ai/t/369)\n",
    ":end_tab:\n",
    "\n",
    ":begin_tab:`pytorch`\n",
    "[Discussions](https://discuss.d2l.ai/t/1527)\n",
    ":end_tab:"
   ]
  }
 ],
 "metadata": {},
 "nbformat": 4,
 "nbformat_minor": 5
}
