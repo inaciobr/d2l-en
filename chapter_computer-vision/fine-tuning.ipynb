{
 "cells": [
  {
   "cell_type": "markdown",
   "id": "71b34ef4",
   "metadata": {},
   "source": [
    "# Fine-Tuning\n",
    ":label:`sec_fine_tuning`\n",
    "\n",
    "In earlier chapters, we discussed how to train models on the Fashion-MNIST training dataset with only 60000 images. We also described ImageNet, the most widely used large-scale image dataset in academia, which has more than 10 million images and 1000 objects. However, the size of the dataset that we usually encounter is between those of the two datasets.\n",
    "\n",
    "\n",
    "Suppose that we want to recognize different types of chairs from images, and then recommend purchase links to users. \n",
    "One possible method is to first identify\n",
    "100 common chairs,\n",
    "take 1000 images of different angles for each chair, \n",
    "and then train a classification model on the collected image dataset.\n",
    "Although this chair dataset may be larger than the Fashion-MNIST dataset,\n",
    "the number of examples is still less than one-tenth of \n",
    "that in ImageNet.\n",
    "This may lead to overfitting of complicated models \n",
    "that are suitable for ImageNet on this chair dataset.\n",
    "Besides, due to the limited amount of training examples,\n",
    "the accuracy of the trained model\n",
    "may not meet practical requirements.\n",
    "\n",
    "\n",
    "In order to address the above problems,\n",
    "an obvious solution is to collect more data.\n",
    "However, collecting and labeling data can take a lot of time and money.\n",
    "For example, in order to collect the ImageNet dataset, researchers have spent millions of dollars from research funding.\n",
    "Although the current data collection cost has been significantly reduced, this cost still cannot be ignored.\n",
    "\n",
    "\n",
    "Another solution is to apply *transfer learning* to transfer the knowledge learned from the *source dataset* to the *target dataset*.\n",
    "For example, although most of the images in the ImageNet dataset have nothing to do with chairs, the model trained on this dataset may extract more general image features, which can help identify edges, textures, shapes, and object composition.\n",
    "These similar features may\n",
    "also be effective for recognizing chairs.\n",
    "\n",
    "\n",
    "## Steps\n",
    "\n",
    "\n",
    "In this section, we will introduce a common technique in transfer learning: *fine-tuning*. As shown in :numref:`fig_finetune`, fine-tuning consists of the following four steps:\n",
    "\n",
    "\n",
    "1. Pretrain a neural network model, i.e., the *source model*, on a source dataset (e.g., the ImageNet dataset).\n",
    "1. Create a new neural network model, i.e., the *target model*. This copies all model designs and their parameters on the source model except the output layer. We assume that these model parameters contain the knowledge learned from the source dataset and this knowledge will also be applicable to the target dataset. We also assume that the output layer of the source model is closely related to the labels of the source dataset; thus it is not used in the target model.\n",
    "1. Add an output layer to the target model, whose number of outputs is the number of categories in the target dataset. Then randomly initialize the model parameters of this layer.\n",
    "1. Train the target model on the target dataset, such as a chair dataset. The output layer will be trained from scratch, while the parameters of all the other layers are fine-tuned based on the parameters of the source model.\n",
    "\n",
    "![Fine tuning.](../img/finetune.svg)\n",
    ":label:`fig_finetune`\n",
    "\n",
    "When target datasets are much smaller than source datasets, fine-tuning helps to improve models' generalization ability.\n",
    "\n",
    "\n",
    "## Hot Dog Recognition\n",
    "\n",
    "Let's demonstrate fine-tuning via a concrete case:\n",
    "hot dog recognition. \n",
    "We will fine-tune a ResNet model on a small dataset,\n",
    "which was pretrained on the ImageNet dataset.\n",
    "This small dataset consists of\n",
    "thousands of images with and without hot dogs.\n",
    "We will use the fine-tuned model to recognize \n",
    "hot dogs from images."
   ]
  },
  {
   "cell_type": "code",
   "execution_count": null,
   "id": "cdfc5662",
   "metadata": {},
   "outputs": [],
   "source": [
    "#@tab mxnet\n",
    "%matplotlib inline\n",
    "from d2l import mxnet as d2l\n",
    "from mxnet import gluon, init, np, npx\n",
    "from mxnet.gluon import nn\n",
    "import os\n",
    "\n",
    "npx.set_np()"
   ]
  },
  {
   "cell_type": "code",
   "execution_count": null,
   "id": "a68835c9",
   "metadata": {},
   "outputs": [],
   "source": [
    "#@tab pytorch\n",
    "%matplotlib inline\n",
    "from d2l import torch as d2l\n",
    "from torch import nn\n",
    "import torch\n",
    "import torchvision\n",
    "import os"
   ]
  },
  {
   "cell_type": "markdown",
   "id": "c4689e4e",
   "metadata": {},
   "source": [
    "### Reading the Dataset\n",
    "\n",
    "[**The hot dog dataset we use was taken from online images**].\n",
    "This dataset consists of\n",
    "1400 positive-class images containing hot dogs,\n",
    "and as many negative-class images containing other foods.\n",
    "1000 images of both classes are used for training and the rest are for testing.\n",
    "\n",
    "\n",
    "After unzipping the downloaded dataset,\n",
    "we obtain two folders `hotdog/train` and `hotdog/test`. Both folders have `hotdog` and `not-hotdog` subfolders, either of which contains images of\n",
    "the corresponding class."
   ]
  },
  {
   "cell_type": "code",
   "execution_count": null,
   "id": "b7351d3d",
   "metadata": {},
   "outputs": [],
   "source": [
    "#@tab all\n",
    "#@save\n",
    "d2l.DATA_HUB['hotdog'] = (d2l.DATA_URL + 'hotdog.zip', \n",
    "                         'fba480ffa8aa7e0febbb511d181409f899b9baa5')\n",
    "\n",
    "data_dir = d2l.download_extract('hotdog')"
   ]
  },
  {
   "cell_type": "markdown",
   "id": "43c622c0",
   "metadata": {},
   "source": [
    "We create two instances to read all the image files in the training and testing datasets, respectively."
   ]
  },
  {
   "cell_type": "code",
   "execution_count": null,
   "id": "9f0eb135",
   "metadata": {},
   "outputs": [],
   "source": [
    "#@tab mxnet\n",
    "train_imgs = gluon.data.vision.ImageFolderDataset(\n",
    "    os.path.join(data_dir, 'train'))\n",
    "test_imgs = gluon.data.vision.ImageFolderDataset(\n",
    "    os.path.join(data_dir, 'test'))"
   ]
  },
  {
   "cell_type": "code",
   "execution_count": null,
   "id": "aacd99c5",
   "metadata": {},
   "outputs": [],
   "source": [
    "#@tab pytorch\n",
    "train_imgs = torchvision.datasets.ImageFolder(os.path.join(data_dir, 'train'))\n",
    "test_imgs = torchvision.datasets.ImageFolder(os.path.join(data_dir, 'test'))"
   ]
  },
  {
   "cell_type": "markdown",
   "id": "ab06f800",
   "metadata": {},
   "source": [
    "The first 8 positive examples and the last 8 negative images are shown below. As you can see, [**the images vary in size and aspect ratio**]."
   ]
  },
  {
   "cell_type": "code",
   "execution_count": null,
   "id": "f773161d",
   "metadata": {},
   "outputs": [],
   "source": [
    "#@tab all\n",
    "hotdogs = [train_imgs[i][0] for i in range(8)]\n",
    "not_hotdogs = [train_imgs[-i - 1][0] for i in range(8)]\n",
    "d2l.show_images(hotdogs + not_hotdogs, 2, 8, scale=1.4);"
   ]
  },
  {
   "cell_type": "markdown",
   "id": "53b2c0f3",
   "metadata": {},
   "source": [
    "During training, we first crop a random area of random size and random aspect ratio from the image,\n",
    "and then scale this area\n",
    "to a $224 \\times 224$ input image. \n",
    "During testing, we scale both the height and width of an image to 256 pixels, and then crop a central $224 \\times 224$ area as input.\n",
    "In addition, \n",
    "for the three RGB (red, green, and blue) color channels\n",
    "we *standardize* their values channel by channel.\n",
    "Concretely,\n",
    "the mean value of a channel is subtracted from each value of that channel and then the result is divided by the standard deviation of that channel.\n",
    "\n",
    "[~~Data augmentations~~]"
   ]
  },
  {
   "cell_type": "code",
   "execution_count": null,
   "id": "8c64df4c",
   "metadata": {},
   "outputs": [],
   "source": [
    "#@tab mxnet\n",
    "# Specify the means and standard deviations of the three RGB channels to\n",
    "# standardize each channel\n",
    "normalize = gluon.data.vision.transforms.Normalize(\n",
    "    [0.485, 0.456, 0.406], [0.229, 0.224, 0.225])\n",
    "\n",
    "train_augs = gluon.data.vision.transforms.Compose([\n",
    "    gluon.data.vision.transforms.RandomResizedCrop(224),\n",
    "    gluon.data.vision.transforms.RandomFlipLeftRight(),\n",
    "    gluon.data.vision.transforms.ToTensor(),\n",
    "    normalize])\n",
    "\n",
    "test_augs = gluon.data.vision.transforms.Compose([\n",
    "    gluon.data.vision.transforms.Resize(256),\n",
    "    gluon.data.vision.transforms.CenterCrop(224),\n",
    "    gluon.data.vision.transforms.ToTensor(),\n",
    "    normalize])"
   ]
  },
  {
   "cell_type": "code",
   "execution_count": null,
   "id": "01bd2bb9",
   "metadata": {},
   "outputs": [],
   "source": [
    "#@tab pytorch\n",
    "# Specify the means and standard deviations of the three RGB channels to\n",
    "# standardize each channel\n",
    "normalize = torchvision.transforms.Normalize(\n",
    "    [0.485, 0.456, 0.406], [0.229, 0.224, 0.225])\n",
    "\n",
    "train_augs = torchvision.transforms.Compose([\n",
    "    torchvision.transforms.RandomResizedCrop(224),\n",
    "    torchvision.transforms.RandomHorizontalFlip(),\n",
    "    torchvision.transforms.ToTensor(),\n",
    "    normalize])\n",
    "\n",
    "test_augs = torchvision.transforms.Compose([\n",
    "    torchvision.transforms.Resize([256, 256]),\n",
    "    torchvision.transforms.CenterCrop(224),\n",
    "    torchvision.transforms.ToTensor(),\n",
    "    normalize])"
   ]
  },
  {
   "cell_type": "markdown",
   "id": "5952af5f",
   "metadata": {},
   "source": [
    "### [**Defining and Initializing the Model**]\n",
    "\n",
    "We use ResNet-18, which was pretrained on the ImageNet dataset, as the source model. Here, we specify `pretrained=True` to automatically download the pretrained model parameters. \n",
    "If this model is used for the first time,\n",
    "Internet connection is required for download."
   ]
  },
  {
   "cell_type": "code",
   "execution_count": null,
   "id": "bb55986c",
   "metadata": {},
   "outputs": [],
   "source": [
    "#@tab mxnet\n",
    "pretrained_net = gluon.model_zoo.vision.resnet18_v2(pretrained=True)"
   ]
  },
  {
   "cell_type": "code",
   "execution_count": null,
   "id": "bb9472bf",
   "metadata": {},
   "outputs": [],
   "source": [
    "#@tab pytorch\n",
    "pretrained_net = torchvision.models.resnet18(pretrained=True)"
   ]
  },
  {
   "cell_type": "markdown",
   "id": "d3d5d890",
   "metadata": {},
   "source": [
    ":begin_tab:`mxnet`\n",
    "The pretrained source model instance contains two member variables: `features` and `output`. The former contains all layers of the model except the output layer, and the latter is the output layer of the model. \n",
    "The main purpose of this division is to facilitate the fine-tuning of model parameters of all layers but the output layer. The member variable `output` of source model is shown below.\n",
    ":end_tab:\n",
    "\n",
    ":begin_tab:`pytorch`\n",
    "The pretrained source model instance contains a number of feature layers and an output layer `fc`.\n",
    "The main purpose of this division is to facilitate the fine-tuning of model parameters of all layers but the output layer. The member variable `fc` of source model is given below.\n",
    ":end_tab:"
   ]
  },
  {
   "cell_type": "code",
   "execution_count": null,
   "id": "f6111ee7",
   "metadata": {},
   "outputs": [],
   "source": [
    "#@tab mxnet\n",
    "pretrained_net.output"
   ]
  },
  {
   "cell_type": "code",
   "execution_count": null,
   "id": "689d7f82",
   "metadata": {},
   "outputs": [],
   "source": [
    "#@tab pytorch\n",
    "pretrained_net.fc"
   ]
  },
  {
   "cell_type": "markdown",
   "id": "16b36093",
   "metadata": {},
   "source": [
    "As a fully connected layer, it transforms ResNet's final global average pooling outputs into 1000 class outputs of the ImageNet dataset.\n",
    "We then construct a new neural network as the target model. It is defined in the same way as the pretrained source model except that\n",
    "its number of outputs in the final layer\n",
    "is set to\n",
    "the number of classes in the target dataset (rather than 1000).\n",
    "\n",
    "In the code below, the model parameters before the output layer of the target model instance `finetune_net` are initialized to model parameters of the corresponding layers from the source model.\n",
    "Since these model parameters were obtained via pretraining on ImageNet, \n",
    "they are effective.\n",
    "Therefore, we can only use \n",
    "a small learning rate to *fine-tune* such pretrained parameters.\n",
    "In contrast, model parameters in the output layer are randomly initialized and generally require a larger learning rate to be learned from scratch.\n",
    "Letting the base learning rate be $\\eta$, a learning rate of $10\\eta$ will be used to iterate the model parameters in the output layer."
   ]
  },
  {
   "cell_type": "code",
   "execution_count": null,
   "id": "af66b7a0",
   "metadata": {},
   "outputs": [],
   "source": [
    "#@tab mxnet\n",
    "finetune_net = gluon.model_zoo.vision.resnet18_v2(classes=2)\n",
    "finetune_net.features = pretrained_net.features\n",
    "finetune_net.output.initialize(init.Xavier())\n",
    "# The model parameters in the output layer will be iterated using a learning\n",
    "# rate ten times greater\n",
    "finetune_net.output.collect_params().setattr('lr_mult', 10)"
   ]
  },
  {
   "cell_type": "code",
   "execution_count": null,
   "id": "0a399d73",
   "metadata": {},
   "outputs": [],
   "source": [
    "#@tab pytorch\n",
    "finetune_net = torchvision.models.resnet18(pretrained=True)\n",
    "finetune_net.fc = nn.Linear(finetune_net.fc.in_features, 2)\n",
    "nn.init.xavier_uniform_(finetune_net.fc.weight);"
   ]
  },
  {
   "cell_type": "markdown",
   "id": "56d91cca",
   "metadata": {},
   "source": [
    "### [**Fine-Tuning the Model**]\n",
    "\n",
    "First, we define a training function `train_fine_tuning` that uses fine-tuning so it can be called multiple times."
   ]
  },
  {
   "cell_type": "code",
   "execution_count": null,
   "id": "09072b84",
   "metadata": {},
   "outputs": [],
   "source": [
    "#@tab mxnet\n",
    "def train_fine_tuning(net, learning_rate, batch_size=128, num_epochs=5):\n",
    "    train_iter = gluon.data.DataLoader(\n",
    "        train_imgs.transform_first(train_augs), batch_size, shuffle=True)\n",
    "    test_iter = gluon.data.DataLoader(\n",
    "        test_imgs.transform_first(test_augs), batch_size)\n",
    "    devices = d2l.try_all_gpus()\n",
    "    net.collect_params().reset_ctx(devices)\n",
    "    net.hybridize()\n",
    "    loss = gluon.loss.SoftmaxCrossEntropyLoss()\n",
    "    trainer = gluon.Trainer(net.collect_params(), 'sgd', {\n",
    "        'learning_rate': learning_rate, 'wd': 0.001})\n",
    "    d2l.train_ch13(net, train_iter, test_iter, loss, trainer, num_epochs,\n",
    "                   devices)"
   ]
  },
  {
   "cell_type": "code",
   "execution_count": null,
   "id": "fcd6197d",
   "metadata": {},
   "outputs": [],
   "source": [
    "#@tab pytorch\n",
    "# If `param_group=True`, the model parameters in the output layer will be\n",
    "# updated using a learning rate ten times greater\n",
    "def train_fine_tuning(net, learning_rate, batch_size=128, num_epochs=5,\n",
    "                      param_group=True):\n",
    "    train_iter = torch.utils.data.DataLoader(torchvision.datasets.ImageFolder(\n",
    "        os.path.join(data_dir, 'train'), transform=train_augs),\n",
    "        batch_size=batch_size, shuffle=True)\n",
    "    test_iter = torch.utils.data.DataLoader(torchvision.datasets.ImageFolder(\n",
    "        os.path.join(data_dir, 'test'), transform=test_augs),\n",
    "        batch_size=batch_size)\n",
    "    devices = d2l.try_all_gpus()\n",
    "    loss = nn.CrossEntropyLoss(reduction=\"none\")\n",
    "    if param_group:\n",
    "        params_1x = [param for name, param in net.named_parameters()\n",
    "             if name not in [\"fc.weight\", \"fc.bias\"]]\n",
    "        trainer = torch.optim.SGD([{'params': params_1x},\n",
    "                                   {'params': net.fc.parameters(),\n",
    "                                    'lr': learning_rate * 10}],\n",
    "                                lr=learning_rate, weight_decay=0.001)\n",
    "    else:\n",
    "        trainer = torch.optim.SGD(net.parameters(), lr=learning_rate,\n",
    "                                  weight_decay=0.001)    \n",
    "    d2l.train_ch13(net, train_iter, test_iter, loss, trainer, num_epochs,\n",
    "                   devices)"
   ]
  },
  {
   "cell_type": "markdown",
   "id": "c3bc136b",
   "metadata": {},
   "source": [
    "We [**set the base learning rate to a small value**]\n",
    "in order to *fine-tune* the model parameters obtained via pretraining. Based on the previous settings, we will train the output layer parameters of the target model from scratch using a learning rate ten times greater."
   ]
  },
  {
   "cell_type": "code",
   "execution_count": null,
   "id": "9dc173a1",
   "metadata": {},
   "outputs": [],
   "source": [
    "#@tab mxnet\n",
    "train_fine_tuning(finetune_net, 0.01)"
   ]
  },
  {
   "cell_type": "code",
   "execution_count": null,
   "id": "35eaeb6d",
   "metadata": {},
   "outputs": [],
   "source": [
    "#@tab pytorch\n",
    "train_fine_tuning(finetune_net, 5e-5)"
   ]
  },
  {
   "cell_type": "markdown",
   "id": "031357a9",
   "metadata": {},
   "source": [
    "[**For comparison,**] we define an identical model, but (**initialize all of its model parameters to random values**). Since the entire model needs to be trained from scratch, we can use a larger learning rate."
   ]
  },
  {
   "cell_type": "code",
   "execution_count": null,
   "id": "d35cd92e",
   "metadata": {},
   "outputs": [],
   "source": [
    "#@tab mxnet\n",
    "scratch_net = gluon.model_zoo.vision.resnet18_v2(classes=2)\n",
    "scratch_net.initialize(init=init.Xavier())\n",
    "train_fine_tuning(scratch_net, 0.1)"
   ]
  },
  {
   "cell_type": "code",
   "execution_count": null,
   "id": "dc2c590d",
   "metadata": {},
   "outputs": [],
   "source": [
    "#@tab pytorch\n",
    "scratch_net = torchvision.models.resnet18()\n",
    "scratch_net.fc = nn.Linear(scratch_net.fc.in_features, 2)\n",
    "train_fine_tuning(scratch_net, 5e-4, param_group=False)"
   ]
  },
  {
   "cell_type": "markdown",
   "id": "b1a9d71a",
   "metadata": {},
   "source": [
    "As we can see, the fine-tuned model tends to perform better for the same epoch\n",
    "because its initial parameter values are more effective.\n",
    "\n",
    "\n",
    "## Summary\n",
    "\n",
    "* Transfer learning transfers knowledge learned from the source dataset to the target dataset. Fine-tuning is a common technique for transfer learning.\n",
    "* The target model copies all model designs with their parameters from the source model except the output layer, and fine-tunes these parameters based on the target dataset. In contrast, the output layer of the target model needs to be trained from scratch.\n",
    "* Generally, fine-tuning parameters uses a smaller learning rate, while training the output layer from scratch can use a larger learning rate.\n",
    "\n",
    "\n",
    "## Exercises\n",
    "\n",
    "1. Keep increasing the learning rate of `finetune_net`. How does the accuracy of the model change?\n",
    "2. Further adjust hyperparameters of `finetune_net` and `scratch_net` in the comparative experiment. Do they still differ in accuracy?\n",
    "3. Set the parameters before the output layer of `finetune_net` to those of the source model and do *not* update them during training. How does the accuracy of the model change? You can use the following code."
   ]
  },
  {
   "cell_type": "code",
   "execution_count": null,
   "id": "dbb53f93",
   "metadata": {},
   "outputs": [],
   "source": [
    "#@tab mxnet\n",
    "finetune_net.features.collect_params().setattr('grad_req', 'null')"
   ]
  },
  {
   "cell_type": "code",
   "execution_count": null,
   "id": "276b0456",
   "metadata": {},
   "outputs": [],
   "source": [
    "#@tab pytorch\n",
    "for param in finetune_net.parameters():\n",
    "    param.requires_grad = False"
   ]
  },
  {
   "cell_type": "markdown",
   "id": "d6544fcf",
   "metadata": {},
   "source": [
    "4. In fact, there is a \"hotdog\" class in the `ImageNet` dataset. Its corresponding weight parameter in the output layer can be obtained via the following code. How can we leverage this weight parameter?"
   ]
  },
  {
   "cell_type": "code",
   "execution_count": null,
   "id": "01d91b35",
   "metadata": {},
   "outputs": [],
   "source": [
    "#@tab mxnet\n",
    "weight = pretrained_net.output.weight\n",
    "hotdog_w = np.split(weight.data(), 1000, axis=0)[713]\n",
    "hotdog_w.shape"
   ]
  },
  {
   "cell_type": "code",
   "execution_count": null,
   "id": "72792349",
   "metadata": {},
   "outputs": [],
   "source": [
    "#@tab pytorch\n",
    "weight = pretrained_net.fc.weight\n",
    "hotdog_w = torch.split(weight.data, 1, dim=0)[934]\n",
    "hotdog_w.shape"
   ]
  },
  {
   "cell_type": "markdown",
   "id": "e6f010ec",
   "metadata": {},
   "source": [
    ":begin_tab:`mxnet`\n",
    "[Discussions](https://discuss.d2l.ai/t/368)\n",
    ":end_tab:\n",
    "\n",
    ":begin_tab:`pytorch`\n",
    "[Discussions](https://discuss.d2l.ai/t/1439)\n",
    ":end_tab:"
   ]
  }
 ],
 "metadata": {},
 "nbformat": 4,
 "nbformat_minor": 5
}
