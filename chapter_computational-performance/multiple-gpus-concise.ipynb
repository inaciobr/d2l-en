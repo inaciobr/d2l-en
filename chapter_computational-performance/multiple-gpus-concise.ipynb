{
 "cells": [
  {
   "cell_type": "markdown",
   "id": "7a3cdfd8",
   "metadata": {},
   "source": [
    "# Concise Implementation for Multiple GPUs\n",
    ":label:`sec_multi_gpu_concise`\n",
    "\n",
    "Implementing parallelism from scratch for every new model is no fun. Moreover, there is significant benefit in optimizing synchronization tools for high performance. In the following we will show how to do this using high-level APIs of deep learning frameworks.\n",
    "The mathematics and the algorithms are the same as in :numref:`sec_multi_gpu`.\n",
    "Quite unsurprisingly you will need at least two GPUs to run code of this section."
   ]
  },
  {
   "cell_type": "code",
   "execution_count": null,
   "id": "ba259808",
   "metadata": {},
   "outputs": [],
   "source": [
    "#@tab mxnet\n",
    "from d2l import mxnet as d2l\n",
    "from mxnet import autograd, gluon, init, np, npx\n",
    "from mxnet.gluon import nn\n",
    "npx.set_np()"
   ]
  },
  {
   "cell_type": "code",
   "execution_count": null,
   "id": "cb71bcd5",
   "metadata": {},
   "outputs": [],
   "source": [
    "#@tab pytorch\n",
    "from d2l import torch as d2l\n",
    "import torch\n",
    "from torch import nn"
   ]
  },
  {
   "cell_type": "markdown",
   "id": "cebc1518",
   "metadata": {},
   "source": [
    "## [**A Toy Network**]\n",
    "\n",
    "Let's use a slightly more meaningful network than LeNet from :numref:`sec_multi_gpu` that is still sufficiently easy and quick to train.\n",
    "We pick a ResNet-18 variant :cite:`He.Zhang.Ren.ea.2016`. Since the input images are tiny we modify it slightly. In particular, the difference from :numref:`sec_resnet` is that we use a smaller convolution kernel, stride, and padding at the beginning.\n",
    "Moreover, we remove the max-pooling layer."
   ]
  },
  {
   "cell_type": "code",
   "execution_count": null,
   "id": "5435f656",
   "metadata": {},
   "outputs": [],
   "source": [
    "#@tab mxnet\n",
    "#@save\n",
    "def resnet18(num_classes):\n",
    "    \"\"\"A slightly modified ResNet-18 model.\"\"\"\n",
    "    def resnet_block(num_channels, num_residuals, first_block=False):\n",
    "        blk = nn.Sequential()\n",
    "        for i in range(num_residuals):\n",
    "            if i == 0 and not first_block:\n",
    "                blk.add(d2l.Residual(\n",
    "                    num_channels, use_1x1conv=True, strides=2))\n",
    "            else:\n",
    "                blk.add(d2l.Residual(num_channels))\n",
    "        return blk\n",
    "\n",
    "    net = nn.Sequential()\n",
    "    # This model uses a smaller convolution kernel, stride, and padding and\n",
    "    # removes the max-pooling layer\n",
    "    net.add(nn.Conv2D(64, kernel_size=3, strides=1, padding=1),\n",
    "            nn.BatchNorm(), nn.Activation('relu'))\n",
    "    net.add(resnet_block(64, 2, first_block=True),\n",
    "            resnet_block(128, 2),\n",
    "            resnet_block(256, 2),\n",
    "            resnet_block(512, 2))\n",
    "    net.add(nn.GlobalAvgPool2D(), nn.Dense(num_classes))\n",
    "    return net"
   ]
  },
  {
   "cell_type": "code",
   "execution_count": null,
   "id": "d3cf7315",
   "metadata": {},
   "outputs": [],
   "source": [
    "#@tab pytorch\n",
    "#@save\n",
    "def resnet18(num_classes, in_channels=1):\n",
    "    \"\"\"A slightly modified ResNet-18 model.\"\"\"\n",
    "    def resnet_block(in_channels, out_channels, num_residuals,\n",
    "                     first_block=False):\n",
    "        blk = []\n",
    "        for i in range(num_residuals):\n",
    "            if i == 0 and not first_block:\n",
    "                blk.append(d2l.Residual(out_channels, use_1x1conv=True, \n",
    "                                        strides=2))\n",
    "            else:\n",
    "                blk.append(d2l.Residual(out_channels))\n",
    "        return nn.Sequential(*blk)\n",
    "\n",
    "    # This model uses a smaller convolution kernel, stride, and padding and\n",
    "    # removes the max-pooling layer\n",
    "    net = nn.Sequential(\n",
    "        nn.Conv2d(in_channels, 64, kernel_size=3, stride=1, padding=1),\n",
    "        nn.BatchNorm2d(64),\n",
    "        nn.ReLU())\n",
    "    net.add_module(\"resnet_block1\", resnet_block(64, 64, 2, first_block=True))\n",
    "    net.add_module(\"resnet_block2\", resnet_block(64, 128, 2))\n",
    "    net.add_module(\"resnet_block3\", resnet_block(128, 256, 2))\n",
    "    net.add_module(\"resnet_block4\", resnet_block(256, 512, 2))\n",
    "    net.add_module(\"global_avg_pool\", nn.AdaptiveAvgPool2d((1,1)))\n",
    "    net.add_module(\"fc\", nn.Sequential(nn.Flatten(),\n",
    "                                       nn.Linear(512, num_classes)))\n",
    "    return net"
   ]
  },
  {
   "cell_type": "markdown",
   "id": "5b16d6a7",
   "metadata": {},
   "source": [
    "## Network Initialization\n",
    "\n",
    ":begin_tab:`mxnet`\n",
    "The `initialize` function allows us to initialize parameters on a device of our choice.\n",
    "For a refresher on initialization methods see :numref:`sec_numerical_stability`. What is particularly convenient is that it also allows us to initialize the network on *multiple* devices simultaneously. Let's try how this works in practice.\n",
    ":end_tab:\n",
    "\n",
    ":begin_tab:`pytorch`\n",
    "We will initialize the network inside the training loop.\n",
    "For a refresher on initialization methods see :numref:`sec_numerical_stability`.\n",
    ":end_tab:"
   ]
  },
  {
   "cell_type": "code",
   "execution_count": null,
   "id": "5c58d6a9",
   "metadata": {},
   "outputs": [],
   "source": [
    "#@tab mxnet\n",
    "net = resnet18(10)\n",
    "# Get a list of GPUs\n",
    "devices = d2l.try_all_gpus()\n",
    "# Initialize all the parameters of the network\n",
    "net.initialize(init=init.Normal(sigma=0.01), ctx=devices)"
   ]
  },
  {
   "cell_type": "code",
   "execution_count": null,
   "id": "1f37fe96",
   "metadata": {},
   "outputs": [],
   "source": [
    "#@tab pytorch\n",
    "net = resnet18(10)\n",
    "# Get a list of GPUs\n",
    "devices = d2l.try_all_gpus()\n",
    "# We will initialize the network inside the training loop"
   ]
  },
  {
   "cell_type": "markdown",
   "id": "e37733fa",
   "metadata": {},
   "source": [
    ":begin_tab:`mxnet`\n",
    "Using the `split_and_load` function introduced in :numref:`sec_multi_gpu` we can divide a minibatch of data and copy portions to the list of devices provided by the `devices` variable. The network instance *automatically* uses the appropriate GPU to compute the value of the forward propagation. Here we generate 4 observations and split them over the GPUs.\n",
    ":end_tab:"
   ]
  },
  {
   "cell_type": "code",
   "execution_count": null,
   "id": "0d15835e",
   "metadata": {},
   "outputs": [],
   "source": [
    "#@tab mxnet\n",
    "x = np.random.uniform(size=(4, 1, 28, 28))\n",
    "x_shards = gluon.utils.split_and_load(x, devices)\n",
    "net(x_shards[0]), net(x_shards[1])"
   ]
  },
  {
   "cell_type": "markdown",
   "id": "bb02210f",
   "metadata": {},
   "source": [
    ":begin_tab:`mxnet`\n",
    "Once data passes through the network, the corresponding parameters are initialized *on the device the data passed through*.\n",
    "This means that initialization happens on a per-device basis. Since we picked GPU 0 and GPU 1 for initialization, the network is initialized only there, and not on the CPU. In fact, the parameters do not even exist on the CPU. We can verify this by printing out the parameters and observing any errors that might arise.\n",
    ":end_tab:"
   ]
  },
  {
   "cell_type": "code",
   "execution_count": null,
   "id": "cf871660",
   "metadata": {},
   "outputs": [],
   "source": [
    "#@tab mxnet\n",
    "weight = net[0].params.get('weight')\n",
    "\n",
    "try:\n",
    "    weight.data()\n",
    "except RuntimeError:\n",
    "    print('not initialized on cpu')\n",
    "weight.data(devices[0])[0], weight.data(devices[1])[0]"
   ]
  },
  {
   "cell_type": "markdown",
   "id": "585fbf16",
   "metadata": {},
   "source": [
    ":begin_tab:`mxnet`\n",
    "Next, let's replace the code to [**evaluate the accuracy**] by one that works (**in parallel across multiple devices**). This serves as a replacement of the `evaluate_accuracy_gpu` function from :numref:`sec_lenet`. The main difference is that we split a minibatch before invoking the network. All else is essentially identical.\n",
    ":end_tab:"
   ]
  },
  {
   "cell_type": "code",
   "execution_count": null,
   "id": "0d8864d9",
   "metadata": {},
   "outputs": [],
   "source": [
    "#@tab mxnet\n",
    "#@save\n",
    "def evaluate_accuracy_gpus(net, data_iter, split_f=d2l.split_batch):\n",
    "    \"\"\"Compute the accuracy for a model on a dataset using multiple GPUs.\"\"\"\n",
    "    # Query the list of devices\n",
    "    devices = list(net.collect_params().values())[0].list_ctx()\n",
    "    # No. of correct predictions, no. of predictions\n",
    "    metric = d2l.Accumulator(2)\n",
    "    for features, labels in data_iter:\n",
    "        X_shards, y_shards = split_f(features, labels, devices)\n",
    "        # Run in parallel\n",
    "        pred_shards = [net(X_shard) for X_shard in X_shards]\n",
    "        metric.add(sum(float(d2l.accuracy(pred_shard, y_shard)) for\n",
    "                       pred_shard, y_shard in zip(\n",
    "                           pred_shards, y_shards)), labels.size)\n",
    "    return metric[0] / metric[1]"
   ]
  },
  {
   "cell_type": "markdown",
   "id": "4125e4d3",
   "metadata": {},
   "source": [
    "## [**Training**]\n",
    "\n",
    "As before, the training code needs to perform several basic functions for efficient parallelism:\n",
    "\n",
    "* Network parameters need to be initialized across all devices.\n",
    "* While iterating over the dataset minibatches are to be divided across all devices.\n",
    "* We compute the loss and its gradient in parallel across devices.\n",
    "* Gradients are aggregated and parameters are updated accordingly.\n",
    "\n",
    "In the end we compute the accuracy (again in parallel) to report the final performance of the network. The training routine is quite similar to implementations in previous chapters, except that we need to split and aggregate data."
   ]
  },
  {
   "cell_type": "code",
   "execution_count": null,
   "id": "56faeaab",
   "metadata": {},
   "outputs": [],
   "source": [
    "#@tab mxnet\n",
    "def train(num_gpus, batch_size, lr):\n",
    "    train_iter, test_iter = d2l.load_data_fashion_mnist(batch_size)\n",
    "    ctx = [d2l.try_gpu(i) for i in range(num_gpus)]\n",
    "    net.initialize(init=init.Normal(sigma=0.01), ctx=ctx, force_reinit=True)\n",
    "    trainer = gluon.Trainer(net.collect_params(), 'sgd',\n",
    "                            {'learning_rate': lr})\n",
    "    loss = gluon.loss.SoftmaxCrossEntropyLoss()\n",
    "    timer, num_epochs = d2l.Timer(), 10\n",
    "    animator = d2l.Animator('epoch', 'test acc', xlim=[1, num_epochs])\n",
    "    for epoch in range(num_epochs):\n",
    "        timer.start()\n",
    "        for features, labels in train_iter:\n",
    "            X_shards, y_shards = d2l.split_batch(features, labels, ctx)\n",
    "            with autograd.record():\n",
    "                ls = [loss(net(X_shard), y_shard) for X_shard, y_shard\n",
    "                      in zip(X_shards, y_shards)]\n",
    "            for l in ls:\n",
    "                l.backward()\n",
    "            trainer.step(batch_size)\n",
    "        npx.waitall()\n",
    "        timer.stop()\n",
    "        animator.add(epoch + 1, (evaluate_accuracy_gpus(net, test_iter),))\n",
    "    print(f'test acc: {animator.Y[0][-1]:.2f}, {timer.avg():.1f} sec/epoch '\n",
    "          f'on {str(ctx)}')"
   ]
  },
  {
   "cell_type": "code",
   "execution_count": null,
   "id": "c136296e",
   "metadata": {},
   "outputs": [],
   "source": [
    "#@tab pytorch\n",
    "def train(net, num_gpus, batch_size, lr):\n",
    "    train_iter, test_iter = d2l.load_data_fashion_mnist(batch_size)\n",
    "    devices = [d2l.try_gpu(i) for i in range(num_gpus)]\n",
    "    def init_weights(module):\n",
    "        if type(module) in [nn.Linear, nn.Conv2d]:\n",
    "            nn.init.normal_(module.weight, std=0.01)\n",
    "    net.apply(init_weights)\n",
    "    # Set the model on multiple GPUs\n",
    "    net = nn.DataParallel(net, device_ids=devices)\n",
    "    trainer = torch.optim.SGD(net.parameters(), lr)\n",
    "    loss = nn.CrossEntropyLoss()\n",
    "    timer, num_epochs = d2l.Timer(), 10\n",
    "    animator = d2l.Animator('epoch', 'test acc', xlim=[1, num_epochs])\n",
    "    for epoch in range(num_epochs):\n",
    "        net.train()\n",
    "        timer.start()\n",
    "        for X, y in train_iter:\n",
    "            trainer.zero_grad()\n",
    "            X, y = X.to(devices[0]), y.to(devices[0])\n",
    "            l = loss(net(X), y)\n",
    "            l.backward()\n",
    "            trainer.step()\n",
    "        timer.stop()\n",
    "        animator.add(epoch + 1, (d2l.evaluate_accuracy_gpu(net, test_iter),))\n",
    "    print(f'test acc: {animator.Y[0][-1]:.2f}, {timer.avg():.1f} sec/epoch '\n",
    "          f'on {str(devices)}')"
   ]
  },
  {
   "cell_type": "markdown",
   "id": "1bb88607",
   "metadata": {},
   "source": [
    "Let's see how this works in practice. As a warm-up we [**train the network on a single GPU.**]"
   ]
  },
  {
   "cell_type": "code",
   "execution_count": null,
   "id": "69cc507b",
   "metadata": {},
   "outputs": [],
   "source": [
    "#@tab mxnet\n",
    "train(num_gpus=1, batch_size=256, lr=0.1)"
   ]
  },
  {
   "cell_type": "code",
   "execution_count": null,
   "id": "6289c3d3",
   "metadata": {},
   "outputs": [],
   "source": [
    "#@tab pytorch\n",
    "train(net, num_gpus=1, batch_size=256, lr=0.1)"
   ]
  },
  {
   "cell_type": "markdown",
   "id": "e6f7c36d",
   "metadata": {},
   "source": [
    "Next we [**use 2 GPUs for training**]. Compared with LeNet\n",
    "evaluated in :numref:`sec_multi_gpu`,\n",
    "the model for ResNet-18 is considerably more complex. This is where parallelization shows its advantage. The time for computation is meaningfully larger than the time for synchronizing parameters. This improves scalability since the overhead for parallelization is less relevant."
   ]
  },
  {
   "cell_type": "code",
   "execution_count": null,
   "id": "4048476e",
   "metadata": {},
   "outputs": [],
   "source": [
    "#@tab mxnet\n",
    "train(num_gpus=2, batch_size=512, lr=0.2)"
   ]
  },
  {
   "cell_type": "code",
   "execution_count": null,
   "id": "10e84b2b",
   "metadata": {},
   "outputs": [],
   "source": [
    "#@tab pytorch\n",
    "train(net, num_gpus=2, batch_size=512, lr=0.2)"
   ]
  },
  {
   "cell_type": "markdown",
   "id": "a3a26253",
   "metadata": {},
   "source": [
    "## Summary\n",
    "\n",
    ":begin_tab:`mxnet`\n",
    "* Gluon provides primitives for model initialization across multiple devices by providing a context list.\n",
    ":end_tab:\n",
    "* Data is automatically evaluated on the devices where the data can be found.\n",
    "* Take care to initialize the networks on each device before trying to access the parameters on that device. Otherwise you will encounter an error.\n",
    "* The optimization algorithms automatically aggregate over multiple GPUs.\n",
    "\n",
    "\n",
    "\n",
    "## Exercises\n",
    "\n",
    ":begin_tab:`mxnet`\n",
    "1. This section uses ResNet-18. Try different epochs, batch sizes, and learning rates. Use more GPUs for computation. What happens if you try this with 16 GPUs (e.g., on an AWS p2.16xlarge instance)?\n",
    "1. Sometimes, different devices provide different computing power. We could use the GPUs and the CPU at the same time. How should we divide the work? Is it worth the effort? Why? Why not?\n",
    "1. What happens if we drop `npx.waitall()`? How would you modify training such that you have an overlap of up to two steps for parallelism?\n",
    ":end_tab:\n",
    "\n",
    ":begin_tab:`pytorch`\n",
    "1. This section uses ResNet-18. Try different epochs, batch sizes, and learning rates. Use more GPUs for computation. What happens if you try this with 16 GPUs (e.g., on an AWS p2.16xlarge instance)?\n",
    "1. Sometimes, different devices provide different computing power. We could use the GPUs and the CPU at the same time. How should we divide the work? Is it worth the effort? Why? Why not?\n",
    ":end_tab:\n",
    "\n",
    "\n",
    "\n",
    ":begin_tab:`mxnet`\n",
    "[Discussions](https://discuss.d2l.ai/t/365)\n",
    ":end_tab:\n",
    "\n",
    ":begin_tab:`pytorch`\n",
    "[Discussions](https://discuss.d2l.ai/t/1403)\n",
    ":end_tab:"
   ]
  }
 ],
 "metadata": {},
 "nbformat": 4,
 "nbformat_minor": 5
}
