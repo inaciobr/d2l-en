{
 "cells": [
  {
   "cell_type": "markdown",
   "id": "87531351",
   "metadata": {},
   "source": [
    "# Training on Multiple GPUs\n",
    ":label:`sec_multi_gpu`\n",
    "\n",
    "So far we discussed how to train models efficiently on CPUs and GPUs. We even showed how deep learning frameworks allow one to parallelize computation and communication automatically between them in :numref:`sec_auto_para`. We also showed in :numref:`sec_use_gpu` how to list all the available GPUs on a computer using the `nvidia-smi` command.\n",
    "What we did *not* discuss is how to actually parallelize deep learning training.\n",
    "Instead, we implied in passing that one would somehow split the data across multiple devices and make it work. The present section fills in the details and shows how to train a network in parallel when starting from scratch. Details on how to take advantage of functionality in high-level APIs is relegated to :numref:`sec_multi_gpu_concise`.\n",
    "We assume that you are familiar with minibatch stochastic gradient descent algorithms such as the ones described in :numref:`sec_minibatch_sgd`.\n",
    "\n",
    "\n",
    "## Splitting the Problem\n",
    "\n",
    "Let's start with a simple computer vision problem and a slightly archaic network, e.g., with multiple layers of convolutions, pooling, and possibly a few fully connected layers in the end.\n",
    "That is, let's start with a network that looks quite similar to LeNet :cite:`LeCun.Bottou.Bengio.ea.1998` or AlexNet :cite:`Krizhevsky.Sutskever.Hinton.2012`.\n",
    "Given multiple GPUs (2 if it is a desktop server, 4 on an AWS g4dn.12xlarge instance, 8 on a p3.16xlarge, or 16 on a p2.16xlarge), we want to partition training in a manner as to achieve good speedup while simultaneously benefitting from simple and reproducible design choices. Multiple GPUs, after all, increase both *memory* and *computation* ability. In a nutshell, we have the following choices, given a minibatch of training data that we want to classify.\n",
    "\n",
    "First, we could partition the network across multiple GPUs. That is, each GPU takes as input the data flowing into a particular layer, processes data across a number of subsequent layers and then sends the data to the next GPU.\n",
    "This allows us to process data with larger networks when compared with what a single GPU could handle.\n",
    "Besides,\n",
    "memory footprint per GPU can be well controlled (it is a fraction of the total network footprint).\n",
    "\n",
    "However, the interface between layers (and thus GPUs) requires tight synchronization. This can be tricky, in particular if the computational workloads are not properly matched between layers. The problem is exacerbated for large numbers of GPUs.\n",
    "The interface between layers also\n",
    "requires large amounts of data transfer,\n",
    "such as activations and gradients.\n",
    "This may overwhelm the bandwidth of the GPU buses.\n",
    "Moreover, compute-intensive, yet sequential operations are nontrivial to partition. See e.g., :citet:`Mirhoseini.Pham.Le.ea.2017` for a best effort in this regard. It remains a difficult problem and it is unclear whether it is possible to achieve good (linear) scaling on nontrivial problems. We do not recommend it unless there is excellent framework or operating system support for chaining together multiple GPUs.\n",
    "\n",
    "\n",
    "Second, we could split the work layerwise. For instance, rather than computing 64 channels on a single GPU we could split up the problem across 4 GPUs, each of which generates data for 16 channels.\n",
    "Likewise, for a fully connected layer we could split the number of output units. :numref:`fig_alexnet_original` (taken from :citet:`Krizhevsky.Sutskever.Hinton.2012`)\n",
    "illustrates this design, where this strategy was used to deal with GPUs that had a very small memory footprint (2 GB at the time).\n",
    "This allows for good scaling in terms of computation, provided that the number of channels (or units) is not too small.\n",
    "Besides,\n",
    "multiple GPUs can process increasingly larger networks since the available memory scales linearly.\n",
    "\n",
    "![Model parallelism in the original AlexNet design due to limited GPU memory.](../img/alexnet-original.svg)\n",
    ":label:`fig_alexnet_original`\n",
    "\n",
    "However,\n",
    "we need a *very large* number of synchronization or barrier operations since each layer depends on the results from all the other layers.\n",
    "Moreover, the amount of data that needs to be transferred is potentially even larger than when distributing layers across GPUs. Thus, we do not recommend this approach due to its bandwidth cost and complexity.\n",
    "\n",
    "Last, we could partition data across multiple GPUs. This way all GPUs perform the same type of work, albeit on different observations. Gradients are aggregated across GPUs after each minibatch of training data.\n",
    "This is the simplest approach and it can be applied in any situation.\n",
    "We only need to synchronize after each minibatch. That said, it is highly desirable to start exchanging gradients parameters already while others are still being computed.\n",
    "Moreover, larger numbers of GPUs lead to larger minibatch sizes, thus increasing training efficiency.\n",
    "However, adding more GPUs does not allow us to train larger models.\n",
    "\n",
    "\n",
    "![Parallelization on multiple GPUs. From left to right: original problem, network partitioning, layerwise partitioning, data parallelism.](../img/splitting.svg)\n",
    ":label:`fig_splitting`\n",
    "\n",
    "\n",
    "A comparison of different ways of parallelization on multiple GPUs is depicted in :numref:`fig_splitting`.\n",
    "By and large, data parallelism is the most convenient way to proceed, provided that we have access to GPUs with sufficiently large memory. See also :cite:`Li.Andersen.Park.ea.2014` for a detailed description of partitioning for distributed training. GPU memory used to be a problem in the early days of deep learning. By now this issue has been resolved for all but the most unusual cases. We focus on data parallelism in what follows.\n",
    "\n",
    "## Data Parallelism\n",
    "\n",
    "Assume that there are $k$ GPUs on a machine. Given the model to be trained, each GPU will maintain a complete set of model parameters independently though parameter values across the GPUs are identical and synchronized.\n",
    "As an example,\n",
    ":numref:`fig_data_parallel` illustrates\n",
    "training with\n",
    "data parallelism when $k=2$.\n",
    "\n",
    "\n",
    "![Calculation of minibatch stochastic gradient descent using data parallelism on two GPUs.](../img/data-parallel.svg)\n",
    ":label:`fig_data_parallel`\n",
    "\n",
    "In general, the training proceeds as follows:\n",
    "\n",
    "* In any iteration of training, given a random minibatch, we split the examples in the batch into $k$ portions and distribute them evenly across the GPUs.\n",
    "* Each GPU calculates loss and gradient of the model parameters based on the minibatch subset it was assigned.\n",
    "* The local gradients of each of the $k$ GPUs are aggregated to obtain the current minibatch stochastic gradient.\n",
    "* The aggregate gradient is re-distributed to each GPU.\n",
    "* Each GPU uses this minibatch stochastic gradient to update the complete set of model parameters that it maintains.\n",
    "\n",
    "\n",
    "\n",
    "\n",
    "Note that in practice we *increase* the minibatch size $k$-fold when training on $k$ GPUs such that each GPU has the same amount of work to do as if we were training on a single GPU only. On a 16-GPU server this can increase the minibatch size considerably and we may have to increase the learning rate accordingly.\n",
    "Also note that batch normalization in :numref:`sec_batch_norm` needs to be adjusted, e.g., by keeping a separate batch normalization coefficient per GPU.\n",
    "In what follows we will use a toy network to illustrate multi-GPU training."
   ]
  },
  {
   "cell_type": "code",
   "execution_count": null,
   "id": "f2ef22ee",
   "metadata": {},
   "outputs": [],
   "source": [
    "#@tab mxnet\n",
    "%matplotlib inline\n",
    "from d2l import mxnet as d2l\n",
    "from mxnet import autograd, gluon, np, npx\n",
    "npx.set_np()"
   ]
  },
  {
   "cell_type": "code",
   "execution_count": null,
   "id": "8f642824",
   "metadata": {},
   "outputs": [],
   "source": [
    "#@tab pytorch\n",
    "%matplotlib inline\n",
    "from d2l import torch as d2l\n",
    "import torch\n",
    "from torch import nn\n",
    "from torch.nn import functional as F"
   ]
  },
  {
   "cell_type": "markdown",
   "id": "346b2db6",
   "metadata": {},
   "source": [
    "## [**A Toy Network**]\n",
    "\n",
    "We use LeNet as introduced in :numref:`sec_lenet` (with slight modifications). We define it from scratch to illustrate parameter exchange and synchronization in detail."
   ]
  },
  {
   "cell_type": "code",
   "execution_count": null,
   "id": "19028c5c",
   "metadata": {},
   "outputs": [],
   "source": [
    "#@tab mxnet\n",
    "# Initialize model parameters\n",
    "scale = 0.01\n",
    "W1 = np.random.normal(scale=scale, size=(20, 1, 3, 3))\n",
    "b1 = np.zeros(20)\n",
    "W2 = np.random.normal(scale=scale, size=(50, 20, 5, 5))\n",
    "b2 = np.zeros(50)\n",
    "W3 = np.random.normal(scale=scale, size=(800, 128))\n",
    "b3 = np.zeros(128)\n",
    "W4 = np.random.normal(scale=scale, size=(128, 10))\n",
    "b4 = np.zeros(10)\n",
    "params = [W1, b1, W2, b2, W3, b3, W4, b4]\n",
    "\n",
    "# Define the model\n",
    "def lenet(X, params):\n",
    "    h1_conv = npx.convolution(data=X, weight=params[0], bias=params[1],\n",
    "                              kernel=(3, 3), num_filter=20)\n",
    "    h1_activation = npx.relu(h1_conv)\n",
    "    h1 = npx.pooling(data=h1_activation, pool_type='avg', kernel=(2, 2),\n",
    "                     stride=(2, 2))\n",
    "    h2_conv = npx.convolution(data=h1, weight=params[2], bias=params[3],\n",
    "                              kernel=(5, 5), num_filter=50)\n",
    "    h2_activation = npx.relu(h2_conv)\n",
    "    h2 = npx.pooling(data=h2_activation, pool_type='avg', kernel=(2, 2),\n",
    "                     stride=(2, 2))\n",
    "    h2 = h2.reshape(h2.shape[0], -1)\n",
    "    h3_linear = np.dot(h2, params[4]) + params[5]\n",
    "    h3 = npx.relu(h3_linear)\n",
    "    y_hat = np.dot(h3, params[6]) + params[7]\n",
    "    return y_hat\n",
    "\n",
    "# Cross-entropy loss function\n",
    "loss = gluon.loss.SoftmaxCrossEntropyLoss()"
   ]
  },
  {
   "cell_type": "code",
   "execution_count": null,
   "id": "ce20a436",
   "metadata": {},
   "outputs": [],
   "source": [
    "#@tab pytorch\n",
    "# Initialize model parameters\n",
    "scale = 0.01\n",
    "W1 = torch.randn(size=(20, 1, 3, 3)) * scale\n",
    "b1 = torch.zeros(20)\n",
    "W2 = torch.randn(size=(50, 20, 5, 5)) * scale\n",
    "b2 = torch.zeros(50)\n",
    "W3 = torch.randn(size=(800, 128)) * scale\n",
    "b3 = torch.zeros(128)\n",
    "W4 = torch.randn(size=(128, 10)) * scale\n",
    "b4 = torch.zeros(10)\n",
    "params = [W1, b1, W2, b2, W3, b3, W4, b4]\n",
    "\n",
    "# Define the model\n",
    "def lenet(X, params):\n",
    "    h1_conv = F.conv2d(input=X, weight=params[0], bias=params[1])\n",
    "    h1_activation = F.relu(h1_conv)\n",
    "    h1 = F.avg_pool2d(input=h1_activation, kernel_size=(2, 2), stride=(2, 2))\n",
    "    h2_conv = F.conv2d(input=h1, weight=params[2], bias=params[3])\n",
    "    h2_activation = F.relu(h2_conv)\n",
    "    h2 = F.avg_pool2d(input=h2_activation, kernel_size=(2, 2), stride=(2, 2))\n",
    "    h2 = h2.reshape(h2.shape[0], -1)\n",
    "    h3_linear = torch.mm(h2, params[4]) + params[5]\n",
    "    h3 = F.relu(h3_linear)\n",
    "    y_hat = torch.mm(h3, params[6]) + params[7]\n",
    "    return y_hat\n",
    "\n",
    "# Cross-entropy loss function\n",
    "loss = nn.CrossEntropyLoss(reduction='none')"
   ]
  },
  {
   "cell_type": "markdown",
   "id": "329c228d",
   "metadata": {},
   "source": [
    "## Data Synchronization\n",
    "\n",
    "For efficient multi-GPU training we need two basic operations.\n",
    "First we need to have the ability to [**distribute a list of parameters to multiple devices**] and to attach gradients (`get_params`). Without parameters it is impossible to evaluate the network on a GPU.\n",
    "Second, we need the ability to sum parameters across multiple devices, i.e., we need an `allreduce` function."
   ]
  },
  {
   "cell_type": "code",
   "execution_count": null,
   "id": "1de1fbbd",
   "metadata": {},
   "outputs": [],
   "source": [
    "#@tab mxnet\n",
    "def get_params(params, device):\n",
    "    new_params = [p.copyto(device) for p in params]\n",
    "    for p in new_params:\n",
    "        p.attach_grad()\n",
    "    return new_params"
   ]
  },
  {
   "cell_type": "code",
   "execution_count": null,
   "id": "8d5ab869",
   "metadata": {},
   "outputs": [],
   "source": [
    "#@tab pytorch\n",
    "def get_params(params, device):\n",
    "    new_params = [p.to(device) for p in params]\n",
    "    for p in new_params:\n",
    "        p.requires_grad_()\n",
    "    return new_params"
   ]
  },
  {
   "cell_type": "markdown",
   "id": "2e47f71f",
   "metadata": {},
   "source": [
    "Let's try it out by copying the model parameters to one GPU."
   ]
  },
  {
   "cell_type": "code",
   "execution_count": null,
   "id": "e9540a4b",
   "metadata": {},
   "outputs": [],
   "source": [
    "#@tab all\n",
    "new_params = get_params(params, d2l.try_gpu(0))\n",
    "print('b1 weight:', new_params[1])\n",
    "print('b1 grad:', new_params[1].grad)"
   ]
  },
  {
   "cell_type": "markdown",
   "id": "9a5a343b",
   "metadata": {},
   "source": [
    "Since we did not perform any computation yet, the gradient with regard to the bias parameter is still zero.\n",
    "Now let's assume that we have a vector distributed across multiple GPUs. The following [**`allreduce` function adds up all vectors and broadcasts the result back to all GPUs**]. Note that for this to work we need to copy the data to the device accumulating the results."
   ]
  },
  {
   "cell_type": "code",
   "execution_count": null,
   "id": "e5c84a80",
   "metadata": {},
   "outputs": [],
   "source": [
    "#@tab mxnet\n",
    "def allreduce(data):\n",
    "    for i in range(1, len(data)):\n",
    "        data[0][:] += data[i].copyto(data[0].ctx)\n",
    "    for i in range(1, len(data)):\n",
    "        data[0].copyto(data[i])"
   ]
  },
  {
   "cell_type": "code",
   "execution_count": null,
   "id": "f0a7e4e6",
   "metadata": {},
   "outputs": [],
   "source": [
    "#@tab pytorch\n",
    "def allreduce(data):\n",
    "    for i in range(1, len(data)):\n",
    "        data[0][:] += data[i].to(data[0].device)\n",
    "    for i in range(1, len(data)):\n",
    "        data[i][:] = data[0].to(data[i].device)"
   ]
  },
  {
   "cell_type": "markdown",
   "id": "d30d7e2b",
   "metadata": {},
   "source": [
    "Let's test this by creating vectors with different values on different devices and aggregate them."
   ]
  },
  {
   "cell_type": "code",
   "execution_count": null,
   "id": "b1929b99",
   "metadata": {},
   "outputs": [],
   "source": [
    "#@tab mxnet\n",
    "data = [np.ones((1, 2), ctx=d2l.try_gpu(i)) * (i + 1) for i in range(2)]\n",
    "print('before allreduce:\\n', data[0], '\\n', data[1])\n",
    "allreduce(data)\n",
    "print('after allreduce:\\n', data[0], '\\n', data[1])"
   ]
  },
  {
   "cell_type": "code",
   "execution_count": null,
   "id": "fd9ee0cf",
   "metadata": {},
   "outputs": [],
   "source": [
    "#@tab pytorch\n",
    "data = [torch.ones((1, 2), device=d2l.try_gpu(i)) * (i + 1) for i in range(2)]\n",
    "print('before allreduce:\\n', data[0], '\\n', data[1])\n",
    "allreduce(data)\n",
    "print('after allreduce:\\n', data[0], '\\n', data[1])"
   ]
  },
  {
   "cell_type": "markdown",
   "id": "5c82ecdd",
   "metadata": {},
   "source": [
    "## Distributing Data\n",
    "\n",
    "We need a simple utility function to [**distribute a minibatch evenly across multiple GPUs**]. For instance, on two GPUs we would like to have half of the data to be copied to either of the GPUs.\n",
    "Since it is more convenient and more concise, we use the built-in function from the deep learning framework to try it out on a $4 \\times 5$ matrix."
   ]
  },
  {
   "cell_type": "code",
   "execution_count": null,
   "id": "66758c74",
   "metadata": {},
   "outputs": [],
   "source": [
    "#@tab mxnet\n",
    "data = np.arange(20).reshape(4, 5)\n",
    "devices = [npx.gpu(0), npx.gpu(1)]\n",
    "split = gluon.utils.split_and_load(data, devices)\n",
    "print('input :', data)\n",
    "print('load into', devices)\n",
    "print('output:', split)"
   ]
  },
  {
   "cell_type": "code",
   "execution_count": null,
   "id": "b7c8d91d",
   "metadata": {},
   "outputs": [],
   "source": [
    "#@tab pytorch\n",
    "data = torch.arange(20).reshape(4, 5)\n",
    "devices = [torch.device('cuda:0'), torch.device('cuda:1')]\n",
    "split = nn.parallel.scatter(data, devices)\n",
    "print('input :', data)\n",
    "print('load into', devices)\n",
    "print('output:', split)"
   ]
  },
  {
   "cell_type": "markdown",
   "id": "50a1e34d",
   "metadata": {},
   "source": [
    "For later reuse we define a `split_batch` function that splits both data and labels."
   ]
  },
  {
   "cell_type": "code",
   "execution_count": null,
   "id": "dcd98f46",
   "metadata": {},
   "outputs": [],
   "source": [
    "#@tab mxnet\n",
    "#@save\n",
    "def split_batch(X, y, devices):\n",
    "    \"\"\"Split `X` and `y` into multiple devices.\"\"\"\n",
    "    assert X.shape[0] == y.shape[0]\n",
    "    return (gluon.utils.split_and_load(X, devices),\n",
    "            gluon.utils.split_and_load(y, devices))"
   ]
  },
  {
   "cell_type": "code",
   "execution_count": null,
   "id": "81f05ba2",
   "metadata": {},
   "outputs": [],
   "source": [
    "#@tab pytorch\n",
    "#@save\n",
    "def split_batch(X, y, devices):\n",
    "    \"\"\"Split `X` and `y` into multiple devices.\"\"\"\n",
    "    assert X.shape[0] == y.shape[0]\n",
    "    return (nn.parallel.scatter(X, devices),\n",
    "            nn.parallel.scatter(y, devices))"
   ]
  },
  {
   "cell_type": "markdown",
   "id": "11e98dad",
   "metadata": {},
   "source": [
    "## Training\n",
    "\n",
    "Now we can implement [**multi-GPU training on a single minibatch**]. Its implementation is primarily based on the data parallelism approach described in this section. We will use the auxiliary functions we just discussed, `allreduce` and `split_and_load`, to synchronize the data among multiple GPUs. Note that we do not need to write any specific code to achieve parallelism. Since the computational graph does not have any dependencies across devices within a minibatch, it is executed in parallel *automatically*."
   ]
  },
  {
   "cell_type": "code",
   "execution_count": null,
   "id": "28ed4050",
   "metadata": {},
   "outputs": [],
   "source": [
    "#@tab mxnet\n",
    "def train_batch(X, y, device_params, devices, lr):\n",
    "    X_shards, y_shards = split_batch(X, y, devices)\n",
    "    with autograd.record():  # Loss is calculated separately on each GPU\n",
    "        ls = [loss(lenet(X_shard, device_W), y_shard)\n",
    "              for X_shard, y_shard, device_W in zip(\n",
    "                  X_shards, y_shards, device_params)]\n",
    "    for l in ls:  # Backpropagation is performed separately on each GPU\n",
    "        l.backward()\n",
    "    # Sum all gradients from each GPU and broadcast them to all GPUs\n",
    "    for i in range(len(device_params[0])):\n",
    "        allreduce([device_params[c][i].grad for c in range(len(devices))])\n",
    "    # The model parameters are updated separately on each GPU\n",
    "    for param in device_params:\n",
    "        d2l.sgd(param, lr, X.shape[0])  # Here, we use a full-size batch"
   ]
  },
  {
   "cell_type": "code",
   "execution_count": null,
   "id": "41c09b5c",
   "metadata": {},
   "outputs": [],
   "source": [
    "#@tab pytorch\n",
    "def train_batch(X, y, device_params, devices, lr):\n",
    "    X_shards, y_shards = split_batch(X, y, devices)\n",
    "    # Loss is calculated separately on each GPU\n",
    "    ls = [loss(lenet(X_shard, device_W), y_shard).sum()\n",
    "          for X_shard, y_shard, device_W in zip(\n",
    "              X_shards, y_shards, device_params)]\n",
    "    for l in ls:  # Backpropagation is performed separately on each GPU\n",
    "        l.backward()\n",
    "    # Sum all gradients from each GPU and broadcast them to all GPUs\n",
    "    with torch.no_grad():\n",
    "        for i in range(len(device_params[0])):\n",
    "            allreduce([device_params[c][i].grad for c in range(len(devices))])\n",
    "    # The model parameters are updated separately on each GPU\n",
    "    for param in device_params:\n",
    "        d2l.sgd(param, lr, X.shape[0]) # Here, we use a full-size batch"
   ]
  },
  {
   "cell_type": "markdown",
   "id": "4a893bac",
   "metadata": {},
   "source": [
    "Now, we can define [**the training function**]. It is slightly different from the ones used in the previous chapters: we need to allocate the GPUs and copy all the model parameters to all the devices.\n",
    "Obviously each batch is processed using the `train_batch` function to deal with multiple GPUs. For convenience (and conciseness of code) we compute the accuracy on a single GPU, though this is *inefficient* since the other GPUs are idle."
   ]
  },
  {
   "cell_type": "code",
   "execution_count": null,
   "id": "da128075",
   "metadata": {},
   "outputs": [],
   "source": [
    "#@tab mxnet\n",
    "def train(num_gpus, batch_size, lr):\n",
    "    train_iter, test_iter = d2l.load_data_fashion_mnist(batch_size)\n",
    "    devices = [d2l.try_gpu(i) for i in range(num_gpus)]\n",
    "    # Copy model parameters to `num_gpus` GPUs\n",
    "    device_params = [get_params(params, d) for d in devices]\n",
    "    num_epochs = 10\n",
    "    animator = d2l.Animator('epoch', 'test acc', xlim=[1, num_epochs])\n",
    "    timer = d2l.Timer()\n",
    "    for epoch in range(num_epochs):\n",
    "        timer.start()\n",
    "        for X, y in train_iter:\n",
    "            # Perform multi-GPU training for a single minibatch\n",
    "            train_batch(X, y, device_params, devices, lr)\n",
    "            npx.waitall()\n",
    "        timer.stop()\n",
    "        # Evaluate the model on GPU 0\n",
    "        animator.add(epoch + 1, (d2l.evaluate_accuracy_gpu(\n",
    "            lambda x: lenet(x, device_params[0]), test_iter, devices[0]),))\n",
    "    print(f'test acc: {animator.Y[0][-1]:.2f}, {timer.avg():.1f} sec/epoch '\n",
    "          f'on {str(devices)}')"
   ]
  },
  {
   "cell_type": "code",
   "execution_count": null,
   "id": "0c789621",
   "metadata": {},
   "outputs": [],
   "source": [
    "#@tab pytorch\n",
    "def train(num_gpus, batch_size, lr):\n",
    "    train_iter, test_iter = d2l.load_data_fashion_mnist(batch_size)\n",
    "    devices = [d2l.try_gpu(i) for i in range(num_gpus)]\n",
    "    # Copy model parameters to `num_gpus` GPUs\n",
    "    device_params = [get_params(params, d) for d in devices]\n",
    "    num_epochs = 10\n",
    "    animator = d2l.Animator('epoch', 'test acc', xlim=[1, num_epochs])\n",
    "    timer = d2l.Timer()\n",
    "    for epoch in range(num_epochs):\n",
    "        timer.start()\n",
    "        for X, y in train_iter:\n",
    "            # Perform multi-GPU training for a single minibatch\n",
    "            train_batch(X, y, device_params, devices, lr)\n",
    "            torch.cuda.synchronize()\n",
    "        timer.stop()\n",
    "        # Evaluate the model on GPU 0\n",
    "        animator.add(epoch + 1, (d2l.evaluate_accuracy_gpu(\n",
    "            lambda x: lenet(x, device_params[0]), test_iter, devices[0]),))\n",
    "    print(f'test acc: {animator.Y[0][-1]:.2f}, {timer.avg():.1f} sec/epoch '\n",
    "          f'on {str(devices)}')"
   ]
  },
  {
   "cell_type": "markdown",
   "id": "89303ef7",
   "metadata": {},
   "source": [
    "Let's see how well this works [**on a single GPU**].\n",
    "We first use a batch size of 256 and a learning rate of 0.2."
   ]
  },
  {
   "cell_type": "code",
   "execution_count": null,
   "id": "15c33b5e",
   "metadata": {},
   "outputs": [],
   "source": [
    "#@tab all\n",
    "train(num_gpus=1, batch_size=256, lr=0.2)"
   ]
  },
  {
   "cell_type": "markdown",
   "id": "7a03dc80",
   "metadata": {},
   "source": [
    "By keeping the batch size and learning rate unchanged and [**increasing the number of GPUs to 2**], we can see that the test accuracy roughly stays the same compared with\n",
    "the previous experiment.\n",
    "In terms of the optimization algorithms, they are identical. Unfortunately there is no meaningful speedup to be gained here: the model is simply too small; moreover we only have a small dataset, where our slightly unsophisticated approach to implementing multi-GPU training suffered from significant Python overhead. We will encounter more complex models and more sophisticated ways of parallelization going forward.\n",
    "Let's see what happens nonetheless for Fashion-MNIST."
   ]
  },
  {
   "cell_type": "code",
   "execution_count": null,
   "id": "b8c04db0",
   "metadata": {},
   "outputs": [],
   "source": [
    "#@tab all\n",
    "train(num_gpus=2, batch_size=256, lr=0.2)"
   ]
  },
  {
   "cell_type": "markdown",
   "id": "be08c8cc",
   "metadata": {},
   "source": [
    "## Summary\n",
    "\n",
    "* There are multiple ways to split deep network training over multiple GPUs. We could split them between layers, across layers, or across data. The former two require tightly choreographed data transfers. Data parallelism is the simplest strategy.\n",
    "* Data parallel training is straightforward. However, it increases the effective minibatch size to be efficient.\n",
    "* In data parallelism, data is split across multiple GPUs, where each GPU executes its own forward and backward operation and subsequently gradients are aggregated and results are broadcast back to the GPUs.\n",
    "* We may use slightly increased learning rates for larger minibatches.\n",
    "\n",
    "## Exercises\n",
    "\n",
    "1. When training on $k$ GPUs, change the minibatch size from $b$ to $k \\cdot b$, i.e., scale it up by the number of GPUs.\n",
    "1. Compare accuracy for different learning rates. How does it scale with the number of GPUs?\n",
    "1. Implement a more efficient `allreduce` function that aggregates different parameters on different GPUs? Why is it more efficient?\n",
    "1. Implement multi-GPU test accuracy computation.\n",
    "\n",
    ":begin_tab:`mxnet`\n",
    "[Discussions](https://discuss.d2l.ai/t/364)\n",
    ":end_tab:\n",
    "\n",
    ":begin_tab:`pytorch`\n",
    "[Discussions](https://discuss.d2l.ai/t/1669)\n",
    ":end_tab:"
   ]
  }
 ],
 "metadata": {},
 "nbformat": 4,
 "nbformat_minor": 5
}
