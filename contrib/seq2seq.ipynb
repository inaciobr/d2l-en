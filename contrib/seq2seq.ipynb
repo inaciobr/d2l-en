{
 "cells": [
  {
   "cell_type": "markdown",
   "id": "40fb2cd4",
   "metadata": {},
   "source": [
    "#  Sequence to Sequence\n",
    ":label:`sec_seq2seq`\n",
    "\n",
    "The sequence to sequence (seq2seq) model is based on the encoder-decoder architecture to generate a sequence output for a sequence input, as demonstrated in :numref:`fig_seq2seq`. Both the encoder and the decoder use recurrent neural networks (RNNs) to handle sequence inputs of variable length. The hidden state of the encoder is used directly to initialize the decoder hidden state to pass information from the encoder to the decoder.\n",
    "\n",
    "![The sequence to sequence model architecture.](../img/seq2seq.svg)\n",
    ":label:`fig_seq2seq`\n",
    "\n",
    "The layers in the encoder and the decoder are illustrated in :numref:`fig_seq2seq_details`.\n",
    "\n",
    "![Layers in the encoder and the decoder.](../img/seq2seq-details.svg)\n",
    ":label:`fig_seq2seq_details`\n",
    "\n",
    "In this section we will explain and implement the seq2seq model to train on the machine translation dataset."
   ]
  },
  {
   "cell_type": "code",
   "execution_count": 1,
   "id": "ef2b7580",
   "metadata": {
    "attributes": {
     "classes": [],
     "id": "",
     "n": "1"
    }
   },
   "outputs": [],
   "source": [
    "#@tab mxnet\n",
    "from d2l import mxnet as d2l\n",
    "from mxnet import np, npx, init, gluon, autograd\n",
    "from mxnet.gluon import nn, rnn\n",
    "from queue import PriorityQueue\n",
    "\n",
    "npx.set_np()"
   ]
  },
  {
   "cell_type": "markdown",
   "id": "4c8fb9e6",
   "metadata": {},
   "source": [
    "## Encoder\n",
    "\n",
    "Recall that the encoder of seq2seq can transform the inputs of variable length to a fixed-length context vector $\\mathbf{c}$ by encoding the sequence information into $\\mathbf{c}$. We usually use RNN layers within the encoder.\n",
    "Suppose that we have an input sequence $x_1, \\ldots, x_T$, where $x_t$ is the $t^\\mathrm{th}$ word. At timestep $t$, the RNN will have two vectors as the input: the feature vector $\\mathbf{x}_t$ of $x_t$ and the hidden state of the last timestep $\\mathbf{h}_{t-1}$. Let us denote the transformation of the RNN's hidden states by a function $f$:\n",
    "\n",
    "$$\\mathbf{h}_t = f (\\mathbf{x}_t, \\mathbf{h}_{t-1}).$$\n",
    "\n",
    "Next, the encoder captures information of all the hidden states and encodes it into the context vector $\\mathbf{c}$ with a function $q$:\n",
    "\n",
    "$$\\mathbf{c} = q (\\mathbf{h}_1, \\ldots, \\mathbf{h}_T).$$\n",
    "\n",
    "For example, if we choose $q$ as $q (\\mathbf{h}_1, \\ldots, \\mathbf{h}_T) = \\mathbf{h}_T$, then the context vector will be the final hidden state $\\mathbf{h}_T$.\n",
    "\n",
    "So far what we describe above is a unidirectional RNN, where each timestep's hidden state depends only on the previous timesteps'. We can also use other forms of RNNs such as GRUs, LSTMs, and bidirectional RNNs to encode the sequential input.\n",
    "\n",
    "Now let us implement the seq2seq's encoder.\n",
    "Here we use the word embedding layer to obtain the feature vector\n",
    "according to the word index of the input language.\n",
    "Those feature vectors will be fed to a multi-layer LSTM.\n",
    "The input for the encoder is a batch of sequences, which is 2-D tensor with shape (batch size, sequence length). The encoder returns both the LSTM outputs, i.e., hidden states of all the timesteps, as well as the hidden state and the memory cell of the final timestep."
   ]
  },
  {
   "cell_type": "code",
   "execution_count": 2,
   "id": "1d8d28fb",
   "metadata": {
    "attributes": {
     "classes": [],
     "id": "",
     "n": "2"
    }
   },
   "outputs": [],
   "source": [
    "#@tab mxnet\n",
    "#@save\n",
    "class Seq2SeqEncoder(d2l.Encoder):\n",
    "    def __init__(self, vocab_size, embed_size, num_hiddens, num_layers,\n",
    "                 dropout=0, **kwargs):\n",
    "        super(Seq2SeqEncoder, self).__init__(**kwargs)\n",
    "        self.embedding = nn.Embedding(vocab_size, embed_size)\n",
    "        self.rnn = rnn.LSTM(num_hiddens, num_layers, dropout=dropout)\n",
    "\n",
    "    def forward(self, X, *args):\n",
    "        X = self.embedding(X)  # X shape: (batch_size, seq_len, embed_size)\n",
    "        # RNN needs first axes to be timestep, i.e., seq_len\n",
    "        X = X.swapaxes(0, 1)\n",
    "        state = self.rnn.begin_state(batch_size=X.shape[1], ctx=X.ctx)\n",
    "        out, state = self.rnn(X, state)\n",
    "        # out shape: (seq_len, batch_size, num_hiddens)\n",
    "        # state shape: (num_layers, batch_size, num_hiddens),\n",
    "        # where \"state\" contains the hidden state and the memory cell\n",
    "        return out, state"
   ]
  },
  {
   "cell_type": "markdown",
   "id": "7af9c538",
   "metadata": {},
   "source": [
    "Next, we will create a minibatch sequence input with a batch size of 4 and 7 timesteps. We assume the number of hidden layers of the LSTM unit is 2 and the number of hidden units is 16. The output shape returned by the encoder after performing forward calculation on the input is (number of timesteps, batch size, number of hidden units). The shape of the multi-layer hidden state of the gated recurrent unit in the final timestep is (number of hidden layers, batch size, number of hidden units). For the gated recurrent unit, the `state` list contains only one element, which is the hidden state. If long short-term memory is used, the `state` list will also contain another element, which is the memory cell."
   ]
  },
  {
   "cell_type": "code",
   "execution_count": 3,
   "id": "503879c5",
   "metadata": {
    "attributes": {
     "classes": [],
     "id": "",
     "n": "3"
    }
   },
   "outputs": [],
   "source": [
    "#@tab mxnet\n",
    "encoder = Seq2SeqEncoder(vocab_size=10, embed_size=8, num_hiddens=16,\n",
    "                         num_layers=2)\n",
    "encoder.initialize()\n",
    "X = np.zeros((4, 7))\n",
    "output, state = encoder(X)\n",
    "output.shape"
   ]
  },
  {
   "cell_type": "markdown",
   "id": "d138f3b8",
   "metadata": {},
   "source": [
    "Since an LSTM is used, the `state` list will contain both the hidden state and the memory cell with same shape (number of hidden layers, batch size, number of hidden units). However, if a GRU is used, the `state` list will contain only one element---the hidden state in the final timestep with shape (number of hidden layers, batch size, number of hidden units)."
   ]
  },
  {
   "cell_type": "code",
   "execution_count": 4,
   "id": "3bdcf95c",
   "metadata": {
    "attributes": {
     "classes": [],
     "id": "",
     "n": "4"
    }
   },
   "outputs": [],
   "source": [
    "#@tab mxnet\n",
    "len(state), state[0].shape, state[1].shape"
   ]
  },
  {
   "cell_type": "markdown",
   "id": "5040cf6e",
   "metadata": {},
   "source": [
    "## Decoder\n",
    ":label:`sec_seq2seq_decoder`\n",
    "\n",
    "As we just introduced, the context vector $\\mathbf{c}$ encodes the information from the whole input sequence $x_1, \\ldots, x_T$. Suppose that the given outputs in the training set are $y_1, \\ldots, y_{T'}$. At each timestep $t'$, the conditional probability of output $y_{t'}$ will depend on the previous output sequence $y_1, \\ldots, y_{t'-1}$ and the context vector $\\mathbf{c}$, i.e.,\n",
    "\n",
    "$$P(y_{t'} \\mid y_1, \\ldots, y_{t'-1}, \\mathbf{c}).$$\n",
    "\n",
    "Hence, we can use another RNN as the decoder. At timestep $t'$, the decoder will update its hidden state $\\mathbf{s}_{t'}$ using three inputs: the feature vector $\\mathbf{y}_{t'-1}$ of $y_{t'-1}$, the context vector $\\mathbf{c}$, and the hidden state of the last timestep $\\mathbf{s}_{t'-1}$. Let us denote the transformation of the RNN's hidden states within the decoder by a function $g$:\n",
    "\n",
    "$$\\mathbf{s}_{t'} = g(\\mathbf{y}_{t'-1}, \\mathbf{c}, \\mathbf{s}_{t'-1}).$$\n",
    "\n",
    "\n",
    "When implementing the decoder, we directly use the hidden state of the encoder in the final timestep as the initial hidden state of the decoder. This requires that the encoder and decoder RNNs have the same numbers of layers and hidden units.\n",
    "The LSTM forward calculation of the decoder is similar to that of the encoder. The only difference is that we add a dense layer after the LSTM layers, where the hidden size is the vocabulary size. The dense layer will predict the confidence score for each word."
   ]
  },
  {
   "cell_type": "code",
   "execution_count": 5,
   "id": "3d090353",
   "metadata": {
    "attributes": {
     "classes": [],
     "id": "",
     "n": "5"
    }
   },
   "outputs": [],
   "source": [
    "#@tab mxnet\n",
    "#@save\n",
    "class Seq2SeqDecoder(d2l.Decoder):\n",
    "    def __init__(self, vocab_size, embed_size, num_hiddens, num_layers,\n",
    "                 dropout=0, **kwargs):\n",
    "        super(Seq2SeqDecoder, self).__init__(**kwargs)\n",
    "        self.embedding = nn.Embedding(vocab_size, embed_size)\n",
    "        self.rnn = rnn.LSTM(num_hiddens, num_layers, dropout=dropout)\n",
    "        self.dense = nn.Dense(vocab_size, flatten=False)\n",
    "\n",
    "    def init_state(self, enc_outputs, *args):\n",
    "        return enc_outputs[1]\n",
    "\n",
    "    def forward(self, X, state):\n",
    "        X = self.embedding(X).swapaxes(0, 1)\n",
    "        out, state = self.rnn(X, state)\n",
    "        # Make the batch to be the first dimension to simplify loss\n",
    "        # computation\n",
    "        out = self.dense(out).swapaxes(0, 1)\n",
    "        return out, state"
   ]
  },
  {
   "cell_type": "markdown",
   "id": "28eb01ab",
   "metadata": {},
   "source": [
    "We create a decoder with the same hyper-parameters as the encoder. As we can see, the output shape is changed to (batch size, the sequence length, vocabulary size)."
   ]
  },
  {
   "cell_type": "code",
   "execution_count": 6,
   "id": "99d34c5f",
   "metadata": {
    "attributes": {
     "classes": [],
     "id": "",
     "n": "6"
    }
   },
   "outputs": [],
   "source": [
    "#@tab mxnet\n",
    "decoder = Seq2SeqDecoder(vocab_size=10, embed_size=8,\n",
    "                         num_hiddens=16, num_layers=2)\n",
    "decoder.initialize()\n",
    "state = decoder.init_state(encoder(X))\n",
    "out, state = decoder(X, state)\n",
    "out.shape, len(state), state[0].shape, state[1].shape"
   ]
  },
  {
   "cell_type": "markdown",
   "id": "448943f4",
   "metadata": {},
   "source": [
    "## The Loss Function\n",
    "\n",
    "For each timestep, the decoder outputs a vocabulary-size confidence score vector to predict words. Similar to language modeling, we can apply softmax to obtain the probabilities and then use cross-entropy loss to calculate the loss. Note that we padded the target sentences to make them have the same length, but we do not need to compute the loss on the padding symbols.\n",
    "\n",
    "To implement the loss function that filters out some entries, we will use an operator called `SequenceMask`. It can specify to mask the first dimension (`axis=0`) or the second one (`axis=1`). If the second one is chosen, given a valid length vector `len` and 2-dim input `X`, this operator sets `X[i, len[i]:] = 0` for all $i$'s."
   ]
  },
  {
   "cell_type": "code",
   "execution_count": 7,
   "id": "f73eab6b",
   "metadata": {
    "attributes": {
     "classes": [],
     "id": "",
     "n": "7"
    }
   },
   "outputs": [],
   "source": [
    "#@tab mxnet\n",
    "X = np.array([[1, 2, 3], [4, 5, 6]])\n",
    "npx.sequence_mask(X, np.array([1, 2]), True, axis=1)"
   ]
  },
  {
   "cell_type": "markdown",
   "id": "9d5eaf16",
   "metadata": {},
   "source": [
    "Apply to $n$-dim tensor $X$, it sets `X[i, len[i]:, :, ..., :] = 0`. In addition, we can specify the filling value such as $-1$ as shown below."
   ]
  },
  {
   "cell_type": "code",
   "execution_count": 8,
   "id": "bfb46097",
   "metadata": {
    "attributes": {
     "classes": [],
     "id": "",
     "n": "8"
    }
   },
   "outputs": [],
   "source": [
    "#@tab mxnet\n",
    "X = np.ones((2, 3, 4))\n",
    "npx.sequence_mask(X, np.array([1, 2]), True, value=-1, axis=1)"
   ]
  },
  {
   "cell_type": "markdown",
   "id": "5ee737e6",
   "metadata": {},
   "source": [
    "Now we can implement the masked version of the softmax cross-entropy loss. Note that each Gluon loss function allows to specify per-example weights, in default they are 1s. Then we can just use a zero weight for each example we would like to remove. So our customized loss function accepts an additional `valid_len` argument to ignore some failing elements in each sequence."
   ]
  },
  {
   "cell_type": "code",
   "execution_count": 9,
   "id": "a2db0698",
   "metadata": {
    "attributes": {
     "classes": [],
     "id": "",
     "n": "9"
    }
   },
   "outputs": [],
   "source": [
    "#@tab mxnet\n",
    "#@save\n",
    "class MaskedSoftmaxCELoss(gluon.loss.SoftmaxCELoss):\n",
    "    # pred shape: (batch_size, seq_len, vocab_size)\n",
    "    # label shape: (batch_size, seq_len)\n",
    "    # valid_len shape: (batch_size, )\n",
    "    def forward(self, pred, label, valid_len):\n",
    "        # weights shape: (batch_size, seq_len, 1)\n",
    "        weights = np.expand_dims(np.ones_like(label), axis=-1)\n",
    "        weights = npx.sequence_mask(weights, valid_len, True, axis=1)\n",
    "        return super(MaskedSoftmaxCELoss, self).forward(pred, label, weights)"
   ]
  },
  {
   "cell_type": "markdown",
   "id": "5cd7dfd7",
   "metadata": {},
   "source": [
    "For a sanity check, we create identical three sequences, keep 4 elements for the first sequence, 2 elements for the second sequence, and none for the last one. Then the first example loss should be 2 times larger than the second one, and the last loss should be 0."
   ]
  },
  {
   "cell_type": "code",
   "execution_count": 10,
   "id": "76df55af",
   "metadata": {
    "attributes": {
     "classes": [],
     "id": "",
     "n": "10"
    }
   },
   "outputs": [],
   "source": [
    "#@tab mxnet\n",
    "loss = MaskedSoftmaxCELoss()\n",
    "loss(np.ones((3, 4, 10)), np.ones((3, 4)), np.array([4, 2, 0]))"
   ]
  },
  {
   "cell_type": "markdown",
   "id": "b963b4c1",
   "metadata": {},
   "source": [
    "## Training\n",
    ":label:`sec_seq2seq_training`\n",
    "\n",
    "During training, if the target sequence has length $n$, we feed the first $n-1$ tokens into the decoder as inputs, and the last $n-1$ tokens are used as ground truth label."
   ]
  },
  {
   "cell_type": "code",
   "execution_count": 11,
   "id": "087178e1",
   "metadata": {
    "attributes": {
     "classes": [],
     "id": "",
     "n": "11"
    }
   },
   "outputs": [],
   "source": [
    "#@tab mxnet\n",
    "#@save\n",
    "def train_s2s_ch9(model, data_iter, lr, num_epochs, ctx):\n",
    "    model.initialize(init.Xavier(), force_reinit=True, ctx=ctx)\n",
    "    trainer = gluon.Trainer(model.collect_params(),\n",
    "                            'adam', {'learning_rate': lr})\n",
    "    loss = MaskedSoftmaxCELoss()\n",
    "    animator = d2l.Animator(xlabel='epoch', ylabel='loss',\n",
    "                            xlim=[1, num_epochs], ylim=[0, 0.25])\n",
    "    for epoch in range(1, num_epochs + 1):\n",
    "        timer = d2l.Timer()\n",
    "        metric = d2l.Accumulator(2)  # loss_sum, num_tokens\n",
    "        for batch in data_iter:\n",
    "            X, X_vlen, Y, Y_vlen = [x.as_in_ctx(ctx) for x in batch]\n",
    "            Y_input, Y_label, Y_vlen = Y[:, :-1], Y[:, 1:], Y_vlen-1\n",
    "            with autograd.record():\n",
    "                Y_hat, _ = model(X, Y_input, X_vlen, Y_vlen)\n",
    "                l = loss(Y_hat, Y_label, Y_vlen)\n",
    "            l.backward()\n",
    "            d2l.grad_clipping(model, 1)\n",
    "            num_tokens = Y_vlen.sum()\n",
    "            trainer.step(num_tokens)\n",
    "            metric.add(l.sum(), num_tokens)\n",
    "        if epoch % 10 == 0:\n",
    "            animator.add(epoch, (metric[0]/metric[1],))\n",
    "    print('loss %.3f, %d tokens/sec on %s ' % (\n",
    "        metric[0]/metric[1], metric[1]/timer.stop(), ctx))"
   ]
  },
  {
   "cell_type": "markdown",
   "id": "00468560",
   "metadata": {},
   "source": [
    "Next, we create a model instance and set hyper-parameters. Then, we can train the model."
   ]
  },
  {
   "cell_type": "code",
   "execution_count": 12,
   "id": "ca4a9b89",
   "metadata": {
    "attributes": {
     "classes": [],
     "id": "",
     "n": "12"
    }
   },
   "outputs": [],
   "source": [
    "#@tab mxnet\n",
    "embed_size, num_hiddens, num_layers, dropout = 32, 32, 2, 0.0\n",
    "batch_size, num_steps = 64, 10\n",
    "lr, num_epochs, ctx = 0.005, 300, d2l.try_gpu()\n",
    "\n",
    "src_vocab, tgt_vocab, train_iter = d2l.load_data_nmt(batch_size, num_steps)\n",
    "encoder = Seq2SeqEncoder(\n",
    "    len(src_vocab), embed_size, num_hiddens, num_layers, dropout)\n",
    "decoder = Seq2SeqDecoder(\n",
    "    len(tgt_vocab), embed_size, num_hiddens, num_layers, dropout)\n",
    "model = d2l.EncoderDecoder(encoder, decoder)\n",
    "train_s2s_ch9(model, train_iter, lr, num_epochs, ctx)"
   ]
  },
  {
   "cell_type": "markdown",
   "id": "b92e2935",
   "metadata": {},
   "source": [
    "## Predicting\n",
    "\n",
    "Here we implement the simplest method, greedy search, to generate an output\n",
    "sequence. As illustrated in :numref:`fig_seq2seq_predict`, during predicting, we feed the same \"&lt;bos&gt;\" token to the decoder as training at timestep 0. But the input token for a later timestep is the predicted token from the previous timestep.\n",
    "\n",
    "![Sequence to sequence model predicting with greedy search](../img/seq2seq_predict.svg)\n",
    ":label:`fig_seq2seq_predict`"
   ]
  },
  {
   "cell_type": "code",
   "execution_count": 16,
   "id": "a41caccd",
   "metadata": {
    "attributes": {
     "classes": [],
     "id": "",
     "n": "16"
    }
   },
   "outputs": [],
   "source": [
    "#@tab mxnet\n",
    "#@save\n",
    "class BeamSearchNode(object):\n",
    "    def __init__(self, hiddenstate, previousNode, wordId, logProb, length):\n",
    "        self.h = hiddenstate\n",
    "        self.prevNode = previousNode\n",
    "        self.wordid = wordId\n",
    "        self.logp = logProb\n",
    "        self.length = length\n",
    "\n",
    "    def eval(self, alpha=1.0):\n",
    "        reward = 0\n",
    "        return self.logp / float(self.length - 1 + 1e-6) + alpha * reward\n",
    "#@save\n",
    "def predict_s2s_ch9_beam(model, src_sentence, src_vocab, tgt_vocab, num_steps,\n",
    "                         beam_width, ctx):\n",
    "    src_tokens = src_vocab[src_sentence.lower().split(' ')]\n",
    "    enc_valid_len = np.array([len(src_tokens)], ctx=ctx)\n",
    "    src_tokens = d2l.truncate_pad(src_tokens, num_steps, src_vocab['<pad>'])\n",
    "    enc_X = np.array(src_tokens, ctx=ctx)\n",
    "    # Add the batch_size dimension\n",
    "    enc_outputs = model.encoder(np.expand_dims(enc_X, axis=0),\n",
    "                                enc_valid_len)\n",
    "    dec_state = model.decoder.init_state(enc_outputs, enc_valid_len)\n",
    "    dec_X = np.expand_dims(np.array([tgt_vocab['<bos>']], ctx=ctx), axis=0)\n",
    "    \n",
    "    node = BeamSearchNode(dec_state, None, dec_X, 0, 1)\n",
    "    nodes = PriorityQueue()\n",
    "    decoded_batch = []\n",
    "    nodes.put((-node.eval(), node))\n",
    "    #while True:\n",
    "    for _ in range(num_steps):\n",
    "        # give up when decoding takes too long\n",
    "        score, n = nodes.get()\n",
    "        dec_X = n.wordid\n",
    "        dec_state = n.h\n",
    "        if n.wordid.item() == tgt_vocab['<eos>'] and n.prevNode != None:\n",
    "            endnodes = (score, n)\n",
    "            break\n",
    "        Y, dec_state = model.decoder(dec_X, dec_state)\n",
    "        indexes = npx.topk(Y, k=beam_width)\n",
    "        nextnodes = []\n",
    "        for new_k in range(beam_width):\n",
    "            decoded_t = indexes[:,:,new_k]\n",
    "            log_p = Y.reshape(-1)[decoded_t].item()\n",
    "            node = BeamSearchNode(dec_state, n, decoded_t, n.logp + log_p, n.length + 1)\n",
    "            score = -node.eval()\n",
    "            nextnodes.append((score, node))\n",
    "        for i in range(len(nextnodes)):\n",
    "            score, nn = nextnodes[i]\n",
    "            nodes.put((score, nn))\n",
    "            \n",
    "    if len(endnodes) == 0:\n",
    "        endnodes = nodes.get()\n",
    "    score, n = endnodes\n",
    "    predict_tokens = []\n",
    "    if int(n.wordid) != tgt_vocab['<eos>']:\n",
    "        predict_tokens.append(int(n.wordid))\n",
    "    # back trace\n",
    "    while n.prevNode != None:\n",
    "        n = n.prevNode\n",
    "        if int(n.wordid) != tgt_vocab['<bos>']:\n",
    "            predict_tokens.append(int(n.wordid))\n",
    "    predict_tokens = predict_tokens[::-1]\n",
    "    return ' '.join(tgt_vocab.to_tokens(predict_tokens))"
   ]
  },
  {
   "cell_type": "markdown",
   "id": "162102db",
   "metadata": {},
   "source": [
    "Try several examples:"
   ]
  },
  {
   "cell_type": "code",
   "execution_count": 204,
   "id": "f0f232d7",
   "metadata": {
    "attributes": {
     "classes": [],
     "id": "",
     "n": "204"
    }
   },
   "outputs": [],
   "source": [
    "#@tab mxnet\n",
    "for sentence in ['Go .', 'Wow !', \"I'm OK .\", 'I won !']:\n",
    "    print(sentence + ' => ' + predict_s2s_ch9_beam(\n",
    "        model, sentence, src_vocab, tgt_vocab, num_steps, 3, ctx))"
   ]
  },
  {
   "cell_type": "markdown",
   "id": "46cb77f2",
   "metadata": {},
   "source": [
    "## Summary\n",
    "\n",
    "* The sequence to sequence (seq2seq) model is based on the encoder-decoder architecture to generate a sequence output from a sequence input.\n",
    "* We use multiple LSTM layers for both the encoder and the decoder.\n",
    "\n",
    "\n",
    "## Exercises\n",
    "\n",
    "1. Can you think of other use cases of seq2seq besides neural machine translation?\n",
    "1. What if the input sequence in the example of this section is longer?\n",
    "1. If we do not use the `SequenceMask` in the loss function, what may happen?\n",
    "\n",
    "\n",
    "## [Discussions](https://discuss.mxnet.io/t/4357)\n",
    "\n",
    "![](../img/qr_seq2seq.svg)"
   ]
  }
 ],
 "metadata": {},
 "nbformat": 4,
 "nbformat_minor": 5
}
