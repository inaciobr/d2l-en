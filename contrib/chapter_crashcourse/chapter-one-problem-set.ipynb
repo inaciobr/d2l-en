{
 "cells": [
  {
   "cell_type": "markdown",
   "id": "d69917a8",
   "metadata": {},
   "source": [
    "# Problem Set \n",
    "\n",
    "\"For the things we have to learn before we can do them, we learn by doing them.\" - Aristotle\n",
    "\n",
    "There's nothing quite like working with a new tool to really understand it, so we have put together some exercises through this book to give you a chance to put into practice what you learned in the previous lesson(s). \n",
    "\n",
    "## Problems using NDarray [(Official Documentation)](https://mxnet.incubator.apache.org/api/python/ndarray/ndarray.html) \n",
    "\n",
    "\n",
    "Problem 1: Initialize an ndarray of dimension 1x256 on the GPU without overwriting its memory. Then, find the index corresponding to the maximum value in the array (argmax)"
   ]
  },
  {
   "cell_type": "code",
   "execution_count": null,
   "id": "da14f817",
   "metadata": {},
   "outputs": [],
   "source": [
    "# Problem 1 Work Area"
   ]
  },
  {
   "cell_type": "markdown",
   "id": "78a2e8ab",
   "metadata": {},
   "source": [
    "## Problems from Linear Algebra\n",
    "\n",
    "Problem 2: Create a 4x4 matrix of random values (where values are uniformly random on the interval [0, 1]. Then create an 4x4 identity matrix (an identity of size n is the n × n square matrix with ones on the main diagonal and zeros elsewhere). Multiply the two together and verify that you get the original matrix back."
   ]
  },
  {
   "cell_type": "code",
   "execution_count": null,
   "id": "91bd30a2",
   "metadata": {},
   "outputs": [],
   "source": [
    "# Problem 2 Work Area"
   ]
  },
  {
   "cell_type": "markdown",
   "id": "0512feae",
   "metadata": {},
   "source": [
    "Problem 3: Create a 3x3x20 tensor such that at every x, y coordinate, moving through the z coordinate lists the [Fibonacci sequence](https://en.wikipedia.org/wiki/Fibonacci_number). So, at a z position of 0, the 3x3 matrix will be all 1s. At z-position 1, the 3x3 matrix will be all 1s. At z-position 2, the 3x3 matrix will be all 2s, at z-position 3, the 3x3 matrix will be all 3s and so forth.\n",
    "\n",
    "Hint: Create the first 2 matrices by hand and then use elementwise operations in a loop to construct the rest of the tensor."
   ]
  },
  {
   "cell_type": "code",
   "execution_count": null,
   "id": "2935f4cc",
   "metadata": {},
   "outputs": [],
   "source": [
    "# Problem 3 Work Area"
   ]
  },
  {
   "cell_type": "markdown",
   "id": "0b91e9fd",
   "metadata": {},
   "source": [
    "Problem 4: What is the sum of the vector you created? What is the mean?"
   ]
  },
  {
   "cell_type": "code",
   "execution_count": null,
   "id": "3de419eb",
   "metadata": {},
   "outputs": [],
   "source": [
    "# Problem 4 Work Area"
   ]
  },
  {
   "cell_type": "markdown",
   "id": "ea8da213",
   "metadata": {},
   "source": [
    "Problem 5: Create a vector [0, 1], and another vector [1, 0], and use mxnet to calculate the angle between them. Remember that the dot product of two vectors is equal to the cosine of the angle between the vectors, and that the arccos function is the inverse of cosine."
   ]
  },
  {
   "cell_type": "code",
   "execution_count": null,
   "id": "e82ccd61",
   "metadata": {},
   "outputs": [],
   "source": [
    "# Problem 5 Work Area"
   ]
  },
  {
   "cell_type": "markdown",
   "id": "e0808519",
   "metadata": {},
   "source": [
    "## Problems from Probability\n",
    "\n",
    "Problem 6: In the classic game of Risk, the attacker can roll a maximum of three dice, while the defender can roll a maximum of two dice. Simulate the attacking and defending dice using `sample_multinomial` to try to estimate the odds that an attacker will win against a defender when both are rolling the maximum number of dice."
   ]
  },
  {
   "cell_type": "code",
   "execution_count": null,
   "id": "ce9b9c95",
   "metadata": {},
   "outputs": [],
   "source": [
    "# Problem 6 Work Area"
   ]
  },
  {
   "cell_type": "markdown",
   "id": "baeb3c46",
   "metadata": {},
   "source": [
    "## Problems from Automatic differentiation with ``autograd`` \n",
    "\n",
    "Problem 7: The formula for a parabola is y=ax^2+bx+c. If a=5 and b = 13, what is the slope of y when x=0.  How about when x=7?"
   ]
  },
  {
   "cell_type": "code",
   "execution_count": null,
   "id": "67176418",
   "metadata": {},
   "outputs": [],
   "source": [
    "# Problem 7 Work Area"
   ]
  },
  {
   "cell_type": "markdown",
   "id": "65db49ff",
   "metadata": {},
   "source": [
    "Problem 8: Graph the parabola described in Problem 6 and inspect the slope of y when x = 0 and x = 7. Does it match up with your answer from Problem 6?"
   ]
  },
  {
   "cell_type": "code",
   "execution_count": null,
   "id": "5961b562",
   "metadata": {},
   "outputs": [],
   "source": [
    "# Problem 8 Work Area"
   ]
  },
  {
   "cell_type": "markdown",
   "id": "8cabbdd9",
   "metadata": {},
   "source": [
    "## Next\n",
    "[Chapter 2: Linear regression from scratch](../chapter02_supervised-learning/linear-regression-scratch.ipynb)\n",
    "\n",
    "For whinges or inquiries, [open an issue on  GitHub.](https://github.com/zackchase/mxnet-the-straight-dope)"
   ]
  }
 ],
 "metadata": {},
 "nbformat": 4,
 "nbformat_minor": 5
}
