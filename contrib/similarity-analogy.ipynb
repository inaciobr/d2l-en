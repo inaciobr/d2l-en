{
 "cells": [
  {
   "cell_type": "markdown",
   "id": "7083e432",
   "metadata": {},
   "source": [
    "# Finding Synonyms and Analogies\n",
    ":label:`sec_synonyms`\n",
    "\n",
    "In :numref:`sec_word2vec_gluon` we trained a word2vec word embedding model\n",
    "on a small-scale dataset and searched for synonyms using the cosine similarity\n",
    "of word vectors. In practice, word vectors pretrained on a large-scale corpus\n",
    "can often be applied to downstream natural language processing tasks. This\n",
    "section will demonstrate how to use these pretrained word vectors to find\n",
    "synonyms and analogies. We will continue to apply pretrained word vectors in\n",
    "subsequent sections."
   ]
  },
  {
   "cell_type": "code",
   "execution_count": 1,
   "id": "c4aec20c",
   "metadata": {
    "attributes": {
     "classes": [],
     "id": "",
     "n": "1"
    }
   },
   "outputs": [],
   "source": [
    "#@tab mxnet\n",
    "from d2l import mxnet as d2l\n",
    "import matplotlib.pyplot as plt\n",
    "from mxnet import np, npx\n",
    "import numpy\n",
    "import os\n",
    "from sklearn.decomposition import PCA\n",
    "\n",
    "npx.set_np()"
   ]
  },
  {
   "cell_type": "markdown",
   "id": "6178c940",
   "metadata": {},
   "source": [
    "## Using Pretrained Word Vectors\n",
    "\n",
    "Below lists pretrained GloVe embeddings of dimensions 50, 100, and 300,\n",
    "which can be downloaded from the [GloVe website](https://nlp.stanford.edu/projects/glove/).\n",
    "The pretrained fastText embeddings are available in multiple languages.\n",
    "Here we consider one English version (300-dimensional \"wiki.en\") that can be downloaded from the\n",
    "[fastText website](https://fasttext.cc/)."
   ]
  },
  {
   "cell_type": "code",
   "execution_count": 2,
   "id": "bd0fd96d",
   "metadata": {
    "attributes": {
     "classes": [],
     "id": "",
     "n": "2"
    }
   },
   "outputs": [],
   "source": [
    "#@tab mxnet\n",
    "#@save\n",
    "d2l.DATA_HUB['glove.6b.50d'] = (d2l.DATA_URL + 'glove.6B.50d.zip',\n",
    "                                '0b8703943ccdb6eb788e6f091b8946e82231bc4d')\n",
    "\n",
    "#@save\n",
    "d2l.DATA_HUB['glove.6b.100d'] = (d2l.DATA_URL + 'glove.6B.100d.zip',\n",
    "                                 'cd43bfb07e44e6f27cbcc7bc9ae3d80284fdaf5a')\n",
    "\n",
    "#@save\n",
    "d2l.DATA_HUB['glove.42b.300d'] = (d2l.DATA_URL + 'glove.42B.300d.zip',\n",
    "                                  'b5116e234e9eb9076672cfeabf5469f3eec904fa')\n",
    "\n",
    "#@save\n",
    "d2l.DATA_HUB['wiki.en'] = (d2l.DATA_URL + 'wiki.en.zip',\n",
    "                           'c1816da3821ae9f43899be655002f6c723e91b88')"
   ]
  },
  {
   "cell_type": "markdown",
   "id": "f6dd21bf",
   "metadata": {},
   "source": [
    "We define the following `TokenEmbedding` class to load the above pretrained Glove and fastText embeddings."
   ]
  },
  {
   "cell_type": "code",
   "execution_count": 3,
   "id": "6dac1ec7",
   "metadata": {
    "attributes": {
     "classes": [],
     "id": "",
     "n": "3"
    }
   },
   "outputs": [],
   "source": [
    "#@tab mxnet\n",
    "#@save\n",
    "class TokenEmbedding:\n",
    "    \"\"\"Token Embedding.\"\"\"\n",
    "    def __init__(self, embedding_name):\n",
    "        self.idx_to_token, self.idx_to_vec = self._load_embedding(\n",
    "            embedding_name)\n",
    "        self.unknown_idx = 0\n",
    "        self.token_to_idx = {token: idx for idx, token in \n",
    "                             enumerate(self.idx_to_token)}\n",
    "\n",
    "    def _load_embedding(self, embedding_name):\n",
    "        idx_to_token, idx_to_vec = ['<unk>'], []\n",
    "        data_dir = d2l.download_extract(embedding_name)\n",
    "        # GloVe website: https://nlp.stanford.edu/projects/glove/\n",
    "        # fastText website: https://fasttext.cc/\n",
    "        with open(os.path.join(data_dir, 'vec.txt'), 'r') as f:\n",
    "            for line in f:\n",
    "                elems = line.rstrip().split(' ')\n",
    "                token, elems = elems[0], [float(elem) for elem in elems[1:]]\n",
    "                # Skip header information, such as the top row in fastText\n",
    "                if len(elems) > 1:\n",
    "                    idx_to_token.append(token)\n",
    "                    idx_to_vec.append(elems)\n",
    "        idx_to_vec = [[0] * len(idx_to_vec[0])] + idx_to_vec\n",
    "        return idx_to_token, np.array(idx_to_vec)\n",
    "\n",
    "    def __getitem__(self, tokens):\n",
    "        indices = [self.token_to_idx.get(token, self.unknown_idx)\n",
    "                   for token in tokens]\n",
    "        vecs = self.idx_to_vec[np.array(indices)]\n",
    "        return vecs\n",
    "\n",
    "    def __len__(self):\n",
    "        return len(self.idx_to_token)"
   ]
  },
  {
   "cell_type": "markdown",
   "id": "97f0e487",
   "metadata": {},
   "source": [
    "Next, we use 50-dimensional GloVe embeddings pretrained on a subset of the Wikipedia. The corresponding word embedding is automatically downloaded the first time we create a pretrained word embedding instance."
   ]
  },
  {
   "cell_type": "code",
   "execution_count": 4,
   "id": "55979a43",
   "metadata": {
    "attributes": {
     "classes": [],
     "id": "",
     "n": "4"
    }
   },
   "outputs": [],
   "source": [
    "#@tab mxnet\n",
    "glove_6b50d = TokenEmbedding('glove.6b.50d')"
   ]
  },
  {
   "cell_type": "markdown",
   "id": "e38984a4",
   "metadata": {},
   "source": [
    "Output the dictionary size. The dictionary contains $400,000$ words and a special unknown token."
   ]
  },
  {
   "cell_type": "code",
   "execution_count": 5,
   "id": "9358950a",
   "metadata": {
    "attributes": {
     "classes": [],
     "id": "",
     "n": "5"
    }
   },
   "outputs": [],
   "source": [
    "#@tab mxnet\n",
    "len(glove_6b50d)"
   ]
  },
  {
   "cell_type": "markdown",
   "id": "a80812fc",
   "metadata": {},
   "source": [
    "We can use a word to get its index in the dictionary, or we can get the word from its index."
   ]
  },
  {
   "cell_type": "code",
   "execution_count": 6,
   "id": "fa226216",
   "metadata": {
    "attributes": {
     "classes": [],
     "id": "",
     "n": "6"
    }
   },
   "outputs": [],
   "source": [
    "#@tab mxnet\n",
    "glove_6b50d.token_to_idx['beautiful'], glove_6b50d.idx_to_token[3367]"
   ]
  },
  {
   "cell_type": "markdown",
   "id": "7c2e59a7",
   "metadata": {},
   "source": [
    "## Applying Pretrained Word Vectors\n",
    "\n",
    "Below, we demonstrate the application of pretrained word vectors, using GloVe as an example.\n",
    "\n",
    "### Finding Synonyms\n",
    "\n",
    "Here, we re-implement the algorithm used to search for synonyms by cosine\n",
    "similarity introduced in :numref:`sec_word2vec`\n",
    "\n",
    "In order to reuse the logic for seeking the $k$ nearest neighbors when\n",
    "seeking analogies, we encapsulate this part of the logic separately in the `knn`\n",
    "($k$-nearest neighbors) function."
   ]
  },
  {
   "cell_type": "code",
   "execution_count": 7,
   "id": "1faca5b7",
   "metadata": {
    "attributes": {
     "classes": [],
     "id": "",
     "n": "7"
    }
   },
   "outputs": [],
   "source": [
    "#@tab mxnet\n",
    "def knn(W, x, k):\n",
    "    # The added 1e-9 is for numerical stability\n",
    "    cos = np.dot(W, x.reshape(-1,)) / (\n",
    "        np.sqrt(np.sum(W * W, axis=1) + 1e-9) * np.sqrt((x * x).sum()))\n",
    "    topk = npx.topk(cos, k=k, ret_typ='indices')\n",
    "    return topk, [cos[int(i)] for i in topk]"
   ]
  },
  {
   "cell_type": "markdown",
   "id": "e62c1af3",
   "metadata": {},
   "source": [
    "Then, we search for synonyms by pre-training the word vector instance `embed`."
   ]
  },
  {
   "cell_type": "code",
   "execution_count": 8,
   "id": "15e1e016",
   "metadata": {
    "attributes": {
     "classes": [],
     "id": "",
     "n": "8"
    }
   },
   "outputs": [],
   "source": [
    "#@tab mxnet\n",
    "def get_similar_tokens(query_token, k, embed):\n",
    "    topk, cos = knn(embed.idx_to_vec, embed[[query_token]], k + 1)\n",
    "    for i, c in zip(topk[1:], cos[1:]):  # Remove input words\n",
    "        print(f'cosine sim={float(c):.3f}: {embed.idx_to_token[int(i)]}')"
   ]
  },
  {
   "cell_type": "markdown",
   "id": "b5d9afe4",
   "metadata": {},
   "source": [
    "The dictionary of pretrained word vector instance `glove_6b50d` already created contains 400,000 words and a special unknown token. Excluding input words and unknown words, we search for the three words that are the most similar in meaning to \"chip\"."
   ]
  },
  {
   "cell_type": "code",
   "execution_count": 9,
   "id": "d83e7a4f",
   "metadata": {
    "attributes": {
     "classes": [],
     "id": "",
     "n": "9"
    }
   },
   "outputs": [],
   "source": [
    "#@tab mxnet\n",
    "get_similar_tokens('chip', 3, glove_6b50d)"
   ]
  },
  {
   "cell_type": "markdown",
   "id": "4833fb4b",
   "metadata": {},
   "source": [
    "Next, we search for the synonyms of \"baby\" and \"beautiful\"."
   ]
  },
  {
   "cell_type": "code",
   "execution_count": 10,
   "id": "3d227a14",
   "metadata": {
    "attributes": {
     "classes": [],
     "id": "",
     "n": "10"
    }
   },
   "outputs": [],
   "source": [
    "#@tab mxnet\n",
    "get_similar_tokens('baby', 3, glove_6b50d)"
   ]
  },
  {
   "cell_type": "code",
   "execution_count": 11,
   "id": "370814e2",
   "metadata": {
    "attributes": {
     "classes": [],
     "id": "",
     "n": "11"
    }
   },
   "outputs": [],
   "source": [
    "#@tab mxnet\n",
    "get_similar_tokens('beautiful', 3, glove_6b50d)"
   ]
  },
  {
   "cell_type": "markdown",
   "id": "6ed32c1e",
   "metadata": {},
   "source": [
    "### Finding Analogies\n",
    "\n",
    "In addition to seeking synonyms, we can also use the pretrained word vector to seek the analogies between words. For example, “man”:“woman”::“son”:“daughter” is an example of analogy, “man” is to “woman” as “son” is to “daughter”. The problem of seeking analogies can be defined as follows: for four words in the analogical relationship $a : b :: c : d$, given the first three words, $a$, $b$ and $c$, we want to find $d$. Assume the word vector for the word $w$ is $\\text{vec}(w)$. To solve the analogy problem, we need to find the word vector that is most similar to the result vector of $\\text{vec}(c)+\\text{vec}(b)-\\text{vec}(a)$."
   ]
  },
  {
   "cell_type": "code",
   "execution_count": 12,
   "id": "72db86a1",
   "metadata": {
    "attributes": {
     "classes": [],
     "id": "",
     "n": "12"
    }
   },
   "outputs": [],
   "source": [
    "#@tab mxnet\n",
    "def get_analogy(token_a, token_b, token_c, embed):\n",
    "    vecs = embed[[token_a, token_b, token_c]]\n",
    "    x = vecs[1] - vecs[0] + vecs[2]\n",
    "    topk, cos = knn(embed.idx_to_vec, x, 1)\n",
    "    return embed.idx_to_token[int(topk[0])]  # Remove unknown words"
   ]
  },
  {
   "cell_type": "markdown",
   "id": "0e2dc67c",
   "metadata": {},
   "source": [
    "Verify the \"male-female\" analogy."
   ]
  },
  {
   "cell_type": "code",
   "execution_count": 13,
   "id": "3994eee1",
   "metadata": {
    "attributes": {
     "classes": [],
     "id": "",
     "n": "13"
    }
   },
   "outputs": [],
   "source": [
    "#@tab mxnet\n",
    "get_analogy('man', 'woman', 'son', glove_6b50d)"
   ]
  },
  {
   "cell_type": "markdown",
   "id": "65c1c585",
   "metadata": {},
   "source": [
    "“Capital-country” analogy: \"beijing\" is to \"china\" as \"tokyo\" is to what? The answer should be \"japan\"."
   ]
  },
  {
   "cell_type": "code",
   "execution_count": 14,
   "id": "5623f5df",
   "metadata": {
    "attributes": {
     "classes": [],
     "id": "",
     "n": "14"
    }
   },
   "outputs": [],
   "source": [
    "#@tab mxnet\n",
    "get_analogy('beijing', 'china', 'tokyo', glove_6b50d)"
   ]
  },
  {
   "cell_type": "markdown",
   "id": "1c562621",
   "metadata": {},
   "source": [
    "\"Adjective-superlative adjective\" analogy: \"bad\" is to \"worst\" as \"big\" is to what? The answer should be \"biggest\"."
   ]
  },
  {
   "cell_type": "code",
   "execution_count": 15,
   "id": "be28b9e4",
   "metadata": {
    "attributes": {
     "classes": [],
     "id": "",
     "n": "15"
    }
   },
   "outputs": [],
   "source": [
    "#@tab mxnet\n",
    "get_analogy('bad', 'worst', 'big', glove_6b50d)"
   ]
  },
  {
   "cell_type": "markdown",
   "id": "35e2b3e6",
   "metadata": {},
   "source": [
    "\"Present tense verb-past tense verb\" analogy: \"do\" is to \"did\" as \"go\" is to what? The answer should be \"went\"."
   ]
  },
  {
   "cell_type": "code",
   "execution_count": 16,
   "id": "31fec09d",
   "metadata": {
    "attributes": {
     "classes": [],
     "id": "",
     "n": "16"
    }
   },
   "outputs": [],
   "source": [
    "#@tab mxnet\n",
    "get_analogy('do', 'did', 'go', glove_6b50d)"
   ]
  },
  {
   "cell_type": "code",
   "execution_count": 51,
   "id": "d405555c",
   "metadata": {
    "attributes": {
     "classes": [],
     "id": "",
     "n": "51"
    }
   },
   "outputs": [],
   "source": [
    "#@tab mxnet\n",
    "def visualization(token_pairs, embed):\n",
    "    plt.figure(figsize=(7, 5))\n",
    "    vecs = np.concatenate([embed[pair] for pair in token_pairs])\n",
    "    vecs_pca = PCA(n_components=2).fit_transform(numpy.array(vecs))\n",
    "    for i, pair in enumerate(token_pairs):\n",
    "        x1, y1 = vecs_pca[2 * i]\n",
    "        x2, y2 = vecs_pca[2 * i + 1]\n",
    "        plt.scatter(x1, y1)\n",
    "        plt.scatter(x2, y2)\n",
    "        plt.annotate(pair[0], xy=(x1, y1))\n",
    "        plt.annotate(pair[1], xy=(x2, y2))\n",
    "        plt.plot([x1, x2], [y1, y2])\n",
    "    plt.show()"
   ]
  },
  {
   "cell_type": "code",
   "execution_count": 57,
   "id": "b17c706a",
   "metadata": {
    "attributes": {
     "classes": [],
     "id": "",
     "n": "57"
    }
   },
   "outputs": [],
   "source": [
    "#@tab mxnet\n",
    "token_pairs = [['man', 'woman'], ['son', 'daughter'], ['king', 'queen'],\n",
    "              ['uncle', 'aunt'], ['sir', 'madam'], ['sister', 'brother']]\n",
    "visualization(token_pairs, glove_6b50d)"
   ]
  },
  {
   "cell_type": "markdown",
   "id": "0e817f02",
   "metadata": {},
   "source": [
    "## Summary\n",
    "\n",
    "* Word vectors pre-trained on a large-scale corpus can often be applied to downstream natural language processing tasks.\n",
    "* We can use pre-trained word vectors to seek synonyms and analogies.\n",
    "\n",
    "\n",
    "## Exercises\n",
    "\n",
    "1. Test the fastText results using `TokenEmbedding('wiki.en')`.\n",
    "1. If the dictionary is extremely large, how can we accelerate finding synonyms and analogies?\n",
    "\n",
    "\n",
    "## [Discussions](https://discuss.mxnet.io/t/2390)\n",
    "\n",
    "![](../img/qr_similarity-analogy.svg)"
   ]
  }
 ],
 "metadata": {},
 "nbformat": 4,
 "nbformat_minor": 5
}
