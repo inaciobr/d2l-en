{
 "cells": [
  {
   "cell_type": "markdown",
   "id": "c0ba6343",
   "metadata": {},
   "source": [
    "# Machine Learning Fundamentals\n",
    ":label:`chap_ml-fundamentals`\n",
    "\n",
    "As illustrated in :numref:`chap_introduction`,\n",
    "deep learning is just one among many popular methods for solving machine learning problems.\n",
    "As we have encountered when training\n",
    "linear regressions, softmax regressions,\n",
    "and multilayer perceptrons,\n",
    "optimization algorithms\n",
    "reduce loss function values\n",
    "by iteratively updating model parameters.\n",
    "However,\n",
    "when we train high-capacity models,\n",
    "such as deep neural networks, we run the risk of overfitting.\n",
    "Thus, we will need to provide your first rigorous introduction\n",
    "to the notions of overfitting, underfitting, and model selection.\n",
    "To help you combat these problems,\n",
    "we will introduce regularization techniques such as weight decay and dropout.\n",
    "In view of many failed machine learning *deployments*,\n",
    "it is necessary to\n",
    "expose some common concerns\n",
    "and stimulate the critical thinking required to detect these situations early, mitigate damage, and use machine learning responsibly.\n",
    "Throughout, we aim to give you a firm grasp not just of the concepts\n",
    "but also of the practice of using machine learning models.\n",
    "At the end of this chapter,\n",
    "we apply what we have introduced so far to a real case: house price prediction.\n",
    "We punt matters relating to the computational performance,\n",
    "scalability, and efficiency of our models to subsequent chapters."
   ]
  },
  {
   "cell_type": "code",
   "execution_count": null,
   "id": "569def33",
   "metadata": {
    "attributes": {
     "classes": [
      "toc"
     ],
     "id": ""
    }
   },
   "outputs": [],
   "source": [
    ":maxdepth: 2\n",
    "\n",
    "model-selection\n",
    "underfit-overfit"
   ]
  }
 ],
 "metadata": {},
 "nbformat": 4,
 "nbformat_minor": 5
}
