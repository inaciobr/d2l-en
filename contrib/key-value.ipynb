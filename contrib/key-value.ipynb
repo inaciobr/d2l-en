{
 "cells": [
  {
   "cell_type": "markdown",
   "id": "56e02aa6",
   "metadata": {},
   "source": [
    "# Distributed Key-Value Store\n",
    ":label:`sec_key_value`\n",
    "\n",
    "KVStore is a place for data sharing. Think of it as a single object shared across different devices (GPUs and computers), where each device can push data in and pull data out.\n",
    "\n",
    "## Initialization\n",
    "Let us consider a simple example: initializing a (int, NDArray) pair into the store, and then pulling the value out:"
   ]
  },
  {
   "cell_type": "code",
   "execution_count": 1,
   "id": "6b2f55e4",
   "metadata": {
    "attributes": {
     "classes": [],
     "id": "",
     "n": "1"
    }
   },
   "outputs": [],
   "source": [
    "#@tab mxnet\n",
    "from mxnet import np, npx, kv\n",
    "npx.set_np()"
   ]
  },
  {
   "cell_type": "code",
   "execution_count": 2,
   "id": "0cc61e2c",
   "metadata": {
    "attributes": {
     "classes": [],
     "id": "",
     "n": "2"
    }
   },
   "outputs": [],
   "source": [
    "#@tab mxnet\n",
    "np.ones((2,3))"
   ]
  },
  {
   "cell_type": "code",
   "execution_count": 11,
   "id": "48690b56",
   "metadata": {
    "attributes": {
     "classes": [],
     "id": "",
     "n": "11"
    }
   },
   "outputs": [],
   "source": [
    "#@tab mxnet\n",
    "help(kv)"
   ]
  },
  {
   "cell_type": "code",
   "execution_count": 3,
   "id": "4703ba31",
   "metadata": {
    "attributes": {
     "classes": [],
     "id": "",
     "n": "3"
    }
   },
   "outputs": [],
   "source": [
    "#@tab mxnet\n",
    "kv = kv.create('local')  # Create a local kv store.\n",
    "shape = (2,3)\n",
    "kv.init(3, np.ones(shape) * 2)\n",
    "a = np.zeros(shape)\n",
    "kv.pull(3, out = a)\n",
    "print(a)"
   ]
  },
  {
   "cell_type": "markdown",
   "id": "8a4c2c88",
   "metadata": {},
   "source": [
    "## Push, Aggregate, and Update\n",
    "\n",
    "For any key that has been initialized, you can push a new value with the same shape to the key:"
   ]
  },
  {
   "cell_type": "code",
   "execution_count": 4,
   "id": "a0c54b02",
   "metadata": {
    "attributes": {
     "classes": [],
     "id": "",
     "n": "4"
    }
   },
   "outputs": [],
   "source": [
    "#@tab mxnet\n",
    "kv.push(3, np.ones(shape)*8)\n",
    "kv.pull(3, out = a)  # Pull out the value\n",
    "print(a.asnumpy())"
   ]
  },
  {
   "cell_type": "markdown",
   "id": "e89305ff",
   "metadata": {},
   "source": [
    "The data for pushing can be stored on any device. Furthermore, you can push multiple values into the same key, where KVStore will first sum all of these values and then push the aggregated value. Here we will just demonstrate pushing a list of values on CPU. Please note summation only happens if the value list is longer than one"
   ]
  },
  {
   "cell_type": "code",
   "execution_count": 5,
   "id": "7bfeaaa3",
   "metadata": {
    "attributes": {
     "classes": [],
     "id": "",
     "n": "5"
    }
   },
   "outputs": [],
   "source": [
    "#@tab mxnet\n",
    "devices = [npx.cpu(i) for i in range(4)]\n",
    "b = [np.ones(shape, ctx=device) for device in devices]\n",
    "kv.push(3, b)\n",
    "kv.pull(3, out = a)\n",
    "print(a)"
   ]
  },
  {
   "cell_type": "markdown",
   "id": "57ab2e97",
   "metadata": {},
   "source": [
    "For each push, KVStore combines the pushed value with the value stored using an updater. The default updater is ASSIGN. You can replace the default to control how data is merged:"
   ]
  },
  {
   "cell_type": "code",
   "execution_count": 6,
   "id": "d2579036",
   "metadata": {
    "attributes": {
     "classes": [],
     "id": "",
     "n": "6"
    }
   },
   "outputs": [],
   "source": [
    "#@tab mxnet\n",
    "def update(key, input, stored):\n",
    "    print(f'update on key: {key}')\n",
    "    stored += input * 2\n",
    "kv._set_updater(update)\n",
    "kv.pull(3, out=a)\n",
    "print(a)"
   ]
  },
  {
   "cell_type": "code",
   "execution_count": 7,
   "id": "fcf4172d",
   "metadata": {
    "attributes": {
     "classes": [],
     "id": "",
     "n": "7"
    }
   },
   "outputs": [],
   "source": [
    "#@tab mxnet\n",
    "kv.push(3, np.ones(shape))\n",
    "kv.pull(3, out=a)\n",
    "print(a)"
   ]
  },
  {
   "cell_type": "markdown",
   "id": "d4b81bf0",
   "metadata": {},
   "source": [
    "## Pull\n",
    "\n",
    "You have already seen how to pull a single key-value pair. Similarly, to push, you can pull the value onto several devices with a single call:"
   ]
  },
  {
   "cell_type": "code",
   "execution_count": 8,
   "id": "1cf56874",
   "metadata": {
    "attributes": {
     "classes": [],
     "id": "",
     "n": "8"
    }
   },
   "outputs": [],
   "source": [
    "#@tab mxnet\n",
    "b = [np.ones(shape, ctx=device) for device in devices]\n",
    "kv.pull(3, out = b)\n",
    "print(b[1])"
   ]
  },
  {
   "cell_type": "markdown",
   "id": "9e8ffa74",
   "metadata": {},
   "source": [
    "## Handle a List of Key-Value Pairs\n",
    "\n",
    "All operations introduced so far involve a single key. KVStore also provides an interface for a list of key-value pairs.\n",
    "\n",
    "For a single device:"
   ]
  },
  {
   "cell_type": "code",
   "execution_count": 9,
   "id": "447dcea8",
   "metadata": {
    "attributes": {
     "classes": [],
     "id": "",
     "n": "9"
    }
   },
   "outputs": [],
   "source": [
    "#@tab mxnet\n",
    "keys = [5, 7, 9]\n",
    "kv.init(keys, [np.ones(shape)]*len(keys))\n",
    "kv.push(keys, [np.ones(shape)]*len(keys))\n",
    "b = [np.zeros(shape)]*len(keys)\n",
    "kv.pull(keys, out = b)\n",
    "print(b[1])"
   ]
  },
  {
   "cell_type": "markdown",
   "id": "400be7b3",
   "metadata": {},
   "source": [
    "For multiple devices:"
   ]
  },
  {
   "cell_type": "code",
   "execution_count": 10,
   "id": "baf4ef1d",
   "metadata": {
    "attributes": {
     "classes": [],
     "id": "",
     "n": "10"
    }
   },
   "outputs": [],
   "source": [
    "#@tab mxnet\n",
    "b = [[np.ones(shape, ctx=device) for device in devices]] * len(keys)\n",
    "kv.push(keys, b)\n",
    "kv.pull(keys, out = b)\n",
    "print(b[1][1])"
   ]
  }
 ],
 "metadata": {},
 "nbformat": 4,
 "nbformat_minor": 5
}
