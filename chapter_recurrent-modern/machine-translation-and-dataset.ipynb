{
 "cells": [
  {
   "cell_type": "code",
   "execution_count": 1,
   "id": "40114173",
   "metadata": {
    "attributes": {
     "classes": [],
     "id": "",
     "n": "1"
    }
   },
   "outputs": [],
   "source": [
    "%load_ext d2lbook.tab\n",
    "tab.interact_select('mxnet', 'pytorch', 'tensorflow', 'jax')"
   ]
  },
  {
   "cell_type": "markdown",
   "id": "a595e0b7",
   "metadata": {},
   "source": [
    "# Machine Translation and the Dataset\n",
    ":label:`sec_machine_translation`\n",
    "\n",
    "Among the major breakthroughs that prompted \n",
    "widespread interest in modern RNNs\n",
    "was a major advance in the applied field of \n",
    "statistical  *machine translation*.\n",
    "Here, the model is presented with a sentence in one language\n",
    "and must predict the corresponding sentence in another. \n",
    "Note that here the sentences may be of different lengths,\n",
    "and that corresponding words in the two sentences \n",
    "may not occur in the same order, \n",
    "owing to differences \n",
    "in the two language's grammatical structure. \n",
    "\n",
    "\n",
    "Many problems have this flavor of mapping \n",
    "between two such \"unaligned\" sequences.\n",
    "Examples include mapping \n",
    "from dialog prompts to replies\n",
    "or from questions to answers.\n",
    "Broadly, such problems are called \n",
    "*sequence-to-sequence* (seq2seq) problems \n",
    "and they are our focus for \n",
    "both the remainder of this chapter\n",
    "and much of :numref:`chap_attention-and-transformers`.\n",
    "\n",
    "In this section, we introduce the machine translation problem\n",
    "and an example dataset that we will use in the subsequent examples.\n",
    "For decades, statistical formulations of translation between languages\n",
    "had been popular :cite:`Brown.Cocke.Della-Pietra.ea.1988,Brown.Cocke.Della-Pietra.ea.1990`,\n",
    "even before researchers got neural network approaches working\n",
    "(methods were often lumped together under the term *neural machine translation*).\n",
    "\n",
    "\n",
    "First we will need some new code to process our data.\n",
    "Unlike the language modeling that we saw in :numref:`sec_language-model`,\n",
    "here each example consists of two separate text sequences,\n",
    "one in the source language and another (the translation) in the target language.\n",
    "The following code snippets will show how \n",
    "to load the preprocessed data into minibatches for training."
   ]
  },
  {
   "cell_type": "code",
   "execution_count": 2,
   "id": "31dca390",
   "metadata": {
    "attributes": {
     "classes": [],
     "id": "",
     "n": "2"
    }
   },
   "outputs": [],
   "source": [
    "%%tab mxnet\n",
    "from d2l import mxnet as d2l\n",
    "from mxnet import np, npx\n",
    "import os\n",
    "npx.set_np()"
   ]
  },
  {
   "cell_type": "code",
   "execution_count": 3,
   "id": "37177fb8",
   "metadata": {
    "attributes": {
     "classes": [],
     "id": "",
     "n": "3"
    }
   },
   "outputs": [],
   "source": [
    "%%tab pytorch\n",
    "from d2l import torch as d2l\n",
    "import torch\n",
    "import os"
   ]
  },
  {
   "cell_type": "code",
   "execution_count": 4,
   "id": "4e035ba7",
   "metadata": {
    "attributes": {
     "classes": [],
     "id": "",
     "n": "4"
    }
   },
   "outputs": [],
   "source": [
    "%%tab tensorflow\n",
    "from d2l import tensorflow as d2l\n",
    "import tensorflow as tf\n",
    "import os"
   ]
  },
  {
   "cell_type": "code",
   "execution_count": 4,
   "id": "a01ae763",
   "metadata": {
    "attributes": {
     "classes": [],
     "id": "",
     "n": "4"
    }
   },
   "outputs": [],
   "source": [
    "%%tab jax\n",
    "from d2l import jax as d2l\n",
    "from jax import numpy as jnp\n",
    "import os"
   ]
  },
  {
   "cell_type": "markdown",
   "id": "df4970b6",
   "metadata": {},
   "source": [
    "## [**Downloading and Preprocessing the Dataset**]\n",
    "\n",
    "To begin, we download an English--French dataset\n",
    "that consists of [bilingual sentence pairs from the Tatoeba Project](http://www.manythings.org/anki/).\n",
    "Each line in the dataset is a tab-delimited pair \n",
    "consisting of an English text sequence (the *source*) \n",
    "and the translated French text sequence (the *target*).\n",
    "Note that each text sequence\n",
    "can be just one sentence,\n",
    "or a paragraph of multiple sentences."
   ]
  },
  {
   "cell_type": "code",
   "execution_count": 5,
   "id": "cdd67103",
   "metadata": {
    "attributes": {
     "classes": [],
     "id": "",
     "n": "5"
    }
   },
   "outputs": [],
   "source": [
    "%%tab all\n",
    "class MTFraEng(d2l.DataModule):  #@save\n",
    "    \"\"\"The English-French dataset.\"\"\"\n",
    "    def _download(self):\n",
    "        d2l.extract(d2l.download(\n",
    "            d2l.DATA_URL+'fra-eng.zip', self.root, \n",
    "            '94646ad1522d915e7b0f9296181140edcf86a4f5'))\n",
    "        with open(self.root + '/fra-eng/fra.txt', encoding='utf-8') as f:\n",
    "            return f.read()"
   ]
  },
  {
   "cell_type": "code",
   "execution_count": null,
   "id": "2fe40cbc",
   "metadata": {},
   "outputs": [],
   "source": [
    "%%tab all\n",
    "data = MTFraEng() \n",
    "raw_text = data._download()\n",
    "print(raw_text[:75])"
   ]
  },
  {
   "cell_type": "markdown",
   "id": "5d8f2a60",
   "metadata": {},
   "source": [
    "After downloading the dataset,\n",
    "we [**proceed with several preprocessing steps**]\n",
    "for the raw text data.\n",
    "For instance, we replace non-breaking space with space,\n",
    "convert uppercase letters to lowercase ones,\n",
    "and insert space between words and punctuation marks."
   ]
  },
  {
   "cell_type": "code",
   "execution_count": 6,
   "id": "a0c507e7",
   "metadata": {
    "attributes": {
     "classes": [],
     "id": "",
     "n": "6"
    }
   },
   "outputs": [],
   "source": [
    "%%tab all\n",
    "@d2l.add_to_class(MTFraEng)  #@save\n",
    "def _preprocess(self, text):\n",
    "    # Replace non-breaking space with space\n",
    "    text = text.replace('\\u202f', ' ').replace('\\xa0', ' ')\n",
    "    # Insert space between words and punctuation marks\n",
    "    no_space = lambda char, prev_char: char in ',.!?' and prev_char != ' '\n",
    "    out = [' ' + char if i > 0 and no_space(char, text[i - 1]) else char\n",
    "           for i, char in enumerate(text.lower())]\n",
    "    return ''.join(out)"
   ]
  },
  {
   "cell_type": "code",
   "execution_count": null,
   "id": "3032fb31",
   "metadata": {},
   "outputs": [],
   "source": [
    "%%tab all\n",
    "text = data._preprocess(raw_text)\n",
    "print(text[:80])"
   ]
  },
  {
   "cell_type": "markdown",
   "id": "24940fa7",
   "metadata": {},
   "source": [
    "## [**Tokenization**]\n",
    "\n",
    "Unlike the character-level tokenization\n",
    "in :numref:`sec_language-model`,\n",
    "for machine translation\n",
    "we prefer word-level tokenization here\n",
    "(today's state-of-the-art models use \n",
    "more complex tokenization techniques).\n",
    "The following `_tokenize` method\n",
    "tokenizes the first `max_examples` text sequence pairs,\n",
    "where each token is either a word or a punctuation mark.\n",
    "We append the special “&lt;eos&gt;” token\n",
    "to the end of every sequence to indicate the\n",
    "end of the sequence.\n",
    "When a model is predicting\n",
    "by generating a sequence token after token,\n",
    "the generation of the “&lt;eos&gt;” token\n",
    "can suggest that the output sequence is complete.\n",
    "In the end, the method below returns\n",
    "two lists of token lists: `src` and `tgt`.\n",
    "Specifically, `src[i]` is a list of tokens from the\n",
    "$i^\\textrm{th}$ text sequence in the source language (English here) \n",
    "and `tgt[i]` is that in the target language (French here)."
   ]
  },
  {
   "cell_type": "code",
   "execution_count": 7,
   "id": "9fcdc295",
   "metadata": {
    "attributes": {
     "classes": [],
     "id": "",
     "n": "7"
    }
   },
   "outputs": [],
   "source": [
    "%%tab all\n",
    "@d2l.add_to_class(MTFraEng)  #@save\n",
    "def _tokenize(self, text, max_examples=None):\n",
    "    src, tgt = [], []\n",
    "    for i, line in enumerate(text.split('\\n')):\n",
    "        if max_examples and i > max_examples: break\n",
    "        parts = line.split('\\t')\n",
    "        if len(parts) == 2:\n",
    "            # Skip empty tokens\n",
    "            src.append([t for t in f'{parts[0]} <eos>'.split(' ') if t])\n",
    "            tgt.append([t for t in f'{parts[1]} <eos>'.split(' ') if t])\n",
    "    return src, tgt"
   ]
  },
  {
   "cell_type": "code",
   "execution_count": null,
   "id": "44134bb0",
   "metadata": {},
   "outputs": [],
   "source": [
    "%%tab all\n",
    "src, tgt = data._tokenize(text)\n",
    "src[:6], tgt[:6]"
   ]
  },
  {
   "cell_type": "markdown",
   "id": "475971a7",
   "metadata": {},
   "source": [
    "Let's [**plot the histogram of the number of tokens per text sequence.**]\n",
    "In this simple English--French dataset,\n",
    "most of the text sequences have fewer than 20 tokens."
   ]
  },
  {
   "cell_type": "code",
   "execution_count": 8,
   "id": "1875707e",
   "metadata": {
    "attributes": {
     "classes": [],
     "id": "",
     "n": "8"
    }
   },
   "outputs": [],
   "source": [
    "%%tab all\n",
    "#@save\n",
    "def show_list_len_pair_hist(legend, xlabel, ylabel, xlist, ylist):\n",
    "    \"\"\"Plot the histogram for list length pairs.\"\"\"\n",
    "    d2l.set_figsize()\n",
    "    _, _, patches = d2l.plt.hist(\n",
    "        [[len(l) for l in xlist], [len(l) for l in ylist]])\n",
    "    d2l.plt.xlabel(xlabel)\n",
    "    d2l.plt.ylabel(ylabel)\n",
    "    for patch in patches[1].patches:\n",
    "        patch.set_hatch('/')\n",
    "    d2l.plt.legend(legend)"
   ]
  },
  {
   "cell_type": "code",
   "execution_count": null,
   "id": "3d4b12af",
   "metadata": {},
   "outputs": [],
   "source": [
    "%%tab all\n",
    "show_list_len_pair_hist(['source', 'target'], '# tokens per sequence',\n",
    "                        'count', src, tgt);"
   ]
  },
  {
   "cell_type": "markdown",
   "id": "a560b3fc",
   "metadata": {},
   "source": [
    "## Loading Sequences of Fixed Length\n",
    ":label:`subsec_loading-seq-fixed-len`\n",
    "\n",
    "Recall that in language modeling\n",
    "[**each example sequence**],\n",
    "either a segment of one sentence\n",
    "or a span over multiple sentences,\n",
    "(**had a fixed length.**)\n",
    "This was specified by the `num_steps`\n",
    "(number of time steps or tokens) argument from :numref:`sec_language-model`.\n",
    "In machine translation, each example is\n",
    "a pair of source and target text sequences,\n",
    "where the two text sequences may have different lengths.\n",
    "\n",
    "For computational efficiency,\n",
    "we can still process a minibatch of text sequences\n",
    "at one time by *truncation* and *padding*.\n",
    "Suppose that every sequence in the same minibatch\n",
    "should have the same length `num_steps`.\n",
    "If a text sequence has fewer than `num_steps` tokens,\n",
    "we will keep appending the special \"&lt;pad&gt;\" token\n",
    "to its end until its length reaches `num_steps`.\n",
    "Otherwise, we will truncate the text sequence\n",
    "by only taking its first `num_steps` tokens\n",
    "and discarding the remaining.\n",
    "In this way, every text sequence\n",
    "will have the same length\n",
    "to be loaded in minibatches of the same shape.\n",
    "Furthermore, we also record length of the source sequence excluding padding tokens.\n",
    "This information will be needed by some models that we will cover later.\n",
    "\n",
    "\n",
    "Since the machine translation dataset\n",
    "consists of pairs of languages,\n",
    "we can build two vocabularies for\n",
    "both the source language and\n",
    "the target language separately.\n",
    "With word-level tokenization,\n",
    "the vocabulary size will be significantly larger\n",
    "than that using character-level tokenization.\n",
    "To alleviate this,\n",
    "here we treat infrequent tokens\n",
    "that appear less than twice\n",
    "as the same unknown (\"&lt;unk&gt;\") token.\n",
    "As we will explain later (:numref:`fig_seq2seq`),\n",
    "when training with target sequences,\n",
    "the decoder output (label tokens)\n",
    "can be the same decoder input (target tokens),\n",
    "shifted by one token;\n",
    "and the special beginning-of-sequence \"&lt;bos&gt;\" token\n",
    "will be used as the first input token\n",
    "for predicting the target sequence (:numref:`fig_seq2seq_predict`)."
   ]
  },
  {
   "cell_type": "code",
   "execution_count": 9,
   "id": "efe8831a",
   "metadata": {
    "attributes": {
     "classes": [],
     "id": "",
     "n": "9"
    }
   },
   "outputs": [],
   "source": [
    "%%tab all\n",
    "@d2l.add_to_class(MTFraEng)  #@save\n",
    "def __init__(self, batch_size, num_steps=9, num_train=512, num_val=128):\n",
    "    super(MTFraEng, self).__init__()\n",
    "    self.save_hyperparameters()\n",
    "    self.arrays, self.src_vocab, self.tgt_vocab = self._build_arrays(\n",
    "        self._download())"
   ]
  },
  {
   "cell_type": "code",
   "execution_count": null,
   "id": "82c4663d",
   "metadata": {},
   "outputs": [],
   "source": [
    "%%tab all\n",
    "@d2l.add_to_class(MTFraEng)  #@save\n",
    "def _build_arrays(self, raw_text, src_vocab=None, tgt_vocab=None):\n",
    "    def _build_array(sentences, vocab, is_tgt=False):\n",
    "        pad_or_trim = lambda seq, t: (\n",
    "            seq[:t] if len(seq) > t else seq + ['<pad>'] * (t - len(seq)))\n",
    "        sentences = [pad_or_trim(s, self.num_steps) for s in sentences]\n",
    "        if is_tgt:\n",
    "            sentences = [['<bos>'] + s for s in sentences]\n",
    "        if vocab is None:\n",
    "            vocab = d2l.Vocab(sentences, min_freq=2)\n",
    "        array = d2l.tensor([vocab[s] for s in sentences])\n",
    "        valid_len = d2l.reduce_sum(\n",
    "            d2l.astype(array != vocab['<pad>'], d2l.int32), 1)\n",
    "        return array, vocab, valid_len\n",
    "    src, tgt = self._tokenize(self._preprocess(raw_text), \n",
    "                              self.num_train + self.num_val)\n",
    "    src_array, src_vocab, src_valid_len = _build_array(src, src_vocab)\n",
    "    tgt_array, tgt_vocab, _ = _build_array(tgt, tgt_vocab, True)\n",
    "    return ((src_array, tgt_array[:,:-1], src_valid_len, tgt_array[:,1:]),\n",
    "            src_vocab, tgt_vocab)"
   ]
  },
  {
   "cell_type": "markdown",
   "id": "998a9d70",
   "metadata": {},
   "source": [
    "## [**Reading the Dataset**]\n",
    "\n",
    "Finally, we define the `get_dataloader` method\n",
    "to return the data iterator."
   ]
  },
  {
   "cell_type": "code",
   "execution_count": 10,
   "id": "4fada7d7",
   "metadata": {
    "attributes": {
     "classes": [],
     "id": "",
     "n": "10"
    }
   },
   "outputs": [],
   "source": [
    "%%tab all\n",
    "@d2l.add_to_class(MTFraEng)  #@save\n",
    "def get_dataloader(self, train):\n",
    "    idx = slice(0, self.num_train) if train else slice(self.num_train, None)\n",
    "    return self.get_tensorloader(self.arrays, train, idx)"
   ]
  },
  {
   "cell_type": "markdown",
   "id": "446429d7",
   "metadata": {},
   "source": [
    "Let's [**read the first minibatch from the English--French dataset.**]"
   ]
  },
  {
   "cell_type": "code",
   "execution_count": 11,
   "id": "8ab96a88",
   "metadata": {
    "attributes": {
     "classes": [],
     "id": "",
     "n": "11"
    }
   },
   "outputs": [],
   "source": [
    "%%tab all\n",
    "data = MTFraEng(batch_size=3)\n",
    "src, tgt, src_valid_len, label = next(iter(data.train_dataloader()))\n",
    "print('source:', d2l.astype(src, d2l.int32))\n",
    "print('decoder input:', d2l.astype(tgt, d2l.int32))\n",
    "print('source len excluding pad:', d2l.astype(src_valid_len, d2l.int32))\n",
    "print('label:', d2l.astype(label, d2l.int32))"
   ]
  },
  {
   "cell_type": "markdown",
   "id": "8f0c0da3",
   "metadata": {},
   "source": [
    "We show a pair of source and target sequences\n",
    "processed by the above `_build_arrays` method\n",
    "(in the string format)."
   ]
  },
  {
   "cell_type": "code",
   "execution_count": 12,
   "id": "d34694d3",
   "metadata": {
    "attributes": {
     "classes": [],
     "id": "",
     "n": "12"
    }
   },
   "outputs": [],
   "source": [
    "%%tab all\n",
    "@d2l.add_to_class(MTFraEng)  #@save\n",
    "def build(self, src_sentences, tgt_sentences):\n",
    "    raw_text = '\\n'.join([src + '\\t' + tgt for src, tgt in zip(\n",
    "        src_sentences, tgt_sentences)])\n",
    "    arrays, _, _ = self._build_arrays(\n",
    "        raw_text, self.src_vocab, self.tgt_vocab)\n",
    "    return arrays"
   ]
  },
  {
   "cell_type": "code",
   "execution_count": 13,
   "id": "ec7c42b4",
   "metadata": {
    "attributes": {
     "classes": [],
     "id": "",
     "n": "13"
    }
   },
   "outputs": [],
   "source": [
    "%%tab all\n",
    "src, tgt, _,  _ = data.build(['hi .'], ['salut .'])\n",
    "print('source:', data.src_vocab.to_tokens(d2l.astype(src[0], d2l.int32)))\n",
    "print('target:', data.tgt_vocab.to_tokens(d2l.astype(tgt[0], d2l.int32)))"
   ]
  },
  {
   "cell_type": "markdown",
   "id": "ccb8303c",
   "metadata": {},
   "source": [
    "## Summary\n",
    "\n",
    "In natural language processing, *machine translation* refers to the task of automatically mapping from a sequence representing a string of text in a *source* language to a string representing a plausible translation in a *target* language. Using word-level tokenization, the vocabulary size will be significantly larger than that using character-level tokenization, but the sequence lengths will be much shorter. To mitigate the large vocabulary size, we can treat infrequent tokens as some \"unknown\" token. We can truncate and pad text sequences so that all of them will have the same length to be loaded in minibatches. Modern implementations often bucket sequences with similar lengths to avoid wasting excessive computation on padding. \n",
    "\n",
    "\n",
    "## Exercises\n",
    "\n",
    "1. Try different values of the `max_examples` argument in the `_tokenize` method. How does this affect the vocabulary sizes of the source language and the target language?\n",
    "1. Text in some languages such as Chinese and Japanese does not have word boundary indicators (e.g., space). Is word-level tokenization still a good idea for such cases? Why or why not?\n",
    "\n",
    ":begin_tab:`mxnet`\n",
    "[Discussions](https://discuss.d2l.ai/t/344)\n",
    ":end_tab:\n",
    "\n",
    ":begin_tab:`pytorch`\n",
    "[Discussions](https://discuss.d2l.ai/t/1060)\n",
    ":end_tab:\n",
    "\n",
    ":begin_tab:`tensorflow`\n",
    "[Discussions](https://discuss.d2l.ai/t/3863)\n",
    ":end_tab:\n",
    "\n",
    ":begin_tab:`jax`\n",
    "[Discussions](https://discuss.d2l.ai/t/18020)\n",
    ":end_tab:"
   ]
  }
 ],
 "metadata": {},
 "nbformat": 4,
 "nbformat_minor": 5
}
