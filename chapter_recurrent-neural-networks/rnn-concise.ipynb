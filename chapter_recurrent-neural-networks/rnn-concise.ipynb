{
 "cells": [
  {
   "cell_type": "markdown",
   "id": "03963e59",
   "metadata": {},
   "source": [
    "# Concise Implementation of Recurrent Neural Networks\n",
    ":label:`sec_rnn-concise`\n",
    "\n",
    "Like most of our from-scratch implementations,\n",
    ":numref:`sec_rnn-scratch` was designed \n",
    "to provide insight into how each component works.\n",
    "But when you are using RNNs every day \n",
    "or writing production code,\n",
    "you will want to rely more on libraries\n",
    "that cut down on both implementation time \n",
    "(by supplying library code for common models and functions)\n",
    "and computation time \n",
    "(by optimizing the heck out of these library implementations).\n",
    "This section will show you how to implement \n",
    "the same language model more efficiently\n",
    "using the high-level API provided \n",
    "by your deep learning framework.\n",
    "We begin, as before, by loading \n",
    "*The Time Machine* dataset."
   ]
  },
  {
   "cell_type": "code",
   "execution_count": null,
   "id": "41a11899",
   "metadata": {},
   "outputs": [],
   "source": [
    "%load_ext d2lbook.tab\n",
    "tab.interact_select('mxnet', 'pytorch', 'tensorflow', 'jax')"
   ]
  },
  {
   "cell_type": "code",
   "execution_count": null,
   "id": "33b88342",
   "metadata": {},
   "outputs": [],
   "source": [
    "%%tab mxnet\n",
    "from d2l import mxnet as d2l\n",
    "from mxnet import np, npx\n",
    "from mxnet.gluon import nn, rnn\n",
    "npx.set_np()"
   ]
  },
  {
   "cell_type": "code",
   "execution_count": null,
   "id": "7d841de7",
   "metadata": {},
   "outputs": [],
   "source": [
    "%%tab pytorch\n",
    "from d2l import torch as d2l\n",
    "import torch\n",
    "from torch import nn\n",
    "from torch.nn import functional as F"
   ]
  },
  {
   "cell_type": "code",
   "execution_count": null,
   "id": "a7a54267",
   "metadata": {},
   "outputs": [],
   "source": [
    "%%tab tensorflow\n",
    "from d2l import tensorflow as d2l\n",
    "import tensorflow as tf"
   ]
  },
  {
   "cell_type": "code",
   "execution_count": null,
   "id": "dd06ea50",
   "metadata": {},
   "outputs": [],
   "source": [
    "%%tab jax\n",
    "from d2l import jax as d2l\n",
    "from flax import linen as nn\n",
    "from jax import numpy as jnp"
   ]
  },
  {
   "cell_type": "markdown",
   "id": "2acbc67c",
   "metadata": {},
   "source": [
    "## [**Defining the Model**]\n",
    "\n",
    "We define the following class\n",
    "using the RNN implemented\n",
    "by high-level APIs.\n",
    "\n",
    ":begin_tab:`mxnet`\n",
    "Specifically, to initialize the hidden state,\n",
    "we invoke the member method `begin_state`.\n",
    "This returns a list that contains\n",
    "an initial hidden state\n",
    "for each example in the minibatch,\n",
    "whose shape is\n",
    "(number of hidden layers, batch size, number of hidden units).\n",
    "For some models to be introduced later\n",
    "(e.g., long short-term memory),\n",
    "this list will also contain other information.\n",
    ":end_tab:\n",
    "\n",
    ":begin_tab:`jax`\n",
    "Flax does not provide an RNNCell for concise implementation of Vanilla RNNs\n",
    "as of today. There are more advanced variants of RNNs like LSTMs and GRUs\n",
    "which are available in the Flax `linen` API.\n",
    ":end_tab:"
   ]
  },
  {
   "cell_type": "code",
   "execution_count": null,
   "id": "2c17ac49",
   "metadata": {},
   "outputs": [],
   "source": [
    "%%tab mxnet\n",
    "class RNN(d2l.Module):  #@save\n",
    "    \"\"\"The RNN model implemented with high-level APIs.\"\"\"\n",
    "    def __init__(self, num_hiddens):\n",
    "        super().__init__()\n",
    "        self.save_hyperparameters()        \n",
    "        self.rnn = rnn.RNN(num_hiddens)\n",
    "        \n",
    "    def forward(self, inputs, H=None):\n",
    "        if H is None:\n",
    "            H, = self.rnn.begin_state(inputs.shape[1], ctx=inputs.ctx)\n",
    "        outputs, (H, ) = self.rnn(inputs, (H, ))\n",
    "        return outputs, H"
   ]
  },
  {
   "cell_type": "code",
   "execution_count": null,
   "id": "28b6e45d",
   "metadata": {},
   "outputs": [],
   "source": [
    "%%tab pytorch\n",
    "class RNN(d2l.Module):  #@save\n",
    "    \"\"\"The RNN model implemented with high-level APIs.\"\"\"\n",
    "    def __init__(self, num_inputs, num_hiddens):\n",
    "        super().__init__()\n",
    "        self.save_hyperparameters()\n",
    "        self.rnn = nn.RNN(num_inputs, num_hiddens)\n",
    "        \n",
    "    def forward(self, inputs, H=None):\n",
    "        return self.rnn(inputs, H)"
   ]
  },
  {
   "cell_type": "code",
   "execution_count": null,
   "id": "88021e4c",
   "metadata": {},
   "outputs": [],
   "source": [
    "%%tab tensorflow\n",
    "class RNN(d2l.Module):  #@save\n",
    "    \"\"\"The RNN model implemented with high-level APIs.\"\"\"\n",
    "    def __init__(self, num_hiddens):\n",
    "        super().__init__()\n",
    "        self.save_hyperparameters()            \n",
    "        self.rnn = tf.keras.layers.SimpleRNN(\n",
    "            num_hiddens, return_sequences=True, return_state=True,\n",
    "            time_major=True)\n",
    "        \n",
    "    def forward(self, inputs, H=None):\n",
    "        outputs, H = self.rnn(inputs, H)\n",
    "        return outputs, H"
   ]
  },
  {
   "cell_type": "code",
   "execution_count": null,
   "id": "0d2f5b32",
   "metadata": {},
   "outputs": [],
   "source": [
    "%%tab jax\n",
    "class RNN(nn.Module):  #@save\n",
    "    \"\"\"The RNN model implemented with high-level APIs.\"\"\"\n",
    "    num_hiddens: int\n",
    "\n",
    "    @nn.compact\n",
    "    def __call__(self, inputs, H=None):\n",
    "        raise NotImplementedError"
   ]
  },
  {
   "cell_type": "markdown",
   "id": "d06e72b6",
   "metadata": {},
   "source": [
    "Inheriting from the `RNNLMScratch` class in :numref:`sec_rnn-scratch`, \n",
    "the following `RNNLM` class defines a complete RNN-based language model.\n",
    "Note that we need to create a separate fully connected output layer."
   ]
  },
  {
   "cell_type": "code",
   "execution_count": null,
   "id": "657036cf",
   "metadata": {},
   "outputs": [],
   "source": [
    "%%tab pytorch\n",
    "class RNNLM(d2l.RNNLMScratch):  #@save\n",
    "    \"\"\"The RNN-based language model implemented with high-level APIs.\"\"\"\n",
    "    def init_params(self):\n",
    "        self.linear = nn.LazyLinear(self.vocab_size)\n",
    "        \n",
    "    def output_layer(self, hiddens):\n",
    "        return d2l.swapaxes(self.linear(hiddens), 0, 1)"
   ]
  },
  {
   "cell_type": "code",
   "execution_count": null,
   "id": "409467f6",
   "metadata": {},
   "outputs": [],
   "source": [
    "%%tab mxnet, tensorflow\n",
    "class RNNLM(d2l.RNNLMScratch):  #@save\n",
    "    \"\"\"The RNN-based language model implemented with high-level APIs.\"\"\"\n",
    "    def init_params(self):\n",
    "        if tab.selected('mxnet'):\n",
    "            self.linear = nn.Dense(self.vocab_size, flatten=False)\n",
    "            self.initialize()\n",
    "        if tab.selected('tensorflow'):\n",
    "            self.linear = tf.keras.layers.Dense(self.vocab_size)\n",
    "        \n",
    "    def output_layer(self, hiddens):\n",
    "        if tab.selected('mxnet'):\n",
    "            return d2l.swapaxes(self.linear(hiddens), 0, 1)        \n",
    "        if tab.selected('tensorflow'):\n",
    "            return d2l.transpose(self.linear(hiddens), (1, 0, 2))"
   ]
  },
  {
   "cell_type": "code",
   "execution_count": null,
   "id": "fd12eab8",
   "metadata": {},
   "outputs": [],
   "source": [
    "%%tab jax\n",
    "class RNNLM(d2l.RNNLMScratch):  #@save\n",
    "    \"\"\"The RNN-based language model implemented with high-level APIs.\"\"\"\n",
    "    training: bool = True\n",
    "\n",
    "    def setup(self):\n",
    "        self.linear = nn.Dense(self.vocab_size)\n",
    "\n",
    "    def output_layer(self, hiddens):\n",
    "        return d2l.swapaxes(self.linear(hiddens), 0, 1)\n",
    "\n",
    "    def forward(self, X, state=None):\n",
    "        embs = self.one_hot(X)\n",
    "        rnn_outputs, _ = self.rnn(embs, state, self.training)\n",
    "        return self.output_layer(rnn_outputs)"
   ]
  },
  {
   "cell_type": "markdown",
   "id": "0e75507e",
   "metadata": {},
   "source": [
    "## Training and Predicting\n",
    "\n",
    "Before training the model, let's [**make a prediction \n",
    "with a model initialized with random weights.**]\n",
    "Given that we have not trained the network, \n",
    "it will generate nonsensical predictions."
   ]
  },
  {
   "cell_type": "code",
   "execution_count": null,
   "id": "22bb9582",
   "metadata": {},
   "outputs": [],
   "source": [
    "%%tab pytorch, mxnet, tensorflow\n",
    "data = d2l.TimeMachine(batch_size=1024, num_steps=32)\n",
    "if tab.selected('mxnet', 'tensorflow'):\n",
    "    rnn = RNN(num_hiddens=32)\n",
    "if tab.selected('pytorch'):\n",
    "    rnn = RNN(num_inputs=len(data.vocab), num_hiddens=32)\n",
    "model = RNNLM(rnn, vocab_size=len(data.vocab), lr=1)\n",
    "model.predict('it has', 20, data.vocab)"
   ]
  },
  {
   "cell_type": "markdown",
   "id": "bbebbb46",
   "metadata": {},
   "source": [
    "Next, we [**train our model, leveraging the high-level API**]."
   ]
  },
  {
   "cell_type": "code",
   "execution_count": null,
   "id": "d2fa636c",
   "metadata": {},
   "outputs": [],
   "source": [
    "%%tab pytorch, mxnet, tensorflow\n",
    "if tab.selected('mxnet', 'pytorch'):\n",
    "    trainer = d2l.Trainer(max_epochs=100, gradient_clip_val=1, num_gpus=1)\n",
    "if tab.selected('tensorflow'):\n",
    "    with d2l.try_gpu():\n",
    "        trainer = d2l.Trainer(max_epochs=100, gradient_clip_val=1)\n",
    "trainer.fit(model, data)"
   ]
  },
  {
   "cell_type": "markdown",
   "id": "1763ae42",
   "metadata": {},
   "source": [
    "Compared with :numref:`sec_rnn-scratch`,\n",
    "this model achieves comparable perplexity,\n",
    "but runs faster due to the optimized implementations.\n",
    "As before, we can generate predicted tokens \n",
    "following the specified prefix string."
   ]
  },
  {
   "cell_type": "code",
   "execution_count": null,
   "id": "5bca232c",
   "metadata": {},
   "outputs": [],
   "source": [
    "%%tab mxnet, pytorch\n",
    "model.predict('it has', 20, data.vocab, d2l.try_gpu())"
   ]
  },
  {
   "cell_type": "code",
   "execution_count": null,
   "id": "8991f1bd",
   "metadata": {},
   "outputs": [],
   "source": [
    "%%tab tensorflow\n",
    "model.predict('it has', 20, data.vocab)"
   ]
  },
  {
   "cell_type": "markdown",
   "id": "4c849004",
   "metadata": {},
   "source": [
    "## Summary\n",
    "\n",
    "High-level APIs in deep learning frameworks provide implementations of standard RNNs.\n",
    "These libraries help you to avoid wasting time reimplementing standard models.\n",
    "Moreover,\n",
    "framework implementations are often highly optimized, \n",
    "  leading to significant (computational) performance gains \n",
    "  when compared with implementations from scratch.\n",
    "\n",
    "## Exercises\n",
    "\n",
    "1. Can you make the RNN model overfit using the high-level APIs?\n",
    "1. Implement the autoregressive model of :numref:`sec_sequence` using an RNN.\n",
    "\n",
    ":begin_tab:`mxnet`\n",
    "[Discussions](https://discuss.d2l.ai/t/335)\n",
    ":end_tab:\n",
    "\n",
    ":begin_tab:`pytorch`\n",
    "[Discussions](https://discuss.d2l.ai/t/1053)\n",
    ":end_tab:\n",
    "\n",
    ":begin_tab:`tensorflow`\n",
    "[Discussions](https://discuss.d2l.ai/t/2211)\n",
    ":end_tab:\n",
    "\n",
    ":begin_tab:`jax`\n",
    "[Discussions](https://discuss.d2l.ai/t/18015)\n",
    ":end_tab:"
   ]
  }
 ],
 "metadata": {},
 "nbformat": 4,
 "nbformat_minor": 5
}
