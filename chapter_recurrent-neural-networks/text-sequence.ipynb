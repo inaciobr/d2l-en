{
 "cells": [
  {
   "cell_type": "markdown",
   "id": "cae95d1d",
   "metadata": {},
   "source": [
    "# Converting Raw Text into Sequence Data\n",
    ":label:`sec_text-sequence`\n",
    "\n",
    "Throughout this book,\n",
    "we will often work with text data\n",
    "represented as sequences\n",
    "of words, characters, or word pieces.\n",
    "To get going, we will need some basic\n",
    "tools for converting raw text\n",
    "into sequences of the appropriate form.\n",
    "Typical preprocessing pipelines\n",
    "execute the following steps:\n",
    "\n",
    "1. Load text as strings into memory.\n",
    "1. Split the strings into tokens (e.g., words or characters).\n",
    "1. Build a vocabulary dictionary to associate each vocabulary element with a numerical index.\n",
    "1. Convert the text into sequences of numerical indices."
   ]
  },
  {
   "cell_type": "code",
   "execution_count": 1,
   "id": "b5318e72",
   "metadata": {
    "attributes": {
     "classes": [],
     "id": "",
     "n": "1"
    }
   },
   "outputs": [],
   "source": [
    "%load_ext d2lbook.tab\n",
    "tab.interact_select(['mxnet', 'pytorch', 'tensorflow', 'jax'])"
   ]
  },
  {
   "cell_type": "code",
   "execution_count": 2,
   "id": "f1561629",
   "metadata": {
    "attributes": {
     "classes": [],
     "id": "",
     "n": "2"
    }
   },
   "outputs": [],
   "source": [
    "%%tab mxnet\n",
    "import collections\n",
    "import re\n",
    "from d2l import mxnet as d2l\n",
    "from mxnet import np, npx\n",
    "import random\n",
    "npx.set_np()"
   ]
  },
  {
   "cell_type": "code",
   "execution_count": 3,
   "id": "11ef7329",
   "metadata": {
    "attributes": {
     "classes": [],
     "id": "",
     "n": "3"
    }
   },
   "outputs": [],
   "source": [
    "%%tab pytorch\n",
    "import collections\n",
    "import re\n",
    "from d2l import torch as d2l\n",
    "import torch\n",
    "import random"
   ]
  },
  {
   "cell_type": "code",
   "execution_count": 4,
   "id": "f40d3b99",
   "metadata": {
    "attributes": {
     "classes": [],
     "id": "",
     "n": "4"
    }
   },
   "outputs": [],
   "source": [
    "%%tab tensorflow\n",
    "import collections\n",
    "import re\n",
    "from d2l import tensorflow as d2l\n",
    "import tensorflow as tf\n",
    "import random"
   ]
  },
  {
   "cell_type": "code",
   "execution_count": null,
   "id": "077dac62",
   "metadata": {},
   "outputs": [],
   "source": [
    "%%tab jax\n",
    "import collections\n",
    "from d2l import jax as d2l\n",
    "import jax\n",
    "from jax import numpy as jnp\n",
    "import random\n",
    "import re"
   ]
  },
  {
   "cell_type": "markdown",
   "id": "760e5e7f",
   "metadata": {},
   "source": [
    "## Reading the Dataset\n",
    "\n",
    "Here, we will work with H. G. Wells'\n",
    "[The Time Machine](http://www.gutenberg.org/ebooks/35),\n",
    "a book containing just over 30,000 words.\n",
    "While real applications will typically\n",
    "involve significantly larger datasets,\n",
    "this is sufficient to demonstrate\n",
    "the preprocessing pipeline.\n",
    "The following `_download` method\n",
    "(**reads the raw text into a string**)."
   ]
  },
  {
   "cell_type": "code",
   "execution_count": 5,
   "id": "79a434e5",
   "metadata": {
    "attributes": {
     "classes": [],
     "id": "",
     "n": "5"
    }
   },
   "outputs": [],
   "source": [
    "%%tab all\n",
    "class TimeMachine(d2l.DataModule): #@save\n",
    "    \"\"\"The Time Machine dataset.\"\"\"\n",
    "    def _download(self):\n",
    "        fname = d2l.download(d2l.DATA_URL + 'timemachine.txt', self.root,\n",
    "                             '090b5e7e70c295757f55df93cb0a180b9691891a')\n",
    "        with open(fname) as f:\n",
    "            return f.read()\n",
    "\n",
    "data = TimeMachine()\n",
    "raw_text = data._download()\n",
    "raw_text[:60]"
   ]
  },
  {
   "cell_type": "markdown",
   "id": "c3bc0732",
   "metadata": {},
   "source": [
    "For simplicity, we ignore punctuation and capitalization when preprocessing the raw text."
   ]
  },
  {
   "cell_type": "code",
   "execution_count": 6,
   "id": "593ac6ba",
   "metadata": {
    "attributes": {
     "classes": [],
     "id": "",
     "n": "6"
    }
   },
   "outputs": [],
   "source": [
    "%%tab all\n",
    "@d2l.add_to_class(TimeMachine)  #@save\n",
    "def _preprocess(self, text):\n",
    "    return re.sub('[^A-Za-z]+', ' ', text).lower()\n",
    "\n",
    "text = data._preprocess(raw_text)\n",
    "text[:60]"
   ]
  },
  {
   "cell_type": "markdown",
   "id": "34c8cebe",
   "metadata": {},
   "source": [
    "## Tokenization\n",
    "\n",
    "*Tokens* are the atomic (indivisible) units of text.\n",
    "Each time step corresponds to 1 token,\n",
    "but what precisely constitutes a token is a design choice.\n",
    "For example, we could represent the sentence\n",
    "\"Baby needs a new pair of shoes\"\n",
    "as a sequence of 7 words,\n",
    "where the set of all words comprise\n",
    "a large vocabulary (typically tens\n",
    "or hundreds of thousands of words).\n",
    "Or we would represent the same sentence\n",
    "as a much longer sequence of 30 characters,\n",
    "using a much smaller vocabulary\n",
    "(there are only 256 distinct ASCII characters).\n",
    "Below, we tokenize our preprocessed text\n",
    "into a sequence of characters."
   ]
  },
  {
   "cell_type": "code",
   "execution_count": 7,
   "id": "5c926479",
   "metadata": {
    "attributes": {
     "classes": [],
     "id": "",
     "n": "7"
    }
   },
   "outputs": [],
   "source": [
    "%%tab all\n",
    "@d2l.add_to_class(TimeMachine)  #@save\n",
    "def _tokenize(self, text):\n",
    "    return list(text)\n",
    "\n",
    "tokens = data._tokenize(text)\n",
    "','.join(tokens[:30])"
   ]
  },
  {
   "cell_type": "markdown",
   "id": "14e1bd2e",
   "metadata": {},
   "source": [
    "## Vocabulary\n",
    "\n",
    "These tokens are still strings.\n",
    "However, the inputs to our models\n",
    "must ultimately consist\n",
    "of numerical inputs.\n",
    "[**Next, we introduce a class\n",
    "for constructing *vocabularies*,\n",
    "i.e., objects that associate\n",
    "each distinct token value\n",
    "with a unique index.**]\n",
    "First, we determine the set of unique tokens in our training *corpus*.\n",
    "We then assign a numerical index to each unique token.\n",
    "Rare vocabulary elements are often dropped for convenience.\n",
    "Whenever we encounter a token at training or test time\n",
    "that had not been previously seen or was dropped from the vocabulary,\n",
    "we represent it by a special \"&lt;unk&gt;\" token,\n",
    "signifying that this is an *unknown* value."
   ]
  },
  {
   "cell_type": "code",
   "execution_count": 8,
   "id": "85554752",
   "metadata": {
    "attributes": {
     "classes": [],
     "id": "",
     "n": "8"
    }
   },
   "outputs": [],
   "source": [
    "%%tab all\n",
    "class Vocab:  #@save\n",
    "    \"\"\"Vocabulary for text.\"\"\"\n",
    "    def __init__(self, tokens=[], min_freq=0, reserved_tokens=[]):\n",
    "        # Flatten a 2D list if needed\n",
    "        if tokens and isinstance(tokens[0], list):\n",
    "            tokens = [token for line in tokens for token in line]\n",
    "        # Count token frequencies\n",
    "        counter = collections.Counter(tokens)\n",
    "        self.token_freqs = sorted(counter.items(), key=lambda x: x[1],\n",
    "                                  reverse=True)\n",
    "        # The list of unique tokens\n",
    "        self.idx_to_token = list(sorted(set(['<unk>'] + reserved_tokens + [\n",
    "            token for token, freq in self.token_freqs if freq >= min_freq])))\n",
    "        self.token_to_idx = {token: idx\n",
    "                             for idx, token in enumerate(self.idx_to_token)}\n",
    "\n",
    "    def __len__(self):\n",
    "        return len(self.idx_to_token)\n",
    "\n",
    "    def __getitem__(self, tokens):\n",
    "        if not isinstance(tokens, (list, tuple)):\n",
    "            return self.token_to_idx.get(tokens, self.unk)\n",
    "        return [self.__getitem__(token) for token in tokens]\n",
    "\n",
    "    def to_tokens(self, indices):\n",
    "        if hasattr(indices, '__len__') and len(indices) > 1:\n",
    "            return [self.idx_to_token[int(index)] for index in indices]\n",
    "        return self.idx_to_token[indices]\n",
    "\n",
    "    @property\n",
    "    def unk(self):  # Index for the unknown token\n",
    "        return self.token_to_idx['<unk>']"
   ]
  },
  {
   "cell_type": "markdown",
   "id": "2be43b9c",
   "metadata": {},
   "source": [
    "We now [**construct a vocabulary**] for our dataset,\n",
    "converting the sequence of strings\n",
    "into a list of numerical indices.\n",
    "Note that we have not lost any information\n",
    "and can easily convert our dataset\n",
    "back to its original (string) representation."
   ]
  },
  {
   "cell_type": "code",
   "execution_count": 9,
   "id": "3a899dfa",
   "metadata": {
    "attributes": {
     "classes": [],
     "id": "",
     "n": "9"
    }
   },
   "outputs": [],
   "source": [
    "%%tab all\n",
    "vocab = Vocab(tokens)\n",
    "indices = vocab[tokens[:10]]\n",
    "print('indices:', indices)\n",
    "print('words:', vocab.to_tokens(indices))"
   ]
  },
  {
   "cell_type": "markdown",
   "id": "c678fafc",
   "metadata": {},
   "source": [
    "## Putting It All Together\n",
    "\n",
    "Using the above classes and methods,\n",
    "we [**package everything into the following\n",
    "`build` method of the `TimeMachine` class**],\n",
    "which returns `corpus`, a list of token indices, and `vocab`,\n",
    "the vocabulary of *The Time Machine* corpus.\n",
    "The modifications we did here are:\n",
    "(i) we tokenize text into characters, not words,\n",
    "to simplify the training in later sections;\n",
    "(ii) `corpus` is a single list, not a list of token lists,\n",
    "since each text line in *The Time Machine* dataset\n",
    "is not necessarily a sentence or paragraph."
   ]
  },
  {
   "cell_type": "code",
   "execution_count": 10,
   "id": "c7078596",
   "metadata": {
    "attributes": {
     "classes": [],
     "id": "",
     "n": "10"
    }
   },
   "outputs": [],
   "source": [
    "%%tab all\n",
    "@d2l.add_to_class(TimeMachine)  #@save\n",
    "def build(self, raw_text, vocab=None):\n",
    "    tokens = self._tokenize(self._preprocess(raw_text))\n",
    "    if vocab is None: vocab = Vocab(tokens)\n",
    "    corpus = [vocab[token] for token in tokens]\n",
    "    return corpus, vocab\n",
    "\n",
    "corpus, vocab = data.build(raw_text)\n",
    "len(corpus), len(vocab)"
   ]
  },
  {
   "cell_type": "markdown",
   "id": "806a0145",
   "metadata": {},
   "source": [
    "## Exploratory Language Statistics\n",
    ":label:`subsec_natural-lang-stat`\n",
    "\n",
    "Using the real corpus and the `Vocab` class defined over words,\n",
    "we can inspect basic statistics concerning word use in our corpus.\n",
    "Below, we construct a vocabulary from words used in *The Time Machine*\n",
    "and print the ten most frequently occurring of them."
   ]
  },
  {
   "cell_type": "code",
   "execution_count": 11,
   "id": "de7e01c6",
   "metadata": {
    "attributes": {
     "classes": [],
     "id": "",
     "n": "11"
    }
   },
   "outputs": [],
   "source": [
    "%%tab all\n",
    "words = text.split()\n",
    "vocab = Vocab(words)\n",
    "vocab.token_freqs[:10]"
   ]
  },
  {
   "cell_type": "markdown",
   "id": "05a311c7",
   "metadata": {},
   "source": [
    "Note that (**the ten most frequent words**)\n",
    "are not all that descriptive.\n",
    "You might even imagine that\n",
    "we might see a very similar list\n",
    "if we had chosen any book at random.\n",
    "Articles like \"the\" and \"a\",\n",
    "pronouns like \"i\" and \"my\",\n",
    "and prepositions like \"of\", \"to\", and \"in\"\n",
    "occur often because they serve common syntactic roles.\n",
    "Such words that are common but not particularly descriptive\n",
    "are often called (***stop words***) and,\n",
    "in previous generations of text classifiers\n",
    "based on so-called bag-of-words representations,\n",
    "they were most often filtered out.\n",
    "However, they carry meaning and\n",
    "it is not necessary to filter them out\n",
    "when working with modern RNN- and\n",
    "Transformer-based neural models.\n",
    "If you look further down the list,\n",
    "you will notice\n",
    "that word frequency decays quickly.\n",
    "The $10^{\\textrm{th}}$ most frequent word\n",
    "is less than $1/5$ as common as the most popular.\n",
    "Word frequency tends to follow a power law distribution\n",
    "(specifically the Zipfian) as we go down the ranks.\n",
    "To get a better idea, we [**plot the figure of the word frequency**]."
   ]
  },
  {
   "cell_type": "code",
   "execution_count": 12,
   "id": "6f2437ec",
   "metadata": {
    "attributes": {
     "classes": [],
     "id": "",
     "n": "12"
    }
   },
   "outputs": [],
   "source": [
    "%%tab all\n",
    "freqs = [freq for token, freq in vocab.token_freqs]\n",
    "d2l.plot(freqs, xlabel='token: x', ylabel='frequency: n(x)',\n",
    "         xscale='log', yscale='log')"
   ]
  },
  {
   "cell_type": "markdown",
   "id": "8104dcd1",
   "metadata": {},
   "source": [
    "After dealing with the first few words as exceptions,\n",
    "all the remaining words roughly follow a straight line on a log--log plot.\n",
    "This phenomenon is captured by *Zipf's law*,\n",
    "which states that the frequency $n_i$\n",
    "of the $i^\\textrm{th}$ most frequent word is:\n",
    "\n",
    "$$n_i \\propto \\frac{1}{i^\\alpha},$$\n",
    ":eqlabel:`eq_zipf_law`\n",
    "\n",
    "which is equivalent to\n",
    "\n",
    "$$\\log n_i = -\\alpha \\log i + c,$$\n",
    "\n",
    "where $\\alpha$ is the exponent that characterizes\n",
    "the distribution and $c$ is a constant.\n",
    "This should already give us pause for thought if we want\n",
    "to model words by counting statistics.\n",
    "After all, we will significantly overestimate the frequency of the tail, also known as the infrequent words. But [**what about the other word combinations, such as two consecutive words (bigrams), three consecutive words (trigrams)**], and beyond?\n",
    "Let's see whether the bigram frequency behaves in the same manner as the single word (unigram) frequency."
   ]
  },
  {
   "cell_type": "code",
   "execution_count": 13,
   "id": "c5078a24",
   "metadata": {
    "attributes": {
     "classes": [],
     "id": "",
     "n": "13"
    }
   },
   "outputs": [],
   "source": [
    "%%tab all\n",
    "bigram_tokens = ['--'.join(pair) for pair in zip(words[:-1], words[1:])]\n",
    "bigram_vocab = Vocab(bigram_tokens)\n",
    "bigram_vocab.token_freqs[:10]"
   ]
  },
  {
   "cell_type": "markdown",
   "id": "b5c395bf",
   "metadata": {},
   "source": [
    "One thing is notable here. Out of the ten most frequent word pairs, nine are composed of both stop words and only one is relevant to the actual book---\"the time\". Furthermore, let's see whether the trigram frequency behaves in the same manner."
   ]
  },
  {
   "cell_type": "code",
   "execution_count": 14,
   "id": "8df7fdb3",
   "metadata": {
    "attributes": {
     "classes": [],
     "id": "",
     "n": "14"
    }
   },
   "outputs": [],
   "source": [
    "%%tab all\n",
    "trigram_tokens = ['--'.join(triple) for triple in zip(\n",
    "    words[:-2], words[1:-1], words[2:])]\n",
    "trigram_vocab = Vocab(trigram_tokens)\n",
    "trigram_vocab.token_freqs[:10]"
   ]
  },
  {
   "cell_type": "markdown",
   "id": "418b0eaa",
   "metadata": {},
   "source": [
    "Now, let's [**visualize the token frequency**] among these three models: unigrams, bigrams, and trigrams."
   ]
  },
  {
   "cell_type": "code",
   "execution_count": 15,
   "id": "12f66472",
   "metadata": {
    "attributes": {
     "classes": [],
     "id": "",
     "n": "15"
    }
   },
   "outputs": [],
   "source": [
    "%%tab all\n",
    "bigram_freqs = [freq for token, freq in bigram_vocab.token_freqs]\n",
    "trigram_freqs = [freq for token, freq in trigram_vocab.token_freqs]\n",
    "d2l.plot([freqs, bigram_freqs, trigram_freqs], xlabel='token: x',\n",
    "         ylabel='frequency: n(x)', xscale='log', yscale='log',\n",
    "         legend=['unigram', 'bigram', 'trigram'])"
   ]
  },
  {
   "cell_type": "markdown",
   "id": "04188d4e",
   "metadata": {},
   "source": [
    "This figure is quite exciting.\n",
    "First, beyond unigram words, sequences of words\n",
    "also appear to be following Zipf's law,\n",
    "albeit with a smaller exponent\n",
    "$\\alpha$ in :eqref:`eq_zipf_law`,\n",
    "depending on the sequence length.\n",
    "Second, the number of distinct $n$-grams is not that large.\n",
    "This gives us hope that there is quite a lot of structure in language.\n",
    "Third, many $n$-grams occur very rarely.\n",
    "This makes certain methods unsuitable for language modeling\n",
    "and motivates the use of deep learning models.\n",
    "We will discuss this in the next section.\n",
    "\n",
    "\n",
    "## Summary\n",
    "\n",
    "Text is among the most common forms of sequence data encountered in deep learning.\n",
    "Common choices for what constitutes a token are characters, words, and word pieces.\n",
    "To preprocess text, we usually (i) split text into tokens; (ii) build a vocabulary to map token strings to numerical indices; and (iii) convert text data into token indices for models to manipulate.\n",
    "In practice, the frequency of words tends to follow Zipf's law. This is true not just for individual words (unigrams), but also for $n$-grams.\n",
    "\n",
    "\n",
    "## Exercises\n",
    "\n",
    "1. In the experiment of this section, tokenize text into words and vary the `min_freq` argument value of the `Vocab` instance. Qualitatively characterize how changes in `min_freq` impact the size of the resulting vocabulary.\n",
    "1. Estimate the exponent of Zipfian distribution for unigrams, bigrams, and trigrams in this corpus.\n",
    "1. Find some other sources of data (download a standard machine learning dataset, pick another public domain book,\n",
    "   scrape a website, etc). For each, tokenize the data at both the word and character levels. How do the vocabulary sizes compare with *The Time Machine* corpus at equivalent values of `min_freq`. Estimate the exponent of the Zipfian distribution corresponding to the unigram and bigram distributions for these corpora. How do they compare with the values that you observed for *The Time Machine* corpus?\n",
    "\n",
    ":begin_tab:`mxnet`\n",
    "[Discussions](https://discuss.d2l.ai/t/117)\n",
    ":end_tab:\n",
    "\n",
    ":begin_tab:`pytorch`\n",
    "[Discussions](https://discuss.d2l.ai/t/118)\n",
    ":end_tab:\n",
    "\n",
    ":begin_tab:`tensorflow`\n",
    "[Discussions](https://discuss.d2l.ai/t/1049)\n",
    ":end_tab:\n",
    "\n",
    ":begin_tab:`jax`\n",
    "[Discussions](https://discuss.d2l.ai/t/18011)\n",
    ":end_tab:"
   ]
  }
 ],
 "metadata": {},
 "nbformat": 4,
 "nbformat_minor": 5
}
