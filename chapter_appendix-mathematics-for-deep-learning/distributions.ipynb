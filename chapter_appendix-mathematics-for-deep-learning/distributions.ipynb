{
 "cells": [
  {
   "cell_type": "markdown",
   "id": "5356e102",
   "metadata": {},
   "source": [
    "# Distributions\n",
    ":label:`sec_distributions`\n",
    "\n",
    "Now that we have learned how to work with probability in both the discrete and the continuous setting, let's get to know some of the common distributions encountered.  Depending on the area of machine learning, we may need to be familiar with vastly more of these, or for some areas of deep learning potentially none at all.  This is, however, a good basic list to be familiar with.  Let's first import some common libraries."
   ]
  },
  {
   "cell_type": "code",
   "execution_count": 3,
   "id": "90182ae4-89ea-48eb-8591-871c5218f03f",
   "metadata": {
    "tags": []
   },
   "outputs": [],
   "source": [
    "# from d2l import torch as d2l"
   ]
  },
  {
   "cell_type": "code",
   "execution_count": 32,
   "id": "a23ca0c7-1cfd-4d9d-bf53-61119a93f46a",
   "metadata": {},
   "outputs": [],
   "source": [
    "from IPython import display\n",
    "from math import erf, factorial\n",
    "\n",
    "import matplotlib.pyplot as plt\n",
    "\n",
    "import torch\n",
    "\n",
    "plt.rcParams['figure.figsize'] = (3.5, 2.5)\n",
    "\n",
    "%matplotlib inline"
   ]
  },
  {
   "cell_type": "markdown",
   "id": "d0ec157d",
   "metadata": {},
   "source": [
    "## Bernoulli\n",
    "\n",
    "This is the simplest random variable usually encountered.  **This random variable encodes a coin flip which comes up $1$ with probability $p$ and $0$ with probability $1-p$**.  If we have a random variable $X$ with this distribution, we will write\n",
    "\n",
    "$$\n",
    "X \\sim \\textrm{Bernoulli}(p).\n",
    "$$\n",
    "\n",
    "The cumulative distribution function is \n",
    "\n",
    "$$F(x) = \\begin{cases} 0 & x < 0, \\\\ 1-p & 0 \\le x < 1, \\\\ 1 & x >= 1 . \\end{cases}$$\n",
    ":eqlabel:`eq_bernoulli_cdf`\n",
    "\n",
    "The probability mass function is plotted below."
   ]
  },
  {
   "cell_type": "code",
   "execution_count": 37,
   "id": "1c4e1b75",
   "metadata": {},
   "outputs": [
    {
     "data": {
      "image/png": "[encoded data removed]",
      "text/plain": [
       "<Figure size 350x250 with 1 Axes>"
      ]
     },
     "metadata": {},
     "output_type": "display_data"
    }
   ],
   "source": [
    "p = 0.3\n",
    "\n",
    "plt.stem([0, 1], [1 - p, p])\n",
    "plt.xlabel('x')\n",
    "plt.ylabel('p.m.f.')\n",
    "plt.show()"
   ]
  },
  {
   "cell_type": "markdown",
   "id": "14421719",
   "metadata": {},
   "source": [
    "Now, let's plot the cumulative distribution function :eqref:`eq_bernoulli_cdf`."
   ]
  },
  {
   "cell_type": "code",
   "execution_count": 54,
   "id": "5a709f87",
   "metadata": {},
   "outputs": [
    {
     "data": {
      "image/png": "[encoded data removed]",
      "text/plain": [
       "<Figure size 350x250 with 1 Axes>"
      ]
     },
     "metadata": {},
     "output_type": "display_data"
    }
   ],
   "source": [
    "x = torch.arange(-1, 2, 0.01)\n",
    "\n",
    "def F(x):\n",
    "    return 0 if x < 0 else 1 if x >= 1 else 1 - p\n",
    "\n",
    "plt.plot(x, torch.tensor([F(y) for y in x]))\n",
    "plt.xlabel('x')\n",
    "plt.ylabel('c.d.f.')\n",
    "plt.show()"
   ]
  },
  {
   "cell_type": "markdown",
   "id": "382d2c60",
   "metadata": {},
   "source": [
    "If $X \\sim \\textrm{Bernoulli}(p)$, then:\n",
    "\n",
    "* $\\mu_X = p$,\n",
    "* $\\sigma_X^2 = p(1-p)$.\n",
    "\n",
    "We can sample an array of arbitrary shape from a Bernoulli random variable as follows."
   ]
  },
  {
   "cell_type": "code",
   "execution_count": 53,
   "id": "0a0ebd04",
   "metadata": {},
   "outputs": [
    {
     "data": {
      "text/plain": [
       "tensor([[0, 0, 1, 1, 1, 0, 1, 0, 1, 0],\n",
       "        [0, 0, 1, 1, 1, 1, 0, 0, 0, 1],\n",
       "        [1, 0, 0, 0, 1, 1, 0, 0, 0, 1],\n",
       "        [0, 0, 0, 0, 0, 0, 0, 0, 0, 1],\n",
       "        [1, 0, 0, 1, 0, 1, 1, 1, 0, 0],\n",
       "        [0, 0, 0, 0, 1, 1, 0, 0, 0, 1],\n",
       "        [0, 0, 0, 0, 0, 0, 1, 0, 0, 0],\n",
       "        [0, 0, 0, 0, 0, 0, 0, 1, 0, 0],\n",
       "        [1, 0, 0, 0, 1, 0, 1, 0, 0, 0],\n",
       "        [1, 0, 0, 0, 1, 0, 0, 1, 0, 0]], dtype=torch.uint8)"
      ]
     },
     "execution_count": 53,
     "metadata": {},
     "output_type": "execute_result"
    }
   ],
   "source": [
    "(torch.rand(10, 10) < p).byte()"
   ]
  },
  {
   "cell_type": "markdown",
   "id": "c65afd82",
   "metadata": {},
   "source": [
    "## Discrete Uniform\n",
    "\n",
    "The next commonly encountered random variable is a discrete uniform. For our discussion here, we will assume that it is supported on the integers $\\{1, 2, \\ldots, n\\}$, however any other set of values can be freely chosen.  **The meaning of the word *uniform* in this context is that every possible value is equally likely.  The probability for each value $i \\in \\{1, 2, 3, \\ldots, n\\}$ is $p_i = \\frac{1}{n}$.** We will denote a random variable $X$ with this distribution as\n",
    "\n",
    "$$\n",
    "X \\sim U(n).\n",
    "$$\n",
    "\n",
    "The cumulative distribution function is \n",
    "\n",
    "$$F(x) = \\begin{cases} 0 & x < 1, \\\\ \\frac{k}{n} & k \\le x < k+1 \\textrm{ with } 1 \\le k < n, \\\\ 1 & x >= n . \\end{cases}$$\n",
    ":eqlabel:`eq_discrete_uniform_cdf`\n",
    "\n",
    "Let's first plot the probability mass function."
   ]
  },
  {
   "cell_type": "code",
   "execution_count": 56,
   "id": "e4579645",
   "metadata": {},
   "outputs": [
    {
     "data": {
      "image/png": "[encoded data removed]",
      "text/plain": [
       "<Figure size 350x250 with 1 Axes>"
      ]
     },
     "metadata": {},
     "output_type": "display_data"
    }
   ],
   "source": [
    "n = 5\n",
    "\n",
    "plt.stem([i + 1 for i in range(n)], n*[1 / n])\n",
    "plt.xlabel('x')\n",
    "plt.ylabel('p.m.f.')\n",
    "plt.show()"
   ]
  },
  {
   "cell_type": "markdown",
   "id": "44d4a4f6",
   "metadata": {},
   "source": [
    "Now, let's plot the cumulative distribution function :eqref:`eq_discrete_uniform_cdf`."
   ]
  },
  {
   "cell_type": "code",
   "execution_count": 58,
   "id": "4411a656",
   "metadata": {},
   "outputs": [
    {
     "data": {
      "image/png": "[encoded data removed]",
      "text/plain": [
       "<Figure size 350x250 with 1 Axes>"
      ]
     },
     "metadata": {},
     "output_type": "display_data"
    }
   ],
   "source": [
    "x = torch.arange(-1, 6, 0.01)\n",
    "\n",
    "def F(x):\n",
    "    return 0 if x < 1 else 1 if x >= n else torch.floor(x) / n\n",
    "\n",
    "plt.plot(x, torch.tensor([F(y) for y in x]))\n",
    "plt.xlabel('x')\n",
    "plt.ylabel('c.d.f.')\n",
    "plt.show()"
   ]
  },
  {
   "cell_type": "markdown",
   "id": "721db6a5",
   "metadata": {},
   "source": [
    "If $X \\sim U(n)$, then:\n",
    "\n",
    "* $\\mu_X = \\frac{1+n}{2}$,\n",
    "* $\\sigma_X^2 = \\frac{n^2-1}{12}$.\n",
    "\n",
    "We can sample an array of arbitrary shape from a discrete uniform random variable as follows."
   ]
  },
  {
   "cell_type": "code",
   "execution_count": 59,
   "id": "0a126562",
   "metadata": {},
   "outputs": [
    {
     "data": {
      "text/plain": [
       "tensor([[2, 2, 1, 4, 1, 1, 1, 1, 2, 3],\n",
       "        [1, 3, 3, 4, 2, 4, 4, 2, 3, 2],\n",
       "        [4, 1, 1, 3, 3, 3, 3, 1, 2, 3],\n",
       "        [2, 4, 4, 1, 1, 4, 1, 1, 2, 1],\n",
       "        [4, 4, 1, 1, 4, 2, 2, 4, 1, 1],\n",
       "        [4, 2, 1, 3, 3, 1, 4, 4, 1, 4],\n",
       "        [2, 4, 3, 4, 1, 3, 2, 3, 1, 4],\n",
       "        [1, 1, 1, 3, 4, 1, 4, 3, 3, 1],\n",
       "        [1, 1, 3, 3, 2, 1, 2, 2, 4, 3],\n",
       "        [2, 2, 4, 1, 4, 1, 3, 3, 3, 3]])"
      ]
     },
     "execution_count": 59,
     "metadata": {},
     "output_type": "execute_result"
    }
   ],
   "source": [
    "torch.randint(1, n, size=(10, 10))"
   ]
  },
  {
   "cell_type": "markdown",
   "id": "b0ca3ab0",
   "metadata": {},
   "source": [
    "## Continuous Uniform\n",
    "\n",
    "Next, let's discuss the continuous uniform distribution. The idea behind this random variable is that if we increase the $n$ in the discrete uniform distribution, and then scale it to fit within the interval $[a, b]$, we will approach a continuous random variable that just picks an arbitrary value in $[a, b]$ all with equal probability.  We will denote this distribution as\n",
    "\n",
    "$$\n",
    "X \\sim U(a, b).\n",
    "$$\n",
    "\n",
    "The probability density function is \n",
    "\n",
    "$$p(x) = \\begin{cases} \\frac{1}{b-a} & x \\in [a, b], \\\\ 0 & x \\not\\in [a, b].\\end{cases}$$\n",
    ":eqlabel:`eq_cont_uniform_pdf`\n",
    "\n",
    "The cumulative distribution function is \n",
    "\n",
    "$$F(x) = \\begin{cases} 0 & x < a, \\\\ \\frac{x-a}{b-a} & x \\in [a, b], \\\\ 1 & x >= b . \\end{cases}$$\n",
    ":eqlabel:`eq_cont_uniform_cdf`\n",
    "\n",
    "Let's first plot the probability density function :eqref:`eq_cont_uniform_pdf`."
   ]
  },
  {
   "cell_type": "code",
   "execution_count": null,
   "id": "349e4e5c",
   "metadata": {},
   "outputs": [],
   "source": [
    "#@tab mxnet\n",
    "a, b = 1, 3\n",
    "\n",
    "x = np.arange(0, 4, 0.01)\n",
    "p = (x > a)*(x < b)/(b - a)\n",
    "\n",
    "d2l.plot(x, p, 'x', 'p.d.f.')"
   ]
  },
  {
   "cell_type": "code",
   "execution_count": null,
   "id": "d1ce8aa2",
   "metadata": {},
   "outputs": [],
   "source": [
    "#@tab pytorch\n",
    "a, b = 1, 3\n",
    "\n",
    "x = torch.arange(0, 4, 0.01)\n",
    "p = (x > a).type(torch.float32)*(x < b).type(torch.float32)/(b-a)\n",
    "d2l.plot(x, p, 'x', 'p.d.f.')"
   ]
  },
  {
   "cell_type": "code",
   "execution_count": null,
   "id": "6186e734",
   "metadata": {},
   "outputs": [],
   "source": [
    "#@tab tensorflow\n",
    "a, b = 1, 3\n",
    "\n",
    "x = tf.range(0, 4, 0.01)\n",
    "p = tf.cast(x > a, tf.float32) * tf.cast(x < b, tf.float32) / (b - a)\n",
    "d2l.plot(x, p, 'x', 'p.d.f.')"
   ]
  },
  {
   "cell_type": "markdown",
   "id": "b86867d7",
   "metadata": {},
   "source": [
    "Now, let's plot the cumulative distribution function :eqref:`eq_cont_uniform_cdf`."
   ]
  },
  {
   "cell_type": "code",
   "execution_count": null,
   "id": "a208ce6c",
   "metadata": {},
   "outputs": [],
   "source": [
    "#@tab mxnet\n",
    "def F(x):\n",
    "    return 0 if x < a else 1 if x > b else (x - a) / (b - a)\n",
    "\n",
    "d2l.plot(x, np.array([F(y) for y in x]), 'x', 'c.d.f.')"
   ]
  },
  {
   "cell_type": "code",
   "execution_count": null,
   "id": "5b50d75e",
   "metadata": {},
   "outputs": [],
   "source": [
    "#@tab pytorch\n",
    "def F(x):\n",
    "    return 0 if x < a else 1 if x > b else (x - a) / (b - a)\n",
    "\n",
    "d2l.plot(x, torch.tensor([F(y) for y in x]), 'x', 'c.d.f.')"
   ]
  },
  {
   "cell_type": "code",
   "execution_count": null,
   "id": "3bd286cd",
   "metadata": {},
   "outputs": [],
   "source": [
    "#@tab tensorflow\n",
    "def F(x):\n",
    "    return 0 if x < a else 1 if x > b else (x - a) / (b - a)\n",
    "\n",
    "d2l.plot(x, [F(y) for y in x], 'x', 'c.d.f.')"
   ]
  },
  {
   "cell_type": "markdown",
   "id": "1078ea1b",
   "metadata": {},
   "source": [
    "If $X \\sim U(a, b)$, then:\n",
    "\n",
    "* $\\mu_X = \\frac{a+b}{2}$,\n",
    "* $\\sigma_X^2 = \\frac{(b-a)^2}{12}$.\n",
    "\n",
    "We can sample an array of arbitrary shape from a uniform random variable as follows.  Note that it by default samples from a $U(0,1)$, so if we want a different range we need to scale it."
   ]
  },
  {
   "cell_type": "code",
   "execution_count": null,
   "id": "5278f4dd",
   "metadata": {},
   "outputs": [],
   "source": [
    "#@tab mxnet\n",
    "(b - a) * np.random.rand(10, 10) + a"
   ]
  },
  {
   "cell_type": "code",
   "execution_count": null,
   "id": "0540e507",
   "metadata": {},
   "outputs": [],
   "source": [
    "#@tab pytorch\n",
    "(b - a) * torch.rand(10, 10) + a"
   ]
  },
  {
   "cell_type": "code",
   "execution_count": null,
   "id": "93fd9f04",
   "metadata": {},
   "outputs": [],
   "source": [
    "#@tab tensorflow\n",
    "(b - a) * tf.random.uniform((10, 10)) + a"
   ]
  },
  {
   "cell_type": "markdown",
   "id": "244249f6",
   "metadata": {},
   "source": [
    "## Binomial\n",
    "\n",
    "Let's make things a little more complex and examine the *binomial* random variable.  This random variable originates from performing a sequence of $n$ independent experiments, each of which has probability $p$ of succeeding, and asking how many successes we expect to see.\n",
    "\n",
    "Let's express this mathematically.  Each experiment is an independent random variable $X_i$ where we will use $1$ to encode success, and $0$ to encode failure.  Since each is an independent coin flip which is successful with probability $p$, we can say that $X_i \\sim \\textrm{Bernoulli}(p)$.  Then, the binomial random variable is\n",
    "\n",
    "$$\n",
    "X = \\sum_{i=1}^n X_i.\n",
    "$$\n",
    "\n",
    "In this case, we will write\n",
    "\n",
    "$$\n",
    "X \\sim \\textrm{Binomial}(n, p).\n",
    "$$\n",
    "\n",
    "To get the cumulative distribution function, we need to notice that getting exactly $k$ successes can occur in $\\binom{n}{k} = \\frac{n!}{k!(n-k)!}$ ways each of which has a probability of $p^k(1-p)^{n-k}$ of occurring.  Thus the cumulative distribution function is\n",
    "\n",
    "$$F(x) = \\begin{cases} 0 & x < 0, \\\\ \\sum_{m \\le k} \\binom{n}{m} p^m(1-p)^{n-m}  & k \\le x < k+1 \\textrm{ with } 0 \\le k < n, \\\\ 1 & x >= n . \\end{cases}$$\n",
    ":eqlabel:`eq_binomial_cdf`\n",
    "\n",
    "Let's first plot the probability mass function."
   ]
  },
  {
   "cell_type": "code",
   "execution_count": null,
   "id": "64b93858",
   "metadata": {},
   "outputs": [],
   "source": [
    "#@tab mxnet\n",
    "n, p = 10, 0.2\n",
    "\n",
    "# Compute binomial coefficient\n",
    "def binom(n, k):\n",
    "    comb = 1\n",
    "    for i in range(min(k, n - k)):\n",
    "        comb = comb * (n - i) // (i + 1)\n",
    "    return comb\n",
    "\n",
    "pmf = np.array([p**i * (1-p)**(n - i) * binom(n, i) for i in range(n + 1)])\n",
    "\n",
    "d2l.plt.stem([i for i in range(n + 1)], pmf, use_line_collection=True)\n",
    "d2l.plt.xlabel('x')\n",
    "d2l.plt.ylabel('p.m.f.')\n",
    "d2l.plt.show()"
   ]
  },
  {
   "cell_type": "code",
   "execution_count": null,
   "id": "b38c1164",
   "metadata": {},
   "outputs": [],
   "source": [
    "#@tab pytorch\n",
    "n, p = 10, 0.2\n",
    "\n",
    "# Compute binomial coefficient\n",
    "def binom(n, k):\n",
    "    comb = 1\n",
    "    for i in range(min(k, n - k)):\n",
    "        comb = comb * (n - i) // (i + 1)\n",
    "    return comb\n",
    "\n",
    "pmf = d2l.tensor([p**i * (1-p)**(n - i) * binom(n, i) for i in range(n + 1)])\n",
    "\n",
    "d2l.plt.stem([i for i in range(n + 1)], pmf, use_line_collection=True)\n",
    "d2l.plt.xlabel('x')\n",
    "d2l.plt.ylabel('p.m.f.')\n",
    "d2l.plt.show()"
   ]
  },
  {
   "cell_type": "code",
   "execution_count": null,
   "id": "11234c1d",
   "metadata": {},
   "outputs": [],
   "source": [
    "#@tab tensorflow\n",
    "n, p = 10, 0.2\n",
    "\n",
    "# Compute binomial coefficient\n",
    "def binom(n, k):\n",
    "    comb = 1\n",
    "    for i in range(min(k, n - k)):\n",
    "        comb = comb * (n - i) // (i + 1)\n",
    "    return comb\n",
    "\n",
    "pmf = tf.constant([p**i * (1-p)**(n - i) * binom(n, i) for i in range(n + 1)])\n",
    "\n",
    "d2l.plt.stem([i for i in range(n + 1)], pmf, use_line_collection=True)\n",
    "d2l.plt.xlabel('x')\n",
    "d2l.plt.ylabel('p.m.f.')\n",
    "d2l.plt.show()"
   ]
  },
  {
   "cell_type": "markdown",
   "id": "9eb77002",
   "metadata": {},
   "source": [
    "Now, let's plot the cumulative distribution function :eqref:`eq_binomial_cdf`."
   ]
  },
  {
   "cell_type": "code",
   "execution_count": null,
   "id": "d1db8ee5",
   "metadata": {},
   "outputs": [],
   "source": [
    "#@tab mxnet\n",
    "x = np.arange(-1, 11, 0.01)\n",
    "cmf = np.cumsum(pmf)\n",
    "\n",
    "def F(x):\n",
    "    return 0 if x < 0 else 1 if x > n else cmf[int(x)]\n",
    "\n",
    "d2l.plot(x, np.array([F(y) for y in x.tolist()]), 'x', 'c.d.f.')"
   ]
  },
  {
   "cell_type": "code",
   "execution_count": null,
   "id": "3ed8f5d3",
   "metadata": {},
   "outputs": [],
   "source": [
    "#@tab pytorch\n",
    "x = torch.arange(-1, 11, 0.01)\n",
    "cmf = torch.cumsum(pmf, dim=0)\n",
    "\n",
    "def F(x):\n",
    "    return 0 if x < 0 else 1 if x > n else cmf[int(x)]\n",
    "\n",
    "d2l.plot(x, torch.tensor([F(y) for y in x.tolist()]), 'x', 'c.d.f.')"
   ]
  },
  {
   "cell_type": "code",
   "execution_count": null,
   "id": "9b1bfbf3",
   "metadata": {},
   "outputs": [],
   "source": [
    "#@tab tensorflow\n",
    "x = tf.range(-1, 11, 0.01)\n",
    "cmf = tf.cumsum(pmf)\n",
    "\n",
    "def F(x):\n",
    "    return 0 if x < 0 else 1 if x > n else cmf[int(x)]\n",
    "\n",
    "d2l.plot(x, [F(y) for y in x.numpy().tolist()], 'x', 'c.d.f.')"
   ]
  },
  {
   "cell_type": "markdown",
   "id": "e8512419",
   "metadata": {},
   "source": [
    "If $X \\sim \\textrm{Binomial}(n, p)$, then:\n",
    "\n",
    "* $\\mu_X = np$,\n",
    "* $\\sigma_X^2 = np(1-p)$.\n",
    "\n",
    "This follows from the linearity of expected value over the sum of $n$ Bernoulli random variables, and the fact that the variance of the sum of independent random variables is the sum of the variances. This can be sampled as follows."
   ]
  },
  {
   "cell_type": "code",
   "execution_count": null,
   "id": "bbba335f",
   "metadata": {},
   "outputs": [],
   "source": [
    "#@tab mxnet\n",
    "np.random.binomial(n, p, size=(10, 10))"
   ]
  },
  {
   "cell_type": "code",
   "execution_count": null,
   "id": "b83f3d21",
   "metadata": {},
   "outputs": [],
   "source": [
    "#@tab pytorch\n",
    "m = torch.distributions.binomial.Binomial(n, p)\n",
    "m.sample(sample_shape=(10, 10))"
   ]
  },
  {
   "cell_type": "code",
   "execution_count": null,
   "id": "45937bc7",
   "metadata": {},
   "outputs": [],
   "source": [
    "#@tab tensorflow\n",
    "m = tfp.distributions.Binomial(n, p)\n",
    "m.sample(sample_shape=(10, 10))"
   ]
  },
  {
   "cell_type": "markdown",
   "id": "77b2904f",
   "metadata": {},
   "source": [
    "## Poisson\n",
    "Let's now perform a thought experiment.  We are standing at a bus stop and we want to know how many buses will arrive in the next minute.  Let's start by considering $X^{(1)} \\sim \\textrm{Bernoulli}(p)$ which is simply the probability that a bus arrives in the one minute window.  For bus stops far from an urban center, this might be a pretty good approximation.  We may never see more than one bus in a minute.\n",
    "\n",
    "However, if we are in a busy area, it is possible or even likely that two buses will arrive.  We can model this by splitting our random variable into two parts for the first 30 seconds, or the second 30 seconds.  In this case we can write\n",
    "\n",
    "$$\n",
    "X^{(2)} \\sim X^{(2)}_1 + X^{(2)}_2,\n",
    "$$\n",
    "\n",
    "where $X^{(2)}$ is the total sum, and $X^{(2)}_i \\sim \\textrm{Bernoulli}(p/2)$.  The total distribution is then $X^{(2)} \\sim \\textrm{Binomial}(2, p/2)$.\n",
    "\n",
    "Why stop here?  Let's continue to split that minute into $n$ parts.  By the same reasoning as above, we see that\n",
    "\n",
    "$$X^{(n)} \\sim \\textrm{Binomial}(n, p/n).$$\n",
    ":eqlabel:`eq_eq_poisson_approx`\n",
    "\n",
    "Consider these random variables.  By the previous section, we know that :eqref:`eq_eq_poisson_approx` has mean $\\mu_{X^{(n)}} = n(p/n) = p$, and variance $\\sigma_{X^{(n)}}^2 = n(p/n)(1-(p/n)) = p(1-p/n)$.  If we take $n \\rightarrow \\infty$, we can see that these numbers stabilize to $\\mu_{X^{(\\infty)}} = p$, and variance $\\sigma_{X^{(\\infty)}}^2 = p$.  This indicates that there *could be* some random variable we can define in this infinite subdivision limit.  \n",
    "\n",
    "This should not come as too much of a surprise, since in the real world we can just count the number of bus arrivals, however it is nice to see that our mathematical model is well defined.  This discussion can be made formal as the *law of rare events*.\n",
    "\n",
    "Following through this reasoning carefully, we can arrive at the following model.  We will say that $X \\sim \\textrm{Poisson}(\\lambda)$ if it is a random variable which takes the values $\\{0,1,2, \\ldots\\}$ with probability\n",
    "\n",
    "$$p_k = \\frac{\\lambda^ke^{-\\lambda}}{k!}.$$\n",
    ":eqlabel:`eq_poisson_mass`\n",
    "\n",
    "The value $\\lambda > 0$ is known as the *rate* (or the *shape* parameter), and denotes the average number of arrivals we expect in one unit of time.  \n",
    "\n",
    "We may sum this probability mass function to get the cumulative distribution function.\n",
    "\n",
    "$$F(x) = \\begin{cases} 0 & x < 0, \\\\ e^{-\\lambda}\\sum_{m = 0}^k \\frac{\\lambda^m}{m!} & k \\le x < k+1 \\textrm{ with } 0 \\le k. \\end{cases}$$\n",
    ":eqlabel:`eq_poisson_cdf`\n",
    "\n",
    "Let's first plot the probability mass function :eqref:`eq_poisson_mass`."
   ]
  },
  {
   "cell_type": "code",
   "execution_count": null,
   "id": "f597ba22",
   "metadata": {},
   "outputs": [],
   "source": [
    "#@tab mxnet\n",
    "lam = 5.0\n",
    "\n",
    "xs = [i for i in range(20)]\n",
    "pmf = np.array([np.exp(-lam) * lam**k / factorial(k) for k in xs])\n",
    "\n",
    "d2l.plt.stem(xs, pmf, use_line_collection=True)\n",
    "d2l.plt.xlabel('x')\n",
    "d2l.plt.ylabel('p.m.f.')\n",
    "d2l.plt.show()"
   ]
  },
  {
   "cell_type": "code",
   "execution_count": null,
   "id": "a8b77d22",
   "metadata": {},
   "outputs": [],
   "source": [
    "#@tab pytorch\n",
    "lam = 5.0\n",
    "\n",
    "xs = [i for i in range(20)]\n",
    "pmf = torch.tensor([torch.exp(torch.tensor(-lam)) * lam**k\n",
    "                    / factorial(k) for k in xs])\n",
    "\n",
    "d2l.plt.stem(xs, pmf, use_line_collection=True)\n",
    "d2l.plt.xlabel('x')\n",
    "d2l.plt.ylabel('p.m.f.')\n",
    "d2l.plt.show()"
   ]
  },
  {
   "cell_type": "code",
   "execution_count": null,
   "id": "19ed27bd",
   "metadata": {},
   "outputs": [],
   "source": [
    "#@tab tensorflow\n",
    "lam = 5.0\n",
    "\n",
    "xs = [i for i in range(20)]\n",
    "pmf = tf.constant([tf.exp(tf.constant(-lam)).numpy() * lam**k\n",
    "                    / factorial(k) for k in xs])\n",
    "\n",
    "d2l.plt.stem(xs, pmf, use_line_collection=True)\n",
    "d2l.plt.xlabel('x')\n",
    "d2l.plt.ylabel('p.m.f.')\n",
    "d2l.plt.show()"
   ]
  },
  {
   "cell_type": "markdown",
   "id": "180226a1",
   "metadata": {},
   "source": [
    "Now, let's plot the cumulative distribution function :eqref:`eq_poisson_cdf`."
   ]
  },
  {
   "cell_type": "code",
   "execution_count": null,
   "id": "faef2c14",
   "metadata": {},
   "outputs": [],
   "source": [
    "#@tab mxnet\n",
    "x = np.arange(-1, 21, 0.01)\n",
    "cmf = np.cumsum(pmf)\n",
    "def F(x):\n",
    "    return 0 if x < 0 else 1 if x > n else cmf[int(x)]\n",
    "\n",
    "d2l.plot(x, np.array([F(y) for y in x.tolist()]), 'x', 'c.d.f.')"
   ]
  },
  {
   "cell_type": "code",
   "execution_count": null,
   "id": "bfc67117",
   "metadata": {},
   "outputs": [],
   "source": [
    "#@tab pytorch\n",
    "x = torch.arange(-1, 21, 0.01)\n",
    "cmf = torch.cumsum(pmf, dim=0)\n",
    "def F(x):\n",
    "    return 0 if x < 0 else 1 if x > n else cmf[int(x)]\n",
    "\n",
    "d2l.plot(x, torch.tensor([F(y) for y in x.tolist()]), 'x', 'c.d.f.')"
   ]
  },
  {
   "cell_type": "code",
   "execution_count": null,
   "id": "398ef6cc",
   "metadata": {},
   "outputs": [],
   "source": [
    "#@tab tensorflow\n",
    "x = tf.range(-1, 21, 0.01)\n",
    "cmf = tf.cumsum(pmf)\n",
    "def F(x):\n",
    "    return 0 if x < 0 else 1 if x > n else cmf[int(x)]\n",
    "\n",
    "d2l.plot(x, [F(y) for y in x.numpy().tolist()], 'x', 'c.d.f.')"
   ]
  },
  {
   "cell_type": "markdown",
   "id": "7b4ccd67",
   "metadata": {},
   "source": [
    "As we saw above, the means and variances are particularly concise.  If $X \\sim \\textrm{Poisson}(\\lambda)$, then:\n",
    "\n",
    "* $\\mu_X = \\lambda$,\n",
    "* $\\sigma_X^2 = \\lambda$.\n",
    "\n",
    "This can be sampled as follows."
   ]
  },
  {
   "cell_type": "code",
   "execution_count": null,
   "id": "25b4958d",
   "metadata": {},
   "outputs": [],
   "source": [
    "#@tab mxnet\n",
    "np.random.poisson(lam, size=(10, 10))"
   ]
  },
  {
   "cell_type": "code",
   "execution_count": null,
   "id": "9270fbce",
   "metadata": {},
   "outputs": [],
   "source": [
    "#@tab pytorch\n",
    "m = torch.distributions.poisson.Poisson(lam)\n",
    "m.sample((10, 10))"
   ]
  },
  {
   "cell_type": "code",
   "execution_count": null,
   "id": "f7c852b2",
   "metadata": {},
   "outputs": [],
   "source": [
    "#@tab tensorflow\n",
    "m = tfp.distributions.Poisson(lam)\n",
    "m.sample((10, 10))"
   ]
  },
  {
   "cell_type": "markdown",
   "id": "199dc0f4",
   "metadata": {},
   "source": [
    "## Gaussian\n",
    "Now Let's try a different, but related experiment.  Let's say we again are performing $n$ independent $\\textrm{Bernoulli}(p)$ measurements $X_i$.  The distribution of the sum of these is $X^{(n)} \\sim \\textrm{Binomial}(n, p)$.  Rather than taking a limit as $n$ increases and $p$ decreases, Let's fix $p$, and then send $n \\rightarrow \\infty$.  In this case $\\mu_{X^{(n)}} = np \\rightarrow \\infty$ and $\\sigma_{X^{(n)}}^2 = np(1-p) \\rightarrow \\infty$, so there is no reason to think this limit should be well defined.\n",
    "\n",
    "However, not all hope is lost!  Let's just make the mean and variance be well behaved by defining\n",
    "\n",
    "$$\n",
    "Y^{(n)} = \\frac{X^{(n)} - \\mu_{X^{(n)}}}{\\sigma_{X^{(n)}}}.\n",
    "$$\n",
    "\n",
    "This can be seen to have mean zero and variance one, and so it is plausible to believe that it will converge to some limiting distribution.  If we plot what these distributions look like, we will become even more convinced that it will work."
   ]
  },
  {
   "cell_type": "code",
   "execution_count": null,
   "id": "170aab4f",
   "metadata": {},
   "outputs": [],
   "source": [
    "#@tab mxnet\n",
    "p = 0.2\n",
    "ns = [1, 10, 100, 1000]\n",
    "d2l.plt.figure(figsize=(10, 3))\n",
    "for i in range(4):\n",
    "    n = ns[i]\n",
    "    pmf = np.array([p**i * (1-p)**(n-i) * binom(n, i) for i in range(n + 1)])\n",
    "    d2l.plt.subplot(1, 4, i + 1)\n",
    "    d2l.plt.stem([(i - n*p)/np.sqrt(n*p*(1 - p)) for i in range(n + 1)], pmf,\n",
    "                 use_line_collection=True)\n",
    "    d2l.plt.xlim([-4, 4])\n",
    "    d2l.plt.xlabel('x')\n",
    "    d2l.plt.ylabel('p.m.f.')\n",
    "    d2l.plt.title(\"n = {}\".format(n))\n",
    "d2l.plt.show()"
   ]
  },
  {
   "cell_type": "code",
   "execution_count": null,
   "id": "9db1791b",
   "metadata": {},
   "outputs": [],
   "source": [
    "#@tab pytorch\n",
    "p = 0.2\n",
    "ns = [1, 10, 100, 1000]\n",
    "d2l.plt.figure(figsize=(10, 3))\n",
    "for i in range(4):\n",
    "    n = ns[i]\n",
    "    pmf = torch.tensor([p**i * (1-p)**(n-i) * binom(n, i)\n",
    "                        for i in range(n + 1)])\n",
    "    d2l.plt.subplot(1, 4, i + 1)\n",
    "    d2l.plt.stem([(i - n*p)/torch.sqrt(torch.tensor(n*p*(1 - p)))\n",
    "                  for i in range(n + 1)], pmf,\n",
    "                 use_line_collection=True)\n",
    "    d2l.plt.xlim([-4, 4])\n",
    "    d2l.plt.xlabel('x')\n",
    "    d2l.plt.ylabel('p.m.f.')\n",
    "    d2l.plt.title(\"n = {}\".format(n))\n",
    "d2l.plt.show()"
   ]
  },
  {
   "cell_type": "code",
   "execution_count": null,
   "id": "07d916f3",
   "metadata": {},
   "outputs": [],
   "source": [
    "#@tab tensorflow\n",
    "p = 0.2\n",
    "ns = [1, 10, 100, 1000]\n",
    "d2l.plt.figure(figsize=(10, 3))\n",
    "for i in range(4):\n",
    "    n = ns[i]\n",
    "    pmf = tf.constant([p**i * (1-p)**(n-i) * binom(n, i)\n",
    "                        for i in range(n + 1)])\n",
    "    d2l.plt.subplot(1, 4, i + 1)\n",
    "    d2l.plt.stem([(i - n*p)/tf.sqrt(tf.constant(n*p*(1 - p)))\n",
    "                  for i in range(n + 1)], pmf,\n",
    "                 use_line_collection=True)\n",
    "    d2l.plt.xlim([-4, 4])\n",
    "    d2l.plt.xlabel('x')\n",
    "    d2l.plt.ylabel('p.m.f.')\n",
    "    d2l.plt.title(\"n = {}\".format(n))\n",
    "d2l.plt.show()"
   ]
  },
  {
   "cell_type": "markdown",
   "id": "2b8b4f27",
   "metadata": {},
   "source": [
    "One thing to note: compared to the Poisson case, we are now dividing by the standard deviation which means that we are squeezing the possible outcomes into smaller and smaller areas.  This is an indication that our limit will no longer be discrete, but rather continuous.\n",
    "\n",
    "A derivation of what occurs is beyond the scope of this document, but the *central limit theorem* states that as $n \\rightarrow \\infty$, this will yield the Gaussian Distribution (or sometimes normal distribution).  More explicitly, for any $a, b$:\n",
    "\n",
    "$$\n",
    "\\lim_{n \\rightarrow \\infty} P(Y^{(n)} \\in [a, b]) = P(\\mathcal{N}(0,1) \\in [a, b]),\n",
    "$$\n",
    "\n",
    "where we say a random variable is normally distributed with given mean $\\mu$ and variance $\\sigma^2$, written $X \\sim \\mathcal{N}(\\mu, \\sigma^2)$ if $X$ has density\n",
    "\n",
    "$$p_X(x) = \\frac{1}{\\sqrt{2\\pi\\sigma^2}}e^{-\\frac{(x-\\mu)^2}{2\\sigma^2}}.$$\n",
    ":eqlabel:`eq_gaussian_pdf`\n",
    "\n",
    "Let's first plot the probability density function :eqref:`eq_gaussian_pdf`."
   ]
  },
  {
   "cell_type": "code",
   "execution_count": null,
   "id": "2ad90f5f",
   "metadata": {},
   "outputs": [],
   "source": [
    "#@tab mxnet\n",
    "mu, sigma = 0, 1\n",
    "\n",
    "x = np.arange(-3, 3, 0.01)\n",
    "p = 1 / np.sqrt(2 * np.pi * sigma**2) * np.exp(-(x - mu)**2 / (2 * sigma**2))\n",
    "\n",
    "d2l.plot(x, p, 'x', 'p.d.f.')"
   ]
  },
  {
   "cell_type": "code",
   "execution_count": null,
   "id": "1f01f530",
   "metadata": {},
   "outputs": [],
   "source": [
    "#@tab pytorch\n",
    "mu, sigma = 0, 1\n",
    "\n",
    "x = torch.arange(-3, 3, 0.01)\n",
    "p = 1 / torch.sqrt(2 * torch.pi * sigma**2) * torch.exp(\n",
    "    -(x - mu)**2 / (2 * sigma**2))\n",
    "\n",
    "d2l.plot(x, p, 'x', 'p.d.f.')"
   ]
  },
  {
   "cell_type": "code",
   "execution_count": null,
   "id": "2977ebf5",
   "metadata": {},
   "outputs": [],
   "source": [
    "#@tab tensorflow\n",
    "mu, sigma = 0, 1\n",
    "\n",
    "x = tf.range(-3, 3, 0.01)\n",
    "p = 1 / tf.sqrt(2 * tf.pi * sigma**2) * tf.exp(\n",
    "    -(x - mu)**2 / (2 * sigma**2))\n",
    "\n",
    "d2l.plot(x, p, 'x', 'p.d.f.')"
   ]
  },
  {
   "cell_type": "markdown",
   "id": "a3a4ca85",
   "metadata": {},
   "source": [
    "Now, let's plot the cumulative distribution function.  It is beyond the scope of this appendix, but the Gaussian c.d.f. does not have a closed-form formula in terms of more elementary functions.  We will use `erf` which provides a way to compute this integral numerically."
   ]
  },
  {
   "cell_type": "code",
   "execution_count": null,
   "id": "ded975e5",
   "metadata": {},
   "outputs": [],
   "source": [
    "#@tab mxnet\n",
    "def phi(x):\n",
    "    return (1.0 + erf((x - mu) / (sigma * np.sqrt(2)))) / 2.0\n",
    "\n",
    "d2l.plot(x, np.array([phi(y) for y in x.tolist()]), 'x', 'c.d.f.')"
   ]
  },
  {
   "cell_type": "code",
   "execution_count": null,
   "id": "a7d2bad3",
   "metadata": {},
   "outputs": [],
   "source": [
    "#@tab pytorch\n",
    "def phi(x):\n",
    "    return (1.0 + erf((x - mu) / (sigma * torch.sqrt(d2l.tensor(2.))))) / 2.0\n",
    "\n",
    "d2l.plot(x, torch.tensor([phi(y) for y in x.tolist()]), 'x', 'c.d.f.')"
   ]
  },
  {
   "cell_type": "code",
   "execution_count": null,
   "id": "be0312bb",
   "metadata": {},
   "outputs": [],
   "source": [
    "#@tab tensorflow\n",
    "def phi(x):\n",
    "    return (1.0 + erf((x - mu) / (sigma * tf.sqrt(tf.constant(2.))))) / 2.0\n",
    "\n",
    "d2l.plot(x, [phi(y) for y in x.numpy().tolist()], 'x', 'c.d.f.')"
   ]
  },
  {
   "cell_type": "markdown",
   "id": "2cd79561",
   "metadata": {},
   "source": [
    "Keen-eyed readers will recognize some of these terms.  Indeed, we encountered this integral in :numref:`sec_integral_calculus`.  Indeed we need exactly that computation to see that this $p_X(x)$ has total area one and is thus a valid density.\n",
    "\n",
    "Our choice of working with coin flips made computations shorter, but nothing about that choice was fundamental.  Indeed, if we take any collection of independent identically distributed random variables $X_i$, and form\n",
    "\n",
    "$$\n",
    "X^{(N)} = \\sum_{i=1}^N X_i.\n",
    "$$\n",
    "\n",
    "Then\n",
    "\n",
    "$$\n",
    "\\frac{X^{(N)} - \\mu_{X^{(N)}}}{\\sigma_{X^{(N)}}}\n",
    "$$\n",
    "\n",
    "will be approximately Gaussian.  There are additional requirements needed to make it work, most commonly $E[X^4] < \\infty$, but the philosophy is clear.\n",
    "\n",
    "The central limit theorem is the reason why the Gaussian is fundamental to probability, statistics, and machine learning.  Whenever we can say that something we measured is a sum of many small independent contributions, we can assume that the thing being measured will be close to Gaussian.  \n",
    "\n",
    "There are many more fascinating properties of Gaussians, and we would like to discuss one more here.  The Gaussian is what is known as a *maximum entropy distribution*.  We will get into entropy more deeply in :numref:`sec_information_theory`, however all we need to know at this point is that it is a measure of randomness.  In a rigorous mathematical sense, we can think of the Gaussian as the *most* random choice of random variable with fixed mean and variance.  Thus, if we know that our random variable has some mean and variance, the Gaussian is in a sense the most conservative choice of distribution we can make.\n",
    "\n",
    "To close the section, let's recall that if $X \\sim \\mathcal{N}(\\mu, \\sigma^2)$, then:\n",
    "\n",
    "* $\\mu_X = \\mu$,\n",
    "* $\\sigma_X^2 = \\sigma^2$.\n",
    "\n",
    "We can sample from the Gaussian (or standard normal) distribution as shown below."
   ]
  },
  {
   "cell_type": "code",
   "execution_count": null,
   "id": "787c4935",
   "metadata": {},
   "outputs": [],
   "source": [
    "#@tab mxnet\n",
    "np.random.normal(mu, sigma, size=(10, 10))"
   ]
  },
  {
   "cell_type": "code",
   "execution_count": null,
   "id": "73d7f6ce",
   "metadata": {},
   "outputs": [],
   "source": [
    "#@tab pytorch\n",
    "torch.normal(mu, sigma, size=(10, 10))"
   ]
  },
  {
   "cell_type": "code",
   "execution_count": null,
   "id": "388bb4da",
   "metadata": {},
   "outputs": [],
   "source": [
    "#@tab tensorflow\n",
    "tf.random.normal((10, 10), mu, sigma)"
   ]
  },
  {
   "cell_type": "markdown",
   "id": "f20346a5",
   "metadata": {},
   "source": [
    "## Exponential Family\n",
    ":label:`subsec_exponential_family`\n",
    "\n",
    "One shared property for all the distributions listed above is that they all \n",
    "belong to which is known as the *exponential family*. The exponential family \n",
    "is a set of distributions whose density can be expressed in the following \n",
    "form:\n",
    "\n",
    "$$p(\\mathbf{x} \\mid \\boldsymbol{\\eta}) = h(\\mathbf{x}) \\cdot \\exp \\left( \\boldsymbol{\\eta}^{\\top} \\cdot T(\\mathbf{x}) - A(\\boldsymbol{\\eta}) \\right)$$\n",
    ":eqlabel:`eq_exp_pdf`\n",
    "\n",
    "As this definition can be a little subtle, let's examine it closely.  \n",
    "\n",
    "First, $h(\\mathbf{x})$ is known as the *underlying measure* or the \n",
    "*base measure*.  This can be viewed as an original choice of measure we are \n",
    "modifying with our exponential weight.  \n",
    "\n",
    "Second, we have the vector $\\boldsymbol{\\eta} = (\\eta_1, \\eta_2, ..., \\eta_l) \\in\n",
    "\\mathbb{R}^l$ called the *natural parameters* or *canonical parameters*.  These\n",
    "define how the base measure will be modified.  The natural parameters enter \n",
    "into the new measure by taking the dot product of these parameters against \n",
    "some function $T(\\cdot)$ of $\\mathbf{x}= (x_1, x_2, ..., x_n) \\in\n",
    "\\mathbb{R}^n$ and exponentiated. The vector $T(\\mathbf{x})= (T_1(\\mathbf{x}),\n",
    "T_2(\\mathbf{x}), ..., T_l(\\mathbf{x}))$ \n",
    "is called the *sufficient statistics* for $\\boldsymbol{\\eta}$. This name is used since the \n",
    "information represented by $T(\\mathbf{x})$ is sufficient to calculate the \n",
    "probability density and no other information from the sample $\\mathbf{x}$'s \n",
    "are required.\n",
    "\n",
    "Third, we have $A(\\boldsymbol{\\eta})$, which is referred to as the *cumulant \n",
    "function*, which ensures that the above distribution :eqref:`eq_exp_pdf` \n",
    "integrates to one, i.e.,\n",
    "\n",
    "$$A(\\boldsymbol{\\eta})  = \\log \\left[\\int h(\\mathbf{x}) \\cdot \\exp\n",
    "\\left(\\boldsymbol{\\eta}^{\\top} \\cdot T(\\mathbf{x}) \\right) d\\mathbf{x} \\right].$$\n",
    "\n",
    "To be concrete, let's consider the Gaussian. Assuming that $\\mathbf{x}$ is \n",
    "an univariate variable, we saw that it had a density of\n",
    "\n",
    "$$\n",
    "\\begin{aligned}\n",
    "p(x \\mid \\mu, \\sigma) &= \\frac{1}{\\sqrt{2 \\pi \\sigma^2}} \\cdot \\exp \n",
    "\\left\\{ \\frac{-(x-\\mu)^2}{2 \\sigma^2} \\right\\} \\\\\n",
    "&= \\frac{1}{\\sqrt{2 \\pi}} \\cdot \\exp \\left\\{ \\frac{\\mu}{\\sigma^2}x\n",
    "-\\frac{1}{2 \\sigma^2} x^2 - \\left( \\frac{1}{2 \\sigma^2} \\mu^2\n",
    "+\\log(\\sigma) \\right) \\right\\}.\n",
    "\\end{aligned}\n",
    "$$\n",
    "\n",
    "This matches the definition of the exponential family with:\n",
    "\n",
    "* *underlying measure*: $h(x) = \\frac{1}{\\sqrt{2 \\pi}}$,\n",
    "* *natural parameters*: $\\boldsymbol{\\eta} = \\begin{bmatrix} \\eta_1 \\\\ \\eta_2\n",
    "\\end{bmatrix} = \\begin{bmatrix} \\frac{\\mu}{\\sigma^2} \\\\\n",
    "\\frac{1}{2 \\sigma^2} \\end{bmatrix}$,\n",
    "* *sufficient statistics*: $T(x) = \\begin{bmatrix}x\\\\-x^2\\end{bmatrix}$, and\n",
    "* *cumulant function*: $A({\\boldsymbol\\eta}) = \\frac{1}{2 \\sigma^2} \\mu^2 + \\log(\\sigma)\n",
    "= \\frac{\\eta_1^2}{4 \\eta_2} - \\frac{1}{2}\\log(2 \\eta_2)$.\n",
    "\n",
    "It is worth noting that the exact choice of each of above terms is somewhat \n",
    "arbitrary.  Indeed, the important feature is that the distribution can be \n",
    "expressed in this form, not the exact form itself.\n",
    "\n",
    "As we allude to in :numref:`subsec_softmax_and_derivatives`, a widely used \n",
    "technique is to assume that the  final output $\\mathbf{y}$ follows an \n",
    "exponential family distribution. The exponential family is a common and \n",
    "powerful family of distributions encountered frequently in machine learning.\n",
    "\n",
    "\n",
    "## Summary\n",
    "* Bernoulli random variables can be used to model events with a yes/no outcome.\n",
    "* Discrete uniform distributions model selects from a finite set of possibilities.\n",
    "* Continuous uniform distributions select from an interval.\n",
    "* Binomial distributions model a series of Bernoulli random variables, and count the number of successes.\n",
    "* Poisson random variables model the arrival of rare events.\n",
    "* Gaussian random variables model the result of adding a large number of independent random variables together.\n",
    "* All the above distributions belong to exponential family.\n",
    "\n",
    "## Exercises\n",
    "\n",
    "1. What is the standard deviation of a random variable that is the difference $X-Y$ of two independent binomial random variables $X, Y \\sim \\textrm{Binomial}(16, 1/2)$.\n",
    "2. If we take a Poisson random variable $X \\sim \\textrm{Poisson}(\\lambda)$ and consider $(X - \\lambda)/\\sqrt{\\lambda}$ as $\\lambda \\rightarrow \\infty$, we can show that this becomes approximately Gaussian.  Why does this make sense?\n",
    "3. What is the probability mass function for a sum of two discrete uniform random variables on $n$ elements?\n",
    "\n",
    "\n",
    ":begin_tab:`mxnet`\n",
    "[Discussions](https://discuss.d2l.ai/t/417)\n",
    ":end_tab:\n",
    "\n",
    ":begin_tab:`pytorch`\n",
    "[Discussions](https://discuss.d2l.ai/t/1098)\n",
    ":end_tab:\n",
    "\n",
    ":begin_tab:`tensorflow`\n",
    "[Discussions](https://discuss.d2l.ai/t/1099)\n",
    ":end_tab:"
   ]
  }
 ],
 "metadata": {
  "kernelspec": {
   "display_name": "Python 3 (ipykernel)",
   "language": "python",
   "name": "python3"
  },
  "language_info": {
   "codemirror_mode": {
    "name": "ipython",
    "version": 3
   },
   "file_extension": ".py",
   "mimetype": "text/x-python",
   "name": "python",
   "nbconvert_exporter": "python",
   "pygments_lexer": "ipython3",
   "version": "3.12.9"
  }
 },
 "nbformat": 4,
 "nbformat_minor": 5
}
