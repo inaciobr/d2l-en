{
 "cells": [
  {
   "cell_type": "markdown",
   "id": "283bff4d",
   "metadata": {},
   "source": [
    "# Naive Bayes\n",
    ":label:`sec_naive_bayes`\n",
    "\n",
    "Throughout the previous sections, we learned about the theory of probability and random variables.  To put this theory to work, let's introduce the *naive Bayes* classifier.  This uses nothing but probabilistic fundamentals to allow us to perform classification of digits.\n",
    "\n",
    "Learning is all about making assumptions. If we want to classify a new data example that we have never seen before we have to make some assumptions about which data examples are similar to each other. The naive Bayes classifier, a popular and remarkably clear algorithm, assumes all features are independent from each other to simplify the computation. In this section, we will apply this model to recognize characters in images."
   ]
  },
  {
   "cell_type": "code",
   "execution_count": null,
   "id": "f91901df",
   "metadata": {},
   "outputs": [],
   "source": [
    "#@tab mxnet\n",
    "%matplotlib inline\n",
    "from d2l import mxnet as d2l\n",
    "import math\n",
    "from mxnet import gluon, np, npx\n",
    "npx.set_np()\n",
    "d2l.use_svg_display()"
   ]
  },
  {
   "cell_type": "code",
   "execution_count": null,
   "id": "49a7783e",
   "metadata": {},
   "outputs": [],
   "source": [
    "#@tab pytorch\n",
    "%matplotlib inline\n",
    "from d2l import torch as d2l\n",
    "import math\n",
    "import torch\n",
    "import torchvision\n",
    "d2l.use_svg_display()"
   ]
  },
  {
   "cell_type": "code",
   "execution_count": null,
   "id": "16d0a584",
   "metadata": {},
   "outputs": [],
   "source": [
    "#@tab tensorflow\n",
    "%matplotlib inline\n",
    "from d2l import tensorflow as d2l\n",
    "import math\n",
    "import tensorflow as tf\n",
    "d2l.use_svg_display()"
   ]
  },
  {
   "cell_type": "markdown",
   "id": "c6085e36",
   "metadata": {},
   "source": [
    "## Optical Character Recognition\n",
    "\n",
    "MNIST :cite:`LeCun.Bottou.Bengio.ea.1998` is one of widely used datasets. It contains 60,000 images for training and 10,000 images for validation. Each image contains a handwritten digit from 0 to 9. The task is classifying each image into the corresponding digit.\n",
    "\n",
    "Gluon provides a `MNIST` class in the `data.vision` module to\n",
    "automatically retrieve the dataset from the Internet.\n",
    "Subsequently, Gluon will use the already-downloaded local copy.\n",
    "We specify whether we are requesting the training set or the test set\n",
    "by setting the value of the parameter `train` to `True` or `False`, respectively.\n",
    "Each image is a grayscale image with both width and height of $28$ with shape ($28$,$28$,$1$). We use a customized transformation to remove the last channel dimension. In addition, the dataset represents each pixel by an unsigned $8$-bit integer.  We quantize them into binary features to simplify the problem."
   ]
  },
  {
   "cell_type": "code",
   "execution_count": null,
   "id": "d47a97a1",
   "metadata": {},
   "outputs": [],
   "source": [
    "#@tab mxnet\n",
    "def transform(data, label):\n",
    "    return np.floor(data.astype('float32') / 128).squeeze(axis=-1), label\n",
    "\n",
    "mnist_train = gluon.data.vision.MNIST(train=True, transform=transform)\n",
    "mnist_test = gluon.data.vision.MNIST(train=False, transform=transform)"
   ]
  },
  {
   "cell_type": "code",
   "execution_count": null,
   "id": "62e5a357",
   "metadata": {},
   "outputs": [],
   "source": [
    "#@tab pytorch\n",
    "data_transform = torchvision.transforms.Compose([\n",
    "    torchvision.transforms.ToTensor(),\n",
    "    lambda x: torch.floor(x * 255 / 128).squeeze(dim=0)\n",
    "])\n",
    "\n",
    "mnist_train = torchvision.datasets.MNIST(\n",
    "    root='./temp', train=True, transform=data_transform, download=True)\n",
    "mnist_test = torchvision.datasets.MNIST(\n",
    "    root='./temp', train=False, transform=data_transform, download=True)"
   ]
  },
  {
   "cell_type": "code",
   "execution_count": null,
   "id": "cb31f390",
   "metadata": {},
   "outputs": [],
   "source": [
    "#@tab tensorflow\n",
    "((train_images, train_labels), (\n",
    "    test_images, test_labels)) = tf.keras.datasets.mnist.load_data()\n",
    "\n",
    "# Original pixel values of MNIST range from 0-255 (as the digits are stored as\n",
    "# uint8). For this section, pixel values that are greater than 128 (in the\n",
    "# original image) are converted to 1 and values that are less than 128 are\n",
    "# converted to 0. See section 18.9.2 and 18.9.3 for why\n",
    "train_images = tf.floor(tf.constant(train_images / 128, dtype = tf.float32))\n",
    "test_images = tf.floor(tf.constant(test_images / 128, dtype = tf.float32))\n",
    "\n",
    "train_labels = tf.constant(train_labels, dtype = tf.int32)\n",
    "test_labels = tf.constant(test_labels, dtype = tf.int32)"
   ]
  },
  {
   "cell_type": "markdown",
   "id": "cfd743a6",
   "metadata": {},
   "source": [
    "We can access a particular example, which contains the image and the corresponding label."
   ]
  },
  {
   "cell_type": "code",
   "execution_count": null,
   "id": "135a089b",
   "metadata": {},
   "outputs": [],
   "source": [
    "#@tab mxnet\n",
    "image, label = mnist_train[2]\n",
    "image.shape, label"
   ]
  },
  {
   "cell_type": "code",
   "execution_count": null,
   "id": "eddb7649",
   "metadata": {},
   "outputs": [],
   "source": [
    "#@tab pytorch\n",
    "image, label = mnist_train[2]\n",
    "image.shape, label"
   ]
  },
  {
   "cell_type": "code",
   "execution_count": null,
   "id": "5bf8dc0a",
   "metadata": {},
   "outputs": [],
   "source": [
    "#@tab tensorflow\n",
    "image, label = train_images[2], train_labels[2]\n",
    "image.shape, label.numpy()"
   ]
  },
  {
   "cell_type": "markdown",
   "id": "b20b49f6",
   "metadata": {},
   "source": [
    "Our example, stored here in the variable `image`, corresponds to an image with a height and width of $28$ pixels."
   ]
  },
  {
   "cell_type": "code",
   "execution_count": null,
   "id": "f8756423",
   "metadata": {},
   "outputs": [],
   "source": [
    "#@tab all\n",
    "image.shape, image.dtype"
   ]
  },
  {
   "cell_type": "markdown",
   "id": "3cc48d1c",
   "metadata": {},
   "source": [
    "Our code stores the label of each image as a scalar. Its type is a $32$-bit integer."
   ]
  },
  {
   "cell_type": "code",
   "execution_count": null,
   "id": "50830547",
   "metadata": {},
   "outputs": [],
   "source": [
    "#@tab mxnet\n",
    "label, type(label), label.dtype"
   ]
  },
  {
   "cell_type": "code",
   "execution_count": null,
   "id": "0b3f40d0",
   "metadata": {},
   "outputs": [],
   "source": [
    "#@tab pytorch\n",
    "label, type(label)"
   ]
  },
  {
   "cell_type": "code",
   "execution_count": null,
   "id": "f9e4bcde",
   "metadata": {},
   "outputs": [],
   "source": [
    "#@tab tensorflow\n",
    "label.numpy(), label.dtype"
   ]
  },
  {
   "cell_type": "markdown",
   "id": "e4a97aab",
   "metadata": {},
   "source": [
    "We can also access multiple examples at the same time."
   ]
  },
  {
   "cell_type": "code",
   "execution_count": null,
   "id": "23d9d990",
   "metadata": {},
   "outputs": [],
   "source": [
    "#@tab mxnet\n",
    "images, labels = mnist_train[10:38]\n",
    "images.shape, labels.shape"
   ]
  },
  {
   "cell_type": "code",
   "execution_count": null,
   "id": "9357384b",
   "metadata": {},
   "outputs": [],
   "source": [
    "#@tab pytorch\n",
    "images = torch.stack([mnist_train[i][0] for i in range(10, 38)], dim=0)\n",
    "labels = torch.tensor([mnist_train[i][1] for i in range(10, 38)])\n",
    "images.shape, labels.shape"
   ]
  },
  {
   "cell_type": "code",
   "execution_count": null,
   "id": "aa3b0b8d",
   "metadata": {},
   "outputs": [],
   "source": [
    "#@tab tensorflow\n",
    "images = tf.stack([train_images[i] for i in range(10, 38)], axis=0)\n",
    "labels = tf.constant([train_labels[i].numpy() for i in range(10, 38)])\n",
    "images.shape, labels.shape"
   ]
  },
  {
   "cell_type": "markdown",
   "id": "746a952d",
   "metadata": {},
   "source": [
    "Let's visualize these examples."
   ]
  },
  {
   "cell_type": "code",
   "execution_count": null,
   "id": "da3408f3",
   "metadata": {},
   "outputs": [],
   "source": [
    "#@tab all\n",
    "d2l.show_images(images, 2, 9);"
   ]
  },
  {
   "cell_type": "markdown",
   "id": "934816c5",
   "metadata": {},
   "source": [
    "## The Probabilistic Model for Classification\n",
    "\n",
    "In a classification task, we map an example into a category. Here an example is a grayscale $28\\times 28$ image, and a category is a digit. (Refer to :numref:`sec_softmax` for a more detailed explanation.)\n",
    "One natural way to express the classification task is via the probabilistic question: what is the most likely label given the features (i.e., image pixels)? Denote by $\\mathbf x\\in\\mathbb R^d$ the features of the example and $y\\in\\mathbb R$ the label. Here features are image pixels, where we can reshape a $2$-dimensional image to a vector so that $d=28^2=784$, and labels are digits.\n",
    "The probability of the label given the features is $p(y  \\mid  \\mathbf{x})$. If we are able to compute these probabilities, which are $p(y  \\mid  \\mathbf{x})$ for $y=0, \\ldots,9$ in our example, then the classifier will output the prediction $\\hat{y}$ given by the expression:\n",
    "\n",
    "$$\\hat{y} = \\mathrm{argmax} \\> p(y  \\mid  \\mathbf{x}).$$\n",
    "\n",
    "Unfortunately, this requires that we estimate $p(y  \\mid  \\mathbf{x})$ for every value of $\\mathbf{x} = x_1, ..., x_d$. Imagine that each feature could take one of $2$ values. For example, the feature $x_1 = 1$ might signify that the word apple appears in a given document and $x_1 = 0$ would signify that it does not. If we had $30$ such binary features, that would mean that we need to be prepared to classify any of $2^{30}$ (over 1 billion!) possible values of the input vector $\\mathbf{x}$.\n",
    "\n",
    "Moreover, where is the learning? If we need to see every single possible example in order to predict the corresponding label then we are not really learning a pattern but just memorizing the dataset.\n",
    "\n",
    "## The Naive Bayes Classifier\n",
    "\n",
    "Fortunately, by making some assumptions about conditional independence, we can introduce some inductive bias and build a model capable of generalizing from a comparatively modest selection of training examples. To begin, let's use Bayes theorem, to express the classifier as\n",
    "\n",
    "$$\\hat{y} = \\mathrm{argmax}_y \\> p(y  \\mid  \\mathbf{x}) = \\mathrm{argmax}_y \\> \\frac{p( \\mathbf{x}  \\mid  y) p(y)}{p(\\mathbf{x})}.$$\n",
    "\n",
    "Note that the denominator is the normalizing term $p(\\mathbf{x})$ which does not depend on the value of the label $y$. As a result, we only need to worry about comparing the numerator across different values of $y$. Even if calculating the denominator turned out to be intractable, we could get away with ignoring it, so long as we could evaluate the numerator. Fortunately, even if we wanted to recover the normalizing constant, we could.  We can always recover the normalization term since $\\sum_y p(y  \\mid  \\mathbf{x}) = 1$.\n",
    "\n",
    "Now, let's focus on $p( \\mathbf{x}  \\mid  y)$. Using the chain rule of probability, we can express the term $p( \\mathbf{x}  \\mid  y)$ as\n",
    "\n",
    "$$p(x_1  \\mid y) \\cdot p(x_2  \\mid  x_1, y) \\cdot ... \\cdot p( x_d  \\mid  x_1, ..., x_{d-1}, y).$$\n",
    "\n",
    "By itself, this expression does not get us any further. We still must estimate roughly $2^d$ parameters. However, if we assume that *the features are conditionally independent of each other, given the label*, then suddenly we are in much better shape, as this term simplifies to $\\prod_i p(x_i  \\mid  y)$, giving us the predictor\n",
    "\n",
    "$$\\hat{y} = \\mathrm{argmax}_y \\> \\prod_{i=1}^d p(x_i  \\mid  y) p(y).$$\n",
    "\n",
    "If we can estimate $p(x_i=1  \\mid  y)$ for every $i$ and $y$, and save its value in $P_{xy}[i, y]$, here $P_{xy}$ is a $d\\times n$ matrix with $n$ being the number of classes and $y\\in\\{1, \\ldots, n\\}$, then we can also use this to estimate $p(x_i = 0 \\mid y)$, i.e.,\n",
    "\n",
    "$$\n",
    "p(x_i = t_i \\mid y) =\n",
    "\\begin{cases}\n",
    "    P_{xy}[i, y] & \\textrm{for } t_i=1 ;\\\\\n",
    "    1 - P_{xy}[i, y] & \\textrm{for } t_i = 0 .\n",
    "\\end{cases}\n",
    "$$\n",
    "\n",
    "In addition, we estimate $p(y)$ for every $y$ and save it in $P_y[y]$, with $P_y$ a $n$-length vector. Then, for any new example $\\mathbf t = (t_1, t_2, \\ldots, t_d)$, we could compute\n",
    "\n",
    "$$\\begin{aligned}\\hat{y} &= \\mathrm{argmax}_ y \\ p(y)\\prod_{i=1}^d   p(x_t = t_i \\mid y) \\\\ &= \\mathrm{argmax}_y \\ P_y[y]\\prod_{i=1}^d \\ P_{xy}[i, y]^{t_i}\\, \\left(1 - P_{xy}[i, y]\\right)^{1-t_i}\\end{aligned}$$\n",
    ":eqlabel:`eq_naive_bayes_estimation`\n",
    "\n",
    "for any $y$. So our assumption of conditional independence has taken the complexity of our model from an exponential dependence on the number of features $\\mathcal{O}(2^dn)$ to a linear dependence, which is $\\mathcal{O}(dn)$.\n",
    "\n",
    "\n",
    "## Training\n",
    "\n",
    "The problem now is that we do not know $P_{xy}$ and $P_y$. So we need to estimate their values given some training data first. This is *training* the model. Estimating $P_y$ is not too hard. Since we are only dealing with $10$ classes, we may count the number of occurrences $n_y$ for each of the digits and divide it by the total amount of data $n$. For instance, if digit 8 occurs $n_8 = 5,800$ times and we have a total of $n = 60,000$ images, the probability estimate is $p(y=8) = 0.0967$."
   ]
  },
  {
   "cell_type": "code",
   "execution_count": null,
   "id": "5d226177",
   "metadata": {},
   "outputs": [],
   "source": [
    "#@tab mxnet\n",
    "X, Y = mnist_train[:]  # All training examples\n",
    "\n",
    "n_y = np.zeros((10))\n",
    "for y in range(10):\n",
    "    n_y[y] = (Y == y).sum()\n",
    "P_y = n_y / n_y.sum()\n",
    "P_y"
   ]
  },
  {
   "cell_type": "code",
   "execution_count": null,
   "id": "6625081b",
   "metadata": {},
   "outputs": [],
   "source": [
    "#@tab pytorch\n",
    "X = torch.stack([mnist_train[i][0] for i in range(len(mnist_train))], dim=0)\n",
    "Y = torch.tensor([mnist_train[i][1] for i in range(len(mnist_train))])\n",
    "\n",
    "n_y = torch.zeros(10)\n",
    "for y in range(10):\n",
    "    n_y[y] = (Y == y).sum()\n",
    "P_y = n_y / n_y.sum()\n",
    "P_y"
   ]
  },
  {
   "cell_type": "code",
   "execution_count": null,
   "id": "d465319e",
   "metadata": {},
   "outputs": [],
   "source": [
    "#@tab tensorflow\n",
    "X = train_images\n",
    "Y = train_labels\n",
    "\n",
    "n_y = tf.Variable(tf.zeros(10))\n",
    "for y in range(10):\n",
    "    n_y[y].assign(tf.reduce_sum(tf.cast(Y == y, tf.float32)))\n",
    "P_y = n_y / tf.reduce_sum(n_y)\n",
    "P_y"
   ]
  },
  {
   "cell_type": "markdown",
   "id": "d25f0a67",
   "metadata": {},
   "source": [
    "Now on to slightly more difficult things $P_{xy}$. Since we picked black and white images, $p(x_i  \\mid  y)$ denotes the probability that pixel $i$ is switched on for class $y$. Just like before we can go and count the number of times $n_{iy}$ such that an event occurs and divide it by the total number of occurrences of $y$, i.e., $n_y$. But there is something slightly troubling: certain pixels may never be black (e.g., for well cropped images the corner pixels might always be white). A convenient way for statisticians to deal with this problem is to add pseudo counts to all occurrences. Hence, rather than $n_{iy}$ we use $n_{iy}+1$ and instead of $n_y$ we use $n_{y}+2$ (since there are two possible values pixel $i$ can take - it can either be black or white). This is also called *Laplace Smoothing*.  It may seem ad-hoc, however it can be motivated from a Bayesian point-of-view by a Beta-binomial model."
   ]
  },
  {
   "cell_type": "code",
   "execution_count": null,
   "id": "f20eac8b",
   "metadata": {},
   "outputs": [],
   "source": [
    "#@tab mxnet\n",
    "n_x = np.zeros((10, 28, 28))\n",
    "for y in range(10):\n",
    "    n_x[y] = np.array(X.asnumpy()[Y.asnumpy() == y].sum(axis=0))\n",
    "P_xy = (n_x + 1) / (n_y + 2).reshape(10, 1, 1)\n",
    "\n",
    "d2l.show_images(P_xy, 2, 5);"
   ]
  },
  {
   "cell_type": "code",
   "execution_count": null,
   "id": "3b8e5097",
   "metadata": {},
   "outputs": [],
   "source": [
    "#@tab pytorch\n",
    "n_x = torch.zeros((10, 28, 28))\n",
    "for y in range(10):\n",
    "    n_x[y] = torch.tensor(X.numpy()[Y.numpy() == y].sum(axis=0))\n",
    "P_xy = (n_x + 1) / (n_y + 2).reshape(10, 1, 1)\n",
    "\n",
    "d2l.show_images(P_xy, 2, 5);"
   ]
  },
  {
   "cell_type": "code",
   "execution_count": null,
   "id": "668babcc",
   "metadata": {},
   "outputs": [],
   "source": [
    "#@tab tensorflow\n",
    "n_x = tf.Variable(tf.zeros((10, 28, 28)))\n",
    "for y in range(10):\n",
    "    n_x[y].assign(tf.cast(tf.reduce_sum(\n",
    "        X.numpy()[Y.numpy() == y], axis=0), tf.float32))\n",
    "P_xy = (n_x + 1) / tf.reshape((n_y + 2), (10, 1, 1))\n",
    "\n",
    "d2l.show_images(P_xy, 2, 5);"
   ]
  },
  {
   "cell_type": "markdown",
   "id": "1e0b1b1b",
   "metadata": {},
   "source": [
    "By visualizing these $10\\times 28\\times 28$ probabilities (for each pixel for each class) we could get some mean looking digits.\n",
    "\n",
    "Now we can use :eqref:`eq_naive_bayes_estimation` to predict a new image. Given $\\mathbf x$, the following functions computes $p(\\mathbf x \\mid y)p(y)$ for every $y$."
   ]
  },
  {
   "cell_type": "code",
   "execution_count": null,
   "id": "5b0902b4",
   "metadata": {},
   "outputs": [],
   "source": [
    "#@tab mxnet\n",
    "def bayes_pred(x):\n",
    "    x = np.expand_dims(x, axis=0)  # (28, 28) -> (1, 28, 28)\n",
    "    p_xy = P_xy * x + (1 - P_xy)*(1 - x)\n",
    "    p_xy = p_xy.reshape(10, -1).prod(axis=1)  # p(x|y)\n",
    "    return np.array(p_xy) * P_y\n",
    "\n",
    "image, label = mnist_test[0]\n",
    "bayes_pred(image)"
   ]
  },
  {
   "cell_type": "code",
   "execution_count": null,
   "id": "07af36e5",
   "metadata": {},
   "outputs": [],
   "source": [
    "#@tab pytorch\n",
    "def bayes_pred(x):\n",
    "    x = x.unsqueeze(0)  # (28, 28) -> (1, 28, 28)\n",
    "    p_xy = P_xy * x + (1 - P_xy)*(1 - x)\n",
    "    p_xy = p_xy.reshape(10, -1).prod(dim=1)  # p(x|y)\n",
    "    return p_xy * P_y\n",
    "\n",
    "image, label = mnist_test[0]\n",
    "bayes_pred(image)"
   ]
  },
  {
   "cell_type": "code",
   "execution_count": null,
   "id": "44c7e668",
   "metadata": {},
   "outputs": [],
   "source": [
    "#@tab tensorflow\n",
    "def bayes_pred(x):\n",
    "    x = tf.expand_dims(x, axis=0)  # (28, 28) -> (1, 28, 28)\n",
    "    p_xy = P_xy * x + (1 - P_xy)*(1 - x)\n",
    "    p_xy = tf.math.reduce_prod(tf.reshape(p_xy, (10, -1)), axis=1)  # p(x|y)\n",
    "    return p_xy * P_y\n",
    "\n",
    "image, label = train_images[0], train_labels[0]\n",
    "bayes_pred(image)"
   ]
  },
  {
   "cell_type": "markdown",
   "id": "52deb1df",
   "metadata": {},
   "source": [
    "This went horribly wrong! To find out why, let's look at the per pixel probabilities. They are typically numbers between $0.001$ and $1$. We are multiplying $784$ of them. At this point it is worth mentioning that we are calculating these numbers on a computer, hence with a fixed range for the exponent. What happens is that we experience *numerical underflow*, i.e., multiplying all the small numbers leads to something even smaller until it is rounded down to zero.  We discussed this as a theoretical issue in :numref:`sec_maximum_likelihood`, but we see the phenomena clearly here in practice.\n",
    "\n",
    "As discussed in that section, we fix this by use the fact that $\\log a b = \\log a + \\log b$, i.e., we switch to summing logarithms.\n",
    "Even if both $a$ and $b$ are small numbers, the logarithm values should be in a proper range."
   ]
  },
  {
   "cell_type": "code",
   "execution_count": null,
   "id": "9aec95a5",
   "metadata": {},
   "outputs": [],
   "source": [
    "#@tab mxnet\n",
    "a = 0.1\n",
    "print('underflow:', a**784)\n",
    "print('logarithm is normal:', 784*math.log(a))"
   ]
  },
  {
   "cell_type": "code",
   "execution_count": null,
   "id": "c322cef0",
   "metadata": {},
   "outputs": [],
   "source": [
    "#@tab pytorch\n",
    "a = 0.1\n",
    "print('underflow:', a**784)\n",
    "print('logarithm is normal:', 784*math.log(a))"
   ]
  },
  {
   "cell_type": "code",
   "execution_count": null,
   "id": "8754f9aa",
   "metadata": {},
   "outputs": [],
   "source": [
    "#@tab tensorflow\n",
    "a = 0.1\n",
    "print('underflow:', a**784)\n",
    "print('logarithm is normal:', 784*tf.math.log(a).numpy())"
   ]
  },
  {
   "cell_type": "markdown",
   "id": "cec84fb0",
   "metadata": {},
   "source": [
    "Since the logarithm is an increasing function, we can rewrite :eqref:`eq_naive_bayes_estimation` as\n",
    "\n",
    "$$ \\hat{y} = \\mathrm{argmax}_y \\ \\log P_y[y] + \\sum_{i=1}^d \\Big[t_i\\log P_{xy}[x_i, y] + (1-t_i) \\log (1 - P_{xy}[x_i, y]) \\Big].$$\n",
    "\n",
    "We can implement the following stable version:"
   ]
  },
  {
   "cell_type": "code",
   "execution_count": null,
   "id": "b3edf7cb",
   "metadata": {},
   "outputs": [],
   "source": [
    "#@tab mxnet\n",
    "log_P_xy = np.log(P_xy)\n",
    "log_P_xy_neg = np.log(1 - P_xy)\n",
    "log_P_y = np.log(P_y)\n",
    "\n",
    "def bayes_pred_stable(x):\n",
    "    x = np.expand_dims(x, axis=0)  # (28, 28) -> (1, 28, 28)\n",
    "    p_xy = log_P_xy * x + log_P_xy_neg * (1 - x)\n",
    "    p_xy = p_xy.reshape(10, -1).sum(axis=1)  # p(x|y)\n",
    "    return p_xy + log_P_y\n",
    "\n",
    "py = bayes_pred_stable(image)\n",
    "py"
   ]
  },
  {
   "cell_type": "code",
   "execution_count": null,
   "id": "f14b5741",
   "metadata": {},
   "outputs": [],
   "source": [
    "#@tab pytorch\n",
    "log_P_xy = torch.log(P_xy)\n",
    "log_P_xy_neg = torch.log(1 - P_xy)\n",
    "log_P_y = torch.log(P_y)\n",
    "\n",
    "def bayes_pred_stable(x):\n",
    "    x = x.unsqueeze(0)  # (28, 28) -> (1, 28, 28)\n",
    "    p_xy = log_P_xy * x + log_P_xy_neg * (1 - x)\n",
    "    p_xy = p_xy.reshape(10, -1).sum(axis=1)  # p(x|y)\n",
    "    return p_xy + log_P_y\n",
    "\n",
    "py = bayes_pred_stable(image)\n",
    "py"
   ]
  },
  {
   "cell_type": "code",
   "execution_count": null,
   "id": "dc1681a4",
   "metadata": {},
   "outputs": [],
   "source": [
    "#@tab tensorflow\n",
    "log_P_xy = tf.math.log(P_xy)\n",
    "log_P_xy_neg = tf.math.log(1 - P_xy)\n",
    "log_P_y = tf.math.log(P_y)\n",
    "\n",
    "def bayes_pred_stable(x):\n",
    "    x = tf.expand_dims(x, axis=0)  # (28, 28) -> (1, 28, 28)\n",
    "    p_xy = log_P_xy * x + log_P_xy_neg * (1 - x)\n",
    "    p_xy = tf.math.reduce_sum(tf.reshape(p_xy, (10, -1)), axis=1)  # p(x|y)\n",
    "    return p_xy + log_P_y\n",
    "\n",
    "py = bayes_pred_stable(image)\n",
    "py"
   ]
  },
  {
   "cell_type": "markdown",
   "id": "336f6ed9",
   "metadata": {},
   "source": [
    "We may now check if the prediction is correct."
   ]
  },
  {
   "cell_type": "code",
   "execution_count": null,
   "id": "ac78a144",
   "metadata": {},
   "outputs": [],
   "source": [
    "#@tab mxnet\n",
    "# Convert label which is a scalar tensor of int32 dtype to a Python scalar\n",
    "# integer for comparison\n",
    "py.argmax(axis=0) == int(label)"
   ]
  },
  {
   "cell_type": "code",
   "execution_count": null,
   "id": "7caab1e5",
   "metadata": {},
   "outputs": [],
   "source": [
    "#@tab pytorch\n",
    "py.argmax(dim=0) == label"
   ]
  },
  {
   "cell_type": "code",
   "execution_count": null,
   "id": "977cb17a",
   "metadata": {},
   "outputs": [],
   "source": [
    "#@tab tensorflow\n",
    "tf.argmax(py, axis=0, output_type = tf.int32) == label"
   ]
  },
  {
   "cell_type": "markdown",
   "id": "f41c4f31",
   "metadata": {},
   "source": [
    "If we now predict a few validation examples, we can see the Bayes\n",
    "classifier works pretty well."
   ]
  },
  {
   "cell_type": "code",
   "execution_count": null,
   "id": "626a4969",
   "metadata": {},
   "outputs": [],
   "source": [
    "#@tab mxnet\n",
    "def predict(X):\n",
    "    return [bayes_pred_stable(x).argmax(axis=0).astype(np.int32) for x in X]\n",
    "\n",
    "X, y = mnist_test[:18]\n",
    "preds = predict(X)\n",
    "d2l.show_images(X, 2, 9, titles=[str(d) for d in preds]);"
   ]
  },
  {
   "cell_type": "code",
   "execution_count": null,
   "id": "1da7fca8",
   "metadata": {},
   "outputs": [],
   "source": [
    "#@tab pytorch\n",
    "def predict(X):\n",
    "    return [bayes_pred_stable(x).argmax(dim=0).type(torch.int32).item()\n",
    "            for x in X]\n",
    "\n",
    "X = torch.stack([mnist_test[i][0] for i in range(18)], dim=0)\n",
    "y = torch.tensor([mnist_test[i][1] for i in range(18)])\n",
    "preds = predict(X)\n",
    "d2l.show_images(X, 2, 9, titles=[str(d) for d in preds]);"
   ]
  },
  {
   "cell_type": "code",
   "execution_count": null,
   "id": "e2a2e52e",
   "metadata": {},
   "outputs": [],
   "source": [
    "#@tab tensorflow\n",
    "def predict(X):\n",
    "    return [tf.argmax(\n",
    "        bayes_pred_stable(x), axis=0, output_type = tf.int32).numpy()\n",
    "            for x in X]\n",
    "\n",
    "X = tf.stack([train_images[i] for i in range(10, 38)], axis=0)\n",
    "y = tf.constant([train_labels[i].numpy() for i in range(10, 38)])\n",
    "preds = predict(X)\n",
    "d2l.show_images(X, 2, 9, titles=[str(d) for d in preds]);"
   ]
  },
  {
   "cell_type": "markdown",
   "id": "e672479e",
   "metadata": {},
   "source": [
    "Finally, let's compute the overall accuracy of the classifier."
   ]
  },
  {
   "cell_type": "code",
   "execution_count": null,
   "id": "fae18ad2",
   "metadata": {},
   "outputs": [],
   "source": [
    "#@tab mxnet\n",
    "X, y = mnist_test[:]\n",
    "preds = np.array(predict(X), dtype=np.int32)\n",
    "float((preds == y).sum()) / len(y)  # Validation accuracy"
   ]
  },
  {
   "cell_type": "code",
   "execution_count": null,
   "id": "21449850",
   "metadata": {},
   "outputs": [],
   "source": [
    "#@tab pytorch\n",
    "X = torch.stack([mnist_test[i][0] for i in range(len(mnist_test))], dim=0)\n",
    "y = torch.tensor([mnist_test[i][1] for i in range(len(mnist_test))])\n",
    "preds = torch.tensor(predict(X), dtype=torch.int32)\n",
    "float((preds == y).sum()) / len(y)  # Validation accuracy"
   ]
  },
  {
   "cell_type": "code",
   "execution_count": null,
   "id": "da6f0d19",
   "metadata": {},
   "outputs": [],
   "source": [
    "#@tab tensorflow\n",
    "X = test_images\n",
    "y = test_labels\n",
    "preds = tf.constant(predict(X), dtype=tf.int32)\n",
    "# Validation accuracy\n",
    "tf.reduce_sum(tf.cast(preds == y, tf.float32)).numpy() / len(y)"
   ]
  },
  {
   "cell_type": "markdown",
   "id": "7ba0e298",
   "metadata": {},
   "source": [
    "Modern deep networks achieve error rates of less than $0.01$. The relatively poor performance is due to the incorrect statistical assumptions that we made in our model: we assumed that each and every pixel are *independently* generated, depending only on the label. This is clearly not how humans write digits, and this wrong assumption led to the downfall of our overly naive (Bayes) classifier.\n",
    "\n",
    "## Summary\n",
    "* Using Bayes' rule, a classifier can be made by assuming all observed features are independent.\n",
    "* This classifier can be trained on a dataset by counting the number of occurrences of combinations of labels and pixel values.\n",
    "* This classifier was the gold standard for decades for tasks such as spam detection.\n",
    "\n",
    "## Exercises\n",
    "1. Consider the dataset $[[0,0], [0,1], [1,0], [1,1]]$ with labels given by the XOR of the two elements $[0,1,1,0]$.  What are the probabilities for a Naive Bayes classifier built on this dataset.  Does it successfully classify our points?  If not, what assumptions are violated?\n",
    "1. Suppose that we did not use Laplace smoothing when estimating probabilities and a data example arrived at testing time which contained a value never observed in training.  What would the model output?\n",
    "1. The naive Bayes classifier is a specific example of a Bayesian network, where the dependence of random variables are encoded with a graph structure.  While the full theory is beyond the scope of this section (see :citet:`Koller.Friedman.2009` for full details), explain why allowing explicit dependence between the two input variables in the XOR model allows for the creation of a successful classifier.\n",
    "\n",
    ":begin_tab:`mxnet`\n",
    "[Discussions](https://discuss.d2l.ai/t/418)\n",
    ":end_tab:\n",
    "\n",
    ":begin_tab:`pytorch`\n",
    "[Discussions](https://discuss.d2l.ai/t/1100)\n",
    ":end_tab:\n",
    "\n",
    ":begin_tab:`tensorflow`\n",
    "[Discussions](https://discuss.d2l.ai/t/1101)\n",
    ":end_tab:"
   ]
  }
 ],
 "metadata": {},
 "nbformat": 4,
 "nbformat_minor": 5
}
