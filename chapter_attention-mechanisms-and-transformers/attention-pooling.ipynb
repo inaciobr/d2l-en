{
 "cells": [
  {
   "cell_type": "markdown",
   "id": "b7e0ae82",
   "metadata": {},
   "source": [
    "# Attention Pooling by Similarity\n",
    "\n",
    ":label:`sec_attention-pooling`\n",
    "\n",
    "Now that we have introduced the primary components of the attention mechanism, let's use them in a rather classical setting, namely regression and classification via kernel density estimation :cite:`Nadaraya.1964,Watson.1964`. This detour simply provides additional background: it is entirely optional and can be skipped if needed. \n",
    "At their core, Nadaraya--Watson estimators rely on some similarity kernel $\\alpha(\\mathbf{q}, \\mathbf{k})$ relating queries $\\mathbf{q}$ to keys $\\mathbf{k}$. Some common kernels are\n",
    "\n",
    "$$\\begin{aligned}\n",
    "\\alpha(\\mathbf{q}, \\mathbf{k}) & = \\exp\\left(-\\frac{1}{2} \\|\\mathbf{q} - \\mathbf{k}\\|^2 \\right) && \\textrm{Gaussian;} \\\\\n",
    "\\alpha(\\mathbf{q}, \\mathbf{k}) & = 1 \\textrm{ if } \\|\\mathbf{q} - \\mathbf{k}\\| \\leq 1 && \\textrm{Boxcar;} \\\\\n",
    "\\alpha(\\mathbf{q}, \\mathbf{k}) & = \\mathop{\\mathrm{max}}\\left(0, 1 - \\|\\mathbf{q} - \\mathbf{k}\\|\\right) && \\textrm{Epanechikov.}\n",
    "\\end{aligned}\n",
    "$$\n",
    "\n",
    "There are many more choices that we could pick. See a [Wikipedia article](https://en.wikipedia.org/wiki/Kernel_(statistics)) for a more extensive review and how the choice of kernels is related to kernel density estimation, sometimes also called *Parzen Windows* :cite:`parzen1957consistent`. All of the kernels are heuristic and can be tuned. For instance, we can adjust the width, not only on a global basis but even on a per-coordinate basis. Regardless, all of them lead to the following equation for regression and classification alike:\n",
    "\n",
    "$$f(\\mathbf{q}) = \\sum_i \\mathbf{v}_i \\frac{\\alpha(\\mathbf{q}, \\mathbf{k}_i)}{\\sum_j \\alpha(\\mathbf{q}, \\mathbf{k}_j)}.$$\n",
    "\n",
    "In the case of a (scalar) regression with observations $(\\mathbf{x}_i, y_i)$ for features and labels respectively, $\\mathbf{v}_i = y_i$ are scalars, $\\mathbf{k}_i = \\mathbf{x}_i$ are vectors, and the query $\\mathbf{q}$ denotes the new location where $f$ should be evaluated. In the case of (multiclass) classification, we use one-hot-encoding of $y_i$ to obtain $\\mathbf{v}_i$. One of the convenient properties of this estimator is that it requires no training. Even more so, if we suitably narrow the kernel with increasing amounts of data, the approach is consistent :cite:`mack1982weak`, i.e., it will converge to some statistically optimal solution. Let's start by inspecting some kernels."
   ]
  },
  {
   "cell_type": "code",
   "execution_count": null,
   "id": "05a78924",
   "metadata": {},
   "outputs": [],
   "source": [
    "%load_ext d2lbook.tab\n",
    "tab.interact_select('mxnet', 'pytorch', 'tensorflow', 'jax')"
   ]
  },
  {
   "cell_type": "code",
   "execution_count": null,
   "id": "b0c1d4be",
   "metadata": {},
   "outputs": [],
   "source": [
    "%%tab mxnet\n",
    "from d2l import mxnet as d2l\n",
    "from mxnet import autograd, gluon, np, npx\n",
    "from mxnet.gluon import nn\n",
    "npx.set_np()\n",
    "d2l.use_svg_display()"
   ]
  },
  {
   "cell_type": "code",
   "execution_count": null,
   "id": "cf0ef7a7",
   "metadata": {},
   "outputs": [],
   "source": [
    "%%tab pytorch\n",
    "from d2l import torch as d2l\n",
    "import torch\n",
    "from torch import nn\n",
    "from torch.nn import functional as F\n",
    "import numpy as np\n",
    "\n",
    "d2l.use_svg_display()"
   ]
  },
  {
   "cell_type": "code",
   "execution_count": null,
   "id": "dfcbcce9",
   "metadata": {},
   "outputs": [],
   "source": [
    "%%tab tensorflow\n",
    "from d2l import tensorflow as d2l\n",
    "import tensorflow as tf\n",
    "import numpy as np\n",
    "\n",
    "d2l.use_svg_display()"
   ]
  },
  {
   "cell_type": "code",
   "execution_count": null,
   "id": "9288f43d",
   "metadata": {},
   "outputs": [],
   "source": [
    "%%tab jax\n",
    "from d2l import jax as d2l\n",
    "import jax\n",
    "from jax import numpy as jnp\n",
    "from flax import linen as nn"
   ]
  },
  {
   "cell_type": "markdown",
   "id": "67163651",
   "metadata": {},
   "source": [
    "## [**Kernels and Data**]\n",
    "\n",
    "All the kernels $\\alpha(\\mathbf{k}, \\mathbf{q})$ defined in this section are *translation and rotation invariant*; that is, if we shift and rotate $\\mathbf{k}$ and $\\mathbf{q}$ in the same manner, the value of $\\alpha$ remains unchanged. For simplicity we thus pick scalar arguments $k, q \\in \\mathbb{R}$ and pick the key $k = 0$ as the origin. This yields:"
   ]
  },
  {
   "cell_type": "code",
   "execution_count": null,
   "id": "a31f3b9a",
   "metadata": {},
   "outputs": [],
   "source": [
    "%%tab all\n",
    "# Define some kernels\n",
    "def gaussian(x):\n",
    "    return d2l.exp(-x**2 / 2)\n",
    "\n",
    "def boxcar(x):\n",
    "    return d2l.abs(x) < 1.0\n",
    "\n",
    "def constant(x):\n",
    "    return 1.0 + 0 * x\n",
    " \n",
    "if tab.selected('pytorch'):\n",
    "    def epanechikov(x):\n",
    "        return torch.max(1 - d2l.abs(x), torch.zeros_like(x))\n",
    "if tab.selected('mxnet'):\n",
    "    def epanechikov(x):\n",
    "        return np.maximum(1 - d2l.abs(x), 0)\n",
    "if tab.selected('tensorflow'):\n",
    "    def epanechikov(x):\n",
    "        return tf.maximum(1 - d2l.abs(x), 0)\n",
    "if tab.selected('jax'):\n",
    "    def epanechikov(x):\n",
    "        return jnp.maximum(1 - d2l.abs(x), 0)"
   ]
  },
  {
   "cell_type": "code",
   "execution_count": null,
   "id": "2a8f6786",
   "metadata": {},
   "outputs": [],
   "source": [
    "%%tab all\n",
    "fig, axes = d2l.plt.subplots(1, 4, sharey=True, figsize=(12, 3))\n",
    "\n",
    "kernels = (gaussian, boxcar, constant, epanechikov)\n",
    "names = ('Gaussian', 'Boxcar', 'Constant', 'Epanechikov')\n",
    "x = d2l.arange(-2.5, 2.5, 0.1)\n",
    "for kernel, name, ax in zip(kernels, names, axes):\n",
    "    if tab.selected('pytorch', 'mxnet', 'tensorflow'):\n",
    "        ax.plot(d2l.numpy(x), d2l.numpy(kernel(x)))\n",
    "    if tab.selected('jax'):\n",
    "        ax.plot(x, kernel(x))\n",
    "    ax.set_xlabel(name)\n",
    "\n",
    "d2l.plt.show()"
   ]
  },
  {
   "cell_type": "markdown",
   "id": "34484c84",
   "metadata": {},
   "source": [
    "Different kernels correspond to different notions of range and smoothness. For instance, the boxcar kernel only attends to observations within a distance of $1$ (or some otherwise defined hyperparameter) and does so indiscriminately. \n",
    "\n",
    "To see Nadaraya--Watson estimation in action, let's define some training data. In the following we use the dependency\n",
    "\n",
    "$$y_i = 2\\sin(x_i) + x_i + \\epsilon,$$\n",
    "\n",
    "where $\\epsilon$ is drawn from a normal distribution with zero mean and unit variance. We draw 40 training examples."
   ]
  },
  {
   "cell_type": "code",
   "execution_count": null,
   "id": "6375220d",
   "metadata": {},
   "outputs": [],
   "source": [
    "%%tab all\n",
    "def f(x):\n",
    "    return 2 * d2l.sin(x) + x\n",
    "\n",
    "n = 40\n",
    "if tab.selected('pytorch'):\n",
    "    x_train, _ = torch.sort(d2l.rand(n) * 5)\n",
    "    y_train = f(x_train) + d2l.randn(n)\n",
    "if tab.selected('mxnet'):\n",
    "    x_train = np.sort(d2l.rand(n) * 5, axis=None)\n",
    "    y_train = f(x_train) + d2l.randn(n)\n",
    "if tab.selected('tensorflow'):\n",
    "    x_train = tf.sort(d2l.rand((n,1)) * 5, 0)\n",
    "    y_train = f(x_train) + d2l.normal((n, 1))\n",
    "if tab.selected('jax'):\n",
    "    x_train = jnp.sort(jax.random.uniform(d2l.get_key(), (n,)) * 5)\n",
    "    y_train = f(x_train) + jax.random.normal(d2l.get_key(), (n,))\n",
    "x_val = d2l.arange(0, 5, 0.1)\n",
    "y_val = f(x_val)"
   ]
  },
  {
   "cell_type": "markdown",
   "id": "97874ace",
   "metadata": {},
   "source": [
    "## [**Attention Pooling via Nadaraya--Watson Regression**]\n",
    "\n",
    "Now that we have data and kernels, all we need is a function that computes the kernel regression estimates. Note that we also want to obtain the relative kernel weights in order to perform some minor diagnostics. Hence we first compute the kernel between all training features (covariates) `x_train` and all validation features `x_val`. This yields a matrix, which we subsequently normalize. When multiplied with the training labels `y_train` we obtain the estimates.\n",
    "\n",
    "Recall attention pooling in :eqref:`eq_attention_pooling`. Let each validation feature be a query, and each training feature--label pair be a key--value pair. As a result, the  normalized relative kernel weights (`attention_w` below) are the *attention weights*."
   ]
  },
  {
   "cell_type": "code",
   "execution_count": null,
   "id": "f578241e",
   "metadata": {},
   "outputs": [],
   "source": [
    "%%tab all\n",
    "def nadaraya_watson(x_train, y_train, x_val, kernel):\n",
    "    dists = d2l.reshape(x_train, (-1, 1)) - d2l.reshape(x_val, (1, -1))\n",
    "    # Each column/row corresponds to each query/key\n",
    "    k = d2l.astype(kernel(dists), d2l.float32)\n",
    "    # Normalization over keys for each query\n",
    "    attention_w = k / d2l.reduce_sum(k, 0)\n",
    "    if tab.selected('pytorch'):\n",
    "        y_hat = y_train@attention_w\n",
    "    if tab.selected('mxnet'):\n",
    "        y_hat = np.dot(y_train, attention_w)\n",
    "    if tab.selected('tensorflow'):\n",
    "        y_hat = d2l.transpose(d2l.transpose(y_train)@attention_w)\n",
    "    if tab.selected('jax'):\n",
    "        y_hat = y_train@attention_w\n",
    "    return y_hat, attention_w"
   ]
  },
  {
   "cell_type": "markdown",
   "id": "12806754",
   "metadata": {},
   "source": [
    "Let's have a look at the kind of estimates that the different kernels produce."
   ]
  },
  {
   "cell_type": "code",
   "execution_count": null,
   "id": "892bb806",
   "metadata": {},
   "outputs": [],
   "source": [
    "%%tab all\n",
    "def plot(x_train, y_train, x_val, y_val, kernels, names, attention=False):\n",
    "    fig, axes = d2l.plt.subplots(1, 4, sharey=True, figsize=(12, 3))\n",
    "    for kernel, name, ax in zip(kernels, names, axes):\n",
    "        y_hat, attention_w = nadaraya_watson(x_train, y_train, x_val, kernel)\n",
    "        if attention:\n",
    "            if tab.selected('pytorch', 'mxnet', 'tensorflow'):\n",
    "                pcm = ax.imshow(d2l.numpy(attention_w), cmap='Reds')\n",
    "            if tab.selected('jax'):\n",
    "                pcm = ax.imshow(attention_w, cmap='Reds')\n",
    "        else:\n",
    "            ax.plot(x_val, y_hat)\n",
    "            ax.plot(x_val, y_val, 'm--')\n",
    "            ax.plot(x_train, y_train, 'o', alpha=0.5);\n",
    "        ax.set_xlabel(name)\n",
    "        if not attention:\n",
    "            ax.legend(['y_hat', 'y'])\n",
    "    if attention:\n",
    "        fig.colorbar(pcm, ax=axes, shrink=0.7)"
   ]
  },
  {
   "cell_type": "code",
   "execution_count": null,
   "id": "d686d4ce",
   "metadata": {},
   "outputs": [],
   "source": [
    "%%tab all\n",
    "plot(x_train, y_train, x_val, y_val, kernels, names)"
   ]
  },
  {
   "cell_type": "markdown",
   "id": "cca1e206",
   "metadata": {},
   "source": [
    "The first thing that stands out is that all three nontrivial kernels (Gaussian, Boxcar, and Epanechikov) produce fairly workable estimates that are not too far from the true function. Only the constant kernel that leads to the trivial estimate $f(x) = \\frac{1}{n} \\sum_i y_i$ produces a rather unrealistic result. Let's inspect the attention weighting a bit more closely:"
   ]
  },
  {
   "cell_type": "code",
   "execution_count": null,
   "id": "ea8ee899",
   "metadata": {},
   "outputs": [],
   "source": [
    "%%tab all\n",
    "plot(x_train, y_train, x_val, y_val, kernels, names, attention=True)"
   ]
  },
  {
   "cell_type": "markdown",
   "id": "48b7ce6d",
   "metadata": {},
   "source": [
    "The visualization clearly shows why the estimates for Gaussian, Boxcar, and Epanechikov are very similar: after all, they are derived from very similar attention weights, despite the different functional form of the kernel. This raises the question as to whether this is always the case. \n",
    "\n",
    "## [**Adapting Attention Pooling**]\n",
    "\n",
    "We could replace the Gaussian kernel with one of a different width. That is, we could use \n",
    "$\\alpha(\\mathbf{q}, \\mathbf{k}) = \\exp\\left(-\\frac{1}{2 \\sigma^2} \\|\\mathbf{q} - \\mathbf{k}\\|^2 \\right)$ where $\\sigma^2$ determines the width of the kernel. Let's see whether this affects the outcomes."
   ]
  },
  {
   "cell_type": "code",
   "execution_count": null,
   "id": "1f1a75b0",
   "metadata": {},
   "outputs": [],
   "source": [
    "%%tab all\n",
    "sigmas = (0.1, 0.2, 0.5, 1)\n",
    "names = ['Sigma ' + str(sigma) for sigma in sigmas]\n",
    "\n",
    "def gaussian_with_width(sigma): \n",
    "    return (lambda x: d2l.exp(-x**2 / (2*sigma**2)))\n",
    "\n",
    "kernels = [gaussian_with_width(sigma) for sigma in sigmas]\n",
    "plot(x_train, y_train, x_val, y_val, kernels, names)"
   ]
  },
  {
   "cell_type": "markdown",
   "id": "5599f5a0",
   "metadata": {},
   "source": [
    "Clearly, the narrower the kernel, the less smooth the estimate. At the same time, it adapts better to the local variations. Let's look at the corresponding attention weights."
   ]
  },
  {
   "cell_type": "code",
   "execution_count": null,
   "id": "b6d732a1",
   "metadata": {},
   "outputs": [],
   "source": [
    "%%tab all\n",
    "plot(x_train, y_train, x_val, y_val, kernels, names, attention=True)"
   ]
  },
  {
   "cell_type": "markdown",
   "id": "583cd040",
   "metadata": {},
   "source": [
    "As we would expect, the narrower the kernel, the narrower the range of large attention weights. It is also clear that picking the same width might not be ideal. In fact, :citet:`Silverman86` proposed a heuristic that depends on the local density. Many more such \"tricks\" have been proposed. For instance, :citet:`norelli2022asif` used a similar nearest-neighbor interpolation technique for designing cross-modal image and text representations. \n",
    "\n",
    "The astute reader might wonder why we are providing this deep dive for a method that is over half a century old. First, it is one of the earliest precursors of modern attention mechanisms. Second, it is great for visualization. Third, and just as importantly, it demonstrates the limits of hand-crafted attention mechanisms. A much better strategy is to *learn* the mechanism, by learning the representations for queries and keys. This is what we will embark on in the following sections.\n",
    "\n",
    "\n",
    "## Summary\n",
    "\n",
    "Nadaraya--Watson kernel regression is an early precursor of the current attention mechanisms. \n",
    "It can be used directly with little to no training or tuning, either for classification or regression. \n",
    "The attention weight is assigned according to the similarity (or distance) between query and key, and according to how many similar observations are available. \n",
    "\n",
    "## Exercises\n",
    "\n",
    "1. Parzen windows density estimates are given by $\\hat{p}(\\mathbf{x}) = \\frac{1}{n} \\sum_i k(\\mathbf{x}, \\mathbf{x}_i)$. Prove that for binary classification the function $\\hat{p}(\\mathbf{x}, y=1) - \\hat{p}(\\mathbf{x}, y=-1)$, as obtained by Parzen windows is equivalent to Nadaraya--Watson classification. \n",
    "1. Implement stochastic gradient descent to learn a good value for kernel widths in Nadaraya--Watson regression. \n",
    "    1. What happens if you just use the above estimates to minimize $(f(\\mathbf{x_i}) - y_i)^2$ directly? Hint: $y_i$ is part of the terms used to compute $f$.\n",
    "    1. Remove $(\\mathbf{x}_i, y_i)$ from the estimate for $f(\\mathbf{x}_i)$ and optimize over the kernel widths. Do you still observe overfitting?\n",
    "1. Assume that all $\\mathbf{x}$ lie on the unit sphere, i.e., all satisfy $\\|\\mathbf{x}\\| = 1$. Can you simplify the $\\|\\mathbf{x} - \\mathbf{x}_i\\|^2$ term in the exponential? Hint: we will later see that this is very closely related to dot product attention. \n",
    "1. Recall that :citet:`mack1982weak` proved that Nadaraya--Watson estimation is consistent. How quickly should you reduce the scale for the attention mechanism as you get more data? Provide some intuition for your answer. Does it depend on the dimensionality of the data? How?\n",
    "\n",
    ":begin_tab:`mxnet`\n",
    "[Discussions](https://discuss.d2l.ai/t/1598)\n",
    ":end_tab:\n",
    "\n",
    ":begin_tab:`pytorch`\n",
    "[Discussions](https://discuss.d2l.ai/t/1599)\n",
    ":end_tab:\n",
    "\n",
    ":begin_tab:`tensorflow`\n",
    "[Discussions](https://discuss.d2l.ai/t/3866)\n",
    ":end_tab:\n",
    "\n",
    ":begin_tab:`jax`\n",
    "[Discussions](https://discuss.d2l.ai/t/18026)\n",
    ":end_tab:"
   ]
  }
 ],
 "metadata": {},
 "nbformat": 4,
 "nbformat_minor": 5
}
