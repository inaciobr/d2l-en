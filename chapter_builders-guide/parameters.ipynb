{
 "cells": [
  {
   "cell_type": "code",
   "execution_count": null,
   "id": "bb57a927",
   "metadata": {},
   "outputs": [],
   "source": [
    "%load_ext d2lbook.tab\n",
    "tab.interact_select(['mxnet', 'pytorch', 'tensorflow', 'jax'])"
   ]
  },
  {
   "cell_type": "markdown",
   "id": "12a44a15",
   "metadata": {},
   "source": [
    "# Parameter Management\n",
    "\n",
    "Once we have chosen an architecture\n",
    "and set our hyperparameters,\n",
    "we proceed to the training loop,\n",
    "where our goal is to find parameter values\n",
    "that minimize our loss function.\n",
    "After training, we will need these parameters\n",
    "in order to make future predictions.\n",
    "Additionally, we will sometimes wish\n",
    "to extract the parameters\n",
    "perhaps to reuse them in some other context,\n",
    "to save our model to disk so that\n",
    "it may be executed in other software,\n",
    "or for examination in the hope of\n",
    "gaining scientific understanding.\n",
    "\n",
    "Most of the time, we will be able\n",
    "to ignore the nitty-gritty details\n",
    "of how parameters are declared\n",
    "and manipulated, relying on deep learning frameworks\n",
    "to do the heavy lifting.\n",
    "However, when we move away from\n",
    "stacked architectures with standard layers,\n",
    "we will sometimes need to get into the weeds\n",
    "of declaring and manipulating parameters.\n",
    "In this section, we cover the following:\n",
    "\n",
    "* Accessing parameters for debugging, diagnostics, and visualizations.\n",
    "* Sharing parameters across different model components."
   ]
  },
  {
   "cell_type": "code",
   "execution_count": null,
   "id": "56b332a7",
   "metadata": {},
   "outputs": [],
   "source": [
    "%%tab mxnet\n",
    "from mxnet import init, np, npx\n",
    "from mxnet.gluon import nn\n",
    "npx.set_np()"
   ]
  },
  {
   "cell_type": "code",
   "execution_count": null,
   "id": "93f0875e",
   "metadata": {},
   "outputs": [],
   "source": [
    "%%tab pytorch\n",
    "import torch\n",
    "from torch import nn"
   ]
  },
  {
   "cell_type": "code",
   "execution_count": null,
   "id": "10d90e24",
   "metadata": {},
   "outputs": [],
   "source": [
    "%%tab tensorflow\n",
    "import tensorflow as tf"
   ]
  },
  {
   "cell_type": "code",
   "execution_count": null,
   "id": "53461586",
   "metadata": {},
   "outputs": [],
   "source": [
    "%%tab jax\n",
    "from d2l import jax as d2l\n",
    "from flax import linen as nn\n",
    "import jax\n",
    "from jax import numpy as jnp"
   ]
  },
  {
   "cell_type": "markdown",
   "id": "6e662e06",
   "metadata": {},
   "source": [
    "(**We start by focusing on an MLP with one hidden layer.**)"
   ]
  },
  {
   "cell_type": "code",
   "execution_count": null,
   "id": "ebcadfa0",
   "metadata": {},
   "outputs": [],
   "source": [
    "%%tab mxnet\n",
    "net = nn.Sequential()\n",
    "net.add(nn.Dense(8, activation='relu'))\n",
    "net.add(nn.Dense(1))\n",
    "net.initialize()  # Use the default initialization method\n",
    "\n",
    "X = np.random.uniform(size=(2, 4))\n",
    "net(X).shape"
   ]
  },
  {
   "cell_type": "code",
   "execution_count": null,
   "id": "712164f1",
   "metadata": {},
   "outputs": [],
   "source": [
    "%%tab pytorch\n",
    "net = nn.Sequential(nn.LazyLinear(8),\n",
    "                    nn.ReLU(),\n",
    "                    nn.LazyLinear(1))\n",
    "\n",
    "X = torch.rand(size=(2, 4))\n",
    "net(X).shape"
   ]
  },
  {
   "cell_type": "code",
   "execution_count": null,
   "id": "5a082dd5",
   "metadata": {},
   "outputs": [],
   "source": [
    "%%tab tensorflow\n",
    "net = tf.keras.models.Sequential([\n",
    "    tf.keras.layers.Flatten(),\n",
    "    tf.keras.layers.Dense(4, activation=tf.nn.relu),\n",
    "    tf.keras.layers.Dense(1),\n",
    "])\n",
    "\n",
    "X = tf.random.uniform((2, 4))\n",
    "net(X).shape"
   ]
  },
  {
   "cell_type": "code",
   "execution_count": null,
   "id": "bbbbf930",
   "metadata": {},
   "outputs": [],
   "source": [
    "%%tab jax\n",
    "net = nn.Sequential([nn.Dense(8), nn.relu, nn.Dense(1)])\n",
    "\n",
    "X = jax.random.uniform(d2l.get_key(), (2, 4))\n",
    "params = net.init(d2l.get_key(), X)\n",
    "net.apply(params, X).shape"
   ]
  },
  {
   "cell_type": "markdown",
   "id": "91a29e95",
   "metadata": {},
   "source": [
    "## [**Parameter Access**]\n",
    ":label:`subsec_param-access`\n",
    "\n",
    "Let's start with how to access parameters\n",
    "from the models that you already know.\n",
    "\n",
    ":begin_tab:`mxnet, pytorch, tensorflow`\n",
    "When a model is defined via the `Sequential` class,\n",
    "we can first access any layer by indexing\n",
    "into the model as though it were a list.\n",
    "Each layer's parameters are conveniently\n",
    "located in its attribute.\n",
    ":end_tab:\n",
    "\n",
    ":begin_tab:`jax`\n",
    "Flax and JAX decouple the model and the parameters as you\n",
    "might have observed in the models defined previously.\n",
    "When a model is defined via the `Sequential` class,\n",
    "we first need to initialize the network to generate\n",
    "the parameters dictionary. We can access\n",
    "any layer's parameters through the keys of this dictionary.\n",
    ":end_tab:\n",
    "\n",
    "We can inspect the parameters of the second fully connected layer as follows."
   ]
  },
  {
   "cell_type": "code",
   "execution_count": null,
   "id": "c929822f",
   "metadata": {},
   "outputs": [],
   "source": [
    "%%tab mxnet\n",
    "net[1].params"
   ]
  },
  {
   "cell_type": "code",
   "execution_count": null,
   "id": "9b533f54",
   "metadata": {},
   "outputs": [],
   "source": [
    "%%tab pytorch\n",
    "net[2].state_dict()"
   ]
  },
  {
   "cell_type": "code",
   "execution_count": null,
   "id": "4303a2a5",
   "metadata": {},
   "outputs": [],
   "source": [
    "%%tab tensorflow\n",
    "net.layers[2].weights"
   ]
  },
  {
   "cell_type": "code",
   "execution_count": null,
   "id": "85a5401e",
   "metadata": {},
   "outputs": [],
   "source": [
    "%%tab jax\n",
    "params['params']['layers_2']"
   ]
  },
  {
   "cell_type": "markdown",
   "id": "5d42e33b",
   "metadata": {},
   "source": [
    "We can see that this fully connected layer\n",
    "contains two parameters,\n",
    "corresponding to that layer's\n",
    "weights and biases, respectively.\n",
    "\n",
    "\n",
    "### [**Targeted Parameters**]\n",
    "\n",
    "Note that each parameter is represented\n",
    "as an instance of the parameter class.\n",
    "To do anything useful with the parameters,\n",
    "we first need to access the underlying numerical values.\n",
    "There are several ways to do this.\n",
    "Some are simpler while others are more general.\n",
    "The following code extracts the bias\n",
    "from the second neural network layer, which returns a parameter class instance, and\n",
    "further accesses that parameter's value."
   ]
  },
  {
   "cell_type": "code",
   "execution_count": null,
   "id": "218d0b56",
   "metadata": {},
   "outputs": [],
   "source": [
    "%%tab mxnet\n",
    "type(net[1].bias), net[1].bias.data()"
   ]
  },
  {
   "cell_type": "code",
   "execution_count": null,
   "id": "748a9065",
   "metadata": {},
   "outputs": [],
   "source": [
    "%%tab pytorch\n",
    "type(net[2].bias), net[2].bias.data"
   ]
  },
  {
   "cell_type": "code",
   "execution_count": null,
   "id": "f591e352",
   "metadata": {},
   "outputs": [],
   "source": [
    "%%tab tensorflow\n",
    "type(net.layers[2].weights[1]), tf.convert_to_tensor(net.layers[2].weights[1])"
   ]
  },
  {
   "cell_type": "code",
   "execution_count": null,
   "id": "054e6f39",
   "metadata": {},
   "outputs": [],
   "source": [
    "%%tab jax\n",
    "bias = params['params']['layers_2']['bias']\n",
    "type(bias), bias"
   ]
  },
  {
   "cell_type": "markdown",
   "id": "6a03091a",
   "metadata": {},
   "source": [
    ":begin_tab:`mxnet,pytorch`\n",
    "Parameters are complex objects,\n",
    "containing values, gradients,\n",
    "and additional information.\n",
    "That is why we need to request the value explicitly.\n",
    "\n",
    "In addition to the value, each parameter also allows us to access the gradient. Because we have not invoked backpropagation for this network yet, it is in its initial state.\n",
    ":end_tab:\n",
    "\n",
    ":begin_tab:`jax`\n",
    "Unlike the other frameworks, JAX does not keep a track of the gradients over the\n",
    "neural network parameters, instead the parameters and the network are decoupled.\n",
    "It allows the user to express their computation as a\n",
    "Python function, and use the `grad` transformation for the same purpose.\n",
    ":end_tab:"
   ]
  },
  {
   "cell_type": "code",
   "execution_count": null,
   "id": "b0bd34ed",
   "metadata": {},
   "outputs": [],
   "source": [
    "%%tab mxnet\n",
    "net[1].weight.grad()"
   ]
  },
  {
   "cell_type": "code",
   "execution_count": null,
   "id": "ad41155c",
   "metadata": {},
   "outputs": [],
   "source": [
    "%%tab pytorch\n",
    "net[2].weight.grad == None"
   ]
  },
  {
   "cell_type": "markdown",
   "id": "f2c0ca49",
   "metadata": {},
   "source": [
    "### [**All Parameters at Once**]\n",
    "\n",
    "When we need to perform operations on all parameters,\n",
    "accessing them one-by-one can grow tedious.\n",
    "The situation can grow especially unwieldy\n",
    "when we work with more complex, e.g., nested, modules,\n",
    "since we would need to recurse\n",
    "through the entire tree to extract\n",
    "each sub-module's parameters. Below we demonstrate accessing the parameters of all layers."
   ]
  },
  {
   "cell_type": "code",
   "execution_count": null,
   "id": "1671bb68",
   "metadata": {},
   "outputs": [],
   "source": [
    "%%tab mxnet\n",
    "net.collect_params()"
   ]
  },
  {
   "cell_type": "code",
   "execution_count": null,
   "id": "35d89042",
   "metadata": {},
   "outputs": [],
   "source": [
    "%%tab pytorch\n",
    "[(name, param.shape) for name, param in net.named_parameters()]"
   ]
  },
  {
   "cell_type": "code",
   "execution_count": null,
   "id": "31f04171",
   "metadata": {},
   "outputs": [],
   "source": [
    "%%tab tensorflow\n",
    "net.get_weights()"
   ]
  },
  {
   "cell_type": "code",
   "execution_count": null,
   "id": "df475e90",
   "metadata": {},
   "outputs": [],
   "source": [
    "%%tab jax\n",
    "jax.tree_util.tree_map(lambda x: x.shape, params)"
   ]
  },
  {
   "cell_type": "markdown",
   "id": "290bbc52",
   "metadata": {},
   "source": [
    "## [**Tied Parameters**]\n",
    "\n",
    "Often, we want to share parameters across multiple layers.\n",
    "Let's see how to do this elegantly.\n",
    "In the following we allocate a fully connected layer\n",
    "and then use its parameters specifically\n",
    "to set those of another layer.\n",
    "Here we need to run the forward propagation\n",
    "`net(X)` before accessing the parameters."
   ]
  },
  {
   "cell_type": "code",
   "execution_count": null,
   "id": "bd25c75b",
   "metadata": {},
   "outputs": [],
   "source": [
    "%%tab mxnet\n",
    "net = nn.Sequential()\n",
    "# We need to give the shared layer a name so that we can refer to its\n",
    "# parameters\n",
    "shared = nn.Dense(8, activation='relu')\n",
    "net.add(nn.Dense(8, activation='relu'),\n",
    "        shared,\n",
    "        nn.Dense(8, activation='relu', params=shared.params),\n",
    "        nn.Dense(10))\n",
    "net.initialize()\n",
    "\n",
    "X = np.random.uniform(size=(2, 20))\n",
    "\n",
    "net(X)\n",
    "# Check whether the parameters are the same\n",
    "print(net[1].weight.data()[0] == net[2].weight.data()[0])\n",
    "net[1].weight.data()[0, 0] = 100\n",
    "# Make sure that they are actually the same object rather than just having the\n",
    "# same value\n",
    "print(net[1].weight.data()[0] == net[2].weight.data()[0])"
   ]
  },
  {
   "cell_type": "code",
   "execution_count": null,
   "id": "f58b46b5",
   "metadata": {},
   "outputs": [],
   "source": [
    "%%tab pytorch\n",
    "# We need to give the shared layer a name so that we can refer to its\n",
    "# parameters\n",
    "shared = nn.LazyLinear(8)\n",
    "net = nn.Sequential(nn.LazyLinear(8), nn.ReLU(),\n",
    "                    shared, nn.ReLU(),\n",
    "                    shared, nn.ReLU(),\n",
    "                    nn.LazyLinear(1))\n",
    "\n",
    "net(X)\n",
    "# Check whether the parameters are the same\n",
    "print(net[2].weight.data[0] == net[4].weight.data[0])\n",
    "net[2].weight.data[0, 0] = 100\n",
    "# Make sure that they are actually the same object rather than just having the\n",
    "# same value\n",
    "print(net[2].weight.data[0] == net[4].weight.data[0])"
   ]
  },
  {
   "cell_type": "code",
   "execution_count": null,
   "id": "f19c93cd",
   "metadata": {},
   "outputs": [],
   "source": [
    "%%tab tensorflow\n",
    "# tf.keras behaves a bit differently. It removes the duplicate layer\n",
    "# automatically\n",
    "shared = tf.keras.layers.Dense(4, activation=tf.nn.relu)\n",
    "net = tf.keras.models.Sequential([\n",
    "    tf.keras.layers.Flatten(),\n",
    "    shared,\n",
    "    shared,\n",
    "    tf.keras.layers.Dense(1),\n",
    "])\n",
    "\n",
    "net(X)\n",
    "# Check whether the parameters are different\n",
    "print(len(net.layers) == 3)"
   ]
  },
  {
   "cell_type": "code",
   "execution_count": null,
   "id": "ad5412b6",
   "metadata": {},
   "outputs": [],
   "source": [
    "%%tab jax\n",
    "# We need to give the shared layer a name so that we can refer to its\n",
    "# parameters\n",
    "shared = nn.Dense(8)\n",
    "net = nn.Sequential([nn.Dense(8), nn.relu,\n",
    "                     shared, nn.relu,\n",
    "                     shared, nn.relu,\n",
    "                     nn.Dense(1)])\n",
    "\n",
    "params = net.init(jax.random.PRNGKey(d2l.get_seed()), X)\n",
    "\n",
    "# Check whether the parameters are different\n",
    "print(len(params['params']) == 3)"
   ]
  },
  {
   "cell_type": "markdown",
   "id": "78af4ddb",
   "metadata": {},
   "source": [
    "This example shows that the parameters\n",
    "of the second and third layer are tied.\n",
    "They are not just equal, they are\n",
    "represented by the same exact tensor.\n",
    "Thus, if we change one of the parameters,\n",
    "the other one changes, too.\n",
    "\n",
    ":begin_tab:`mxnet, pytorch, tensorflow`\n",
    "You might wonder,\n",
    "when parameters are tied\n",
    "what happens to the gradients?\n",
    "Since the model parameters contain gradients,\n",
    "the gradients of the second hidden layer\n",
    "and the third hidden layer are added together\n",
    "during backpropagation.\n",
    ":end_tab:\n",
    "\n",
    "\n",
    "## Summary\n",
    "\n",
    "We have several ways of accessing and tying model parameters.\n",
    "\n",
    "\n",
    "## Exercises\n",
    "\n",
    "1. Use the `NestMLP` model defined in :numref:`sec_model_construction` and access the parameters of the various layers.\n",
    "1. Construct an MLP containing a shared parameter layer and train it. During the training process, observe the model parameters and gradients of each layer.\n",
    "1. Why is sharing parameters a good idea?\n",
    "\n",
    ":begin_tab:`mxnet`\n",
    "[Discussions](https://discuss.d2l.ai/t/56)\n",
    ":end_tab:\n",
    "\n",
    ":begin_tab:`pytorch`\n",
    "[Discussions](https://discuss.d2l.ai/t/57)\n",
    ":end_tab:\n",
    "\n",
    ":begin_tab:`tensorflow`\n",
    "[Discussions](https://discuss.d2l.ai/t/269)\n",
    ":end_tab:\n",
    "\n",
    ":begin_tab:`jax`\n",
    "[Discussions](https://discuss.d2l.ai/t/17990)\n",
    ":end_tab:"
   ]
  }
 ],
 "metadata": {},
 "nbformat": 4,
 "nbformat_minor": 5
}
