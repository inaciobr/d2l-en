{
 "cells": [
  {
   "cell_type": "code",
   "execution_count": null,
   "id": "e9013565",
   "metadata": {},
   "outputs": [],
   "source": [
    "%load_ext d2lbook.tab\n",
    "tab.interact_select(['mxnet', 'pytorch', 'tensorflow', 'jax'])"
   ]
  },
  {
   "cell_type": "markdown",
   "id": "df3c0de2",
   "metadata": {},
   "source": [
    "# File I/O\n",
    "\n",
    "So far we have discussed how to process data and how\n",
    "to build, train, and test deep learning models.\n",
    "However, at some point we will hopefully be happy enough\n",
    "with the learned models that we will want\n",
    "to save the results for later use in various contexts\n",
    "(perhaps even to make predictions in deployment).\n",
    "Additionally, when running a long training process,\n",
    "the best practice is to periodically save intermediate results (checkpointing)\n",
    "to ensure that we do not lose several days' worth of computation\n",
    "if we trip over the power cord of our server.\n",
    "Thus it is time to learn how to load and store\n",
    "both individual weight vectors and entire models.\n",
    "This section addresses both issues."
   ]
  },
  {
   "cell_type": "code",
   "execution_count": null,
   "id": "dcc812a9",
   "metadata": {},
   "outputs": [],
   "source": [
    "%%tab mxnet\n",
    "from mxnet import np, npx\n",
    "from mxnet.gluon import nn\n",
    "npx.set_np()"
   ]
  },
  {
   "cell_type": "code",
   "execution_count": null,
   "id": "6f987b95",
   "metadata": {},
   "outputs": [],
   "source": [
    "%%tab pytorch\n",
    "import torch\n",
    "from torch import nn\n",
    "from torch.nn import functional as F"
   ]
  },
  {
   "cell_type": "code",
   "execution_count": null,
   "id": "c690a315",
   "metadata": {},
   "outputs": [],
   "source": [
    "%%tab tensorflow\n",
    "import tensorflow as tf\n",
    "import numpy as np"
   ]
  },
  {
   "cell_type": "code",
   "execution_count": null,
   "id": "fc428bd2",
   "metadata": {},
   "outputs": [],
   "source": [
    "%%tab jax\n",
    "from d2l import jax as d2l\n",
    "import flax\n",
    "from flax import linen as nn\n",
    "from flax.training import checkpoints\n",
    "import jax\n",
    "from jax import numpy as jnp"
   ]
  },
  {
   "cell_type": "markdown",
   "id": "5f09d234",
   "metadata": {},
   "source": [
    "## (**Loading and Saving Tensors**)\n",
    "\n",
    "For individual tensors, we can directly\n",
    "invoke the `load` and `save` functions\n",
    "to read and write them respectively.\n",
    "Both functions require that we supply a name,\n",
    "and `save` requires as input the variable to be saved."
   ]
  },
  {
   "cell_type": "code",
   "execution_count": null,
   "id": "7e3857c4",
   "metadata": {},
   "outputs": [],
   "source": [
    "%%tab mxnet\n",
    "x = np.arange(4)\n",
    "npx.save('x-file', x)"
   ]
  },
  {
   "cell_type": "code",
   "execution_count": null,
   "id": "8d1cd007",
   "metadata": {},
   "outputs": [],
   "source": [
    "%%tab pytorch\n",
    "x = torch.arange(4)\n",
    "torch.save(x, 'x-file')"
   ]
  },
  {
   "cell_type": "code",
   "execution_count": null,
   "id": "f03cbd78",
   "metadata": {},
   "outputs": [],
   "source": [
    "%%tab tensorflow\n",
    "x = tf.range(4)\n",
    "np.save('x-file.npy', x)"
   ]
  },
  {
   "cell_type": "code",
   "execution_count": null,
   "id": "2ec41ee1",
   "metadata": {},
   "outputs": [],
   "source": [
    "%%tab jax\n",
    "x = jnp.arange(4)\n",
    "jnp.save('x-file.npy', x)"
   ]
  },
  {
   "cell_type": "markdown",
   "id": "09a61bc8",
   "metadata": {},
   "source": [
    "We can now read the data from the stored file back into memory."
   ]
  },
  {
   "cell_type": "code",
   "execution_count": null,
   "id": "52d96165",
   "metadata": {},
   "outputs": [],
   "source": [
    "%%tab mxnet\n",
    "x2 = npx.load('x-file')\n",
    "x2"
   ]
  },
  {
   "cell_type": "code",
   "execution_count": null,
   "id": "81411a3d",
   "metadata": {},
   "outputs": [],
   "source": [
    "%%tab pytorch\n",
    "x2 = torch.load('x-file')\n",
    "x2"
   ]
  },
  {
   "cell_type": "code",
   "execution_count": null,
   "id": "a62a2389",
   "metadata": {},
   "outputs": [],
   "source": [
    "%%tab tensorflow\n",
    "x2 = np.load('x-file.npy', allow_pickle=True)\n",
    "x2"
   ]
  },
  {
   "cell_type": "code",
   "execution_count": null,
   "id": "403cc4ff",
   "metadata": {},
   "outputs": [],
   "source": [
    "%%tab jax\n",
    "x2 = jnp.load('x-file.npy', allow_pickle=True)\n",
    "x2"
   ]
  },
  {
   "cell_type": "markdown",
   "id": "aa2238d9",
   "metadata": {},
   "source": [
    "We can [**store a list of tensors and read them back into memory.**]"
   ]
  },
  {
   "cell_type": "code",
   "execution_count": null,
   "id": "54cc3cbf",
   "metadata": {},
   "outputs": [],
   "source": [
    "%%tab mxnet\n",
    "y = np.zeros(4)\n",
    "npx.save('x-files', [x, y])\n",
    "x2, y2 = npx.load('x-files')\n",
    "(x2, y2)"
   ]
  },
  {
   "cell_type": "code",
   "execution_count": null,
   "id": "4ec65b8a",
   "metadata": {},
   "outputs": [],
   "source": [
    "%%tab pytorch\n",
    "y = torch.zeros(4)\n",
    "torch.save([x, y],'x-files')\n",
    "x2, y2 = torch.load('x-files')\n",
    "(x2, y2)"
   ]
  },
  {
   "cell_type": "code",
   "execution_count": null,
   "id": "17a1280a",
   "metadata": {},
   "outputs": [],
   "source": [
    "%%tab tensorflow\n",
    "y = tf.zeros(4)\n",
    "np.save('xy-files.npy', [x, y])\n",
    "x2, y2 = np.load('xy-files.npy', allow_pickle=True)\n",
    "(x2, y2)"
   ]
  },
  {
   "cell_type": "code",
   "execution_count": null,
   "id": "78a8d904",
   "metadata": {},
   "outputs": [],
   "source": [
    "%%tab jax\n",
    "y = jnp.zeros(4)\n",
    "jnp.save('xy-files.npy', [x, y])\n",
    "x2, y2 = jnp.load('xy-files.npy', allow_pickle=True)\n",
    "(x2, y2)"
   ]
  },
  {
   "cell_type": "markdown",
   "id": "1170a4f5",
   "metadata": {},
   "source": [
    "We can even [**write and read a dictionary that maps\n",
    "from strings to tensors.**]\n",
    "This is convenient when we want\n",
    "to read or write all the weights in a model."
   ]
  },
  {
   "cell_type": "code",
   "execution_count": null,
   "id": "ed7675df",
   "metadata": {},
   "outputs": [],
   "source": [
    "%%tab mxnet\n",
    "mydict = {'x': x, 'y': y}\n",
    "npx.save('mydict', mydict)\n",
    "mydict2 = npx.load('mydict')\n",
    "mydict2"
   ]
  },
  {
   "cell_type": "code",
   "execution_count": null,
   "id": "14aad577",
   "metadata": {},
   "outputs": [],
   "source": [
    "%%tab pytorch\n",
    "mydict = {'x': x, 'y': y}\n",
    "torch.save(mydict, 'mydict')\n",
    "mydict2 = torch.load('mydict')\n",
    "mydict2"
   ]
  },
  {
   "cell_type": "code",
   "execution_count": null,
   "id": "a5a9816f",
   "metadata": {},
   "outputs": [],
   "source": [
    "%%tab tensorflow\n",
    "mydict = {'x': x, 'y': y}\n",
    "np.save('mydict.npy', mydict)\n",
    "mydict2 = np.load('mydict.npy', allow_pickle=True)\n",
    "mydict2"
   ]
  },
  {
   "cell_type": "code",
   "execution_count": null,
   "id": "dee4bcc3",
   "metadata": {},
   "outputs": [],
   "source": [
    "%%tab jax\n",
    "mydict = {'x': x, 'y': y}\n",
    "jnp.save('mydict.npy', mydict)\n",
    "mydict2 = jnp.load('mydict.npy', allow_pickle=True)\n",
    "mydict2"
   ]
  },
  {
   "cell_type": "markdown",
   "id": "5fea7961",
   "metadata": {},
   "source": [
    "## [**Loading and Saving Model Parameters**]\n",
    "\n",
    "Saving individual weight vectors (or other tensors) is useful,\n",
    "but it gets very tedious if we want to save\n",
    "(and later load) an entire model.\n",
    "After all, we might have hundreds of\n",
    "parameter groups sprinkled throughout.\n",
    "For this reason the deep learning framework provides built-in functionalities\n",
    "to load and save entire networks.\n",
    "An important detail to note is that this\n",
    "saves model *parameters* and not the entire model.\n",
    "For example, if we have a 3-layer MLP,\n",
    "we need to specify the architecture separately.\n",
    "The reason for this is that the models themselves can contain arbitrary code,\n",
    "hence they cannot be serialized as naturally.\n",
    "Thus, in order to reinstate a model, we need\n",
    "to generate the architecture in code\n",
    "and then load the parameters from disk.\n",
    "(**Let's start with our familiar MLP.**)"
   ]
  },
  {
   "cell_type": "code",
   "execution_count": null,
   "id": "a70f40dc",
   "metadata": {},
   "outputs": [],
   "source": [
    "%%tab mxnet\n",
    "class MLP(nn.Block):\n",
    "    def __init__(self, **kwargs):\n",
    "        super(MLP, self).__init__(**kwargs)\n",
    "        self.hidden = nn.Dense(256, activation='relu')\n",
    "        self.output = nn.Dense(10)\n",
    "\n",
    "    def forward(self, x):\n",
    "        return self.output(self.hidden(x))\n",
    "\n",
    "net = MLP()\n",
    "net.initialize()\n",
    "X = np.random.uniform(size=(2, 20))\n",
    "Y = net(X)"
   ]
  },
  {
   "cell_type": "code",
   "execution_count": null,
   "id": "9af7508f",
   "metadata": {},
   "outputs": [],
   "source": [
    "%%tab pytorch\n",
    "class MLP(nn.Module):\n",
    "    def __init__(self):\n",
    "        super().__init__()\n",
    "        self.hidden = nn.LazyLinear(256)\n",
    "        self.output = nn.LazyLinear(10)\n",
    "\n",
    "    def forward(self, x):\n",
    "        return self.output(F.relu(self.hidden(x)))\n",
    "\n",
    "net = MLP()\n",
    "X = torch.randn(size=(2, 20))\n",
    "Y = net(X)"
   ]
  },
  {
   "cell_type": "code",
   "execution_count": null,
   "id": "78b69ae2",
   "metadata": {},
   "outputs": [],
   "source": [
    "%%tab tensorflow\n",
    "class MLP(tf.keras.Model):\n",
    "    def __init__(self):\n",
    "        super().__init__()\n",
    "        self.flatten = tf.keras.layers.Flatten()\n",
    "        self.hidden = tf.keras.layers.Dense(units=256, activation=tf.nn.relu)\n",
    "        self.out = tf.keras.layers.Dense(units=10)\n",
    "\n",
    "    def call(self, inputs):\n",
    "        x = self.flatten(inputs)\n",
    "        x = self.hidden(x)\n",
    "        return self.out(x)\n",
    "\n",
    "net = MLP()\n",
    "X = tf.random.uniform((2, 20))\n",
    "Y = net(X)"
   ]
  },
  {
   "cell_type": "code",
   "execution_count": null,
   "id": "d71606e2",
   "metadata": {},
   "outputs": [],
   "source": [
    "%%tab jax\n",
    "class MLP(nn.Module):\n",
    "    def setup(self):\n",
    "        self.hidden = nn.Dense(256)\n",
    "        self.output = nn.Dense(10)\n",
    "\n",
    "    def __call__(self, x):\n",
    "        return self.output(nn.relu(self.hidden(x)))\n",
    "\n",
    "net = MLP()\n",
    "X = jax.random.normal(jax.random.PRNGKey(d2l.get_seed()), (2, 20))\n",
    "Y, params = net.init_with_output(jax.random.PRNGKey(d2l.get_seed()), X)"
   ]
  },
  {
   "cell_type": "markdown",
   "id": "b1a2ad45",
   "metadata": {},
   "source": [
    "Next, we [**store the parameters of the model as a file**] with the name \"mlp.params\"."
   ]
  },
  {
   "cell_type": "code",
   "execution_count": null,
   "id": "facc9f02",
   "metadata": {},
   "outputs": [],
   "source": [
    "%%tab mxnet\n",
    "net.save_parameters('mlp.params')"
   ]
  },
  {
   "cell_type": "code",
   "execution_count": null,
   "id": "21b7b70a",
   "metadata": {},
   "outputs": [],
   "source": [
    "%%tab pytorch\n",
    "torch.save(net.state_dict(), 'mlp.params')"
   ]
  },
  {
   "cell_type": "code",
   "execution_count": null,
   "id": "290bbb4c",
   "metadata": {},
   "outputs": [],
   "source": [
    "%%tab tensorflow\n",
    "net.save_weights('mlp.params')"
   ]
  },
  {
   "cell_type": "code",
   "execution_count": null,
   "id": "9e5532ae",
   "metadata": {},
   "outputs": [],
   "source": [
    "%%tab jax\n",
    "checkpoints.save_checkpoint('ckpt_dir', params, step=1, overwrite=True)"
   ]
  },
  {
   "cell_type": "markdown",
   "id": "8a693ca1",
   "metadata": {},
   "source": [
    "To recover the model, we instantiate a clone\n",
    "of the original MLP model.\n",
    "Instead of randomly initializing the model parameters,\n",
    "we [**read the parameters stored in the file directly**]."
   ]
  },
  {
   "cell_type": "code",
   "execution_count": null,
   "id": "668a144e",
   "metadata": {},
   "outputs": [],
   "source": [
    "%%tab mxnet\n",
    "clone = MLP()\n",
    "clone.load_parameters('mlp.params')"
   ]
  },
  {
   "cell_type": "code",
   "execution_count": null,
   "id": "e70b6497",
   "metadata": {},
   "outputs": [],
   "source": [
    "%%tab pytorch\n",
    "clone = MLP()\n",
    "clone.load_state_dict(torch.load('mlp.params'))\n",
    "clone.eval()"
   ]
  },
  {
   "cell_type": "code",
   "execution_count": null,
   "id": "cde45063",
   "metadata": {},
   "outputs": [],
   "source": [
    "%%tab tensorflow\n",
    "clone = MLP()\n",
    "clone.load_weights('mlp.params')"
   ]
  },
  {
   "cell_type": "code",
   "execution_count": null,
   "id": "03a17fc6",
   "metadata": {},
   "outputs": [],
   "source": [
    "%%tab jax\n",
    "clone = MLP()\n",
    "cloned_params = flax.core.freeze(checkpoints.restore_checkpoint('ckpt_dir',\n",
    "                                                                target=None))"
   ]
  },
  {
   "cell_type": "markdown",
   "id": "658e9635",
   "metadata": {},
   "source": [
    "Since both instances have the same model parameters,\n",
    "the computational result of the same input `X` should be the same.\n",
    "Let's verify this."
   ]
  },
  {
   "cell_type": "code",
   "execution_count": null,
   "id": "f6cc24ce",
   "metadata": {},
   "outputs": [],
   "source": [
    "%%tab pytorch, mxnet, tensorflow\n",
    "Y_clone = clone(X)\n",
    "Y_clone == Y"
   ]
  },
  {
   "cell_type": "code",
   "execution_count": null,
   "id": "300d9715",
   "metadata": {},
   "outputs": [],
   "source": [
    "%%tab jax\n",
    "Y_clone = clone.apply(cloned_params, X)\n",
    "Y_clone == Y"
   ]
  },
  {
   "cell_type": "markdown",
   "id": "601c61e3",
   "metadata": {},
   "source": [
    "## Summary\n",
    "\n",
    "The `save` and `load` functions can be used to perform file I/O for tensor objects.\n",
    "We can save and load the entire sets of parameters for a network via a parameter dictionary.\n",
    "Saving the architecture has to be done in code rather than in parameters.\n",
    "\n",
    "## Exercises\n",
    "\n",
    "1. Even if there is no need to deploy trained models to a different device, what are the practical benefits of storing model parameters?\n",
    "1. Assume that we want to reuse only parts of a network to be incorporated into a network having a different architecture. How would you go about using, say the first two layers from a previous network in a new network?\n",
    "1. How would you go about saving the network architecture and parameters? What restrictions would you impose on the architecture?\n",
    "\n",
    ":begin_tab:`mxnet`\n",
    "[Discussions](https://discuss.d2l.ai/t/60)\n",
    ":end_tab:\n",
    "\n",
    ":begin_tab:`pytorch`\n",
    "[Discussions](https://discuss.d2l.ai/t/61)\n",
    ":end_tab:\n",
    "\n",
    ":begin_tab:`tensorflow`\n",
    "[Discussions](https://discuss.d2l.ai/t/327)\n",
    ":end_tab:\n",
    "\n",
    ":begin_tab:`jax`\n",
    "[Discussions](https://discuss.d2l.ai/t/17994)\n",
    ":end_tab:"
   ]
  }
 ],
 "metadata": {},
 "nbformat": 4,
 "nbformat_minor": 5
}
