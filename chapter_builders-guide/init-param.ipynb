{
 "cells": [
  {
   "cell_type": "code",
   "execution_count": null,
   "id": "9a304ba3",
   "metadata": {},
   "outputs": [],
   "source": [
    "%load_ext d2lbook.tab\n",
    "tab.interact_select(['mxnet', 'pytorch', 'tensorflow', 'jax'])"
   ]
  },
  {
   "cell_type": "markdown",
   "id": "18a69b0f",
   "metadata": {},
   "source": [
    "# Parameter Initialization\n",
    "\n",
    "Now that we know how to access the parameters,\n",
    "let's look at how to initialize them properly.\n",
    "We discussed the need for proper initialization in :numref:`sec_numerical_stability`.\n",
    "The deep learning framework provides default random initializations to its layers.\n",
    "However, we often want to initialize our weights\n",
    "according to various other protocols. The framework provides most commonly\n",
    "used protocols, and also allows to create a custom initializer."
   ]
  },
  {
   "cell_type": "code",
   "execution_count": null,
   "id": "268c4ece",
   "metadata": {},
   "outputs": [],
   "source": [
    "%%tab mxnet\n",
    "from mxnet import init, np, npx\n",
    "from mxnet.gluon import nn\n",
    "npx.set_np()"
   ]
  },
  {
   "cell_type": "code",
   "execution_count": null,
   "id": "e7610a03",
   "metadata": {},
   "outputs": [],
   "source": [
    "%%tab pytorch\n",
    "import torch\n",
    "from torch import nn"
   ]
  },
  {
   "cell_type": "code",
   "execution_count": null,
   "id": "b0b45e4f",
   "metadata": {},
   "outputs": [],
   "source": [
    "%%tab tensorflow\n",
    "import tensorflow as tf"
   ]
  },
  {
   "cell_type": "code",
   "execution_count": null,
   "id": "ddb592a4",
   "metadata": {},
   "outputs": [],
   "source": [
    "%%tab jax\n",
    "from d2l import jax as d2l\n",
    "from flax import linen as nn\n",
    "import jax\n",
    "from jax import numpy as jnp"
   ]
  },
  {
   "cell_type": "markdown",
   "id": "57bf4eee",
   "metadata": {},
   "source": [
    ":begin_tab:`mxnet`\n",
    "By default, MXNet initializes weight parameters by randomly drawing from a uniform distribution $U(-0.07, 0.07)$,\n",
    "clearing bias parameters to zero.\n",
    "MXNet's `init` module provides a variety\n",
    "of preset initialization methods.\n",
    ":end_tab:\n",
    "\n",
    ":begin_tab:`pytorch`\n",
    "By default, PyTorch initializes weight and bias matrices\n",
    "uniformly by drawing from a range that is computed according to the input and output dimension.\n",
    "PyTorch's `nn.init` module provides a variety\n",
    "of preset initialization methods.\n",
    ":end_tab:\n",
    "\n",
    ":begin_tab:`tensorflow`\n",
    "By default, Keras initializes weight matrices uniformly by drawing from a range that is computed according to the input and output dimension, and the bias parameters are all set to zero.\n",
    "TensorFlow provides a variety of initialization methods both in the root module and the `keras.initializers` module.\n",
    ":end_tab:\n",
    "\n",
    ":begin_tab:`jax`\n",
    "By default, Flax initializes weights using `jax.nn.initializers.lecun_normal`,\n",
    "i.e., by drawing samples from a truncated normal distribution centered on 0 with\n",
    "the standard deviation set as the squared root of $1 / \\textrm{fan}_{\\textrm{in}}$\n",
    "where `fan_in` is the number of input units in the weight tensor. The bias\n",
    "parameters are all set to zero.\n",
    "Jax's `nn.initializers` module provides a variety\n",
    "of preset initialization methods.\n",
    ":end_tab:"
   ]
  },
  {
   "cell_type": "code",
   "execution_count": null,
   "id": "587785c1",
   "metadata": {},
   "outputs": [],
   "source": [
    "%%tab mxnet\n",
    "net = nn.Sequential()\n",
    "net.add(nn.Dense(8, activation='relu'))\n",
    "net.add(nn.Dense(1))\n",
    "net.initialize()  # Use the default initialization method\n",
    "\n",
    "X = np.random.uniform(size=(2, 4))\n",
    "net(X).shape"
   ]
  },
  {
   "cell_type": "code",
   "execution_count": null,
   "id": "d2ad7f28",
   "metadata": {},
   "outputs": [],
   "source": [
    "%%tab pytorch\n",
    "net = nn.Sequential(nn.LazyLinear(8), nn.ReLU(), nn.LazyLinear(1))\n",
    "X = torch.rand(size=(2, 4))\n",
    "net(X).shape"
   ]
  },
  {
   "cell_type": "code",
   "execution_count": null,
   "id": "507b38ee",
   "metadata": {},
   "outputs": [],
   "source": [
    "%%tab tensorflow\n",
    "net = tf.keras.models.Sequential([\n",
    "    tf.keras.layers.Flatten(),\n",
    "    tf.keras.layers.Dense(4, activation=tf.nn.relu),\n",
    "    tf.keras.layers.Dense(1),\n",
    "])\n",
    "\n",
    "X = tf.random.uniform((2, 4))\n",
    "net(X).shape"
   ]
  },
  {
   "cell_type": "code",
   "execution_count": null,
   "id": "bcb7f182",
   "metadata": {},
   "outputs": [],
   "source": [
    "%%tab jax\n",
    "net = nn.Sequential([nn.Dense(8), nn.relu, nn.Dense(1)])\n",
    "X = jax.random.uniform(d2l.get_key(), (2, 4))\n",
    "params = net.init(d2l.get_key(), X)\n",
    "net.apply(params, X).shape"
   ]
  },
  {
   "cell_type": "markdown",
   "id": "c7ecde02",
   "metadata": {},
   "source": [
    "## [**Built-in Initialization**]\n",
    "\n",
    "Let's begin by calling on built-in initializers.\n",
    "The code below initializes all weight parameters\n",
    "as Gaussian random variables\n",
    "with standard deviation 0.01, while bias parameters are cleared to zero."
   ]
  },
  {
   "cell_type": "code",
   "execution_count": null,
   "id": "4fae2ee5",
   "metadata": {},
   "outputs": [],
   "source": [
    "%%tab mxnet\n",
    "# Here force_reinit ensures that parameters are freshly initialized even if\n",
    "# they were already initialized previously\n",
    "net.initialize(init=init.Normal(sigma=0.01), force_reinit=True)\n",
    "net[0].weight.data()[0]"
   ]
  },
  {
   "cell_type": "code",
   "execution_count": null,
   "id": "da3fad95",
   "metadata": {},
   "outputs": [],
   "source": [
    "%%tab pytorch\n",
    "def init_normal(module):\n",
    "    if type(module) == nn.Linear:\n",
    "        nn.init.normal_(module.weight, mean=0, std=0.01)\n",
    "        nn.init.zeros_(module.bias)\n",
    "\n",
    "net.apply(init_normal)\n",
    "net[0].weight.data[0], net[0].bias.data[0]"
   ]
  },
  {
   "cell_type": "code",
   "execution_count": null,
   "id": "0e8a9271",
   "metadata": {},
   "outputs": [],
   "source": [
    "%%tab tensorflow\n",
    "net = tf.keras.models.Sequential([\n",
    "    tf.keras.layers.Flatten(),\n",
    "    tf.keras.layers.Dense(\n",
    "        4, activation=tf.nn.relu,\n",
    "        kernel_initializer=tf.random_normal_initializer(mean=0, stddev=0.01),\n",
    "        bias_initializer=tf.zeros_initializer()),\n",
    "    tf.keras.layers.Dense(1)])\n",
    "\n",
    "net(X)\n",
    "net.weights[0], net.weights[1]"
   ]
  },
  {
   "cell_type": "code",
   "execution_count": null,
   "id": "dd055410",
   "metadata": {},
   "outputs": [],
   "source": [
    "%%tab jax\n",
    "weight_init = nn.initializers.normal(0.01)\n",
    "bias_init = nn.initializers.zeros\n",
    "\n",
    "net = nn.Sequential([nn.Dense(8, kernel_init=weight_init, bias_init=bias_init),\n",
    "                     nn.relu,\n",
    "                     nn.Dense(1, kernel_init=weight_init, bias_init=bias_init)])\n",
    "\n",
    "params = net.init(jax.random.PRNGKey(d2l.get_seed()), X)\n",
    "layer_0 = params['params']['layers_0']\n",
    "layer_0['kernel'][:, 0], layer_0['bias'][0]"
   ]
  },
  {
   "cell_type": "markdown",
   "id": "70801a7c",
   "metadata": {},
   "source": [
    "We can also initialize all the parameters\n",
    "to a given constant value (say, 1)."
   ]
  },
  {
   "cell_type": "code",
   "execution_count": null,
   "id": "16c4ac75",
   "metadata": {},
   "outputs": [],
   "source": [
    "%%tab mxnet\n",
    "net.initialize(init=init.Constant(1), force_reinit=True)\n",
    "net[0].weight.data()[0]"
   ]
  },
  {
   "cell_type": "code",
   "execution_count": null,
   "id": "8b336685",
   "metadata": {},
   "outputs": [],
   "source": [
    "%%tab pytorch\n",
    "def init_constant(module):\n",
    "    if type(module) == nn.Linear:\n",
    "        nn.init.constant_(module.weight, 1)\n",
    "        nn.init.zeros_(module.bias)\n",
    "\n",
    "net.apply(init_constant)\n",
    "net[0].weight.data[0], net[0].bias.data[0]"
   ]
  },
  {
   "cell_type": "code",
   "execution_count": null,
   "id": "8e2ec6e2",
   "metadata": {},
   "outputs": [],
   "source": [
    "%%tab tensorflow\n",
    "net = tf.keras.models.Sequential([\n",
    "    tf.keras.layers.Flatten(),\n",
    "    tf.keras.layers.Dense(\n",
    "        4, activation=tf.nn.relu,\n",
    "        kernel_initializer=tf.keras.initializers.Constant(1),\n",
    "        bias_initializer=tf.zeros_initializer()),\n",
    "    tf.keras.layers.Dense(1),\n",
    "])\n",
    "\n",
    "net(X)\n",
    "net.weights[0], net.weights[1]"
   ]
  },
  {
   "cell_type": "code",
   "execution_count": null,
   "id": "a2998dd7",
   "metadata": {},
   "outputs": [],
   "source": [
    "%%tab jax\n",
    "weight_init = nn.initializers.constant(1)\n",
    "\n",
    "net = nn.Sequential([nn.Dense(8, kernel_init=weight_init, bias_init=bias_init),\n",
    "                     nn.relu,\n",
    "                     nn.Dense(1, kernel_init=weight_init, bias_init=bias_init)])\n",
    "\n",
    "params = net.init(jax.random.PRNGKey(d2l.get_seed()), X)\n",
    "layer_0 = params['params']['layers_0']\n",
    "layer_0['kernel'][:, 0], layer_0['bias'][0]"
   ]
  },
  {
   "cell_type": "markdown",
   "id": "1acaa54a",
   "metadata": {},
   "source": [
    "[**We can also apply different initializers for certain blocks.**]\n",
    "For example, below we initialize the first layer\n",
    "with the Xavier initializer\n",
    "and initialize the second layer\n",
    "to a constant value of 42."
   ]
  },
  {
   "cell_type": "code",
   "execution_count": null,
   "id": "b9b5c038",
   "metadata": {},
   "outputs": [],
   "source": [
    "%%tab mxnet\n",
    "net[0].weight.initialize(init=init.Xavier(), force_reinit=True)\n",
    "net[1].initialize(init=init.Constant(42), force_reinit=True)\n",
    "print(net[0].weight.data()[0])\n",
    "print(net[1].weight.data())"
   ]
  },
  {
   "cell_type": "code",
   "execution_count": null,
   "id": "1eb60c37",
   "metadata": {},
   "outputs": [],
   "source": [
    "%%tab pytorch\n",
    "def init_xavier(module):\n",
    "    if type(module) == nn.Linear:\n",
    "        nn.init.xavier_uniform_(module.weight)\n",
    "\n",
    "def init_42(module):\n",
    "    if type(module) == nn.Linear:\n",
    "        nn.init.constant_(module.weight, 42)\n",
    "\n",
    "net[0].apply(init_xavier)\n",
    "net[2].apply(init_42)\n",
    "print(net[0].weight.data[0])\n",
    "print(net[2].weight.data)"
   ]
  },
  {
   "cell_type": "code",
   "execution_count": null,
   "id": "5165e88c",
   "metadata": {},
   "outputs": [],
   "source": [
    "%%tab tensorflow\n",
    "net = tf.keras.models.Sequential([\n",
    "    tf.keras.layers.Flatten(),\n",
    "    tf.keras.layers.Dense(\n",
    "        4,\n",
    "        activation=tf.nn.relu,\n",
    "        kernel_initializer=tf.keras.initializers.GlorotUniform()),\n",
    "    tf.keras.layers.Dense(\n",
    "        1, kernel_initializer=tf.keras.initializers.Constant(42)),\n",
    "])\n",
    "\n",
    "net(X)\n",
    "print(net.layers[1].weights[0])\n",
    "print(net.layers[2].weights[0])"
   ]
  },
  {
   "cell_type": "code",
   "execution_count": null,
   "id": "fceca897",
   "metadata": {},
   "outputs": [],
   "source": [
    "%%tab jax\n",
    "net = nn.Sequential([nn.Dense(8, kernel_init=nn.initializers.xavier_uniform(),\n",
    "                              bias_init=bias_init),\n",
    "                     nn.relu,\n",
    "                     nn.Dense(1, kernel_init=nn.initializers.constant(42),\n",
    "                              bias_init=bias_init)])\n",
    "\n",
    "params = net.init(jax.random.PRNGKey(d2l.get_seed()), X)\n",
    "params['params']['layers_0']['kernel'][:, 0], params['params']['layers_2']['kernel']"
   ]
  },
  {
   "cell_type": "markdown",
   "id": "c384321d",
   "metadata": {},
   "source": [
    "### [**Custom Initialization**]\n",
    "\n",
    "Sometimes, the initialization methods we need\n",
    "are not provided by the deep learning framework.\n",
    "In the example below, we define an initializer\n",
    "for any weight parameter $w$ using the following strange distribution:\n",
    "\n",
    "$$\n",
    "\\begin{aligned}\n",
    "    w \\sim \\begin{cases}\n",
    "        U(5, 10) & \\textrm{ with probability } \\frac{1}{4} \\\\\n",
    "            0    & \\textrm{ with probability } \\frac{1}{2} \\\\\n",
    "        U(-10, -5) & \\textrm{ with probability } \\frac{1}{4}\n",
    "    \\end{cases}\n",
    "\\end{aligned}\n",
    "$$\n",
    "\n",
    ":begin_tab:`mxnet`\n",
    "Here we define a subclass of the `Initializer` class.\n",
    "Usually, we only need to implement the `_init_weight` function\n",
    "which takes a tensor argument (`data`)\n",
    "and assigns to it the desired initialized values.\n",
    ":end_tab:\n",
    "\n",
    ":begin_tab:`pytorch`\n",
    "Again, we implement a `my_init` function to apply to `net`.\n",
    ":end_tab:\n",
    "\n",
    ":begin_tab:`tensorflow`\n",
    "Here we define a subclass of `Initializer` and implement the `__call__`\n",
    "function that return a desired tensor given the shape and data type.\n",
    ":end_tab:\n",
    "\n",
    ":begin_tab:`jax`\n",
    "Jax initialization functions take as arguments the `PRNGKey`, `shape` and\n",
    "`dtype`. Here we implement the function `my_init` that returns a desired\n",
    "tensor given the shape and data type.\n",
    ":end_tab:"
   ]
  },
  {
   "cell_type": "code",
   "execution_count": null,
   "id": "3ae5ef09",
   "metadata": {},
   "outputs": [],
   "source": [
    "%%tab mxnet\n",
    "class MyInit(init.Initializer):\n",
    "    def _init_weight(self, name, data):\n",
    "        print('Init', name, data.shape)\n",
    "        data[:] = np.random.uniform(-10, 10, data.shape)\n",
    "        data *= np.abs(data) >= 5\n",
    "\n",
    "net.initialize(MyInit(), force_reinit=True)\n",
    "net[0].weight.data()[:2]"
   ]
  },
  {
   "cell_type": "code",
   "execution_count": null,
   "id": "8596a398",
   "metadata": {},
   "outputs": [],
   "source": [
    "%%tab pytorch\n",
    "def my_init(module):\n",
    "    if type(module) == nn.Linear:\n",
    "        print(\"Init\", *[(name, param.shape)\n",
    "                        for name, param in module.named_parameters()][0])\n",
    "        nn.init.uniform_(module.weight, -10, 10)\n",
    "        module.weight.data *= module.weight.data.abs() >= 5\n",
    "\n",
    "net.apply(my_init)\n",
    "net[0].weight[:2]"
   ]
  },
  {
   "cell_type": "code",
   "execution_count": null,
   "id": "3339fa3a",
   "metadata": {},
   "outputs": [],
   "source": [
    "%%tab tensorflow\n",
    "class MyInit(tf.keras.initializers.Initializer):\n",
    "    def __call__(self, shape, dtype=None):\n",
    "        data=tf.random.uniform(shape, -10, 10, dtype=dtype)\n",
    "        factor=(tf.abs(data) >= 5)\n",
    "        factor=tf.cast(factor, tf.float32)\n",
    "        return data * factor\n",
    "\n",
    "net = tf.keras.models.Sequential([\n",
    "    tf.keras.layers.Flatten(),\n",
    "    tf.keras.layers.Dense(\n",
    "        4,\n",
    "        activation=tf.nn.relu,\n",
    "        kernel_initializer=MyInit()),\n",
    "    tf.keras.layers.Dense(1),\n",
    "])\n",
    "\n",
    "net(X)\n",
    "print(net.layers[1].weights[0])"
   ]
  },
  {
   "cell_type": "code",
   "execution_count": null,
   "id": "a49d47b1",
   "metadata": {},
   "outputs": [],
   "source": [
    "%%tab jax\n",
    "def my_init(key, shape, dtype=jnp.float_):\n",
    "    data = jax.random.uniform(key, shape, minval=-10, maxval=10)\n",
    "    return data * (jnp.abs(data) >= 5)\n",
    "\n",
    "net = nn.Sequential([nn.Dense(8, kernel_init=my_init), nn.relu, nn.Dense(1)])\n",
    "params = net.init(d2l.get_key(), X)\n",
    "print(params['params']['layers_0']['kernel'][:, :2])"
   ]
  },
  {
   "cell_type": "markdown",
   "id": "cbbdbe7c",
   "metadata": {},
   "source": [
    ":begin_tab:`mxnet, pytorch, tensorflow`\n",
    "Note that we always have the option\n",
    "of setting parameters directly.\n",
    ":end_tab:\n",
    "\n",
    ":begin_tab:`jax`\n",
    "When initializing parameters in JAX and Flax, the the dictionary of parameters\n",
    "returned has a `flax.core.frozen_dict.FrozenDict` type. It is not advisable in\n",
    "the Jax ecosystem to directly alter the values of an array, hence the datatypes\n",
    "are generally immutable. One might use `params.unfreeze()` to make changes.\n",
    ":end_tab:"
   ]
  },
  {
   "cell_type": "code",
   "execution_count": null,
   "id": "440b74b0",
   "metadata": {},
   "outputs": [],
   "source": [
    "%%tab mxnet\n",
    "net[0].weight.data()[:] += 1\n",
    "net[0].weight.data()[0, 0] = 42\n",
    "net[0].weight.data()[0]"
   ]
  },
  {
   "cell_type": "code",
   "execution_count": null,
   "id": "33b6ea37",
   "metadata": {},
   "outputs": [],
   "source": [
    "%%tab pytorch\n",
    "net[0].weight.data[:] += 1\n",
    "net[0].weight.data[0, 0] = 42\n",
    "net[0].weight.data[0]"
   ]
  },
  {
   "cell_type": "code",
   "execution_count": null,
   "id": "b01a46c7",
   "metadata": {},
   "outputs": [],
   "source": [
    "%%tab tensorflow\n",
    "net.layers[1].weights[0][:].assign(net.layers[1].weights[0] + 1)\n",
    "net.layers[1].weights[0][0, 0].assign(42)\n",
    "net.layers[1].weights[0]"
   ]
  },
  {
   "cell_type": "markdown",
   "id": "845565a1",
   "metadata": {},
   "source": [
    "## Summary\n",
    "\n",
    "We can initialize parameters using built-in and custom initializers.\n",
    "\n",
    "## Exercises\n",
    "\n",
    "Look up the online documentation for more built-in initializers.\n",
    "\n",
    ":begin_tab:`mxnet`\n",
    "[Discussions](https://discuss.d2l.ai/t/8089)\n",
    ":end_tab:\n",
    "\n",
    ":begin_tab:`pytorch`\n",
    "[Discussions](https://discuss.d2l.ai/t/8090)\n",
    ":end_tab:\n",
    "\n",
    ":begin_tab:`tensorflow`\n",
    "[Discussions](https://discuss.d2l.ai/t/8091)\n",
    ":end_tab:\n",
    "\n",
    ":begin_tab:`jax`\n",
    "[Discussions](https://discuss.d2l.ai/t/17991)\n",
    ":end_tab:"
   ]
  }
 ],
 "metadata": {},
 "nbformat": 4,
 "nbformat_minor": 5
}
