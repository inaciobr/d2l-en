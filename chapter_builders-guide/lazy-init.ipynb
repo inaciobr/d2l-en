{
 "cells": [
  {
   "cell_type": "code",
   "execution_count": null,
   "id": "49b32e71",
   "metadata": {},
   "outputs": [],
   "source": [
    "%load_ext d2lbook.tab\n",
    "tab.interact_select(['mxnet', 'pytorch', 'tensorflow', 'jax'])"
   ]
  },
  {
   "cell_type": "markdown",
   "id": "a12a3235",
   "metadata": {},
   "source": [
    "# Lazy Initialization\n",
    ":label:`sec_lazy_init`\n",
    "\n",
    "So far, it might seem that we got away\n",
    "with being sloppy in setting up our networks.\n",
    "Specifically, we did the following unintuitive things,\n",
    "which might not seem like they should work:\n",
    "\n",
    "* We defined the network architectures\n",
    "  without specifying the input dimensionality.\n",
    "* We added layers without specifying\n",
    "  the output dimension of the previous layer.\n",
    "* We even \"initialized\" these parameters\n",
    "  before providing enough information to determine\n",
    "  how many parameters our models should contain.\n",
    "\n",
    "You might be surprised that our code runs at all.\n",
    "After all, there is no way the deep learning framework\n",
    "could tell what the input dimensionality of a network would be.\n",
    "The trick here is that the framework *defers initialization*,\n",
    "waiting until the first time we pass data through the model,\n",
    "to infer the sizes of each layer on the fly.\n",
    "\n",
    "\n",
    "Later on, when working with convolutional neural networks,\n",
    "this technique will become even more convenient\n",
    "since the input dimensionality\n",
    "(e.g., the resolution of an image)\n",
    "will affect the dimensionality\n",
    "of each subsequent layer.\n",
    "Hence the ability to set parameters\n",
    "without the need to know,\n",
    "at the time of writing the code,\n",
    "the value of the dimension\n",
    "can greatly simplify the task of specifying\n",
    "and subsequently modifying our models.\n",
    "Next, we go deeper into the mechanics of initialization."
   ]
  },
  {
   "cell_type": "code",
   "execution_count": null,
   "id": "77174004",
   "metadata": {},
   "outputs": [],
   "source": [
    "%%tab mxnet\n",
    "from mxnet import np, npx\n",
    "from mxnet.gluon import nn\n",
    "npx.set_np()"
   ]
  },
  {
   "cell_type": "code",
   "execution_count": null,
   "id": "39fbb210",
   "metadata": {},
   "outputs": [],
   "source": [
    "%%tab pytorch\n",
    "from d2l import torch as d2l\n",
    "import torch\n",
    "from torch import nn"
   ]
  },
  {
   "cell_type": "code",
   "execution_count": null,
   "id": "f9c2bbab",
   "metadata": {},
   "outputs": [],
   "source": [
    "%%tab tensorflow\n",
    "import tensorflow as tf"
   ]
  },
  {
   "cell_type": "code",
   "execution_count": null,
   "id": "42952d4d",
   "metadata": {},
   "outputs": [],
   "source": [
    "%%tab jax\n",
    "from d2l import jax as d2l\n",
    "from flax import linen as nn\n",
    "import jax\n",
    "from jax import numpy as jnp"
   ]
  },
  {
   "cell_type": "markdown",
   "id": "275f4411",
   "metadata": {},
   "source": [
    "To begin, let's instantiate an MLP."
   ]
  },
  {
   "cell_type": "code",
   "execution_count": null,
   "id": "425c7387",
   "metadata": {},
   "outputs": [],
   "source": [
    "%%tab mxnet\n",
    "net = nn.Sequential()\n",
    "net.add(nn.Dense(256, activation='relu'))\n",
    "net.add(nn.Dense(10))"
   ]
  },
  {
   "cell_type": "code",
   "execution_count": null,
   "id": "58050f30",
   "metadata": {},
   "outputs": [],
   "source": [
    "%%tab pytorch\n",
    "net = nn.Sequential(nn.LazyLinear(256), nn.ReLU(), nn.LazyLinear(10))"
   ]
  },
  {
   "cell_type": "code",
   "execution_count": null,
   "id": "a97ba349",
   "metadata": {},
   "outputs": [],
   "source": [
    "%%tab tensorflow\n",
    "net = tf.keras.models.Sequential([\n",
    "    tf.keras.layers.Dense(256, activation=tf.nn.relu),\n",
    "    tf.keras.layers.Dense(10),\n",
    "])"
   ]
  },
  {
   "cell_type": "code",
   "execution_count": null,
   "id": "3867ab60",
   "metadata": {},
   "outputs": [],
   "source": [
    "%%tab jax\n",
    "net = nn.Sequential([nn.Dense(256), nn.relu, nn.Dense(10)])"
   ]
  },
  {
   "cell_type": "markdown",
   "id": "be65aa98",
   "metadata": {},
   "source": [
    "At this point, the network cannot possibly know\n",
    "the dimensions of the input layer's weights\n",
    "because the input dimension remains unknown.\n",
    "\n",
    ":begin_tab:`mxnet, pytorch, tensorflow`\n",
    "Consequently the framework has not yet initialized any parameters.\n",
    "We confirm by attempting to access the parameters below.\n",
    ":end_tab:\n",
    "\n",
    ":begin_tab:`jax`\n",
    "As mentioned in :numref:`subsec_param-access`, parameters and the network definition are decoupled\n",
    "in Jax and Flax, and the user handles both manually. Flax models are stateless\n",
    "hence there is no `parameters` attribute.\n",
    ":end_tab:"
   ]
  },
  {
   "cell_type": "code",
   "execution_count": null,
   "id": "c68674c4",
   "metadata": {},
   "outputs": [],
   "source": [
    "%%tab mxnet\n",
    "print(net.collect_params)\n",
    "print(net.collect_params())"
   ]
  },
  {
   "cell_type": "code",
   "execution_count": null,
   "id": "c8e3bb5f",
   "metadata": {},
   "outputs": [],
   "source": [
    "%%tab pytorch\n",
    "net[0].weight"
   ]
  },
  {
   "cell_type": "code",
   "execution_count": null,
   "id": "de22cdeb",
   "metadata": {},
   "outputs": [],
   "source": [
    "%%tab tensorflow\n",
    "[net.layers[i].get_weights() for i in range(len(net.layers))]"
   ]
  },
  {
   "cell_type": "markdown",
   "id": "5fbe125b",
   "metadata": {},
   "source": [
    ":begin_tab:`mxnet`\n",
    "Note that while the parameter objects exist,\n",
    "the input dimension to each layer is listed as -1.\n",
    "MXNet uses the special value -1 to indicate\n",
    "that the parameter dimension remains unknown.\n",
    "At this point, attempts to access `net[0].weight.data()`\n",
    "would trigger a runtime error stating that the network\n",
    "must be initialized before the parameters can be accessed.\n",
    "Now let's see what happens when we attempt to initialize\n",
    "parameters via the `initialize` method.\n",
    ":end_tab:\n",
    "\n",
    ":begin_tab:`tensorflow`\n",
    "Note that each layer objects exist but the weights are empty.\n",
    "Using `net.get_weights()` would throw an error since the weights\n",
    "have not been initialized yet.\n",
    ":end_tab:"
   ]
  },
  {
   "cell_type": "code",
   "execution_count": null,
   "id": "662dc700",
   "metadata": {},
   "outputs": [],
   "source": [
    "%%tab mxnet\n",
    "net.initialize()\n",
    "net.collect_params()"
   ]
  },
  {
   "cell_type": "markdown",
   "id": "f817a4a4",
   "metadata": {},
   "source": [
    ":begin_tab:`mxnet`\n",
    "As we can see, nothing has changed.\n",
    "When input dimensions are unknown,\n",
    "calls to initialize do not truly initialize the parameters.\n",
    "Instead, this call registers to MXNet that we wish\n",
    "(and optionally, according to which distribution)\n",
    "to initialize the parameters.\n",
    ":end_tab:\n",
    "\n",
    "Next let's pass data through the network\n",
    "to make the framework finally initialize parameters."
   ]
  },
  {
   "cell_type": "code",
   "execution_count": null,
   "id": "3e4c517c",
   "metadata": {},
   "outputs": [],
   "source": [
    "%%tab mxnet\n",
    "X = np.random.uniform(size=(2, 20))\n",
    "net(X)\n",
    "\n",
    "net.collect_params()"
   ]
  },
  {
   "cell_type": "code",
   "execution_count": null,
   "id": "d6928557",
   "metadata": {},
   "outputs": [],
   "source": [
    "%%tab pytorch\n",
    "X = torch.rand(2, 20)\n",
    "net(X)\n",
    "\n",
    "net[0].weight.shape"
   ]
  },
  {
   "cell_type": "code",
   "execution_count": null,
   "id": "b0268718",
   "metadata": {},
   "outputs": [],
   "source": [
    "%%tab tensorflow\n",
    "X = tf.random.uniform((2, 20))\n",
    "net(X)\n",
    "[w.shape for w in net.get_weights()]"
   ]
  },
  {
   "cell_type": "code",
   "execution_count": null,
   "id": "5319d9af",
   "metadata": {},
   "outputs": [],
   "source": [
    "%%tab jax\n",
    "params = net.init(d2l.get_key(), jnp.zeros((2, 20)))\n",
    "jax.tree_util.tree_map(lambda x: x.shape, params).tree_flatten_with_keys()"
   ]
  },
  {
   "cell_type": "markdown",
   "id": "2ccc637b",
   "metadata": {},
   "source": [
    "As soon as we know the input dimensionality,\n",
    "20,\n",
    "the framework can identify the shape of the first layer's weight matrix by plugging in the value of 20.\n",
    "Having recognized the first layer's shape, the framework proceeds\n",
    "to the second layer,\n",
    "and so on through the computational graph\n",
    "until all shapes are known.\n",
    "Note that in this case,\n",
    "only the first layer requires lazy initialization,\n",
    "but the framework initializes sequentially.\n",
    "Once all parameter shapes are known,\n",
    "the framework can finally initialize the parameters.\n",
    "\n",
    ":begin_tab:`pytorch`\n",
    "The following method\n",
    "passes in dummy inputs\n",
    "through the network\n",
    "for a dry run\n",
    "to infer all parameter shapes\n",
    "and subsequently initializes the parameters.\n",
    "It will be used later when default random initializations are not desired.\n",
    ":end_tab:\n",
    "\n",
    ":begin_tab:`jax`\n",
    "Parameter initialization in Flax is always done manually and handled by the\n",
    "user. The following method takes a dummy input and a key dictionary as argument.\n",
    "This key dictionary has the rngs for initializing the model parameters\n",
    "and dropout rng for generating the dropout mask for the models with\n",
    "dropout layers. More about dropout will be covered later in :numref:`sec_dropout`.\n",
    "Ultimately the method initializes the model returning the parameters.\n",
    "We have been using it under the hood in the previous sections as well.\n",
    ":end_tab:"
   ]
  },
  {
   "cell_type": "code",
   "execution_count": null,
   "id": "4d0b8278",
   "metadata": {},
   "outputs": [],
   "source": [
    "%%tab pytorch\n",
    "@d2l.add_to_class(d2l.Module)  #@save\n",
    "def apply_init(self, inputs, init=None):\n",
    "    self.forward(*inputs)\n",
    "    if init is not None:\n",
    "        self.net.apply(init)"
   ]
  },
  {
   "cell_type": "code",
   "execution_count": null,
   "id": "4652aefe",
   "metadata": {},
   "outputs": [],
   "source": [
    "%%tab jax\n",
    "@d2l.add_to_class(d2l.Module)  #@save\n",
    "def apply_init(self, dummy_input, key):\n",
    "    params = self.init(key, *dummy_input)  # dummy_input tuple unpacked\n",
    "    return params"
   ]
  },
  {
   "cell_type": "markdown",
   "id": "8d057fa5",
   "metadata": {},
   "source": [
    "## Summary\n",
    "\n",
    "Lazy initialization can be convenient, allowing the framework to infer parameter shapes automatically, making it easy to modify architectures and eliminating one common source of errors.\n",
    "We can pass data through the model to make the framework finally initialize parameters.\n",
    "\n",
    "\n",
    "## Exercises\n",
    "\n",
    "1. What happens if you specify the input dimensions to the first layer but not to subsequent layers? Do you get immediate initialization?\n",
    "1. What happens if you specify mismatching dimensions?\n",
    "1. What would you need to do if you have input of varying dimensionality? Hint: look at the parameter tying.\n",
    "\n",
    ":begin_tab:`mxnet`\n",
    "[Discussions](https://discuss.d2l.ai/t/280)\n",
    ":end_tab:\n",
    "\n",
    ":begin_tab:`pytorch`\n",
    "[Discussions](https://discuss.d2l.ai/t/8092)\n",
    ":end_tab:\n",
    "\n",
    ":begin_tab:`tensorflow`\n",
    "[Discussions](https://discuss.d2l.ai/t/281)\n",
    ":end_tab:\n",
    "\n",
    ":begin_tab:`jax`\n",
    "[Discussions](https://discuss.d2l.ai/t/17992)\n",
    ":end_tab:"
   ]
  }
 ],
 "metadata": {},
 "nbformat": 4,
 "nbformat_minor": 5
}
