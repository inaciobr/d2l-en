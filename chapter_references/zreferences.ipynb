{
 "cells": [
  {
   "cell_type": "code",
   "execution_count": null,
   "id": "318c303f",
   "metadata": {
    "attributes": {
     "classes": [
      "eval_rst"
     ],
     "id": ""
    }
   },
   "outputs": [],
   "source": [
    "\n",
    ".. only:: html\n",
    "\n",
    "   References\n",
    "   ==========\n"
   ]
  },
  {
   "cell_type": "markdown",
   "id": "f607143f",
   "metadata": {},
   "source": [
    ":bibliography:`../d2l.bib`"
   ]
  }
 ],
 "metadata": {},
 "nbformat": 4,
 "nbformat_minor": 5
}
