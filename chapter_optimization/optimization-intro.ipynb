{
 "cells": [
  {
   "cell_type": "markdown",
   "id": "b0dc2f82",
   "metadata": {},
   "source": [
    "# Optimization and Deep Learning\n",
    ":label:`sec_optimization-intro`\n",
    "\n",
    "In this section, we will discuss the relationship between optimization and deep learning as well as the challenges of using optimization in deep learning.\n",
    "For a deep learning problem, we will usually define a *loss function* first. Once we have the loss function, we can use an optimization algorithm in attempt to minimize the loss.\n",
    "In optimization, a loss function is often referred to as the *objective function* of the optimization problem. By tradition and convention most optimization algorithms are concerned with *minimization*. If we ever need to maximize an objective there is a simple solution: just flip the sign on the objective.\n",
    "\n",
    "## Goal of Optimization\n",
    "\n",
    "Although optimization provides a way to minimize the loss function for deep\n",
    "learning, in essence, the goals of optimization and deep learning are\n",
    "fundamentally different.\n",
    "The former is primarily concerned with minimizing an\n",
    "objective whereas the latter is concerned with finding a suitable model, given a\n",
    "finite amount of data.\n",
    "In :numref:`sec_generalization_basics`,\n",
    "we discussed the difference between these two goals in detail.\n",
    "For instance,\n",
    "training error and generalization error generally differ: since the objective\n",
    "function of the optimization algorithm is usually a loss function based on the\n",
    "training dataset, the goal of optimization is to reduce the training error.\n",
    "However, the goal of deep learning (or more broadly, statistical inference) is to\n",
    "reduce the generalization error.\n",
    "To accomplish the latter we need to pay\n",
    "attention to overfitting in addition to using the optimization algorithm to\n",
    "reduce the training error."
   ]
  },
  {
   "cell_type": "code",
   "execution_count": null,
   "id": "cc59d8f7",
   "metadata": {},
   "outputs": [],
   "source": [
    "#@tab mxnet\n",
    "%matplotlib inline\n",
    "from d2l import mxnet as d2l\n",
    "from mpl_toolkits import mplot3d\n",
    "from mxnet import np, npx\n",
    "npx.set_np()"
   ]
  },
  {
   "cell_type": "code",
   "execution_count": null,
   "id": "8f127e9b",
   "metadata": {},
   "outputs": [],
   "source": [
    "#@tab pytorch\n",
    "%matplotlib inline\n",
    "from d2l import torch as d2l\n",
    "import numpy as np\n",
    "from mpl_toolkits import mplot3d\n",
    "import torch"
   ]
  },
  {
   "cell_type": "code",
   "execution_count": null,
   "id": "51b404b2",
   "metadata": {},
   "outputs": [],
   "source": [
    "#@tab tensorflow\n",
    "%matplotlib inline\n",
    "from d2l import tensorflow as d2l\n",
    "import numpy as np\n",
    "from mpl_toolkits import mplot3d\n",
    "import tensorflow as tf"
   ]
  },
  {
   "cell_type": "markdown",
   "id": "de222767",
   "metadata": {},
   "source": [
    "To illustrate the aforementioned different goals,\n",
    "let's consider\n",
    "the empirical risk and the risk.\n",
    "As described\n",
    "in :numref:`subsec_empirical-risk-and-risk`,\n",
    "the empirical risk\n",
    "is an average loss\n",
    "on the training dataset\n",
    "while the risk is the expected loss\n",
    "on the entire population of data.\n",
    "Below we define two functions:\n",
    "the risk function `f`\n",
    "and the empirical risk function `g`.\n",
    "Suppose that we have only a finite amount of training data.\n",
    "As a result, here `g` is less smooth than `f`."
   ]
  },
  {
   "cell_type": "code",
   "execution_count": null,
   "id": "1222027f",
   "metadata": {},
   "outputs": [],
   "source": [
    "#@tab all\n",
    "def f(x):\n",
    "    return x * d2l.cos(np.pi * x)\n",
    "\n",
    "def g(x):\n",
    "    return f(x) + 0.2 * d2l.cos(5 * np.pi * x)"
   ]
  },
  {
   "cell_type": "markdown",
   "id": "8ce10e37",
   "metadata": {},
   "source": [
    "The graph below illustrates that the minimum of the empirical risk on a training dataset may be at a different location from the minimum of the risk (generalization error)."
   ]
  },
  {
   "cell_type": "code",
   "execution_count": null,
   "id": "6627cc81",
   "metadata": {},
   "outputs": [],
   "source": [
    "#@tab all\n",
    "def annotate(text, xy, xytext):  #@save\n",
    "    d2l.plt.gca().annotate(text, xy=xy, xytext=xytext,\n",
    "                           arrowprops=dict(arrowstyle='->'))\n",
    "\n",
    "x = d2l.arange(0.5, 1.5, 0.01)\n",
    "d2l.set_figsize((4.5, 2.5))\n",
    "d2l.plot(x, [f(x), g(x)], 'x', 'risk')\n",
    "annotate('min of\\nempirical risk', (1.0, -1.2), (0.5, -1.1))\n",
    "annotate('min of risk', (1.1, -1.05), (0.95, -0.5))"
   ]
  },
  {
   "cell_type": "markdown",
   "id": "f2735ca4",
   "metadata": {},
   "source": [
    "## Optimization Challenges in Deep Learning\n",
    "\n",
    "In this chapter, we are going to focus specifically on the performance of optimization algorithms in minimizing the objective function, rather than a\n",
    "model's generalization error.\n",
    "In :numref:`sec_linear_regression`\n",
    "we distinguished between analytical solutions and numerical solutions in\n",
    "optimization problems.\n",
    "In deep learning, most objective functions are\n",
    "complicated and do not have analytical solutions. Instead, we must use numerical\n",
    "optimization algorithms.\n",
    "The optimization algorithms in this chapter\n",
    "all fall into this\n",
    "category.\n",
    "\n",
    "There are many challenges in deep learning optimization. Some of the most vexing ones are local minima, saddle points, and vanishing gradients.\n",
    "Let's have a look at them.\n",
    "\n",
    "\n",
    "### Local Minima\n",
    "\n",
    "For any objective function $f(x)$,\n",
    "if the value of $f(x)$ at $x$ is smaller than the values of $f(x)$ at any other points in the vicinity of $x$, then $f(x)$ could be a local minimum.\n",
    "If the value of $f(x)$ at $x$ is the minimum of the objective function over the entire domain,\n",
    "then $f(x)$ is the global minimum.\n",
    "\n",
    "For example, given the function\n",
    "\n",
    "$$f(x) = x \\cdot \\textrm{cos}(\\pi x) \\textrm{ for } -1.0 \\leq x \\leq 2.0,$$\n",
    "\n",
    "we can approximate the local minimum and global minimum of this function."
   ]
  },
  {
   "cell_type": "code",
   "execution_count": null,
   "id": "6ed2a904",
   "metadata": {},
   "outputs": [],
   "source": [
    "#@tab all\n",
    "x = d2l.arange(-1.0, 2.0, 0.01)\n",
    "d2l.plot(x, [f(x), ], 'x', 'f(x)')\n",
    "annotate('local minimum', (-0.3, -0.25), (-0.77, -1.0))\n",
    "annotate('global minimum', (1.1, -0.95), (0.6, 0.8))"
   ]
  },
  {
   "cell_type": "markdown",
   "id": "55bde29c",
   "metadata": {},
   "source": [
    "The objective function of deep learning models usually has many local optima.\n",
    "When the numerical solution of an optimization problem is near the local optimum, the numerical solution obtained by the final iteration may only minimize the objective function *locally*, rather than *globally*, as the gradient of the objective function's solutions approaches or becomes zero.\n",
    "Only some degree of noise might knock the parameter out of the local minimum. In fact, this is one of the beneficial properties of\n",
    "minibatch stochastic gradient descent where the natural variation of gradients over minibatches is able to dislodge the parameters from local minima.\n",
    "\n",
    "\n",
    "### Saddle Points\n",
    "\n",
    "Besides local minima, saddle points are another reason for gradients to vanish. A *saddle point* is any location where all gradients of a function vanish but which is neither a global nor a local minimum.\n",
    "Consider the function $f(x) = x^3$. Its first and second derivative vanish for $x=0$. Optimization might stall at this point, even though it is not a minimum."
   ]
  },
  {
   "cell_type": "code",
   "execution_count": null,
   "id": "61946409",
   "metadata": {},
   "outputs": [],
   "source": [
    "#@tab all\n",
    "x = d2l.arange(-2.0, 2.0, 0.01)\n",
    "d2l.plot(x, [x**3], 'x', 'f(x)')\n",
    "annotate('saddle point', (0, -0.2), (-0.52, -5.0))"
   ]
  },
  {
   "cell_type": "markdown",
   "id": "7263fb07",
   "metadata": {},
   "source": [
    "Saddle points in higher dimensions are even more insidious, as the example below shows. Consider the function $f(x, y) = x^2 - y^2$. It has its saddle point at $(0, 0)$. This is a maximum with respect to $y$ and a minimum with respect to $x$. Moreover, it *looks* like a saddle, which is where this mathematical property got its name."
   ]
  },
  {
   "cell_type": "code",
   "execution_count": null,
   "id": "1c2ce06f",
   "metadata": {},
   "outputs": [],
   "source": [
    "#@tab mxnet\n",
    "x, y = d2l.meshgrid(\n",
    "    d2l.linspace(-1.0, 1.0, 101), d2l.linspace(-1.0, 1.0, 101))\n",
    "z = x**2 - y**2\n",
    "\n",
    "ax = d2l.plt.figure().add_subplot(111, projection='3d')\n",
    "ax.plot_wireframe(x.asnumpy(), y.asnumpy(), z.asnumpy(),\n",
    "                  **{'rstride': 10, 'cstride': 10})\n",
    "ax.plot([0], [0], [0], 'rx')\n",
    "ticks = [-1, 0, 1]\n",
    "d2l.plt.xticks(ticks)\n",
    "d2l.plt.yticks(ticks)\n",
    "ax.set_zticks(ticks)\n",
    "d2l.plt.xlabel('x')\n",
    "d2l.plt.ylabel('y');"
   ]
  },
  {
   "cell_type": "code",
   "execution_count": null,
   "id": "1c9749d7",
   "metadata": {},
   "outputs": [],
   "source": [
    "#@tab pytorch, tensorflow\n",
    "x, y = d2l.meshgrid(\n",
    "    d2l.linspace(-1.0, 1.0, 101), d2l.linspace(-1.0, 1.0, 101))\n",
    "z = x**2 - y**2\n",
    "\n",
    "ax = d2l.plt.figure().add_subplot(111, projection='3d')\n",
    "ax.plot_wireframe(x, y, z, **{'rstride': 10, 'cstride': 10})\n",
    "ax.plot([0], [0], [0], 'rx')\n",
    "ticks = [-1, 0, 1]\n",
    "d2l.plt.xticks(ticks)\n",
    "d2l.plt.yticks(ticks)\n",
    "ax.set_zticks(ticks)\n",
    "d2l.plt.xlabel('x')\n",
    "d2l.plt.ylabel('y');"
   ]
  },
  {
   "cell_type": "markdown",
   "id": "04266abc",
   "metadata": {},
   "source": [
    "We assume that the input of a function is a $k$-dimensional vector and its\n",
    "output is a scalar, so its Hessian matrix will have $k$ eigenvalues.\n",
    "The solution of the\n",
    "function could be a local minimum, a local maximum, or a saddle point at a\n",
    "position where the function gradient is zero:\n",
    "\n",
    "* When the eigenvalues of the function's Hessian matrix at the zero-gradient position are all positive, we have a local minimum for the function.\n",
    "* When the eigenvalues of the function's Hessian matrix at the zero-gradient position are all negative, we have a local maximum for the function.\n",
    "* When the eigenvalues of the function's Hessian matrix at the zero-gradient position are negative and positive, we have a saddle point for the function.\n",
    "\n",
    "For high-dimensional problems the likelihood that at least *some* of the eigenvalues are negative is quite high. This makes saddle points more likely than local minima. We will discuss some exceptions to this situation in the next section when introducing convexity. In short, convex functions are those where the eigenvalues of the Hessian are never negative. Sadly, though, most deep learning problems do not fall into this category. Nonetheless it is a great tool to study optimization algorithms.\n",
    "\n",
    "### Vanishing Gradients\n",
    "\n",
    "Probably the most insidious problem to encounter is the vanishing gradient.\n",
    "Recall our commonly-used activation functions and their derivatives in :numref:`subsec_activation-functions`.\n",
    "For instance, assume that we want to minimize the function $f(x) = \\tanh(x)$ and we happen to get started at $x = 4$. As we can see, the gradient of $f$ is close to nil.\n",
    "More specifically, $f'(x) = 1 - \\tanh^2(x)$ and thus $f'(4) = 0.0013$.\n",
    "Consequently, optimization will get stuck for a long time before we make progress. This turns out to be one of the reasons that training deep learning models was quite tricky prior to the introduction of the ReLU activation function."
   ]
  },
  {
   "cell_type": "code",
   "execution_count": null,
   "id": "ec5e3dbc",
   "metadata": {},
   "outputs": [],
   "source": [
    "#@tab all\n",
    "x = d2l.arange(-2.0, 5.0, 0.01)\n",
    "d2l.plot(x, [d2l.tanh(x)], 'x', 'f(x)')\n",
    "annotate('vanishing gradient', (4, 1), (2, 0.0))"
   ]
  },
  {
   "cell_type": "markdown",
   "id": "832635e0",
   "metadata": {},
   "source": [
    "As we saw, optimization for deep learning is full of challenges. Fortunately there exists a robust range of algorithms that perform well and that are easy to use even for beginners. Furthermore, it is not really necessary to find *the* best solution. Local optima or even approximate solutions thereof are still very useful.\n",
    "\n",
    "## Summary\n",
    "\n",
    "* Minimizing the training error does *not* guarantee that we find the best set of parameters to minimize the generalization error.\n",
    "* The optimization problems may have many local minima.\n",
    "* The problem may have even more saddle points, as generally the problems are not convex.\n",
    "* Vanishing gradients can cause optimization to stall. Often a reparametrization of the problem helps. Good initialization of the parameters can be beneficial, too.\n",
    "\n",
    "\n",
    "## Exercises\n",
    "\n",
    "1. Consider a simple MLP with a single hidden layer of, say, $d$ dimensions in the hidden layer and a single output. Show that for any local minimum there are at least $d!$ equivalent solutions that behave identically.\n",
    "1. Assume that we have a symmetric random matrix $\\mathbf{M}$ where the entries\n",
    "   $M_{ij} = M_{ji}$ are each drawn from some probability distribution\n",
    "   $p_{ij}$. Furthermore assume that $p_{ij}(x) = p_{ij}(-x)$, i.e., that the\n",
    "   distribution is symmetric (see e.g., :citet:`Wigner.1958` for details).\n",
    "    1. Prove that the distribution over eigenvalues is also symmetric. That is, for any eigenvector $\\mathbf{v}$ the probability that the associated eigenvalue $\\lambda$ satisfies $P(\\lambda > 0) = P(\\lambda < 0)$.\n",
    "    1. Why does the above *not* imply $P(\\lambda > 0) = 0.5$?\n",
    "1. What other challenges involved in deep learning optimization can you think of?\n",
    "1. Assume that you want to balance a (real) ball on a (real) saddle.\n",
    "    1. Why is this hard?\n",
    "    1. Can you exploit this effect also for optimization algorithms?\n",
    "\n",
    ":begin_tab:`mxnet`\n",
    "[Discussions](https://discuss.d2l.ai/t/349)\n",
    ":end_tab:\n",
    "\n",
    ":begin_tab:`pytorch`\n",
    "[Discussions](https://discuss.d2l.ai/t/487)\n",
    ":end_tab:\n",
    "\n",
    ":begin_tab:`tensorflow`\n",
    "[Discussions](https://discuss.d2l.ai/t/489)\n",
    ":end_tab:"
   ]
  }
 ],
 "metadata": {},
 "nbformat": 4,
 "nbformat_minor": 5
}
