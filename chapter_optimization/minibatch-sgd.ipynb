{
 "cells": [
  {
   "cell_type": "markdown",
   "id": "b930a450",
   "metadata": {},
   "source": [
    "# Minibatch Stochastic Gradient Descent\n",
    ":label:`sec_minibatch_sgd`\n",
    "\n",
    "So far we encountered two extremes in the approach to gradient-based learning: :numref:`sec_gd` uses the full dataset to compute gradients and to update parameters, one pass at a time. Conversely :numref:`sec_sgd` processes one training example at a time to make progress.\n",
    "Either of them has its own drawbacks.\n",
    "Gradient descent is not particularly *data efficient* whenever data is very similar.\n",
    "Stochastic gradient descent is not particularly *computationally efficient* since CPUs and GPUs cannot exploit the full power of vectorization.\n",
    "This suggests that there might be something in between,\n",
    "and in fact, that is what we have been using so far in the examples we discussed.\n",
    "\n",
    "## Vectorization and Caches\n",
    "\n",
    "At the heart of the decision to use minibatches is computational efficiency. This is most easily understood when considering parallelization to multiple GPUs and multiple servers. In this case we need to send at least one image to each GPU. With 8 GPUs per server and 16 servers we already arrive at a minibatch size no smaller than 128.\n",
    "\n",
    "Things are a bit more subtle when it comes to single GPUs or even CPUs. These devices have multiple types of memory, often multiple types of computational units and different bandwidth constraints between them.\n",
    "For instance, a CPU has a small number of registers and then the L1, L2, and in some cases even L3 cache (which is shared among different processor cores).\n",
    "These caches are of increasing size and latency (and at the same time they are of decreasing bandwidth).\n",
    "Suffice to say, the processor is capable of performing many more operations than what the main memory interface is able to provide.\n",
    "\n",
    "First, a 2GHz CPU with 16 cores and AVX-512 vectorization can process up to $2 \\cdot 10^9 \\cdot 16 \\cdot 32 = 10^{12}$ bytes per second. The capability of GPUs easily exceeds this number by a factor of 100. On the other hand, a midrange server processor might not have much more than 100 GB/s bandwidth, i.e., less than one tenth of what would be required to keep the processor fed. To make matters worse, not all memory access is created equal: memory interfaces are typically 64 bit wide or wider (e.g., on GPUs up to 384 bit), hence reading a single byte incurs the cost of a much wider access.\n",
    "\n",
    "Second, there is significant overhead for the first access whereas sequential access is relatively cheap (this is often called a burst read). There are many more things to keep in mind, such as caching when we have multiple sockets, chiplets, and other structures.\n",
    "See this [Wikipedia article](https://en.wikipedia.org/wiki/Cache_hierarchy)\n",
    "for a more in-depth discussion.\n",
    "\n",
    "The way to alleviate these constraints is to use a hierarchy of CPU caches that are actually fast enough to supply the processor with data. This is *the* driving force behind batching in deep learning. To keep matters simple, consider matrix-matrix multiplication, say $\\mathbf{A} = \\mathbf{B}\\mathbf{C}$. We have a number of options for calculating $\\mathbf{A}$. For instance, we could try the following:\n",
    "\n",
    "1. We could compute $\\mathbf{A}_{ij} = \\mathbf{B}_{i,:} \\mathbf{C}_{:,j}$, i.e., we could compute it elementwise by means of dot products.\n",
    "1. We could compute $\\mathbf{A}_{:,j} = \\mathbf{B} \\mathbf{C}_{:,j}$, i.e., we could compute it one column at a time. Likewise we could compute $\\mathbf{A}$ one row $\\mathbf{A}_{i,:}$ at a time.\n",
    "1. We could simply compute $\\mathbf{A} = \\mathbf{B} \\mathbf{C}$.\n",
    "1. We could break $\\mathbf{B}$ and $\\mathbf{C}$ into smaller block matrices and compute $\\mathbf{A}$ one block at a time.\n",
    "\n",
    "If we follow the first option, we will need to copy one row and one column vector into the CPU each time we want to compute an element $\\mathbf{A}_{ij}$. Even worse, due to the fact that matrix elements are aligned sequentially we are thus required to access many disjoint locations for one of the two vectors as we read them from memory. The second option is much more favorable. In it, we are able to keep the column vector $\\mathbf{C}_{:,j}$ in the CPU cache while we keep on traversing through $\\mathbf{B}$. This halves the memory bandwidth requirement with correspondingly faster access. Of course, option 3 is most desirable. Unfortunately, most matrices might not entirely fit into cache (this is what we are discussing after all). However, option 4 offers a practically useful alternative: we can move blocks of the matrix into cache and multiply them locally. Optimized libraries take care of this for us. Let's have a look at how efficient these operations are in practice.\n",
    "\n",
    "Beyond computational efficiency, the overhead introduced by Python and by the deep learning framework itself is considerable. Recall that each time we execute a command the Python interpreter sends a command to the MXNet engine which needs to insert it into the computational graph and deal with it during scheduling. Such overhead can be quite detrimental. In short, it is highly advisable to use vectorization (and matrices) whenever possible."
   ]
  },
  {
   "cell_type": "code",
   "execution_count": null,
   "id": "1ba1e5f7",
   "metadata": {},
   "outputs": [],
   "source": [
    "#@tab mxnet\n",
    "%matplotlib inline\n",
    "from d2l import mxnet as d2l\n",
    "from mxnet import autograd, gluon, init, np, npx\n",
    "from mxnet.gluon import nn\n",
    "import time\n",
    "npx.set_np()\n",
    "\n",
    "A = np.zeros((256, 256))\n",
    "B = np.random.normal(0, 1, (256, 256))\n",
    "C = np.random.normal(0, 1, (256, 256))"
   ]
  },
  {
   "cell_type": "code",
   "execution_count": null,
   "id": "c1c2e971",
   "metadata": {},
   "outputs": [],
   "source": [
    "#@tab pytorch\n",
    "%matplotlib inline\n",
    "from d2l import torch as d2l\n",
    "import numpy as np\n",
    "import time\n",
    "import torch\n",
    "from torch import nn\n",
    "\n",
    "A = torch.zeros(256, 256)\n",
    "B = torch.randn(256, 256)\n",
    "C = torch.randn(256, 256)"
   ]
  },
  {
   "cell_type": "code",
   "execution_count": null,
   "id": "da825f7f",
   "metadata": {},
   "outputs": [],
   "source": [
    "#@tab tensorflow\n",
    "%matplotlib inline\n",
    "from d2l import tensorflow as d2l\n",
    "import numpy as np\n",
    "import tensorflow as tf\n",
    "import time\n",
    "\n",
    "A = tf.Variable(d2l.zeros((256, 256)))\n",
    "B = tf.Variable(d2l.normal([256, 256], 0, 1))\n",
    "C = tf.Variable(d2l.normal([256, 256], 0, 1))"
   ]
  },
  {
   "cell_type": "markdown",
   "id": "f654f251",
   "metadata": {},
   "source": [
    "Since we will benchmark the running time frequently in the rest of the book, let's define a timer."
   ]
  },
  {
   "cell_type": "code",
   "execution_count": null,
   "id": "5b8ef52d",
   "metadata": {},
   "outputs": [],
   "source": [
    "#@tab all\n",
    "class Timer:  #@save\n",
    "    \"\"\"Record multiple running times.\"\"\"\n",
    "    def __init__(self):\n",
    "        self.times = []\n",
    "        self.start()\n",
    "\n",
    "    def start(self):\n",
    "        \"\"\"Start the timer.\"\"\"\n",
    "        self.tik = time.time()\n",
    "\n",
    "    def stop(self):\n",
    "        \"\"\"Stop the timer and record the time in a list.\"\"\"\n",
    "        self.times.append(time.time() - self.tik)\n",
    "        return self.times[-1]\n",
    "\n",
    "    def avg(self):\n",
    "        \"\"\"Return the average time.\"\"\"\n",
    "        return sum(self.times) / len(self.times)\n",
    "\n",
    "    def sum(self):\n",
    "        \"\"\"Return the sum of time.\"\"\"\n",
    "        return sum(self.times)\n",
    "\n",
    "    def cumsum(self):\n",
    "        \"\"\"Return the accumulated time.\"\"\"\n",
    "        return np.array(self.times).cumsum().tolist()\n",
    "\n",
    "timer = Timer()"
   ]
  },
  {
   "cell_type": "markdown",
   "id": "f394e752",
   "metadata": {},
   "source": [
    "Element-wise assignment simply iterates over all rows and columns of $\\mathbf{B}$ and $\\mathbf{C}$ respectively to assign the value to $\\mathbf{A}$."
   ]
  },
  {
   "cell_type": "code",
   "execution_count": null,
   "id": "0b14d9f7",
   "metadata": {},
   "outputs": [],
   "source": [
    "#@tab mxnet\n",
    "# Compute A = BC one element at a time\n",
    "timer.start()\n",
    "for i in range(256):\n",
    "    for j in range(256):\n",
    "        A[i, j] = np.dot(B[i, :], C[:, j])\n",
    "A.wait_to_read()\n",
    "timer.stop()"
   ]
  },
  {
   "cell_type": "code",
   "execution_count": null,
   "id": "38823cd8",
   "metadata": {},
   "outputs": [],
   "source": [
    "#@tab pytorch\n",
    "# Compute A = BC one element at a time\n",
    "timer.start()\n",
    "for i in range(256):\n",
    "    for j in range(256):\n",
    "        A[i, j] = torch.dot(B[i, :], C[:, j])\n",
    "timer.stop()"
   ]
  },
  {
   "cell_type": "code",
   "execution_count": null,
   "id": "5577f860",
   "metadata": {},
   "outputs": [],
   "source": [
    "#@tab tensorflow\n",
    "# Compute A = BC one element at a time\n",
    "timer.start()\n",
    "for i in range(256):\n",
    "    for j in range(256):\n",
    "        A[i, j].assign(tf.tensordot(B[i, :], C[:, j], axes=1))\n",
    "timer.stop()"
   ]
  },
  {
   "cell_type": "markdown",
   "id": "d2471b27",
   "metadata": {},
   "source": [
    "A faster strategy is to perform column-wise assignment."
   ]
  },
  {
   "cell_type": "code",
   "execution_count": null,
   "id": "2486b391",
   "metadata": {},
   "outputs": [],
   "source": [
    "#@tab mxnet\n",
    "# Compute A = BC one column at a time\n",
    "timer.start()\n",
    "for j in range(256):\n",
    "    A[:, j] = np.dot(B, C[:, j])\n",
    "A.wait_to_read()\n",
    "timer.stop()"
   ]
  },
  {
   "cell_type": "code",
   "execution_count": null,
   "id": "0d10a0b1",
   "metadata": {},
   "outputs": [],
   "source": [
    "#@tab pytorch\n",
    "# Compute A = BC one column at a time\n",
    "timer.start()\n",
    "for j in range(256):\n",
    "    A[:, j] = torch.mv(B, C[:, j])\n",
    "timer.stop()"
   ]
  },
  {
   "cell_type": "code",
   "execution_count": null,
   "id": "5f826ab8",
   "metadata": {},
   "outputs": [],
   "source": [
    "#@tab tensorflow\n",
    "timer.start()\n",
    "for j in range(256):\n",
    "    A[:, j].assign(tf.tensordot(B, C[:, j], axes=1))\n",
    "timer.stop()"
   ]
  },
  {
   "cell_type": "markdown",
   "id": "7a3a1828",
   "metadata": {},
   "source": [
    "Last, the most effective manner is to perform the entire operation in one block. \n",
    "Note that multiplying any two matrices $\\mathbf{B} \\in \\mathbb{R}^{m \\times n}$ and $\\mathbf{C} \\in \\mathbb{R}^{n \\times p}$ takes approximately $2mnp$ floating point operations,\n",
    "when scalar multiplication and addition are counted as separate operations (fused in practice).\n",
    "Thus, multiplying two $256 \\times 256$ matrices\n",
    "takes $0.03$ billion floating point operations.\n",
    "Let's see what the respective speed of the operations is."
   ]
  },
  {
   "cell_type": "code",
   "execution_count": null,
   "id": "944bb7d5",
   "metadata": {},
   "outputs": [],
   "source": [
    "#@tab mxnet\n",
    "# Compute A = BC in one go\n",
    "timer.start()\n",
    "A = np.dot(B, C)\n",
    "A.wait_to_read()\n",
    "timer.stop()\n",
    "\n",
    "gigaflops = [0.03 / i for i in timer.times]\n",
    "print(f'performance in Gigaflops: element {gigaflops[0]:.3f}, '\n",
    "      f'column {gigaflops[1]:.3f}, full {gigaflops[2]:.3f}')"
   ]
  },
  {
   "cell_type": "code",
   "execution_count": null,
   "id": "3a451e05",
   "metadata": {},
   "outputs": [],
   "source": [
    "#@tab pytorch\n",
    "# Compute A = BC in one go\n",
    "timer.start()\n",
    "A = torch.mm(B, C)\n",
    "timer.stop()\n",
    "\n",
    "gigaflops = [0.03 / i for i in timer.times]\n",
    "print(f'performance in Gigaflops: element {gigaflops[0]:.3f}, '\n",
    "      f'column {gigaflops[1]:.3f}, full {gigaflops[2]:.3f}')"
   ]
  },
  {
   "cell_type": "code",
   "execution_count": null,
   "id": "14256336",
   "metadata": {},
   "outputs": [],
   "source": [
    "#@tab tensorflow\n",
    "timer.start()\n",
    "A.assign(tf.tensordot(B, C, axes=1))\n",
    "timer.stop()\n",
    "\n",
    "gigaflops = [0.03 / i for i in timer.times]\n",
    "print(f'performance in Gigaflops: element {gigaflops[0]:.3f}, '\n",
    "      f'column {gigaflops[1]:.3f}, full {gigaflops[2]:.3f}')"
   ]
  },
  {
   "cell_type": "markdown",
   "id": "47e98097",
   "metadata": {},
   "source": [
    "## Minibatches\n",
    "\n",
    ":label:`sec_minibatches`\n",
    "\n",
    "In the past we took it for granted that we would read *minibatches* of data rather than single observations to update parameters. We now give a brief justification for it. Processing single observations requires us to perform many single matrix-vector (or even vector-vector) multiplications, which is quite expensive and which incurs a significant overhead on behalf of the underlying deep learning framework. This applies both to evaluating a network when applied to data (often referred to as inference) and when computing gradients to update parameters. That is, this applies whenever we perform $\\mathbf{w} \\leftarrow \\mathbf{w} - \\eta_t \\mathbf{g}_t$ where\n",
    "\n",
    "$$\\mathbf{g}_t = \\partial_{\\mathbf{w}} f(\\mathbf{x}_{t}, \\mathbf{w})$$\n",
    "\n",
    "We can increase the *computational* efficiency of this operation by applying it to a minibatch of observations at a time. That is, we replace the gradient $\\mathbf{g}_t$ over a single observation by one over a small batch\n",
    "\n",
    "$$\\mathbf{g}_t = \\partial_{\\mathbf{w}} \\frac{1}{|\\mathcal{B}_t|} \\sum_{i \\in \\mathcal{B}_t} f(\\mathbf{x}_{i}, \\mathbf{w})$$\n",
    "\n",
    "Let's see what this does to the statistical properties of $\\mathbf{g}_t$: since both $\\mathbf{x}_t$ and also all elements of the minibatch $\\mathcal{B}_t$ are drawn uniformly at random from the training set, the expectation of the gradient remains unchanged. The variance, on the other hand, is reduced significantly. Since the minibatch gradient is composed of $b \\stackrel{\\textrm{def}}{=} |\\mathcal{B}_t|$ independent gradients which are being averaged, its standard deviation is reduced by a factor of $b^{-\\frac{1}{2}}$. This, by itself, is a good thing, since it means that the updates are more reliably aligned with the full gradient.\n",
    "\n",
    "Naively this would indicate that choosing a large minibatch $\\mathcal{B}_t$ would be universally desirable. Alas, after some point, the additional reduction in standard deviation is minimal when compared to the linear increase in computational cost. In practice we pick a minibatch that is large enough to offer good computational efficiency while still fitting into the memory of a GPU. To illustrate the savings let's have a look at some code. In it we perform the same matrix-matrix multiplication, but this time broken up into \"minibatches\" of 64 columns at a time."
   ]
  },
  {
   "cell_type": "code",
   "execution_count": null,
   "id": "7159a8e4",
   "metadata": {},
   "outputs": [],
   "source": [
    "#@tab mxnet\n",
    "timer.start()\n",
    "for j in range(0, 256, 64):\n",
    "    A[:, j:j+64] = np.dot(B, C[:, j:j+64])\n",
    "timer.stop()\n",
    "print(f'performance in Gigaflops: block {0.03 / timer.times[3]:.3f}')"
   ]
  },
  {
   "cell_type": "code",
   "execution_count": null,
   "id": "f43b926c",
   "metadata": {},
   "outputs": [],
   "source": [
    "#@tab pytorch\n",
    "timer.start()\n",
    "for j in range(0, 256, 64):\n",
    "    A[:, j:j+64] = torch.mm(B, C[:, j:j+64])\n",
    "timer.stop()\n",
    "print(f'performance in Gigaflops: block {0.03 / timer.times[3]:.3f}')"
   ]
  },
  {
   "cell_type": "code",
   "execution_count": null,
   "id": "82c0e0f3",
   "metadata": {},
   "outputs": [],
   "source": [
    "#@tab tensorflow\n",
    "timer.start()\n",
    "for j in range(0, 256, 64):\n",
    "    A[:, j:j+64].assign(tf.tensordot(B, C[:, j:j+64], axes=1))\n",
    "timer.stop()\n",
    "print(f'performance in Gigaflops: block {0.03 / timer.times[3]:.3f}')"
   ]
  },
  {
   "cell_type": "markdown",
   "id": "a9ea6d92",
   "metadata": {},
   "source": [
    "As we can see, the computation on the minibatch is essentially as efficient as on the full matrix. A word of caution is in order. In :numref:`sec_batch_norm` we used a type of regularization that was heavily dependent on the amount of variance in a minibatch. As we increase the latter, the variance decreases and with it the benefit of the noise-injection due to batch normalization. See e.g., :citet:`Ioffe.2017` for details on how to rescale and compute the appropriate terms.\n",
    "\n",
    "## Reading the Dataset\n",
    "\n",
    "Let's have a look at how minibatches are efficiently generated from data. In the following we use a dataset developed by NASA to test the wing [noise from different aircraft](https://archive.ics.uci.edu/dataset/291/airfoil+self+noise) to compare these optimization algorithms. For convenience we only use the first $1,500$ examples. The data is whitened for preprocessing, i.e., we remove the mean and rescale the variance to $1$ per coordinate."
   ]
  },
  {
   "cell_type": "code",
   "execution_count": null,
   "id": "a9f83415",
   "metadata": {},
   "outputs": [],
   "source": [
    "#@tab mxnet\n",
    "#@save\n",
    "d2l.DATA_HUB['airfoil'] = (d2l.DATA_URL + 'airfoil_self_noise.dat',\n",
    "                           '76e5be1548fd8222e5074cf0faae75edff8cf93f')\n",
    "\n",
    "#@save\n",
    "def get_data_ch11(batch_size=10, n=1500):\n",
    "    data = np.genfromtxt(d2l.download('airfoil'),\n",
    "                         dtype=np.float32, delimiter='\\t')\n",
    "    data = (data - data.mean(axis=0)) / data.std(axis=0)\n",
    "    data_iter = d2l.load_array(\n",
    "        (data[:n, :-1], data[:n, -1]), batch_size, is_train=True)\n",
    "    return data_iter, data.shape[1]-1"
   ]
  },
  {
   "cell_type": "code",
   "execution_count": null,
   "id": "9ebd5579",
   "metadata": {},
   "outputs": [],
   "source": [
    "#@tab pytorch\n",
    "#@save\n",
    "d2l.DATA_HUB['airfoil'] = (d2l.DATA_URL + 'airfoil_self_noise.dat',\n",
    "                           '76e5be1548fd8222e5074cf0faae75edff8cf93f')\n",
    "\n",
    "#@save\n",
    "def get_data_ch11(batch_size=10, n=1500):\n",
    "    data = np.genfromtxt(d2l.download('airfoil'),\n",
    "                         dtype=np.float32, delimiter='\\t')\n",
    "    data = torch.from_numpy((data - data.mean(axis=0)) / data.std(axis=0))\n",
    "    data_iter = d2l.load_array((data[:n, :-1], data[:n, -1]),\n",
    "                               batch_size, is_train=True)\n",
    "    return data_iter, data.shape[1]-1"
   ]
  },
  {
   "cell_type": "code",
   "execution_count": null,
   "id": "1104f10d",
   "metadata": {},
   "outputs": [],
   "source": [
    "#@tab tensorflow\n",
    "#@save\n",
    "d2l.DATA_HUB['airfoil'] = (d2l.DATA_URL + 'airfoil_self_noise.dat',\n",
    "                           '76e5be1548fd8222e5074cf0faae75edff8cf93f')\n",
    "\n",
    "#@save\n",
    "def get_data_ch11(batch_size=10, n=1500):\n",
    "    data = np.genfromtxt(d2l.download('airfoil'),\n",
    "                         dtype=np.float32, delimiter='\\t')\n",
    "    data = (data - data.mean(axis=0)) / data.std(axis=0)\n",
    "    data_iter = d2l.load_array((data[:n, :-1], data[:n, -1]),\n",
    "                               batch_size, is_train=True)\n",
    "    return data_iter, data.shape[1]-1"
   ]
  },
  {
   "cell_type": "markdown",
   "id": "fa58820f",
   "metadata": {},
   "source": [
    "## Implementation from Scratch\n",
    "\n",
    "Recall the minibatch stochastic gradient descent implementation from :numref:`sec_linear_scratch`. In the following we provide a slightly more general implementation. For convenience it has the same call signature as the other optimization algorithms introduced later in this chapter. Specifically, we add the status\n",
    "input `states` and place the hyperparameter in dictionary `hyperparams`. In\n",
    "addition, we will average the loss of each minibatch example in the training\n",
    "function, so the gradient in the optimization algorithm does not need to be\n",
    "divided by the batch size."
   ]
  },
  {
   "cell_type": "code",
   "execution_count": null,
   "id": "133e2a59",
   "metadata": {},
   "outputs": [],
   "source": [
    "#@tab mxnet\n",
    "def sgd(params, states, hyperparams):\n",
    "    for p in params:\n",
    "        p[:] -= hyperparams['lr'] * p.grad"
   ]
  },
  {
   "cell_type": "code",
   "execution_count": null,
   "id": "f7d249d4",
   "metadata": {},
   "outputs": [],
   "source": [
    "#@tab pytorch\n",
    "def sgd(params, states, hyperparams):\n",
    "    for p in params:\n",
    "        p.data.sub_(hyperparams['lr'] * p.grad)\n",
    "        p.grad.data.zero_()"
   ]
  },
  {
   "cell_type": "code",
   "execution_count": null,
   "id": "b20e0ebd",
   "metadata": {},
   "outputs": [],
   "source": [
    "#@tab tensorflow\n",
    "def sgd(params, grads, states, hyperparams):\n",
    "    for param, grad in zip(params, grads):\n",
    "        param.assign_sub(hyperparams['lr']*grad)"
   ]
  },
  {
   "cell_type": "markdown",
   "id": "9d4e6957",
   "metadata": {},
   "source": [
    "Next, we implement a generic training function to facilitate the use of the other optimization algorithms introduced later in this chapter. It initializes a linear regression model and can be used to train the model with minibatch stochastic gradient descent and other algorithms introduced subsequently."
   ]
  },
  {
   "cell_type": "code",
   "execution_count": null,
   "id": "f216a462",
   "metadata": {},
   "outputs": [],
   "source": [
    "#@tab mxnet\n",
    "#@save\n",
    "def train_ch11(trainer_fn, states, hyperparams, data_iter,\n",
    "               feature_dim, num_epochs=2):\n",
    "    # Initialization\n",
    "    w = np.random.normal(scale=0.01, size=(feature_dim, 1))\n",
    "    b = np.zeros(1)\n",
    "    w.attach_grad()\n",
    "    b.attach_grad()\n",
    "    net, loss = lambda X: d2l.linreg(X, w, b), d2l.squared_loss\n",
    "    # Train\n",
    "    animator = d2l.Animator(xlabel='epoch', ylabel='loss',\n",
    "                            xlim=[0, num_epochs], ylim=[0.22, 0.35])\n",
    "    n, timer = 0, d2l.Timer()\n",
    "    for _ in range(num_epochs):\n",
    "        for X, y in data_iter:\n",
    "            with autograd.record():\n",
    "                l = loss(net(X), y).mean()\n",
    "            l.backward()\n",
    "            trainer_fn([w, b], states, hyperparams)\n",
    "            n += X.shape[0]\n",
    "            if n % 200 == 0:\n",
    "                timer.stop()\n",
    "                animator.add(n/X.shape[0]/len(data_iter),\n",
    "                             (d2l.evaluate_loss(net, data_iter, loss),))\n",
    "                timer.start()\n",
    "    print(f'loss: {animator.Y[0][-1]:.3f}, {timer.sum()/num_epochs:.3f} sec/epoch')\n",
    "    return timer.cumsum(), animator.Y[0]"
   ]
  },
  {
   "cell_type": "code",
   "execution_count": null,
   "id": "82d51b7e",
   "metadata": {},
   "outputs": [],
   "source": [
    "#@tab pytorch\n",
    "#@save\n",
    "def train_ch11(trainer_fn, states, hyperparams, data_iter,\n",
    "               feature_dim, num_epochs=2):\n",
    "    # Initialization\n",
    "    w = torch.normal(mean=0.0, std=0.01, size=(feature_dim, 1),\n",
    "                     requires_grad=True)\n",
    "    b = torch.zeros((1), requires_grad=True)\n",
    "    net, loss = lambda X: d2l.linreg(X, w, b), d2l.squared_loss\n",
    "    # Train\n",
    "    animator = d2l.Animator(xlabel='epoch', ylabel='loss',\n",
    "                            xlim=[0, num_epochs], ylim=[0.22, 0.35])\n",
    "    n, timer = 0, d2l.Timer()\n",
    "    for _ in range(num_epochs):\n",
    "        for X, y in data_iter:\n",
    "            l = loss(net(X), y).mean()\n",
    "            l.backward()\n",
    "            trainer_fn([w, b], states, hyperparams)\n",
    "            n += X.shape[0]\n",
    "            if n % 200 == 0:\n",
    "                timer.stop()\n",
    "                animator.add(n/X.shape[0]/len(data_iter),\n",
    "                             (d2l.evaluate_loss(net, data_iter, loss),))\n",
    "                timer.start()\n",
    "    print(f'loss: {animator.Y[0][-1]:.3f}, {timer.sum()/num_epochs:.3f} sec/epoch')\n",
    "    return timer.cumsum(), animator.Y[0]"
   ]
  },
  {
   "cell_type": "code",
   "execution_count": null,
   "id": "01f41896",
   "metadata": {},
   "outputs": [],
   "source": [
    "#@tab tensorflow\n",
    "#@save\n",
    "def train_ch11(trainer_fn, states, hyperparams, data_iter,\n",
    "               feature_dim, num_epochs=2):\n",
    "    # Initialization\n",
    "    w = tf.Variable(tf.random.normal(shape=(feature_dim, 1),\n",
    "                                   mean=0, stddev=0.01),trainable=True)\n",
    "    b = tf.Variable(tf.zeros(1), trainable=True)\n",
    "\n",
    "    # Train\n",
    "    net, loss = lambda X: d2l.linreg(X, w, b), d2l.squared_loss\n",
    "    animator = d2l.Animator(xlabel='epoch', ylabel='loss',\n",
    "                            xlim=[0, num_epochs], ylim=[0.22, 0.35])\n",
    "    n, timer = 0, d2l.Timer()\n",
    "\n",
    "    for _ in range(num_epochs):\n",
    "        for X, y in data_iter:\n",
    "          with tf.GradientTape() as g:\n",
    "            l = tf.math.reduce_mean(loss(net(X), y))\n",
    "\n",
    "          dw, db = g.gradient(l, [w, b])\n",
    "          trainer_fn([w, b], [dw, db], states, hyperparams)\n",
    "          n += X.shape[0]\n",
    "          if n % 200 == 0:\n",
    "              timer.stop()\n",
    "              p = n/X.shape[0]\n",
    "              q = p/tf.data.experimental.cardinality(data_iter).numpy()\n",
    "              r = (d2l.evaluate_loss(net, data_iter, loss),)\n",
    "              animator.add(q, r)\n",
    "              timer.start()\n",
    "    print(f'loss: {animator.Y[0][-1]:.3f}, {timer.sum()/num_epochs:.3f} sec/epoch')\n",
    "    return timer.cumsum(), animator.Y[0]"
   ]
  },
  {
   "cell_type": "markdown",
   "id": "ade57d98",
   "metadata": {},
   "source": [
    "Let's see how optimization proceeds for batch gradient descent. This can be achieved by setting the minibatch size to 1500 (i.e., to the total number of examples). As a result the model parameters are updated only once per epoch. There is little progress. In fact, after 6 steps progress stalls."
   ]
  },
  {
   "cell_type": "code",
   "execution_count": null,
   "id": "60d2f198",
   "metadata": {},
   "outputs": [],
   "source": [
    "#@tab all\n",
    "def train_sgd(lr, batch_size, num_epochs=2):\n",
    "    data_iter, feature_dim = get_data_ch11(batch_size)\n",
    "    return train_ch11(\n",
    "        sgd, None, {'lr': lr}, data_iter, feature_dim, num_epochs)\n",
    "\n",
    "gd_res = train_sgd(1, 1500, 10)"
   ]
  },
  {
   "cell_type": "markdown",
   "id": "9a4b212c",
   "metadata": {},
   "source": [
    "When the batch size equals 1, we use stochastic gradient descent for optimization. For simplicity of implementation we picked a constant (albeit small) learning rate. In stochastic gradient descent, the model parameters are updated whenever an example is processed. In our case this amounts to 1500 updates per epoch. As we can see, the decline in the value of the objective function slows down after one epoch. Although both the procedures processed 1500 examples within one epoch, stochastic gradient descent consumes more time than gradient descent in our experiment. This is because stochastic gradient descent updated the parameters more frequently and since it is less efficient to process single observations one at a time."
   ]
  },
  {
   "cell_type": "code",
   "execution_count": null,
   "id": "d811ecdd",
   "metadata": {},
   "outputs": [],
   "source": [
    "#@tab all\n",
    "sgd_res = train_sgd(0.005, 1)"
   ]
  },
  {
   "cell_type": "markdown",
   "id": "2f221130",
   "metadata": {},
   "source": [
    "Finally, when the batch size equals 100, we use minibatch stochastic gradient descent for optimization. The time required per epoch is shorter than the time needed for stochastic gradient descent and the time for batch gradient descent."
   ]
  },
  {
   "cell_type": "code",
   "execution_count": null,
   "id": "c48a7675",
   "metadata": {},
   "outputs": [],
   "source": [
    "#@tab all\n",
    "mini1_res = train_sgd(.4, 100)"
   ]
  },
  {
   "cell_type": "markdown",
   "id": "5e692a64",
   "metadata": {},
   "source": [
    "Reducing the batch size to 10, the time for each epoch increases because the workload for each batch is less efficient to execute."
   ]
  },
  {
   "cell_type": "code",
   "execution_count": null,
   "id": "0b47791c",
   "metadata": {},
   "outputs": [],
   "source": [
    "#@tab all\n",
    "mini2_res = train_sgd(.05, 10)"
   ]
  },
  {
   "cell_type": "markdown",
   "id": "e85688ae",
   "metadata": {},
   "source": [
    "Now we can compare the time vs. loss for the previous four experiments. As can be seen, although stochastic gradient descent converges faster than GD in terms of number of examples processed, it uses more time to reach the same loss than GD because computing the gradient example by example is not as efficient. Minibatch stochastic gradient descent is able to trade-off convergence speed and computation efficiency. A minibatch size of 10 is more efficient than stochastic gradient descent; a minibatch size of 100 even outperforms GD in terms of runtime."
   ]
  },
  {
   "cell_type": "code",
   "execution_count": null,
   "id": "183ece00",
   "metadata": {},
   "outputs": [],
   "source": [
    "#@tab all\n",
    "d2l.set_figsize([6, 3])\n",
    "d2l.plot(*list(map(list, zip(gd_res, sgd_res, mini1_res, mini2_res))),\n",
    "         'time (sec)', 'loss', xlim=[1e-2, 10],\n",
    "         legend=['gd', 'sgd', 'batch size=100', 'batch size=10'])\n",
    "d2l.plt.gca().set_xscale('log')"
   ]
  },
  {
   "cell_type": "markdown",
   "id": "72b75d23",
   "metadata": {},
   "source": [
    "## Concise Implementation\n",
    "\n",
    "In Gluon, we can use the `Trainer` class to call optimization algorithms. This is used to implement a generic training function. We will use this throughout the current chapter."
   ]
  },
  {
   "cell_type": "code",
   "execution_count": null,
   "id": "4845311d",
   "metadata": {},
   "outputs": [],
   "source": [
    "#@tab mxnet\n",
    "#@save\n",
    "def train_concise_ch11(tr_name, hyperparams, data_iter, num_epochs=2):\n",
    "    # Initialization\n",
    "    net = nn.Sequential()\n",
    "    net.add(nn.Dense(1))\n",
    "    net.initialize(init.Normal(sigma=0.01))\n",
    "    trainer = gluon.Trainer(net.collect_params(), tr_name, hyperparams)\n",
    "    loss = gluon.loss.L2Loss()\n",
    "    animator = d2l.Animator(xlabel='epoch', ylabel='loss',\n",
    "                            xlim=[0, num_epochs], ylim=[0.22, 0.35])\n",
    "    n, timer = 0, d2l.Timer()\n",
    "    for _ in range(num_epochs):\n",
    "        for X, y in data_iter:\n",
    "            with autograd.record():\n",
    "                l = loss(net(X), y)\n",
    "            l.backward()\n",
    "            trainer.step(X.shape[0])\n",
    "            n += X.shape[0]\n",
    "            if n % 200 == 0:\n",
    "                timer.stop()\n",
    "                animator.add(n/X.shape[0]/len(data_iter),\n",
    "                             (d2l.evaluate_loss(net, data_iter, loss),))\n",
    "                timer.start()\n",
    "    print(f'loss: {animator.Y[0][-1]:.3f}, {timer.sum()/num_epochs:.3f} sec/epoch')"
   ]
  },
  {
   "cell_type": "code",
   "execution_count": null,
   "id": "ca1328fd",
   "metadata": {},
   "outputs": [],
   "source": [
    "#@tab pytorch\n",
    "#@save\n",
    "def train_concise_ch11(trainer_fn, hyperparams, data_iter, num_epochs=4):\n",
    "    # Initialization\n",
    "    net = nn.Sequential(nn.Linear(5, 1))\n",
    "    def init_weights(module):\n",
    "        if type(module) == nn.Linear:\n",
    "            torch.nn.init.normal_(module.weight, std=0.01)\n",
    "    net.apply(init_weights)\n",
    "\n",
    "    optimizer = trainer_fn(net.parameters(), **hyperparams)\n",
    "    loss = nn.MSELoss(reduction='none')\n",
    "    animator = d2l.Animator(xlabel='epoch', ylabel='loss',\n",
    "                            xlim=[0, num_epochs], ylim=[0.22, 0.35])\n",
    "    n, timer = 0, d2l.Timer()\n",
    "    for _ in range(num_epochs):\n",
    "        for X, y in data_iter:\n",
    "            optimizer.zero_grad()\n",
    "            out = net(X)\n",
    "            y = y.reshape(out.shape)\n",
    "            l = loss(out, y)\n",
    "            l.mean().backward()\n",
    "            optimizer.step()\n",
    "            n += X.shape[0]\n",
    "            if n % 200 == 0:\n",
    "                timer.stop()\n",
    "                # `MSELoss` computes squared error without the 1/2 factor\n",
    "                animator.add(n/X.shape[0]/len(data_iter),\n",
    "                             (d2l.evaluate_loss(net, data_iter, loss) / 2,))\n",
    "                timer.start()\n",
    "    print(f'loss: {animator.Y[0][-1]:.3f}, {timer.sum()/num_epochs:.3f} sec/epoch')"
   ]
  },
  {
   "cell_type": "code",
   "execution_count": null,
   "id": "6fa7bb74",
   "metadata": {},
   "outputs": [],
   "source": [
    "#@tab tensorflow\n",
    "#@save\n",
    "def train_concise_ch11(trainer_fn, hyperparams, data_iter, num_epochs=2):\n",
    "    # Initialization\n",
    "    net = tf.keras.Sequential()\n",
    "    net.add(tf.keras.layers.Dense(1,\n",
    "            kernel_initializer=tf.random_normal_initializer(stddev=0.01)))\n",
    "    optimizer = trainer_fn(**hyperparams)\n",
    "    loss = tf.keras.losses.MeanSquaredError()\n",
    "    animator = d2l.Animator(xlabel='epoch', ylabel='loss',\n",
    "                            xlim=[0, num_epochs], ylim=[0.22, 0.35])\n",
    "    n, timer = 0, d2l.Timer()\n",
    "    for _ in range(num_epochs):\n",
    "        for X, y in data_iter:\n",
    "            with tf.GradientTape() as g:\n",
    "                out = net(X)\n",
    "                l = loss(y, out)\n",
    "                params = net.trainable_variables\n",
    "                grads = g.gradient(l, params)\n",
    "            optimizer.apply_gradients(zip(grads, params))\n",
    "            n += X.shape[0]\n",
    "            if n % 200 == 0:\n",
    "                timer.stop()\n",
    "                p = n/X.shape[0]\n",
    "                q = p/tf.data.experimental.cardinality(data_iter).numpy()\n",
    "                # `MeanSquaredError` computes squared error without the 1/2\n",
    "                # factor\n",
    "                r = (d2l.evaluate_loss(net, data_iter, loss) / 2,)\n",
    "                animator.add(q, r)\n",
    "                timer.start()\n",
    "    print(f'loss: {animator.Y[0][-1]:.3f}, {timer.sum()/num_epochs:.3f} sec/epoch')"
   ]
  },
  {
   "cell_type": "markdown",
   "id": "45eea1e7",
   "metadata": {},
   "source": [
    "Using Gluon to repeat the last experiment shows identical behavior."
   ]
  },
  {
   "cell_type": "code",
   "execution_count": null,
   "id": "77c5e7a1",
   "metadata": {},
   "outputs": [],
   "source": [
    "#@tab mxnet\n",
    "data_iter, _ = get_data_ch11(10)\n",
    "train_concise_ch11('sgd', {'learning_rate': 0.05}, data_iter)"
   ]
  },
  {
   "cell_type": "code",
   "execution_count": null,
   "id": "3519dbe4",
   "metadata": {},
   "outputs": [],
   "source": [
    "#@tab pytorch\n",
    "data_iter, _ = get_data_ch11(10)\n",
    "trainer = torch.optim.SGD\n",
    "train_concise_ch11(trainer, {'lr': 0.01}, data_iter)"
   ]
  },
  {
   "cell_type": "code",
   "execution_count": null,
   "id": "60441236",
   "metadata": {},
   "outputs": [],
   "source": [
    "#@tab tensorflow\n",
    "data_iter, _ = get_data_ch11(10)\n",
    "trainer = tf.keras.optimizers.SGD\n",
    "train_concise_ch11(trainer, {'learning_rate': 0.05}, data_iter)"
   ]
  },
  {
   "cell_type": "markdown",
   "id": "c922f287",
   "metadata": {},
   "source": [
    "## Summary\n",
    "\n",
    "* Vectorization makes code more efficient due to reduced overhead arising from the deep learning framework and due to better memory locality and caching on CPUs and GPUs.\n",
    "* There is a trade-off between statistical efficiency arising from stochastic gradient descent and computational efficiency arising from processing large batches of data at a time.\n",
    "* Minibatch stochastic gradient descent offers the best of both worlds: computational and statistical efficiency.\n",
    "* In minibatch stochastic gradient descent we process batches of data obtained by a random permutation of the training data (i.e., each observation is processed only once per epoch, albeit in random order).\n",
    "* It is advisable to decay the learning rates during training.\n",
    "* In general, minibatch stochastic gradient descent is faster than stochastic gradient descent and gradient descent for convergence to a smaller risk, when measured in terms of clock time.\n",
    "\n",
    "## Exercises\n",
    "\n",
    "1. Modify the batch size and learning rate and observe the rate of decline for the value of the objective function and the time consumed in each epoch.\n",
    "1. Read the MXNet documentation and use the `Trainer` class `set_learning_rate` function to reduce the learning rate of the minibatch stochastic gradient descent to 1/10 of its previous value after each epoch.\n",
    "1. Compare minibatch stochastic gradient descent with a variant that actually *samples with replacement* from the training set. What happens?\n",
    "1. An evil genie replicates your dataset without telling you (i.e., each observation occurs twice and your dataset grows to twice its original size, but nobody told you). How does the behavior of stochastic gradient descent, minibatch stochastic gradient descent and that of gradient descent change?\n",
    "\n",
    ":begin_tab:`mxnet`\n",
    "[Discussions](https://discuss.d2l.ai/t/353)\n",
    ":end_tab:\n",
    "\n",
    ":begin_tab:`pytorch`\n",
    "[Discussions](https://discuss.d2l.ai/t/1068)\n",
    ":end_tab:\n",
    "\n",
    ":begin_tab:`tensorflow`\n",
    "[Discussions](https://discuss.d2l.ai/t/1069)\n",
    ":end_tab:"
   ]
  }
 ],
 "metadata": {},
 "nbformat": 4,
 "nbformat_minor": 5
}
