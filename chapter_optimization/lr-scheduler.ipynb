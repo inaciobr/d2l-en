{
 "cells": [
  {
   "cell_type": "markdown",
   "id": "dea1b8f5",
   "metadata": {},
   "source": [
    "# Learning Rate Scheduling\n",
    ":label:`sec_scheduler`\n",
    "\n",
    "So far we primarily focused on optimization *algorithms* for how to update the weight vectors rather than on the *rate* at which they are being updated. Nonetheless, adjusting the learning rate is often just as important as the actual algorithm. There are a number of aspects to consider:\n",
    "\n",
    "* Most obviously the *magnitude* of the learning rate matters. If it is too large, optimization diverges, if it is too small, it takes too long to train or we end up with a suboptimal result. We saw previously that the condition number of the problem matters (see e.g., :numref:`sec_momentum` for details). Intuitively it is the ratio of the amount of change in the least sensitive direction vs. the most sensitive one.\n",
    "* Secondly, the rate of decay is just as important. If the learning rate remains large we may simply end up bouncing around the minimum and thus not reach optimality. :numref:`sec_minibatch_sgd` discussed this in some detail and we analyzed performance guarantees in :numref:`sec_sgd`. In short, we want the rate to decay, but probably more slowly than $\\mathcal{O}(t^{-\\frac{1}{2}})$ which would be a good choice for convex problems.\n",
    "* Another aspect that is equally important is *initialization*. This pertains both to how the parameters are set initially (review :numref:`sec_numerical_stability` for details) and also how they evolve initially. This goes under the moniker of *warmup*, i.e., how rapidly we start moving towards the solution initially. Large steps in the beginning might not be beneficial, in particular since the initial set of parameters is random. The initial update directions might be quite meaningless, too.\n",
    "* Lastly, there are a number of optimization variants that perform cyclical learning rate adjustment. This is beyond the scope of the current chapter. We recommend the reader to review details in :citet:`Izmailov.Podoprikhin.Garipov.ea.2018`, e.g., how to obtain better solutions by averaging over an entire *path* of parameters.\n",
    "\n",
    "Given the fact that there is a lot of detail needed to manage learning rates, most deep learning frameworks have tools to deal with this automatically. In the current chapter we will review the effects that different schedules have on accuracy and also show how this can be managed efficiently via a *learning rate scheduler*.\n",
    "\n",
    "## Toy Problem\n",
    "\n",
    "We begin with a toy problem that is cheap enough to compute easily, yet sufficiently nontrivial to illustrate some of the key aspects. For that we pick a slightly modernized version of LeNet (`relu` instead of `sigmoid` activation, MaxPooling rather than AveragePooling), as applied to Fashion-MNIST. Moreover, we hybridize the network for performance. Since most of the code is standard we just introduce the basics without further detailed discussion. See :numref:`chap_cnn` for a refresher as needed."
   ]
  },
  {
   "cell_type": "code",
   "execution_count": null,
   "id": "933e219c",
   "metadata": {},
   "outputs": [],
   "source": [
    "#@tab mxnet\n",
    "%matplotlib inline\n",
    "from d2l import mxnet as d2l\n",
    "from mxnet import autograd, gluon, init, lr_scheduler, np, npx\n",
    "from mxnet.gluon import nn\n",
    "npx.set_np()\n",
    "\n",
    "net = nn.HybridSequential()\n",
    "net.add(nn.Conv2D(channels=6, kernel_size=5, padding=2, activation='relu'),\n",
    "        nn.MaxPool2D(pool_size=2, strides=2),\n",
    "        nn.Conv2D(channels=16, kernel_size=5, activation='relu'),\n",
    "        nn.MaxPool2D(pool_size=2, strides=2),\n",
    "        nn.Dense(120, activation='relu'),\n",
    "        nn.Dense(84, activation='relu'),\n",
    "        nn.Dense(10))\n",
    "net.hybridize()\n",
    "loss = gluon.loss.SoftmaxCrossEntropyLoss()\n",
    "device = d2l.try_gpu()\n",
    "\n",
    "batch_size = 256\n",
    "train_iter, test_iter = d2l.load_data_fashion_mnist(batch_size=batch_size)\n",
    "\n",
    "# The code is almost identical to `d2l.train_ch6` defined in the\n",
    "# lenet section of chapter convolutional neural networks\n",
    "def train(net, train_iter, test_iter, num_epochs, loss, trainer, device):\n",
    "    net.initialize(force_reinit=True, ctx=device, init=init.Xavier())\n",
    "    animator = d2l.Animator(xlabel='epoch', xlim=[0, num_epochs],\n",
    "                            legend=['train loss', 'train acc', 'test acc'])\n",
    "    for epoch in range(num_epochs):\n",
    "        metric = d2l.Accumulator(3)  # train_loss, train_acc, num_examples\n",
    "        for i, (X, y) in enumerate(train_iter):\n",
    "            X, y = X.as_in_ctx(device), y.as_in_ctx(device)\n",
    "            with autograd.record():\n",
    "                y_hat = net(X)\n",
    "                l = loss(y_hat, y)\n",
    "            l.backward()\n",
    "            trainer.step(X.shape[0])\n",
    "            metric.add(l.sum(), d2l.accuracy(y_hat, y), X.shape[0])\n",
    "            train_loss = metric[0] / metric[2]\n",
    "            train_acc = metric[1] / metric[2]\n",
    "            if (i + 1) % 50 == 0:\n",
    "                animator.add(epoch + i / len(train_iter),\n",
    "                             (train_loss, train_acc, None))\n",
    "        test_acc = d2l.evaluate_accuracy_gpu(net, test_iter)\n",
    "        animator.add(epoch + 1, (None, None, test_acc))\n",
    "    print(f'train loss {train_loss:.3f}, train acc {train_acc:.3f}, '\n",
    "          f'test acc {test_acc:.3f}')"
   ]
  },
  {
   "cell_type": "code",
   "execution_count": null,
   "id": "44867371",
   "metadata": {},
   "outputs": [],
   "source": [
    "#@tab pytorch\n",
    "%matplotlib inline\n",
    "from d2l import torch as d2l\n",
    "import math\n",
    "import torch\n",
    "from torch import nn\n",
    "from torch.optim import lr_scheduler\n",
    "\n",
    "def net_fn():\n",
    "    model = nn.Sequential(\n",
    "        nn.Conv2d(1, 6, kernel_size=5, padding=2), nn.ReLU(),\n",
    "        nn.MaxPool2d(kernel_size=2, stride=2),\n",
    "        nn.Conv2d(6, 16, kernel_size=5), nn.ReLU(),\n",
    "        nn.MaxPool2d(kernel_size=2, stride=2),\n",
    "        nn.Flatten(),\n",
    "        nn.Linear(16 * 5 * 5, 120), nn.ReLU(),\n",
    "        nn.Linear(120, 84), nn.ReLU(),\n",
    "        nn.Linear(84, 10))\n",
    "\n",
    "    return model\n",
    "\n",
    "loss = nn.CrossEntropyLoss()\n",
    "device = d2l.try_gpu()\n",
    "\n",
    "batch_size = 256\n",
    "train_iter, test_iter = d2l.load_data_fashion_mnist(batch_size=batch_size)\n",
    "\n",
    "# The code is almost identical to `d2l.train_ch6` defined in the\n",
    "# lenet section of chapter convolutional neural networks\n",
    "def train(net, train_iter, test_iter, num_epochs, loss, trainer, device,\n",
    "          scheduler=None):\n",
    "    net.to(device)\n",
    "    animator = d2l.Animator(xlabel='epoch', xlim=[0, num_epochs],\n",
    "                            legend=['train loss', 'train acc', 'test acc'])\n",
    "\n",
    "    for epoch in range(num_epochs):\n",
    "        metric = d2l.Accumulator(3)  # train_loss, train_acc, num_examples\n",
    "        for i, (X, y) in enumerate(train_iter):\n",
    "            net.train()\n",
    "            trainer.zero_grad()\n",
    "            X, y = X.to(device), y.to(device)\n",
    "            y_hat = net(X)\n",
    "            l = loss(y_hat, y)\n",
    "            l.backward()\n",
    "            trainer.step()\n",
    "            with torch.no_grad():\n",
    "                metric.add(l * X.shape[0], d2l.accuracy(y_hat, y), X.shape[0])\n",
    "            train_loss = metric[0] / metric[2]\n",
    "            train_acc = metric[1] / metric[2]\n",
    "            if (i + 1) % 50 == 0:\n",
    "                animator.add(epoch + i / len(train_iter),\n",
    "                             (train_loss, train_acc, None))\n",
    "\n",
    "        test_acc = d2l.evaluate_accuracy_gpu(net, test_iter)\n",
    "        animator.add(epoch+1, (None, None, test_acc))\n",
    "\n",
    "        if scheduler:\n",
    "            if scheduler.__module__ == lr_scheduler.__name__:\n",
    "                # Using PyTorch In-Built scheduler\n",
    "                scheduler.step()\n",
    "            else:\n",
    "                # Using custom defined scheduler\n",
    "                for param_group in trainer.param_groups:\n",
    "                    param_group['lr'] = scheduler(epoch)\n",
    "\n",
    "    print(f'train loss {train_loss:.3f}, train acc {train_acc:.3f}, '\n",
    "          f'test acc {test_acc:.3f}')"
   ]
  },
  {
   "cell_type": "code",
   "execution_count": null,
   "id": "26dae5a1",
   "metadata": {},
   "outputs": [],
   "source": [
    "#@tab tensorflow\n",
    "%matplotlib inline\n",
    "from d2l import tensorflow as d2l\n",
    "import tensorflow as tf\n",
    "import math\n",
    "from tensorflow.keras.callbacks import LearningRateScheduler\n",
    "\n",
    "def net():\n",
    "    return tf.keras.models.Sequential([\n",
    "        tf.keras.layers.Conv2D(filters=6, kernel_size=5, activation='relu',\n",
    "                               padding='same'),\n",
    "        tf.keras.layers.AvgPool2D(pool_size=2, strides=2),\n",
    "        tf.keras.layers.Conv2D(filters=16, kernel_size=5,\n",
    "                               activation='relu'),\n",
    "        tf.keras.layers.AvgPool2D(pool_size=2, strides=2),\n",
    "        tf.keras.layers.Flatten(),\n",
    "        tf.keras.layers.Dense(120, activation='relu'),\n",
    "        tf.keras.layers.Dense(84, activation='sigmoid'),\n",
    "        tf.keras.layers.Dense(10)])\n",
    "\n",
    "\n",
    "batch_size = 256\n",
    "train_iter, test_iter = d2l.load_data_fashion_mnist(batch_size=batch_size)\n",
    "\n",
    "# The code is almost identical to `d2l.train_ch6` defined in the\n",
    "# lenet section of chapter convolutional neural networks\n",
    "def train(net_fn, train_iter, test_iter, num_epochs, lr,\n",
    "              device=d2l.try_gpu(), custom_callback = False):\n",
    "    device_name = device._device_name\n",
    "    strategy = tf.distribute.OneDeviceStrategy(device_name)\n",
    "    with strategy.scope():\n",
    "        optimizer = tf.keras.optimizers.SGD(learning_rate=lr)\n",
    "        loss = tf.keras.losses.SparseCategoricalCrossentropy(from_logits=True)\n",
    "        net = net_fn()\n",
    "        net.compile(optimizer=optimizer, loss=loss, metrics=['accuracy'])\n",
    "    callback = d2l.TrainCallback(net, train_iter, test_iter, num_epochs,\n",
    "                             device_name)\n",
    "    if custom_callback is False:\n",
    "        net.fit(train_iter, epochs=num_epochs, verbose=0,\n",
    "                callbacks=[callback])\n",
    "    else:\n",
    "         net.fit(train_iter, epochs=num_epochs, verbose=0,\n",
    "                 callbacks=[callback, custom_callback])\n",
    "    return net"
   ]
  },
  {
   "cell_type": "markdown",
   "id": "6ba40102",
   "metadata": {},
   "source": [
    "Let's have a look at what happens if we invoke this algorithm with default settings, such as a learning rate of $0.3$ and train for $30$ iterations. Note how the training accuracy keeps on increasing while progress in terms of test accuracy stalls beyond a point. The gap between both curves indicates overfitting."
   ]
  },
  {
   "cell_type": "code",
   "execution_count": null,
   "id": "9a685c6d",
   "metadata": {},
   "outputs": [],
   "source": [
    "#@tab mxnet\n",
    "lr, num_epochs = 0.3, 30\n",
    "net.initialize(force_reinit=True, ctx=device, init=init.Xavier())\n",
    "trainer = gluon.Trainer(net.collect_params(), 'sgd', {'learning_rate': lr})\n",
    "train(net, train_iter, test_iter, num_epochs, loss, trainer, device)"
   ]
  },
  {
   "cell_type": "code",
   "execution_count": null,
   "id": "7fcbec49",
   "metadata": {},
   "outputs": [],
   "source": [
    "#@tab pytorch\n",
    "lr, num_epochs = 0.3, 30\n",
    "net = net_fn()\n",
    "trainer = torch.optim.SGD(net.parameters(), lr=lr)\n",
    "train(net, train_iter, test_iter, num_epochs, loss, trainer, device)"
   ]
  },
  {
   "cell_type": "code",
   "execution_count": null,
   "id": "0ef66946",
   "metadata": {},
   "outputs": [],
   "source": [
    "#@tab tensorflow\n",
    "lr, num_epochs = 0.3, 30\n",
    "train(net, train_iter, test_iter, num_epochs, lr)"
   ]
  },
  {
   "cell_type": "markdown",
   "id": "d0646ee2",
   "metadata": {},
   "source": [
    "## Schedulers\n",
    "\n",
    "One way of adjusting the learning rate is to set it explicitly at each step. This is conveniently achieved by the `set_learning_rate` method. We could adjust it downward after every epoch (or even after every minibatch), e.g., in a dynamic manner in response to how optimization is progressing."
   ]
  },
  {
   "cell_type": "code",
   "execution_count": null,
   "id": "9a439be1",
   "metadata": {},
   "outputs": [],
   "source": [
    "#@tab mxnet\n",
    "trainer.set_learning_rate(0.1)\n",
    "print(f'learning rate is now {trainer.learning_rate:.2f}')"
   ]
  },
  {
   "cell_type": "code",
   "execution_count": null,
   "id": "50c5f8f1",
   "metadata": {},
   "outputs": [],
   "source": [
    "#@tab pytorch\n",
    "lr = 0.1\n",
    "trainer.param_groups[0][\"lr\"] = lr\n",
    "print(f'learning rate is now {trainer.param_groups[0][\"lr\"]:.2f}')"
   ]
  },
  {
   "cell_type": "code",
   "execution_count": null,
   "id": "ef985fd7",
   "metadata": {},
   "outputs": [],
   "source": [
    "#@tab tensorflow\n",
    "lr = 0.1\n",
    "dummy_model = tf.keras.models.Sequential([tf.keras.layers.Dense(10)])\n",
    "dummy_model.compile(tf.keras.optimizers.SGD(learning_rate=lr), loss='mse')\n",
    "print(f'learning rate is now ,', dummy_model.optimizer.lr.numpy())"
   ]
  },
  {
   "cell_type": "markdown",
   "id": "333c6933",
   "metadata": {},
   "source": [
    "More generally we want to define a scheduler. When invoked with the number of updates it returns the appropriate value of the learning rate. Let's define a simple one that sets the learning rate to $\\eta = \\eta_0 (t + 1)^{-\\frac{1}{2}}$."
   ]
  },
  {
   "cell_type": "code",
   "execution_count": null,
   "id": "42b4da66",
   "metadata": {},
   "outputs": [],
   "source": [
    "#@tab all\n",
    "class SquareRootScheduler:\n",
    "    def __init__(self, lr=0.1):\n",
    "        self.lr = lr\n",
    "\n",
    "    def __call__(self, num_update):\n",
    "        return self.lr * pow(num_update + 1.0, -0.5)"
   ]
  },
  {
   "cell_type": "markdown",
   "id": "55e8f7cc",
   "metadata": {},
   "source": [
    "Let's plot its behavior over a range of values."
   ]
  },
  {
   "cell_type": "code",
   "execution_count": null,
   "id": "0935fbc4",
   "metadata": {},
   "outputs": [],
   "source": [
    "#@tab all\n",
    "scheduler = SquareRootScheduler(lr=0.1)\n",
    "d2l.plot(d2l.arange(num_epochs), [scheduler(t) for t in range(num_epochs)])"
   ]
  },
  {
   "cell_type": "markdown",
   "id": "e9d08478",
   "metadata": {},
   "source": [
    "Now let's see how this plays out for training on Fashion-MNIST. We simply provide the scheduler as an additional argument to the training algorithm."
   ]
  },
  {
   "cell_type": "code",
   "execution_count": null,
   "id": "392bdc3f",
   "metadata": {},
   "outputs": [],
   "source": [
    "#@tab mxnet\n",
    "trainer = gluon.Trainer(net.collect_params(), 'sgd',\n",
    "                        {'lr_scheduler': scheduler})\n",
    "train(net, train_iter, test_iter, num_epochs, loss, trainer, device)"
   ]
  },
  {
   "cell_type": "code",
   "execution_count": null,
   "id": "32e9f96d",
   "metadata": {},
   "outputs": [],
   "source": [
    "#@tab pytorch\n",
    "net = net_fn()\n",
    "trainer = torch.optim.SGD(net.parameters(), lr)\n",
    "train(net, train_iter, test_iter, num_epochs, loss, trainer, device,\n",
    "      scheduler)"
   ]
  },
  {
   "cell_type": "code",
   "execution_count": null,
   "id": "21e27a3f",
   "metadata": {},
   "outputs": [],
   "source": [
    "#@tab tensorflow\n",
    "train(net, train_iter, test_iter, num_epochs, lr,\n",
    "      custom_callback=LearningRateScheduler(scheduler))"
   ]
  },
  {
   "cell_type": "markdown",
   "id": "c916b2f8",
   "metadata": {},
   "source": [
    "This worked quite a bit better than previously. Two things stand out: the curve was rather more smooth than previously. Secondly, there was less overfitting. Unfortunately it is not a well-resolved question as to why certain strategies lead to less overfitting in *theory*. There is some argument that a smaller stepsize will lead to parameters that are closer to zero and thus simpler. However, this does not explain the phenomenon entirely since we do not really stop early but simply reduce the learning rate gently.\n",
    "\n",
    "## Policies\n",
    "\n",
    "While we cannot possibly cover the entire variety of learning rate schedulers, we attempt to give a brief overview of popular policies below. Common choices are polynomial decay and piecewise constant schedules. Beyond that, cosine learning rate schedules have been found to work well empirically on some problems. Lastly, on some problems it is beneficial to warm up the optimizer prior to using large learning rates.\n",
    "\n",
    "### Factor Scheduler\n",
    "\n",
    "One alternative to a polynomial decay would be a multiplicative one, that is $\\eta_{t+1} \\leftarrow \\eta_t \\cdot \\alpha$ for $\\alpha \\in (0, 1)$. To prevent the learning rate from decaying beyond a reasonable lower bound the update equation is often modified to $\\eta_{t+1} \\leftarrow \\mathop{\\mathrm{max}}(\\eta_{\\mathrm{min}}, \\eta_t \\cdot \\alpha)$."
   ]
  },
  {
   "cell_type": "code",
   "execution_count": null,
   "id": "cf7c4cd0",
   "metadata": {},
   "outputs": [],
   "source": [
    "#@tab all\n",
    "class FactorScheduler:\n",
    "    def __init__(self, factor=1, stop_factor_lr=1e-7, base_lr=0.1):\n",
    "        self.factor = factor\n",
    "        self.stop_factor_lr = stop_factor_lr\n",
    "        self.base_lr = base_lr\n",
    "\n",
    "    def __call__(self, num_update):\n",
    "        self.base_lr = max(self.stop_factor_lr, self.base_lr * self.factor)\n",
    "        return self.base_lr\n",
    "\n",
    "scheduler = FactorScheduler(factor=0.9, stop_factor_lr=1e-2, base_lr=2.0)\n",
    "d2l.plot(d2l.arange(50), [scheduler(t) for t in range(50)])"
   ]
  },
  {
   "cell_type": "markdown",
   "id": "628a11f6",
   "metadata": {},
   "source": [
    "This can also be accomplished by a built-in scheduler in MXNet via the `lr_scheduler.FactorScheduler` object. It takes a few more parameters, such as warmup period, warmup mode (linear or constant), the maximum number of desired updates, etc.; Going forward we will use the built-in schedulers as appropriate and only explain their functionality here. As illustrated, it is fairly straightforward to build your own scheduler if needed.\n",
    "\n",
    "### Multi Factor Scheduler\n",
    "\n",
    "A common strategy for training deep networks is to keep the learning rate piecewise constant and to decrease it by a given amount every so often. That is, given a set of times when to decrease the rate, such as $s = \\{5, 10, 20\\}$ decrease $\\eta_{t+1} \\leftarrow \\eta_t \\cdot \\alpha$ whenever $t \\in s$. Assuming that the values are halved at each step we can implement this as follows."
   ]
  },
  {
   "cell_type": "code",
   "execution_count": null,
   "id": "5d7c6763",
   "metadata": {},
   "outputs": [],
   "source": [
    "#@tab mxnet\n",
    "scheduler = lr_scheduler.MultiFactorScheduler(step=[15, 30], factor=0.5,\n",
    "                                              base_lr=0.5)\n",
    "d2l.plot(d2l.arange(num_epochs), [scheduler(t) for t in range(num_epochs)])"
   ]
  },
  {
   "cell_type": "code",
   "execution_count": null,
   "id": "7ee6c167",
   "metadata": {},
   "outputs": [],
   "source": [
    "#@tab pytorch\n",
    "net = net_fn()\n",
    "trainer = torch.optim.SGD(net.parameters(), lr=0.5)\n",
    "scheduler = lr_scheduler.MultiStepLR(trainer, milestones=[15, 30], gamma=0.5)\n",
    "\n",
    "def get_lr(trainer, scheduler):\n",
    "    lr = scheduler.get_last_lr()[0]\n",
    "    trainer.step()\n",
    "    scheduler.step()\n",
    "    return lr\n",
    "\n",
    "d2l.plot(d2l.arange(num_epochs), [get_lr(trainer, scheduler)\n",
    "                                  for t in range(num_epochs)])"
   ]
  },
  {
   "cell_type": "code",
   "execution_count": null,
   "id": "49b4b973",
   "metadata": {},
   "outputs": [],
   "source": [
    "#@tab tensorflow\n",
    "class MultiFactorScheduler:\n",
    "    def __init__(self, step, factor, base_lr):\n",
    "        self.step = step\n",
    "        self.factor = factor\n",
    "        self.base_lr = base_lr\n",
    "\n",
    "    def __call__(self, epoch):\n",
    "        if epoch in self.step:\n",
    "            self.base_lr = self.base_lr * self.factor\n",
    "            return self.base_lr\n",
    "        else:\n",
    "            return self.base_lr\n",
    "\n",
    "scheduler = MultiFactorScheduler(step=[15, 30], factor=0.5, base_lr=0.5)\n",
    "d2l.plot(d2l.arange(num_epochs), [scheduler(t) for t in range(num_epochs)])"
   ]
  },
  {
   "cell_type": "markdown",
   "id": "7234a9de",
   "metadata": {},
   "source": [
    "The intuition behind this piecewise constant learning rate schedule is that one lets optimization proceed until a stationary point has been reached in terms of the distribution of weight vectors. Then (and only then) do we decrease the rate such as to obtain a higher quality proxy to a good local minimum. The example below shows how this can produce ever slightly better solutions."
   ]
  },
  {
   "cell_type": "code",
   "execution_count": null,
   "id": "12aeb28b",
   "metadata": {},
   "outputs": [],
   "source": [
    "#@tab mxnet\n",
    "trainer = gluon.Trainer(net.collect_params(), 'sgd',\n",
    "                        {'lr_scheduler': scheduler})\n",
    "train(net, train_iter, test_iter, num_epochs, loss, trainer, device)"
   ]
  },
  {
   "cell_type": "code",
   "execution_count": null,
   "id": "06cace12",
   "metadata": {},
   "outputs": [],
   "source": [
    "#@tab pytorch\n",
    "train(net, train_iter, test_iter, num_epochs, loss, trainer, device,\n",
    "      scheduler)"
   ]
  },
  {
   "cell_type": "code",
   "execution_count": null,
   "id": "5782b2af",
   "metadata": {},
   "outputs": [],
   "source": [
    "#@tab tensorflow\n",
    "train(net, train_iter, test_iter, num_epochs, lr,\n",
    "      custom_callback=LearningRateScheduler(scheduler))"
   ]
  },
  {
   "cell_type": "markdown",
   "id": "51899ea3",
   "metadata": {},
   "source": [
    "### Cosine Scheduler\n",
    "\n",
    "A rather perplexing heuristic was proposed by :citet:`Loshchilov.Hutter.2016`. It relies on the observation that we might not want to decrease the learning rate too drastically in the beginning and moreover, that we might want to \"refine\" the solution in the end using a very small learning rate. This results in a cosine-like schedule with the following functional form for learning rates in the range $t \\in [0, T]$.\n",
    "\n",
    "$$\\eta_t = \\eta_T + \\frac{\\eta_0 - \\eta_T}{2} \\left(1 + \\cos(\\pi t/T)\\right)$$\n",
    "\n",
    "\n",
    "Here $\\eta_0$ is the initial learning rate, $\\eta_T$ is the target rate at time $T$. Furthermore, for $t > T$ we simply pin the value to $\\eta_T$ without increasing it again. In the following example, we set the max update step $T = 20$."
   ]
  },
  {
   "cell_type": "code",
   "execution_count": null,
   "id": "dfe7b206",
   "metadata": {},
   "outputs": [],
   "source": [
    "#@tab mxnet\n",
    "scheduler = lr_scheduler.CosineScheduler(max_update=20, base_lr=0.3,\n",
    "                                         final_lr=0.01)\n",
    "d2l.plot(d2l.arange(num_epochs), [scheduler(t) for t in range(num_epochs)])"
   ]
  },
  {
   "cell_type": "code",
   "execution_count": null,
   "id": "d1e2676e",
   "metadata": {},
   "outputs": [],
   "source": [
    "#@tab pytorch, tensorflow\n",
    "class CosineScheduler:\n",
    "    def __init__(self, max_update, base_lr=0.01, final_lr=0,\n",
    "               warmup_steps=0, warmup_begin_lr=0):\n",
    "        self.base_lr_orig = base_lr\n",
    "        self.max_update = max_update\n",
    "        self.final_lr = final_lr\n",
    "        self.warmup_steps = warmup_steps\n",
    "        self.warmup_begin_lr = warmup_begin_lr\n",
    "        self.max_steps = self.max_update - self.warmup_steps\n",
    "\n",
    "    def get_warmup_lr(self, epoch):\n",
    "        increase = (self.base_lr_orig - self.warmup_begin_lr) \\\n",
    "                       * float(epoch) / float(self.warmup_steps)\n",
    "        return self.warmup_begin_lr + increase\n",
    "\n",
    "    def __call__(self, epoch):\n",
    "        if epoch < self.warmup_steps:\n",
    "            return self.get_warmup_lr(epoch)\n",
    "        if epoch <= self.max_update:\n",
    "            self.base_lr = self.final_lr + (\n",
    "                self.base_lr_orig - self.final_lr) * (1 + math.cos(\n",
    "                math.pi * (epoch - self.warmup_steps) / self.max_steps)) / 2\n",
    "        return self.base_lr\n",
    "\n",
    "scheduler = CosineScheduler(max_update=20, base_lr=0.3, final_lr=0.01)\n",
    "d2l.plot(d2l.arange(num_epochs), [scheduler(t) for t in range(num_epochs)])"
   ]
  },
  {
   "cell_type": "markdown",
   "id": "1048bf45",
   "metadata": {},
   "source": [
    "In the context of computer vision this schedule *can* lead to improved results. Note, though, that such improvements are not guaranteed (as can be seen below)."
   ]
  },
  {
   "cell_type": "code",
   "execution_count": null,
   "id": "ffaa37fb",
   "metadata": {},
   "outputs": [],
   "source": [
    "#@tab mxnet\n",
    "trainer = gluon.Trainer(net.collect_params(), 'sgd',\n",
    "                        {'lr_scheduler': scheduler})\n",
    "train(net, train_iter, test_iter, num_epochs, loss, trainer, device)"
   ]
  },
  {
   "cell_type": "code",
   "execution_count": null,
   "id": "ded63869",
   "metadata": {},
   "outputs": [],
   "source": [
    "#@tab pytorch\n",
    "net = net_fn()\n",
    "trainer = torch.optim.SGD(net.parameters(), lr=0.3)\n",
    "train(net, train_iter, test_iter, num_epochs, loss, trainer, device,\n",
    "      scheduler)"
   ]
  },
  {
   "cell_type": "code",
   "execution_count": null,
   "id": "9d87f58e",
   "metadata": {},
   "outputs": [],
   "source": [
    "#@tab tensorflow\n",
    "train(net, train_iter, test_iter, num_epochs, lr,\n",
    "      custom_callback=LearningRateScheduler(scheduler))"
   ]
  },
  {
   "cell_type": "markdown",
   "id": "c4c5a8f6",
   "metadata": {},
   "source": [
    "### Warmup\n",
    "\n",
    "In some cases initializing the parameters is not sufficient to guarantee a good solution. This is particularly a problem for some advanced network designs that may lead to unstable optimization problems. We could address this by choosing a sufficiently small learning rate to prevent divergence in the beginning. Unfortunately this means that progress is slow. Conversely, a large learning rate initially leads to divergence.\n",
    "\n",
    "A rather simple fix for this dilemma is to use a warmup period during which the learning rate *increases* to its initial maximum and to cool down the rate until the end of the optimization process. For simplicity one typically uses a linear increase for this purpose. This leads to a schedule of the form indicated below."
   ]
  },
  {
   "cell_type": "code",
   "execution_count": null,
   "id": "fbc4767d",
   "metadata": {},
   "outputs": [],
   "source": [
    "#@tab mxnet\n",
    "scheduler = lr_scheduler.CosineScheduler(20, warmup_steps=5, base_lr=0.3,\n",
    "                                         final_lr=0.01)\n",
    "d2l.plot(np.arange(num_epochs), [scheduler(t) for t in range(num_epochs)])"
   ]
  },
  {
   "cell_type": "code",
   "execution_count": null,
   "id": "837bef9b",
   "metadata": {},
   "outputs": [],
   "source": [
    "#@tab pytorch, tensorflow\n",
    "scheduler = CosineScheduler(20, warmup_steps=5, base_lr=0.3, final_lr=0.01)\n",
    "d2l.plot(d2l.arange(num_epochs), [scheduler(t) for t in range(num_epochs)])"
   ]
  },
  {
   "cell_type": "markdown",
   "id": "8493bb53",
   "metadata": {},
   "source": [
    "Note that the network converges better initially (in particular observe the performance during the first 5 epochs)."
   ]
  },
  {
   "cell_type": "code",
   "execution_count": null,
   "id": "c49ca12e",
   "metadata": {},
   "outputs": [],
   "source": [
    "#@tab mxnet\n",
    "trainer = gluon.Trainer(net.collect_params(), 'sgd',\n",
    "                        {'lr_scheduler': scheduler})\n",
    "train(net, train_iter, test_iter, num_epochs, loss, trainer, device)"
   ]
  },
  {
   "cell_type": "code",
   "execution_count": null,
   "id": "73bd5b0c",
   "metadata": {},
   "outputs": [],
   "source": [
    "#@tab pytorch\n",
    "net = net_fn()\n",
    "trainer = torch.optim.SGD(net.parameters(), lr=0.3)\n",
    "train(net, train_iter, test_iter, num_epochs, loss, trainer, device,\n",
    "      scheduler)"
   ]
  },
  {
   "cell_type": "code",
   "execution_count": null,
   "id": "13872401",
   "metadata": {},
   "outputs": [],
   "source": [
    "#@tab tensorflow\n",
    "train(net, train_iter, test_iter, num_epochs, lr,\n",
    "      custom_callback=LearningRateScheduler(scheduler))"
   ]
  },
  {
   "cell_type": "markdown",
   "id": "491f498b",
   "metadata": {},
   "source": [
    "Warmup can be applied to any scheduler (not just cosine). For a more detailed discussion of learning rate schedules and many more experiments see also :cite:`Gotmare.Keskar.Xiong.ea.2018`. In particular they find that a warmup phase limits the amount of divergence of parameters in very deep networks. This makes intuitively sense since we would expect significant divergence due to random initialization in those parts of the network that take the most time to make progress in the beginning.\n",
    "\n",
    "## Summary\n",
    "\n",
    "* Decreasing the learning rate during training can lead to improved accuracy and (most perplexingly) reduced overfitting of the model.\n",
    "* A piecewise decrease of the learning rate whenever progress has plateaued is effective in practice. Essentially this ensures that we converge efficiently to a suitable solution and only then reduce the inherent variance of the parameters by reducing the learning rate.\n",
    "* Cosine schedulers are popular for some computer vision problems. See e.g., [GluonCV](http://gluon-cv.mxnet.io) for details of such a scheduler.\n",
    "* A warmup period before optimization can prevent divergence.\n",
    "* Optimization serves multiple purposes in deep learning. Besides minimizing the training objective, different choices of optimization algorithms and learning rate scheduling can lead to rather different amounts of generalization and overfitting on the test set (for the same amount of training error).\n",
    "\n",
    "## Exercises\n",
    "\n",
    "1. Experiment with the optimization behavior for a given fixed learning rate. What is the best model you can obtain this way?\n",
    "1. How does convergence change if you change the exponent of the decrease in the learning rate? Use `PolyScheduler` for your convenience in the experiments.\n",
    "1. Apply the cosine scheduler to large computer vision problems, e.g., training ImageNet. How does it affect performance relative to other schedulers?\n",
    "1. How long should warmup last?\n",
    "1. Can you connect optimization and sampling? Start by using results from :citet:`Welling.Teh.2011` on Stochastic Gradient Langevin Dynamics.\n",
    "\n",
    ":begin_tab:`mxnet`\n",
    "[Discussions](https://discuss.d2l.ai/t/359)\n",
    ":end_tab:\n",
    "\n",
    ":begin_tab:`pytorch`\n",
    "[Discussions](https://discuss.d2l.ai/t/1080)\n",
    ":end_tab:\n",
    "\n",
    ":begin_tab:`tensorflow`\n",
    "[Discussions](https://discuss.d2l.ai/t/1081)\n",
    ":end_tab:"
   ]
  }
 ],
 "metadata": {},
 "nbformat": 4,
 "nbformat_minor": 5
}
