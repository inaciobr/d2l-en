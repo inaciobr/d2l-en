{
 "cells": [
  {
   "cell_type": "markdown",
   "id": "763ce420",
   "metadata": {},
   "source": [
    "# Adadelta\n",
    ":label:`sec_adadelta`\n",
    "\n",
    "Adadelta is yet another variant of AdaGrad (:numref:`sec_adagrad`). The main difference lies in the fact that it decreases the amount by which the learning rate is adaptive to coordinates. Moreover, traditionally it referred to as not having a learning rate since it uses the amount of change itself as calibration for future change. The algorithm was proposed in :citet:`Zeiler.2012`. It is fairly straightforward, given the discussion of previous algorithms so far.\n",
    "\n",
    "## The Algorithm\n",
    "\n",
    "In a nutshell, Adadelta uses two state variables, $\\mathbf{s}_t$ to store a leaky average of the second moment of the gradient and $\\Delta\\mathbf{x}_t$ to store a leaky average of the second moment of the change of parameters in the model itself. Note that we use the original notation and naming of the authors for compatibility with other publications and implementations (there is no other real reason why one should use different Greek variables to indicate a parameter serving the same purpose in momentum, Adagrad, RMSProp, and Adadelta).\n",
    "\n",
    "Here are the technical details of Adadelta. Given the parameter du jour is $\\rho$, we obtain the following leaky updates similarly to :numref:`sec_rmsprop`:\n",
    "\n",
    "$$\\begin{aligned}\n",
    "    \\mathbf{s}_t & = \\rho \\mathbf{s}_{t-1} + (1 - \\rho) \\mathbf{g}_t^2.\n",
    "\\end{aligned}$$\n",
    "\n",
    "The difference to :numref:`sec_rmsprop` is that we perform updates with the rescaled gradient $\\mathbf{g}_t'$, i.e.,\n",
    "\n",
    "$$\\begin{aligned}\n",
    "    \\mathbf{x}_t  & = \\mathbf{x}_{t-1} - \\mathbf{g}_t'. \\\\\n",
    "\\end{aligned}$$\n",
    "\n",
    "So what is the rescaled gradient $\\mathbf{g}_t'$? We can calculate it as follows:\n",
    "\n",
    "$$\\begin{aligned}\n",
    "    \\mathbf{g}_t' & = \\frac{\\sqrt{\\Delta\\mathbf{x}_{t-1} + \\epsilon}}{\\sqrt{{\\mathbf{s}_t + \\epsilon}}} \\odot \\mathbf{g}_t, \\\\\n",
    "\\end{aligned}$$\n",
    "\n",
    "where $\\Delta \\mathbf{x}_{t-1}$ is the leaky average of the squared rescaled gradients $\\mathbf{g}_t'$. We initialize $\\Delta \\mathbf{x}_{0}$ to be $0$ and update it at each step with $\\mathbf{g}_t'$, i.e.,\n",
    "\n",
    "$$\\begin{aligned}\n",
    "    \\Delta \\mathbf{x}_t & = \\rho \\Delta\\mathbf{x}_{t-1} + (1 - \\rho) {\\mathbf{g}_t'}^2,\n",
    "\\end{aligned}$$\n",
    "\n",
    "and $\\epsilon$ (a small value such as $10^{-5}$) is added to maintain numerical stability.\n",
    "\n",
    "\n",
    "\n",
    "## Implementation\n",
    "\n",
    "Adadelta needs to maintain two state variables for each variable, $\\mathbf{s}_t$ and $\\Delta\\mathbf{x}_t$. This yields the following implementation."
   ]
  },
  {
   "cell_type": "code",
   "execution_count": null,
   "id": "d0d0d836",
   "metadata": {},
   "outputs": [],
   "source": [
    "#@tab mxnet\n",
    "%matplotlib inline\n",
    "from d2l import mxnet as d2l\n",
    "from mxnet import np, npx\n",
    "npx.set_np()\n",
    "\n",
    "def init_adadelta_states(feature_dim):\n",
    "    s_w, s_b = d2l.zeros((feature_dim, 1)), d2l.zeros(1)\n",
    "    delta_w, delta_b = d2l.zeros((feature_dim, 1)), d2l.zeros(1)\n",
    "    return ((s_w, delta_w), (s_b, delta_b))\n",
    "\n",
    "def adadelta(params, states, hyperparams):\n",
    "    rho, eps = hyperparams['rho'], 1e-5\n",
    "    for p, (s, delta) in zip(params, states):\n",
    "        # In-place updates via [:]\n",
    "        s[:] = rho * s + (1 - rho) * np.square(p.grad)\n",
    "        g = (np.sqrt(delta + eps) / np.sqrt(s + eps)) * p.grad\n",
    "        p[:] -= g\n",
    "        delta[:] = rho * delta + (1 - rho) * g * g"
   ]
  },
  {
   "cell_type": "code",
   "execution_count": null,
   "id": "e4874bb5",
   "metadata": {},
   "outputs": [],
   "source": [
    "#@tab pytorch\n",
    "%matplotlib inline\n",
    "from d2l import torch as d2l\n",
    "import torch\n",
    "\n",
    "def init_adadelta_states(feature_dim):\n",
    "    s_w, s_b = d2l.zeros((feature_dim, 1)), d2l.zeros(1)\n",
    "    delta_w, delta_b = d2l.zeros((feature_dim, 1)), d2l.zeros(1)\n",
    "    return ((s_w, delta_w), (s_b, delta_b))\n",
    "\n",
    "def adadelta(params, states, hyperparams):\n",
    "    rho, eps = hyperparams['rho'], 1e-5\n",
    "    for p, (s, delta) in zip(params, states):\n",
    "        with torch.no_grad():\n",
    "            # In-place updates via [:]\n",
    "            s[:] = rho * s + (1 - rho) * torch.square(p.grad)\n",
    "            g = (torch.sqrt(delta + eps) / torch.sqrt(s + eps)) * p.grad\n",
    "            p[:] -= g\n",
    "            delta[:] = rho * delta + (1 - rho) * g * g\n",
    "        p.grad.data.zero_()"
   ]
  },
  {
   "cell_type": "code",
   "execution_count": null,
   "id": "59a684fb",
   "metadata": {},
   "outputs": [],
   "source": [
    "#@tab tensorflow\n",
    "%matplotlib inline\n",
    "from d2l import tensorflow as d2l\n",
    "import tensorflow as tf\n",
    "\n",
    "def init_adadelta_states(feature_dim):\n",
    "    s_w = tf.Variable(d2l.zeros((feature_dim, 1)))\n",
    "    s_b = tf.Variable(d2l.zeros(1))\n",
    "    delta_w = tf.Variable(d2l.zeros((feature_dim, 1)))\n",
    "    delta_b = tf.Variable(d2l.zeros(1))\n",
    "    return ((s_w, delta_w), (s_b, delta_b))\n",
    "\n",
    "def adadelta(params, grads, states, hyperparams):\n",
    "    rho, eps = hyperparams['rho'], 1e-5\n",
    "    for p, (s, delta), grad in zip(params, states, grads):\n",
    "        s[:].assign(rho * s + (1 - rho) * tf.math.square(grad))\n",
    "        g = (tf.math.sqrt(delta + eps) / tf.math.sqrt(s + eps)) * grad\n",
    "        p[:].assign(p - g)\n",
    "        delta[:].assign(rho * delta + (1 - rho) * g * g)"
   ]
  },
  {
   "cell_type": "markdown",
   "id": "b8dfffc6",
   "metadata": {},
   "source": [
    "Choosing $\\rho = 0.9$ amounts to a half-life time of 10 for each parameter update. This tends to work quite well. We get the following behavior."
   ]
  },
  {
   "cell_type": "code",
   "execution_count": null,
   "id": "62f4b4a8",
   "metadata": {},
   "outputs": [],
   "source": [
    "#@tab all\n",
    "data_iter, feature_dim = d2l.get_data_ch11(batch_size=10)\n",
    "d2l.train_ch11(adadelta, init_adadelta_states(feature_dim),\n",
    "               {'rho': 0.9}, data_iter, feature_dim);"
   ]
  },
  {
   "cell_type": "markdown",
   "id": "fcb0cc07",
   "metadata": {},
   "source": [
    "For a concise implementation we simply use the Adadelta algorithm from high-level APIs. This yields the following one-liner for a much more compact invocation."
   ]
  },
  {
   "cell_type": "code",
   "execution_count": null,
   "id": "ec7b5360",
   "metadata": {},
   "outputs": [],
   "source": [
    "#@tab mxnet\n",
    "d2l.train_concise_ch11('adadelta', {'rho': 0.9}, data_iter)"
   ]
  },
  {
   "cell_type": "code",
   "execution_count": null,
   "id": "e7f40cb4",
   "metadata": {},
   "outputs": [],
   "source": [
    "#@tab pytorch\n",
    "trainer = torch.optim.Adadelta\n",
    "d2l.train_concise_ch11(trainer, {'rho': 0.9}, data_iter)"
   ]
  },
  {
   "cell_type": "code",
   "execution_count": null,
   "id": "7a03717e",
   "metadata": {},
   "outputs": [],
   "source": [
    "#@tab tensorflow\n",
    "# adadelta is not converging at default learning rate\n",
    "# but it is converging at lr = 5.0\n",
    "trainer = tf.keras.optimizers.Adadelta\n",
    "d2l.train_concise_ch11(trainer, {'learning_rate':5.0, 'rho': 0.9}, data_iter)"
   ]
  },
  {
   "cell_type": "markdown",
   "id": "858a72ac",
   "metadata": {},
   "source": [
    "## Summary\n",
    "\n",
    "* Adadelta has no learning rate parameter. Instead, it uses the rate of change in the parameters itself to adapt the learning rate.\n",
    "* Adadelta requires two state variables to store the second moments of gradient and the change in parameters.\n",
    "* Adadelta uses leaky averages to keep a running estimate of the appropriate statistics.\n",
    "\n",
    "## Exercises\n",
    "\n",
    "1. Adjust the value of $\\rho$. What happens?\n",
    "1. Show how to implement the algorithm without the use of $\\mathbf{g}_t'$. Why might this be a good idea?\n",
    "1. Is Adadelta really learning rate free? Could you find optimization problems that break Adadelta?\n",
    "1. Compare Adadelta to Adagrad and RMS prop to discuss their convergence behavior.\n",
    "\n",
    ":begin_tab:`mxnet`\n",
    "[Discussions](https://discuss.d2l.ai/t/357)\n",
    ":end_tab:\n",
    "\n",
    ":begin_tab:`pytorch`\n",
    "[Discussions](https://discuss.d2l.ai/t/1076)\n",
    ":end_tab:\n",
    "\n",
    "\n",
    ":begin_tab:`tensorflow`\n",
    "[Discussions](https://discuss.d2l.ai/t/1077)\n",
    ":end_tab:"
   ]
  }
 ],
 "metadata": {},
 "nbformat": 4,
 "nbformat_minor": 5
}
