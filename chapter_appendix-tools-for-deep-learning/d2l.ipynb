{
 "cells": [
  {
   "cell_type": "markdown",
   "id": "96dfc820",
   "metadata": {},
   "source": [
    "# The `d2l` API Document\n",
    ":label:`sec_d2l`\n",
    "\n",
    "This section displays classes and functions (sorted alphabetically) in the `d2l` package, showing where they are defined in the book so you can find more detailed implementations and explanations. \n",
    "See also the source code on the [GitHub repository](https://github.com/d2l-ai/d2l-en/tree/master/d2l).\n",
    "\n",
    ":begin_tab:`pytorch`"
   ]
  },
  {
   "cell_type": "code",
   "execution_count": null,
   "id": "3277b3c4",
   "metadata": {
    "attributes": {
     "classes": [
      "eval_rst"
     ],
     "id": ""
    }
   },
   "outputs": [],
   "source": [
    "\n",
    ".. currentmodule:: d2l.torch\n"
   ]
  },
  {
   "cell_type": "markdown",
   "id": "f45e3a14",
   "metadata": {},
   "source": [
    ":begin_tab:`mxnet`"
   ]
  },
  {
   "cell_type": "code",
   "execution_count": null,
   "id": "ff873a40",
   "metadata": {
    "attributes": {
     "classes": [
      "eval_rst"
     ],
     "id": ""
    }
   },
   "outputs": [],
   "source": [
    "\n",
    ".. currentmodule:: d2l.mxnet\n"
   ]
  },
  {
   "cell_type": "markdown",
   "id": "860ebc4d",
   "metadata": {},
   "source": [
    ":end_tab:\n",
    "\n",
    "\n",
    ":begin_tab:`tensorflow`"
   ]
  },
  {
   "cell_type": "code",
   "execution_count": null,
   "id": "7f32aaef",
   "metadata": {
    "attributes": {
     "classes": [
      "eval_rst"
     ],
     "id": ""
    }
   },
   "outputs": [],
   "source": [
    "\n",
    ".. currentmodule:: d2l.torch\n"
   ]
  },
  {
   "cell_type": "markdown",
   "id": "2547606f",
   "metadata": {},
   "source": [
    ":end_tab:\n",
    "\n",
    "## Classes"
   ]
  },
  {
   "cell_type": "code",
   "execution_count": null,
   "id": "f9e39e24",
   "metadata": {
    "attributes": {
     "classes": [
      "eval_rst "
     ],
     "id": ""
    }
   },
   "outputs": [],
   "source": [
    "\n",
    ".. autoclass:: AdditiveAttention\n",
    "   :members:\n",
    "   \n",
    ".. autoclass:: AddNorm\n",
    "   :members:\n",
    "\n",
    ".. autoclass:: AttentionDecoder\n",
    "   :members: \n",
    "\n",
    ".. autoclass:: Classifier\n",
    "   :members: \n",
    "   \n",
    ".. autoclass:: DataModule\n",
    "   :members: \n",
    "   \n",
    ".. autoclass:: Decoder\n",
    "   :members: \n",
    "   \n",
    ".. autoclass:: DotProductAttention\n",
    "   :members:\n",
    "   \n",
    ".. autoclass:: Encoder\n",
    "   :members:\n",
    "   \n",
    ".. autoclass:: EncoderDecoder\n",
    "   :members:\n",
    "   \n",
    ".. autoclass:: FashionMNIST\n",
    "   :members: \n",
    "   \n",
    ".. autoclass:: GRU\n",
    "   :members: \n",
    "   \n",
    ".. autoclass:: HyperParameters\n",
    "   :members: \n",
    "   \n",
    ".. autoclass:: LeNet\n",
    "   :members: \n",
    "   \n",
    ".. autoclass:: LinearRegression\n",
    "   :members: \n",
    "   \n",
    ".. autoclass:: LinearRegressionScratch\n",
    "   :members: \n",
    "   \n",
    ".. autoclass:: Module\n",
    "   :members: \n",
    "   \n",
    ".. autoclass:: MTFraEng\n",
    "   :members: \n",
    "   \n",
    ".. autoclass:: MultiHeadAttention\n",
    "   :members:\n",
    "   \n",
    ".. autoclass:: PositionalEncoding\n",
    "   :members:\n",
    "   \n",
    ".. autoclass:: PositionWiseFFN\n",
    "   :members:\n",
    "   \n",
    ".. autoclass:: ProgressBoard\n",
    "   :members: \n",
    "   \n",
    ".. autoclass:: Residual\n",
    "   :members: \n",
    "   \n",
    ".. autoclass:: ResNeXtBlock\n",
    "   :members:\n",
    "   \n",
    ".. autoclass:: RNN\n",
    "   :members: \n",
    "   \n",
    ".. autoclass:: RNNLM\n",
    "   :members:\n",
    "   \n",
    ".. autoclass:: RNNLMScratch\n",
    "   :members:\n",
    "   \n",
    ".. autoclass:: RNNScratch\n",
    "   :members: \n",
    "   \n",
    ".. autoclass:: Seq2Seq\n",
    "   :members:  \n",
    "   \n",
    ".. autoclass:: Seq2SeqEncoder\n",
    "   :members:\n",
    "   \n",
    ".. autoclass:: SGD\n",
    "   :members: \n",
    "   \n",
    ".. autoclass:: SoftmaxRegression\n",
    "   :members: \n",
    "\n",
    ".. autoclass:: SyntheticRegressionData\n",
    "   :members: \n",
    "\n",
    ".. autoclass:: TimeMachine\n",
    "   :members: \n",
    "\n",
    ".. autoclass:: Trainer\n",
    "   :members: \n",
    "\n",
    ".. autoclass:: TransformerEncoder \n",
    "   :members:\n",
    "\n",
    ".. autoclass:: TransformerEncoderBlock\n",
    "   :members:\n",
    "\n",
    ".. autoclass:: Vocab\n",
    "   :members: "
   ]
  },
  {
   "cell_type": "markdown",
   "id": "216f8788",
   "metadata": {},
   "source": [
    "## Functions"
   ]
  },
  {
   "cell_type": "code",
   "execution_count": null,
   "id": "a03e0dd3",
   "metadata": {
    "attributes": {
     "classes": [
      "eval_rst "
     ],
     "id": ""
    }
   },
   "outputs": [],
   "source": [
    "\n",
    ".. autofunction:: add_to_class\n",
    "\n",
    ".. autofunction:: bleu\n",
    "\n",
    ".. autofunction:: check_len\n",
    "\n",
    ".. autofunction:: check_shape\n",
    "\n",
    ".. autofunction:: corr2d\n",
    "\n",
    ".. autofunction:: cpu\n",
    "\n",
    ".. autofunction:: gpu\n",
    "\n",
    ".. autofunction:: init_cnn\n",
    "\n",
    ".. autofunction:: init_seq2seq\n",
    "\n",
    ".. autofunction:: masked_softmax\n",
    "\n",
    ".. autofunction:: num_gpus\n",
    "\n",
    ".. autofunction:: plot\n",
    "\n",
    ".. autofunction:: set_axes\n",
    "\n",
    ".. autofunction:: set_figsize\n",
    "\n",
    ".. autofunction:: show_heatmaps\n",
    "\n",
    ".. autofunction:: show_list_len_pair_hist\n",
    "\n",
    ".. autofunction:: try_all_gpus\n",
    "\n",
    ".. autofunction:: try_gpu\n",
    "\n",
    ".. autofunction:: use_svg_display\n"
   ]
  }
 ],
 "metadata": {},
 "nbformat": 4,
 "nbformat_minor": 5
}
