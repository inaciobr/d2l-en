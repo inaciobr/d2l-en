{
 "cells": [
  {
   "cell_type": "code",
   "execution_count": null,
   "id": "9ad94ea9",
   "metadata": {},
   "outputs": [],
   "source": [
    "%load_ext d2lbook.tab\n",
    "tab.interact_select([\"pytorch\"])\n",
    "#required_libs(\"syne-tune[gpsearchers]==0.3.2\")"
   ]
  },
  {
   "cell_type": "markdown",
   "id": "bde9fdc5",
   "metadata": {},
   "source": [
    "# Asynchronous Random Search\n",
    ":label:`sec_rs_async`\n",
    "\n",
    "As we have seen in the previous :numref:`sec_api_hpo`, we might have to wait\n",
    "hours or even days before random search returns a good hyperparameter\n",
    "configuration, because of the expensive evaluation of hyperparameter\n",
    "configurations. In practice, we have often access to a pool of resources such as\n",
    "multiple GPUs on the same machine or multiple machines with a single GPU. This\n",
    "begs the question: *How do we efficiently distribute random search?*\n",
    "\n",
    "In general, we distinguish between synchronous and asynchronous parallel\n",
    "hyperparameter optimization (see :numref:`distributed_scheduling`). In the\n",
    "synchronous setting, we wait for all concurrently running trials to finish,\n",
    "before we start the next batch. Consider configuration spaces that contain\n",
    "hyperparameters such as the number of filters or number of layers of a deep\n",
    "neural network. Hyperparameter configurations that contain a larger number of \n",
    "layers of filters will naturally take more time to finish, and all other trials\n",
    "in the same batch will have to wait at synchronisation points (grey area in\n",
    ":numref:`distributed_scheduling`) before we can continue the optimization\n",
    "process.\n",
    "\n",
    "In the asynchronous setting we immediately schedule a new trial as soon as resources\n",
    "become available. This will optimally exploit our resources, since we can avoid any\n",
    "synchronisation overhead. For random search, each new hyperparameter configuration\n",
    "is chosen independently of all others, and in particular without exploiting\n",
    "observations from any prior evaluation. This means we can trivially parallelize random\n",
    "search asynchronously. This is not straight-forward with more sophisticated methods\n",
    "that make decision based on previous observations (see :numref:`sec_sh_async`).\n",
    "While we need access to more resources than in the sequential setting, asynchronous\n",
    "random search exhibits a linear speed-up, in that a certain performance is reached\n",
    "$K$ times faster if $K$ trials can be run in parallel. \n",
    "\n",
    "\n",
    "![Distributing the hyperparameter optimization process either synchronously or asynchronously. Compared to the sequential setting, we can reduce the overall wall-clock time while keep the total compute constant. Synchronous scheduling might lead to idling workers in the case of stragglers.](../img/distributed_scheduling.svg)\n",
    ":label:`distributed_scheduling`\n",
    "\n",
    "In this notebook, we will look at asynchronous random search that, where trials are\n",
    "executed in multiple python processes on the same machine. Distributed job scheduling\n",
    "and execution is difficult to implement from scratch. We will use *Syne Tune*\n",
    ":cite:`salinas-automl22`, which provides us with a simple interface for asynchronous\n",
    "HPO. Syne Tune is designed to be run with different execution back-ends, and the\n",
    "interested reader is invited to study its simple APIs in order to learn more about\n",
    "distributed HPO."
   ]
  },
  {
   "cell_type": "code",
   "execution_count": null,
   "id": "6bfe6f97",
   "metadata": {},
   "outputs": [],
   "source": [
    "from d2l import torch as d2l\n",
    "import logging\n",
    "logging.basicConfig(level=logging.INFO)\n",
    "from syne_tune.config_space import loguniform, randint\n",
    "from syne_tune.backend.python_backend import PythonBackend\n",
    "from syne_tune.optimizer.baselines import RandomSearch\n",
    "from syne_tune import Tuner, StoppingCriterion\n",
    "from syne_tune.experiments import load_experiment"
   ]
  },
  {
   "cell_type": "markdown",
   "id": "a770e195",
   "metadata": {},
   "source": [
    "## Objective Function\n",
    "\n",
    "First, we have to define a new objective function such that it now returns the\n",
    "performance back to Syne Tune via the `report` callback."
   ]
  },
  {
   "cell_type": "code",
   "execution_count": 34,
   "id": "f95094cc",
   "metadata": {
    "attributes": {
     "classes": [],
     "id": "",
     "n": "34"
    }
   },
   "outputs": [],
   "source": [
    "def hpo_objective_lenet_synetune(learning_rate, batch_size, max_epochs):\n",
    "    from d2l import torch as d2l    \n",
    "    from syne_tune import Reporter\n",
    "\n",
    "    model = d2l.LeNet(lr=learning_rate, num_classes=10)\n",
    "    trainer = d2l.HPOTrainer(max_epochs=1, num_gpus=1)\n",
    "    data = d2l.FashionMNIST(batch_size=batch_size)\n",
    "    model.apply_init([next(iter(data.get_dataloader(True)))[0]], d2l.init_cnn)\n",
    "    report = Reporter() \n",
    "    for epoch in range(1, max_epochs + 1):\n",
    "        if epoch == 1:\n",
    "            # Initialize the state of Trainer\n",
    "            trainer.fit(model=model, data=data) \n",
    "        else:\n",
    "            trainer.fit_epoch()\n",
    "        validation_error = d2l.numpy(trainer.validation_error().cpu())\n",
    "        report(epoch=epoch, validation_error=float(validation_error))"
   ]
  },
  {
   "cell_type": "markdown",
   "id": "9c785ce6",
   "metadata": {},
   "source": [
    "Note that the `PythonBackend` of Syne Tune requires dependencies to be imported\n",
    "inside the function definition.\n",
    "\n",
    "## Asynchronous Scheduler\n",
    "\n",
    "First, we define the number of workers that evaluate trials concurrently. We\n",
    "also need to specify how long we want to run random search, by defining an\n",
    "upper limit on the total wall-clock time."
   ]
  },
  {
   "cell_type": "code",
   "execution_count": 37,
   "id": "89a64504",
   "metadata": {
    "attributes": {
     "classes": [],
     "id": "",
     "n": "37"
    }
   },
   "outputs": [],
   "source": [
    "n_workers = 2  # Needs to be <= the number of available GPUs\n",
    "\n",
    "max_wallclock_time = 12 * 60  # 12 minutes"
   ]
  },
  {
   "cell_type": "markdown",
   "id": "39ac3304",
   "metadata": {},
   "source": [
    "Next, we state which metric we want to optimize and whether we want to minimize or\n",
    "maximize this metric. Namely, `metric` needs to correspond to the argument name\n",
    "passed to the `report` callback."
   ]
  },
  {
   "cell_type": "code",
   "execution_count": 38,
   "id": "543a9981",
   "metadata": {
    "attributes": {
     "classes": [],
     "id": "",
     "n": "38"
    }
   },
   "outputs": [],
   "source": [
    "mode = \"min\"\n",
    "metric = \"validation_error\""
   ]
  },
  {
   "cell_type": "markdown",
   "id": "d11a82bb",
   "metadata": {},
   "source": [
    "We use the configuration space from our previous example. In Syne Tune, this\n",
    "dictionary can also be used to pass constant attributes to the training script.\n",
    "We make use of this feature in order to pass `max_epochs`. Moreover, we specify\n",
    "the first configuration to be evaluated in `initial_config`."
   ]
  },
  {
   "cell_type": "code",
   "execution_count": 39,
   "id": "96cfe029",
   "metadata": {
    "attributes": {
     "classes": [],
     "id": "",
     "n": "39"
    }
   },
   "outputs": [],
   "source": [
    "config_space = {\n",
    "    \"learning_rate\": loguniform(1e-2, 1),\n",
    "    \"batch_size\": randint(32, 256),\n",
    "    \"max_epochs\": 10,\n",
    "}\n",
    "initial_config = {\n",
    "    \"learning_rate\": 0.1,\n",
    "    \"batch_size\": 128,\n",
    "}"
   ]
  },
  {
   "cell_type": "markdown",
   "id": "cbae873d",
   "metadata": {},
   "source": [
    "Next, we need to specify the back-end for job executions. Here we just consider\n",
    "the distribution on a local machine where parallel jobs are executed as\n",
    "sub-processes. However, for large scale HPO, we could run this also on a cluster\n",
    "or cloud environment, where each trial consumes a full instance."
   ]
  },
  {
   "cell_type": "code",
   "execution_count": 40,
   "id": "528bc626",
   "metadata": {
    "attributes": {
     "classes": [],
     "id": "",
     "n": "40"
    }
   },
   "outputs": [],
   "source": [
    "trial_backend = PythonBackend(\n",
    "    tune_function=hpo_objective_lenet_synetune,\n",
    "    config_space=config_space,\n",
    ")"
   ]
  },
  {
   "cell_type": "markdown",
   "id": "7fecf5eb",
   "metadata": {},
   "source": [
    "We can now create the scheduler for asynchronous random search, which is similar\n",
    "in behaviour to our `BasicScheduler` from :numref:`sec_api_hpo`."
   ]
  },
  {
   "cell_type": "code",
   "execution_count": 41,
   "id": "1e719539",
   "metadata": {
    "attributes": {
     "classes": [],
     "id": "",
     "n": "41"
    }
   },
   "outputs": [],
   "source": [
    "scheduler = RandomSearch(\n",
    "    config_space,\n",
    "    metric=metric,\n",
    "    mode=mode,\n",
    "    points_to_evaluate=[initial_config],\n",
    ")"
   ]
  },
  {
   "cell_type": "markdown",
   "id": "d59a3a39",
   "metadata": {},
   "source": [
    "Syne Tune also features a `Tuner`, where the main experiment loop and\n",
    "bookkeeping is centralized, and interactions between scheduler and back-end are\n",
    "mediated."
   ]
  },
  {
   "cell_type": "code",
   "execution_count": 42,
   "id": "01503fa5",
   "metadata": {
    "attributes": {
     "classes": [],
     "id": "",
     "n": "42"
    }
   },
   "outputs": [],
   "source": [
    "stop_criterion = StoppingCriterion(max_wallclock_time=max_wallclock_time)\n",
    "\n",
    "tuner = Tuner(\n",
    "    trial_backend=trial_backend,\n",
    "    scheduler=scheduler, \n",
    "    stop_criterion=stop_criterion,\n",
    "    n_workers=n_workers,\n",
    "    print_update_interval=int(max_wallclock_time * 0.6),\n",
    ")"
   ]
  },
  {
   "cell_type": "markdown",
   "id": "f701b03c",
   "metadata": {},
   "source": [
    "Let us run our distributed HPO experiment. According to our stopping criterion,\n",
    "it will run for about 12 minutes."
   ]
  },
  {
   "cell_type": "code",
   "execution_count": 43,
   "id": "a4e9e0ea",
   "metadata": {
    "attributes": {
     "classes": [],
     "id": "",
     "n": "43"
    }
   },
   "outputs": [],
   "source": [
    "tuner.run()"
   ]
  },
  {
   "cell_type": "markdown",
   "id": "319e919f",
   "metadata": {},
   "source": [
    "The logs of all evaluated hyperparameter configurations are stored for further\n",
    "analysis. At any time during the tuning job, we can easily get the results\n",
    "obtained so far and plot the incumbent trajectory."
   ]
  },
  {
   "cell_type": "code",
   "execution_count": 46,
   "id": "5748cd37",
   "metadata": {
    "attributes": {
     "classes": [],
     "id": "",
     "n": "46"
    }
   },
   "outputs": [],
   "source": [
    "d2l.set_figsize()\n",
    "tuning_experiment = load_experiment(tuner.name)\n",
    "tuning_experiment.plot()"
   ]
  },
  {
   "cell_type": "markdown",
   "id": "c1d81593",
   "metadata": {},
   "source": [
    "## Visualize the Asynchronous Optimization Process\n",
    "\n",
    "Below we visualize how the learning curves of every trial (each color in the plot represents a trial) evolve during the\n",
    "asynchronous optimization process. At any point in time, there are as many trials\n",
    "running concurrently as we have workers. Once a trial finishes, we immediately\n",
    "start the next trial, without waiting for the other trials to finish. Idle time\n",
    "of workers is reduced to a minimum with asynchronous scheduling."
   ]
  },
  {
   "cell_type": "code",
   "execution_count": 45,
   "id": "dcab1fcd",
   "metadata": {
    "attributes": {
     "classes": [],
     "id": "",
     "n": "45"
    }
   },
   "outputs": [],
   "source": [
    "d2l.set_figsize([6, 2.5])\n",
    "results = tuning_experiment.results\n",
    "\n",
    "for trial_id in results.trial_id.unique():\n",
    "    df = results[results[\"trial_id\"] == trial_id]\n",
    "    d2l.plt.plot(\n",
    "        df[\"st_tuner_time\"],\n",
    "        df[\"validation_error\"],\n",
    "        marker=\"o\"\n",
    "    )\n",
    "    \n",
    "d2l.plt.xlabel(\"wall-clock time\")\n",
    "d2l.plt.ylabel(\"objective function\")"
   ]
  },
  {
   "cell_type": "markdown",
   "id": "ffba4b27",
   "metadata": {},
   "source": [
    "## Summary\n",
    "\n",
    "We can reduce the waiting time for random search substantially by distribution\n",
    "trials across parallel resources. In general, we distinguish between synchronous\n",
    "scheduling and asynchronous scheduling. Synchronous scheduling means that we\n",
    "sample a new batch of hyperparameter configurations once the previous batch\n",
    "finished. If we have a stragglers - trials that takes more time to finish than\n",
    "other trials - our workers need to wait at synchronization points. Asynchronous\n",
    "scheduling evaluates a new hyperparameter configurations as soon as resources\n",
    "become available, and, hence, ensures that all workers are busy at any point in\n",
    "time. While random search is easy to distribute asynchronously and does not\n",
    "require any change of the actual algorithm, other methods require some additional\n",
    "modifications.\n",
    "\n",
    "## Exercises\n",
    "\n",
    "1. Consider the `DropoutMLP` model implemented in :numref:`sec_dropout`, and used in Exercise 1 of :numref:`sec_api_hpo`.\n",
    "    1. Implement an objective function `hpo_objective_dropoutmlp_synetune` to be used with Syne Tune. Make sure that your function reports the validation error after every epoch.\n",
    "    2. Using the setup of Exercise 1 in :numref:`sec_api_hpo`, compare random search to Bayesian optimization. If you use SageMaker, feel free to use Syne Tune's benchmarking facilities in order to run experiments in parallel. Hint: Bayesian optimization is provided as `syne_tune.optimizer.baselines.BayesianOptimization`.\n",
    "    3. For this exercise, you need to run on an instance with at least 4 CPU cores. For one of the methods used above (random search, Bayesian optimization), run experiments with `n_workers=1`, `n_workers=2`, `n_workers=4`, and compare results (incumbent trajectories). At least for random search, you should observe linear scaling with respect to the number of workers. Hint: For robust results, you may have to average over several repetitions each.\n",
    "2. *Advanced*. The goal of this exercise is to implement a new scheduler in Syne Tune.\n",
    "    1. Create a virtual environment containing both the [d2lbook](https://github.com/d2l-ai/d2l-en/blob/master/INFO.md#installation-for-developers) and [syne-tune](https://syne-tune.readthedocs.io/en/latest/getting_started.html) sources.\n",
    "    2. Implement the `LocalSearcher` from Exercise 2 in :numref:`sec_api_hpo` as a new searcher in Syne Tune. Hint: Read [this tutorial](https://syne-tune.readthedocs.io/en/latest/tutorials/developer/README.html). Alternatively, you may follow this [example](https://syne-tune.readthedocs.io/en/latest/examples.html#launch-hpo-experiment-with-home-made-scheduler).\n",
    "    3. Compare your new `LocalSearcher` with `RandomSearch` on the `DropoutMLP` benchmark.\n",
    "\n",
    "\n",
    ":begin_tab:`pytorch`\n",
    "[Discussions](https://discuss.d2l.ai/t/12093)\n",
    ":end_tab:"
   ]
  }
 ],
 "metadata": {},
 "nbformat": 4,
 "nbformat_minor": 5
}
