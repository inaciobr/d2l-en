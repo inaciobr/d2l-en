{
 "cells": [
  {
   "cell_type": "markdown",
   "id": "3b31c8b7",
   "metadata": {},
   "source": [
    "# Appendix: Tools for Deep Learning\n",
    ":label:`chap_appendix_tools`\n",
    "\n",
    "\n",
    "To get the most out of *Dive into Deep Learning*,\n",
    "we will talk you through different tools\n",
    "in this appendix,\n",
    "such as\n",
    "for running and contributing to this\n",
    "interactive open-source book."
   ]
  },
  {
   "cell_type": "code",
   "execution_count": null,
   "id": "8ba5ed7c",
   "metadata": {
    "attributes": {
     "classes": [
      "toc"
     ],
     "id": ""
    }
   },
   "outputs": [],
   "source": [
    ":maxdepth: 2\n",
    "\n",
    "jupyter\n",
    "sagemaker\n",
    "aws\n",
    "colab\n",
    "selecting-servers-gpus\n",
    "contributing\n",
    "d2l"
   ]
  }
 ],
 "metadata": {},
 "nbformat": 4,
 "nbformat_minor": 5
}
