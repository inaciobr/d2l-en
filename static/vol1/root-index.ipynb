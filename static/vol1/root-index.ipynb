{
 "cells": [
  {
   "cell_type": "markdown",
   "id": "5a5aa274",
   "metadata": {},
   "source": [
    "Dive into Deep Learning\n",
    "========================"
   ]
  },
  {
   "cell_type": "code",
   "execution_count": null,
   "id": "738b4e38",
   "metadata": {
    "attributes": {
     "classes": [
      "eval_rst"
     ],
     "id": ""
    }
   },
   "outputs": [],
   "source": [
    ".. raw:: html\n",
    "   :file: frontpage.html"
   ]
  },
  {
   "cell_type": "code",
   "execution_count": null,
   "id": "5756df6a",
   "metadata": {
    "attributes": {
     "classes": [
      "toc"
     ],
     "id": ""
    }
   },
   "outputs": [],
   "source": [
    ":maxdepth: 1\n",
    "\n",
    "chapter_preface/index\n",
    "chapter_installation/index\n",
    "chapter_notation/index"
   ]
  },
  {
   "cell_type": "code",
   "execution_count": null,
   "id": "d4735625",
   "metadata": {
    "attributes": {
     "classes": [
      "toc"
     ],
     "id": ""
    }
   },
   "outputs": [],
   "source": [
    ":maxdepth: 2\n",
    ":numbered:\n",
    "\n",
    "chapter_introduction/index\n",
    "chapter_preliminaries/index\n",
    "chapter_linear-regression/index\n",
    "chapter_linear-classification/index\n",
    "chapter_multilayer-perceptrons/index\n",
    "chapter_builders-guide/index\n",
    "chapter_convolutional-neural-networks/index\n",
    "chapter_convolutional-modern/index\n",
    "chapter_recurrent-neural-networks/index\n",
    "chapter_recurrent-modern/index\n",
    "chapter_attention-mechanisms-and-transformers/index\n",
    "chapter_appendix-tools-for-deep-learning/index\n"
   ]
  },
  {
   "cell_type": "code",
   "execution_count": null,
   "id": "b13959cd",
   "metadata": {
    "attributes": {
     "classes": [
      "toc"
     ],
     "id": ""
    }
   },
   "outputs": [],
   "source": [
    ":maxdepth: 1\n",
    "\n",
    "chapter_references/zreferences"
   ]
  }
 ],
 "metadata": {},
 "nbformat": 4,
 "nbformat_minor": 5
}
