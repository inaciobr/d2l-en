{
 "cells": [
  {
   "cell_type": "code",
   "execution_count": null,
   "id": "bdc72481",
   "metadata": {},
   "outputs": [],
   "source": [
    "%load_ext d2lbook.tab\n",
    "tab.interact_select(['mxnet', 'pytorch', 'tensorflow', 'jax'])"
   ]
  },
  {
   "cell_type": "markdown",
   "id": "ab9280b9",
   "metadata": {},
   "source": [
    "# Densely Connected Networks (DenseNet)\n",
    ":label:`sec_densenet`\n",
    "\n",
    "ResNet significantly changed the view of how to parametrize the functions in deep networks. *DenseNet* (dense convolutional network) is to some extent the logical extension of this :cite:`Huang.Liu.Van-Der-Maaten.ea.2017`.\n",
    "DenseNet is characterized by both the connectivity pattern where\n",
    "each layer connects to all the preceding layers\n",
    "and the concatenation operation (rather than the addition operator in ResNet) to preserve and reuse features\n",
    "from earlier layers.\n",
    "To understand how to arrive at it, let's take a small detour to mathematics."
   ]
  },
  {
   "cell_type": "code",
   "execution_count": null,
   "id": "2b8a67f9",
   "metadata": {},
   "outputs": [],
   "source": [
    "%%tab mxnet\n",
    "from d2l import mxnet as d2l\n",
    "from mxnet import init, np, npx\n",
    "from mxnet.gluon import nn\n",
    "npx.set_np()"
   ]
  },
  {
   "cell_type": "code",
   "execution_count": null,
   "id": "67ea4898",
   "metadata": {},
   "outputs": [],
   "source": [
    "%%tab pytorch\n",
    "from d2l import torch as d2l\n",
    "import torch\n",
    "from torch import nn"
   ]
  },
  {
   "cell_type": "code",
   "execution_count": null,
   "id": "75eb8bc8",
   "metadata": {},
   "outputs": [],
   "source": [
    "%%tab tensorflow\n",
    "from d2l import tensorflow as d2l\n",
    "import tensorflow as tf"
   ]
  },
  {
   "cell_type": "code",
   "execution_count": null,
   "id": "db8afd48",
   "metadata": {},
   "outputs": [],
   "source": [
    "%%tab jax\n",
    "from d2l import jax as d2l\n",
    "from flax import linen as nn\n",
    "from jax import numpy as jnp\n",
    "import jax"
   ]
  },
  {
   "cell_type": "markdown",
   "id": "e8a1b440",
   "metadata": {},
   "source": [
    "## From ResNet to DenseNet\n",
    "\n",
    "Recall the Taylor expansion for functions. At the point $x = 0$ it can be written as\n",
    "\n",
    "$$f(x) = f(0) + x \\cdot \\left[f'(0) + x \\cdot \\left[\\frac{f''(0)}{2!}  + x \\cdot \\left[\\frac{f'''(0)}{3!}  + \\cdots \\right]\\right]\\right].$$\n",
    "\n",
    "\n",
    "The key point is that it decomposes a function into terms of increasingly higher order. In a similar vein, ResNet decomposes functions into\n",
    "\n",
    "$$f(\\mathbf{x}) = \\mathbf{x} + g(\\mathbf{x}).$$\n",
    "\n",
    "That is, ResNet decomposes $f$ into a simple linear term and a more complex\n",
    "nonlinear one.\n",
    "What if we wanted to capture (not necessarily add) information beyond two terms?\n",
    "One such solution is DenseNet :cite:`Huang.Liu.Van-Der-Maaten.ea.2017`.\n",
    "\n",
    "![The main difference between ResNet (left) and DenseNet (right) in cross-layer connections: use of addition and use of concatenation. ](../img/densenet-block.svg)\n",
    ":label:`fig_densenet_block`\n",
    "\n",
    "As shown in :numref:`fig_densenet_block`, the key difference between ResNet and DenseNet is that in the latter case outputs are *concatenated* (denoted by $[,]$) rather than added.\n",
    "As a result, we perform a mapping from $\\mathbf{x}$ to its values after applying an increasingly complex sequence of functions:\n",
    "\n",
    "$$\\mathbf{x} \\to \\left[\n",
    "\\mathbf{x},\n",
    "f_1(\\mathbf{x}),\n",
    "f_2\\left(\\left[\\mathbf{x}, f_1\\left(\\mathbf{x}\\right)\\right]\\right), f_3\\left(\\left[\\mathbf{x}, f_1\\left(\\mathbf{x}\\right), f_2\\left(\\left[\\mathbf{x}, f_1\\left(\\mathbf{x}\\right)\\right]\\right)\\right]\\right), \\ldots\\right].$$\n",
    "\n",
    "In the end, all these functions are combined in MLP to reduce the number of features again. In terms of implementation this is quite simple:\n",
    "rather than adding terms, we concatenate them. The name DenseNet arises from the fact that the dependency graph between variables becomes quite dense. The final layer of such a chain is densely connected to all previous layers. The dense connections are shown in :numref:`fig_densenet`.\n",
    "\n",
    "![Dense connections in DenseNet. Note how the dimensionality increases with depth.](../img/densenet.svg)\n",
    ":label:`fig_densenet`\n",
    "\n",
    "The main components that comprise a DenseNet are *dense blocks* and *transition layers*. The former define how the inputs and outputs are concatenated, while the latter control the number of channels so that it is not too large, \n",
    "since the expansion $\\mathbf{x} \\to \\left[\\mathbf{x}, f_1(\\mathbf{x}),\n",
    "f_2\\left(\\left[\\mathbf{x}, f_1\\left(\\mathbf{x}\\right)\\right]\\right), \\ldots \\right]$ can be quite high-dimensional.\n",
    "\n",
    "\n",
    "## [**Dense Blocks**]\n",
    "\n",
    "DenseNet uses the modified \"batch normalization, activation, and convolution\"\n",
    "structure of ResNet (see the exercise in :numref:`sec_resnet`).\n",
    "First, we implement this convolution block structure."
   ]
  },
  {
   "cell_type": "code",
   "execution_count": null,
   "id": "f3407641",
   "metadata": {},
   "outputs": [],
   "source": [
    "%%tab mxnet\n",
    "def conv_block(num_channels):\n",
    "    blk = nn.Sequential()\n",
    "    blk.add(nn.BatchNorm(),\n",
    "            nn.Activation('relu'),\n",
    "            nn.Conv2D(num_channels, kernel_size=3, padding=1))\n",
    "    return blk"
   ]
  },
  {
   "cell_type": "code",
   "execution_count": null,
   "id": "a7bd5335",
   "metadata": {},
   "outputs": [],
   "source": [
    "%%tab pytorch\n",
    "def conv_block(num_channels):\n",
    "    return nn.Sequential(\n",
    "        nn.LazyBatchNorm2d(), nn.ReLU(),\n",
    "        nn.LazyConv2d(num_channels, kernel_size=3, padding=1))"
   ]
  },
  {
   "cell_type": "code",
   "execution_count": null,
   "id": "efe4dbea",
   "metadata": {},
   "outputs": [],
   "source": [
    "%%tab tensorflow\n",
    "class ConvBlock(tf.keras.layers.Layer):\n",
    "    def __init__(self, num_channels):\n",
    "        super(ConvBlock, self).__init__()\n",
    "        self.bn = tf.keras.layers.BatchNormalization()\n",
    "        self.relu = tf.keras.layers.ReLU()\n",
    "        self.conv = tf.keras.layers.Conv2D(\n",
    "            filters=num_channels, kernel_size=(3, 3), padding='same')\n",
    "\n",
    "        self.listLayers = [self.bn, self.relu, self.conv]\n",
    "\n",
    "    def call(self, x):\n",
    "        y = x\n",
    "        for layer in self.listLayers.layers:\n",
    "            y = layer(y)\n",
    "        y = tf.keras.layers.concatenate([x,y], axis=-1)\n",
    "        return y"
   ]
  },
  {
   "cell_type": "code",
   "execution_count": null,
   "id": "288de3e4",
   "metadata": {},
   "outputs": [],
   "source": [
    "%%tab jax\n",
    "class ConvBlock(nn.Module):\n",
    "    num_channels: int\n",
    "    training: bool = True\n",
    "\n",
    "    @nn.compact\n",
    "    def __call__(self, X):\n",
    "        Y = nn.relu(nn.BatchNorm(not self.training)(X))\n",
    "        Y = nn.Conv(self.num_channels, kernel_size=(3, 3), padding=(1, 1))(Y)\n",
    "        Y = jnp.concatenate((X, Y), axis=-1)\n",
    "        return Y"
   ]
  },
  {
   "cell_type": "markdown",
   "id": "27078cd1",
   "metadata": {},
   "source": [
    "A *dense block* consists of multiple convolution blocks, each using the same number of output channels. In the forward propagation, however, we concatenate the input and output of each convolution block on the channel dimension. Lazy evaluation allows us to adjust the dimensionality automatically."
   ]
  },
  {
   "cell_type": "code",
   "execution_count": null,
   "id": "c1ad2d31",
   "metadata": {},
   "outputs": [],
   "source": [
    "%%tab mxnet\n",
    "class DenseBlock(nn.Block):\n",
    "    def __init__(self, num_convs, num_channels):\n",
    "        super().__init__()\n",
    "        self.net = nn.Sequential()\n",
    "        for _ in range(num_convs):\n",
    "            self.net.add(conv_block(num_channels))\n",
    "\n",
    "    def forward(self, X):\n",
    "        for blk in self.net:\n",
    "            Y = blk(X)\n",
    "            # Concatenate input and output of each block along the channels\n",
    "            X = np.concatenate((X, Y), axis=1)\n",
    "        return X"
   ]
  },
  {
   "cell_type": "code",
   "execution_count": null,
   "id": "5ae333a7",
   "metadata": {},
   "outputs": [],
   "source": [
    "%%tab pytorch\n",
    "class DenseBlock(nn.Module):\n",
    "    def __init__(self, num_convs, num_channels):\n",
    "        super(DenseBlock, self).__init__()\n",
    "        layer = []\n",
    "        for i in range(num_convs):\n",
    "            layer.append(conv_block(num_channels))\n",
    "        self.net = nn.Sequential(*layer)\n",
    "\n",
    "    def forward(self, X):\n",
    "        for blk in self.net:\n",
    "            Y = blk(X)\n",
    "            # Concatenate input and output of each block along the channels\n",
    "            X = torch.cat((X, Y), dim=1)\n",
    "        return X"
   ]
  },
  {
   "cell_type": "code",
   "execution_count": null,
   "id": "a4780106",
   "metadata": {},
   "outputs": [],
   "source": [
    "%%tab tensorflow\n",
    "class DenseBlock(tf.keras.layers.Layer):\n",
    "    def __init__(self, num_convs, num_channels):\n",
    "        super(DenseBlock, self).__init__()\n",
    "        self.listLayers = []\n",
    "        for _ in range(num_convs):\n",
    "            self.listLayers.append(ConvBlock(num_channels))\n",
    "\n",
    "    def call(self, x):\n",
    "        for layer in self.listLayers.layers:\n",
    "            x = layer(x)\n",
    "        return x"
   ]
  },
  {
   "cell_type": "code",
   "execution_count": null,
   "id": "1e7d0d35",
   "metadata": {},
   "outputs": [],
   "source": [
    "%%tab jax\n",
    "class DenseBlock(nn.Module):\n",
    "    num_convs: int\n",
    "    num_channels: int\n",
    "    training: bool = True\n",
    "\n",
    "    def setup(self):\n",
    "        layer = []\n",
    "        for i in range(self.num_convs):\n",
    "            layer.append(ConvBlock(self.num_channels, self.training))\n",
    "        self.net = nn.Sequential(layer)\n",
    "\n",
    "    def __call__(self, X):\n",
    "        return self.net(X)"
   ]
  },
  {
   "cell_type": "markdown",
   "id": "d37ef21b",
   "metadata": {},
   "source": [
    "In the following example,\n",
    "we [**define a `DenseBlock` instance**] with two convolution blocks of 10 output channels.\n",
    "When using an input with three channels, we will get an output with  $3 + 10 + 10=23$ channels. The number of convolution block channels controls the growth in the number of output channels relative to the number of input channels. This is also referred to as the *growth rate*."
   ]
  },
  {
   "cell_type": "code",
   "execution_count": null,
   "id": "6549a9aa",
   "metadata": {},
   "outputs": [],
   "source": [
    "%%tab pytorch, mxnet, tensorflow\n",
    "blk = DenseBlock(2, 10)\n",
    "if tab.selected('mxnet'):\n",
    "    X = np.random.uniform(size=(4, 3, 8, 8))\n",
    "    blk.initialize()\n",
    "if tab.selected('pytorch'):\n",
    "    X = torch.randn(4, 3, 8, 8)\n",
    "if tab.selected('tensorflow'):\n",
    "    X = tf.random.uniform((4, 8, 8, 3))\n",
    "Y = blk(X)\n",
    "Y.shape"
   ]
  },
  {
   "cell_type": "code",
   "execution_count": null,
   "id": "58375ec2",
   "metadata": {},
   "outputs": [],
   "source": [
    "%%tab jax\n",
    "blk = DenseBlock(2, 10)\n",
    "X = jnp.zeros((4, 8, 8, 3))\n",
    "Y = blk.init_with_output(d2l.get_key(), X)[0]\n",
    "Y.shape"
   ]
  },
  {
   "cell_type": "markdown",
   "id": "6c54925a",
   "metadata": {},
   "source": [
    "## [**Transition Layers**]\n",
    "\n",
    "Since each dense block will increase the number of channels, adding too many of them will lead to an excessively complex model. A *transition layer* is used to control the complexity of the model. It reduces the number of channels by using a $1\\times 1$ convolution. Moreover, it halves the height and width via average pooling with a stride of 2."
   ]
  },
  {
   "cell_type": "code",
   "execution_count": null,
   "id": "dd2a3173",
   "metadata": {},
   "outputs": [],
   "source": [
    "%%tab mxnet\n",
    "def transition_block(num_channels):\n",
    "    blk = nn.Sequential()\n",
    "    blk.add(nn.BatchNorm(), nn.Activation('relu'),\n",
    "            nn.Conv2D(num_channels, kernel_size=1),\n",
    "            nn.AvgPool2D(pool_size=2, strides=2))\n",
    "    return blk"
   ]
  },
  {
   "cell_type": "code",
   "execution_count": null,
   "id": "e16f460a",
   "metadata": {},
   "outputs": [],
   "source": [
    "%%tab pytorch\n",
    "def transition_block(num_channels):\n",
    "    return nn.Sequential(\n",
    "        nn.LazyBatchNorm2d(), nn.ReLU(),\n",
    "        nn.LazyConv2d(num_channels, kernel_size=1),\n",
    "        nn.AvgPool2d(kernel_size=2, stride=2))"
   ]
  },
  {
   "cell_type": "code",
   "execution_count": null,
   "id": "d59d8035",
   "metadata": {},
   "outputs": [],
   "source": [
    "%%tab tensorflow\n",
    "class TransitionBlock(tf.keras.layers.Layer):\n",
    "    def __init__(self, num_channels, **kwargs):\n",
    "        super(TransitionBlock, self).__init__(**kwargs)\n",
    "        self.batch_norm = tf.keras.layers.BatchNormalization()\n",
    "        self.relu = tf.keras.layers.ReLU()\n",
    "        self.conv = tf.keras.layers.Conv2D(num_channels, kernel_size=1)\n",
    "        self.avg_pool = tf.keras.layers.AvgPool2D(pool_size=2, strides=2)\n",
    "\n",
    "    def call(self, x):\n",
    "        x = self.batch_norm(x)\n",
    "        x = self.relu(x)\n",
    "        x = self.conv(x)\n",
    "        return self.avg_pool(x)"
   ]
  },
  {
   "cell_type": "code",
   "execution_count": null,
   "id": "14ab8bac",
   "metadata": {},
   "outputs": [],
   "source": [
    "%%tab jax\n",
    "class TransitionBlock(nn.Module):\n",
    "    num_channels: int\n",
    "    training: bool = True\n",
    "\n",
    "    @nn.compact\n",
    "    def __call__(self, X):\n",
    "        X = nn.BatchNorm(not self.training)(X)\n",
    "        X = nn.relu(X)\n",
    "        X = nn.Conv(self.num_channels, kernel_size=(1, 1))(X)\n",
    "        X = nn.avg_pool(X, window_shape=(2, 2), strides=(2, 2))\n",
    "        return X"
   ]
  },
  {
   "cell_type": "markdown",
   "id": "27b57d2c",
   "metadata": {},
   "source": [
    "[**Apply a transition layer**] with 10 channels to the output of the dense block in the previous example.  This reduces the number of output channels to 10, and halves the height and width."
   ]
  },
  {
   "cell_type": "code",
   "execution_count": null,
   "id": "f7294a3a",
   "metadata": {},
   "outputs": [],
   "source": [
    "%%tab mxnet\n",
    "blk = transition_block(10)\n",
    "blk.initialize()\n",
    "blk(Y).shape"
   ]
  },
  {
   "cell_type": "code",
   "execution_count": null,
   "id": "84f2b82e",
   "metadata": {},
   "outputs": [],
   "source": [
    "%%tab pytorch\n",
    "blk = transition_block(10)\n",
    "blk(Y).shape"
   ]
  },
  {
   "cell_type": "code",
   "execution_count": null,
   "id": "9efe6837",
   "metadata": {},
   "outputs": [],
   "source": [
    "%%tab tensorflow\n",
    "blk = TransitionBlock(10)\n",
    "blk(Y).shape"
   ]
  },
  {
   "cell_type": "code",
   "execution_count": null,
   "id": "febbb678",
   "metadata": {},
   "outputs": [],
   "source": [
    "%%tab jax\n",
    "blk = TransitionBlock(10)\n",
    "blk.init_with_output(d2l.get_key(), Y)[0].shape"
   ]
  },
  {
   "cell_type": "markdown",
   "id": "a8d62116",
   "metadata": {},
   "source": [
    "## [**DenseNet Model**]\n",
    "\n",
    "Next, we will construct a DenseNet model. DenseNet first uses the same single convolutional layer and max-pooling layer as in ResNet."
   ]
  },
  {
   "cell_type": "code",
   "execution_count": null,
   "id": "18143d50",
   "metadata": {},
   "outputs": [],
   "source": [
    "%%tab pytorch, mxnet, tensorflow\n",
    "class DenseNet(d2l.Classifier):\n",
    "    def b1(self):\n",
    "        if tab.selected('mxnet'):\n",
    "            net = nn.Sequential()\n",
    "            net.add(nn.Conv2D(64, kernel_size=7, strides=2, padding=3),\n",
    "                nn.BatchNorm(), nn.Activation('relu'),\n",
    "                nn.MaxPool2D(pool_size=3, strides=2, padding=1))\n",
    "            return net\n",
    "        if tab.selected('pytorch'):\n",
    "            return nn.Sequential(\n",
    "                nn.LazyConv2d(64, kernel_size=7, stride=2, padding=3),\n",
    "                nn.LazyBatchNorm2d(), nn.ReLU(),\n",
    "                nn.MaxPool2d(kernel_size=3, stride=2, padding=1))\n",
    "        if tab.selected('tensorflow'):\n",
    "            return tf.keras.models.Sequential([\n",
    "                tf.keras.layers.Conv2D(\n",
    "                    64, kernel_size=7, strides=2, padding='same'),\n",
    "                tf.keras.layers.BatchNormalization(),\n",
    "                tf.keras.layers.ReLU(),\n",
    "                tf.keras.layers.MaxPool2D(\n",
    "                    pool_size=3, strides=2, padding='same')])"
   ]
  },
  {
   "cell_type": "code",
   "execution_count": null,
   "id": "5560aa16",
   "metadata": {},
   "outputs": [],
   "source": [
    "%%tab jax\n",
    "class DenseNet(d2l.Classifier):\n",
    "    num_channels: int = 64\n",
    "    growth_rate: int = 32\n",
    "    arch: tuple = (4, 4, 4, 4)\n",
    "    lr: float = 0.1\n",
    "    num_classes: int = 10\n",
    "    training: bool = True\n",
    "\n",
    "    def setup(self):\n",
    "        self.net = self.create_net()\n",
    "\n",
    "    def b1(self):\n",
    "        return nn.Sequential([\n",
    "            nn.Conv(64, kernel_size=(7, 7), strides=(2, 2), padding='same'),\n",
    "            nn.BatchNorm(not self.training),\n",
    "            nn.relu,\n",
    "            lambda x: nn.max_pool(x, window_shape=(3, 3),\n",
    "                                  strides=(2, 2), padding='same')\n",
    "        ])"
   ]
  },
  {
   "cell_type": "markdown",
   "id": "11e636e6",
   "metadata": {},
   "source": [
    "Then, similar to the four modules made up of residual blocks that ResNet uses,\n",
    "DenseNet uses four dense blocks.\n",
    "As with ResNet, we can set the number of convolutional layers used in each dense block. Here, we set it to 4, consistent with the ResNet-18 model in :numref:`sec_resnet`. Furthermore, we set the number of channels (i.e., growth rate) for the convolutional layers in the dense block to 32, so 128 channels will be added to each dense block.\n",
    "\n",
    "In ResNet, the height and width are reduced between each module by a residual block with a stride of 2. Here, we use the transition layer to halve the height and width and halve the number of channels. Similar to ResNet, a global pooling layer and a fully connected layer are connected at the end to produce the output."
   ]
  },
  {
   "cell_type": "code",
   "execution_count": null,
   "id": "b13ffcdc",
   "metadata": {},
   "outputs": [],
   "source": [
    "%%tab pytorch, mxnet, tensorflow\n",
    "@d2l.add_to_class(DenseNet)\n",
    "def __init__(self, num_channels=64, growth_rate=32, arch=(4, 4, 4, 4),\n",
    "             lr=0.1, num_classes=10):\n",
    "    super(DenseNet, self).__init__()\n",
    "    self.save_hyperparameters()\n",
    "    if tab.selected('mxnet'):\n",
    "        self.net = nn.Sequential()\n",
    "        self.net.add(self.b1())\n",
    "        for i, num_convs in enumerate(arch):\n",
    "            self.net.add(DenseBlock(num_convs, growth_rate))\n",
    "            # The number of output channels in the previous dense block\n",
    "            num_channels += num_convs * growth_rate\n",
    "            # A transition layer that halves the number of channels is added\n",
    "            # between the dense blocks\n",
    "            if i != len(arch) - 1:\n",
    "                num_channels //= 2\n",
    "                self.net.add(transition_block(num_channels))\n",
    "        self.net.add(nn.BatchNorm(), nn.Activation('relu'),\n",
    "                     nn.GlobalAvgPool2D(), nn.Dense(num_classes))\n",
    "        self.net.initialize(init.Xavier())\n",
    "    if tab.selected('pytorch'):\n",
    "        self.net = nn.Sequential(self.b1())\n",
    "        for i, num_convs in enumerate(arch):\n",
    "            self.net.add_module(f'dense_blk{i+1}', DenseBlock(num_convs,\n",
    "                                                              growth_rate))\n",
    "            # The number of output channels in the previous dense block\n",
    "            num_channels += num_convs * growth_rate\n",
    "            # A transition layer that halves the number of channels is added\n",
    "            # between the dense blocks\n",
    "            if i != len(arch) - 1:\n",
    "                num_channels //= 2\n",
    "                self.net.add_module(f'tran_blk{i+1}', transition_block(\n",
    "                    num_channels))\n",
    "        self.net.add_module('last', nn.Sequential(\n",
    "            nn.LazyBatchNorm2d(), nn.ReLU(),\n",
    "            nn.AdaptiveAvgPool2d((1, 1)), nn.Flatten(),\n",
    "            nn.LazyLinear(num_classes)))\n",
    "        self.net.apply(d2l.init_cnn)\n",
    "    if tab.selected('tensorflow'):\n",
    "        self.net = tf.keras.models.Sequential(self.b1())\n",
    "        for i, num_convs in enumerate(arch):\n",
    "            self.net.add(DenseBlock(num_convs, growth_rate))\n",
    "            # The number of output channels in the previous dense block\n",
    "            num_channels += num_convs * growth_rate\n",
    "            # A transition layer that halves the number of channels is added\n",
    "            # between the dense blocks\n",
    "            if i != len(arch) - 1:\n",
    "                num_channels //= 2\n",
    "                self.net.add(TransitionBlock(num_channels))\n",
    "        self.net.add(tf.keras.models.Sequential([\n",
    "            tf.keras.layers.BatchNormalization(),\n",
    "            tf.keras.layers.ReLU(),\n",
    "            tf.keras.layers.GlobalAvgPool2D(),\n",
    "            tf.keras.layers.Flatten(),\n",
    "            tf.keras.layers.Dense(num_classes)]))"
   ]
  },
  {
   "cell_type": "code",
   "execution_count": null,
   "id": "50ef947f",
   "metadata": {},
   "outputs": [],
   "source": [
    "%%tab jax\n",
    "@d2l.add_to_class(DenseNet)\n",
    "def create_net(self):\n",
    "    net = self.b1()\n",
    "    for i, num_convs in enumerate(self.arch):\n",
    "        net.layers.extend([DenseBlock(num_convs, self.growth_rate,\n",
    "                                      training=self.training)])\n",
    "        # The number of output channels in the previous dense block\n",
    "        num_channels = self.num_channels + (num_convs * self.growth_rate)\n",
    "        # A transition layer that halves the number of channels is added\n",
    "        # between the dense blocks\n",
    "        if i != len(self.arch) - 1:\n",
    "            num_channels //= 2\n",
    "            net.layers.extend([TransitionBlock(num_channels,\n",
    "                                               training=self.training)])\n",
    "    net.layers.extend([\n",
    "        nn.BatchNorm(not self.training),\n",
    "        nn.relu,\n",
    "        lambda x: nn.avg_pool(x, window_shape=x.shape[1:3],\n",
    "                              strides=x.shape[1:3], padding='valid'),\n",
    "        lambda x: x.reshape((x.shape[0], -1)),\n",
    "        nn.Dense(self.num_classes)\n",
    "    ])\n",
    "    return net"
   ]
  },
  {
   "cell_type": "markdown",
   "id": "2246d7e2",
   "metadata": {},
   "source": [
    "## [**Training**]\n",
    "\n",
    "Since we are using a deeper network here, in this section, we will reduce the input height and width from 224 to 96 to simplify the computation."
   ]
  },
  {
   "cell_type": "code",
   "execution_count": null,
   "id": "6b4f8fed",
   "metadata": {},
   "outputs": [],
   "source": [
    "%%tab mxnet, pytorch, jax\n",
    "model = DenseNet(lr=0.01)\n",
    "trainer = d2l.Trainer(max_epochs=10, num_gpus=1)\n",
    "data = d2l.FashionMNIST(batch_size=128, resize=(96, 96))\n",
    "trainer.fit(model, data)"
   ]
  },
  {
   "cell_type": "code",
   "execution_count": null,
   "id": "74eb5fe7",
   "metadata": {},
   "outputs": [],
   "source": [
    "%%tab tensorflow\n",
    "trainer = d2l.Trainer(max_epochs=10)\n",
    "data = d2l.FashionMNIST(batch_size=128, resize=(96, 96))\n",
    "with d2l.try_gpu():\n",
    "    model = DenseNet(lr=0.01)\n",
    "    trainer.fit(model, data)"
   ]
  },
  {
   "cell_type": "markdown",
   "id": "dd2fb87d",
   "metadata": {},
   "source": [
    "## Summary and Discussion\n",
    "\n",
    "The main components that comprise DenseNet are dense blocks and transition layers. For the latter, we need to keep the dimensionality under control when composing the network by adding transition layers that shrink the number of channels again.\n",
    "In terms of cross-layer connections, in contrast to ResNet, where inputs and outputs are added together, DenseNet concatenates inputs and outputs on the channel dimension.\n",
    "Although these concatenation operations\n",
    "reuse features to achieve computational efficiency,\n",
    "unfortunately they lead to heavy GPU memory consumption.\n",
    "As a result,\n",
    "applying DenseNet may require more memory-efficient implementations that may increase training time :cite:`pleiss2017memory`.\n",
    "\n",
    "\n",
    "## Exercises\n",
    "\n",
    "1. Why do we use average pooling rather than max-pooling in the transition layer?\n",
    "1. One of the advantages mentioned in the DenseNet paper is that its model parameters are smaller than those of ResNet. Why is this the case?\n",
    "1. One problem for which DenseNet has been criticized is its high memory consumption.\n",
    "    1. Is this really the case? Try to change the input shape to $224\\times 224$ to compare the actual GPU memory consumption empirically.\n",
    "    1. Can you think of an alternative means of reducing the memory consumption? How would you need to change the framework?\n",
    "1. Implement the various DenseNet versions presented in Table 1 of the DenseNet paper :cite:`Huang.Liu.Van-Der-Maaten.ea.2017`.\n",
    "1. Design an MLP-based model by applying the DenseNet idea. Apply it to the housing price prediction task in :numref:`sec_kaggle_house`.\n",
    "\n",
    ":begin_tab:`mxnet`\n",
    "[Discussions](https://discuss.d2l.ai/t/87)\n",
    ":end_tab:\n",
    "\n",
    ":begin_tab:`pytorch`\n",
    "[Discussions](https://discuss.d2l.ai/t/88)\n",
    ":end_tab:\n",
    "\n",
    ":begin_tab:`tensorflow`\n",
    "[Discussions](https://discuss.d2l.ai/t/331)\n",
    ":end_tab:\n",
    "\n",
    ":begin_tab:`jax`\n",
    "[Discussions](https://discuss.d2l.ai/t/18008)\n",
    ":end_tab:"
   ]
  }
 ],
 "metadata": {},
 "nbformat": 4,
 "nbformat_minor": 5
}
