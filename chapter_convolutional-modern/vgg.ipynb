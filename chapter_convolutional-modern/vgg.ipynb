{
 "cells": [
  {
   "cell_type": "code",
   "execution_count": 1,
   "id": "22d829f1",
   "metadata": {
    "attributes": {
     "classes": [],
     "id": "",
     "n": "1"
    }
   },
   "outputs": [],
   "source": [
    "%load_ext d2lbook.tab\n",
    "tab.interact_select(['mxnet', 'pytorch', 'tensorflow', 'jax'])"
   ]
  },
  {
   "cell_type": "markdown",
   "id": "6b1951de",
   "metadata": {},
   "source": [
    "# Networks Using Blocks (VGG)\n",
    ":label:`sec_vgg`\n",
    "\n",
    "While AlexNet offered empirical evidence that deep CNNs\n",
    "can achieve good results, it did not provide a general template\n",
    "to guide subsequent researchers in designing new networks.\n",
    "In the following sections, we will introduce several heuristic concepts\n",
    "commonly used to design deep networks.\n",
    "\n",
    "Progress in this field mirrors that of VLSI (very large scale integration) \n",
    "in chip design\n",
    "where engineers moved from placing transistors\n",
    "to logical elements to logic blocks :cite:`Mead.1980`.\n",
    "Similarly, the design of neural network architectures\n",
    "has grown progressively more abstract,\n",
    "with researchers moving from thinking in terms of\n",
    "individual neurons to whole layers,\n",
    "and now to blocks, repeating patterns of layers. A decade later, this has now\n",
    "progressed to researchers using entire trained models to repurpose them for different, \n",
    "albeit related, tasks. Such large pretrained models are typically called \n",
    "*foundation models* :cite:`bommasani2021opportunities`. \n",
    "\n",
    "Back to network design. The idea of using blocks first emerged from the\n",
    "Visual Geometry Group (VGG) at Oxford University,\n",
    "in their eponymously-named *VGG* network :cite:`Simonyan.Zisserman.2014`.\n",
    "It is easy to implement these repeated structures in code\n",
    "with any modern deep learning framework by using loops and subroutines."
   ]
  },
  {
   "cell_type": "code",
   "execution_count": null,
   "id": "57efb436",
   "metadata": {},
   "outputs": [],
   "source": [
    "%%tab mxnet\n",
    "from d2l import mxnet as d2l\n",
    "from mxnet import np, npx, init\n",
    "from mxnet.gluon import nn\n",
    "npx.set_np()"
   ]
  },
  {
   "cell_type": "code",
   "execution_count": null,
   "id": "a7842a0f",
   "metadata": {},
   "outputs": [],
   "source": [
    "%%tab pytorch\n",
    "from d2l import torch as d2l\n",
    "import torch\n",
    "from torch import nn"
   ]
  },
  {
   "cell_type": "code",
   "execution_count": null,
   "id": "4514da65",
   "metadata": {},
   "outputs": [],
   "source": [
    "%%tab tensorflow\n",
    "import tensorflow as tf\n",
    "from d2l import tensorflow as d2l"
   ]
  },
  {
   "cell_type": "code",
   "execution_count": null,
   "id": "cbf8d909",
   "metadata": {},
   "outputs": [],
   "source": [
    "%%tab jax\n",
    "from d2l import jax as d2l\n",
    "from flax import linen as nn\n",
    "import jax"
   ]
  },
  {
   "cell_type": "markdown",
   "id": "ac9dc819",
   "metadata": {},
   "source": [
    "## (**VGG Blocks**)\n",
    ":label:`subsec_vgg-blocks`\n",
    "\n",
    "The basic building block of CNNs\n",
    "is a sequence of the following:\n",
    "(i) a convolutional layer\n",
    "with padding to maintain the resolution,\n",
    "(ii) a nonlinearity such as a ReLU,\n",
    "(iii) a pooling layer such\n",
    "as max-pooling to reduce the resolution. One of the problems with \n",
    "this approach is that the spatial resolution decreases quite rapidly. In particular, \n",
    "this imposes a hard limit of $\\log_2 d$ convolutional layers on the network before all \n",
    "dimensions ($d$) are used up. For instance, in the case of ImageNet, it would be impossible to have \n",
    "more than 8 convolutional layers in this way. \n",
    "\n",
    "The key idea of :citet:`Simonyan.Zisserman.2014` was to use *multiple* convolutions in between downsampling\n",
    "via max-pooling in the form of a block. They were primarily interested in whether deep or \n",
    "wide networks perform better. For instance, the successive application of two $3 \\times 3$ convolutions\n",
    "touches the same pixels as a single $5 \\times 5$ convolution does. At the same time, the latter uses approximately \n",
    "as many parameters ($25 \\cdot c^2$) as three $3 \\times 3$ convolutions do ($3 \\cdot 9 \\cdot c^2$). \n",
    "In a rather detailed analysis they showed that deep and narrow networks significantly outperform their shallow counterparts. This set deep learning on a quest for ever deeper networks with over 100 layers for typical applications.\n",
    "Stacking $3 \\times 3$ convolutions\n",
    "has become a gold standard in later deep networks (a design decision only to be revisited recently by \n",
    ":citet:`liu2022convnet`). Consequently, fast implementations for small convolutions have become a staple on GPUs :cite:`lavin2016fast`. \n",
    "\n",
    "Back to VGG: a VGG block consists of a *sequence* of convolutions with $3\\times3$ kernels with padding of 1 \n",
    "(keeping height and width) followed by a $2 \\times 2$ max-pooling layer with stride of 2\n",
    "(halving height and width after each block).\n",
    "In the code below, we define a function called `vgg_block`\n",
    "to implement one VGG block.\n",
    "\n",
    "The function below takes two arguments,\n",
    "corresponding to the number of convolutional layers `num_convs`\n",
    "and the number of output channels `num_channels`."
   ]
  },
  {
   "cell_type": "code",
   "execution_count": 2,
   "id": "9a543e0d",
   "metadata": {
    "attributes": {
     "classes": [],
     "id": "",
     "n": "2"
    }
   },
   "outputs": [],
   "source": [
    "%%tab mxnet\n",
    "def vgg_block(num_convs, num_channels):\n",
    "    blk = nn.Sequential()\n",
    "    for _ in range(num_convs):\n",
    "        blk.add(nn.Conv2D(num_channels, kernel_size=3,\n",
    "                          padding=1, activation='relu'))\n",
    "    blk.add(nn.MaxPool2D(pool_size=2, strides=2))\n",
    "    return blk"
   ]
  },
  {
   "cell_type": "code",
   "execution_count": 3,
   "id": "7a3ba812",
   "metadata": {
    "attributes": {
     "classes": [],
     "id": "",
     "n": "3"
    }
   },
   "outputs": [],
   "source": [
    "%%tab pytorch\n",
    "def vgg_block(num_convs, out_channels):\n",
    "    layers = []\n",
    "    for _ in range(num_convs):\n",
    "        layers.append(nn.LazyConv2d(out_channels, kernel_size=3, padding=1))\n",
    "        layers.append(nn.ReLU())\n",
    "    layers.append(nn.MaxPool2d(kernel_size=2,stride=2))\n",
    "    return nn.Sequential(*layers)"
   ]
  },
  {
   "cell_type": "code",
   "execution_count": 4,
   "id": "87ec04f4",
   "metadata": {
    "attributes": {
     "classes": [],
     "id": "",
     "n": "4"
    }
   },
   "outputs": [],
   "source": [
    "%%tab tensorflow\n",
    "def vgg_block(num_convs, num_channels):\n",
    "    blk = tf.keras.models.Sequential()\n",
    "    for _ in range(num_convs):\n",
    "        blk.add(\n",
    "            tf.keras.layers.Conv2D(num_channels, kernel_size=3,\n",
    "                                   padding='same', activation='relu'))\n",
    "    blk.add(tf.keras.layers.MaxPool2D(pool_size=2, strides=2))\n",
    "    return blk"
   ]
  },
  {
   "cell_type": "code",
   "execution_count": null,
   "id": "278c7265",
   "metadata": {},
   "outputs": [],
   "source": [
    "%%tab jax\n",
    "def vgg_block(num_convs, out_channels):\n",
    "    layers = []\n",
    "    for _ in range(num_convs):\n",
    "        layers.append(nn.Conv(out_channels, kernel_size=(3, 3), padding=(1, 1)))\n",
    "        layers.append(nn.relu)\n",
    "    layers.append(lambda x: nn.max_pool(x, window_shape=(2, 2), strides=(2, 2)))\n",
    "    return nn.Sequential(layers)"
   ]
  },
  {
   "cell_type": "markdown",
   "id": "32849cac",
   "metadata": {},
   "source": [
    "## [**VGG Network**]\n",
    ":label:`subsec_vgg-network`\n",
    "\n",
    "Like AlexNet and LeNet, \n",
    "the VGG Network can be partitioned into two parts:\n",
    "the first consisting mostly of convolutional and pooling layers\n",
    "and the second consisting of fully connected layers that are identical to those in AlexNet. \n",
    "The key difference is \n",
    "that the convolutional layers are grouped in nonlinear transformations that \n",
    "leave the dimensonality unchanged, followed by a resolution-reduction step, as \n",
    "depicted in :numref:`fig_vgg`. \n",
    "\n",
    "![From AlexNet to VGG. The key difference is that VGG consists of blocks of layers, whereas AlexNet's layers are all designed individually.](../img/vgg.svg)\n",
    ":width:`400px`\n",
    ":label:`fig_vgg`\n",
    "\n",
    "The convolutional part of the network connects several VGG blocks from :numref:`fig_vgg` (also defined in the `vgg_block` function)\n",
    "in succession. This grouping of convolutions is a pattern that has \n",
    "remained almost unchanged over the past decade, although the specific choice of \n",
    "operations has undergone considerable modifications. \n",
    "The variable `arch` consists of a list of tuples (one per block),\n",
    "where each contains two values: the number of convolutional layers\n",
    "and the number of output channels,\n",
    "which are precisely the arguments required to call\n",
    "the `vgg_block` function. As such, VGG defines a *family* of networks rather than just \n",
    "a specific manifestation. To build a specific network we simply iterate over `arch` to compose the blocks."
   ]
  },
  {
   "cell_type": "code",
   "execution_count": 5,
   "id": "db65dd37",
   "metadata": {
    "attributes": {
     "classes": [],
     "id": "",
     "n": "5"
    }
   },
   "outputs": [],
   "source": [
    "%%tab pytorch, mxnet, tensorflow\n",
    "class VGG(d2l.Classifier):\n",
    "    def __init__(self, arch, lr=0.1, num_classes=10):\n",
    "        super().__init__()\n",
    "        self.save_hyperparameters()\n",
    "        if tab.selected('mxnet'):\n",
    "            self.net = nn.Sequential()\n",
    "            for (num_convs, num_channels) in arch:\n",
    "                self.net.add(vgg_block(num_convs, num_channels))\n",
    "            self.net.add(nn.Dense(4096, activation='relu'), nn.Dropout(0.5),\n",
    "                         nn.Dense(4096, activation='relu'), nn.Dropout(0.5),\n",
    "                         nn.Dense(num_classes))\n",
    "            self.net.initialize(init.Xavier())\n",
    "        if tab.selected('pytorch'):\n",
    "            conv_blks = []\n",
    "            for (num_convs, out_channels) in arch:\n",
    "                conv_blks.append(vgg_block(num_convs, out_channels))\n",
    "            self.net = nn.Sequential(\n",
    "                *conv_blks, nn.Flatten(),\n",
    "                nn.LazyLinear(4096), nn.ReLU(), nn.Dropout(0.5),\n",
    "                nn.LazyLinear(4096), nn.ReLU(), nn.Dropout(0.5),\n",
    "                nn.LazyLinear(num_classes))\n",
    "            self.net.apply(d2l.init_cnn)\n",
    "        if tab.selected('tensorflow'):\n",
    "            self.net = tf.keras.models.Sequential()\n",
    "            for (num_convs, num_channels) in arch:\n",
    "                self.net.add(vgg_block(num_convs, num_channels))\n",
    "            self.net.add(\n",
    "                tf.keras.models.Sequential([\n",
    "                tf.keras.layers.Flatten(),\n",
    "                tf.keras.layers.Dense(4096, activation='relu'),\n",
    "                tf.keras.layers.Dropout(0.5),\n",
    "                tf.keras.layers.Dense(4096, activation='relu'),\n",
    "                tf.keras.layers.Dropout(0.5),\n",
    "                tf.keras.layers.Dense(num_classes)]))"
   ]
  },
  {
   "cell_type": "code",
   "execution_count": 5,
   "id": "8ef9a2de",
   "metadata": {
    "attributes": {
     "classes": [],
     "id": "",
     "n": "5"
    }
   },
   "outputs": [],
   "source": [
    "%%tab jax\n",
    "class VGG(d2l.Classifier):\n",
    "    arch: list\n",
    "    lr: float = 0.1\n",
    "    num_classes: int = 10\n",
    "    training: bool = True\n",
    "\n",
    "    def setup(self):\n",
    "        conv_blks = []\n",
    "        for (num_convs, out_channels) in self.arch:\n",
    "            conv_blks.append(vgg_block(num_convs, out_channels))\n",
    "\n",
    "        self.net = nn.Sequential([\n",
    "            *conv_blks,\n",
    "            lambda x: x.reshape((x.shape[0], -1)),  # flatten\n",
    "            nn.Dense(4096), nn.relu,\n",
    "            nn.Dropout(0.5, deterministic=not self.training),\n",
    "            nn.Dense(4096), nn.relu,\n",
    "            nn.Dropout(0.5, deterministic=not self.training),\n",
    "            nn.Dense(self.num_classes)])"
   ]
  },
  {
   "cell_type": "markdown",
   "id": "d3f14065",
   "metadata": {},
   "source": [
    "The original VGG network had five convolutional blocks,\n",
    "among which the first two have one convolutional layer each\n",
    "and the latter three contain two convolutional layers each.\n",
    "The first block has 64 output channels\n",
    "and each subsequent block doubles the number of output channels,\n",
    "until that number reaches 512.\n",
    "Since this network uses eight convolutional layers\n",
    "and three fully connected layers, it is often called VGG-11."
   ]
  },
  {
   "cell_type": "code",
   "execution_count": 6,
   "id": "fcd7b8ab",
   "metadata": {
    "attributes": {
     "classes": [],
     "id": "",
     "n": "6"
    }
   },
   "outputs": [],
   "source": [
    "%%tab pytorch, mxnet\n",
    "VGG(arch=((1, 64), (1, 128), (2, 256), (2, 512), (2, 512))).layer_summary(\n",
    "    (1, 1, 224, 224))"
   ]
  },
  {
   "cell_type": "code",
   "execution_count": 7,
   "id": "f096ca51",
   "metadata": {
    "attributes": {
     "classes": [],
     "id": "",
     "n": "7"
    }
   },
   "outputs": [],
   "source": [
    "%%tab tensorflow\n",
    "VGG(arch=((1, 64), (1, 128), (2, 256), (2, 512), (2, 512))).layer_summary(\n",
    "    (1, 224, 224, 1))"
   ]
  },
  {
   "cell_type": "code",
   "execution_count": null,
   "id": "c9f1580d",
   "metadata": {},
   "outputs": [],
   "source": [
    "%%tab jax\n",
    "VGG(arch=((1, 64), (1, 128), (2, 256), (2, 512), (2, 512)),\n",
    "    training=False).layer_summary((1, 224, 224, 1))"
   ]
  },
  {
   "cell_type": "markdown",
   "id": "548eec2c",
   "metadata": {},
   "source": [
    "As you can see, we halve height and width at each block,\n",
    "finally reaching a height and width of 7\n",
    "before flattening the representations\n",
    "for processing by the fully connected part of the network. \n",
    ":citet:`Simonyan.Zisserman.2014` described several other variants of VGG. \n",
    "In fact, it has become the norm to propose *families* of networks with \n",
    "different speed--accuracy trade-off when introducing a new architecture. \n",
    "\n",
    "## Training\n",
    "\n",
    "[**Since VGG-11 is computationally more demanding than AlexNet\n",
    "we construct a network with a smaller number of channels.**]\n",
    "This is more than sufficient for training on Fashion-MNIST.\n",
    "The [**model training**] process is similar to that of AlexNet in :numref:`sec_alexnet`. \n",
    "Again observe the close match between validation and training loss, \n",
    "suggesting only a small amount of overfitting."
   ]
  },
  {
   "cell_type": "code",
   "execution_count": 8,
   "id": "0b438291",
   "metadata": {
    "attributes": {
     "classes": [],
     "id": "",
     "n": "8"
    }
   },
   "outputs": [],
   "source": [
    "%%tab mxnet, pytorch, jax\n",
    "model = VGG(arch=((1, 16), (1, 32), (2, 64), (2, 128), (2, 128)), lr=0.01)\n",
    "trainer = d2l.Trainer(max_epochs=10, num_gpus=1)\n",
    "data = d2l.FashionMNIST(batch_size=128, resize=(224, 224))\n",
    "if tab.selected('pytorch'):\n",
    "    model.apply_init([next(iter(data.get_dataloader(True)))[0]], d2l.init_cnn)\n",
    "trainer.fit(model, data)"
   ]
  },
  {
   "cell_type": "code",
   "execution_count": 9,
   "id": "c419411e",
   "metadata": {
    "attributes": {
     "classes": [],
     "id": "",
     "n": "9"
    }
   },
   "outputs": [],
   "source": [
    "%%tab tensorflow\n",
    "trainer = d2l.Trainer(max_epochs=10)\n",
    "data = d2l.FashionMNIST(batch_size=128, resize=(224, 224))\n",
    "with d2l.try_gpu():\n",
    "    model = VGG(arch=((1, 16), (1, 32), (2, 64), (2, 128), (2, 128)), lr=0.01)\n",
    "    trainer.fit(model, data)"
   ]
  },
  {
   "cell_type": "markdown",
   "id": "49363190",
   "metadata": {},
   "source": [
    "## Summary\n",
    "\n",
    "One might argue that VGG is the first truly modern convolutional neural network. While AlexNet introduced many of the components of what make deep learning effective at scale, it is VGG that arguably introduced key properties such as blocks of multiple convolutions and a preference for deep and narrow networks. It is also the first network that is actually an entire family of similarly parametrized models, giving the practitioner ample trade-off between complexity and speed. This is also the place where modern deep learning frameworks shine. It is no longer necessary to generate XML configuration files to specify a network but rather, to assemble said networks through simple Python code. \n",
    "\n",
    "More recently ParNet :cite:`Goyal.Bochkovskiy.Deng.ea.2021` demonstrated that it is possible to achieve competitive performance using a much more shallow architecture through a large number of parallel computations. This is an exciting development and there is hope that it will influence architecture designs in the future. For the remainder of the chapter, though, we will follow the path of scientific progress over the past decade. \n",
    "\n",
    "## Exercises\n",
    "\n",
    "\n",
    "1. Compared with AlexNet, VGG is much slower in terms of computation, and it also needs more GPU memory. \n",
    "    1. Compare the number of parameters needed for AlexNet and VGG.\n",
    "    1. Compare the number of floating point operations used in the convolutional layers and in the fully connected layers. \n",
    "    1. How could you reduce the computational cost created by the fully connected layers?\n",
    "1. When displaying the dimensions associated with the various layers of the network, we only see the information associated with eight blocks (plus some auxiliary transforms), even though the network has 11 layers. Where did the remaining three layers go?\n",
    "1. Use Table 1 in the VGG paper :cite:`Simonyan.Zisserman.2014` to construct other common models, such as VGG-16 or VGG-19.\n",
    "1. Upsampling the resolution in Fashion-MNIST eight-fold from $28 \\times 28$ to $224 \\times 224$ dimensions is very wasteful. Try modifying the network architecture and resolution conversion, e.g., to 56 or to 84 dimensions for its input instead. Can you do so without reducing the accuracy of the network? Consult the VGG paper :cite:`Simonyan.Zisserman.2014` for ideas on adding more nonlinearities prior to downsampling.\n",
    "\n",
    ":begin_tab:`mxnet`\n",
    "[Discussions](https://discuss.d2l.ai/t/77)\n",
    ":end_tab:\n",
    "\n",
    ":begin_tab:`pytorch`\n",
    "[Discussions](https://discuss.d2l.ai/t/78)\n",
    ":end_tab:\n",
    "\n",
    ":begin_tab:`tensorflow`\n",
    "[Discussions](https://discuss.d2l.ai/t/277)\n",
    ":end_tab:\n",
    "\n",
    ":begin_tab:`jax`\n",
    "[Discussions](https://discuss.d2l.ai/t/18002)\n",
    ":end_tab:"
   ]
  }
 ],
 "metadata": {},
 "nbformat": 4,
 "nbformat_minor": 5
}
