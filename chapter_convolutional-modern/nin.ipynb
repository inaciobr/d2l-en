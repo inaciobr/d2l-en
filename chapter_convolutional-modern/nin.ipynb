{
 "cells": [
  {
   "cell_type": "code",
   "execution_count": null,
   "id": "23d1f63d",
   "metadata": {},
   "outputs": [],
   "source": [
    "%load_ext d2lbook.tab\n",
    "tab.interact_select(['mxnet', 'pytorch', 'tensorflow', 'jax'])"
   ]
  },
  {
   "cell_type": "markdown",
   "id": "90656d34",
   "metadata": {},
   "source": [
    "# Network in Network (NiN)\n",
    ":label:`sec_nin`\n",
    "\n",
    "LeNet, AlexNet, and VGG all share a common design pattern:\n",
    "extract features exploiting *spatial* structure\n",
    "via a sequence of convolutions and pooling layers\n",
    "and post-process the representations via fully connected layers.\n",
    "The improvements upon LeNet by AlexNet and VGG mainly lie\n",
    "in how these later networks widen and deepen these two modules.\n",
    "\n",
    "This design poses two major challenges.\n",
    "First, the fully connected layers at the end\n",
    "of the architecture consume tremendous numbers of parameters. For instance, even a simple\n",
    "model such as VGG-11 requires a monstrous matrix, occupying almost\n",
    "400MB of RAM in single precision (FP32). This is a significant impediment to computation, in particular on\n",
    "mobile and embedded devices. After all, even high-end mobile phones sport no more than 8GB of RAM. At the time VGG was invented, this was an order of magnitude less (the iPhone 4S had 512MB). As such, it would have been difficult to justify spending the majority of memory on an image classifier. \n",
    "\n",
    "Second, it is equally impossible to add fully connected layers\n",
    "earlier in the network to increase the degree of nonlinearity: doing so would destroy the\n",
    "spatial structure and require potentially even more memory.\n",
    "\n",
    "The *network in network* (*NiN*) blocks :cite:`Lin.Chen.Yan.2013` offer an alternative,\n",
    "capable of solving both problems in one simple strategy.\n",
    "They were proposed based on a very simple insight: (i) use $1 \\times 1$ convolutions to add\n",
    "local nonlinearities across the channel activations and (ii) use global average pooling to integrate\n",
    "across all locations in the last representation layer. Note that global average pooling would not\n",
    "be effective, were it not for the added nonlinearities. Let's dive into this in detail."
   ]
  },
  {
   "cell_type": "code",
   "execution_count": null,
   "id": "99085040",
   "metadata": {},
   "outputs": [],
   "source": [
    "%%tab mxnet\n",
    "from d2l import mxnet as d2l\n",
    "from mxnet import np, npx, init\n",
    "from mxnet.gluon import nn\n",
    "npx.set_np()"
   ]
  },
  {
   "cell_type": "code",
   "execution_count": null,
   "id": "ad0aec49",
   "metadata": {},
   "outputs": [],
   "source": [
    "%%tab pytorch\n",
    "from d2l import torch as d2l\n",
    "import torch\n",
    "from torch import nn"
   ]
  },
  {
   "cell_type": "code",
   "execution_count": null,
   "id": "c6c2bae9",
   "metadata": {},
   "outputs": [],
   "source": [
    "%%tab tensorflow\n",
    "import tensorflow as tf\n",
    "from d2l import tensorflow as d2l"
   ]
  },
  {
   "cell_type": "code",
   "execution_count": null,
   "id": "9204b28e",
   "metadata": {},
   "outputs": [],
   "source": [
    "%%tab jax\n",
    "from d2l import jax as d2l\n",
    "from flax import linen as nn\n",
    "import jax\n",
    "from jax import numpy as jnp"
   ]
  },
  {
   "cell_type": "markdown",
   "id": "01d220fa",
   "metadata": {},
   "source": [
    "## (**NiN Blocks**)\n",
    "\n",
    "Recall :numref:`subsec_1x1`. In it we said that the inputs and outputs of convolutional layers\n",
    "consist of four-dimensional tensors with axes\n",
    "corresponding to the example, channel, height, and width.\n",
    "Also recall that the inputs and outputs of fully connected layers\n",
    "are typically two-dimensional tensors corresponding to the example and feature.\n",
    "The idea behind NiN is to apply a fully connected layer\n",
    "at each pixel location (for each height and width).\n",
    "The resulting $1 \\times 1$ convolution can be thought of as\n",
    "a fully connected layer acting independently on each pixel location.\n",
    "\n",
    ":numref:`fig_nin` illustrates the main structural\n",
    "differences between VGG and NiN, and their blocks.\n",
    "Note both the difference in the NiN blocks (the initial convolution is followed by $1 \\times 1$ convolutions, whereas VGG retains $3 \\times 3$ convolutions) and at the end where we no longer require a giant fully connected layer.\n",
    "\n",
    "![Comparing the architectures of VGG and NiN, and of their blocks.](../img/nin.svg)\n",
    ":width:`600px`\n",
    ":label:`fig_nin`"
   ]
  },
  {
   "cell_type": "code",
   "execution_count": null,
   "id": "b3e36629",
   "metadata": {},
   "outputs": [],
   "source": [
    "%%tab mxnet\n",
    "def nin_block(num_channels, kernel_size, strides, padding):\n",
    "    blk = nn.Sequential()\n",
    "    blk.add(nn.Conv2D(num_channels, kernel_size, strides, padding,\n",
    "                      activation='relu'),\n",
    "            nn.Conv2D(num_channels, kernel_size=1, activation='relu'),\n",
    "            nn.Conv2D(num_channels, kernel_size=1, activation='relu'))\n",
    "    return blk"
   ]
  },
  {
   "cell_type": "code",
   "execution_count": null,
   "id": "7baedbb1",
   "metadata": {},
   "outputs": [],
   "source": [
    "%%tab pytorch\n",
    "def nin_block(out_channels, kernel_size, strides, padding):\n",
    "    return nn.Sequential(\n",
    "        nn.LazyConv2d(out_channels, kernel_size, strides, padding), nn.ReLU(),\n",
    "        nn.LazyConv2d(out_channels, kernel_size=1), nn.ReLU(),\n",
    "        nn.LazyConv2d(out_channels, kernel_size=1), nn.ReLU())"
   ]
  },
  {
   "cell_type": "code",
   "execution_count": null,
   "id": "ea736905",
   "metadata": {},
   "outputs": [],
   "source": [
    "%%tab tensorflow\n",
    "def nin_block(out_channels, kernel_size, strides, padding):\n",
    "    return tf.keras.models.Sequential([\n",
    "    tf.keras.layers.Conv2D(out_channels, kernel_size, strides=strides,\n",
    "                           padding=padding),\n",
    "    tf.keras.layers.Activation('relu'),\n",
    "    tf.keras.layers.Conv2D(out_channels, 1),\n",
    "    tf.keras.layers.Activation('relu'),\n",
    "    tf.keras.layers.Conv2D(out_channels, 1),\n",
    "    tf.keras.layers.Activation('relu')])"
   ]
  },
  {
   "cell_type": "code",
   "execution_count": null,
   "id": "d0853ae9",
   "metadata": {},
   "outputs": [],
   "source": [
    "%%tab jax\n",
    "def nin_block(out_channels, kernel_size, strides, padding):\n",
    "    return nn.Sequential([\n",
    "        nn.Conv(out_channels, kernel_size, strides, padding),\n",
    "        nn.relu,\n",
    "        nn.Conv(out_channels, kernel_size=(1, 1)), nn.relu,\n",
    "        nn.Conv(out_channels, kernel_size=(1, 1)), nn.relu])"
   ]
  },
  {
   "cell_type": "markdown",
   "id": "5d07a559",
   "metadata": {},
   "source": [
    "## [**NiN Model**]\n",
    "\n",
    "NiN uses the same initial convolution sizes as AlexNet (it was proposed shortly thereafter).\n",
    "The kernel sizes are $11\\times 11$, $5\\times 5$, and $3\\times 3$, respectively,\n",
    "and the numbers of output channels match those of AlexNet. Each NiN block is followed by a max-pooling layer\n",
    "with a stride of 2 and a window shape of $3\\times 3$.\n",
    "\n",
    "The second significant difference between NiN and both AlexNet and VGG\n",
    "is that NiN avoids fully connected layers altogether.\n",
    "Instead, NiN uses a NiN block with a number of output channels equal to the number of label classes, followed by a *global* average pooling layer,\n",
    "yielding a vector of logits.\n",
    "This design significantly reduces the number of required model parameters, albeit at the expense of a potential increase in training time."
   ]
  },
  {
   "cell_type": "code",
   "execution_count": null,
   "id": "a8e5087e",
   "metadata": {},
   "outputs": [],
   "source": [
    "%%tab pytorch, mxnet, tensorflow\n",
    "class NiN(d2l.Classifier):\n",
    "    def __init__(self, lr=0.1, num_classes=10):\n",
    "        super().__init__()\n",
    "        self.save_hyperparameters()\n",
    "        if tab.selected('mxnet'):\n",
    "            self.net = nn.Sequential()\n",
    "            self.net.add(\n",
    "                nin_block(96, kernel_size=11, strides=4, padding=0),\n",
    "                nn.MaxPool2D(pool_size=3, strides=2),\n",
    "                nin_block(256, kernel_size=5, strides=1, padding=2),\n",
    "                nn.MaxPool2D(pool_size=3, strides=2),\n",
    "                nin_block(384, kernel_size=3, strides=1, padding=1),\n",
    "                nn.MaxPool2D(pool_size=3, strides=2),\n",
    "                nn.Dropout(0.5),\n",
    "                nin_block(num_classes, kernel_size=3, strides=1, padding=1),\n",
    "                nn.GlobalAvgPool2D(),\n",
    "                nn.Flatten())\n",
    "            self.net.initialize(init.Xavier())\n",
    "        if tab.selected('pytorch'):\n",
    "            self.net = nn.Sequential(\n",
    "                nin_block(96, kernel_size=11, strides=4, padding=0),\n",
    "                nn.MaxPool2d(3, stride=2),\n",
    "                nin_block(256, kernel_size=5, strides=1, padding=2),\n",
    "                nn.MaxPool2d(3, stride=2),\n",
    "                nin_block(384, kernel_size=3, strides=1, padding=1),\n",
    "                nn.MaxPool2d(3, stride=2),\n",
    "                nn.Dropout(0.5),\n",
    "                nin_block(num_classes, kernel_size=3, strides=1, padding=1),\n",
    "                nn.AdaptiveAvgPool2d((1, 1)),\n",
    "                nn.Flatten())\n",
    "            self.net.apply(d2l.init_cnn)\n",
    "        if tab.selected('tensorflow'):\n",
    "            self.net = tf.keras.models.Sequential([\n",
    "                nin_block(96, kernel_size=11, strides=4, padding='valid'),\n",
    "                tf.keras.layers.MaxPool2D(pool_size=3, strides=2),\n",
    "                nin_block(256, kernel_size=5, strides=1, padding='same'),\n",
    "                tf.keras.layers.MaxPool2D(pool_size=3, strides=2),\n",
    "                nin_block(384, kernel_size=3, strides=1, padding='same'),\n",
    "                tf.keras.layers.MaxPool2D(pool_size=3, strides=2),\n",
    "                tf.keras.layers.Dropout(0.5),\n",
    "                nin_block(num_classes, kernel_size=3, strides=1, padding='same'),\n",
    "                tf.keras.layers.GlobalAvgPool2D(),\n",
    "                tf.keras.layers.Flatten()])"
   ]
  },
  {
   "cell_type": "code",
   "execution_count": null,
   "id": "542dda90",
   "metadata": {},
   "outputs": [],
   "source": [
    "%%tab jax\n",
    "class NiN(d2l.Classifier):\n",
    "    lr: float = 0.1\n",
    "    num_classes = 10\n",
    "    training: bool = True\n",
    "\n",
    "    def setup(self):\n",
    "        self.net = nn.Sequential([\n",
    "            nin_block(96, kernel_size=(11, 11), strides=(4, 4), padding=(0, 0)),\n",
    "            lambda x: nn.max_pool(x, (3, 3), strides=(2, 2)),\n",
    "            nin_block(256, kernel_size=(5, 5), strides=(1, 1), padding=(2, 2)),\n",
    "            lambda x: nn.max_pool(x, (3, 3), strides=(2, 2)),\n",
    "            nin_block(384, kernel_size=(3, 3), strides=(1, 1), padding=(1, 1)),\n",
    "            lambda x: nn.max_pool(x, (3, 3), strides=(2, 2)),\n",
    "            nn.Dropout(0.5, deterministic=not self.training),\n",
    "            nin_block(self.num_classes, kernel_size=(3, 3), strides=1, padding=(1, 1)),\n",
    "            lambda x: nn.avg_pool(x, (5, 5)),  # global avg pooling\n",
    "            lambda x: x.reshape((x.shape[0], -1))  # flatten\n",
    "        ])"
   ]
  },
  {
   "cell_type": "markdown",
   "id": "b2a00688",
   "metadata": {},
   "source": [
    "We create a data example to see [**the output shape of each block**]."
   ]
  },
  {
   "cell_type": "code",
   "execution_count": null,
   "id": "e3585a54",
   "metadata": {},
   "outputs": [],
   "source": [
    "%%tab mxnet, pytorch\n",
    "NiN().layer_summary((1, 1, 224, 224))"
   ]
  },
  {
   "cell_type": "code",
   "execution_count": null,
   "id": "7d26d4a8",
   "metadata": {},
   "outputs": [],
   "source": [
    "%%tab tensorflow\n",
    "NiN().layer_summary((1, 224, 224, 1))"
   ]
  },
  {
   "cell_type": "code",
   "execution_count": null,
   "id": "b2970a53",
   "metadata": {},
   "outputs": [],
   "source": [
    "%%tab jax\n",
    "NiN(training=False).layer_summary((1, 224, 224, 1))"
   ]
  },
  {
   "cell_type": "markdown",
   "id": "aaad192e",
   "metadata": {},
   "source": [
    "## [**Training**]\n",
    "\n",
    "As before we use Fashion-MNIST to train the model using the same \n",
    "optimizer that we used for AlexNet and VGG."
   ]
  },
  {
   "cell_type": "code",
   "execution_count": null,
   "id": "89e6471f",
   "metadata": {},
   "outputs": [],
   "source": [
    "%%tab mxnet, pytorch, jax\n",
    "model = NiN(lr=0.05)\n",
    "trainer = d2l.Trainer(max_epochs=10, num_gpus=1)\n",
    "data = d2l.FashionMNIST(batch_size=128, resize=(224, 224))\n",
    "if tab.selected('pytorch'):\n",
    "    model.apply_init([next(iter(data.get_dataloader(True)))[0]], d2l.init_cnn)\n",
    "trainer.fit(model, data)"
   ]
  },
  {
   "cell_type": "code",
   "execution_count": null,
   "id": "4d09eb1d",
   "metadata": {},
   "outputs": [],
   "source": [
    "%%tab tensorflow\n",
    "trainer = d2l.Trainer(max_epochs=10)\n",
    "data = d2l.FashionMNIST(batch_size=128, resize=(224, 224))\n",
    "with d2l.try_gpu():\n",
    "    model = NiN(lr=0.05)\n",
    "    trainer.fit(model, data)"
   ]
  },
  {
   "cell_type": "markdown",
   "id": "b2c15721",
   "metadata": {},
   "source": [
    "## Summary\n",
    "\n",
    "NiN has dramatically fewer parameters than AlexNet and VGG. This stems primarily from the fact that it needs no giant fully connected layers. Instead, it uses global average pooling to aggregate across all image locations after the last stage of the network body. This obviates the need for expensive (learned) reduction operations and replaces them by a simple average. What surprised researchers at the time was the fact that this averaging operation did not harm accuracy. Note that averaging across a low-resolution representation (with many channels) also adds to the amount of translation invariance that the network can handle. \n",
    "\n",
    "Choosing fewer convolutions with wide kernels and replacing them by $1 \\times 1$ convolutions aids the quest for fewer parameters further. It can cater for a significant amount of nonlinearity across channels within any given location. Both $1 \\times 1$ convolutions and global average pooling significantly influenced subsequent CNN designs. \n",
    "\n",
    "## Exercises\n",
    "\n",
    "1. Why are there two $1\\times 1$ convolutional layers per NiN block? Increase their number to three. Reduce their number to one. What changes?\n",
    "1. What changes if you replace the $1 \\times 1$ convolutions by $3 \\times 3$ convolutions? \n",
    "1. What happens if you replace the global average pooling by a fully connected layer (speed, accuracy, number of parameters)?\n",
    "1. Calculate the resource usage for NiN.\n",
    "    1. What is the number of parameters?\n",
    "    1. What is the amount of computation?\n",
    "    1. What is the amount of memory needed during training?\n",
    "    1. What is the amount of memory needed during prediction?\n",
    "1. What are possible problems with reducing the $384 \\times 5 \\times 5$ representation to a $10 \\times 5 \\times 5$ representation in one step?\n",
    "1. Use the structural design decisions in VGG that led to VGG-11, VGG-16, and VGG-19 to design a family of NiN-like networks.\n",
    "\n",
    ":begin_tab:`mxnet`\n",
    "[Discussions](https://discuss.d2l.ai/t/79)\n",
    ":end_tab:\n",
    "\n",
    ":begin_tab:`pytorch`\n",
    "[Discussions](https://discuss.d2l.ai/t/80)\n",
    ":end_tab:\n",
    "\n",
    ":begin_tab:`jax`\n",
    "[Discussions](https://discuss.d2l.ai/t/18003)\n",
    ":end_tab:"
   ]
  }
 ],
 "metadata": {},
 "nbformat": 4,
 "nbformat_minor": 5
}
