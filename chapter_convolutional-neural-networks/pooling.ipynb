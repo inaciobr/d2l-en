{
 "cells": [
  {
   "cell_type": "code",
   "execution_count": null,
   "id": "ad24141f",
   "metadata": {},
   "outputs": [],
   "source": [
    "%load_ext d2lbook.tab\n",
    "tab.interact_select(['mxnet', 'pytorch', 'tensorflow', 'jax'])"
   ]
  },
  {
   "cell_type": "markdown",
   "id": "52284c8b",
   "metadata": {},
   "source": [
    "# Pooling\n",
    ":label:`sec_pooling`\n",
    "\n",
    "In many cases our ultimate task asks some global question about the image,\n",
    "e.g., *does it contain a cat?* Consequently, the units of our final layer \n",
    "should be sensitive to the entire input.\n",
    "By gradually aggregating information, yielding coarser and coarser maps,\n",
    "we accomplish this goal of ultimately learning a global representation,\n",
    "while keeping all of the advantages of convolutional layers at the intermediate layers of processing.\n",
    "The deeper we go in the network,\n",
    "the larger the receptive field (relative to the input)\n",
    "to which each hidden node is sensitive. Reducing spatial resolution \n",
    "accelerates this process, \n",
    "since the convolution kernels cover a larger effective area. \n",
    "\n",
    "Moreover, when detecting lower-level features, such as edges\n",
    "(as discussed in :numref:`sec_conv_layer`),\n",
    "we often want our representations to be somewhat invariant to translation.\n",
    "For instance, if we take the image `X`\n",
    "with a sharp delineation between black and white\n",
    "and shift the whole image by one pixel to the right,\n",
    "i.e., `Z[i, j] = X[i, j + 1]`,\n",
    "then the output for the new image `Z` might be vastly different.\n",
    "The edge will have shifted by one pixel.\n",
    "In reality, objects hardly ever occur exactly at the same place.\n",
    "In fact, even with a tripod and a stationary object,\n",
    "vibration of the camera due to the movement of the shutter\n",
    "might shift everything by a pixel or so\n",
    "(high-end cameras are loaded with special features to address this problem).\n",
    "\n",
    "This section introduces *pooling layers*,\n",
    "which serve the dual purposes of\n",
    "mitigating the sensitivity of convolutional layers to location\n",
    "and of spatially downsampling representations."
   ]
  },
  {
   "cell_type": "code",
   "execution_count": null,
   "id": "13dcfb81",
   "metadata": {},
   "outputs": [],
   "source": [
    "%%tab mxnet\n",
    "from d2l import mxnet as d2l\n",
    "from mxnet import np, npx\n",
    "from mxnet.gluon import nn\n",
    "npx.set_np()"
   ]
  },
  {
   "cell_type": "code",
   "execution_count": null,
   "id": "90abfe4c",
   "metadata": {},
   "outputs": [],
   "source": [
    "%%tab pytorch\n",
    "from d2l import torch as d2l\n",
    "import torch\n",
    "from torch import nn"
   ]
  },
  {
   "cell_type": "code",
   "execution_count": null,
   "id": "07e5d071",
   "metadata": {},
   "outputs": [],
   "source": [
    "%%tab jax\n",
    "from d2l import jax as d2l\n",
    "from flax import linen as nn\n",
    "import jax\n",
    "from jax import numpy as jnp"
   ]
  },
  {
   "cell_type": "markdown",
   "id": "2ccddab4",
   "metadata": {},
   "source": [
    "## Maximum Pooling and Average Pooling\n",
    "\n",
    "Like convolutional layers, *pooling* operators\n",
    "consist of a fixed-shape window that is slid over\n",
    "all regions in the input according to its stride,\n",
    "computing a single output for each location traversed\n",
    "by the fixed-shape window (sometimes known as the *pooling window*).\n",
    "However, unlike the cross-correlation computation\n",
    "of the inputs and kernels in the convolutional layer,\n",
    "the pooling layer contains no parameters (there is no *kernel*).\n",
    "Instead, pooling operators are deterministic,\n",
    "typically calculating either the maximum or the average value\n",
    "of the elements in the pooling window.\n",
    "These operations are called *maximum pooling* (*max-pooling* for short)\n",
    "and *average pooling*, respectively.\n",
    "\n",
    "*Average pooling* is essentially as old as CNNs. The idea is akin to \n",
    "downsampling an image. Rather than just taking the value of every second (or third) \n",
    "pixel for the lower resolution image, we can average over adjacent pixels to obtain \n",
    "an image with better signal-to-noise ratio since we are combining the information \n",
    "from multiple adjacent pixels. *Max-pooling* was introduced in \n",
    ":citet:`Riesenhuber.Poggio.1999` in the context of cognitive neuroscience to describe \n",
    "how information aggregation might be aggregated hierarchically for the purpose \n",
    "of object recognition; there already was an earlier version in speech recognition :cite:`Yamaguchi.Sakamoto.Akabane.ea.1990`. In almost all cases, max-pooling, as it is also referred to, \n",
    "is preferable to average pooling. \n",
    "\n",
    "In both cases, as with the cross-correlation operator,\n",
    "we can think of the pooling window\n",
    "as starting from the upper-left of the input tensor\n",
    "and sliding across it from left to right and top to bottom.\n",
    "At each location that the pooling window hits,\n",
    "it computes the maximum or average\n",
    "value of the input subtensor in the window,\n",
    "depending on whether max or average pooling is employed.\n",
    "\n",
    "\n",
    "![Max-pooling with a pooling window shape of $2\\times 2$. The shaded portions are the first output element as well as the input tensor elements used for the output computation: $\\max(0, 1, 3, 4)=4$.](../img/pooling.svg)\n",
    ":label:`fig_pooling`\n",
    "\n",
    "The output tensor in :numref:`fig_pooling`  has a height of 2 and a width of 2.\n",
    "The four elements are derived from the maximum value in each pooling window:\n",
    "\n",
    "$$\n",
    "\\max(0, 1, 3, 4)=4,\\\\\n",
    "\\max(1, 2, 4, 5)=5,\\\\\n",
    "\\max(3, 4, 6, 7)=7,\\\\\n",
    "\\max(4, 5, 7, 8)=8.\\\\\n",
    "$$\n",
    "\n",
    "More generally, we can define a $p \\times q$ pooling layer by aggregating over \n",
    "a region of said size. Returning to the problem of edge detection, \n",
    "we use the output of the convolutional layer\n",
    "as input for $2\\times 2$ max-pooling.\n",
    "Denote by `X` the input of the convolutional layer input and `Y` the pooling layer output. \n",
    "Regardless of whether or not the values of `X[i, j]`, `X[i, j + 1]`, \n",
    "`X[i+1, j]` and `X[i+1, j + 1]` are different,\n",
    "the pooling layer always outputs `Y[i, j] = 1`.\n",
    "That is to say, using the $2\\times 2$ max-pooling layer,\n",
    "we can still detect if the pattern recognized by the convolutional layer\n",
    "moves no more than one element in height or width.\n",
    "\n",
    "In the code below, we (**implement the forward propagation\n",
    "of the pooling layer**) in the `pool2d` function.\n",
    "This function is similar to the `corr2d` function\n",
    "in :numref:`sec_conv_layer`.\n",
    "However, no kernel is needed, computing the output\n",
    "as either the maximum or the average of each region in the input."
   ]
  },
  {
   "cell_type": "code",
   "execution_count": null,
   "id": "a20f6238",
   "metadata": {},
   "outputs": [],
   "source": [
    "%%tab mxnet, pytorch\n",
    "def pool2d(X, pool_size, mode='max'):\n",
    "    p_h, p_w = pool_size\n",
    "    Y = d2l.zeros((X.shape[0] - p_h + 1, X.shape[1] - p_w + 1))\n",
    "    for i in range(Y.shape[0]):\n",
    "        for j in range(Y.shape[1]):\n",
    "            if mode == 'max':\n",
    "                Y[i, j] = X[i: i + p_h, j: j + p_w].max()\n",
    "            elif mode == 'avg':\n",
    "                Y[i, j] = X[i: i + p_h, j: j + p_w].mean()\n",
    "    return Y"
   ]
  },
  {
   "cell_type": "code",
   "execution_count": null,
   "id": "cf10346a",
   "metadata": {},
   "outputs": [],
   "source": [
    "%%tab jax\n",
    "def pool2d(X, pool_size, mode='max'):\n",
    "    p_h, p_w = pool_size\n",
    "    Y = jnp.zeros((X.shape[0] - p_h + 1, X.shape[1] - p_w + 1))\n",
    "    for i in range(Y.shape[0]):\n",
    "        for j in range(Y.shape[1]):\n",
    "            if mode == 'max':\n",
    "                Y = Y.at[i, j].set(X[i: i + p_h, j: j + p_w].max())\n",
    "            elif mode == 'avg':\n",
    "                Y = Y.at[i, j].set(X[i: i + p_h, j: j + p_w].mean())\n",
    "    return Y"
   ]
  },
  {
   "cell_type": "code",
   "execution_count": null,
   "id": "25858762",
   "metadata": {},
   "outputs": [],
   "source": [
    "%%tab tensorflow\n",
    "import tensorflow as tf\n",
    "\n",
    "def pool2d(X, pool_size, mode='max'):\n",
    "    p_h, p_w = pool_size\n",
    "    Y = tf.Variable(tf.zeros((X.shape[0] - p_h + 1, X.shape[1] - p_w +1)))\n",
    "    for i in range(Y.shape[0]):\n",
    "        for j in range(Y.shape[1]):\n",
    "            if mode == 'max':\n",
    "                Y[i, j].assign(tf.reduce_max(X[i: i + p_h, j: j + p_w]))\n",
    "            elif mode =='avg':\n",
    "                Y[i, j].assign(tf.reduce_mean(X[i: i + p_h, j: j + p_w]))\n",
    "    return Y"
   ]
  },
  {
   "cell_type": "markdown",
   "id": "fb188b4d",
   "metadata": {},
   "source": [
    "We can construct the input tensor `X` in :numref:`fig_pooling` to [**validate the output of the two-dimensional max-pooling layer**]."
   ]
  },
  {
   "cell_type": "code",
   "execution_count": null,
   "id": "5bf760b4",
   "metadata": {},
   "outputs": [],
   "source": [
    "%%tab all\n",
    "X = d2l.tensor([[0.0, 1.0, 2.0], [3.0, 4.0, 5.0], [6.0, 7.0, 8.0]])\n",
    "pool2d(X, (2, 2))"
   ]
  },
  {
   "cell_type": "markdown",
   "id": "0bb8b280",
   "metadata": {},
   "source": [
    "Also, we can experiment with (**the average pooling layer**)."
   ]
  },
  {
   "cell_type": "code",
   "execution_count": null,
   "id": "b0b887b8",
   "metadata": {},
   "outputs": [],
   "source": [
    "%%tab all\n",
    "pool2d(X, (2, 2), 'avg')"
   ]
  },
  {
   "cell_type": "markdown",
   "id": "e4ccfb63",
   "metadata": {},
   "source": [
    "## [**Padding and Stride**]\n",
    "\n",
    "As with convolutional layers, pooling layers\n",
    "change the output shape.\n",
    "And as before, we can adjust the operation to achieve a desired output shape\n",
    "by padding the input and adjusting the stride.\n",
    "We can demonstrate the use of padding and strides\n",
    "in pooling layers via the built-in two-dimensional max-pooling layer from the deep learning framework.\n",
    "We first construct an input tensor `X` whose shape has four dimensions,\n",
    "where the number of examples (batch size) and number of channels are both 1.\n",
    "\n",
    ":begin_tab:`tensorflow`\n",
    "Note that unlike other frameworks, TensorFlow\n",
    "prefers and is optimized for *channels-last* input.\n",
    ":end_tab:"
   ]
  },
  {
   "cell_type": "code",
   "execution_count": null,
   "id": "c98741f7",
   "metadata": {},
   "outputs": [],
   "source": [
    "%%tab mxnet, pytorch\n",
    "X = d2l.reshape(d2l.arange(16, dtype=d2l.float32), (1, 1, 4, 4))\n",
    "X"
   ]
  },
  {
   "cell_type": "code",
   "execution_count": null,
   "id": "bf12e601",
   "metadata": {},
   "outputs": [],
   "source": [
    "%%tab tensorflow, jax\n",
    "X = d2l.reshape(d2l.arange(16, dtype=d2l.float32), (1, 4, 4, 1))\n",
    "X"
   ]
  },
  {
   "cell_type": "markdown",
   "id": "14e3fb5e",
   "metadata": {},
   "source": [
    "Since pooling aggregates information from an area, (**deep learning frameworks default to matching pooling window sizes and stride.**) For instance, if we use a pooling window of shape `(3, 3)`\n",
    "we get a stride shape of `(3, 3)` by default."
   ]
  },
  {
   "cell_type": "code",
   "execution_count": null,
   "id": "558fe0ef",
   "metadata": {},
   "outputs": [],
   "source": [
    "%%tab mxnet\n",
    "pool2d = nn.MaxPool2D(3)\n",
    "# Pooling has no model parameters, hence it needs no initialization\n",
    "pool2d(X)"
   ]
  },
  {
   "cell_type": "code",
   "execution_count": null,
   "id": "79eccd62",
   "metadata": {},
   "outputs": [],
   "source": [
    "%%tab pytorch\n",
    "pool2d = nn.MaxPool2d(3)\n",
    "# Pooling has no model parameters, hence it needs no initialization\n",
    "pool2d(X)"
   ]
  },
  {
   "cell_type": "code",
   "execution_count": null,
   "id": "3eb84ddd",
   "metadata": {},
   "outputs": [],
   "source": [
    "%%tab tensorflow\n",
    "pool2d = tf.keras.layers.MaxPool2D(pool_size=[3, 3])\n",
    "# Pooling has no model parameters, hence it needs no initialization\n",
    "pool2d(X)"
   ]
  },
  {
   "cell_type": "code",
   "execution_count": null,
   "id": "19fcadbe",
   "metadata": {},
   "outputs": [],
   "source": [
    "%%tab jax\n",
    "# Pooling has no model parameters, hence it needs no initialization\n",
    "nn.max_pool(X, window_shape=(3, 3), strides=(3, 3))"
   ]
  },
  {
   "cell_type": "markdown",
   "id": "758766cf",
   "metadata": {},
   "source": [
    "Needless to say, [**the stride and padding can be manually specified**] to override framework defaults if required."
   ]
  },
  {
   "cell_type": "code",
   "execution_count": null,
   "id": "33a73de9",
   "metadata": {},
   "outputs": [],
   "source": [
    "%%tab mxnet\n",
    "pool2d = nn.MaxPool2D(3, padding=1, strides=2)\n",
    "pool2d(X)"
   ]
  },
  {
   "cell_type": "code",
   "execution_count": null,
   "id": "a0b51e71",
   "metadata": {},
   "outputs": [],
   "source": [
    "%%tab pytorch\n",
    "pool2d = nn.MaxPool2d(3, padding=1, stride=2)\n",
    "pool2d(X)"
   ]
  },
  {
   "cell_type": "code",
   "execution_count": null,
   "id": "7ef79989",
   "metadata": {},
   "outputs": [],
   "source": [
    "%%tab tensorflow\n",
    "paddings = tf.constant([[0, 0], [1,0], [1,0], [0,0]])\n",
    "X_padded = tf.pad(X, paddings, \"CONSTANT\")\n",
    "pool2d = tf.keras.layers.MaxPool2D(pool_size=[3, 3], padding='valid',\n",
    "                                   strides=2)\n",
    "pool2d(X_padded)"
   ]
  },
  {
   "cell_type": "code",
   "execution_count": null,
   "id": "f1bd462b",
   "metadata": {},
   "outputs": [],
   "source": [
    "%%tab jax\n",
    "X_padded = jnp.pad(X, ((0, 0), (1, 0), (1, 0), (0, 0)), mode='constant')\n",
    "nn.max_pool(X_padded, window_shape=(3, 3), padding='VALID', strides=(2, 2))"
   ]
  },
  {
   "cell_type": "markdown",
   "id": "4cdf1c63",
   "metadata": {},
   "source": [
    "Of course, we can specify an arbitrary rectangular pooling window with arbitrary height and width respectively, as the example below shows."
   ]
  },
  {
   "cell_type": "code",
   "execution_count": null,
   "id": "ab9b68db",
   "metadata": {},
   "outputs": [],
   "source": [
    "%%tab mxnet\n",
    "pool2d = nn.MaxPool2D((2, 3), padding=(0, 1), strides=(2, 3))\n",
    "pool2d(X)"
   ]
  },
  {
   "cell_type": "code",
   "execution_count": null,
   "id": "8a637ba6",
   "metadata": {},
   "outputs": [],
   "source": [
    "%%tab pytorch\n",
    "pool2d = nn.MaxPool2d((2, 3), stride=(2, 3), padding=(0, 1))\n",
    "pool2d(X)"
   ]
  },
  {
   "cell_type": "code",
   "execution_count": null,
   "id": "f44a7daf",
   "metadata": {},
   "outputs": [],
   "source": [
    "%%tab tensorflow\n",
    "paddings = tf.constant([[0, 0], [0, 0], [1, 1], [0, 0]])\n",
    "X_padded = tf.pad(X, paddings, \"CONSTANT\")\n",
    "\n",
    "pool2d = tf.keras.layers.MaxPool2D(pool_size=[2, 3], padding='valid',\n",
    "                                   strides=(2, 3))\n",
    "pool2d(X_padded)"
   ]
  },
  {
   "cell_type": "code",
   "execution_count": null,
   "id": "46d9bbcf",
   "metadata": {},
   "outputs": [],
   "source": [
    "%%tab jax\n",
    "\n",
    "X_padded = jnp.pad(X, ((0, 0), (0, 0), (1, 1), (0, 0)), mode='constant')\n",
    "nn.max_pool(X_padded, window_shape=(2, 3), strides=(2, 3), padding='VALID')"
   ]
  },
  {
   "cell_type": "markdown",
   "id": "2df3d982",
   "metadata": {},
   "source": [
    "## Multiple Channels\n",
    "\n",
    "When processing multi-channel input data,\n",
    "[**the pooling layer pools each input channel separately**],\n",
    "rather than summing the inputs up over channels\n",
    "as in a convolutional layer.\n",
    "This means that the number of output channels for the pooling layer\n",
    "is the same as the number of input channels.\n",
    "Below, we will concatenate tensors `X` and `X + 1`\n",
    "on the channel dimension to construct an input with two channels.\n",
    "\n",
    ":begin_tab:`tensorflow`\n",
    "Note that this will require a\n",
    "concatenation along the last dimension for TensorFlow due to the channels-last syntax.\n",
    ":end_tab:"
   ]
  },
  {
   "cell_type": "code",
   "execution_count": null,
   "id": "989765d7",
   "metadata": {},
   "outputs": [],
   "source": [
    "%%tab mxnet, pytorch\n",
    "X = d2l.concat((X, X + 1), 1)\n",
    "X"
   ]
  },
  {
   "cell_type": "code",
   "execution_count": null,
   "id": "f594ce49",
   "metadata": {},
   "outputs": [],
   "source": [
    "%%tab tensorflow, jax\n",
    "# Concatenate along `dim=3` due to channels-last syntax\n",
    "X = d2l.concat([X, X + 1], 3)\n",
    "X"
   ]
  },
  {
   "cell_type": "markdown",
   "id": "1ce16915",
   "metadata": {},
   "source": [
    "As we can see, the number of output channels is still two after pooling."
   ]
  },
  {
   "cell_type": "code",
   "execution_count": null,
   "id": "66ba7c5a",
   "metadata": {},
   "outputs": [],
   "source": [
    "%%tab mxnet\n",
    "pool2d = nn.MaxPool2D(3, padding=1, strides=2)\n",
    "pool2d(X)"
   ]
  },
  {
   "cell_type": "code",
   "execution_count": null,
   "id": "87a884d1",
   "metadata": {},
   "outputs": [],
   "source": [
    "%%tab pytorch\n",
    "pool2d = nn.MaxPool2d(3, padding=1, stride=2)\n",
    "pool2d(X)"
   ]
  },
  {
   "cell_type": "code",
   "execution_count": null,
   "id": "43422127",
   "metadata": {},
   "outputs": [],
   "source": [
    "%%tab tensorflow\n",
    "paddings = tf.constant([[0, 0], [1,0], [1,0], [0,0]])\n",
    "X_padded = tf.pad(X, paddings, \"CONSTANT\")\n",
    "pool2d = tf.keras.layers.MaxPool2D(pool_size=[3, 3], padding='valid',\n",
    "                                   strides=2)\n",
    "pool2d(X_padded)\n"
   ]
  },
  {
   "cell_type": "code",
   "execution_count": null,
   "id": "7c2490c8",
   "metadata": {},
   "outputs": [],
   "source": [
    "%%tab jax\n",
    "X_padded = jnp.pad(X, ((0, 0), (1, 0), (1, 0), (0, 0)), mode='constant')\n",
    "nn.max_pool(X_padded, window_shape=(3, 3), padding='VALID', strides=(2, 2))"
   ]
  },
  {
   "cell_type": "markdown",
   "id": "66213a98",
   "metadata": {},
   "source": [
    ":begin_tab:`tensorflow`\n",
    "Note that the output for the TensorFlow pooling appears at first glance to be different, however\n",
    "numerically the same results are presented as MXNet and PyTorch.\n",
    "The difference lies in the dimensionality, and reading the\n",
    "output vertically yields the same output as the other implementations.\n",
    ":end_tab:\n",
    "\n",
    "## Summary\n",
    "\n",
    "Pooling is an exceedingly simple operation. It does exactly what its name indicates, aggregate results over a window of values. All convolution semantics, such as strides and padding apply in the same way as they did previously. Note that pooling is indifferent to channels, i.e., it leaves the number of channels unchanged and it applies to each channel separately. Lastly, of the two popular pooling choices, max-pooling is preferable to average pooling, as it confers some degree of invariance to output. A popular choice is to pick a pooling window size of $2 \\times 2$ to quarter the spatial resolution of output. \n",
    "\n",
    "Note that there are many more ways of reducing resolution beyond pooling. For instance, in stochastic pooling :cite:`Zeiler.Fergus.2013` and fractional max-pooling :cite:`Graham.2014` aggregation is combined with randomization. This can slightly improve the accuracy in some cases. Lastly, as we will see later with the attention mechanism, there are more refined ways of aggregating over outputs, e.g., by using the alignment between a query and representation vectors. \n",
    "\n",
    "\n",
    "## Exercises\n",
    "\n",
    "1. Implement average pooling through a convolution. \n",
    "1. Prove that max-pooling cannot be implemented through a convolution alone. \n",
    "1. Max-pooling can be accomplished using ReLU operations, i.e., $\\textrm{ReLU}(x) = \\max(0, x)$.\n",
    "    1. Express $\\max (a, b)$ by using only ReLU operations.\n",
    "    1. Use this to implement max-pooling by means of convolutions and ReLU layers. \n",
    "    1. How many channels and layers do you need for a $2 \\times 2$ convolution? How many for a $3 \\times 3$ convolution?\n",
    "1. What is the computational cost of the pooling layer? Assume that the input to the pooling layer is of size $c\\times h\\times w$, the pooling window has a shape of $p_\\textrm{h}\\times p_\\textrm{w}$ with a padding of $(p_\\textrm{h}, p_\\textrm{w})$ and a stride of $(s_\\textrm{h}, s_\\textrm{w})$.\n",
    "1. Why do you expect max-pooling and average pooling to work differently?\n",
    "1. Do we need a separate minimum pooling layer? Can you replace it with another operation?\n",
    "1. We could use the softmax operation for pooling. Why might it not be so popular?\n",
    "\n",
    ":begin_tab:`mxnet`\n",
    "[Discussions](https://discuss.d2l.ai/t/71)\n",
    ":end_tab:\n",
    "\n",
    ":begin_tab:`pytorch`\n",
    "[Discussions](https://discuss.d2l.ai/t/72)\n",
    ":end_tab:\n",
    "\n",
    ":begin_tab:`tensorflow`\n",
    "[Discussions](https://discuss.d2l.ai/t/274)\n",
    ":end_tab:\n",
    "\n",
    ":begin_tab:`jax`\n",
    "[Discussions](https://discuss.d2l.ai/t/17999)\n",
    ":end_tab:"
   ]
  }
 ],
 "metadata": {},
 "nbformat": 4,
 "nbformat_minor": 5
}
