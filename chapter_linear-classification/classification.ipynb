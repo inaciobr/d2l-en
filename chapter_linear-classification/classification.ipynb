{
 "cells": [
  {
   "cell_type": "code",
   "execution_count": null,
   "id": "98bffe39",
   "metadata": {},
   "outputs": [],
   "source": [
    "%load_ext d2lbook.tab\n",
    "tab.interact_select(['mxnet', 'pytorch', 'tensorflow', 'jax'])"
   ]
  },
  {
   "cell_type": "markdown",
   "id": "0688f015",
   "metadata": {},
   "source": [
    "# The Base Classification Model\n",
    ":label:`sec_classification`\n",
    "\n",
    "You may have noticed that the implementations from scratch and the concise implementation using framework functionality were quite similar in the case of regression. The same is true for classification. Since many models in this book deal with classification, it is worth adding functionalities to support this setting specifically. This section provides a base class for classification models to simplify future code."
   ]
  },
  {
   "cell_type": "code",
   "execution_count": null,
   "id": "fc8e36e9",
   "metadata": {},
   "outputs": [],
   "source": [
    "%%tab mxnet\n",
    "from d2l import mxnet as d2l\n",
    "from mxnet import autograd, np, npx, gluon\n",
    "npx.set_np()"
   ]
  },
  {
   "cell_type": "code",
   "execution_count": null,
   "id": "962c07ce",
   "metadata": {},
   "outputs": [],
   "source": [
    "%%tab pytorch\n",
    "from d2l import torch as d2l\n",
    "import torch"
   ]
  },
  {
   "cell_type": "code",
   "execution_count": null,
   "id": "6b8dd9ed",
   "metadata": {},
   "outputs": [],
   "source": [
    "%%tab tensorflow\n",
    "from d2l import tensorflow as d2l\n",
    "import tensorflow as tf"
   ]
  },
  {
   "cell_type": "code",
   "execution_count": null,
   "id": "2796609f",
   "metadata": {},
   "outputs": [],
   "source": [
    "%%tab jax\n",
    "from d2l import jax as d2l\n",
    "from functools import partial\n",
    "from jax import numpy as jnp\n",
    "import jax\n",
    "import optax"
   ]
  },
  {
   "cell_type": "markdown",
   "id": "b0902b90",
   "metadata": {},
   "source": [
    "## The `Classifier` Class\n",
    "\n",
    ":begin_tab:`pytorch, mxnet, tensorflow`\n",
    "We define the `Classifier` class below. In the `validation_step` we report both the loss value and the classification accuracy on a validation batch. We draw an update for every `num_val_batches` batches. This has the benefit of generating the averaged loss and accuracy on the whole validation data. These average numbers are not exactly correct if the final batch contains fewer examples, but we ignore this minor difference to keep the code simple.\n",
    ":end_tab:\n",
    "\n",
    "\n",
    ":begin_tab:`jax`\n",
    "We define the `Classifier` class below. In the `validation_step` we report both the loss value and the classification accuracy on a validation batch. We draw an update for every `num_val_batches` batches. This has the benefit of generating the averaged loss and accuracy on the whole validation data. These average numbers are not exactly correct if the last batch contains fewer examples, but we ignore this minor difference to keep the code simple.\n",
    "\n",
    "We also redefine the `training_step` method for JAX since all models that will\n",
    "subclass `Classifier` later will have a loss that returns auxiliary data.\n",
    "This auxiliary data can be used for models with batch normalization\n",
    "(to be explained in :numref:`sec_batch_norm`), while in all other cases\n",
    "we will make the loss also return a placeholder (empty dictionary) to\n",
    "represent the auxiliary data.\n",
    ":end_tab:"
   ]
  },
  {
   "cell_type": "code",
   "execution_count": null,
   "id": "054a8cbd",
   "metadata": {},
   "outputs": [],
   "source": [
    "%%tab pytorch, mxnet, tensorflow\n",
    "class Classifier(d2l.Module):  #@save\n",
    "    \"\"\"The base class of classification models.\"\"\"\n",
    "    def validation_step(self, batch):\n",
    "        Y_hat = self(*batch[:-1])\n",
    "        self.plot('loss', self.loss(Y_hat, batch[-1]), train=False)\n",
    "        self.plot('acc', self.accuracy(Y_hat, batch[-1]), train=False)"
   ]
  },
  {
   "cell_type": "code",
   "execution_count": null,
   "id": "9aadd306",
   "metadata": {},
   "outputs": [],
   "source": [
    "%%tab jax\n",
    "class Classifier(d2l.Module):  #@save\n",
    "    \"\"\"The base class of classification models.\"\"\"\n",
    "    def training_step(self, params, batch, state):\n",
    "        # Here value is a tuple since models with BatchNorm layers require\n",
    "        # the loss to return auxiliary data\n",
    "        value, grads = jax.value_and_grad(\n",
    "            self.loss, has_aux=True)(params, batch[:-1], batch[-1], state)\n",
    "        l, _ = value\n",
    "        self.plot(\"loss\", l, train=True)\n",
    "        return value, grads\n",
    "\n",
    "    def validation_step(self, params, batch, state):\n",
    "        # Discard the second returned value. It is used for training models\n",
    "        # with BatchNorm layers since loss also returns auxiliary data\n",
    "        l, _ = self.loss(params, batch[:-1], batch[-1], state)\n",
    "        self.plot('loss', l, train=False)\n",
    "        self.plot('acc', self.accuracy(params, batch[:-1], batch[-1], state),\n",
    "                  train=False)"
   ]
  },
  {
   "cell_type": "markdown",
   "id": "f4402ba1",
   "metadata": {},
   "source": [
    "By default we use a stochastic gradient descent optimizer, operating on minibatches, just as we did in the context of linear regression."
   ]
  },
  {
   "cell_type": "code",
   "execution_count": null,
   "id": "aebdcec8",
   "metadata": {},
   "outputs": [],
   "source": [
    "%%tab mxnet\n",
    "@d2l.add_to_class(d2l.Module)  #@save\n",
    "def configure_optimizers(self):\n",
    "    params = self.parameters()\n",
    "    if isinstance(params, list):\n",
    "        return d2l.SGD(params, self.lr)\n",
    "    return gluon.Trainer(params, 'sgd', {'learning_rate': self.lr})"
   ]
  },
  {
   "cell_type": "code",
   "execution_count": null,
   "id": "456733ce",
   "metadata": {},
   "outputs": [],
   "source": [
    "%%tab pytorch\n",
    "@d2l.add_to_class(d2l.Module)  #@save\n",
    "def configure_optimizers(self):\n",
    "    return torch.optim.SGD(self.parameters(), lr=self.lr)"
   ]
  },
  {
   "cell_type": "code",
   "execution_count": null,
   "id": "c72c1afa",
   "metadata": {},
   "outputs": [],
   "source": [
    "%%tab tensorflow\n",
    "@d2l.add_to_class(d2l.Module)  #@save\n",
    "def configure_optimizers(self):\n",
    "    return tf.keras.optimizers.SGD(self.lr)"
   ]
  },
  {
   "cell_type": "code",
   "execution_count": null,
   "id": "41de8302",
   "metadata": {},
   "outputs": [],
   "source": [
    "%%tab jax\n",
    "@d2l.add_to_class(d2l.Module)  #@save\n",
    "def configure_optimizers(self):\n",
    "    return optax.sgd(self.lr)"
   ]
  },
  {
   "cell_type": "markdown",
   "id": "d8e1b095",
   "metadata": {},
   "source": [
    "## Accuracy\n",
    "\n",
    "Given the predicted probability distribution `y_hat`,\n",
    "we typically choose the class with the highest predicted probability\n",
    "whenever we must output a hard prediction.\n",
    "Indeed, many applications require that we make a choice.\n",
    "For instance, Gmail must categorize an email into \"Primary\", \"Social\", \"Updates\", \"Forums\", or \"Spam\".\n",
    "It might estimate probabilities internally,\n",
    "but at the end of the day it has to choose one among the classes.\n",
    "\n",
    "When predictions are consistent with the label class `y`, they are correct.\n",
    "The classification accuracy is the fraction of all predictions that are correct.\n",
    "Although it can be difficult to optimize accuracy directly (it is not differentiable),\n",
    "it is often the performance measure that we care about the most. It is often *the*\n",
    "relevant quantity in benchmarks. As such, we will nearly always report it when training classifiers.\n",
    "\n",
    "Accuracy is computed as follows.\n",
    "First, if `y_hat` is a matrix,\n",
    "we assume that the second dimension stores prediction scores for each class.\n",
    "We use `argmax` to obtain the predicted class by the index for the largest entry in each row.\n",
    "Then we [**compare the predicted class with the ground truth `y` elementwise.**]\n",
    "Since the equality operator `==` is sensitive to data types,\n",
    "we convert `y_hat`'s data type to match that of `y`.\n",
    "The result is a tensor containing entries of 0 (false) and 1 (true).\n",
    "Taking the sum yields the number of correct predictions."
   ]
  },
  {
   "cell_type": "code",
   "execution_count": 9,
   "id": "0ac96aae",
   "metadata": {
    "attributes": {
     "classes": [],
     "id": "",
     "n": "9"
    }
   },
   "outputs": [],
   "source": [
    "%%tab pytorch, mxnet, tensorflow\n",
    "@d2l.add_to_class(Classifier)  #@save\n",
    "def accuracy(self, Y_hat, Y, averaged=True):\n",
    "    \"\"\"Compute the number of correct predictions.\"\"\"\n",
    "    Y_hat = d2l.reshape(Y_hat, (-1, Y_hat.shape[-1]))\n",
    "    preds = d2l.astype(d2l.argmax(Y_hat, axis=1), Y.dtype)\n",
    "    compare = d2l.astype(preds == d2l.reshape(Y, -1), d2l.float32)\n",
    "    return d2l.reduce_mean(compare) if averaged else compare"
   ]
  },
  {
   "cell_type": "code",
   "execution_count": 9,
   "id": "29cb1fd4",
   "metadata": {
    "attributes": {
     "classes": [],
     "id": "",
     "n": "9"
    }
   },
   "outputs": [],
   "source": [
    "%%tab jax\n",
    "@d2l.add_to_class(Classifier)  #@save\n",
    "@partial(jax.jit, static_argnums=(0, 5))\n",
    "def accuracy(self, params, X, Y, state, averaged=True):\n",
    "    \"\"\"Compute the number of correct predictions.\"\"\"\n",
    "    Y_hat = state.apply_fn({'params': params,\n",
    "                            'batch_stats': state.batch_stats},  # BatchNorm Only\n",
    "                           *X)\n",
    "    Y_hat = d2l.reshape(Y_hat, (-1, Y_hat.shape[-1]))\n",
    "    preds = d2l.astype(d2l.argmax(Y_hat, axis=1), Y.dtype)\n",
    "    compare = d2l.astype(preds == d2l.reshape(Y, -1), d2l.float32)\n",
    "    return d2l.reduce_mean(compare) if averaged else compare"
   ]
  },
  {
   "cell_type": "code",
   "execution_count": 10,
   "id": "c3cd98ef",
   "metadata": {
    "attributes": {
     "classes": [],
     "id": "",
     "n": "10"
    }
   },
   "outputs": [],
   "source": [
    "%%tab mxnet\n",
    "\n",
    "@d2l.add_to_class(d2l.Module)  #@save\n",
    "def get_scratch_params(self):\n",
    "    params = []\n",
    "    for attr in dir(self):\n",
    "        a = getattr(self, attr)\n",
    "        if isinstance(a, np.ndarray):\n",
    "            params.append(a)\n",
    "        if isinstance(a, d2l.Module):\n",
    "            params.extend(a.get_scratch_params())\n",
    "    return params\n",
    "\n",
    "@d2l.add_to_class(d2l.Module)  #@save\n",
    "def parameters(self):\n",
    "    params = self.collect_params()\n",
    "    return params if isinstance(params, gluon.parameter.ParameterDict) and len(\n",
    "        params.keys()) else self.get_scratch_params()"
   ]
  },
  {
   "cell_type": "markdown",
   "id": "752c834d",
   "metadata": {},
   "source": [
    "## Summary\n",
    "\n",
    "Classification is a sufficiently common problem that it warrants its own convenience functions. Of central importance in classification is the *accuracy* of the classifier. Note that while we often care primarily about accuracy, we train classifiers to optimize a variety of other objectives for statistical and computational reasons. However, regardless of which loss function was minimized during training, it is useful to have a convenience method for assessing the accuracy of our classifier empirically. \n",
    "\n",
    "\n",
    "## Exercises\n",
    "\n",
    "1. Denote by $L_\\textrm{v}$ the validation loss, and let $L_\\textrm{v}^\\textrm{q}$ be its quick and dirty estimate computed by the loss function averaging in this section. Lastly, denote by $l_\\textrm{v}^\\textrm{b}$ the loss on the last minibatch. Express $L_\\textrm{v}$ in terms of $L_\\textrm{v}^\\textrm{q}$, $l_\\textrm{v}^\\textrm{b}$, and the sample and minibatch sizes.\n",
    "1. Show that the quick and dirty estimate $L_\\textrm{v}^\\textrm{q}$ is unbiased. That is, show that $E[L_\\textrm{v}] = E[L_\\textrm{v}^\\textrm{q}]$. Why would you still want to use $L_\\textrm{v}$ instead?\n",
    "1. Given a multiclass classification loss, denoting by $l(y,y')$ the penalty of estimating $y'$ when we see $y$ and given a probabilty $p(y \\mid x)$, formulate the rule for an optimal selection of $y'$. Hint: express the expected loss, using $l$ and $p(y \\mid x)$.\n",
    "\n",
    ":begin_tab:`mxnet`\n",
    "[Discussions](https://discuss.d2l.ai/t/6808)\n",
    ":end_tab:\n",
    "\n",
    ":begin_tab:`pytorch`\n",
    "[Discussions](https://discuss.d2l.ai/t/6809)\n",
    ":end_tab:\n",
    "\n",
    ":begin_tab:`tensorflow`\n",
    "[Discussions](https://discuss.d2l.ai/t/6810)\n",
    ":end_tab:\n",
    "\n",
    ":begin_tab:`jax`\n",
    "[Discussions](https://discuss.d2l.ai/t/17981)\n",
    ":end_tab:"
   ]
  }
 ],
 "metadata": {},
 "nbformat": 4,
 "nbformat_minor": 5
}
