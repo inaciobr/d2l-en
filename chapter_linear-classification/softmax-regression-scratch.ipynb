{
 "cells": [
  {
   "cell_type": "code",
   "execution_count": 1,
   "id": "e5664c09",
   "metadata": {
    "attributes": {
     "classes": [],
     "id": "",
     "n": "1"
    }
   },
   "outputs": [],
   "source": [
    "%load_ext d2lbook.tab\n",
    "tab.interact_select(['mxnet', 'pytorch', 'tensorflow', 'jax'])"
   ]
  },
  {
   "cell_type": "markdown",
   "id": "0233c5c4",
   "metadata": {},
   "source": [
    "# Softmax Regression Implementation from Scratch\n",
    ":label:`sec_softmax_scratch`\n",
    "\n",
    "Because softmax regression is so fundamental,\n",
    "we believe that you ought to know\n",
    "how to implement it yourself.\n",
    "Here, we limit ourselves to defining the\n",
    "softmax-specific aspects of the model\n",
    "and reuse the other components\n",
    "from our linear regression section,\n",
    "including the training loop."
   ]
  },
  {
   "cell_type": "code",
   "execution_count": null,
   "id": "1390addd",
   "metadata": {},
   "outputs": [],
   "source": [
    "%%tab mxnet\n",
    "from d2l import mxnet as d2l\n",
    "from mxnet import autograd, np, npx, gluon\n",
    "npx.set_np()"
   ]
  },
  {
   "cell_type": "code",
   "execution_count": null,
   "id": "5b53bab7",
   "metadata": {},
   "outputs": [],
   "source": [
    "%%tab pytorch\n",
    "from d2l import torch as d2l\n",
    "import torch"
   ]
  },
  {
   "cell_type": "code",
   "execution_count": null,
   "id": "4c7d8064",
   "metadata": {},
   "outputs": [],
   "source": [
    "%%tab tensorflow\n",
    "from d2l import tensorflow as d2l\n",
    "import tensorflow as tf"
   ]
  },
  {
   "cell_type": "code",
   "execution_count": null,
   "id": "eb3b124c",
   "metadata": {},
   "outputs": [],
   "source": [
    "%%tab jax\n",
    "from d2l import jax as d2l\n",
    "from flax import linen as nn\n",
    "import jax\n",
    "from jax import numpy as jnp\n",
    "from functools import partial"
   ]
  },
  {
   "cell_type": "markdown",
   "id": "a949c308",
   "metadata": {},
   "source": [
    "## The Softmax\n",
    "\n",
    "Let's begin with the most important part:\n",
    "the mapping from scalars to probabilities.\n",
    "For a refresher, recall the operation of the sum operator\n",
    "along specific dimensions in a tensor,\n",
    "as discussed in :numref:`subsec_lin-alg-reduction`\n",
    "and :numref:`subsec_lin-alg-non-reduction`.\n",
    "[**Given a matrix `X` we can sum over all elements (by default) or only\n",
    "over elements in the same axis.**]\n",
    "The `axis` variable lets us compute row and column sums:"
   ]
  },
  {
   "cell_type": "code",
   "execution_count": null,
   "id": "e1d34e19",
   "metadata": {},
   "outputs": [],
   "source": [
    "%%tab all\n",
    "X = d2l.tensor([[1.0, 2.0, 3.0], [4.0, 5.0, 6.0]])\n",
    "d2l.reduce_sum(X, 0, keepdims=True), d2l.reduce_sum(X, 1, keepdims=True)"
   ]
  },
  {
   "cell_type": "markdown",
   "id": "3ead81fb",
   "metadata": {},
   "source": [
    "Computing the softmax requires three steps:\n",
    "(i) exponentiation of each term;\n",
    "(ii) a sum over each row to compute the normalization constant for each example;\n",
    "(iii) division of each row by its normalization constant,\n",
    "ensuring that the result sums to 1:\n",
    "\n",
    "(**\n",
    "$$\\mathrm{softmax}(\\mathbf{X})_{ij} = \\frac{\\exp(\\mathbf{X}_{ij})}{\\sum_k \\exp(\\mathbf{X}_{ik})}.$$\n",
    "**)\n",
    "\n",
    "The (logarithm of the) denominator\n",
    "is called the (log) *partition function*.\n",
    "It was introduced in [statistical physics](https://en.wikipedia.org/wiki/Partition_function_(statistical_mechanics))\n",
    "to sum over all possible states in a thermodynamic ensemble.\n",
    "The implementation is straightforward:"
   ]
  },
  {
   "cell_type": "code",
   "execution_count": null,
   "id": "2f917354",
   "metadata": {},
   "outputs": [],
   "source": [
    "%%tab all\n",
    "def softmax(X):\n",
    "    X_exp = d2l.exp(X)\n",
    "    partition = d2l.reduce_sum(X_exp, 1, keepdims=True)\n",
    "    return X_exp / partition  # The broadcasting mechanism is applied here"
   ]
  },
  {
   "cell_type": "markdown",
   "id": "e007f744",
   "metadata": {},
   "source": [
    "For any input `X`, [**we turn each element\n",
    "into a nonnegative number.\n",
    "Each row sums up to 1,**]\n",
    "as is required for a probability. Caution: the code above is *not* robust against very large or very small arguments. While it is sufficient to illustrate what is happening, you should *not* use this code verbatim for any serious purpose. Deep learning frameworks have such protections built in and we will be using the built-in softmax going forward."
   ]
  },
  {
   "cell_type": "code",
   "execution_count": null,
   "id": "48af9053",
   "metadata": {},
   "outputs": [],
   "source": [
    "%%tab mxnet\n",
    "X = d2l.rand(2, 5)\n",
    "X_prob = softmax(X)\n",
    "X_prob, d2l.reduce_sum(X_prob, 1)"
   ]
  },
  {
   "cell_type": "code",
   "execution_count": null,
   "id": "784435d1",
   "metadata": {},
   "outputs": [],
   "source": [
    "%%tab tensorflow, pytorch\n",
    "X = d2l.rand((2, 5))\n",
    "X_prob = softmax(X)\n",
    "X_prob, d2l.reduce_sum(X_prob, 1)"
   ]
  },
  {
   "cell_type": "code",
   "execution_count": null,
   "id": "3df9b07f",
   "metadata": {},
   "outputs": [],
   "source": [
    "%%tab jax\n",
    "X = jax.random.uniform(jax.random.PRNGKey(d2l.get_seed()), (2, 5))\n",
    "X_prob = softmax(X)\n",
    "X_prob, d2l.reduce_sum(X_prob, 1)"
   ]
  },
  {
   "cell_type": "markdown",
   "id": "0892283c",
   "metadata": {},
   "source": [
    "## The Model\n",
    "\n",
    "We now have everything that we need\n",
    "to implement [**the softmax regression model.**]\n",
    "As in our linear regression example,\n",
    "each instance will be represented\n",
    "by a fixed-length vector.\n",
    "Since the raw data here consists\n",
    "of $28 \\times 28$ pixel images,\n",
    "[**we flatten each image,\n",
    "treating them as vectors of length 784.**]\n",
    "In later chapters, we will introduce\n",
    "convolutional neural networks,\n",
    "which exploit the spatial structure\n",
    "in a more satisfying way.\n",
    "\n",
    "\n",
    "In softmax regression,\n",
    "the number of outputs from our network\n",
    "should be equal to the number of classes.\n",
    "(**Since our dataset has 10 classes,\n",
    "our network has an output dimension of 10.**)\n",
    "Consequently, our weights constitute a $784 \\times 10$ matrix\n",
    "plus a $1 \\times 10$ row vector for the biases.\n",
    "As with linear regression,\n",
    "we initialize the weights `W`\n",
    "with Gaussian noise.\n",
    "The biases are initialized as zeros."
   ]
  },
  {
   "cell_type": "code",
   "execution_count": null,
   "id": "f8dd17ae",
   "metadata": {},
   "outputs": [],
   "source": [
    "%%tab mxnet\n",
    "class SoftmaxRegressionScratch(d2l.Classifier):\n",
    "    def __init__(self, num_inputs, num_outputs, lr, sigma=0.01):\n",
    "        super().__init__()\n",
    "        self.save_hyperparameters()\n",
    "        self.W = np.random.normal(0, sigma, (num_inputs, num_outputs))\n",
    "        self.b = np.zeros(num_outputs)\n",
    "        self.W.attach_grad()\n",
    "        self.b.attach_grad()\n",
    "\n",
    "    def collect_params(self):\n",
    "        return [self.W, self.b]"
   ]
  },
  {
   "cell_type": "code",
   "execution_count": null,
   "id": "9820e59b",
   "metadata": {},
   "outputs": [],
   "source": [
    "%%tab pytorch\n",
    "class SoftmaxRegressionScratch(d2l.Classifier):\n",
    "    def __init__(self, num_inputs, num_outputs, lr, sigma=0.01):\n",
    "        super().__init__()\n",
    "        self.save_hyperparameters()\n",
    "        self.W = torch.normal(0, sigma, size=(num_inputs, num_outputs),\n",
    "                              requires_grad=True)\n",
    "        self.b = torch.zeros(num_outputs, requires_grad=True)\n",
    "\n",
    "    def parameters(self):\n",
    "        return [self.W, self.b]"
   ]
  },
  {
   "cell_type": "code",
   "execution_count": null,
   "id": "b8d23420",
   "metadata": {},
   "outputs": [],
   "source": [
    "%%tab tensorflow\n",
    "class SoftmaxRegressionScratch(d2l.Classifier):\n",
    "    def __init__(self, num_inputs, num_outputs, lr, sigma=0.01):\n",
    "        super().__init__()\n",
    "        self.save_hyperparameters()\n",
    "        self.W = tf.random.normal((num_inputs, num_outputs), 0, sigma)\n",
    "        self.b = tf.zeros(num_outputs)\n",
    "        self.W = tf.Variable(self.W)\n",
    "        self.b = tf.Variable(self.b)"
   ]
  },
  {
   "cell_type": "code",
   "execution_count": null,
   "id": "b62ca3d7",
   "metadata": {},
   "outputs": [],
   "source": [
    "%%tab jax\n",
    "class SoftmaxRegressionScratch(d2l.Classifier):\n",
    "    num_inputs: int\n",
    "    num_outputs: int\n",
    "    lr: float\n",
    "    sigma: float = 0.01\n",
    "\n",
    "    def setup(self):\n",
    "        self.W = self.param('W', nn.initializers.normal(self.sigma),\n",
    "                            (self.num_inputs, self.num_outputs))\n",
    "        self.b = self.param('b', nn.initializers.zeros, self.num_outputs)"
   ]
  },
  {
   "cell_type": "markdown",
   "id": "57dd5923",
   "metadata": {},
   "source": [
    "The code below defines how the network\n",
    "maps each input to an output.\n",
    "Note that we flatten each $28 \\times 28$ pixel image in the batch\n",
    "into a vector using `reshape`\n",
    "before passing the data through our model."
   ]
  },
  {
   "cell_type": "code",
   "execution_count": null,
   "id": "d63be7ef",
   "metadata": {},
   "outputs": [],
   "source": [
    "%%tab all\n",
    "@d2l.add_to_class(SoftmaxRegressionScratch)\n",
    "def forward(self, X):\n",
    "    X = d2l.reshape(X, (-1, self.W.shape[0]))\n",
    "    return softmax(d2l.matmul(X, self.W) + self.b)"
   ]
  },
  {
   "cell_type": "markdown",
   "id": "5a97268e",
   "metadata": {},
   "source": [
    "## The Cross-Entropy Loss\n",
    "\n",
    "Next we need to implement the cross-entropy loss function\n",
    "(introduced in :numref:`subsec_softmax-regression-loss-func`).\n",
    "This may be the most common loss function\n",
    "in all of deep learning.\n",
    "At the moment, applications of deep learning\n",
    "easily cast as classification problems\n",
    "far outnumber those better treated as regression problems.\n",
    "\n",
    "Recall that cross-entropy takes the negative log-likelihood\n",
    "of the predicted probability assigned to the true label.\n",
    "For efficiency we avoid Python for-loops and use indexing instead.\n",
    "In particular, the one-hot encoding in $\\mathbf{y}$\n",
    "allows us to select the matching terms in $\\hat{\\mathbf{y}}$.\n",
    "\n",
    "To see this in action we [**create sample data `y_hat`\n",
    "with 2 examples of predicted probabilities over 3 classes and their corresponding labels `y`.**]\n",
    "The correct labels are $0$ and $2$ respectively (i.e., the first and third class).\n",
    "[**Using `y` as the indices of the probabilities in `y_hat`,**]\n",
    "we can pick out terms efficiently."
   ]
  },
  {
   "cell_type": "code",
   "execution_count": null,
   "id": "cfc8e2e2",
   "metadata": {},
   "outputs": [],
   "source": [
    "%%tab mxnet, pytorch, jax\n",
    "y = d2l.tensor([0, 2])\n",
    "y_hat = d2l.tensor([[0.1, 0.3, 0.6], [0.3, 0.2, 0.5]])\n",
    "y_hat[[0, 1], y]"
   ]
  },
  {
   "cell_type": "code",
   "execution_count": null,
   "id": "408330b9",
   "metadata": {},
   "outputs": [],
   "source": [
    "%%tab tensorflow\n",
    "y_hat = tf.constant([[0.1, 0.3, 0.6], [0.3, 0.2, 0.5]])\n",
    "y = tf.constant([0, 2])\n",
    "tf.boolean_mask(y_hat, tf.one_hot(y, depth=y_hat.shape[-1]))"
   ]
  },
  {
   "cell_type": "markdown",
   "id": "86b4932b",
   "metadata": {},
   "source": [
    ":begin_tab:`pytorch, mxnet, tensorflow`\n",
    "Now we can (**implement the cross-entropy loss function**) by averaging over the logarithms of the selected probabilities.\n",
    ":end_tab:\n",
    "\n",
    ":begin_tab:`jax`\n",
    "Now we can (**implement the cross-entropy loss function**) by averaging over the logarithms of the selected probabilities.\n",
    "\n",
    "Note that to make use of `jax.jit` to speed up JAX implementations, and\n",
    "to make sure `loss` is a pure function, the `cross_entropy` function is re-defined\n",
    "inside the `loss` to avoid usage of any global variables or functions\n",
    "which may render the `loss` function impure.\n",
    "We refer interested readers to the [JAX documentation](https://jax.readthedocs.io/en/latest/notebooks/Common_Gotchas_in_JAX.html#pure-functions) on `jax.jit` and pure functions.\n",
    ":end_tab:"
   ]
  },
  {
   "cell_type": "code",
   "execution_count": null,
   "id": "dcb030f6",
   "metadata": {},
   "outputs": [],
   "source": [
    "%%tab mxnet, pytorch, jax\n",
    "def cross_entropy(y_hat, y):\n",
    "    return -d2l.reduce_mean(d2l.log(y_hat[list(range(len(y_hat))), y]))\n",
    "\n",
    "cross_entropy(y_hat, y)"
   ]
  },
  {
   "cell_type": "code",
   "execution_count": null,
   "id": "da33f55a",
   "metadata": {},
   "outputs": [],
   "source": [
    "%%tab tensorflow\n",
    "def cross_entropy(y_hat, y):\n",
    "    return -tf.reduce_mean(tf.math.log(tf.boolean_mask(\n",
    "        y_hat, tf.one_hot(y, depth=y_hat.shape[-1]))))\n",
    "\n",
    "cross_entropy(y_hat, y)"
   ]
  },
  {
   "cell_type": "code",
   "execution_count": null,
   "id": "5dcec092",
   "metadata": {},
   "outputs": [],
   "source": [
    "%%tab pytorch, mxnet, tensorflow\n",
    "@d2l.add_to_class(SoftmaxRegressionScratch)\n",
    "def loss(self, y_hat, y):\n",
    "    return cross_entropy(y_hat, y)"
   ]
  },
  {
   "cell_type": "code",
   "execution_count": null,
   "id": "17bc91e4",
   "metadata": {},
   "outputs": [],
   "source": [
    "%%tab jax\n",
    "@d2l.add_to_class(SoftmaxRegressionScratch)\n",
    "@partial(jax.jit, static_argnums=(0))\n",
    "def loss(self, params, X, y, state):\n",
    "    def cross_entropy(y_hat, y):\n",
    "        return -d2l.reduce_mean(d2l.log(y_hat[list(range(len(y_hat))), y]))\n",
    "    y_hat = state.apply_fn({'params': params}, *X)\n",
    "    # The returned empty dictionary is a placeholder for auxiliary data,\n",
    "    # which will be used later (e.g., for batch norm)\n",
    "    return cross_entropy(y_hat, y), {}"
   ]
  },
  {
   "cell_type": "markdown",
   "id": "6abab7e0",
   "metadata": {},
   "source": [
    "## Training\n",
    "\n",
    "We reuse the `fit` method defined in :numref:`sec_linear_scratch` to [**train the model with 10 epochs.**]\n",
    "Note that the number of epochs (`max_epochs`),\n",
    "the minibatch size (`batch_size`),\n",
    "and learning rate (`lr`)\n",
    "are adjustable hyperparameters.\n",
    "That means that while these values are not\n",
    "learned during our primary training loop,\n",
    "they still influence the performance\n",
    "of our model, both vis-à-vis training\n",
    "and generalization performance.\n",
    "In practice you will want to choose these values\n",
    "based on the *validation* split of the data\n",
    "and then, ultimately, to evaluate your final model\n",
    "on the *test* split.\n",
    "As discussed in :numref:`subsec_generalization-model-selection`,\n",
    "we will regard the test data of Fashion-MNIST\n",
    "as the validation set, thus\n",
    "reporting validation loss and validation accuracy\n",
    "on this split."
   ]
  },
  {
   "cell_type": "code",
   "execution_count": null,
   "id": "b74ce575",
   "metadata": {},
   "outputs": [],
   "source": [
    "%%tab all\n",
    "data = d2l.FashionMNIST(batch_size=256)\n",
    "model = SoftmaxRegressionScratch(num_inputs=784, num_outputs=10, lr=0.1)\n",
    "trainer = d2l.Trainer(max_epochs=10)\n",
    "trainer.fit(model, data)"
   ]
  },
  {
   "cell_type": "markdown",
   "id": "eaf3e567",
   "metadata": {},
   "source": [
    "## Prediction\n",
    "\n",
    "Now that training is complete,\n",
    "our model is ready to [**classify some images.**]"
   ]
  },
  {
   "cell_type": "code",
   "execution_count": null,
   "id": "bda2134b",
   "metadata": {},
   "outputs": [],
   "source": [
    "%%tab all\n",
    "X, y = next(iter(data.val_dataloader()))\n",
    "if tab.selected('pytorch', 'mxnet', 'tensorflow'):\n",
    "    preds = d2l.argmax(model(X), axis=1)\n",
    "if tab.selected('jax'):\n",
    "    preds = d2l.argmax(model.apply({'params': trainer.state.params}, X), axis=1)\n",
    "preds.shape"
   ]
  },
  {
   "cell_type": "markdown",
   "id": "bfcd459e",
   "metadata": {},
   "source": [
    "We are more interested in the images we label *incorrectly*. We visualize them by\n",
    "comparing their actual labels\n",
    "(first line of text output)\n",
    "with the predictions from the model\n",
    "(second line of text output)."
   ]
  },
  {
   "cell_type": "code",
   "execution_count": null,
   "id": "0e57192f",
   "metadata": {},
   "outputs": [],
   "source": [
    "%%tab all\n",
    "wrong = d2l.astype(preds, y.dtype) != y\n",
    "X, y, preds = X[wrong], y[wrong], preds[wrong]\n",
    "labels = [a+'\\n'+b for a, b in zip(\n",
    "    data.text_labels(y), data.text_labels(preds))]\n",
    "data.visualize([X, y], labels=labels)"
   ]
  },
  {
   "cell_type": "markdown",
   "id": "d7a0f968",
   "metadata": {},
   "source": [
    "## Summary\n",
    "\n",
    "By now we are starting to get some experience\n",
    "with solving linear regression\n",
    "and classification problems.\n",
    "With it, we have reached what would arguably be\n",
    "the state of the art of 1960--1970s of statistical modeling.\n",
    "In the next section, we will show you how to leverage\n",
    "deep learning frameworks to implement this model\n",
    "much more efficiently.\n",
    "\n",
    "## Exercises\n",
    "\n",
    "1. In this section, we directly implemented the softmax function based on the mathematical definition of the softmax operation. As discussed in :numref:`sec_softmax` this can cause numerical instabilities.\n",
    "    1. Test whether `softmax` still works correctly if an input has a value of $100$.\n",
    "    1. Test whether `softmax` still works correctly if the largest of all inputs is smaller than $-100$.\n",
    "    1. Implement a fix by looking at the value relative to the largest entry in the argument.\n",
    "1. Implement a `cross_entropy` function that follows the definition of the cross-entropy loss function $\\sum_i y_i \\log \\hat{y}_i$.\n",
    "    1. Try it out in the code example of this section.\n",
    "    1. Why do you think it runs more slowly?\n",
    "    1. Should you use it? When would it make sense to?\n",
    "    1. What do you need to be careful of? Hint: consider the domain of the logarithm.\n",
    "1. Is it always a good idea to return the most likely label? For example, would you do this for medical diagnosis? How would you try to address this?\n",
    "1. Assume that we want to use softmax regression to predict the next word based on some features. What are some problems that might arise from a large vocabulary?\n",
    "1. Experiment with the hyperparameters of the code in this section. In particular:\n",
    "    1. Plot how the validation loss changes as you change the learning rate.\n",
    "    1. Do the validation and training loss change as you change the minibatch size? How large or small do you need to go before you see an effect?\n",
    "\n",
    "\n",
    ":begin_tab:`mxnet`\n",
    "[Discussions](https://discuss.d2l.ai/t/50)\n",
    ":end_tab:\n",
    "\n",
    ":begin_tab:`pytorch`\n",
    "[Discussions](https://discuss.d2l.ai/t/51)\n",
    ":end_tab:\n",
    "\n",
    ":begin_tab:`tensorflow`\n",
    "[Discussions](https://discuss.d2l.ai/t/225)\n",
    ":end_tab:\n",
    "\n",
    ":begin_tab:`jax`\n",
    "[Discussions](https://discuss.d2l.ai/t/17982)\n",
    ":end_tab:"
   ]
  }
 ],
 "metadata": {},
 "nbformat": 4,
 "nbformat_minor": 5
}
