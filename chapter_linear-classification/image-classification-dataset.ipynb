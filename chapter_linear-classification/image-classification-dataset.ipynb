{
 "cells": [
  {
   "cell_type": "code",
   "execution_count": null,
   "id": "af4d6a38",
   "metadata": {},
   "outputs": [],
   "source": [
    "%load_ext d2lbook.tab\n",
    "tab.interact_select(['mxnet', 'pytorch', 'tensorflow', 'jax'])"
   ]
  },
  {
   "cell_type": "markdown",
   "id": "485b9fee",
   "metadata": {},
   "source": [
    "# The Image Classification Dataset\n",
    ":label:`sec_fashion_mnist`\n",
    "\n",
    "(~~The MNIST dataset is one of the widely used dataset for image classification, while it is too simple as a benchmark dataset. We will use the similar, but more complex Fashion-MNIST dataset ~~)\n",
    "\n",
    "One widely used dataset for image classification is the  [MNIST dataset](https://en.wikipedia.org/wiki/MNIST_database) :cite:`LeCun.Bottou.Bengio.ea.1998` of handwritten digits. At the time of its release in the 1990s it posed a formidable challenge to most machine learning algorithms, consisting of 60,000 images of $28 \\times 28$ pixels resolution (plus a test dataset of 10,000 images). To put things into perspective, back in 1995, a Sun SPARCStation 5 with a whopping 64MB of RAM and a blistering 5 MFLOPs was considered state of the art equipment for machine learning at AT&T Bell Laboratories. Achieving high accuracy on digit recognition was a key component in automating letter sorting for the USPS in the 1990s. Deep networks such as LeNet-5 :cite:`LeCun.Jackel.Bottou.ea.1995`, support vector machines with invariances :cite:`Scholkopf.Burges.Vapnik.1996`, and tangent distance classifiers :cite:`Simard.LeCun.Denker.ea.1998` all could reach error rates below 1%. \n",
    "\n",
    "For over a decade, MNIST served as *the* point of reference for comparing machine learning algorithms. \n",
    "While it had a good run as a benchmark dataset,\n",
    "even simple models by today's standards achieve classification accuracy over 95%,\n",
    "making it unsuitable for distinguishing between strong models and weaker ones. Even more, the dataset allows for *very* high levels of accuracy, not typically seen in many classification problems. This skewed algorithmic development towards specific families of algorithms that can take advantage of clean datasets, such as active set methods and boundary-seeking active set algorithms.\n",
    "Today, MNIST serves as more of a sanity check than as a benchmark. ImageNet :cite:`Deng.Dong.Socher.ea.2009` poses a much \n",
    "more relevant challenge. Unfortunately, ImageNet is too large for many of the examples and illustrations in this book, as it would take too long to train to make the examples interactive. As a substitute we will focus our discussion in the coming sections on the qualitatively similar, but much smaller Fashion-MNIST\n",
    "dataset :cite:`Xiao.Rasul.Vollgraf.2017` which was released in 2017. It contains images of 10 categories of clothing at $28 \\times 28$ pixels resolution."
   ]
  },
  {
   "cell_type": "code",
   "execution_count": null,
   "id": "7fca1d4a",
   "metadata": {},
   "outputs": [],
   "source": [
    "%%tab mxnet\n",
    "%matplotlib inline\n",
    "import time\n",
    "from d2l import mxnet as d2l\n",
    "from mxnet import gluon, npx\n",
    "from mxnet.gluon.data.vision import transforms\n",
    "npx.set_np()\n",
    "\n",
    "d2l.use_svg_display()"
   ]
  },
  {
   "cell_type": "code",
   "execution_count": null,
   "id": "5df33af7",
   "metadata": {},
   "outputs": [],
   "source": [
    "%%tab pytorch\n",
    "%matplotlib inline\n",
    "import time\n",
    "from d2l import torch as d2l\n",
    "import torch\n",
    "import torchvision\n",
    "from torchvision import transforms\n",
    "\n",
    "d2l.use_svg_display()"
   ]
  },
  {
   "cell_type": "code",
   "execution_count": null,
   "id": "2bb3c4b7",
   "metadata": {},
   "outputs": [],
   "source": [
    "%%tab tensorflow\n",
    "%matplotlib inline\n",
    "import time\n",
    "from d2l import tensorflow as d2l\n",
    "import tensorflow as tf\n",
    "\n",
    "d2l.use_svg_display()"
   ]
  },
  {
   "cell_type": "code",
   "execution_count": null,
   "id": "2399341f",
   "metadata": {},
   "outputs": [],
   "source": [
    "%%tab jax\n",
    "%matplotlib inline\n",
    "from d2l import jax as d2l\n",
    "import jax\n",
    "from jax import numpy as jnp\n",
    "import numpy as np\n",
    "import time\n",
    "import tensorflow as tf\n",
    "import tensorflow_datasets as tfds\n",
    "\n",
    "d2l.use_svg_display()"
   ]
  },
  {
   "cell_type": "markdown",
   "id": "97277252",
   "metadata": {},
   "source": [
    "## Loading the Dataset\n",
    "\n",
    "Since the Fashion-MNIST dataset is so useful, all major frameworks provide preprocessed versions of it. We can  [**download and read it into memory using built-in framework utilities.**]"
   ]
  },
  {
   "cell_type": "code",
   "execution_count": null,
   "id": "4c41146f",
   "metadata": {},
   "outputs": [],
   "source": [
    "%%tab mxnet\n",
    "class FashionMNIST(d2l.DataModule):  #@save\n",
    "    \"\"\"The Fashion-MNIST dataset.\"\"\"\n",
    "    def __init__(self, batch_size=64, resize=(28, 28)):\n",
    "        super().__init__()\n",
    "        self.save_hyperparameters()\n",
    "        trans = transforms.Compose([transforms.Resize(resize),\n",
    "                                    transforms.ToTensor()])\n",
    "        self.train = gluon.data.vision.FashionMNIST(\n",
    "            train=True).transform_first(trans)\n",
    "        self.val = gluon.data.vision.FashionMNIST(\n",
    "            train=False).transform_first(trans)"
   ]
  },
  {
   "cell_type": "code",
   "execution_count": null,
   "id": "e4cc8f81",
   "metadata": {},
   "outputs": [],
   "source": [
    "%%tab pytorch\n",
    "class FashionMNIST(d2l.DataModule):  #@save\n",
    "    \"\"\"The Fashion-MNIST dataset.\"\"\"\n",
    "    def __init__(self, batch_size=64, resize=(28, 28)):\n",
    "        super().__init__()\n",
    "        self.save_hyperparameters()\n",
    "        trans = transforms.Compose([transforms.Resize(resize),\n",
    "                                    transforms.ToTensor()])\n",
    "        self.train = torchvision.datasets.FashionMNIST(\n",
    "            root=self.root, train=True, transform=trans, download=True)\n",
    "        self.val = torchvision.datasets.FashionMNIST(\n",
    "            root=self.root, train=False, transform=trans, download=True)"
   ]
  },
  {
   "cell_type": "code",
   "execution_count": null,
   "id": "cbc2d84b",
   "metadata": {},
   "outputs": [],
   "source": [
    "%%tab tensorflow, jax\n",
    "class FashionMNIST(d2l.DataModule):  #@save\n",
    "    \"\"\"The Fashion-MNIST dataset.\"\"\"\n",
    "    def __init__(self, batch_size=64, resize=(28, 28)):\n",
    "        super().__init__()\n",
    "        self.save_hyperparameters()\n",
    "        self.train, self.val = tf.keras.datasets.fashion_mnist.load_data()"
   ]
  },
  {
   "cell_type": "markdown",
   "id": "7496738c",
   "metadata": {},
   "source": [
    "Fashion-MNIST consists of images from 10 categories, each represented\n",
    "by 6000 images in the training dataset and by 1000 in the test dataset.\n",
    "A *test dataset* is used for evaluating model performance (it must not be used for training).\n",
    "Consequently the training set and the test set\n",
    "contain 60,000 and 10,000 images, respectively."
   ]
  },
  {
   "cell_type": "code",
   "execution_count": null,
   "id": "811b2f70",
   "metadata": {},
   "outputs": [],
   "source": [
    "%%tab mxnet, pytorch\n",
    "data = FashionMNIST(resize=(32, 32))\n",
    "len(data.train), len(data.val)"
   ]
  },
  {
   "cell_type": "code",
   "execution_count": null,
   "id": "bb17ad39",
   "metadata": {},
   "outputs": [],
   "source": [
    "%%tab tensorflow, jax\n",
    "data = FashionMNIST(resize=(32, 32))\n",
    "len(data.train[0]), len(data.val[0])"
   ]
  },
  {
   "cell_type": "markdown",
   "id": "718d9823",
   "metadata": {},
   "source": [
    "The images are grayscale and upscaled to $32 \\times 32$ pixels in resolution above. This is similar to the original MNIST dataset which consisted of (binary) black and white images. Note, though, that most modern image data has three channels (red, green, blue) and that hyperspectral images can have in excess of 100 channels (the HyMap sensor has 126 channels).\n",
    "By convention we store an image as a $c \\times h \\times w$ tensor, where $c$ is the number of color channels, $h$ is the height and $w$ is the width."
   ]
  },
  {
   "cell_type": "code",
   "execution_count": null,
   "id": "b1b09285",
   "metadata": {},
   "outputs": [],
   "source": [
    "%%tab all\n",
    "data.train[0][0].shape"
   ]
  },
  {
   "cell_type": "markdown",
   "id": "b59c76ad",
   "metadata": {},
   "source": [
    "[~~Two utility functions to visualize the dataset~~]\n",
    "\n",
    "The categories of Fashion-MNIST have human-understandable names. \n",
    "The following convenience method converts between numeric labels and their names."
   ]
  },
  {
   "cell_type": "code",
   "execution_count": null,
   "id": "a7c6b388",
   "metadata": {},
   "outputs": [],
   "source": [
    "%%tab all\n",
    "@d2l.add_to_class(FashionMNIST)  #@save\n",
    "def text_labels(self, indices):\n",
    "    \"\"\"Return text labels.\"\"\"\n",
    "    labels = ['t-shirt', 'trouser', 'pullover', 'dress', 'coat',\n",
    "              'sandal', 'shirt', 'sneaker', 'bag', 'ankle boot']\n",
    "    return [labels[int(i)] for i in indices]"
   ]
  },
  {
   "cell_type": "markdown",
   "id": "f4bcac47",
   "metadata": {},
   "source": [
    "## Reading a Minibatch\n",
    "\n",
    "To make our life easier when reading from the training and test sets,\n",
    "we use the built-in data iterator rather than creating one from scratch.\n",
    "Recall that at each iteration, a data iterator\n",
    "[**reads a minibatch of data with size `batch_size`.**]\n",
    "We also randomly shuffle the examples for the training data iterator."
   ]
  },
  {
   "cell_type": "code",
   "execution_count": null,
   "id": "97e4f005",
   "metadata": {},
   "outputs": [],
   "source": [
    "%%tab mxnet\n",
    "@d2l.add_to_class(FashionMNIST)  #@save\n",
    "def get_dataloader(self, train):\n",
    "    data = self.train if train else self.val\n",
    "    return gluon.data.DataLoader(data, self.batch_size, shuffle=train,\n",
    "                                 num_workers=self.num_workers)"
   ]
  },
  {
   "cell_type": "code",
   "execution_count": null,
   "id": "78fedd2d",
   "metadata": {},
   "outputs": [],
   "source": [
    "%%tab pytorch\n",
    "@d2l.add_to_class(FashionMNIST)  #@save\n",
    "def get_dataloader(self, train):\n",
    "    data = self.train if train else self.val\n",
    "    return torch.utils.data.DataLoader(data, self.batch_size, shuffle=train,\n",
    "                                       num_workers=self.num_workers)"
   ]
  },
  {
   "cell_type": "code",
   "execution_count": null,
   "id": "ccd7db09",
   "metadata": {},
   "outputs": [],
   "source": [
    "%%tab tensorflow, jax\n",
    "@d2l.add_to_class(FashionMNIST)  #@save\n",
    "def get_dataloader(self, train):\n",
    "    data = self.train if train else self.val\n",
    "    process = lambda X, y: (tf.expand_dims(X, axis=3) / 255,\n",
    "                            tf.cast(y, dtype='int32'))\n",
    "    resize_fn = lambda X, y: (tf.image.resize_with_pad(X, *self.resize), y)\n",
    "    shuffle_buf = len(data[0]) if train else 1\n",
    "    if tab.selected('tensorflow'):\n",
    "        return tf.data.Dataset.from_tensor_slices(process(*data)).batch(\n",
    "            self.batch_size).map(resize_fn).shuffle(shuffle_buf)\n",
    "    if tab.selected('jax'):\n",
    "        return tfds.as_numpy(\n",
    "            tf.data.Dataset.from_tensor_slices(process(*data)).batch(\n",
    "                self.batch_size).map(resize_fn).shuffle(shuffle_buf))"
   ]
  },
  {
   "cell_type": "markdown",
   "id": "7b03caae",
   "metadata": {},
   "source": [
    "To see how this works, let's load a minibatch of images by invoking the `train_dataloader` method. It contains 64 images."
   ]
  },
  {
   "cell_type": "code",
   "execution_count": null,
   "id": "8a108fd6",
   "metadata": {},
   "outputs": [],
   "source": [
    "%%tab all\n",
    "X, y = next(iter(data.train_dataloader()))\n",
    "print(X.shape, X.dtype, y.shape, y.dtype)"
   ]
  },
  {
   "cell_type": "markdown",
   "id": "b1ff9002",
   "metadata": {},
   "source": [
    "Let's look at the time it takes to read the images. Even though it is a built-in loader, it is not blazingly fast. Nonetheless, this is sufficient since processing images with a deep network takes quite a bit longer. Hence it is good enough that training a network will not be I/O constrained."
   ]
  },
  {
   "cell_type": "code",
   "execution_count": null,
   "id": "c5b2e5e1",
   "metadata": {},
   "outputs": [],
   "source": [
    "%%tab all\n",
    "tic = time.time()\n",
    "for X, y in data.train_dataloader():\n",
    "    continue\n",
    "f'{time.time() - tic:.2f} sec'"
   ]
  },
  {
   "cell_type": "markdown",
   "id": "c1fc713f",
   "metadata": {},
   "source": [
    "## Visualization\n",
    "\n",
    "We will often be using the Fashion-MNIST dataset. A convenience function `show_images` can be used to visualize the images and the associated labels. \n",
    "Skipping implementation details, we just show the interface below: we only need to know how to invoke `d2l.show_images` rather than how it works\n",
    "for such utility functions."
   ]
  },
  {
   "cell_type": "code",
   "execution_count": null,
   "id": "2939e3b1",
   "metadata": {},
   "outputs": [],
   "source": [
    "%%tab all\n",
    "def show_images(imgs, num_rows, num_cols, titles=None, scale=1.5):  #@save\n",
    "    \"\"\"Plot a list of images.\"\"\"\n",
    "    raise NotImplementedError"
   ]
  },
  {
   "cell_type": "markdown",
   "id": "a83a117b",
   "metadata": {},
   "source": [
    "Let's put it to good use. In general, it is a good idea to visualize and inspect data that you are training on. \n",
    "Humans are very good at spotting oddities and because of that, visualization serves as an additional safeguard against mistakes and errors in the design of experiments. Here are [**the images and their corresponding labels**] (in text)\n",
    "for the first few examples in the training dataset."
   ]
  },
  {
   "cell_type": "code",
   "execution_count": null,
   "id": "8c0b426c",
   "metadata": {},
   "outputs": [],
   "source": [
    "%%tab all\n",
    "@d2l.add_to_class(FashionMNIST)  #@save\n",
    "def visualize(self, batch, nrows=1, ncols=8, labels=[]):\n",
    "    X, y = batch\n",
    "    if not labels:\n",
    "        labels = self.text_labels(y)\n",
    "    if tab.selected('mxnet', 'pytorch'):\n",
    "        d2l.show_images(X.squeeze(1), nrows, ncols, titles=labels)\n",
    "    if tab.selected('tensorflow'):\n",
    "        d2l.show_images(tf.squeeze(X), nrows, ncols, titles=labels)\n",
    "    if tab.selected('jax'):\n",
    "        d2l.show_images(jnp.squeeze(X), nrows, ncols, titles=labels)\n",
    "\n",
    "batch = next(iter(data.val_dataloader()))\n",
    "data.visualize(batch)"
   ]
  },
  {
   "cell_type": "markdown",
   "id": "2ae131b5",
   "metadata": {},
   "source": [
    "We are now ready to work with the Fashion-MNIST dataset in the sections that follow.\n",
    "\n",
    "## Summary\n",
    "\n",
    "We now have a slightly more realistic dataset to use for classification. Fashion-MNIST is an apparel classification dataset consisting of images representing 10 categories. We will use this dataset in subsequent sections and chapters to evaluate various network designs, from a simple linear model to advanced residual networks. As we commonly do with images, we read them as a tensor of shape (batch size, number of channels, height, width). For now, we only have one channel as the images are grayscale (the visualization above uses a false color palette for improved visibility). \n",
    "\n",
    "Lastly, data iterators are a key component for efficient performance. For instance, we might use GPUs for efficient image decompression, video transcoding, or other preprocessing. Whenever possible, you should rely on well-implemented data iterators that exploit high-performance computing to avoid slowing down your training loop.\n",
    "\n",
    "\n",
    "## Exercises\n",
    "\n",
    "1. Does reducing the `batch_size` (for instance, to 1) affect the reading performance?\n",
    "1. The data iterator performance is important. Do you think the current implementation is fast enough? Explore various options to improve it. Use a system profiler to find out where the bottlenecks are.\n",
    "1. Check out the framework's online API documentation. Which other datasets are available?\n",
    "\n",
    ":begin_tab:`mxnet`\n",
    "[Discussions](https://discuss.d2l.ai/t/48)\n",
    ":end_tab:\n",
    "\n",
    ":begin_tab:`pytorch`\n",
    "[Discussions](https://discuss.d2l.ai/t/49)\n",
    ":end_tab:\n",
    "\n",
    ":begin_tab:`tensorflow`\n",
    "[Discussions](https://discuss.d2l.ai/t/224)\n",
    ":end_tab:\n",
    "\n",
    ":begin_tab:`jax`\n",
    "[Discussions](https://discuss.d2l.ai/t/17980)\n",
    ":end_tab:"
   ]
  }
 ],
 "metadata": {},
 "nbformat": 4,
 "nbformat_minor": 5
}
